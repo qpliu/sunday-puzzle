{
 "cells": [
  {
   "cell_type": "markdown",
   "id": "1453144a-51ac-4a8e-bb24-855a0abc9c40",
   "metadata": {},
   "source": [
    "[2024-04-26](https://thefiddler.substack.com/p/can-you-play-the-price-is-right-continuously) [Fiddler](https://thefiddler.substack.com)\n",
    "========\n",
    "If player A's sum is $a$, then player B spins once if the first spin is greater than $a$\n",
    "and spins twice otherwise.  Here, $s$ is B's first spin."
   ]
  },
  {
   "cell_type": "code",
   "execution_count": 1,
   "id": "b02c59d3-de01-4713-86ec-f9550b90a8bb",
   "metadata": {},
   "outputs": [
    {
     "data": {
      "text/html": [
       "<html>\\(\\displaystyle a \\ {\\mapsto}\\ -a^{2} + 1\\)</html>"
      ],
      "text/latex": [
       "$\\displaystyle a \\ {\\mapsto}\\ -a^{2} + 1$"
      ],
      "text/plain": [
       "a |--> -a^2 + 1"
      ]
     },
     "execution_count": 1,
     "metadata": {},
     "output_type": "execute_result"
    }
   ],
   "source": [
    "%display latex\n",
    "a = var('a')\n",
    "s = var('s')\n",
    "bwins(a) = (integral(1-a,s,0,a) + integral(1,s,a,1)).simplify_full()\n",
    "bwins"
   ]
  },
  {
   "cell_type": "markdown",
   "id": "fb5cf9d8-c316-4955-96fd-0ee14d6874e3",
   "metadata": {},
   "source": [
    "So A's strategy would be to spin once if the first spin is greater than some $x$, and spin\n",
    "twice otherwise.  Here, $a_1$ is A's first spin and $a_2$ is A's second spin."
   ]
  },
  {
   "cell_type": "code",
   "execution_count": 2,
   "id": "6f50de0f-896f-4a82-9adb-bbc5aed00e5c",
   "metadata": {},
   "outputs": [
    {
     "data": {
      "text/html": [
       "<html>\\(\\displaystyle x \\ {\\mapsto}\\ -\\frac{1}{12} \\, x^{4} - \\frac{1}{3} \\, x^{3} + \\frac{1}{3} \\, x + \\frac{1}{3}\\)</html>"
      ],
      "text/latex": [
       "$\\displaystyle x \\ {\\mapsto}\\ -\\frac{1}{12} \\, x^{4} - \\frac{1}{3} \\, x^{3} + \\frac{1}{3} \\, x + \\frac{1}{3}$"
      ],
      "text/plain": [
       "x |--> -1/12*x^4 - 1/3*x^3 + 1/3*x + 1/3"
      ]
     },
     "execution_count": 2,
     "metadata": {},
     "output_type": "execute_result"
    }
   ],
   "source": [
    "a_1, a_2, x = var('a_1 a_2 x')\n",
    "awins(x) = integral(integral(1-bwins(a_1+a_2),a_2,0,1-a_1),a_1,0,x) + integral(1-bwins(a_1),a_1,x,1)\n",
    "awins"
   ]
  },
  {
   "cell_type": "code",
   "execution_count": 3,
   "id": "d5695759-5cda-4cf6-b326-bc1448308bdf",
   "metadata": {},
   "outputs": [
    {
     "data": {
      "image/png": "[encoded data removed]",
      "text/plain": [
       "Graphics object consisting of 1 graphics primitive"
      ]
     },
     "execution_count": 3,
     "metadata": {},
     "output_type": "execute_result"
    }
   ],
   "source": [
    "plot(awins,x,0,1)"
   ]
  },
  {
   "cell_type": "markdown",
   "id": "baea3631-ff43-4d05-97b5-182175ce257a",
   "metadata": {},
   "source": [
    "This has a maximum when $x$ is somewhere between 0.4 and 0.6, so let $x_1$ be that $x$."
   ]
  },
  {
   "cell_type": "code",
   "execution_count": 4,
   "id": "db686925-d54b-4851-bc14-96d39ab21cf1",
   "metadata": {},
   "outputs": [
    {
     "data": {
      "text/html": [
       "<html>\\(\\displaystyle \\left[x = {\\left(\\frac{1}{2} i \\, \\sqrt{3} - \\frac{1}{2}\\right)}^{\\frac{1}{3}} + \\frac{1}{{\\left(\\frac{1}{2} i \\, \\sqrt{3} - \\frac{1}{2}\\right)}^{\\frac{1}{3}}} - 1\\right]\\)</html>"
      ],
      "text/latex": [
       "$\\displaystyle \\left[x = {\\left(\\frac{1}{2} i \\, \\sqrt{3} - \\frac{1}{2}\\right)}^{\\frac{1}{3}} + \\frac{1}{{\\left(\\frac{1}{2} i \\, \\sqrt{3} - \\frac{1}{2}\\right)}^{\\frac{1}{3}}} - 1\\right]$"
      ],
      "text/plain": [
       "[x == (1/2*I*sqrt(3) - 1/2)^(1/3) + 1/(1/2*I*sqrt(3) - 1/2)^(1/3) - 1]"
      ]
     },
     "execution_count": 4,
     "metadata": {},
     "output_type": "execute_result"
    }
   ],
   "source": [
    "assume(x, \"real\")\n",
    "solution = solve(diff(awins,x) == 0, x)\n",
    "solution"
   ]
  },
  {
   "cell_type": "code",
   "execution_count": 5,
   "id": "47d603b9-8b35-4c5a-9fc5-b82185092e44",
   "metadata": {},
   "outputs": [
    {
     "data": {
      "text/html": [
       "<html>\\(\\displaystyle 2 \\, \\cos\\left(\\frac{2}{9} \\, \\pi\\right) - 1\\)</html>"
      ],
      "text/latex": [
       "$\\displaystyle 2 \\, \\cos\\left(\\frac{2}{9} \\, \\pi\\right) - 1$"
      ],
      "text/plain": [
       "2*cos(2/9*pi) - 1"
      ]
     },
     "execution_count": 5,
     "metadata": {},
     "output_type": "execute_result"
    }
   ],
   "source": [
    "x_1 = solution[0].rhs().simplify_full()\n",
    "x_1"
   ]
  },
  {
   "cell_type": "code",
   "execution_count": 6,
   "id": "09f7789a-2623-44e9-ab39-7937cc695da2",
   "metadata": {},
   "outputs": [
    {
     "data": {
      "text/html": [
       "<html>\\(\\displaystyle 0.532088886237956\\)</html>"
      ],
      "text/latex": [
       "$\\displaystyle 0.532088886237956$"
      ],
      "text/plain": [
       "0.532088886237956"
      ]
     },
     "execution_count": 6,
     "metadata": {},
     "output_type": "execute_result"
    }
   ],
   "source": [
    "numerical_approx(x_1)"
   ]
  },
  {
   "cell_type": "markdown",
   "id": "f273fb13-fe2f-4912-8798-ed361cfbfa50",
   "metadata": {},
   "source": [
    "As expected, $x_1$ is between 0.4 and 0.6.  Now we can find the probability that A wins"
   ]
  },
  {
   "cell_type": "code",
   "execution_count": 7,
   "id": "15881c1b-5f27-4468-a1fd-bb68a9fe7904",
   "metadata": {},
   "outputs": [
    {
     "data": {
      "text/html": [
       "<html>\\(\\displaystyle -\\frac{4}{3} \\, \\cos\\left(\\frac{2}{9} \\, \\pi\\right)^{4} + 2 \\, \\cos\\left(\\frac{2}{9} \\, \\pi\\right)^{2} - \\frac{2}{3} \\, \\cos\\left(\\frac{2}{9} \\, \\pi\\right) + \\frac{1}{4}\\)</html>"
      ],
      "text/latex": [
       "$\\displaystyle -\\frac{4}{3} \\, \\cos\\left(\\frac{2}{9} \\, \\pi\\right)^{4} + 2 \\, \\cos\\left(\\frac{2}{9} \\, \\pi\\right)^{2} - \\frac{2}{3} \\, \\cos\\left(\\frac{2}{9} \\, \\pi\\right) + \\frac{1}{4}$"
      ],
      "text/plain": [
       "-4/3*cos(2/9*pi)^4 + 2*cos(2/9*pi)^2 - 2/3*cos(2/9*pi) + 1/4"
      ]
     },
     "execution_count": 7,
     "metadata": {},
     "output_type": "execute_result"
    }
   ],
   "source": [
    "awins(x_1).simplify_full()"
   ]
  },
  {
   "cell_type": "code",
   "execution_count": 8,
   "id": "2c2a492f-013f-4c6b-862f-0a1022560fa3",
   "metadata": {},
   "outputs": [
    {
     "data": {
      "text/html": [
       "<html>\\(\\displaystyle 0.453801867273976\\)</html>"
      ],
      "text/latex": [
       "$\\displaystyle 0.453801867273976$"
      ],
      "text/plain": [
       "0.453801867273976"
      ]
     },
     "execution_count": 8,
     "metadata": {},
     "output_type": "execute_result"
    }
   ],
   "source": [
    "numerical_approx(awins(x_1))"
   ]
  },
  {
   "cell_type": "markdown",
   "id": "697c1b1b-e083-466c-a75c-3e8e1daad353",
   "metadata": {},
   "source": [
    "So player A spins twice if the first spin is less than $x_1 \\approx 0.5321$ and has approximately a 45.38% chance of winning."
   ]
  },
  {
   "cell_type": "markdown",
   "id": "ebd97ae2-def3-4e11-b1d4-3ee0953c8bc8",
   "metadata": {},
   "source": [
    "Extra credit\n",
    "------------\n",
    "If player B wins, then what player C does is irrelevant, since player A loses in any case.\n",
    "\n",
    "If player B does not win, then player C's strategy is the same as player B's strategy in the\n",
    "two player case."
   ]
  },
  {
   "cell_type": "code",
   "execution_count": 9,
   "id": "32ac0e4e-7bb5-4248-9a4d-3b28e7cc4e96",
   "metadata": {},
   "outputs": [
    {
     "data": {
      "text/html": [
       "<html>\\(\\displaystyle a \\ {\\mapsto}\\ -a^{2} + 1\\)</html>"
      ],
      "text/latex": [
       "$\\displaystyle a \\ {\\mapsto}\\ -a^{2} + 1$"
      ],
      "text/plain": [
       "a |--> -a^2 + 1"
      ]
     },
     "execution_count": 9,
     "metadata": {},
     "output_type": "execute_result"
    }
   ],
   "source": [
    "cwins = bwins\n",
    "cwins"
   ]
  },
  {
   "cell_type": "markdown",
   "id": "f744b5d4-62f1-4356-9583-43086937c1e2",
   "metadata": {},
   "source": [
    "If player B's first spin is greater than the greater of player A's sum, $a$, and $x_1$,\n",
    "player B will spin once, and spin twice otherwise.\n",
    "\n",
    "First, consider the case where player A's sum is less than $x_1$,"
   ]
  },
  {
   "cell_type": "code",
   "execution_count": 10,
   "id": "e2077081-338c-4744-b4f1-945e1d78860d",
   "metadata": {},
   "outputs": [
    {
     "data": {
      "text/html": [
       "<html>\\(\\displaystyle a \\ {\\mapsto}\\ -{\\left(a - 1\\right)} a + \\frac{1}{2} \\, a^{2} - 2 \\, \\cos\\left(\\frac{2}{9} \\, \\pi\\right)^{2} - a + 2 \\, \\cos\\left(\\frac{2}{9} \\, \\pi\\right) + \\frac{1}{2}\\)</html>"
      ],
      "text/latex": [
       "$\\displaystyle a \\ {\\mapsto}\\ -{\\left(a - 1\\right)} a + \\frac{1}{2} \\, a^{2} - 2 \\, \\cos\\left(\\frac{2}{9} \\, \\pi\\right)^{2} - a + 2 \\, \\cos\\left(\\frac{2}{9} \\, \\pi\\right) + \\frac{1}{2}$"
      ],
      "text/plain": [
       "a |--> -(a - 1)*a + 1/2*a^2 - 2*cos(2/9*pi)^2 - a + 2*cos(2/9*pi) + 1/2"
      ]
     },
     "execution_count": 10,
     "metadata": {},
     "output_type": "execute_result"
    }
   ],
   "source": [
    "b_beats_a_lt(a) = integral(1-a,s,0,a) + integral(1-s,s,a,x_1) + integral(1,s,x_1,1)\n",
    "b_beats_a_lt"
   ]
  },
  {
   "cell_type": "markdown",
   "id": "c000db8f-6ea9-42e4-9773-7006f188a723",
   "metadata": {},
   "source": [
    "Then, consider the case where player A's sum is greater than $x_1$,"
   ]
  },
  {
   "cell_type": "code",
   "execution_count": 11,
   "id": "d687911a-0aaa-4973-8c53-94a9c6d66e4a",
   "metadata": {},
   "outputs": [
    {
     "data": {
      "text/html": [
       "<html>\\(\\displaystyle a \\ {\\mapsto}\\ -{\\left(a - 1\\right)} a - a + 1\\)</html>"
      ],
      "text/latex": [
       "$\\displaystyle a \\ {\\mapsto}\\ -{\\left(a - 1\\right)} a - a + 1$"
      ],
      "text/plain": [
       "a |--> -(a - 1)*a - a + 1"
      ]
     },
     "execution_count": 11,
     "metadata": {},
     "output_type": "execute_result"
    }
   ],
   "source": [
    "b_beats_a_gt(a) = integral(1-a,s,0,a) + integral(1,s,a,1)\n",
    "b_beats_a_gt"
   ]
  },
  {
   "cell_type": "markdown",
   "id": "6e4b4cba-80c8-48ec-ba54-cb1dcfb7a3d8",
   "metadata": {},
   "source": [
    "which is just the same $1-a^2$.\n",
    "\n",
    "So player A will spin once if the first spin is greater than some $x > x_1$ and twice otherwise,"
   ]
  },
  {
   "cell_type": "code",
   "execution_count": 12,
   "id": "1bc67afe-100d-40ba-b5f3-734ca67dfc4b",
   "metadata": {},
   "outputs": [
    {
     "data": {
      "text/html": [
       "<html>\\(\\displaystyle x \\ {\\mapsto}\\ -\\frac{1}{30} \\, x^{6} + \\frac{8}{3} \\, \\cos\\left(\\frac{2}{9} \\, \\pi\\right)^{6} - \\frac{1}{5} \\, x^{5} - 8 \\, \\cos\\left(\\frac{2}{9} \\, \\pi\\right)^{5} + 10 \\, \\cos\\left(\\frac{2}{9} \\, \\pi\\right)^{4} - \\frac{20}{3} \\, \\cos\\left(\\frac{2}{9} \\, \\pi\\right)^{3} + \\frac{5}{2} \\, \\cos\\left(\\frac{2}{9} \\, \\pi\\right)^{2} + \\frac{1}{5} \\, x - \\frac{1}{2} \\, \\cos\\left(\\frac{2}{9} \\, \\pi\\right) + \\frac{29}{120}\\)</html>"
      ],
      "text/latex": [
       "$\\displaystyle x \\ {\\mapsto}\\ -\\frac{1}{30} \\, x^{6} + \\frac{8}{3} \\, \\cos\\left(\\frac{2}{9} \\, \\pi\\right)^{6} - \\frac{1}{5} \\, x^{5} - 8 \\, \\cos\\left(\\frac{2}{9} \\, \\pi\\right)^{5} + 10 \\, \\cos\\left(\\frac{2}{9} \\, \\pi\\right)^{4} - \\frac{20}{3} \\, \\cos\\left(\\frac{2}{9} \\, \\pi\\right)^{3} + \\frac{5}{2} \\, \\cos\\left(\\frac{2}{9} \\, \\pi\\right)^{2} + \\frac{1}{5} \\, x - \\frac{1}{2} \\, \\cos\\left(\\frac{2}{9} \\, \\pi\\right) + \\frac{29}{120}$"
      ],
      "text/plain": [
       "x |--> -1/30*x^6 + 8/3*cos(2/9*pi)^6 - 1/5*x^5 - 8*cos(2/9*pi)^5 + 10*cos(2/9*pi)^4 - 20/3*cos(2/9*pi)^3 + 5/2*cos(2/9*pi)^2 + 1/5*x - 1/2*cos(2/9*pi) + 29/120"
      ]
     },
     "execution_count": 12,
     "metadata": {},
     "output_type": "execute_result"
    }
   ],
   "source": [
    "awins3(x) = integral((1-b_beats_a_gt(a_1))*(1-cwins(a_1)),a_1,x,1) \\\n",
    "   + integral(integral((1-b_beats_a_gt(a_1+a_2))*(1-cwins(a_1+a_2)),a_2,0,1-a_1),\n",
    "              a_1, x_1, x) \\\n",
    "   + integral(integral((1-b_beats_a_gt(a_1+a_2))*(1-cwins(a_1+a_2)),a_2,x_1-a_1,1-a_1) \\\n",
    "           + integral((1-b_beats_a_lt(a_1+a_2))*(1-cwins(a_1+a_2)),a_2,0,x_1-a_1) \\\n",
    "           , a_1, 0, x_1)\n",
    "awins3"
   ]
  },
  {
   "cell_type": "code",
   "execution_count": 13,
   "id": "0ae4e1a2-5ef6-451c-8db7-a5c9655b7333",
   "metadata": {},
   "outputs": [
    {
     "data": {
      "image/png": "[encoded data removed]",
      "text/plain": [
       "Graphics object consisting of 1 graphics primitive"
      ]
     },
     "execution_count": 13,
     "metadata": {},
     "output_type": "execute_result"
    }
   ],
   "source": [
    "plot(awins3,x,x_1,1)"
   ]
  },
  {
   "cell_type": "markdown",
   "id": "f4deae33-d793-4306-8105-0505cfbc4395",
   "metadata": {},
   "source": [
    "This has a maximum when $x = x_2$, which is somewhere between 0.6 and 0.7."
   ]
  },
  {
   "cell_type": "code",
   "execution_count": 14,
   "id": "a5b83f86-7cb7-40ed-a095-6b783d146923",
   "metadata": {},
   "outputs": [
    {
     "data": {
      "text/html": [
       "<html>\\(\\displaystyle \\left[0 = x^{5} + 5 \\, x^{4} - 1\\right]\\)</html>"
      ],
      "text/latex": [
       "$\\displaystyle \\left[0 = x^{5} + 5 \\, x^{4} - 1\\right]$"
      ],
      "text/plain": [
       "[0 == x^5 + 5*x^4 - 1]"
      ]
     },
     "execution_count": 14,
     "metadata": {},
     "output_type": "execute_result"
    }
   ],
   "source": [
    "solution = solve(diff(awins3,x) == 0, x)\n",
    "solution"
   ]
  },
  {
   "cell_type": "markdown",
   "id": "9c02b9ef-0749-4206-a94a-7da0418424d4",
   "metadata": {},
   "source": [
    "No closed form solution, so let's get a numerical answer."
   ]
  },
  {
   "cell_type": "code",
   "execution_count": 15,
   "id": "ee1e3a42-781f-4678-8c77-97a035d306e6",
   "metadata": {},
   "outputs": [
    {
     "data": {
      "text/html": [
       "<html>\\(\\displaystyle 0.6486549525490607\\)</html>"
      ],
      "text/latex": [
       "$\\displaystyle 0.6486549525490607$"
      ],
      "text/plain": [
       "0.6486549525490607"
      ]
     },
     "execution_count": 15,
     "metadata": {},
     "output_type": "execute_result"
    }
   ],
   "source": [
    "x_2 = find_root(solution[0],x_1,1)\n",
    "x_2"
   ]
  },
  {
   "cell_type": "code",
   "execution_count": 16,
   "id": "01647ce5-0cd6-42e8-896d-eea048843e67",
   "metadata": {},
   "outputs": [
    {
     "data": {
      "text/html": [
       "<html>\\(\\displaystyle 0.305226945070757\\)</html>"
      ],
      "text/latex": [
       "$\\displaystyle 0.305226945070757$"
      ],
      "text/plain": [
       "0.305226945070757"
      ]
     },
     "execution_count": 16,
     "metadata": {},
     "output_type": "execute_result"
    }
   ],
   "source": [
    "numerical_approx(awins3(x_2))"
   ]
  },
  {
   "cell_type": "markdown",
   "id": "02f1a6ce-70dd-434b-afe8-3eae4109c8f7",
   "metadata": {},
   "source": [
    "So player A spins twice if the first spin is less than $x_2 \\approx 0.6487$ and has approximately a 30.52% chance of winning."
   ]
  }
 ],
 "metadata": {
  "kernelspec": {
   "display_name": "SageMath 10.3",
   "language": "sage",
   "name": "sagemath-10.3"
  },
  "language_info": {
   "codemirror_mode": {
    "name": "ipython",
    "version": 3
   },
   "file_extension": ".py",
   "mimetype": "text/x-python",
   "name": "python",
   "nbconvert_exporter": "python",
   "pygments_lexer": "ipython3",
   "version": "3.11.8"
  }
 },
 "nbformat": 4,
 "nbformat_minor": 5
}
