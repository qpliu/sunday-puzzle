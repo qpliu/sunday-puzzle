{
 "cells": [
  {
   "cell_type": "markdown",
   "id": "2385d720-ed9e-4d09-92e9-1dd43a4ce9d8",
   "metadata": {},
   "source": [
    "2024-07-19 Fiddler\n",
    "==================\n",
    "Originally worked out [here](20240719.md).\n",
    "\n",
    "Let the speed of a solo rider be 1 with power 1.\n",
    "\n",
    "A rider in a group of $n$ would have power $p$ for $1/n$ of the time and power $p/2$ for $(n-1)/n$ of the time."
   ]
  },
  {
   "cell_type": "code",
   "execution_count": 1,
   "id": "e70a44a7-6c33-4458-8ca1-f044bf160d5d",
   "metadata": {},
   "outputs": [
    {
     "data": {
      "text/html": [
       "<html>\\(\\displaystyle \\left[p = \\frac{2 \\, n}{n + 1}\\right]\\)</html>"
      ],
      "text/latex": [
       "$\\displaystyle \\left[p = \\frac{2 \\, n}{n + 1}\\right]$"
      ],
      "text/plain": [
       "[p == 2*n/(n + 1)]"
      ]
     },
     "execution_count": 1,
     "metadata": {},
     "output_type": "execute_result"
    }
   ],
   "source": [
    "%display latex\n",
    "n, p = var('n p')\n",
    "p_avg = p/n + p/2*(n-1)/n\n",
    "solve(p_avg == 1,p)"
   ]
  },
  {
   "cell_type": "markdown",
   "id": "caeab971-f4b8-4d86-a4f8-3acea04f0969",
   "metadata": {},
   "source": [
    "So the speed of a group of $n$ is $\\frac{2n}{n+1}$."
   ]
  },
  {
   "cell_type": "code",
   "execution_count": 2,
   "id": "2d63e2f7-0529-4c2b-9b7d-633f5c345156",
   "metadata": {},
   "outputs": [],
   "source": [
    "speed = 2*n/(n+1)"
   ]
  },
  {
   "cell_type": "markdown",
   "id": "17433e89-1a60-4093-816d-9681bbba8aac",
   "metadata": {},
   "source": [
    "Calculate the distance a solo rider would travel in the time a group of 4 would travel 10km."
   ]
  },
  {
   "cell_type": "code",
   "execution_count": 3,
   "id": "e2aa24c5-616b-493d-b8d3-102c6384b663",
   "metadata": {},
   "outputs": [
    {
     "data": {
      "text/html": [
       "<html>\\(\\displaystyle 6.25000000000000\\)</html>"
      ],
      "text/latex": [
       "$\\displaystyle 6.25000000000000$"
      ],
      "text/plain": [
       "6.25000000000000"
      ]
     },
     "execution_count": 3,
     "metadata": {},
     "output_type": "execute_result"
    }
   ],
   "source": [
    "t = 10/speed(n=4)\n",
    "solo_dist = t*speed(n=1)\n",
    "numerical_approx(solo_dist)"
   ]
  },
  {
   "cell_type": "markdown",
   "id": "cba7f14f-8c8d-4a31-850a-34f40ed8ea86",
   "metadata": {},
   "source": [
    "The distance the group can make up is"
   ]
  },
  {
   "cell_type": "code",
   "execution_count": 4,
   "id": "a594fee7-cf48-4733-af5e-459305e8361e",
   "metadata": {},
   "outputs": [
    {
     "data": {
      "text/html": [
       "<html>\\(\\displaystyle 3.75000000000000\\)</html>"
      ],
      "text/latex": [
       "$\\displaystyle 3.75000000000000$"
      ],
      "text/plain": [
       "3.75000000000000"
      ]
     },
     "execution_count": 4,
     "metadata": {},
     "output_type": "execute_result"
    }
   ],
   "source": [
    "numerical_approx(10-solo_dist)"
   ]
  },
  {
   "cell_type": "markdown",
   "id": "f9bd273a-a4df-4664-8339-aa7896e24edc",
   "metadata": {},
   "source": [
    "Extra credit\n",
    "------------\n",
    "Let $N = 176$ be the size of the peloton and $m$ be the size of the breakaway.\n",
    "\n",
    "The ratio of the speed of the breakaway to the speed of the peloton is"
   ]
  },
  {
   "cell_type": "code",
   "execution_count": 5,
   "id": "13c0f184-0f3c-48b7-8e1b-32a907aac122",
   "metadata": {},
   "outputs": [
    {
     "data": {
      "text/html": [
       "<html>\\(\\displaystyle \\frac{{\\left(m - 177\\right)} m}{{\\left(m + 1\\right)} {\\left(m - 176\\right)}}\\)</html>"
      ],
      "text/latex": [
       "$\\displaystyle \\frac{{\\left(m - 177\\right)} m}{{\\left(m + 1\\right)} {\\left(m - 176\\right)}}$"
      ],
      "text/plain": [
       "(m - 177)*m/((m + 1)*(m - 176))"
      ]
     },
     "execution_count": 5,
     "metadata": {},
     "output_type": "execute_result"
    }
   ],
   "source": [
    "N = 176\n",
    "m = var('m')\n",
    "r = speed(n=m)/speed(n=N-m)\n",
    "r"
   ]
  },
  {
   "cell_type": "code",
   "execution_count": 6,
   "id": "94d18a03-829d-4f58-b84f-89de8d5f49bb",
   "metadata": {},
   "outputs": [
    {
     "data": {
      "image/png": "[encoded data removed]",
      "text/plain": [
       "Graphics object consisting of 1 graphics primitive"
      ]
     },
     "execution_count": 6,
     "metadata": {},
     "output_type": "execute_result"
    }
   ],
   "source": [
    "bar_chart([numerical_approx(r(m=i)) for i in range(0,21)])"
   ]
  },
  {
   "cell_type": "markdown",
   "id": "ec194e83-be6b-4816-ab3e-6c5c376df2a3",
   "metadata": {},
   "source": [
    "For the breakaway to succeed, its speed must be at least 10/11 the speed of the peloton"
   ]
  },
  {
   "cell_type": "code",
   "execution_count": 7,
   "id": "6af7f653-7900-4e01-85b6-3d59c9536ae2",
   "metadata": {},
   "outputs": [
    {
     "data": {
      "text/html": [
       "<html>\\(\\displaystyle \\left[m = -\\frac{1}{2} \\, \\sqrt{31769} + \\frac{197}{2}, m = \\frac{1}{2} \\, \\sqrt{31769} + \\frac{197}{2}\\right]\\)</html>"
      ],
      "text/latex": [
       "$\\displaystyle \\left[m = -\\frac{1}{2} \\, \\sqrt{31769} + \\frac{197}{2}, m = \\frac{1}{2} \\, \\sqrt{31769} + \\frac{197}{2}\\right]$"
      ],
      "text/plain": [
       "[m == -1/2*sqrt(31769) + 197/2, m == 1/2*sqrt(31769) + 197/2]"
      ]
     },
     "execution_count": 7,
     "metadata": {},
     "output_type": "execute_result"
    }
   ],
   "source": [
    "solve(r == 10/11, m)"
   ]
  },
  {
   "cell_type": "code",
   "execution_count": 8,
   "id": "a7db015b-30aa-4878-b857-f592c5aca562",
   "metadata": {},
   "outputs": [
    {
     "data": {
      "text/html": [
       "<html>\\(\\displaystyle \\left[9.38069793810098, 187.619302061899\\right]\\)</html>"
      ],
      "text/latex": [
       "$\\displaystyle \\left[9.38069793810098, 187.619302061899\\right]$"
      ],
      "text/plain": [
       "[9.38069793810098, 187.619302061899]"
      ]
     },
     "execution_count": 8,
     "metadata": {},
     "output_type": "execute_result"
    }
   ],
   "source": [
    "s = solve(r == 10/11, m); [numerical_approx(s[0].rhs()),numerical_approx(s[1].rhs())]"
   ]
  },
  {
   "cell_type": "code",
   "execution_count": 9,
   "id": "3799b61f-61e6-49c5-b4e5-5eb6fad80d78",
   "metadata": {},
   "outputs": [
    {
     "data": {
      "text/html": [
       "<html>\\(\\displaystyle \\left[\\left(8, \\frac{169}{189}, \\mathrm{False}\\right), \\left(9, \\frac{756}{835}, \\mathrm{False}\\right), \\left(10, \\frac{835}{913}, \\mathrm{True}\\right), \\left(11, \\frac{83}{90}, \\mathrm{True}\\right)\\right]\\)</html>"
      ],
      "text/latex": [
       "$\\displaystyle \\left[\\left(8, \\frac{169}{189}, \\mathrm{False}\\right), \\left(9, \\frac{756}{835}, \\mathrm{False}\\right), \\left(10, \\frac{835}{913}, \\mathrm{True}\\right), \\left(11, \\frac{83}{90}, \\mathrm{True}\\right)\\right]$"
      ],
      "text/plain": [
       "[(8, 169/189, False),\n",
       " (9, 756/835, False),\n",
       " (10, 835/913, True),\n",
       " (11, 83/90, True)]"
      ]
     },
     "execution_count": 9,
     "metadata": {},
     "output_type": "execute_result"
    }
   ],
   "source": [
    "[(i,r(m=i),numerical_approx(r(m=i)) > 10/11) for i in range(8,12)]"
   ]
  },
  {
   "cell_type": "markdown",
   "id": "8f17e5df-95ad-44bd-95d1-c9f59c519309",
   "metadata": {},
   "source": [
    "So there must be at least 10 riders in the breakaway for it to succeed."
   ]
  },
  {
   "cell_type": "markdown",
   "id": "ad01efb4-64ad-4d67-8815-3c95193c7b95",
   "metadata": {},
   "source": [
    "Making the rounds\n",
    "-----------------\n",
    "The sequence of 5s is"
   ]
  },
  {
   "cell_type": "code",
   "execution_count": 10,
   "id": "004c2d4f-071f-447e-8fb2-05d50a7fd6ca",
   "metadata": {},
   "outputs": [
    {
     "data": {
      "text/html": [
       "<html>\\(\\displaystyle \\frac{5}{9} \\cdot 10^{i} - \\frac{5}{9}\\)</html>"
      ],
      "text/latex": [
       "$\\displaystyle \\frac{5}{9} \\cdot 10^{i} - \\frac{5}{9}$"
      ],
      "text/plain": [
       "5/9*10^i - 5/9"
      ]
     },
     "execution_count": 10,
     "metadata": {},
     "output_type": "execute_result"
    }
   ],
   "source": [
    "i, j = var('i j')\n",
    "s = sum(5*10^j, j, 0, i-1)\n",
    "s"
   ]
  },
  {
   "cell_type": "code",
   "execution_count": 11,
   "id": "d72360de-e78a-4fcc-9b33-2c0634f5a560",
   "metadata": {},
   "outputs": [
    {
     "data": {
      "text/html": [
       "<html>\\(\\displaystyle \\left[5, 55, 555, 5555, 55555, 555555, 5555555, 55555555, 555555555\\right]\\)</html>"
      ],
      "text/latex": [
       "$\\displaystyle \\left[5, 55, 555, 5555, 55555, 555555, 5555555, 55555555, 555555555\\right]$"
      ],
      "text/plain": [
       "[5, 55, 555, 5555, 55555, 555555, 5555555, 55555555, 555555555]"
      ]
     },
     "execution_count": 11,
     "metadata": {},
     "output_type": "execute_result"
    }
   ],
   "source": [
    "[s(i=i) for i in range(1,10)]"
   ]
  },
  {
   "cell_type": "markdown",
   "id": "befa370d-52d6-461d-80fb-6e7178b6e353",
   "metadata": {},
   "source": [
    "So the progression is"
   ]
  },
  {
   "cell_type": "code",
   "execution_count": 12,
   "id": "191f1db5-e74d-4b16-bf5c-2d838f0d0800",
   "metadata": {},
   "outputs": [
    {
     "data": {
      "text/html": [
       "<html>\\(\\displaystyle \\sin\\left(\\frac{\\pi}{100 \\, {\\left(10^{i} - 1\\right)}}\\right)\\)</html>"
      ],
      "text/latex": [
       "$\\displaystyle \\sin\\left(\\frac{\\pi}{100 \\, {\\left(10^{i} - 1\\right)}}\\right)$"
      ],
      "text/plain": [
       "sin(1/100*pi/(10^i - 1))"
      ]
     },
     "execution_count": 12,
     "metadata": {},
     "output_type": "execute_result"
    }
   ],
   "source": [
    "progression = sin(pi/(180*s))\n",
    "progression"
   ]
  },
  {
   "cell_type": "code",
   "execution_count": 13,
   "id": "63ce76f5-e104-4277-9281-4601a309bce2",
   "metadata": {},
   "outputs": [
    {
     "data": {
      "text/html": [
       "<html>\\(\\displaystyle \\left[3.14162406983044 \\times 10^{-7}, 3.14159579518559 \\times 10^{-8}, 3.14159296774909 \\times 10^{-9}, 3.14159268500572 \\times 10^{-10}, 3.14159265673139 \\times 10^{-11}\\right]\\)</html>"
      ],
      "text/latex": [
       "$\\displaystyle \\left[3.14162406983044 \\times 10^{-7}, 3.14159579518559 \\times 10^{-8}, 3.14159296774909 \\times 10^{-9}, 3.14159268500572 \\times 10^{-10}, 3.14159265673139 \\times 10^{-11}\\right]$"
      ],
      "text/plain": [
       "[3.14162406983044e-7,\n",
       " 3.14159579518559e-8,\n",
       " 3.14159296774909e-9,\n",
       " 3.14159268500572e-10,\n",
       " 3.14159265673139e-11]"
      ]
     },
     "execution_count": 13,
     "metadata": {},
     "output_type": "execute_result"
    }
   ],
   "source": [
    "[numerical_approx(progression(i=i)) for i in range(5,10)]"
   ]
  },
  {
   "cell_type": "code",
   "execution_count": 14,
   "id": "477b4283-8108-47a4-9bcb-d14ff935bdd4",
   "metadata": {},
   "outputs": [
    {
     "data": {
      "text/html": [
       "<html>\\(\\displaystyle -\\sin\\left(\\frac{\\pi x}{100 \\, {\\left(x - 1\\right)}}\\right)\\)</html>"
      ],
      "text/latex": [
       "$\\displaystyle -\\sin\\left(\\frac{\\pi x}{100 \\, {\\left(x - 1\\right)}}\\right)$"
      ],
      "text/plain": [
       "-sin(1/100*pi*x/(x - 1))"
      ]
     },
     "execution_count": 14,
     "metadata": {},
     "output_type": "execute_result"
    }
   ],
   "source": [
    "progression.substitute(10^i==1/x).simplify_full()"
   ]
  },
  {
   "cell_type": "code",
   "execution_count": 15,
   "id": "bed97d8c-c35a-4ee3-a38a-72fcc93e6e89",
   "metadata": {},
   "outputs": [
    {
     "data": {
      "text/html": [
       "<html>\\(\\displaystyle {(\\frac{1}{100} \\, \\pi)} x + {(\\frac{1}{100} \\, \\pi)} x^{2} + {(\\frac{1}{100} \\, \\pi - \\frac{1}{6000000} \\, \\pi^{3})} x^{3} + \\mathcal{O}\\left(x^{4}\\right)\\)</html>"
      ],
      "text/latex": [
       "$\\displaystyle {(\\frac{1}{100} \\, \\pi)} x + {(\\frac{1}{100} \\, \\pi)} x^{2} + {(\\frac{1}{100} \\, \\pi - \\frac{1}{6000000} \\, \\pi^{3})} x^{3} + \\mathcal{O}\\left(x^{4}\\right)$"
      ],
      "text/plain": [
       "(1/100*pi)*x + (1/100*pi)*x^2 + (1/100*pi - 1/6000000*pi^3)*x^3 + Order(x^4)"
      ]
     },
     "execution_count": 15,
     "metadata": {},
     "output_type": "execute_result"
    }
   ],
   "source": [
    "progression.substitute(10^i==1/x).simplify_full().series(x,4)"
   ]
  },
  {
   "cell_type": "code",
   "execution_count": 16,
   "id": "6bc592c8-8cfe-4f54-90e4-a66ada1926c1",
   "metadata": {},
   "outputs": [
    {
     "data": {
      "text/html": [
       "<html>\\(\\displaystyle \\frac{\\pi}{100 \\cdot 10^{i}} + \\frac{\\pi}{100 \\cdot 10^{2 \\, i}} + \\frac{60000 \\, \\pi - \\pi^{3}}{6000000 \\cdot 10^{3 \\, i}}\\)</html>"
      ],
      "text/latex": [
       "$\\displaystyle \\frac{\\pi}{100 \\cdot 10^{i}} + \\frac{\\pi}{100 \\cdot 10^{2 \\, i}} + \\frac{60000 \\, \\pi - \\pi^{3}}{6000000 \\cdot 10^{3 \\, i}}$"
      ],
      "text/plain": [
       "1/100*pi/10^i + 1/100*pi/10^(2*i) + 1/6000000*(60000*pi - pi^3)/10^(3*i)"
      ]
     },
     "execution_count": 16,
     "metadata": {},
     "output_type": "execute_result"
    }
   ],
   "source": [
    "progression.substitute(10^i==1/x).simplify_full().series(x,4).substitute(x==1/10^i)"
   ]
  },
  {
   "cell_type": "markdown",
   "id": "606ca6f4-bba0-47c5-b046-876ca3a236eb",
   "metadata": {},
   "source": [
    "So the $i$th term in the progression is approaches $\\pi/10^{i+2}$ for large $i$."
   ]
  }
 ],
 "metadata": {
  "kernelspec": {
   "display_name": "SageMath 10.3",
   "language": "sage",
   "name": "sagemath-10.3"
  },
  "language_info": {
   "codemirror_mode": {
    "name": "ipython",
    "version": 3
   },
   "file_extension": ".py",
   "mimetype": "text/x-python",
   "name": "python",
   "nbconvert_exporter": "python",
   "pygments_lexer": "ipython3",
   "version": "3.11.8"
  }
 },
 "nbformat": 4,
 "nbformat_minor": 5
}
