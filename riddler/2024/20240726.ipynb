{
 "cells": [
  {
   "cell_type": "markdown",
   "id": "d6443754-9c79-456a-86c2-7212967e5305",
   "metadata": {},
   "source": [
    "[2024-07-26 Fiddler](https://thefiddler.substack.com/p/can-you-even-the-odds)\n",
    "====================\n",
    "Let $w$ be your probability of winning when it's your turn to roll.  Consider the AB|AB|AB order of play."
   ]
  },
  {
   "cell_type": "markdown",
   "id": "1fee46ad-a881-4f4f-949a-da9129350f49",
   "metadata": {},
   "source": [
    "Let $p = 1/6$ be the probability of winning a roll."
   ]
  },
  {
   "cell_type": "code",
   "execution_count": 1,
   "id": "704218d8-1e74-49bc-bd72-2fa203819914",
   "metadata": {},
   "outputs": [
    {
     "data": {
      "text/html": [
       "<html>\\(\\displaystyle w = {\\left(p - 1\\right)} {\\left(w - 1\\right)} + p\\)</html>"
      ],
      "text/latex": [
       "$\\displaystyle w = {\\left(p - 1\\right)} {\\left(w - 1\\right)} + p$"
      ],
      "text/plain": [
       "w == (p - 1)*(w - 1) + p"
      ]
     },
     "execution_count": 1,
     "metadata": {},
     "output_type": "execute_result"
    }
   ],
   "source": [
    "%display latex\n",
    "w, p = var('w p')\n",
    "eqn1 = w == p + (1-p)*(1-w)\n",
    "eqn1"
   ]
  },
  {
   "cell_type": "code",
   "execution_count": 2,
   "id": "f149836e-16d1-4f0b-8e1c-b618915586cc",
   "metadata": {},
   "outputs": [
    {
     "data": {
      "text/html": [
       "<html>\\(\\displaystyle \\left[w = -\\frac{1}{p - 2}\\right]\\)</html>"
      ],
      "text/latex": [
       "$\\displaystyle \\left[w = -\\frac{1}{p - 2}\\right]$"
      ],
      "text/plain": [
       "[w == -1/(p - 2)]"
      ]
     },
     "execution_count": 2,
     "metadata": {},
     "output_type": "execute_result"
    }
   ],
   "source": [
    "solve(eqn1, w)"
   ]
  },
  {
   "cell_type": "code",
   "execution_count": 3,
   "id": "ea4c802e-2079-4206-a5f6-c3abfd446629",
   "metadata": {},
   "outputs": [
    {
     "data": {
      "text/html": [
       "<html>\\(\\displaystyle 0.545454545454545\\)</html>"
      ],
      "text/latex": [
       "$\\displaystyle 0.545454545454545$"
      ],
      "text/plain": [
       "0.545454545454545"
      ]
     },
     "execution_count": 3,
     "metadata": {},
     "output_type": "execute_result"
    }
   ],
   "source": [
    "numerical_approx(solve(eqn1,w)[0].rhs()(p=1/6))"
   ]
  },
  {
   "cell_type": "markdown",
   "id": "42f4665c-d945-43ba-834e-d06670d5479e",
   "metadata": {},
   "source": [
    "So player A will win approximately 54.55% of the time.\n",
    "\n",
    "Now consider the AB|BA|AB order of play.  Consider what happens if the first roll does not win."
   ]
  },
  {
   "cell_type": "code",
   "execution_count": 4,
   "id": "f05f052e-9c7d-4068-8503-219b12a0d7b6",
   "metadata": {},
   "outputs": [
    {
     "data": {
      "text/html": [
       "<html>\\(\\displaystyle w = -{\\left({\\left(p - 1\\right)} {\\left(w - 1\\right)} + p\\right)} {\\left(p - 1\\right)} + p\\)</html>"
      ],
      "text/latex": [
       "$\\displaystyle w = -{\\left({\\left(p - 1\\right)} {\\left(w - 1\\right)} + p\\right)} {\\left(p - 1\\right)} + p$"
      ],
      "text/plain": [
       "w == -((p - 1)*(w - 1) + p)*(p - 1) + p"
      ]
     },
     "execution_count": 4,
     "metadata": {},
     "output_type": "execute_result"
    }
   ],
   "source": [
    "eqn2 = w == p + (1-p)*(p + (1-p)*(1-w))\n",
    "eqn2"
   ]
  },
  {
   "cell_type": "code",
   "execution_count": 5,
   "id": "79ce80d8-e7b8-4d7f-865d-de6b4d08c9d9",
   "metadata": {},
   "outputs": [
    {
     "data": {
      "text/html": [
       "<html>\\(\\displaystyle \\left[w = \\frac{1}{p^{2} - 2 \\, p + 2}\\right]\\)</html>"
      ],
      "text/latex": [
       "$\\displaystyle \\left[w = \\frac{1}{p^{2} - 2 \\, p + 2}\\right]$"
      ],
      "text/plain": [
       "[w == (1/(p^2 - 2*p + 2))]"
      ]
     },
     "execution_count": 5,
     "metadata": {},
     "output_type": "execute_result"
    }
   ],
   "source": [
    "solve(eqn2, w)"
   ]
  },
  {
   "cell_type": "markdown",
   "id": "2158723c-6f5b-4f97-a790-c67cffc7cc1e",
   "metadata": {},
   "source": [
    "Now, add in the first roll."
   ]
  },
  {
   "cell_type": "code",
   "execution_count": 6,
   "id": "86b17ed5-960d-465a-8ef5-4b257a6408de",
   "metadata": {},
   "outputs": [
    {
     "data": {
      "text/html": [
       "<html>\\(\\displaystyle {\\left(p - 1\\right)} {\\left(\\frac{1}{p^{2} - 2 \\, p + 2} - 1\\right)} + p\\)</html>"
      ],
      "text/latex": [
       "$\\displaystyle {\\left(p - 1\\right)} {\\left(\\frac{1}{p^{2} - 2 \\, p + 2} - 1\\right)} + p$"
      ],
      "text/plain": [
       "(p - 1)*(1/(p^2 - 2*p + 2) - 1) + p"
      ]
     },
     "execution_count": 6,
     "metadata": {},
     "output_type": "execute_result"
    }
   ],
   "source": [
    "w_after_first_roll = solve(eqn2, w)[0].rhs()\n",
    "w_abba = p + (1-p)*(1-w_after_first_roll)\n",
    "w_abba"
   ]
  },
  {
   "cell_type": "code",
   "execution_count": 7,
   "id": "f17f366e-0855-479f-983f-04ef0fd85f59",
   "metadata": {},
   "outputs": [
    {
     "data": {
      "text/html": [
       "<html>\\(\\displaystyle 0.508196721311475\\)</html>"
      ],
      "text/latex": [
       "$\\displaystyle 0.508196721311475$"
      ],
      "text/plain": [
       "0.508196721311475"
      ]
     },
     "execution_count": 7,
     "metadata": {},
     "output_type": "execute_result"
    }
   ],
   "source": [
    "numerical_approx(w_abba(p=1/6))"
   ]
  },
  {
   "cell_type": "markdown",
   "id": "068d2881-1fc3-4d25-9c91-62fbcd60a84d",
   "metadata": {},
   "source": [
    "So player A will win approximately 50.82% of the time, which is fairer than AB|AB|AB."
   ]
  },
  {
   "cell_type": "markdown",
   "id": "a69623eb-8d34-40b8-8bdf-5a5986b1a832",
   "metadata": {},
   "source": [
    "[Simulations](20240726.go) agree:\n",
    "\n",
    "    $ go run 20240726.go\n",
    "    AB 5454278/10000000 0.545428\n",
    "    ABBA 5083593/10000000 0.508359\n",
    "    Thue-Morse 5016187/10000000 0.501619\n",
    "    Round 1: A\n",
    "    Round 2: B\n",
    "    Round 3: BA\n",
    "    Round 4: BAAB\n",
    "    Round 5: BAABABBA\n",
    "    Round 6: BAABABBAABBABAAB"
   ]
  },
  {
   "cell_type": "markdown",
   "id": "dddedca5-e41a-4d6e-b28a-c2023db318e4",
   "metadata": {},
   "source": [
    "Extra credit\n",
    "------------"
   ]
  },
  {
   "cell_type": "markdown",
   "id": "386e5970-94ae-4a6f-af72-316ab945ff0b",
   "metadata": {},
   "source": [
    "Let $W(n)$ be player A's probability of winning in round $n$, and $L(n)$ be player A's probability of losing in round $n$.\n",
    "\n",
    "$$\n",
    "\\begin{aligned}\n",
    "    W(1) &= p \\\\\n",
    "    L(1) &= 0 \\\\\n",
    "    W(2) &= 0 \\\\\n",
    "    L(2) &= p \\\\\n",
    "\\end{aligned}\n",
    "$$\n",
    "\n",
    "For $n \\ge 3$, the first half of the round is the previous round, and the second half the round is\n",
    "the previous round reversed, giving the recurrence relation\n",
    "$$\n",
    "\\begin{aligned}\n",
    "    W(n+1) &= W(n) + (1-W(n)-L(n))L(n) \\\\\n",
    "    L(n+1) &= L(n) + (1-W(n)-L(n))W(n) \\\\\n",
    "\\end{aligned}\n",
    "$$"
   ]
  },
  {
   "cell_type": "code",
   "execution_count": 8,
   "id": "3292daf9-504e-446c-af7b-8baa64247fc2",
   "metadata": {},
   "outputs": [],
   "source": [
    "def W(n):\n",
    "    if n == 1:\n",
    "        return p\n",
    "    elif n == 2:\n",
    "        return 0\n",
    "    else:\n",
    "        return W(n-1) + (1-W(n-1)-L(n-1))*L(n-1)\n",
    "def L(n):\n",
    "    if n == 1:\n",
    "        return 0\n",
    "    elif n == 2:\n",
    "        return p\n",
    "    else:\n",
    "        return L(n-1) + (1-W(n-1)-L(n-1))*W(n-1)"
   ]
  },
  {
   "cell_type": "code",
   "execution_count": 9,
   "id": "d072f271-47bb-4224-a024-a7017bb45b9d",
   "metadata": {},
   "outputs": [],
   "source": [
    "def sumW(maxN,n=1):\n",
    "    if n >= maxN:\n",
    "        return W(n)\n",
    "    else:\n",
    "        return W(n) + (1-W(n)-L(n))*sumW(maxN,n+1)"
   ]
  },
  {
   "cell_type": "code",
   "execution_count": 10,
   "id": "d6e53f09-7554-4964-a82e-41a2973ced4b",
   "metadata": {},
   "outputs": [
    {
     "data": {
      "text/html": [
       "<html>\\(\\displaystyle \\left[p, p, -{\\left(p^{2} - p + 1\\right)} {\\left(p - 2\\right)} p, {\\left(p^{3} - 3 \\, p^{2} + 2 \\, p - 1\\right)} {\\left(p^{2} - 2 \\, p + 2\\right)} {\\left(p - 2\\right)} p, -{\\left(p^{8} - 7 \\, p^{7} + 21 \\, p^{6} - 36 \\, p^{5} + 39 \\, p^{4} - 28 \\, p^{3} + 14 \\, p^{2} - 4 \\, p + 1\\right)} {\\left(p^{4} - 4 \\, p^{3} + 6 \\, p^{2} - 4 \\, p + 2\\right)} {\\left(p^{2} - 2 \\, p + 2\\right)} {\\left(p - 2\\right)} p\\right]\\)</html>"
      ],
      "text/latex": [
       "$\\displaystyle \\left[p, p, -{\\left(p^{2} - p + 1\\right)} {\\left(p - 2\\right)} p, {\\left(p^{3} - 3 \\, p^{2} + 2 \\, p - 1\\right)} {\\left(p^{2} - 2 \\, p + 2\\right)} {\\left(p - 2\\right)} p, -{\\left(p^{8} - 7 \\, p^{7} + 21 \\, p^{6} - 36 \\, p^{5} + 39 \\, p^{4} - 28 \\, p^{3} + 14 \\, p^{2} - 4 \\, p + 1\\right)} {\\left(p^{4} - 4 \\, p^{3} + 6 \\, p^{2} - 4 \\, p + 2\\right)} {\\left(p^{2} - 2 \\, p + 2\\right)} {\\left(p - 2\\right)} p\\right]$"
      ],
      "text/plain": [
       "[p,\n",
       " p,\n",
       " -(p^2 - p + 1)*(p - 2)*p,\n",
       " (p^3 - 3*p^2 + 2*p - 1)*(p^2 - 2*p + 2)*(p - 2)*p,\n",
       " -(p^8 - 7*p^7 + 21*p^6 - 36*p^5 + 39*p^4 - 28*p^3 + 14*p^2 - 4*p + 1)*(p^4 - 4*p^3 + 6*p^2 - 4*p + 2)*(p^2 - 2*p + 2)*(p - 2)*p]"
      ]
     },
     "execution_count": 10,
     "metadata": {},
     "output_type": "execute_result"
    }
   ],
   "source": [
    "[sumW(i).factor() for i in range(1,6)]"
   ]
  },
  {
   "cell_type": "code",
   "execution_count": 11,
   "id": "d86aca32-0714-4d02-8008-247d60a2fd37",
   "metadata": {},
   "outputs": [
    {
     "data": {
      "text/html": [
       "<html>\\(\\displaystyle \\left[\\frac{1}{6}, \\frac{1}{6}, \\frac{341}{1296}, \\frac{108031}{279936}, \\frac{1339018029701}{2821109907456}, \\frac{663397206470899569501151}{1326443518324400147398656}, \\frac{31770605684172649673767341248855588372799862163141}{63340286662973277706162286946811886609896461828096}\\right]\\)</html>"
      ],
      "text/latex": [
       "$\\displaystyle \\left[\\frac{1}{6}, \\frac{1}{6}, \\frac{341}{1296}, \\frac{108031}{279936}, \\frac{1339018029701}{2821109907456}, \\frac{663397206470899569501151}{1326443518324400147398656}, \\frac{31770605684172649673767341248855588372799862163141}{63340286662973277706162286946811886609896461828096}\\right]$"
      ],
      "text/plain": [
       "[1/6,\n",
       " 1/6,\n",
       " 341/1296,\n",
       " 108031/279936,\n",
       " 1339018029701/2821109907456,\n",
       " 663397206470899569501151/1326443518324400147398656,\n",
       " 31770605684172649673767341248855588372799862163141/63340286662973277706162286946811886609896461828096]"
      ]
     },
     "execution_count": 11,
     "metadata": {},
     "output_type": "execute_result"
    }
   ],
   "source": [
    "[sumW(i)(p=1/6) for i in range(1,8)]"
   ]
  },
  {
   "cell_type": "code",
   "execution_count": 12,
   "id": "8dbe0d9e-2a14-46ec-b63c-68e5a78fd2ec",
   "metadata": {},
   "outputs": [
    {
     "data": {
      "text/html": [
       "<html>\\(\\displaystyle \\left[0.501590339167761, 0.501590339204269, 0.501590339204269, 0.501590339204269\\right]\\)</html>"
      ],
      "text/latex": [
       "$\\displaystyle \\left[0.501590339167761, 0.501590339204269, 0.501590339204269, 0.501590339204269\\right]$"
      ],
      "text/plain": [
       "[0.501590339167761, 0.501590339204269, 0.501590339204269, 0.501590339204269]"
      ]
     },
     "execution_count": 12,
     "metadata": {},
     "output_type": "execute_result"
    }
   ],
   "source": [
    "[numerical_approx(sumW(i)(p=1/6)) for i in range(8,12)]"
   ]
  },
  {
   "cell_type": "markdown",
   "id": "41139876-f396-4591-bba0-ae51ec959aa0",
   "metadata": {},
   "source": [
    "I think it's possible to solve the recurrence relation to get a closed-form expression that adds up the win probabilities over infinite rounds, but I don't know how to do that.  In any case, it certainly seems to converging to approximately 50.159%."
   ]
  }
 ],
 "metadata": {
  "kernelspec": {
   "display_name": "SageMath 10.3",
   "language": "sage",
   "name": "sagemath-10.3"
  },
  "language_info": {
   "codemirror_mode": {
    "name": "ipython",
    "version": 3
   },
   "file_extension": ".py",
   "mimetype": "text/x-python",
   "name": "python",
   "nbconvert_exporter": "python",
   "pygments_lexer": "ipython3",
   "version": "3.11.8"
  }
 },
 "nbformat": 4,
 "nbformat_minor": 5
}
