{
 "cells": [
  {
   "cell_type": "markdown",
   "id": "d6443754-9c79-456a-86c2-7212967e5305",
   "metadata": {},
   "source": [
    "[2024-07-26 Fiddler](https://thefiddler.substack.com/p/can-you-even-the-odds)\n",
    "====================\n",
    "Let $w$ be your probability of winning when it's your turn to roll.  Consider the AB|AB|AB order of play."
   ]
  },
  {
   "cell_type": "markdown",
   "id": "1fee46ad-a881-4f4f-949a-da9129350f49",
   "metadata": {},
   "source": [
    "Let $p = 1/6$ be the probability of winning a roll."
   ]
  },
  {
   "cell_type": "code",
   "execution_count": 1,
   "id": "704218d8-1e74-49bc-bd72-2fa203819914",
   "metadata": {},
   "outputs": [
    {
     "data": {
      "text/html": [
       "<html>\\(\\displaystyle w = {\\left(p - 1\\right)} {\\left(w - 1\\right)} + p\\)</html>"
      ],
      "text/latex": [
       "$\\displaystyle w = {\\left(p - 1\\right)} {\\left(w - 1\\right)} + p$"
      ],
      "text/plain": [
       "w == (p - 1)*(w - 1) + p"
      ]
     },
     "execution_count": 1,
     "metadata": {},
     "output_type": "execute_result"
    }
   ],
   "source": [
    "%display latex\n",
    "w, p = var('w p')\n",
    "eqn1 = w == p + (1-p)*(1-w)\n",
    "eqn1"
   ]
  },
  {
   "cell_type": "code",
   "execution_count": 2,
   "id": "f149836e-16d1-4f0b-8e1c-b618915586cc",
   "metadata": {},
   "outputs": [
    {
     "data": {
      "text/html": [
       "<html>\\(\\displaystyle \\left[w = -\\frac{1}{p - 2}\\right]\\)</html>"
      ],
      "text/latex": [
       "$\\displaystyle \\left[w = -\\frac{1}{p - 2}\\right]$"
      ],
      "text/plain": [
       "[w == -1/(p - 2)]"
      ]
     },
     "execution_count": 2,
     "metadata": {},
     "output_type": "execute_result"
    }
   ],
   "source": [
    "solve(eqn1, w)"
   ]
  },
  {
   "cell_type": "code",
   "execution_count": 3,
   "id": "ea4c802e-2079-4206-a5f6-c3abfd446629",
   "metadata": {},
   "outputs": [
    {
     "data": {
      "text/html": [
       "<html>\\(\\displaystyle 0.545454545454545\\)</html>"
      ],
      "text/latex": [
       "$\\displaystyle 0.545454545454545$"
      ],
      "text/plain": [
       "0.545454545454545"
      ]
     },
     "execution_count": 3,
     "metadata": {},
     "output_type": "execute_result"
    }
   ],
   "source": [
    "numerical_approx(solve(eqn1,w)[0].rhs()(p=1/6))"
   ]
  },
  {
   "cell_type": "markdown",
   "id": "42f4665c-d945-43ba-834e-d06670d5479e",
   "metadata": {},
   "source": [
    "So player A will win approximately 54.55% of the time.\n",
    "\n",
    "Now consider the AB|BA|AB order of play.  Consider what happens if the first roll does not win."
   ]
  },
  {
   "cell_type": "code",
   "execution_count": 4,
   "id": "f05f052e-9c7d-4068-8503-219b12a0d7b6",
   "metadata": {},
   "outputs": [
    {
     "data": {
      "text/html": [
       "<html>\\(\\displaystyle w = -{\\left({\\left(p - 1\\right)} {\\left(w - 1\\right)} + p\\right)} {\\left(p - 1\\right)} + p\\)</html>"
      ],
      "text/latex": [
       "$\\displaystyle w = -{\\left({\\left(p - 1\\right)} {\\left(w - 1\\right)} + p\\right)} {\\left(p - 1\\right)} + p$"
      ],
      "text/plain": [
       "w == -((p - 1)*(w - 1) + p)*(p - 1) + p"
      ]
     },
     "execution_count": 4,
     "metadata": {},
     "output_type": "execute_result"
    }
   ],
   "source": [
    "eqn2 = w == p + (1-p)*(p + (1-p)*(1-w))\n",
    "eqn2"
   ]
  },
  {
   "cell_type": "code",
   "execution_count": 5,
   "id": "79ce80d8-e7b8-4d7f-865d-de6b4d08c9d9",
   "metadata": {},
   "outputs": [
    {
     "data": {
      "text/html": [
       "<html>\\(\\displaystyle \\left[w = \\frac{1}{p^{2} - 2 \\, p + 2}\\right]\\)</html>"
      ],
      "text/latex": [
       "$\\displaystyle \\left[w = \\frac{1}{p^{2} - 2 \\, p + 2}\\right]$"
      ],
      "text/plain": [
       "[w == (1/(p^2 - 2*p + 2))]"
      ]
     },
     "execution_count": 5,
     "metadata": {},
     "output_type": "execute_result"
    }
   ],
   "source": [
    "solve(eqn2, w)"
   ]
  },
  {
   "cell_type": "markdown",
   "id": "2158723c-6f5b-4f97-a790-c67cffc7cc1e",
   "metadata": {},
   "source": [
    "Now, add in the first roll."
   ]
  },
  {
   "cell_type": "code",
   "execution_count": 6,
   "id": "86b17ed5-960d-465a-8ef5-4b257a6408de",
   "metadata": {},
   "outputs": [
    {
     "data": {
      "text/html": [
       "<html>\\(\\displaystyle \\frac{p^{2} - p + 1}{p^{2} - 2 \\, p + 2}\\)</html>"
      ],
      "text/latex": [
       "$\\displaystyle \\frac{p^{2} - p + 1}{p^{2} - 2 \\, p + 2}$"
      ],
      "text/plain": [
       "(p^2 - p + 1)/(p^2 - 2*p + 2)"
      ]
     },
     "execution_count": 6,
     "metadata": {},
     "output_type": "execute_result"
    }
   ],
   "source": [
    "w_after_first_roll = solve(eqn2, w)[0].rhs()\n",
    "w_abba = p + (1-p)*(1-w_after_first_roll)\n",
    "w_abba.simplify_full()"
   ]
  },
  {
   "cell_type": "code",
   "execution_count": 7,
   "id": "f17f366e-0855-479f-983f-04ef0fd85f59",
   "metadata": {},
   "outputs": [
    {
     "data": {
      "text/html": [
       "<html>\\(\\displaystyle 0.508196721311475\\)</html>"
      ],
      "text/latex": [
       "$\\displaystyle 0.508196721311475$"
      ],
      "text/plain": [
       "0.508196721311475"
      ]
     },
     "execution_count": 7,
     "metadata": {},
     "output_type": "execute_result"
    }
   ],
   "source": [
    "numerical_approx(w_abba(p=1/6))"
   ]
  },
  {
   "cell_type": "markdown",
   "id": "068d2881-1fc3-4d25-9c91-62fbcd60a84d",
   "metadata": {},
   "source": [
    "So player A will win approximately 50.82% of the time, which is fairer than AB|AB|AB."
   ]
  },
  {
   "cell_type": "markdown",
   "id": "a69623eb-8d34-40b8-8bdf-5a5986b1a832",
   "metadata": {},
   "source": [
    "[Simulations](20240726.go) agree:\n",
    "\n",
    "    $ go run 20240726.go\n",
    "    AB 5454278/10000000 0.545428\n",
    "    ABBA 5083593/10000000 0.508359\n",
    "    Thue-Morse 5016187/10000000 0.501619\n",
    "    Round 1: A\n",
    "    Round 2: B\n",
    "    Round 3: BA\n",
    "    Round 4: BAAB\n",
    "    Round 5: BAABABBA\n",
    "    Round 6: BAABABBAABBABAAB"
   ]
  },
  {
   "cell_type": "markdown",
   "id": "dddedca5-e41a-4d6e-b28a-c2023db318e4",
   "metadata": {},
   "source": [
    "Extra credit\n",
    "------------"
   ]
  },
  {
   "cell_type": "markdown",
   "id": "3a1ebb79-3c46-4617-891e-cf1db99de52c",
   "metadata": {},
   "source": [
    "Let $q = 1-p = 5/6$."
   ]
  },
  {
   "cell_type": "code",
   "execution_count": 8,
   "id": "70d5e62d-bea4-42ab-a9e1-762766dff698",
   "metadata": {},
   "outputs": [],
   "source": [
    "q = var('q')"
   ]
  },
  {
   "cell_type": "markdown",
   "id": "386e5970-94ae-4a6f-af72-316ab945ff0b",
   "metadata": {},
   "source": [
    "Let $A(n)$ be player A's probability of winning by round $n$, and $W(n)$ be player A's probability of winning in round $n$.\n",
    "\n",
    "Let round 0 be A, round 1 be B, round 2 be BA, etc.  The number of rolls in round $n$ where $n > 0$ is $2^{n-1}$, so the\n",
    "probability that neither player wins in the round is $q^{2^{n-1}}$, and the probability of getting to round $n$ without\n",
    "a winner is $q^{2^{n-1}}$.\n",
    "\n",
    "$$ A(n) = W(0) + \\sum_{l=1}^n q^{2^{l-1}}W(l) $$\n",
    "\n",
    "And $A(\\infty)$ is player A's total probability of winning.\n",
    "For $n > 1$, the first half of the round is the previous round and the second half of the round is previous round\n",
    "reversed.  So in the second half, the probability of winning is the probability of losing in the previous round.\n",
    "$$\n",
    "\\begin{aligned}\n",
    "    W(0) &= p \\\\\n",
    "         &= 1-q \\\\\n",
    "    W(1) &= 0 \\\\\n",
    "    W(n+1) &= W(n) + q^{2^{n-1}}(1 - q^{2^{n-1}} - W(n)) \\\\\n",
    "           &= (1 - q^{2^{n-1}})W(n) + q^{2^{n-1}} - q^{2^n} \\\\\n",
    "\\end{aligned}\n",
    "$$"
   ]
  },
  {
   "cell_type": "code",
   "execution_count": 9,
   "id": "3292daf9-504e-446c-af7b-8baa64247fc2",
   "metadata": {},
   "outputs": [],
   "source": [
    "def Wrecur(n):\n",
    "    if n == 0:\n",
    "        return 1-q\n",
    "    elif n == 1:\n",
    "        return 0\n",
    "    else:\n",
    "        return (1-q^(2^(n-2)))*Wrecur(n-1) + q^(2^(n-2)) - q^(2^(n-1))\n",
    "def Arecur(n):\n",
    "    a = Wrecur(0)\n",
    "    for l in [1..n]:\n",
    "        a += q^(2^(l-1))*Wrecur(l)\n",
    "    return a"
   ]
  },
  {
   "cell_type": "code",
   "execution_count": 10,
   "id": "cea3c385-ea65-4f94-83a0-b4b2e16a2860",
   "metadata": {},
   "outputs": [
    {
     "data": {
      "text/html": [
       "<html>\\(\\displaystyle -q + 1\\)</html>"
      ],
      "text/latex": [
       "$\\displaystyle -q + 1$"
      ],
      "text/plain": [
       "-q + 1"
      ]
     },
     "metadata": {},
     "output_type": "display_data"
    },
    {
     "data": {
      "text/html": [
       "<html>\\(\\displaystyle -q + 1\\)</html>"
      ],
      "text/latex": [
       "$\\displaystyle -q + 1$"
      ],
      "text/plain": [
       "-q + 1"
      ]
     },
     "metadata": {},
     "output_type": "display_data"
    },
    {
     "data": {
      "text/html": [
       "<html>\\(\\displaystyle -q^{4} + q^{3} - q + 1\\)</html>"
      ],
      "text/latex": [
       "$\\displaystyle -q^{4} + q^{3} - q + 1$"
      ],
      "text/plain": [
       "-q^4 + q^3 - q + 1"
      ]
     },
     "metadata": {},
     "output_type": "display_data"
    },
    {
     "data": {
      "text/html": [
       "<html>\\(\\displaystyle -q^{7} + q^{5} - q^{4} + q^{3} - q + 1\\)</html>"
      ],
      "text/latex": [
       "$\\displaystyle -q^{7} + q^{5} - q^{4} + q^{3} - q + 1$"
      ],
      "text/plain": [
       "-q^7 + q^5 - q^4 + q^3 - q + 1"
      ]
     },
     "metadata": {},
     "output_type": "display_data"
    },
    {
     "data": {
      "text/html": [
       "<html>\\(\\displaystyle -q^{16} + q^{15} - q^{13} + q^{12} - q^{11} + q^{9} - q^{7} + q^{5} - q^{4} + q^{3} - q + 1\\)</html>"
      ],
      "text/latex": [
       "$\\displaystyle -q^{16} + q^{15} - q^{13} + q^{12} - q^{11} + q^{9} - q^{7} + q^{5} - q^{4} + q^{3} - q + 1$"
      ],
      "text/plain": [
       "-q^16 + q^15 - q^13 + q^12 - q^11 + q^9 - q^7 + q^5 - q^4 + q^3 - q + 1"
      ]
     },
     "metadata": {},
     "output_type": "display_data"
    },
    {
     "data": {
      "text/html": [
       "<html>\\(\\displaystyle -q^{31} + q^{29} - q^{28} + q^{27} - q^{25} + q^{23} - q^{21} + q^{20} - q^{19} + q^{17} - q^{16} + q^{15} - q^{13} + q^{12} - q^{11} + q^{9} - q^{7} + q^{5} - q^{4} + q^{3} - q + 1\\)</html>"
      ],
      "text/latex": [
       "$\\displaystyle -q^{31} + q^{29} - q^{28} + q^{27} - q^{25} + q^{23} - q^{21} + q^{20} - q^{19} + q^{17} - q^{16} + q^{15} - q^{13} + q^{12} - q^{11} + q^{9} - q^{7} + q^{5} - q^{4} + q^{3} - q + 1$"
      ],
      "text/plain": [
       "-q^31 + q^29 - q^28 + q^27 - q^25 + q^23 - q^21 + q^20 - q^19 + q^17 - q^16 + q^15 - q^13 + q^12 - q^11 + q^9 - q^7 + q^5 - q^4 + q^3 - q + 1"
      ]
     },
     "metadata": {},
     "output_type": "display_data"
    },
    {
     "data": {
      "text/html": [
       "<html>\\(\\displaystyle \\left[\\frac{1}{6}, \\frac{1}{6}, \\frac{341}{1296}, \\frac{108031}{279936}, \\frac{1339018029701}{2821109907456}, \\frac{663397206470899569501151}{1326443518324400147398656}, \\frac{31770605684172649673767341248855588372799862163141}{63340286662973277706162286946811886609896461828096}\\right]\\)</html>"
      ],
      "text/latex": [
       "$\\displaystyle \\left[\\frac{1}{6}, \\frac{1}{6}, \\frac{341}{1296}, \\frac{108031}{279936}, \\frac{1339018029701}{2821109907456}, \\frac{663397206470899569501151}{1326443518324400147398656}, \\frac{31770605684172649673767341248855588372799862163141}{63340286662973277706162286946811886609896461828096}\\right]$"
      ],
      "text/plain": [
       "[1/6,\n",
       " 1/6,\n",
       " 341/1296,\n",
       " 108031/279936,\n",
       " 1339018029701/2821109907456,\n",
       " 663397206470899569501151/1326443518324400147398656,\n",
       " 31770605684172649673767341248855588372799862163141/63340286662973277706162286946811886609896461828096]"
      ]
     },
     "metadata": {},
     "output_type": "display_data"
    },
    {
     "data": {
      "text/html": [
       "<html>\\(\\displaystyle \\left[0.501586073539903, 0.501590339167761, 0.501590339204269, 0.501590339204269, 0.501590339204269\\right]\\)</html>"
      ],
      "text/latex": [
       "$\\displaystyle \\left[0.501586073539903, 0.501590339167761, 0.501590339204269, 0.501590339204269, 0.501590339204269\\right]$"
      ],
      "text/plain": [
       "[0.501586073539903,\n",
       " 0.501590339167761,\n",
       " 0.501590339204269,\n",
       " 0.501590339204269,\n",
       " 0.501590339204269]"
      ]
     },
     "metadata": {},
     "output_type": "display_data"
    }
   ],
   "source": [
    "for i in [0..5]:\n",
    "    show(Arecur(i).expand())\n",
    "show([Arecur(i)(q=5/6) for i in [0..6]])\n",
    "show([numerical_approx(Arecur(i)(q=5/6)) for i in [6..10]])"
   ]
  },
  {
   "cell_type": "markdown",
   "id": "21687f04-51e2-4c4e-8e9f-16f68f9a8fd0",
   "metadata": {},
   "source": [
    "The probability that player A wins is a power series in $q$ and seems to converge\n",
    "to approximately 50.159%.\n",
    "\n",
    "Next, try solving the recurrence relation"
   ]
  },
  {
   "cell_type": "code",
   "execution_count": 11,
   "id": "2cd09dbd-d43e-46e7-8042-d8bdae32c586",
   "metadata": {},
   "outputs": [
    {
     "data": {
      "text/html": [
       "<html>\\(\\displaystyle W_{n}=\\sum_{{\\it j}=1}^{n-1}{\\left(-1\\right)^{n-{\\it j}-1}\\,  \\left(q^{2^{{\\it j}-1}}-q^{2^{{\\it j}}}\\right)\\,\\prod_{  {\\it j}_{1}=1}^{n-{\\it j}-1}{\\left(q^{2^{{\\it j}_{1}+{\\it j}  -1}}-1\\right)}}\\)</html>"
      ],
      "text/latex": [
       "$\\displaystyle W_{n}=\\sum_{{\\it j}=1}^{n-1}{\\left(-1\\right)^{n-{\\it j}-1}\\,  \\left(q^{2^{{\\it j}-1}}-q^{2^{{\\it j}}}\\right)\\,\\prod_{  {\\it j}_{1}=1}^{n-{\\it j}-1}{\\left(q^{2^{{\\it j}_{1}+{\\it j}  -1}}-1\\right)}}$"
      ],
      "text/plain": [
       "W[n] = 'sum((-1)^(n-%j-1)*(q^2^(%j-1)-q^2^%j) *'product(q^2^(%j1+%j-1)-1,%j1,1,n-%j-1),%j,1, n-1)"
      ]
     },
     "execution_count": 11,
     "metadata": {},
     "output_type": "execute_result"
    }
   ],
   "source": [
    "maxima('load(\"solve_rec\")')\n",
    "maxima('solve_rec(W[n+1]-(1-q^(2^(n-1)))*W[n]-q^(2^(n-1))+q^(2^n)=0,W[n],W[1]=0)')"
   ]
  },
  {
   "cell_type": "code",
   "execution_count": 12,
   "id": "d987d2cf-2f33-4dd8-8cef-03b4956b708d",
   "metadata": {},
   "outputs": [
    {
     "data": {
      "text/html": [
       "<html>\\(\\displaystyle n \\ {\\mapsto}\\ {\\sum_{j=1}^{n - 1} -{\\left(\\left(-1\\right)^{j + n} q^{\\left(2^{j - 1}\\right)} - \\left(-1\\right)^{j + n} q^{\\left(2^{j}\\right)}\\right)} {\\prod_{k=1}^{-j + n - 1} q^{\\left(2^{j + k - 1}\\right)} - 1}}\\)</html>"
      ],
      "text/latex": [
       "$\\displaystyle n \\ {\\mapsto}\\ {\\sum_{j=1}^{n - 1} -{\\left(\\left(-1\\right)^{j + n} q^{\\left(2^{j - 1}\\right)} - \\left(-1\\right)^{j + n} q^{\\left(2^{j}\\right)}\\right)} {\\prod_{k=1}^{-j + n - 1} q^{\\left(2^{j + k - 1}\\right)} - 1}}$"
      ],
      "text/plain": [
       "n |--> sum(-((-1)^(j + n)*q^(2^(j - 1)) - (-1)^(j + n)*q^(2^j))*product(q^(2^(j + k - 1)) - 1, k, 1, -j + n - 1), j, 1, n - 1)"
      ]
     },
     "execution_count": 12,
     "metadata": {},
     "output_type": "execute_result"
    }
   ],
   "source": [
    "n,j,k = var('n j k')\n",
    "W(n) = sum((-1)^(n-j-1)*(q^(2^(j-1))-q^(2^j))*product(q^(2^(k+j-1))-1,k,1,n-j-1),j,1,n-1)\n",
    "W"
   ]
  },
  {
   "cell_type": "code",
   "execution_count": 13,
   "id": "78a43b75-d495-461d-b29d-6ae58b29831b",
   "metadata": {},
   "outputs": [
    {
     "data": {
      "text/html": [
       "<html>\\(\\displaystyle \\left[0, 0, 0, 0, 0, 0, 0, 0\\right]\\)</html>"
      ],
      "text/latex": [
       "$\\displaystyle \\left[0, 0, 0, 0, 0, 0, 0, 0\\right]$"
      ],
      "text/plain": [
       "[0, 0, 0, 0, 0, 0, 0, 0]"
      ]
     },
     "execution_count": 13,
     "metadata": {},
     "output_type": "execute_result"
    }
   ],
   "source": [
    "[(W(i) - Wrecur(i)).simplify_full() for i in [1..8]]"
   ]
  },
  {
   "cell_type": "code",
   "execution_count": 14,
   "id": "939b3eb4-5aeb-433b-88f6-cb6271592d91",
   "metadata": {},
   "outputs": [
    {
     "data": {
      "text/html": [
       "<html>\\(\\displaystyle n \\ {\\mapsto}\\ -q - {\\sum_{l=1}^{n} q^{\\left(2^{l - 1}\\right)} {\\sum_{j=1}^{l - 1} {\\left(\\left(-1\\right)^{j + l} q^{\\left(2^{j - 1}\\right)} - \\left(-1\\right)^{j + l} q^{\\left(2^{j}\\right)}\\right)} {\\prod_{k=1}^{-j + l - 1} q^{\\left(2^{j + k - 1}\\right)} - 1}}} + 1\\)</html>"
      ],
      "text/latex": [
       "$\\displaystyle n \\ {\\mapsto}\\ -q - {\\sum_{l=1}^{n} q^{\\left(2^{l - 1}\\right)} {\\sum_{j=1}^{l - 1} {\\left(\\left(-1\\right)^{j + l} q^{\\left(2^{j - 1}\\right)} - \\left(-1\\right)^{j + l} q^{\\left(2^{j}\\right)}\\right)} {\\prod_{k=1}^{-j + l - 1} q^{\\left(2^{j + k - 1}\\right)} - 1}}} + 1$"
      ],
      "text/plain": [
       "n |--> -q - sum(q^(2^(l - 1))*sum(((-1)^(j + l)*q^(2^(j - 1)) - (-1)^(j + l)*q^(2^j))*product(q^(2^(j + k - 1)) - 1, k, 1, -j + l - 1), j, 1, l - 1), l, 1, n) + 1"
      ]
     },
     "execution_count": 14,
     "metadata": {},
     "output_type": "execute_result"
    }
   ],
   "source": [
    "l = var('l')\n",
    "A(n) = 1-q + sum(q^(2^(l-1))*W(l),l,1,n)\n",
    "A"
   ]
  },
  {
   "cell_type": "code",
   "execution_count": 15,
   "id": "e903b3c4-7621-4d69-a80b-4b0e3c22e6e0",
   "metadata": {},
   "outputs": [
    {
     "data": {
      "text/html": [
       "<html>\\(\\displaystyle \\left[0, 0, 0, 0, 0, 0, 0, 0\\right]\\)</html>"
      ],
      "text/latex": [
       "$\\displaystyle \\left[0, 0, 0, 0, 0, 0, 0, 0\\right]$"
      ],
      "text/plain": [
       "[0, 0, 0, 0, 0, 0, 0, 0]"
      ]
     },
     "execution_count": 15,
     "metadata": {},
     "output_type": "execute_result"
    }
   ],
   "source": [
    "[(A(i) - Arecur(i)).simplify_full() for i in [1..8]]"
   ]
  },
  {
   "cell_type": "code",
   "execution_count": 16,
   "id": "5f0152b5-7a18-41ad-a7c6-bdc52fa7ae9b",
   "metadata": {},
   "outputs": [
    {
     "data": {
      "text/html": [
       "<html>\\(\\displaystyle -q + 1\\)</html>"
      ],
      "text/latex": [
       "$\\displaystyle -q + 1$"
      ],
      "text/plain": [
       "-q + 1"
      ]
     },
     "metadata": {},
     "output_type": "display_data"
    },
    {
     "data": {
      "text/html": [
       "<html>\\(\\displaystyle -q^{4} + q^{3} - q + 1\\)</html>"
      ],
      "text/latex": [
       "$\\displaystyle -q^{4} + q^{3} - q + 1$"
      ],
      "text/plain": [
       "-q^4 + q^3 - q + 1"
      ]
     },
     "metadata": {},
     "output_type": "display_data"
    },
    {
     "data": {
      "text/html": [
       "<html>\\(\\displaystyle -q^{7} + q^{5} - q^{4} + q^{3} - q + 1\\)</html>"
      ],
      "text/latex": [
       "$\\displaystyle -q^{7} + q^{5} - q^{4} + q^{3} - q + 1$"
      ],
      "text/plain": [
       "-q^7 + q^5 - q^4 + q^3 - q + 1"
      ]
     },
     "metadata": {},
     "output_type": "display_data"
    },
    {
     "data": {
      "text/html": [
       "<html>\\(\\displaystyle -q^{16} + q^{15} - q^{13} + q^{12} - q^{11} + q^{9} - q^{7} + q^{5} - q^{4} + q^{3} - q + 1\\)</html>"
      ],
      "text/latex": [
       "$\\displaystyle -q^{16} + q^{15} - q^{13} + q^{12} - q^{11} + q^{9} - q^{7} + q^{5} - q^{4} + q^{3} - q + 1$"
      ],
      "text/plain": [
       "-q^16 + q^15 - q^13 + q^12 - q^11 + q^9 - q^7 + q^5 - q^4 + q^3 - q + 1"
      ]
     },
     "metadata": {},
     "output_type": "display_data"
    },
    {
     "data": {
      "text/html": [
       "<html>\\(\\displaystyle -q^{31} + q^{29} - q^{28} + q^{27} - q^{25} + q^{23} - q^{21} + q^{20} - q^{19} + q^{17} - q^{16} + q^{15} - q^{13} + q^{12} - q^{11} + q^{9} - q^{7} + q^{5} - q^{4} + q^{3} - q + 1\\)</html>"
      ],
      "text/latex": [
       "$\\displaystyle -q^{31} + q^{29} - q^{28} + q^{27} - q^{25} + q^{23} - q^{21} + q^{20} - q^{19} + q^{17} - q^{16} + q^{15} - q^{13} + q^{12} - q^{11} + q^{9} - q^{7} + q^{5} - q^{4} + q^{3} - q + 1$"
      ],
      "text/plain": [
       "-q^31 + q^29 - q^28 + q^27 - q^25 + q^23 - q^21 + q^20 - q^19 + q^17 - q^16 + q^15 - q^13 + q^12 - q^11 + q^9 - q^7 + q^5 - q^4 + q^3 - q + 1"
      ]
     },
     "metadata": {},
     "output_type": "display_data"
    },
    {
     "data": {
      "text/html": [
       "<html>\\(\\displaystyle \\left[\\frac{1}{6}, \\frac{341}{1296}, \\frac{108031}{279936}, \\frac{1339018029701}{2821109907456}, \\frac{663397206470899569501151}{1326443518324400147398656}, \\frac{31770605684172649673767341248855588372799862163141}{63340286662973277706162286946811886609896461828096}\\right]\\)</html>"
      ],
      "text/latex": [
       "$\\displaystyle \\left[\\frac{1}{6}, \\frac{341}{1296}, \\frac{108031}{279936}, \\frac{1339018029701}{2821109907456}, \\frac{663397206470899569501151}{1326443518324400147398656}, \\frac{31770605684172649673767341248855588372799862163141}{63340286662973277706162286946811886609896461828096}\\right]$"
      ],
      "text/plain": [
       "[1/6,\n",
       " 341/1296,\n",
       " 108031/279936,\n",
       " 1339018029701/2821109907456,\n",
       " 663397206470899569501151/1326443518324400147398656,\n",
       " 31770605684172649673767341248855588372799862163141/63340286662973277706162286946811886609896461828096]"
      ]
     },
     "metadata": {},
     "output_type": "display_data"
    },
    {
     "data": {
      "text/html": [
       "<html>\\(\\displaystyle \\left[0.501586073539903, 0.501590339167761, 0.501590339204269, 0.501590339204269, 0.501590339204269\\right]\\)</html>"
      ],
      "text/latex": [
       "$\\displaystyle \\left[0.501586073539903, 0.501590339167761, 0.501590339204269, 0.501590339204269, 0.501590339204269\\right]$"
      ],
      "text/plain": [
       "[0.501586073539903,\n",
       " 0.501590339167761,\n",
       " 0.501590339204269,\n",
       " 0.501590339204269,\n",
       " 0.501590339204269]"
      ]
     },
     "metadata": {},
     "output_type": "display_data"
    }
   ],
   "source": [
    "for i in [1..5]:\n",
    "    show(A(i).simplify().expand())\n",
    "show([A(i)(q=5/6).simplify() for i in [1..6]])\n",
    "show([numerical_approx(A(i)(q=5/6).simplify()) for i in [6..10]])"
   ]
  },
  {
   "cell_type": "markdown",
   "id": "8943c38a-f8f9-4bf3-a29c-318a92f0ff40",
   "metadata": {},
   "source": [
    "And now we can get an exact expression for the probability that player A wins.  Based on the\n",
    "infinite sum, I believe it's irrational."
   ]
  },
  {
   "cell_type": "code",
   "execution_count": 17,
   "id": "17e1e69d-b869-4ddb-8e53-30e79b6ec4f5",
   "metadata": {},
   "outputs": [
    {
     "data": {
      "text/html": [
       "<html>\\(\\displaystyle -{\\sum_{l=1}^{+\\infty} {\\sum_{j=1}^{l - 1} {\\left(6^{\\left(2^{j}\\right)} 5^{\\left(2^{j - 1}\\right)} \\left(-1\\right)^{j} - 6^{\\left(2^{j - 1}\\right)} 5^{\\left(2^{j}\\right)} \\left(-1\\right)^{j}\\right)} 6^{-3 \\cdot 2^{j - 1} - 2^{l - 1}} 5^{\\left(2^{l - 1}\\right)} \\left(-1\\right)^{l} {\\prod_{k=1}^{-j + l - 1} -\\frac{6^{\\left(2^{j + k - 1}\\right)} - 5^{\\left(2^{j + k - 1}\\right)}}{6^{\\left(2^{j + k - 1}\\right)}}}}} + \\frac{1}{6}\\)</html>"
      ],
      "text/latex": [
       "$\\displaystyle -{\\sum_{l=1}^{+\\infty} {\\sum_{j=1}^{l - 1} {\\left(6^{\\left(2^{j}\\right)} 5^{\\left(2^{j - 1}\\right)} \\left(-1\\right)^{j} - 6^{\\left(2^{j - 1}\\right)} 5^{\\left(2^{j}\\right)} \\left(-1\\right)^{j}\\right)} 6^{-3 \\cdot 2^{j - 1} - 2^{l - 1}} 5^{\\left(2^{l - 1}\\right)} \\left(-1\\right)^{l} {\\prod_{k=1}^{-j + l - 1} -\\frac{6^{\\left(2^{j + k - 1}\\right)} - 5^{\\left(2^{j + k - 1}\\right)}}{6^{\\left(2^{j + k - 1}\\right)}}}}} + \\frac{1}{6}$"
      ],
      "text/plain": [
       "-sum(sum((6^(2^j)*5^(2^(j - 1))*(-1)^j - 6^(2^(j - 1))*5^(2^j)*(-1)^j)*6^(-3*2^(j - 1) - 2^(l - 1))*5^(2^(l - 1))*(-1)^l*product(-(6^(2^(j + k - 1)) - 5^(2^(j + k - 1)))/6^(2^(j + k - 1)), k, 1, -j + l - 1), j, 1, l - 1), l, 1, +Infinity) + 1/6"
      ]
     },
     "execution_count": 17,
     "metadata": {},
     "output_type": "execute_result"
    }
   ],
   "source": [
    "A(oo)(q=5/6).simplify_full()"
   ]
  }
 ],
 "metadata": {
  "kernelspec": {
   "display_name": "SageMath 10.3",
   "language": "sage",
   "name": "sagemath-10.3"
  },
  "language_info": {
   "codemirror_mode": {
    "name": "ipython",
    "version": 3
   },
   "file_extension": ".py",
   "mimetype": "text/x-python",
   "name": "python",
   "nbconvert_exporter": "python",
   "pygments_lexer": "ipython3",
   "version": "3.11.8"
  }
 },
 "nbformat": 4,
 "nbformat_minor": 5
}
