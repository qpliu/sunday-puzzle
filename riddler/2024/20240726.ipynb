{
 "cells": [
  {
   "cell_type": "markdown",
   "id": "d6443754-9c79-456a-86c2-7212967e5305",
   "metadata": {},
   "source": [
    "[2024-07-26 Fiddler](https://thefiddler.substack.com/p/can-you-even-the-odds)\n",
    "====================\n",
    "Let $w$ be your probability of winning when it's your turn to roll.  Consider the AB|AB|AB order of play."
   ]
  },
  {
   "cell_type": "markdown",
   "id": "1fee46ad-a881-4f4f-949a-da9129350f49",
   "metadata": {},
   "source": [
    "Let $p = 1/6$ be the probability of winning a roll."
   ]
  },
  {
   "cell_type": "code",
   "execution_count": 1,
   "id": "704218d8-1e74-49bc-bd72-2fa203819914",
   "metadata": {},
   "outputs": [
    {
     "data": {
      "text/html": [
       "<html>\\(\\displaystyle w = {\\left(p - 1\\right)} {\\left(w - 1\\right)} + p\\)</html>"
      ],
      "text/latex": [
       "$\\displaystyle w = {\\left(p - 1\\right)} {\\left(w - 1\\right)} + p$"
      ],
      "text/plain": [
       "w == (p - 1)*(w - 1) + p"
      ]
     },
     "execution_count": 1,
     "metadata": {},
     "output_type": "execute_result"
    }
   ],
   "source": [
    "%display latex\n",
    "w, p = var('w p')\n",
    "eqn1 = w == p + (1-p)*(1-w)\n",
    "eqn1"
   ]
  },
  {
   "cell_type": "code",
   "execution_count": 2,
   "id": "f149836e-16d1-4f0b-8e1c-b618915586cc",
   "metadata": {},
   "outputs": [
    {
     "data": {
      "text/html": [
       "<html>\\(\\displaystyle \\left[w = -\\frac{1}{p - 2}\\right]\\)</html>"
      ],
      "text/latex": [
       "$\\displaystyle \\left[w = -\\frac{1}{p - 2}\\right]$"
      ],
      "text/plain": [
       "[w == -1/(p - 2)]"
      ]
     },
     "execution_count": 2,
     "metadata": {},
     "output_type": "execute_result"
    }
   ],
   "source": [
    "solve(eqn1, w)"
   ]
  },
  {
   "cell_type": "code",
   "execution_count": 3,
   "id": "ea4c802e-2079-4206-a5f6-c3abfd446629",
   "metadata": {},
   "outputs": [
    {
     "data": {
      "text/html": [
       "<html>\\(\\displaystyle 0.545454545454545\\)</html>"
      ],
      "text/latex": [
       "$\\displaystyle 0.545454545454545$"
      ],
      "text/plain": [
       "0.545454545454545"
      ]
     },
     "execution_count": 3,
     "metadata": {},
     "output_type": "execute_result"
    }
   ],
   "source": [
    "numerical_approx(solve(eqn1,w)[0].rhs()(p=1/6))"
   ]
  },
  {
   "cell_type": "markdown",
   "id": "42f4665c-d945-43ba-834e-d06670d5479e",
   "metadata": {},
   "source": [
    "So player A will win approximately 54.55% of the time.\n",
    "\n",
    "Now consider the AB|BA|AB order of play.  Consider what happens if the first roll does not win."
   ]
  },
  {
   "cell_type": "code",
   "execution_count": 4,
   "id": "f05f052e-9c7d-4068-8503-219b12a0d7b6",
   "metadata": {},
   "outputs": [
    {
     "data": {
      "text/html": [
       "<html>\\(\\displaystyle w = -{\\left({\\left(p - 1\\right)} {\\left(w - 1\\right)} + p\\right)} {\\left(p - 1\\right)} + p\\)</html>"
      ],
      "text/latex": [
       "$\\displaystyle w = -{\\left({\\left(p - 1\\right)} {\\left(w - 1\\right)} + p\\right)} {\\left(p - 1\\right)} + p$"
      ],
      "text/plain": [
       "w == -((p - 1)*(w - 1) + p)*(p - 1) + p"
      ]
     },
     "execution_count": 4,
     "metadata": {},
     "output_type": "execute_result"
    }
   ],
   "source": [
    "eqn2 = w == p + (1-p)*(p + (1-p)*(1-w))\n",
    "eqn2"
   ]
  },
  {
   "cell_type": "code",
   "execution_count": 5,
   "id": "79ce80d8-e7b8-4d7f-865d-de6b4d08c9d9",
   "metadata": {},
   "outputs": [
    {
     "data": {
      "text/html": [
       "<html>\\(\\displaystyle \\left[w = \\frac{1}{p^{2} - 2 \\, p + 2}\\right]\\)</html>"
      ],
      "text/latex": [
       "$\\displaystyle \\left[w = \\frac{1}{p^{2} - 2 \\, p + 2}\\right]$"
      ],
      "text/plain": [
       "[w == (1/(p^2 - 2*p + 2))]"
      ]
     },
     "execution_count": 5,
     "metadata": {},
     "output_type": "execute_result"
    }
   ],
   "source": [
    "solve(eqn2, w)"
   ]
  },
  {
   "cell_type": "markdown",
   "id": "2158723c-6f5b-4f97-a790-c67cffc7cc1e",
   "metadata": {},
   "source": [
    "Now, add in the first roll."
   ]
  },
  {
   "cell_type": "code",
   "execution_count": 6,
   "id": "86b17ed5-960d-465a-8ef5-4b257a6408de",
   "metadata": {},
   "outputs": [
    {
     "data": {
      "text/html": [
       "<html>\\(\\displaystyle \\frac{p^{2} - p + 1}{p^{2} - 2 \\, p + 2}\\)</html>"
      ],
      "text/latex": [
       "$\\displaystyle \\frac{p^{2} - p + 1}{p^{2} - 2 \\, p + 2}$"
      ],
      "text/plain": [
       "(p^2 - p + 1)/(p^2 - 2*p + 2)"
      ]
     },
     "execution_count": 6,
     "metadata": {},
     "output_type": "execute_result"
    }
   ],
   "source": [
    "w_after_first_roll = solve(eqn2, w)[0].rhs()\n",
    "w_abba = p + (1-p)*(1-w_after_first_roll)\n",
    "w_abba.simplify_full()"
   ]
  },
  {
   "cell_type": "code",
   "execution_count": 7,
   "id": "f17f366e-0855-479f-983f-04ef0fd85f59",
   "metadata": {},
   "outputs": [
    {
     "data": {
      "text/html": [
       "<html>\\(\\displaystyle 0.508196721311475\\)</html>"
      ],
      "text/latex": [
       "$\\displaystyle 0.508196721311475$"
      ],
      "text/plain": [
       "0.508196721311475"
      ]
     },
     "execution_count": 7,
     "metadata": {},
     "output_type": "execute_result"
    }
   ],
   "source": [
    "numerical_approx(w_abba(p=1/6))"
   ]
  },
  {
   "cell_type": "markdown",
   "id": "068d2881-1fc3-4d25-9c91-62fbcd60a84d",
   "metadata": {},
   "source": [
    "So player A will win approximately 50.82% of the time, which is fairer than AB|AB|AB."
   ]
  },
  {
   "cell_type": "markdown",
   "id": "a69623eb-8d34-40b8-8bdf-5a5986b1a832",
   "metadata": {},
   "source": [
    "[Simulations](20240726.go) agree:\n",
    "\n",
    "    $ go run 20240726.go\n",
    "    AB 5454278/10000000 0.545428\n",
    "    ABBA 5083593/10000000 0.508359\n",
    "    Thue-Morse 5016187/10000000 0.501619\n",
    "    Round 1: A\n",
    "    Round 2: B\n",
    "    Round 3: BA\n",
    "    Round 4: BAAB\n",
    "    Round 5: BAABABBA\n",
    "    Round 6: BAABABBAABBABAAB"
   ]
  },
  {
   "cell_type": "markdown",
   "id": "dddedca5-e41a-4d6e-b28a-c2023db318e4",
   "metadata": {},
   "source": [
    "Extra credit\n",
    "------------"
   ]
  },
  {
   "cell_type": "markdown",
   "id": "3a1ebb79-3c46-4617-891e-cf1db99de52c",
   "metadata": {},
   "source": [
    "Let $q = 1-p = 5/6$."
   ]
  },
  {
   "cell_type": "code",
   "execution_count": 8,
   "id": "70d5e62d-bea4-42ab-a9e1-762766dff698",
   "metadata": {},
   "outputs": [],
   "source": [
    "q = var('q')"
   ]
  },
  {
   "cell_type": "markdown",
   "id": "386e5970-94ae-4a6f-af72-316ab945ff0b",
   "metadata": {},
   "source": [
    "Let $A(n)$ be player A's probability of winning by round $n$, and $W(n)$ be player A's probability of winning in round $n$.\n",
    "\n",
    "Let round 0 be A, round 1 be B, round 2 be BA, etc.  The number of rolls in round $n$ where $n > 0$ is $2^{n-1}$, so the\n",
    "probability that neither player wins in the round is $q^{2^{n-1}}$, and the probability of getting to round $n$ without\n",
    "a winner is $q^{2^{n-1}}$.\n",
    "\n",
    "$$ A(n) = W(0) + \\sum_{l=1}^n q^{2^{l-1}}W(l) $$\n",
    "\n",
    "And $A(\\infty)$ is player A's total probability of winning.\n",
    "For $n > 1$, the first half of the round is the previous round and the second half of the round is previous round\n",
    "reversed.  So in the second half, the probability of winning is the probability of losing in the previous round.\n",
    "$$\n",
    "\\begin{aligned}\n",
    "    W(0) &= p \\\\\n",
    "         &= 1-q \\\\\n",
    "    W(1) &= 0 \\\\\n",
    "    W(n+1) &= W(n) + q^{2^{n-1}}(1 - q^{2^{n-1}} - W(n)) \\\\\n",
    "           &= (1 - q^{2^{n-1}})W(n) + q^{2^{n-1}} - q^{2^n} \\\\\n",
    "\\end{aligned}\n",
    "$$"
   ]
  },
  {
   "cell_type": "code",
   "execution_count": 9,
   "id": "3292daf9-504e-446c-af7b-8baa64247fc2",
   "metadata": {},
   "outputs": [],
   "source": [
    "def Wrecur(n):\n",
    "    if n == 0:\n",
    "        return 1-q\n",
    "    elif n == 1:\n",
    "        return 0\n",
    "    else:\n",
    "        return (1-q^(2^(n-2)))*Wrecur(n-1) + q^(2^(n-2)) - q^(2^(n-1))\n",
    "def Arecur(n):\n",
    "    a = Wrecur(0)\n",
    "    for l in [1..n]:\n",
    "        a += q^(2^(l-1))*Wrecur(l)\n",
    "    return a"
   ]
  },
  {
   "cell_type": "code",
   "execution_count": 10,
   "id": "cea3c385-ea65-4f94-83a0-b4b2e16a2860",
   "metadata": {},
   "outputs": [
    {
     "data": {
      "text/html": [
       "<html>\\(\\displaystyle -q + 1\\)</html>"
      ],
      "text/latex": [
       "$\\displaystyle -q + 1$"
      ],
      "text/plain": [
       "-q + 1"
      ]
     },
     "metadata": {},
     "output_type": "display_data"
    },
    {
     "data": {
      "text/html": [
       "<html>\\(\\displaystyle -q + 1\\)</html>"
      ],
      "text/latex": [
       "$\\displaystyle -q + 1$"
      ],
      "text/plain": [
       "-q + 1"
      ]
     },
     "metadata": {},
     "output_type": "display_data"
    },
    {
     "data": {
      "text/html": [
       "<html>\\(\\displaystyle -q^{4} + q^{3} - q + 1\\)</html>"
      ],
      "text/latex": [
       "$\\displaystyle -q^{4} + q^{3} - q + 1$"
      ],
      "text/plain": [
       "-q^4 + q^3 - q + 1"
      ]
     },
     "metadata": {},
     "output_type": "display_data"
    },
    {
     "data": {
      "text/html": [
       "<html>\\(\\displaystyle -q^{7} + q^{5} - q^{4} + q^{3} - q + 1\\)</html>"
      ],
      "text/latex": [
       "$\\displaystyle -q^{7} + q^{5} - q^{4} + q^{3} - q + 1$"
      ],
      "text/plain": [
       "-q^7 + q^5 - q^4 + q^3 - q + 1"
      ]
     },
     "metadata": {},
     "output_type": "display_data"
    },
    {
     "data": {
      "text/html": [
       "<html>\\(\\displaystyle -q^{16} + q^{15} - q^{13} + q^{12} - q^{11} + q^{9} - q^{7} + q^{5} - q^{4} + q^{3} - q + 1\\)</html>"
      ],
      "text/latex": [
       "$\\displaystyle -q^{16} + q^{15} - q^{13} + q^{12} - q^{11} + q^{9} - q^{7} + q^{5} - q^{4} + q^{3} - q + 1$"
      ],
      "text/plain": [
       "-q^16 + q^15 - q^13 + q^12 - q^11 + q^9 - q^7 + q^5 - q^4 + q^3 - q + 1"
      ]
     },
     "metadata": {},
     "output_type": "display_data"
    },
    {
     "data": {
      "text/html": [
       "<html>\\(\\displaystyle -q^{31} + q^{29} - q^{28} + q^{27} - q^{25} + q^{23} - q^{21} + q^{20} - q^{19} + q^{17} - q^{16} + q^{15} - q^{13} + q^{12} - q^{11} + q^{9} - q^{7} + q^{5} - q^{4} + q^{3} - q + 1\\)</html>"
      ],
      "text/latex": [
       "$\\displaystyle -q^{31} + q^{29} - q^{28} + q^{27} - q^{25} + q^{23} - q^{21} + q^{20} - q^{19} + q^{17} - q^{16} + q^{15} - q^{13} + q^{12} - q^{11} + q^{9} - q^{7} + q^{5} - q^{4} + q^{3} - q + 1$"
      ],
      "text/plain": [
       "-q^31 + q^29 - q^28 + q^27 - q^25 + q^23 - q^21 + q^20 - q^19 + q^17 - q^16 + q^15 - q^13 + q^12 - q^11 + q^9 - q^7 + q^5 - q^4 + q^3 - q + 1"
      ]
     },
     "metadata": {},
     "output_type": "display_data"
    },
    {
     "data": {
      "text/html": [
       "<html>\\(\\displaystyle \\left[\\frac{1}{6}, \\frac{1}{6}, \\frac{341}{1296}, \\frac{108031}{279936}, \\frac{1339018029701}{2821109907456}, \\frac{663397206470899569501151}{1326443518324400147398656}, \\frac{31770605684172649673767341248855588372799862163141}{63340286662973277706162286946811886609896461828096}\\right]\\)</html>"
      ],
      "text/latex": [
       "$\\displaystyle \\left[\\frac{1}{6}, \\frac{1}{6}, \\frac{341}{1296}, \\frac{108031}{279936}, \\frac{1339018029701}{2821109907456}, \\frac{663397206470899569501151}{1326443518324400147398656}, \\frac{31770605684172649673767341248855588372799862163141}{63340286662973277706162286946811886609896461828096}\\right]$"
      ],
      "text/plain": [
       "[1/6,\n",
       " 1/6,\n",
       " 341/1296,\n",
       " 108031/279936,\n",
       " 1339018029701/2821109907456,\n",
       " 663397206470899569501151/1326443518324400147398656,\n",
       " 31770605684172649673767341248855588372799862163141/63340286662973277706162286946811886609896461828096]"
      ]
     },
     "metadata": {},
     "output_type": "display_data"
    },
    {
     "data": {
      "text/html": [
       "<html>\\(\\displaystyle \\left[0.501586073539903, 0.501590339167761, 0.501590339204269, 0.501590339204269, 0.501590339204269\\right]\\)</html>"
      ],
      "text/latex": [
       "$\\displaystyle \\left[0.501586073539903, 0.501590339167761, 0.501590339204269, 0.501590339204269, 0.501590339204269\\right]$"
      ],
      "text/plain": [
       "[0.501586073539903,\n",
       " 0.501590339167761,\n",
       " 0.501590339204269,\n",
       " 0.501590339204269,\n",
       " 0.501590339204269]"
      ]
     },
     "metadata": {},
     "output_type": "display_data"
    }
   ],
   "source": [
    "for i in [0..5]:\n",
    "    show(Arecur(i).expand())\n",
    "show([Arecur(i)(q=5/6) for i in [0..6]])\n",
    "show([numerical_approx(Arecur(i)(q=5/6)) for i in [6..10]])"
   ]
  },
  {
   "cell_type": "markdown",
   "id": "21687f04-51e2-4c4e-8e9f-16f68f9a8fd0",
   "metadata": {},
   "source": [
    "The probability that player A wins is a power series in $q$ and seems to converge\n",
    "to approximately 50.159%.\n",
    "\n",
    "Next, try solving the recurrence relation"
   ]
  },
  {
   "cell_type": "code",
   "execution_count": 11,
   "id": "2cd09dbd-d43e-46e7-8042-d8bdae32c586",
   "metadata": {},
   "outputs": [
    {
     "data": {
      "text/html": [
       "<html>\\(\\displaystyle W_{n}=\\sum_{{\\it j}=1}^{n-1}{\\left(-1\\right)^{n-{\\it j}-1}\\,  \\left(q^{2^{{\\it j}-1}}-q^{2^{{\\it j}}}\\right)\\,\\prod_{  {\\it j}_{1}=1}^{n-{\\it j}-1}{\\left(q^{2^{{\\it j}_{1}+{\\it j}  -1}}-1\\right)}}\\)</html>"
      ],
      "text/latex": [
       "$\\displaystyle W_{n}=\\sum_{{\\it j}=1}^{n-1}{\\left(-1\\right)^{n-{\\it j}-1}\\,  \\left(q^{2^{{\\it j}-1}}-q^{2^{{\\it j}}}\\right)\\,\\prod_{  {\\it j}_{1}=1}^{n-{\\it j}-1}{\\left(q^{2^{{\\it j}_{1}+{\\it j}  -1}}-1\\right)}}$"
      ],
      "text/plain": [
       "W[n] = 'sum((-1)^(n-%j-1)*(q^2^(%j-1)-q^2^%j) *'product(q^2^(%j1+%j-1)-1,%j1,1,n-%j-1),%j,1, n-1)"
      ]
     },
     "execution_count": 11,
     "metadata": {},
     "output_type": "execute_result"
    }
   ],
   "source": [
    "maxima('load(\"solve_rec\")')\n",
    "maxima('solve_rec(W[n+1]-(1-q^(2^(n-1)))*W[n]-q^(2^(n-1))+q^(2^n)=0,W[n],W[1]=0)')"
   ]
  },
  {
   "cell_type": "code",
   "execution_count": 12,
   "id": "d987d2cf-2f33-4dd8-8cef-03b4956b708d",
   "metadata": {},
   "outputs": [
    {
     "data": {
      "text/html": [
       "<html>\\(\\displaystyle n \\ {\\mapsto}\\ {\\sum_{j=1}^{n - 1} -{\\left(\\left(-1\\right)^{j + n} q^{\\left(2^{j - 1}\\right)} - \\left(-1\\right)^{j + n} q^{\\left(2^{j}\\right)}\\right)} {\\prod_{k=1}^{-j + n - 1} q^{\\left(2^{j + k - 1}\\right)} - 1}}\\)</html>"
      ],
      "text/latex": [
       "$\\displaystyle n \\ {\\mapsto}\\ {\\sum_{j=1}^{n - 1} -{\\left(\\left(-1\\right)^{j + n} q^{\\left(2^{j - 1}\\right)} - \\left(-1\\right)^{j + n} q^{\\left(2^{j}\\right)}\\right)} {\\prod_{k=1}^{-j + n - 1} q^{\\left(2^{j + k - 1}\\right)} - 1}}$"
      ],
      "text/plain": [
       "n |--> sum(-((-1)^(j + n)*q^(2^(j - 1)) - (-1)^(j + n)*q^(2^j))*product(q^(2^(j + k - 1)) - 1, k, 1, -j + n - 1), j, 1, n - 1)"
      ]
     },
     "execution_count": 12,
     "metadata": {},
     "output_type": "execute_result"
    }
   ],
   "source": [
    "n,j,k = var('n j k')\n",
    "W(n) = sum((-1)^(n-j-1)*(q^(2^(j-1))-q^(2^j))*product(q^(2^(k+j-1))-1,k,1,n-j-1),j,1,n-1)\n",
    "W"
   ]
  },
  {
   "cell_type": "code",
   "execution_count": 13,
   "id": "78a43b75-d495-461d-b29d-6ae58b29831b",
   "metadata": {},
   "outputs": [
    {
     "data": {
      "text/html": [
       "<html>\\(\\displaystyle \\left[0, 0, 0, 0, 0, 0, 0, 0\\right]\\)</html>"
      ],
      "text/latex": [
       "$\\displaystyle \\left[0, 0, 0, 0, 0, 0, 0, 0\\right]$"
      ],
      "text/plain": [
       "[0, 0, 0, 0, 0, 0, 0, 0]"
      ]
     },
     "execution_count": 13,
     "metadata": {},
     "output_type": "execute_result"
    }
   ],
   "source": [
    "[(W(i) - Wrecur(i)).simplify_full() for i in [1..8]]"
   ]
  },
  {
   "cell_type": "code",
   "execution_count": 14,
   "id": "939b3eb4-5aeb-433b-88f6-cb6271592d91",
   "metadata": {},
   "outputs": [
    {
     "data": {
      "text/html": [
       "<html>\\(\\displaystyle n \\ {\\mapsto}\\ -q - {\\sum_{l=1}^{n} q^{\\left(2^{l - 1}\\right)} {\\sum_{j=1}^{l - 1} {\\left(\\left(-1\\right)^{j + l} q^{\\left(2^{j - 1}\\right)} - \\left(-1\\right)^{j + l} q^{\\left(2^{j}\\right)}\\right)} {\\prod_{k=1}^{-j + l - 1} q^{\\left(2^{j + k - 1}\\right)} - 1}}} + 1\\)</html>"
      ],
      "text/latex": [
       "$\\displaystyle n \\ {\\mapsto}\\ -q - {\\sum_{l=1}^{n} q^{\\left(2^{l - 1}\\right)} {\\sum_{j=1}^{l - 1} {\\left(\\left(-1\\right)^{j + l} q^{\\left(2^{j - 1}\\right)} - \\left(-1\\right)^{j + l} q^{\\left(2^{j}\\right)}\\right)} {\\prod_{k=1}^{-j + l - 1} q^{\\left(2^{j + k - 1}\\right)} - 1}}} + 1$"
      ],
      "text/plain": [
       "n |--> -q - sum(q^(2^(l - 1))*sum(((-1)^(j + l)*q^(2^(j - 1)) - (-1)^(j + l)*q^(2^j))*product(q^(2^(j + k - 1)) - 1, k, 1, -j + l - 1), j, 1, l - 1), l, 1, n) + 1"
      ]
     },
     "execution_count": 14,
     "metadata": {},
     "output_type": "execute_result"
    }
   ],
   "source": [
    "l = var('l')\n",
    "A(n) = 1-q + sum(q^(2^(l-1))*W(l),l,1,n)\n",
    "A"
   ]
  },
  {
   "cell_type": "code",
   "execution_count": 15,
   "id": "e903b3c4-7621-4d69-a80b-4b0e3c22e6e0",
   "metadata": {},
   "outputs": [
    {
     "data": {
      "text/html": [
       "<html>\\(\\displaystyle \\left[0, 0, 0, 0, 0, 0, 0, 0\\right]\\)</html>"
      ],
      "text/latex": [
       "$\\displaystyle \\left[0, 0, 0, 0, 0, 0, 0, 0\\right]$"
      ],
      "text/plain": [
       "[0, 0, 0, 0, 0, 0, 0, 0]"
      ]
     },
     "execution_count": 15,
     "metadata": {},
     "output_type": "execute_result"
    }
   ],
   "source": [
    "[(A(i) - Arecur(i)).simplify_full() for i in [1..8]]"
   ]
  },
  {
   "cell_type": "code",
   "execution_count": 16,
   "id": "5f0152b5-7a18-41ad-a7c6-bdc52fa7ae9b",
   "metadata": {},
   "outputs": [
    {
     "data": {
      "text/html": [
       "<html>\\(\\displaystyle -q + 1\\)</html>"
      ],
      "text/latex": [
       "$\\displaystyle -q + 1$"
      ],
      "text/plain": [
       "-q + 1"
      ]
     },
     "metadata": {},
     "output_type": "display_data"
    },
    {
     "data": {
      "text/html": [
       "<html>\\(\\displaystyle -q^{4} + q^{3} - q + 1\\)</html>"
      ],
      "text/latex": [
       "$\\displaystyle -q^{4} + q^{3} - q + 1$"
      ],
      "text/plain": [
       "-q^4 + q^3 - q + 1"
      ]
     },
     "metadata": {},
     "output_type": "display_data"
    },
    {
     "data": {
      "text/html": [
       "<html>\\(\\displaystyle -q^{7} + q^{5} - q^{4} + q^{3} - q + 1\\)</html>"
      ],
      "text/latex": [
       "$\\displaystyle -q^{7} + q^{5} - q^{4} + q^{3} - q + 1$"
      ],
      "text/plain": [
       "-q^7 + q^5 - q^4 + q^3 - q + 1"
      ]
     },
     "metadata": {},
     "output_type": "display_data"
    },
    {
     "data": {
      "text/html": [
       "<html>\\(\\displaystyle -q^{16} + q^{15} - q^{13} + q^{12} - q^{11} + q^{9} - q^{7} + q^{5} - q^{4} + q^{3} - q + 1\\)</html>"
      ],
      "text/latex": [
       "$\\displaystyle -q^{16} + q^{15} - q^{13} + q^{12} - q^{11} + q^{9} - q^{7} + q^{5} - q^{4} + q^{3} - q + 1$"
      ],
      "text/plain": [
       "-q^16 + q^15 - q^13 + q^12 - q^11 + q^9 - q^7 + q^5 - q^4 + q^3 - q + 1"
      ]
     },
     "metadata": {},
     "output_type": "display_data"
    },
    {
     "data": {
      "text/html": [
       "<html>\\(\\displaystyle -q^{31} + q^{29} - q^{28} + q^{27} - q^{25} + q^{23} - q^{21} + q^{20} - q^{19} + q^{17} - q^{16} + q^{15} - q^{13} + q^{12} - q^{11} + q^{9} - q^{7} + q^{5} - q^{4} + q^{3} - q + 1\\)</html>"
      ],
      "text/latex": [
       "$\\displaystyle -q^{31} + q^{29} - q^{28} + q^{27} - q^{25} + q^{23} - q^{21} + q^{20} - q^{19} + q^{17} - q^{16} + q^{15} - q^{13} + q^{12} - q^{11} + q^{9} - q^{7} + q^{5} - q^{4} + q^{3} - q + 1$"
      ],
      "text/plain": [
       "-q^31 + q^29 - q^28 + q^27 - q^25 + q^23 - q^21 + q^20 - q^19 + q^17 - q^16 + q^15 - q^13 + q^12 - q^11 + q^9 - q^7 + q^5 - q^4 + q^3 - q + 1"
      ]
     },
     "metadata": {},
     "output_type": "display_data"
    },
    {
     "data": {
      "text/html": [
       "<html>\\(\\displaystyle \\left[\\frac{1}{6}, \\frac{341}{1296}, \\frac{108031}{279936}, \\frac{1339018029701}{2821109907456}, \\frac{663397206470899569501151}{1326443518324400147398656}, \\frac{31770605684172649673767341248855588372799862163141}{63340286662973277706162286946811886609896461828096}\\right]\\)</html>"
      ],
      "text/latex": [
       "$\\displaystyle \\left[\\frac{1}{6}, \\frac{341}{1296}, \\frac{108031}{279936}, \\frac{1339018029701}{2821109907456}, \\frac{663397206470899569501151}{1326443518324400147398656}, \\frac{31770605684172649673767341248855588372799862163141}{63340286662973277706162286946811886609896461828096}\\right]$"
      ],
      "text/plain": [
       "[1/6,\n",
       " 341/1296,\n",
       " 108031/279936,\n",
       " 1339018029701/2821109907456,\n",
       " 663397206470899569501151/1326443518324400147398656,\n",
       " 31770605684172649673767341248855588372799862163141/63340286662973277706162286946811886609896461828096]"
      ]
     },
     "metadata": {},
     "output_type": "display_data"
    },
    {
     "data": {
      "text/html": [
       "<html>\\(\\displaystyle \\left[0.501586073539903, 0.501590339167761, 0.501590339204269, 0.501590339204269, 0.501590339204269\\right]\\)</html>"
      ],
      "text/latex": [
       "$\\displaystyle \\left[0.501586073539903, 0.501590339167761, 0.501590339204269, 0.501590339204269, 0.501590339204269\\right]$"
      ],
      "text/plain": [
       "[0.501586073539903,\n",
       " 0.501590339167761,\n",
       " 0.501590339204269,\n",
       " 0.501590339204269,\n",
       " 0.501590339204269]"
      ]
     },
     "metadata": {},
     "output_type": "display_data"
    }
   ],
   "source": [
    "for i in [1..5]:\n",
    "    show(A(i).simplify().expand())\n",
    "show([A(i)(q=5/6).simplify() for i in [1..6]])\n",
    "show([numerical_approx(A(i)(q=5/6).simplify()) for i in [6..10]])"
   ]
  },
  {
   "cell_type": "markdown",
   "id": "8943c38a-f8f9-4bf3-a29c-318a92f0ff40",
   "metadata": {},
   "source": [
    "And now we can get an exact expression for the probability that player A wins.  Based on the\n",
    "infinite sum, I believe it's irrational."
   ]
  },
  {
   "cell_type": "code",
   "execution_count": 17,
   "id": "17e1e69d-b869-4ddb-8e53-30e79b6ec4f5",
   "metadata": {},
   "outputs": [
    {
     "data": {
      "text/html": [
       "<html>\\(\\displaystyle -{\\sum_{l=1}^{+\\infty} \\left(\\frac{5}{6}\\right)^{\\left(2^{l - 1}\\right)} {\\sum_{j=1}^{l - 1} {\\left(\\left(\\frac{5}{6}\\right)^{\\left(2^{j - 1}\\right)} \\left(-1\\right)^{j + l} - \\left(\\frac{5}{6}\\right)^{\\left(2^{j}\\right)} \\left(-1\\right)^{j + l}\\right)} {\\prod_{k=1}^{-j + l - 1} \\left(\\frac{5}{6}\\right)^{\\left(2^{j + k - 1}\\right)} - 1}}} + \\frac{1}{6}\\)</html>"
      ],
      "text/latex": [
       "$\\displaystyle -{\\sum_{l=1}^{+\\infty} \\left(\\frac{5}{6}\\right)^{\\left(2^{l - 1}\\right)} {\\sum_{j=1}^{l - 1} {\\left(\\left(\\frac{5}{6}\\right)^{\\left(2^{j - 1}\\right)} \\left(-1\\right)^{j + l} - \\left(\\frac{5}{6}\\right)^{\\left(2^{j}\\right)} \\left(-1\\right)^{j + l}\\right)} {\\prod_{k=1}^{-j + l - 1} \\left(\\frac{5}{6}\\right)^{\\left(2^{j + k - 1}\\right)} - 1}}} + \\frac{1}{6}$"
      ],
      "text/plain": [
       "-sum((5/6)^(2^(l - 1))*sum(((5/6)^(2^(j - 1))*(-1)^(j + l) - (5/6)^(2^j)*(-1)^(j + l))*product((5/6)^(2^(j + k - 1)) - 1, k, 1, -j + l - 1), j, 1, l - 1), l, 1, +Infinity) + 1/6"
      ]
     },
     "execution_count": 17,
     "metadata": {},
     "output_type": "execute_result"
    }
   ],
   "source": [
    "A(oo)(q=5/6)"
   ]
  },
  {
   "cell_type": "markdown",
   "id": "e940503a-817c-4acf-87a0-eb83a7afaec2",
   "metadata": {},
   "source": [
    "Further thoughts\n",
    "----------------\n",
    "It might be interesting to see what a graph of $A(q)$ looks like."
   ]
  },
  {
   "cell_type": "code",
   "execution_count": 18,
   "id": "cbfc1a3e-f3c6-4a4a-b586-2aea34bc6d47",
   "metadata": {},
   "outputs": [
    {
     "data": {
      "image/png": "[encoded data removed]",
      "text/plain": [
       "Graphics object consisting of 6 graphics primitives"
      ]
     },
     "execution_count": 18,
     "metadata": {},
     "output_type": "execute_result"
    }
   ],
   "source": [
    "plot([A(i).simplify() for i in [6,8,12]]+[solve(eqn1,w)[0].rhs()(p=1-q),w_abba(p=1-q)],q,0,1,legend_label=[\"6 rounds\",\"8 rounds\",\"12 rounds\",\"AB\",\"ABBA\"]) + plot(0.5,x,0,1,color=\"gray\",linestyle=\"dashed\",legend_label=\"0.5\")"
   ]
  },
  {
   "cell_type": "markdown",
   "id": "3c02f32d-6e3d-4a56-952c-c8b87608c608",
   "metadata": {},
   "source": [
    "So as the chance of winning on a given roll goes down, as when the number of sides of the die goes up,\n",
    "the chance that player A wins approaches 1/2 from above, and it takes more rounds before one player wins.\n",
    "Player A has a greater advantage when the die has fewer sides."
   ]
  },
  {
   "cell_type": "code",
   "execution_count": 19,
   "id": "dc44d181-5d02-4255-8624-87e67ca8c6d8",
   "metadata": {},
   "outputs": [
    {
     "data": {
      "text/html": [
       "<html>\\(\\displaystyle \\left[\\left(1, 1.00000000000000\\right), \\left(2, 0.587545966359892\\right), \\left(3, 0.523764883162973\\right), \\left(4, 0.508325222149083\\right), \\left(5, 0.503435397140515\\right), \\left(6, 0.501590339204269\\right)\\right]\\)</html>"
      ],
      "text/latex": [
       "$\\displaystyle \\left[\\left(1, 1.00000000000000\\right), \\left(2, 0.587545966359892\\right), \\left(3, 0.523764883162973\\right), \\left(4, 0.508325222149083\\right), \\left(5, 0.503435397140515\\right), \\left(6, 0.501590339204269\\right)\\right]$"
      ],
      "text/plain": [
       "[(1, 1.00000000000000),\n",
       " (2, 0.587545966359892),\n",
       " (3, 0.523764883162973),\n",
       " (4, 0.508325222149083),\n",
       " (5, 0.503435397140515),\n",
       " (6, 0.501590339204269)]"
      ]
     },
     "execution_count": 19,
     "metadata": {},
     "output_type": "execute_result"
    }
   ],
   "source": [
    "[(i,numerical_approx(A(10)(q=(i-1)/i).simplify())) for i in [1..6]]"
   ]
  },
  {
   "cell_type": "markdown",
   "id": "4c4c1a7e-5151-4c3c-8473-318664a4120a",
   "metadata": {},
   "source": [
    "### Cleaner looking expression\n",
    "Trying to make the exact solution cleaner with explicit manipulations.\n",
    "I don't know why I can't keep it from putting the stupid minus signs where it\n",
    "keeps giving $-\\sum -x$ instead of $+\\sum x$ and trying to fix it undoes my other\n",
    "substitutions."
   ]
  },
  {
   "cell_type": "code",
   "execution_count": 20,
   "id": "1cf4f923-6d25-42c9-afe5-85ff9aa525be",
   "metadata": {},
   "outputs": [
    {
     "data": {
      "text/html": [
       "<html>\\(\\displaystyle n \\ {\\mapsto}\\ -q - {\\sum_{i=1}^{n} -\\left(-1\\right)^{i} q^{\\left(2^{i - 1}\\right)} {\\sum_{j=1}^{i - 1} \\left(-1\\right)^{j} {\\left(q^{\\left(2^{j - 1}\\right)} - 1\\right)} q^{\\left(2^{j - 1}\\right)} {\\prod_{k=1}^{i - j - 1} q^{\\left(2^{j + k - 1}\\right)} - 1}}} + 1\\)</html>"
      ],
      "text/latex": [
       "$\\displaystyle n \\ {\\mapsto}\\ -q - {\\sum_{i=1}^{n} -\\left(-1\\right)^{i} q^{\\left(2^{i - 1}\\right)} {\\sum_{j=1}^{i - 1} \\left(-1\\right)^{j} {\\left(q^{\\left(2^{j - 1}\\right)} - 1\\right)} q^{\\left(2^{j - 1}\\right)} {\\prod_{k=1}^{i - j - 1} q^{\\left(2^{j + k - 1}\\right)} - 1}}} + 1$"
      ],
      "text/plain": [
       "n |--> -q - sum(-(-1)^i*q^(2^(i - 1))*sum((-1)^j*(q^(2^(j - 1)) - 1)*q^(2^(j - 1))*product(q^(2^(j + k - 1)) - 1, k, 1, i - j - 1), j, 1, i - 1), i, 1, n) + 1"
      ]
     },
     "execution_count": 20,
     "metadata": {},
     "output_type": "execute_result"
    }
   ],
   "source": [
    "i = var('i')\n",
    "pfactor = product(q^(2^(j+k-1))-1,k,1,-j+l-1)\n",
    "term = (-1)^j*q^(2^(j-1))*(1-q^(2^(j-1)))\n",
    "substTo = q^(2^(l-1))*(-1)^l*sum(term*pfactor,j,1,l-1)\n",
    "substFrom = q^(2^(l-1))*sum((((-1)^(j+l)*q^(2^(j-1))-(-1)^(j+l)*q^(2^j)))*pfactor,j,1,l-1)\n",
    "AA = A.substitute(substFrom == substTo).substitute(term.simplify_full() == term).substitute(l == i)\n",
    "AA"
   ]
  },
  {
   "cell_type": "code",
   "execution_count": 21,
   "id": "25e9142b-b984-46ad-b128-2f4e11a96d22",
   "metadata": {},
   "outputs": [
    {
     "data": {
      "text/html": [
       "<html>\\(\\displaystyle -q + 1\\)</html>"
      ],
      "text/latex": [
       "$\\displaystyle -q + 1$"
      ],
      "text/plain": [
       "-q + 1"
      ]
     },
     "metadata": {},
     "output_type": "display_data"
    },
    {
     "data": {
      "text/html": [
       "<html>\\(\\displaystyle -q^{4} + q^{3} - q + 1\\)</html>"
      ],
      "text/latex": [
       "$\\displaystyle -q^{4} + q^{3} - q + 1$"
      ],
      "text/plain": [
       "-q^4 + q^3 - q + 1"
      ]
     },
     "metadata": {},
     "output_type": "display_data"
    },
    {
     "data": {
      "text/html": [
       "<html>\\(\\displaystyle -q^{7} + q^{5} - q^{4} + q^{3} - q + 1\\)</html>"
      ],
      "text/latex": [
       "$\\displaystyle -q^{7} + q^{5} - q^{4} + q^{3} - q + 1$"
      ],
      "text/plain": [
       "-q^7 + q^5 - q^4 + q^3 - q + 1"
      ]
     },
     "metadata": {},
     "output_type": "display_data"
    },
    {
     "data": {
      "text/html": [
       "<html>\\(\\displaystyle -q^{16} + q^{15} - q^{13} + q^{12} - q^{11} + q^{9} - q^{7} + q^{5} - q^{4} + q^{3} - q + 1\\)</html>"
      ],
      "text/latex": [
       "$\\displaystyle -q^{16} + q^{15} - q^{13} + q^{12} - q^{11} + q^{9} - q^{7} + q^{5} - q^{4} + q^{3} - q + 1$"
      ],
      "text/plain": [
       "-q^16 + q^15 - q^13 + q^12 - q^11 + q^9 - q^7 + q^5 - q^4 + q^3 - q + 1"
      ]
     },
     "metadata": {},
     "output_type": "display_data"
    },
    {
     "data": {
      "text/html": [
       "<html>\\(\\displaystyle -q^{31} + q^{29} - q^{28} + q^{27} - q^{25} + q^{23} - q^{21} + q^{20} - q^{19} + q^{17} - q^{16} + q^{15} - q^{13} + q^{12} - q^{11} + q^{9} - q^{7} + q^{5} - q^{4} + q^{3} - q + 1\\)</html>"
      ],
      "text/latex": [
       "$\\displaystyle -q^{31} + q^{29} - q^{28} + q^{27} - q^{25} + q^{23} - q^{21} + q^{20} - q^{19} + q^{17} - q^{16} + q^{15} - q^{13} + q^{12} - q^{11} + q^{9} - q^{7} + q^{5} - q^{4} + q^{3} - q + 1$"
      ],
      "text/plain": [
       "-q^31 + q^29 - q^28 + q^27 - q^25 + q^23 - q^21 + q^20 - q^19 + q^17 - q^16 + q^15 - q^13 + q^12 - q^11 + q^9 - q^7 + q^5 - q^4 + q^3 - q + 1"
      ]
     },
     "metadata": {},
     "output_type": "display_data"
    },
    {
     "data": {
      "text/html": [
       "<html>\\(\\displaystyle \\left[\\frac{1}{6}, \\frac{341}{1296}, \\frac{108031}{279936}, \\frac{1339018029701}{2821109907456}, \\frac{663397206470899569501151}{1326443518324400147398656}, \\frac{31770605684172649673767341248855588372799862163141}{63340286662973277706162286946811886609896461828096}\\right]\\)</html>"
      ],
      "text/latex": [
       "$\\displaystyle \\left[\\frac{1}{6}, \\frac{341}{1296}, \\frac{108031}{279936}, \\frac{1339018029701}{2821109907456}, \\frac{663397206470899569501151}{1326443518324400147398656}, \\frac{31770605684172649673767341248855588372799862163141}{63340286662973277706162286946811886609896461828096}\\right]$"
      ],
      "text/plain": [
       "[1/6,\n",
       " 341/1296,\n",
       " 108031/279936,\n",
       " 1339018029701/2821109907456,\n",
       " 663397206470899569501151/1326443518324400147398656,\n",
       " 31770605684172649673767341248855588372799862163141/63340286662973277706162286946811886609896461828096]"
      ]
     },
     "metadata": {},
     "output_type": "display_data"
    },
    {
     "data": {
      "text/html": [
       "<html>\\(\\displaystyle \\left[0.501586073539903, 0.501590339167761, 0.501590339204269, 0.501590339204269, 0.501590339204269\\right]\\)</html>"
      ],
      "text/latex": [
       "$\\displaystyle \\left[0.501586073539903, 0.501590339167761, 0.501590339204269, 0.501590339204269, 0.501590339204269\\right]$"
      ],
      "text/plain": [
       "[0.501586073539903,\n",
       " 0.501590339167761,\n",
       " 0.501590339204269,\n",
       " 0.501590339204269,\n",
       " 0.501590339204269]"
      ]
     },
     "metadata": {},
     "output_type": "display_data"
    }
   ],
   "source": [
    "for i in [1..5]:\n",
    "    show(AA(i).simplify().expand())\n",
    "show([AA(i)(q=5/6).simplify() for i in [1..6]])\n",
    "show([numerical_approx(AA(i)(q=5/6).simplify()) for i in [6..10]])"
   ]
  },
  {
   "cell_type": "code",
   "execution_count": 22,
   "id": "a229cf06-76af-4d05-86b7-7b722e9c3cc9",
   "metadata": {},
   "outputs": [
    {
     "data": {
      "text/html": [
       "<html>\\(\\displaystyle -{\\sum_{i=1}^{+\\infty} -\\left(\\frac{5}{6}\\right)^{\\left(2^{i - 1}\\right)} \\left(-1\\right)^{i} {\\sum_{j=1}^{i - 1} {\\left(\\left(\\frac{5}{6}\\right)^{\\left(2^{j - 1}\\right)} - 1\\right)} \\left(\\frac{5}{6}\\right)^{\\left(2^{j - 1}\\right)} \\left(-1\\right)^{j} {\\prod_{k=1}^{i - j - 1} \\left(\\frac{5}{6}\\right)^{\\left(2^{j + k - 1}\\right)} - 1}}} + \\frac{1}{6}\\)</html>"
      ],
      "text/latex": [
       "$\\displaystyle -{\\sum_{i=1}^{+\\infty} -\\left(\\frac{5}{6}\\right)^{\\left(2^{i - 1}\\right)} \\left(-1\\right)^{i} {\\sum_{j=1}^{i - 1} {\\left(\\left(\\frac{5}{6}\\right)^{\\left(2^{j - 1}\\right)} - 1\\right)} \\left(\\frac{5}{6}\\right)^{\\left(2^{j - 1}\\right)} \\left(-1\\right)^{j} {\\prod_{k=1}^{i - j - 1} \\left(\\frac{5}{6}\\right)^{\\left(2^{j + k - 1}\\right)} - 1}}} + \\frac{1}{6}$"
      ],
      "text/plain": [
       "-sum(-(5/6)^(2^(i - 1))*(-1)^i*sum(((5/6)^(2^(j - 1)) - 1)*(5/6)^(2^(j - 1))*(-1)^j*product((5/6)^(2^(j + k - 1)) - 1, k, 1, i - j - 1), j, 1, i - 1), i, 1, +Infinity) + 1/6"
      ]
     },
     "execution_count": 22,
     "metadata": {},
     "output_type": "execute_result"
    }
   ],
   "source": [
    "AA(oo)(q=5/6)"
   ]
  },
  {
   "cell_type": "markdown",
   "id": "905204f0-bb6c-4bed-bf72-53985419c7f3",
   "metadata": {},
   "source": [
    "More parentheses would help.  The rightmost -1 is inside the product, which is inside the inner sum.\n",
    "The 1/6 is outside of the outer sum."
   ]
  }
 ],
 "metadata": {
  "kernelspec": {
   "display_name": "SageMath 10.3",
   "language": "sage",
   "name": "sagemath-10.3"
  },
  "language_info": {
   "codemirror_mode": {
    "name": "ipython",
    "version": 3
   },
   "file_extension": ".py",
   "mimetype": "text/x-python",
   "name": "python",
   "nbconvert_exporter": "python",
   "pygments_lexer": "ipython3",
   "version": "3.11.8"
  }
 },
 "nbformat": 4,
 "nbformat_minor": 5
}
