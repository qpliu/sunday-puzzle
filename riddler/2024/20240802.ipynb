{
 "cells": [
  {
   "cell_type": "markdown",
   "id": "ed42a7c0-35f7-4224-b2af-a96b59dfa0ce",
   "metadata": {},
   "source": [
    "[2024-08-02 Fiddler](https://thefiddler.substack.com/p/can-you-hack-the-olympics)\n",
    "====================\n",
    "Let the skate order be A, B, C, D.\n",
    "\n",
    "Skater D can only win by being in first place after she skates.\n",
    "\n",
    "Let's just brute force it."
   ]
  },
  {
   "cell_type": "code",
   "execution_count": 1,
   "id": "562d677a-81c2-40df-a4d7-223d188d190e",
   "metadata": {},
   "outputs": [
    {
     "data": {
      "text/plain": [
       "(1/24, 0.0416666666666667)"
      ]
     },
     "execution_count": 1,
     "metadata": {},
     "output_type": "execute_result"
    }
   ],
   "source": [
    "def leader(short, free):\n",
    "    standings = [(short.index(p)/2 + free.index(p),free.index(p),p) for p in free]\n",
    "    standings.sort()\n",
    "    return standings[0][2]\n",
    "\n",
    "def brute_force(n):\n",
    "    count = 0\n",
    "    for short in Permutations(n).list():\n",
    "        for free in Permutations(n).list():\n",
    "            winner = leader(short, free)\n",
    "            notLeader = False\n",
    "            for skater in [winner..n]:\n",
    "                if winner != leader(short, [p for p in filter(lambda x: x <= skater,free)]):\n",
    "                    notLeader = True\n",
    "                    break\n",
    "            if notLeader:\n",
    "                count = count+1\n",
    "    return count/factorial(n)^2\n",
    "(brute_force(4),numerical_approx(brute_force(4)))"
   ]
  },
  {
   "cell_type": "markdown",
   "id": "81312dbc-89d8-44a3-88f5-e9d3a1c48471",
   "metadata": {},
   "source": [
    "The probability is 1/24, about 4.167%."
   ]
  },
  {
   "cell_type": "markdown",
   "id": "2b949ba1-2300-4209-bbae-8234500245cf",
   "metadata": {},
   "source": [
    "Extra credit\n",
    "------------\n",
    "Brute force some values to see what it looks like."
   ]
  },
  {
   "cell_type": "code",
   "execution_count": 2,
   "id": "2db42368-c277-4e23-9cdb-37fe5aebbe10",
   "metadata": {},
   "outputs": [
    {
     "name": "stdout",
     "output_type": "stream",
     "text": [
      "1 0 0.000000000000000\n",
      "2 0 0.000000000000000\n",
      "3 0 0.000000000000000\n",
      "4 1/24 0.0416666666666667\n",
      "5 29/450 0.0644444444444444\n"
     ]
    }
   ],
   "source": [
    "for n in [1..5]:\n",
    "    p = brute_force(n)\n",
    "    print(n,p,numerical_approx(p))"
   ]
  },
  {
   "cell_type": "markdown",
   "id": "6a8b7d0f-5b10-40ad-8a63-b5bee0fe86c2",
   "metadata": {},
   "source": [
    "Brute force becomes too slow for more than 5 skaters.  Let's look at the 24 cases with 4 skaters."
   ]
  },
  {
   "cell_type": "code",
   "execution_count": 3,
   "id": "b6eaf59c-c46c-49e9-87a1-aace81ec9420",
   "metadata": {},
   "outputs": [
    {
     "name": "stdout",
     "output_type": "stream",
     "text": [
      "3 3 False [1, 2, 4, 3] [3, 4, 1, 2] [(3/2, 0, 3), (2, 1, 4), (2, 2, 1), (7/2, 3, 2)] [(1, 1, 1), (3/2, 0, 3), (5/2, 2, 2)] False\n",
      "2 2 False [1, 3, 4, 2] [2, 3, 1, 4] [(3/2, 0, 2), (3/2, 1, 3), (2, 2, 1), (4, 3, 4)] [(1, 1, 1), (3/2, 0, 2)] False\n",
      "2 2 False [1, 3, 4, 2] [2, 3, 4, 1] [(3/2, 0, 2), (3/2, 1, 3), (3, 2, 4), (3, 3, 1)] [(1, 1, 1), (3/2, 0, 2)] False\n",
      "2 2 False [1, 3, 4, 2] [2, 4, 1, 3] [(3/2, 0, 2), (2, 1, 4), (2, 2, 1), (7/2, 3, 3)] [(1, 1, 1), (3/2, 0, 2)] False\n",
      "2 3 True [1, 3, 4, 2] [2, 4, 1, 3] [(3/2, 0, 2), (2, 1, 4), (2, 2, 1), (7/2, 3, 3)] [(1, 1, 1), (3/2, 0, 2), (5/2, 2, 3)] False\n",
      "2 2 False [1, 3, 4, 2] [2, 4, 3, 1] [(3/2, 0, 2), (2, 1, 4), (5/2, 2, 3), (3, 3, 1)] [(1, 1, 1), (3/2, 0, 2)] False\n",
      "3 3 False [1, 4, 2, 3] [3, 4, 1, 2] [(3/2, 0, 3), (3/2, 1, 4), (2, 2, 1), (4, 3, 2)] [(1, 1, 1), (3/2, 0, 3), (3, 2, 2)] True\n",
      "2 2 False [1, 4, 3, 2] [2, 3, 1, 4] [(3/2, 0, 2), (2, 1, 3), (2, 2, 1), (7/2, 3, 4)] [(1, 1, 1), (3/2, 0, 2)] False\n",
      "2 2 False [1, 4, 3, 2] [2, 3, 4, 1] [(3/2, 0, 2), (2, 1, 3), (5/2, 2, 4), (3, 3, 1)] [(1, 1, 1), (3/2, 0, 2)] False\n",
      "2 2 False [1, 4, 3, 2] [2, 4, 1, 3] [(3/2, 0, 2), (3/2, 1, 4), (2, 2, 1), (4, 3, 3)] [(1, 1, 1), (3/2, 0, 2)] False\n",
      "2 3 True [1, 4, 3, 2] [2, 4, 1, 3] [(3/2, 0, 2), (3/2, 1, 4), (2, 2, 1), (4, 3, 3)] [(1, 1, 1), (3/2, 0, 2), (3, 2, 3)] True\n",
      "2 2 False [1, 4, 3, 2] [2, 4, 3, 1] [(3/2, 0, 2), (3/2, 1, 4), (3, 2, 3), (3, 3, 1)] [(1, 1, 1), (3/2, 0, 2)] False\n",
      "3 3 False [2, 1, 4, 3] [3, 4, 2, 1] [(3/2, 0, 3), (2, 1, 4), (2, 2, 2), (7/2, 3, 1)] [(1, 1, 2), (3/2, 0, 3), (5/2, 2, 1)] False\n",
      "1 2 False [2, 3, 4, 1] [1, 3, 2, 4] [(3/2, 0, 1), (3/2, 1, 3), (2, 2, 2), (4, 3, 4)] [(1, 1, 2), (3/2, 0, 1)] False\n",
      "1 2 False [2, 3, 4, 1] [1, 3, 4, 2] [(3/2, 0, 1), (3/2, 1, 3), (3, 2, 4), (3, 3, 2)] [(1, 1, 2), (3/2, 0, 1)] False\n",
      "1 2 False [2, 3, 4, 1] [1, 4, 2, 3] [(3/2, 0, 1), (2, 1, 4), (2, 2, 2), (7/2, 3, 3)] [(1, 1, 2), (3/2, 0, 1)] False\n",
      "1 3 True [2, 3, 4, 1] [1, 4, 2, 3] [(3/2, 0, 1), (2, 1, 4), (2, 2, 2), (7/2, 3, 3)] [(1, 1, 2), (3/2, 0, 1), (5/2, 2, 3)] False\n",
      "1 2 False [2, 3, 4, 1] [1, 4, 3, 2] [(3/2, 0, 1), (2, 1, 4), (5/2, 2, 3), (3, 3, 2)] [(1, 1, 2), (3/2, 0, 1)] False\n",
      "3 3 False [2, 4, 1, 3] [3, 4, 2, 1] [(3/2, 0, 3), (3/2, 1, 4), (2, 2, 2), (4, 3, 1)] [(1, 1, 2), (3/2, 0, 3), (3, 2, 1)] True\n",
      "1 2 False [2, 4, 3, 1] [1, 3, 2, 4] [(3/2, 0, 1), (2, 1, 3), (2, 2, 2), (7/2, 3, 4)] [(1, 1, 2), (3/2, 0, 1)] False\n",
      "1 2 False [2, 4, 3, 1] [1, 3, 4, 2] [(3/2, 0, 1), (2, 1, 3), (5/2, 2, 4), (3, 3, 2)] [(1, 1, 2), (3/2, 0, 1)] False\n",
      "1 2 False [2, 4, 3, 1] [1, 4, 2, 3] [(3/2, 0, 1), (3/2, 1, 4), (2, 2, 2), (4, 3, 3)] [(1, 1, 2), (3/2, 0, 1)] False\n",
      "1 3 True [2, 4, 3, 1] [1, 4, 2, 3] [(3/2, 0, 1), (3/2, 1, 4), (2, 2, 2), (4, 3, 3)] [(1, 1, 2), (3/2, 0, 1), (3, 2, 3)] True\n",
      "1 2 False [2, 4, 3, 1] [1, 4, 3, 2] [(3/2, 0, 1), (3/2, 1, 4), (3, 2, 3), (3, 3, 2)] [(1, 1, 2), (3/2, 0, 1)] False\n",
      "2 3 False [3, 1, 4, 2] [2, 4, 3, 1] [(3/2, 0, 2), (2, 1, 4), (2, 2, 3), (7/2, 3, 1)] [(1, 1, 3), (3/2, 0, 2), (5/2, 2, 1)] False\n",
      "1 3 False [3, 2, 4, 1] [1, 4, 3, 2] [(3/2, 0, 1), (2, 1, 4), (2, 2, 3), (7/2, 3, 2)] [(1, 1, 3), (3/2, 0, 1), (5/2, 2, 2)] False\n",
      "2 3 False [3, 4, 1, 2] [2, 4, 3, 1] [(3/2, 0, 2), (3/2, 1, 4), (2, 2, 3), (4, 3, 1)] [(1, 1, 3), (3/2, 0, 2), (3, 2, 1)] True\n",
      "1 3 False [3, 4, 2, 1] [1, 4, 3, 2] [(3/2, 0, 1), (3/2, 1, 4), (2, 2, 3), (4, 3, 2)] [(1, 1, 3), (3/2, 0, 1), (3, 2, 2)] True\n"
     ]
    }
   ],
   "source": [
    "def examine(n):\n",
    "    for short in Permutations(n):\n",
    "        for free in Permutations(n):\n",
    "            finalStandings = [(short.index(p)/2 + free.index(p),free.index(p),p) for p in free]\n",
    "            finalStandings.sort()\n",
    "            winner = finalStandings[0][2]\n",
    "            redundant = False\n",
    "            for skater in [winner..n]:\n",
    "                currentFree = [p for p in filter(lambda x: x <= skater,free)]\n",
    "                currentStandings = [(short.index(p)/2 + currentFree.index(p),currentFree.index(p),p) for p in currentFree]\n",
    "                currentStandings.sort()\n",
    "                if winner != currentStandings[0][2]:\n",
    "                    print(winner,skater,redundant,short,free,finalStandings,currentStandings, \\\n",
    "                          n == 4 and len(currentStandings) == 3 and \\\n",
    "                          short[0] == free[2] and short[0] == currentStandings[0][2] and short[0] == finalStandings[2][2] and \\\n",
    "                          short[1] == 4 and free[1] == 4 and finalStandings[1][2] == 4 and \\\n",
    "                          short[2] == free[3] and short[2] == currentStandings[2][2] and short[2] == finalStandings[3][2] and \\\n",
    "                          short[3] == winner and free[0] == winner and currentStandings[1][2] == winner)\n",
    "                    redundant = True\n",
    "examine(4)"
   ]
  },
  {
   "cell_type": "markdown",
   "id": "08d44819-fc81-41c2-a5a0-218d486cdda7",
   "metadata": {},
   "source": [
    "I don't have any insights from looking at this.  6 of them are consistent with the 2002 Olympics scenario:\n",
    "since Slutskaya skates last, there are 3!=6 ways the other 3 skaters can be ordered."
   ]
  },
  {
   "cell_type": "markdown",
   "id": "f3c14f17-5768-4f63-a7a7-7441b339fd7c",
   "metadata": {},
   "source": [
    "Let skater $n$ be the skater that finished $n$th in the free skate.  Let $S_n$ be her finish in the short program,\n",
    "and $T_n$ be her skate order.  There are $N!^2$ possibilities.\n",
    "\n",
    "With $S_n$ alone, we can determine the winner.  And, with $N!$ possiblities in the skate order, we can determine\n",
    "the probability that some skater was ahead of the winner in the overall standings at some point.\n",
    "\n",
    "Consider skaters $i$ and $j > i$.  If $S_i \\le S_j$, then skater $j$ will never be ahead of skater $i$.  There are\n",
    "$j - i - 1$ skaters between them in the free skate rankings, and $r$ of them, where $0 \\le r \\le j - i - 1$ have\n",
    "not skated yet when both skaters $i$ and $j$ have finished skating.  The score differential between the two\n",
    "is initially $j - i - r + S_j/2 - S_i/2$, and, when all skaters have finished skating, ends up at $j - i + S_j/2 - S_i/2$.\n",
    "If the differential is greater than or equal to zero, skater $i$ is ahead.  If the differential is less than zero,\n",
    "skater $j$ is ahead.  So if $r > j - i + S_j/2 - S_i/2 \\ge 0$, then skater $i$ would initially be behind skater $j$,\n",
    "but ultimately end up ahead of skater $j$, otherwise, their relative overall standings will not change."
   ]
  },
  {
   "cell_type": "markdown",
   "id": "b5259ab9-f417-4a20-a458-0f4d9a9c4c37",
   "metadata": {},
   "source": [
    "### Probability of winning"
   ]
  },
  {
   "cell_type": "markdown",
   "id": "10d853a6-0226-482e-a5bf-b89d186d9bdb",
   "metadata": {},
   "source": [
    "The probability that skater $n$ finishes behind skater 1 is the probability that $n + S_n/2 \\ge 1 + S_1/2$,\n",
    "or $S_1 \\le S_n + 2n - 2$.  There are $\\min(N-1,S_n+2n-3)$ skaters out of $N-1$ (excluding skater $n$), so\n",
    "the probability that skater $n$ finishes ahead of skater 1 is\n",
    "$1 - \\min(N-1,S_n+2n-3)/(N-1) = (N-1-\\min(N-1,S_n+2n-3))/(N-1)$.\n",
    "\n",
    "The probability that skater $n$ finishes behind skater 2, given that skater $n$ finishes ahead of skater 1,\n",
    "is the probability that $n + S_n/2 \\ge 2 + S_2/2$, or $S_2 \\le S_n + 2n - 4$.  There are\n",
    "$\\min(N-2,S_n+2n-5)$ skaters out of $N-2$ (excluding skaters 1 and $n$), so the probability that skater $n$\n",
    "finishes ahead of skater 2 is\n",
    "$1 - \\min(N-2,S_n+2n-5)/(N-2) = (N-2-\\min(N-2,S_n+2n-5))/(N-2)$.\n",
    "\n",
    "Continuing in the same vein up to skater $n-1$, the probability that skater $n$ finishes behind skater $i$,\n",
    "where $i < n$, given that skater $n$ finishes ahead of skaters 1 through $i-1$, is the probability  that\n",
    "$n + S_n/2 \\ge i + S_i/2$, or $S_i \\le S_n + 2n - 2i$.  There are\n",
    "$\\min(N-i,S_n+2n-2i-1)$ skaters out of $N-i$,\n",
    "so the probability that skater $n$ finishes ahead of skater $i$ is\n",
    "$1 - \\min(N-i,S_n+2n-2i-1)/(N-i) = (N-i-\\min(N-i,S_n+2n-2i-1))/(N-i)$."
   ]
  },
  {
   "cell_type": "markdown",
   "id": "f510adb6-d1c8-43ba-983c-57d83b6bb967",
   "metadata": {},
   "source": [
    "The probability that skater $n$ finishes behind skater $n+1$, given that skater $n$ finishes ahead of\n",
    "skaters 1 through $n-1$, is the probability that $n + S_n/2 > n+1 + S_{n+1}/2$, or $S_{n+1} < S_n - 2$.\n",
    "There are $S_n-3$ skaters out of $N-n$, so the probability that skater $n$ finishes ahead of skater $n+1$\n",
    "is $1 - \\min(0,S_n-3)/(N-n) = (N-n-\\min(0,S_n-3))/(N-n)$.\n",
    "\n",
    "The probability that skater $n$ finishes behind of skater $n+2$, given that skater $n$ finishes ahead of\n",
    "skaters 1 through $n-1$ and $n+1$, is the probability that $n + S_n/2 > n+2 + S_{n+2}/2$, or\n",
    "$S_{n+2} < S_n - 4$.  There are $\\max(0,S_n-5)$ skaters out of $N-n-1$, so the probability that skater $n$\n",
    "finishes ahead of skater $n+2$ is $1 - \\max(0,S_n-5)/(N-n-1) = (N-n-1-\\max(0,S_n-5))/(N-n-1)$.\n",
    "\n",
    "Continuing in the same vein up to skater $N$, the probability that skater $n$ finishes behind skater $n+i$,\n",
    "given that skater $n$ finishes ahead of skaters 1 through $n-1$ and $n+1$ through $n+i-1$, is the\n",
    "probability that $n+S_n/2 > n+i+S_{n+i}/2$, or $S_{n+i} < S_n-2i$.  There are $\\max(0,S_n-2i-1)$ skaters\n",
    "out of $N-n-i+1$, so the probability that skater $n$ finishes ahead of skater $n+i$ is\n",
    "$1 - \\max(0,S_n-2i-1)/(N-n-i+1) = (N-n-i+1-\\max(0,S_n-2i-1))/(N-n-i+1)$."
   ]
  },
  {
   "cell_type": "markdown",
   "id": "0fd0ef3f-acda-46d6-a785-a871cef4f438",
   "metadata": {},
   "source": [
    "Putting it together, the probability that the winner finished $S_n$th in the short program and $n$th in the\n",
    "free skate is\n",
    "\n",
    "$$\\begin{aligned}\n",
    "    W(N,n,S_n) &= \\frac{1}{N}\n",
    "    \\left(\\prod_{i=1}^{n-1} \\frac{N-i-\\min(N-i,S_n+2n-2i-1)}{N-i}\\right)\n",
    "        \\prod_{i=1}^{N-n} \\frac{N-n-i+1-\\max(0,S_n-2i-1)}{N-n-i+1} \\\\\n",
    "    &= \\frac{\\left(\\prod_{i=1}^{n-1} \\left(N-i-\\min(N-i,S_n+2n-2i-1)\\right)\\right)\n",
    "                \\prod_{i=1}^{N-n} \\left(N-n-i+1-\\max(0,S_n-2i-1)\\right)}\n",
    "            {N!} \\\\\n",
    "\\end{aligned}$$"
   ]
  },
  {
   "cell_type": "code",
   "execution_count": 4,
   "id": "4367d49d-db9d-4abd-bb15-c01a8c13bc7a",
   "metadata": {},
   "outputs": [
    {
     "data": {
      "text/html": [
       "<html>\\(\\displaystyle \\left( N, n, S_{n} \\right) \\ {\\mapsto} \\ -\\frac{\\left(-1\\right)^{N + n} \\left(-1\\right)^{n} {\\prod_{i=1}^{N - n} -N + i + n + \\max\\left(0, S_{n} - 2 \\, i - 1\\right) - 1} {\\prod_{i=1}^{n - 1} -N + i + \\min\\left(N - i, S_{n} - 2 \\, i + 2 \\, n - 1\\right)}}{N!}\\)</html>"
      ],
      "text/latex": [
       "$\\displaystyle \\left( N, n, S_{n} \\right) \\ {\\mapsto} \\ -\\frac{\\left(-1\\right)^{N + n} \\left(-1\\right)^{n} {\\prod_{i=1}^{N - n} -N + i + n + \\max\\left(0, S_{n} - 2 \\, i - 1\\right) - 1} {\\prod_{i=1}^{n - 1} -N + i + \\min\\left(N - i, S_{n} - 2 \\, i + 2 \\, n - 1\\right)}}{N!}$"
      ],
      "text/plain": [
       "(N, n, S_n) |--> -(-1)^(N + n)*(-1)^n*product(-N + i + n + max(0, S_n - 2*i - 1) - 1, i, 1, N - n)*product(-N + i + min(N - i, S_n - 2*i + 2*n - 1), i, 1, n - 1)/factorial(N)"
      ]
     },
     "execution_count": 4,
     "metadata": {},
     "output_type": "execute_result"
    }
   ],
   "source": [
    "%display latex\n",
    "i, N, n, S_n = var('i N n S_n')\n",
    "assume(N, \"integer\")\n",
    "assume(n, \"integer\")\n",
    "assume(S_n, \"integer\")\n",
    "assume(N > 1)\n",
    "assume(n >= 1)\n",
    "assume(n <= N)\n",
    "assume(S_n >= 1)\n",
    "assume(S_n <= N)\n",
    "W1(N,n,S_n) = product(N-i-min_symbolic(N-i,S_n+2*n-2*i-1),i,1,n-1)*product(N-n-i+1-max_symbolic(0,S_n-2*i-1),i,1,N-n)/factorial(N)\n",
    "W1"
   ]
  },
  {
   "cell_type": "markdown",
   "id": "19436588-bad6-41d4-9adc-1d780a86ed7e",
   "metadata": {},
   "source": [
    "Check this against a brute force calculation."
   ]
  },
  {
   "cell_type": "code",
   "execution_count": 5,
   "id": "2236d153-eb17-4777-958b-74b0efbd833d",
   "metadata": {},
   "outputs": [],
   "source": [
    "def W_brute_force(N,n,S_n):\n",
    "    count = 0\n",
    "    for S in Permutations(N).list():\n",
    "        if S[n-1] != S_n:\n",
    "            continue\n",
    "        standings = [(i+S[i-1]/2,i) for i in [1..N]]\n",
    "        standings.sort()\n",
    "        if standings[0][1] == n:\n",
    "            count = count+1\n",
    "    return count/factorial(N)"
   ]
  },
  {
   "cell_type": "code",
   "execution_count": 6,
   "id": "ece01764-b0c5-467a-b9d2-3a8dbf61b009",
   "metadata": {},
   "outputs": [
    {
     "data": {
      "text/html": [
       "<html>\\(\\displaystyle \\left[\\left[\\left[\\right]\\right], \\left[\\left[\\right], \\left[\\right]\\right], \\left[\\left[\\right], \\left[\\right], \\left[\\right]\\right], \\left[\\left[\\right], \\left[\\right], \\left[\\right], \\left[\\right]\\right], \\left[\\left[\\right], \\left[\\right], \\left[\\right], \\left[\\right], \\left[\\right]\\right], \\left[\\left[\\right], \\left[\\right], \\left[\\right], \\left[\\right], \\left[\\right], \\left[\\right]\\right]\\right]\\)</html>"
      ],
      "text/latex": [
       "$\\displaystyle \\left[\\left[\\left[\\right]\\right], \\left[\\left[\\right], \\left[\\right]\\right], \\left[\\left[\\right], \\left[\\right], \\left[\\right]\\right], \\left[\\left[\\right], \\left[\\right], \\left[\\right], \\left[\\right]\\right], \\left[\\left[\\right], \\left[\\right], \\left[\\right], \\left[\\right], \\left[\\right]\\right], \\left[\\left[\\right], \\left[\\right], \\left[\\right], \\left[\\right], \\left[\\right], \\left[\\right]\\right]\\right]$"
      ],
      "text/plain": [
       "[[[]],\n",
       " [[], []],\n",
       " [[], [], []],\n",
       " [[], [], [], []],\n",
       " [[], [], [], [], []],\n",
       " [[], [], [], [], [], []]]"
      ]
     },
     "execution_count": 6,
     "metadata": {},
     "output_type": "execute_result"
    }
   ],
   "source": [
    "[[list(filter(lambda x: x != 0, [W1(n,i,j).simplify() - W_brute_force(n,i,j) for i in [1..n]])) for j in [1..n]] for n in [1..6]]"
   ]
  },
  {
   "cell_type": "markdown",
   "id": "96ccbb83-76bd-45b3-af0b-b8ed2fac7020",
   "metadata": {},
   "source": [
    "Break up the products to avoid the $\\max$ and $\\min$ inside the products, allowing them to be expressed as factorials\n",
    "to enable looking at approximations when $N$ is large.  Some wrangling is needed to avoid factorials of negative values."
   ]
  },
  {
   "cell_type": "code",
   "execution_count": 7,
   "id": "69a5656b-c0c3-41f6-87eb-dd08032d221d",
   "metadata": {},
   "outputs": [
    {
     "data": {
      "text/html": [
       "<html>\\(\\displaystyle \\left( N, n, S_{n} \\right) \\ {\\mapsto} \\ \\frac{\\left(-1\\right)^{N + n} \\max\\left(0, N - S_{n} - n\\right)! {\\prod_{i=1}^{N - n} -N + i + n + \\max\\left(0, S_{n} - 2 \\, i - 1\\right) - 1} \\mathrm{u}\\left(N - S_{n} - 2 \\, n + \\mathrm{u}\\left(-n + 1\\right) + 1\\right)}{N! \\max\\left(0, N - S_{n} - 2 \\, n + 1\\right)!}\\)</html>"
      ],
      "text/latex": [
       "$\\displaystyle \\left( N, n, S_{n} \\right) \\ {\\mapsto} \\ \\frac{\\left(-1\\right)^{N + n} \\max\\left(0, N - S_{n} - n\\right)! {\\prod_{i=1}^{N - n} -N + i + n + \\max\\left(0, S_{n} - 2 \\, i - 1\\right) - 1} \\mathrm{u}\\left(N - S_{n} - 2 \\, n + \\mathrm{u}\\left(-n + 1\\right) + 1\\right)}{N! \\max\\left(0, N - S_{n} - 2 \\, n + 1\\right)!}$"
      ],
      "text/plain": [
       "(N, n, S_n) |--> (-1)^(N + n)*factorial(max(0, N - S_n - n))*product(-N + i + n + max(0, S_n - 2*i - 1) - 1, i, 1, N - n)*unit_step(N - S_n - 2*n + unit_step(-n + 1) + 1)/(factorial(N)*factorial(max(0, N - S_n - 2*n + 1)))"
      ]
     },
     "execution_count": 7,
     "metadata": {},
     "output_type": "execute_result"
    }
   ],
   "source": [
    "# product(N-i-min_symbolic(N-i,S_n+2*n-2*i-1),i,1,n-1)\n",
    "# N-i-S_n-2*n+2*i+1 = N-S_n-2*n+1+i, from N-S_n-2*n+2 to N-S_n-n\n",
    "# if N-S_n-2*n+2 <= 0, product is zero => unit_step(N-S_n-2*n+1), except if n=1, product is one\n",
    "W2(N,n,S_n) = unit_step(N-S_n-2*n+1+unit_step(1-n))*factorial(max_symbolic(0,N-S_n-n))/factorial(max_symbolic(0,N-S_n-2*n+1))*product(N-n-i+1-max_symbolic(0,S_n-2*i-1),i,1,N-n)/factorial(N)\n",
    "W2"
   ]
  },
  {
   "cell_type": "code",
   "execution_count": 8,
   "id": "f5718964-fcda-4c08-96bf-41cb67f1dd01",
   "metadata": {},
   "outputs": [
    {
     "data": {
      "text/html": [
       "<html>\\(\\displaystyle \\left[\\left[\\left[\\right]\\right], \\left[\\left[\\right], \\left[\\right]\\right], \\left[\\left[\\right], \\left[\\right], \\left[\\right]\\right], \\left[\\left[\\right], \\left[\\right], \\left[\\right], \\left[\\right]\\right], \\left[\\left[\\right], \\left[\\right], \\left[\\right], \\left[\\right], \\left[\\right]\\right], \\left[\\left[\\right], \\left[\\right], \\left[\\right], \\left[\\right], \\left[\\right], \\left[\\right]\\right]\\right]\\)</html>"
      ],
      "text/latex": [
       "$\\displaystyle \\left[\\left[\\left[\\right]\\right], \\left[\\left[\\right], \\left[\\right]\\right], \\left[\\left[\\right], \\left[\\right], \\left[\\right]\\right], \\left[\\left[\\right], \\left[\\right], \\left[\\right], \\left[\\right]\\right], \\left[\\left[\\right], \\left[\\right], \\left[\\right], \\left[\\right], \\left[\\right]\\right], \\left[\\left[\\right], \\left[\\right], \\left[\\right], \\left[\\right], \\left[\\right], \\left[\\right]\\right]\\right]$"
      ],
      "text/plain": [
       "[[[]],\n",
       " [[], []],\n",
       " [[], [], []],\n",
       " [[], [], [], []],\n",
       " [[], [], [], [], []],\n",
       " [[], [], [], [], [], []]]"
      ]
     },
     "execution_count": 8,
     "metadata": {},
     "output_type": "execute_result"
    }
   ],
   "source": [
    "[[list(filter(lambda x: x != 0, [W2(n,i,j).simplify() - W1(n,i,j) for i in [1..n]])) for j in [1..n]] for n in [1..6]]"
   ]
  },
  {
   "cell_type": "code",
   "execution_count": 9,
   "id": "0a12c524-4694-45b8-b6b1-ba8dfabb3788",
   "metadata": {},
   "outputs": [
    {
     "data": {
      "text/html": [
       "<html>\\(\\displaystyle \\left( N, n, S_{n} \\right) \\ {\\mapsto} \\ \\frac{\\max\\left(0, N - S_{n} - n + \\left \\lceil \\frac{1}{2} \\, S_{n} - \\frac{3}{2} \\right \\rceil + 2\\right)! \\max\\left(0, N - S_{n} - n\\right)! \\max\\left(0, N - n - \\left \\lceil \\frac{1}{2} \\, S_{n} - \\frac{1}{2} \\right \\rceil + 1\\right)! \\mathrm{u}\\left(N - S_{n} - 2 \\, n + \\mathrm{u}\\left(-n + 1\\right) + 1\\right)}{N! \\max\\left(0, N - S_{n} - n + 2\\right)! \\max\\left(0, N - S_{n} - 2 \\, n + 1\\right)!}\\)</html>"
      ],
      "text/latex": [
       "$\\displaystyle \\left( N, n, S_{n} \\right) \\ {\\mapsto} \\ \\frac{\\max\\left(0, N - S_{n} - n + \\left \\lceil \\frac{1}{2} \\, S_{n} - \\frac{3}{2} \\right \\rceil + 2\\right)! \\max\\left(0, N - S_{n} - n\\right)! \\max\\left(0, N - n - \\left \\lceil \\frac{1}{2} \\, S_{n} - \\frac{1}{2} \\right \\rceil + 1\\right)! \\mathrm{u}\\left(N - S_{n} - 2 \\, n + \\mathrm{u}\\left(-n + 1\\right) + 1\\right)}{N! \\max\\left(0, N - S_{n} - n + 2\\right)! \\max\\left(0, N - S_{n} - 2 \\, n + 1\\right)!}$"
      ],
      "text/plain": [
       "(N, n, S_n) |--> factorial(max(0, N - S_n - n + ceil(1/2*S_n - 3/2) + 2))*factorial(max(0, N - S_n - n))*factorial(max(0, N - n - ceil(1/2*S_n - 1/2) + 1))*unit_step(N - S_n - 2*n + unit_step(-n + 1) + 1)/(factorial(N)*factorial(max(0, N - S_n - n + 2))*factorial(max(0, N - S_n - 2*n + 1)))"
      ]
     },
     "execution_count": 9,
     "metadata": {},
     "output_type": "execute_result"
    }
   ],
   "source": [
    "# product(N-n-i+1-max_symbol(0,S_n-2*i-1),i,1,N-n)\n",
    "# max is 0 when S_n-2*i-1 <= 0, 2*i >= S_n-1, i >= (S_n-1)/2\n",
    "# product of N-n-i+1 for i from ceil((S_n-1)/2) to N-n\n",
    "# product from 1 to N-n+1-ceil((S_n-1)/2)\n",
    "# max is not 0 when i < (S_n-1)/2\n",
    "# product of N-n-i+1-S_n+2*i+1 = N-n-S_n+2 + i for i from 1 to ceil((S_n-3)/2)\n",
    "# product from N-n-S_n+3 to N-n-S_n+ceil((S_n-3)/2)\n",
    "W(N,n,S_n) = unit_step(N-S_n-2*n+1+unit_step(1-n))*factorial(max_symbolic(0,N-S_n-n))/factorial(max_symbolic(0,N-S_n-2*n+1)) \\\n",
    "    *factorial(max_symbolic(0,N-n+1-ceil((S_n-1)/2)))*factorial(max_symbolic(0,N-n-S_n+2+ceil((S_n-3)/2)))/factorial(max_symbolic(0,N-n-S_n+2)) \\\n",
    "    /factorial(N)\n",
    "W"
   ]
  },
  {
   "cell_type": "code",
   "execution_count": 10,
   "id": "eabc7643-94a0-4455-8076-8018548fdd60",
   "metadata": {},
   "outputs": [
    {
     "data": {
      "text/html": [
       "<html>\\(\\displaystyle \\left[\\left[\\left[\\right]\\right], \\left[\\left[\\right], \\left[\\right]\\right], \\left[\\left[\\right], \\left[\\right], \\left[\\right]\\right], \\left[\\left[\\right], \\left[\\right], \\left[\\right], \\left[\\right]\\right], \\left[\\left[\\right], \\left[\\right], \\left[\\right], \\left[\\right], \\left[\\right]\\right], \\left[\\left[\\right], \\left[\\right], \\left[\\right], \\left[\\right], \\left[\\right], \\left[\\right]\\right]\\right]\\)</html>"
      ],
      "text/latex": [
       "$\\displaystyle \\left[\\left[\\left[\\right]\\right], \\left[\\left[\\right], \\left[\\right]\\right], \\left[\\left[\\right], \\left[\\right], \\left[\\right]\\right], \\left[\\left[\\right], \\left[\\right], \\left[\\right], \\left[\\right]\\right], \\left[\\left[\\right], \\left[\\right], \\left[\\right], \\left[\\right], \\left[\\right]\\right], \\left[\\left[\\right], \\left[\\right], \\left[\\right], \\left[\\right], \\left[\\right], \\left[\\right]\\right]\\right]$"
      ],
      "text/plain": [
       "[[[]],\n",
       " [[], []],\n",
       " [[], [], []],\n",
       " [[], [], [], []],\n",
       " [[], [], [], [], []],\n",
       " [[], [], [], [], [], []]]"
      ]
     },
     "execution_count": 10,
     "metadata": {},
     "output_type": "execute_result"
    }
   ],
   "source": [
    "[[list(filter(lambda x: x != 0, [W(n,i,j).simplify() - W_brute_force(n,i,j) for i in [1..n]])) for j in [1..n]] for n in [1..6]]"
   ]
  },
  {
   "cell_type": "markdown",
   "id": "87ec8265-f5de-4758-86d4-ec6a35915c97",
   "metadata": {},
   "source": [
    "Numerical exploration suggests that it's probably sufficient to consider $n$ from $1$ to $2\\sqrt{N}$ and $S_n$\n",
    "from $1$ to $N^{2/3}$."
   ]
  },
  {
   "cell_type": "code",
   "execution_count": 11,
   "id": "59947178-4e2c-4a31-92d0-5b1c3b2ac721",
   "metadata": {},
   "outputs": [
    {
     "data": {
      "text/html": [
       "<html>\\(\\displaystyle \\left[0.896868205459925, 0.932399773233505, 0.959337220785101, 0.967440338960884, 0.975599036813840\\right]\\)</html>"
      ],
      "text/latex": [
       "$\\displaystyle \\left[0.896868205459925, 0.932399773233505, 0.959337220785101, 0.967440338960884, 0.975599036813840\\right]$"
      ],
      "text/plain": [
       "[0.896868205459925,\n",
       " 0.932399773233505,\n",
       " 0.959337220785101,\n",
       " 0.967440338960884,\n",
       " 0.975599036813840]"
      ]
     },
     "execution_count": 11,
     "metadata": {},
     "output_type": "execute_result"
    }
   ],
   "source": [
    "[numerical_approx(sum([sum(W(N,n,S_n),S_n,1,floor(N^(2/3))) for n in [1..floor(2*sqrt(N))]])) for N in [50,100,200,300,400]]"
   ]
  },
  {
   "cell_type": "markdown",
   "id": "e3bc5231-d224-45d1-9f21-6240dd27cccf",
   "metadata": {},
   "source": [
    "For large $N$, if we only consider $n < 2\\sqrt{N}$ and $S_n < N^{2/3}$, the factorials should never be negative."
   ]
  },
  {
   "cell_type": "code",
   "execution_count": 12,
   "id": "8091b6bc-8f10-4fb2-b221-4dd0bba12b09",
   "metadata": {},
   "outputs": [
    {
     "data": {
      "image/png": "[encoded data removed]",
      "text/plain": [
       "Graphics object consisting of 1 graphics primitive"
      ]
     },
     "execution_count": 12,
     "metadata": {},
     "output_type": "execute_result"
    }
   ],
   "source": [
    "plot([x-4*sqrt(x)-x^(2/3)],x,10,100)"
   ]
  },
  {
   "cell_type": "code",
   "execution_count": 13,
   "id": "3162b527-860e-4ca7-b8f2-52ca04c3d9b0",
   "metadata": {},
   "outputs": [
    {
     "data": {
      "text/html": [
       "<html>\\(\\displaystyle \\left( N, n, S_{n} \\right) \\ {\\mapsto} \\ \\frac{\\left(N - \\frac{1}{2} \\, S_{n} - n + \\frac{3}{2}\\right)! \\left(N - \\frac{1}{2} \\, S_{n} - n + \\frac{1}{2}\\right)! \\left(N - S_{n} - n\\right)!}{\\left(N - S_{n} - n + 2\\right)! \\left(N - S_{n} - 2 \\, n + 1\\right)! N!}\\)</html>"
      ],
      "text/latex": [
       "$\\displaystyle \\left( N, n, S_{n} \\right) \\ {\\mapsto} \\ \\frac{\\left(N - \\frac{1}{2} \\, S_{n} - n + \\frac{3}{2}\\right)! \\left(N - \\frac{1}{2} \\, S_{n} - n + \\frac{1}{2}\\right)! \\left(N - S_{n} - n\\right)!}{\\left(N - S_{n} - n + 2\\right)! \\left(N - S_{n} - 2 \\, n + 1\\right)! N!}$"
      ],
      "text/plain": [
       "(N, n, S_n) |--> factorial(N - 1/2*S_n - n + 3/2)*factorial(N - 1/2*S_n - n + 1/2)*factorial(N - S_n - n)/(factorial(N - S_n - n + 2)*factorial(N - S_n - 2*n + 1)*factorial(N))"
      ]
     },
     "execution_count": 13,
     "metadata": {},
     "output_type": "execute_result"
    }
   ],
   "source": [
    "W_approx(N,n,S_n) = factorial(N-S_n-n) \\\n",
    "    /factorial(N-S_n-2*n+1) \\\n",
    "    *factorial(N-n+1-(S_n-1)/2) \\\n",
    "    *factorial(N-n-S_n+2+(S_n-3)/2) \\\n",
    "    /factorial(N-n-S_n+2) \\\n",
    "    /factorial(N)\n",
    "W_approx"
   ]
  },
  {
   "cell_type": "code",
   "execution_count": 14,
   "id": "01e75f0c-7759-4a35-be11-2d097582c26d",
   "metadata": {},
   "outputs": [
    {
     "data": {
      "text/html": [
       "<html>\\(\\displaystyle \\left[0.899149929386479, 0.933592420652810, 0.959953753700509, 0.975910201139807\\right]\\)</html>"
      ],
      "text/latex": [
       "$\\displaystyle \\left[0.899149929386479, 0.933592420652810, 0.959953753700509, 0.975910201139807\\right]$"
      ],
      "text/plain": [
       "[0.899149929386479, 0.933592420652810, 0.959953753700509, 0.975910201139807]"
      ]
     },
     "execution_count": 14,
     "metadata": {},
     "output_type": "execute_result"
    }
   ],
   "source": [
    "[numerical_approx(sum([sum(W_approx(N,n,S_n),S_n,1,floor(N^(2/3))) for n in [1..floor(2*sqrt(N))]])) for N in [50,100,200,400]]"
   ]
  },
  {
   "cell_type": "markdown",
   "id": "3fb1f7e0-ad41-4639-ac67-4607587306f0",
   "metadata": {},
   "source": [
    "### Determining if relative standings change"
   ]
  },
  {
   "cell_type": "markdown",
   "id": "ad9d8ccd-af13-41a2-b05a-551518ce0e4e",
   "metadata": {},
   "source": [
    "Given that the winner is skater $n$, whose rank in the short program was $S_n$ and whose rank in the\n",
    "free skate was $n$, what is the probability that she was not first in the overall rankings at some point\n",
    "after finishing her free skate?\n",
    "\n",
    "The winner could only be behind a skater that finished ahead of her in the short program and behind\n",
    "her by more than one place in the free skate, with at least one of the skaters ranking between them\n",
    "not having skated yet.\n",
    "\n",
    "Let $C(N,n,S_n)$ the probability that was behind a skater in the overall standings some time after\n",
    "finishing her free skate.  Then\n",
    "\n",
    "$$ p_N = \\sum_{n=1}^{N} \\sum_{S_n=1}^{N} W(N,n,S_n)C(N,n,S_n) $$"
   ]
  },
  {
   "cell_type": "markdown",
   "id": "6c617dd2-73e1-4a93-93b2-96269039523d",
   "metadata": {},
   "source": [
    "The probability that skater $n+2$ was ahead in the overall rankings is the probability that $S_{n+2}/2 + 1 < S_n/2$\n",
    "and that skater $n+1$ skates after both skater $n$ and $n+2$.  Since $S_{n+2}/2 + 2 \\ge S_n/2$, that means $S_n - 4 \\le S_{n+2} < S_n - 2$, so the first probability is $\\min(2,\\max(0,S_n-3))/(N-1)$.\n",
    "There are 3!=6 relative skate orderings for skaters $n$, $n+1$, and $n+2$, and 2 of them have skater $n+1$ skating last, so the\n",
    "probability that skater $n+2$ was ahead is $\\min(2,\\max(0,S_n-3))/(N-1)\\cdot 2/6$."
   ]
  },
  {
   "cell_type": "code",
   "execution_count": 15,
   "id": "51743e52-125a-4295-9d43-32385e9c7d40",
   "metadata": {},
   "outputs": [],
   "source": [
    "C1(N,S_n) = 2/6*min_symbolic(2,max_symbolic(0,S_n-3))/(N-1)"
   ]
  },
  {
   "cell_type": "markdown",
   "id": "fabcdd40-a443-482a-9f32-4fd61ef0e83f",
   "metadata": {},
   "source": [
    "The probability that skater $n+3$ was ahead in the overall rankings is the probability that\n",
    "$S_{n+3}/2+1 < S_n/2$ and that enough of skaters $n+1$ and $n+2$ skate after both skater $n$ and $n+3$.\n",
    "Since $S_{n+3}/2 + 3 \\ge S_n/2$, that means $S_n - 6 \\le S_{n+3} < S_n - 2$.  If $S_{n+3} = S_n-6$ or $S_{n+3} = S_n-5$,\n",
    "both skaters $n+1$ and $n+2$ have to skate after both skaters $n$ and $n+3$.  If $S_{n+3} = S_n-4$ or $S_{n+3} = S_n-3$,\n",
    "at least one of skaters $n+1$ and $n+2$ must skate after both skaters $n$ and $n+3$.  There are 4!=24 relative\n",
    "skate orderings, and 4 of them have both $n+1$ and $n+2$ as the last 2, and $2\\cdot3!=12$ have have at least one\n",
    "of them last.  So the probability that skater $n+3$ was ahead is\n",
    "$\\min(2,\\max(0,S_n-5))/(N-1)\\cdot 4/24 + \\min(2,\\max(0,S_n-3))/(N-1)\\cdot 12/24$."
   ]
  },
  {
   "cell_type": "code",
   "execution_count": 16,
   "id": "c2ff6137-889c-4bee-a6b7-aeb2f338a726",
   "metadata": {},
   "outputs": [],
   "source": [
    "C2(N,S_n) = 4/24*min_symbolic(2,max_symbolic(0,S_n-5))/(N-1) + 12/24*min_symbolic(2,max_symbolic(0,S_n-3))/(N-1)"
   ]
  },
  {
   "cell_type": "markdown",
   "id": "597e74a8-67e3-4194-9b56-a99cbc32c8a4",
   "metadata": {},
   "source": [
    "C1(4,4) is wrong, since it should be 1/4, not 1/9, if it is to agree with the brute-force answer."
   ]
  },
  {
   "cell_type": "code",
   "execution_count": 17,
   "id": "c00c03ea-f828-480b-bc7f-930ce0da7737",
   "metadata": {},
   "outputs": [
    {
     "data": {
      "text/html": [
       "<html>\\(\\displaystyle \\left[\\left(\\frac{1}{4}, 0\\right), \\left(\\frac{1}{4}, 0\\right), \\left(\\frac{1}{4}, 0\\right), \\left(\\frac{1}{6}, \\frac{1}{9}\\right)\\right]\\)</html>"
      ],
      "text/latex": [
       "$\\displaystyle \\left[\\left(\\frac{1}{4}, 0\\right), \\left(\\frac{1}{4}, 0\\right), \\left(\\frac{1}{4}, 0\\right), \\left(\\frac{1}{6}, \\frac{1}{9}\\right)\\right]$"
      ],
      "text/plain": [
       "[(1/4, 0), (1/4, 0), (1/4, 0), (1/6, 1/9)]"
      ]
     },
     "execution_count": 17,
     "metadata": {},
     "output_type": "execute_result"
    }
   ],
   "source": [
    "[(W(4,1,S_n),C1(4,S_n)) for S_n in [1..4]]"
   ]
  },
  {
   "cell_type": "markdown",
   "id": "81526d80-3167-4cba-8471-491856d4dce7",
   "metadata": {},
   "source": [
    "### Fail\n",
    "It's getting complicated and I'm not seeing where assuming $N$ is large can simplify things, so I'm giving up."
   ]
  },
  {
   "cell_type": "markdown",
   "id": "4862e12f-72b4-499b-8e82-0a61528a8bd8",
   "metadata": {},
   "source": [
    "### Probability of winning after being behind after skating\n",
    "I'll try to calculate the probability that skater $n$ wins having been out of the first place after skating, $P(n,S_n)$.  Then\n",
    "$$  p_N = \\sum_{n=1}^{N} \\sum_{S_n=1}^{N} P(n,S_n)\n",
    "        \\approx \\sum_{n=1}^{2\\sqrt{N}} \\sum_{S_n=1}^{N^{2/3}} P(n,S_n)\n",
    "$$\n",
    "\n",
    "Let $R(n,i)$ be the probability that skater $i$ finishes ahead of skater $n$ or skater $i$ is never ahead of skater $n$\n",
    "in the overall standings, given that skaters $j$, where $j < i$, either finish ahead of skater $n$ or is never ahead\n",
    "of skater $n$.\n",
    "\n",
    "When $i$ < $n$, if skater $i$ does not finish ahead of skater $n$, that means $S_i > S_n$, so skater $i$ also cannot\n",
    "have been ahead of skater $n$ in the overall standings.  Also, for skater $j > i$, we know that $S_i > S_n$.\n",
    "\n",
    "When $i$ > $n$, if skater $i$ does not finish ahead of skater $n$, but could have been ahead of skater $n$ depending\n",
    "on the skate order, that means $S_i$ must be in a specific range.  We know that $S_j$, when $j < n$, cannot be in that\n",
    "range.  However, $S_j$, when $n < j < i$, might be in that range, or might not, and that correlation seems too complicated\n",
    "to figure out.  I'll just wave my hands and claim that, when $N$ is large, the probability that $S_j$ is in that range\n",
    "can be ignored.\n",
    "\n",
    "$$\\begin{aligned}\n",
    "    P(n) &= 1 - Q(n,1) \\\\\n",
    "    Q(n,i) &= R(n,i) + (1-R(n,i)) Q(n,i+1) \\\\\n",
    "    R(n,n) &= 0 \\\\\n",
    "    R(n,N+m) &= 0, \\text{when } m \\ge 1 \\\\\n",
    "\\end{aligned}$$"
   ]
  },
  {
   "cell_type": "markdown",
   "id": "d84c7f6d-ac57-41ad-8558-c9a8ca3a0099",
   "metadata": {},
   "source": [
    "When $i < n$, the probability that skater $i$ finishes behind skater $n$ but was ahead of skater $n$ at some point is 0.\n",
    "The probability that skater $i$ finishes ahead of skater $n$ is the probability that $i + S_i/2 \\le n + S_n/2$, or the\n",
    "probability that $S_i \\le 2(n-i) + S_n$.  We already know that $S_j > (n-j) + S_n$ for $j < i$, so there are $N-i$\n",
    "(all the skaters except skaters $1$ through $i-1$ and skater $n$) possibilities and $2(i-n)+S_n$ of them result in\n",
    "skater $i$ finishing ahead of skater $n$, so\n",
    "\n",
    "$$ R(n,i) = \\frac{2(i-n)+S_n}{N-i}, \\text{when } i < n $$"
   ]
  },
  {
   "cell_type": "markdown",
   "id": "61e21820-0345-45ed-abc9-15a116c88f39",
   "metadata": {},
   "source": [
    "When $i > n$, skater $i$ finishes ahead of skater $n$ is the probability that $i + S_i/2 < n + S_n/2$, or the\n",
    "probability that $S_i < S_n - 2(i-n)$.  We already know that $S_j$, when $j < n$ cannot be in that range.\n",
    "We'll claim that the probability that $S_j$, when $n < j < i$, is in that range can be ignored when $N$ is large.\n",
    "So the probability that skater $i$ finishes ahead of skater $n$ is approximately $\\frac{S_n - 2(n-i) - 1}{N-i-1}$."
   ]
  },
  {
   "cell_type": "markdown",
   "id": "0311325e-c41d-483f-8118-0e74f2d914c8",
   "metadata": {},
   "source": [
    "If skater $i$ finishes behind skater $n$ but was ahead of skater $n$ at some point, then $n + 1 + S_i/2 < n + S_n/2$\n",
    "and $i + S_i/2 < n + S_n/2$, so $S_n - 2(i-n) < S_i < S_n - 2$.  The probability of that is approximately\n",
    "$\\frac{\\max(0,-2-1 -(-2(i-n))}{N-i-1} = \\frac{\\max(0,2(i-n)-3)}{N-i-1}$.  If $i = n+1$, then that is zero, so let's\n",
    "just further stipulate that $i > n+1$, so that the probability is $\\frac{2(i-n)-3}{N-i-1}$.  Given that $S_i$ in in\n",
    "that range, then skater $i$ might have been ahead of skater $n$, depending on the skate order.\n",
    "\n",
    "If $S_i = S_n-3$, then, of the $n-i-1$ skaters $n+1$ through $i-1$, at least one of them must skate after both of them\n",
    "for $S_i$ to lead $S_n$.\n",
    "\n",
    "If $S_i = S_n-4$ or $S_i = S_n-5$, at least two of skaters $n+1$ through $i-1$ must skate after both of them.\n",
    "\n",
    "So, at least $\\text{floor}((S_n-S_i)/2)$ skaters $n+1$ through $i-1$ must skate after both skater $i$ and skater $n$ for\n",
    "skater $i$ to be ahead of skater $n$ then finish behind her.\n",
    "\n",
    "The probability that $S_i$ is any one value, given that $S_j$, where $j < i$, already known to be greater than that value\n",
    "or has a probability of being that value that we claim is small enough to be ignored, is approximately $1/(N-i-1)$.\n",
    "\n",
    "Let $Z(n,i,k)$ be the probability that fewer than $k$ of skaters $n+1$ through $i-1$ skate after both $i$ and $n$.\n",
    "\n",
    "$$ R(n,i) = \\frac{S_n-2(n-1)-1 + \\sum_{S_i=S_n-\\text{floor}((i-n-1)/2)}^{S_n-3} Z(n,i,\\text{floor}((S_n-S_i)/2)}{N-i-1} $$\n"
   ]
  },
  {
   "cell_type": "markdown",
   "id": "9899569d-1fbf-497e-aa6a-c4d996a940bf",
   "metadata": {},
   "source": [
    "For, $Z(n,i,k)$ there are $i-n+1$ skaters who can be ordered in $(i-n+1)!$ ways.  The skaters can be divided into\n",
    "two groups, one with skaters $i$ and $n$, the other with the rest.  The $Z$ is the probability that at least one\n",
    "of the two in the first group is one of the last $k$, so\n",
    "\n",
    "$$\\begin{aligned}\n",
    "    Z(n,i,k) &= \\frac{2}{i-n+1} + \\frac{i-n+1-2}{i-n+1} Z(n,i-1,k-1) \\\\\n",
    "    Z(n,i,k) &= 0, \\text{when } k > i-n-1 \\\\\n",
    "\\end{aligned}$$"
   ]
  },
  {
   "cell_type": "code",
   "execution_count": 18,
   "id": "d5cbcc4e-97d6-408b-8c9e-5f8dd3429d13",
   "metadata": {},
   "outputs": [
    {
     "data": {
      "text/html": [
       "<html>\\(\\displaystyle Z_{k}=-{{k\\,\\left(2\\,n-k-2\\,i+1\\right)}\\over{\\left(n-k-i\\right)\\,  \\left(n-k-i+1\\right)}}\\)</html>"
      ],
      "text/latex": [
       "$\\displaystyle Z_{k}=-{{k\\,\\left(2\\,n-k-2\\,i+1\\right)}\\over{\\left(n-k-i\\right)\\,  \\left(n-k-i+1\\right)}}$"
      ],
      "text/plain": [
       "Z[k] = -(k*(2*n-k-2*i+1))/((n-k-i)*(n-k-i+1))"
      ]
     },
     "execution_count": 18,
     "metadata": {},
     "output_type": "execute_result"
    }
   ],
   "source": [
    "maxima('load(\"solve_rec\")')\n",
    "maxima('solve_rec(Z[k+1] - 2/(i+k-n+1) - (i+k-n-1)/(i+k-n+1)*Z[k] = 0, Z[k], Z[0] = 0)')"
   ]
  },
  {
   "cell_type": "markdown",
   "id": "33ae4cd0-cecc-4e8e-a6e0-b7739f50f299",
   "metadata": {},
   "source": [
    "I think that means"
   ]
  },
  {
   "cell_type": "code",
   "execution_count": 19,
   "id": "2603e5ee-99fc-44a1-8413-a8066cc7fc7c",
   "metadata": {},
   "outputs": [
    {
     "data": {
      "text/html": [
       "<html>\\(\\displaystyle \\left( n, i, k \\right) \\ {\\mapsto} \\ \\frac{{\\left(2 \\, i - k - 2 \\, n + 1\\right)} k}{{\\left(i - n + 1\\right)} {\\left(i - n\\right)}}\\)</html>"
      ],
      "text/latex": [
       "$\\displaystyle \\left( n, i, k \\right) \\ {\\mapsto} \\ \\frac{{\\left(2 \\, i - k - 2 \\, n + 1\\right)} k}{{\\left(i - n + 1\\right)} {\\left(i - n\\right)}}$"
      ],
      "text/plain": [
       "(n, i, k) |--> (2*i - k - 2*n + 1)*k/((i - n + 1)*(i - n))"
      ]
     },
     "execution_count": 19,
     "metadata": {},
     "output_type": "execute_result"
    }
   ],
   "source": [
    "Z(n,i,k) = k*(2*i-2*n-k+1)/((i-n)*(i-n+1))\n",
    "Z"
   ]
  },
  {
   "cell_type": "code",
   "execution_count": 20,
   "id": "36a5187e-48f9-4dee-897a-7edc22f5ce70",
   "metadata": {},
   "outputs": [
    {
     "data": {
      "text/html": [
       "<html>\\(\\displaystyle 0\\)</html>"
      ],
      "text/latex": [
       "$\\displaystyle 0$"
      ],
      "text/plain": [
       "0"
      ]
     },
     "execution_count": 20,
     "metadata": {},
     "output_type": "execute_result"
    }
   ],
   "source": [
    "(Z(n,i,k) - 2/(i-n+1) - (i-n-1)/(i-n+1)*Z(n,i-1,k-1)).simplify_full()"
   ]
  },
  {
   "cell_type": "markdown",
   "id": "9911d7ba-2266-4d77-a475-002193281378",
   "metadata": {},
   "source": [
    "Splitting $R$ into $R_a$ and $R_b$ where $R = R_a$ when $i < n$ and $R = R_b$ when $i > n$,"
   ]
  },
  {
   "cell_type": "code",
   "execution_count": 21,
   "id": "5692e86b-1548-42f1-8aeb-e3d2341bacd3",
   "metadata": {},
   "outputs": [
    {
     "data": {
      "text/html": [
       "<html>\\(\\displaystyle \\left( N, n, S_{n}, i \\right) \\ {\\mapsto} \\ \\frac{S_{n} + 2 \\, i - 2 \\, n}{N - i}\\)</html>"
      ],
      "text/latex": [
       "$\\displaystyle \\left( N, n, S_{n}, i \\right) \\ {\\mapsto} \\ \\frac{S_{n} + 2 \\, i - 2 \\, n}{N - i}$"
      ],
      "text/plain": [
       "(N, n, S_n, i) |--> (S_n + 2*i - 2*n)/(N - i)"
      ]
     },
     "execution_count": 21,
     "metadata": {},
     "output_type": "execute_result"
    }
   ],
   "source": [
    "R_a(N,n,S_n,i) = (2*(i-n)+S_n)/(N-i)\n",
    "R_a"
   ]
  },
  {
   "cell_type": "code",
   "execution_count": 22,
   "id": "403672a1-d23d-423a-8787-5943157970fb",
   "metadata": {},
   "outputs": [
    {
     "data": {
      "text/html": [
       "<html>\\(\\displaystyle \\left( N, n, S_{n}, i \\right) \\ {\\mapsto} \\ \\frac{S_{n} - 2 \\, n - \\frac{{\\sum_{k=S_{n} + \\left \\lceil -\\frac{1}{2} \\, i + \\frac{1}{2} \\, n + \\frac{1}{2} \\right \\rceil}^{S_{n} - 3} {\\left(2 \\, i + 1\\right)} \\left \\lceil -\\frac{1}{2} \\, S_{n} + \\frac{1}{2} \\, k \\right \\rceil - 2 \\, n \\left \\lceil -\\frac{1}{2} \\, S_{n} + \\frac{1}{2} \\, k \\right \\rceil + \\left \\lceil -\\frac{1}{2} \\, S_{n} + \\frac{1}{2} \\, k \\right \\rceil^{2}}}{i^{2} - {\\left(2 \\, i + 1\\right)} n + n^{2} + i} + 1}{N - i - 1}\\)</html>"
      ],
      "text/latex": [
       "$\\displaystyle \\left( N, n, S_{n}, i \\right) \\ {\\mapsto} \\ \\frac{S_{n} - 2 \\, n - \\frac{{\\sum_{k=S_{n} + \\left \\lceil -\\frac{1}{2} \\, i + \\frac{1}{2} \\, n + \\frac{1}{2} \\right \\rceil}^{S_{n} - 3} {\\left(2 \\, i + 1\\right)} \\left \\lceil -\\frac{1}{2} \\, S_{n} + \\frac{1}{2} \\, k \\right \\rceil - 2 \\, n \\left \\lceil -\\frac{1}{2} \\, S_{n} + \\frac{1}{2} \\, k \\right \\rceil + \\left \\lceil -\\frac{1}{2} \\, S_{n} + \\frac{1}{2} \\, k \\right \\rceil^{2}}}{i^{2} - {\\left(2 \\, i + 1\\right)} n + n^{2} + i} + 1}{N - i - 1}$"
      ],
      "text/plain": [
       "(N, n, S_n, i) |--> (S_n - 2*n - sum((2*i + 1)*ceil(-1/2*S_n + 1/2*k) - 2*n*ceil(-1/2*S_n + 1/2*k) + ceil(-1/2*S_n + 1/2*k)^2, k, S_n + ceil(-1/2*i + 1/2*n + 1/2), S_n - 3)/(i^2 - (2*i + 1)*n + n^2 + i) + 1)/(N - i - 1)"
      ]
     },
     "execution_count": 22,
     "metadata": {},
     "output_type": "execute_result"
    }
   ],
   "source": [
    "R_b(N,n,S_n,i) = (S_n - 2*(n-1) - 1 + sum(Z(n,i,floor((S_n-k)/2)),k,S_n-floor((i-n-1)/2),S_n-3))/(N-i-1)\n",
    "R_b"
   ]
  },
  {
   "cell_type": "markdown",
   "id": "e83b8605-b58c-4b13-ab4f-1122034d630c",
   "metadata": {},
   "source": [
    "The probability that skater $n$ finishes behind at least one skater $j$, where $j < n$,\n",
    "is\n",
    "\n",
    "$$ R_a(1) + (1-R_a(1))\\left(R_a(2) + (1-R_a(2))\\left(R_a(3) + \\cdots R_a(n-1) \\right) \\right) $$\n",
    "\n",
    "That can be expressed as a recurrence relation, where I mangled the names to make the\n",
    "signs work out,"
   ]
  },
  {
   "cell_type": "code",
   "execution_count": 23,
   "id": "0b308545-8dc1-42d3-9703-6a2ad4e5a60c",
   "metadata": {},
   "outputs": [
    {
     "data": {
      "text/html": [
       "<html>\\(\\displaystyle {\\it Qa}_{{\\it Ci}}={{\\left({\\it aN}-{\\it S\\_n}-{\\it Ci}-{\\it Bn}  \\right)\\,\\left({\\it aN}+{\\it Ci}-{\\it Bn}\\right)!\\,\\left({\\it aN}-  {\\it S\\_n}-{\\it Ci}-{\\it Bn}-1\\right)!}\\over{\\left({\\it aN}+{\\it Ci}  -{\\it Bn}\\right)\\,\\left({\\it aN}+{\\it Ci}-{\\it Bn}-1\\right)!\\,\\left(  {\\it aN}-{\\it S\\_n}-{\\it Ci}-{\\it Bn}\\right)!}}-{{\\left({\\it aN}-  {\\it S\\_n}-{\\it Bn}\\right)\\,\\left({\\it aN}-{\\it Bn}\\right)!\\,\\left(  {\\it aN}-{\\it S\\_n}-{\\it Bn}-1\\right)!}\\over{\\left({\\it aN}-{\\it Bn}  \\right)\\,\\left({\\it aN}+{\\it Ci}-{\\it Bn}-1\\right)!\\,\\left({\\it aN}-  {\\it S\\_n}-{\\it Ci}-{\\it Bn}\\right)!}}\\)</html>"
      ],
      "text/latex": [
       "$\\displaystyle {\\it Qa}_{{\\it Ci}}={{\\left({\\it aN}-{\\it S\\_n}-{\\it Ci}-{\\it Bn}  \\right)\\,\\left({\\it aN}+{\\it Ci}-{\\it Bn}\\right)!\\,\\left({\\it aN}-  {\\it S\\_n}-{\\it Ci}-{\\it Bn}-1\\right)!}\\over{\\left({\\it aN}+{\\it Ci}  -{\\it Bn}\\right)\\,\\left({\\it aN}+{\\it Ci}-{\\it Bn}-1\\right)!\\,\\left(  {\\it aN}-{\\it S\\_n}-{\\it Ci}-{\\it Bn}\\right)!}}-{{\\left({\\it aN}-  {\\it S\\_n}-{\\it Bn}\\right)\\,\\left({\\it aN}-{\\it Bn}\\right)!\\,\\left(  {\\it aN}-{\\it S\\_n}-{\\it Bn}-1\\right)!}\\over{\\left({\\it aN}-{\\it Bn}  \\right)\\,\\left({\\it aN}+{\\it Ci}-{\\it Bn}-1\\right)!\\,\\left({\\it aN}-  {\\it S\\_n}-{\\it Ci}-{\\it Bn}\\right)!}}$"
      ],
      "text/plain": [
       "Qa[Ci] = ((aN-S_n-Ci-Bn)*factorial(aN+Ci-Bn)*factorial(aN-S_n-Ci-Bn-1)) /((aN+Ci-Bn)*factorial(aN+Ci-Bn-1)*factorial(aN-S_n-Ci-Bn)) -((aN-S_n-Bn)*factorial(aN-Bn)*factorial(aN-S_n-Bn-1)) /((aN-Bn)*factorial(aN+Ci-Bn-1)*factorial(aN-S_n-Ci-Bn))"
      ]
     },
     "execution_count": 23,
     "metadata": {},
     "output_type": "execute_result"
    }
   ],
   "source": [
    "maxima('solve_rec(Qa[Ci+1] - (2*Ci+S_n)/(aN-Bn+Ci) - (1-(2*Ci+S_n)/(aN-Bn+Ci))*Qa[Ci] = 0, Qa[Ci], Sa[0] = 0)')"
   ]
  },
  {
   "cell_type": "markdown",
   "id": "95b41e18-f3ea-4be1-9399-95341a97e46d",
   "metadata": {},
   "source": [
    "The term of interest is $C_i = n-1$, so\n",
    "\n",
    "$$ Qa(n-1) = 1 - \\frac{(N-S_n-n)!(N-n-1)!}{(N-2)!(N-S_n-2n+1)!} $$"
   ]
  },
  {
   "cell_type": "markdown",
   "id": "3bcde0b8-2e2d-47fd-97cb-3e1a79acb6ac",
   "metadata": {},
   "source": [
    "It's zero when $n = 1$, so that checks out, and it's $1/(N-2)$ when $n = 2$ and $S_2 = 1$, which must be\n",
    "the probability that $S_1 = 2$, so that also checks out.\n",
    "\n",
    "Then, there's also a recurrence relation for the skaters $n+1$ to $N$.\n",
    "\n",
    "$$ Qb(i+1) = Rb(N-i) + (1-Rb(N-i)) Qb(i) $$"
   ]
  },
  {
   "cell_type": "code",
   "execution_count": 24,
   "id": "b925c03c-c0dd-47f8-bf68-05861a09d498",
   "metadata": {},
   "outputs": [
    {
     "data": {
      "text/html": [
       "<html>\\(\\displaystyle \\frac{S_{n} - 2 \\, n - \\frac{{\\sum_{k=S_{n} + \\left \\lceil -\\frac{1}{2} \\, i + \\frac{1}{2} \\, n + \\frac{1}{2} \\right \\rceil}^{S_{n} - 3} {\\left(2 \\, i + 1\\right)} \\left \\lceil -\\frac{1}{2} \\, S_{n} + \\frac{1}{2} \\, k \\right \\rceil - 2 \\, n \\left \\lceil -\\frac{1}{2} \\, S_{n} + \\frac{1}{2} \\, k \\right \\rceil + \\left \\lceil -\\frac{1}{2} \\, S_{n} + \\frac{1}{2} \\, k \\right \\rceil^{2}}}{i^{2} - {\\left(2 \\, i + 1\\right)} n + n^{2} + i} + 1}{N - i - 1}\\)</html>"
      ],
      "text/latex": [
       "$\\displaystyle \\frac{S_{n} - 2 \\, n - \\frac{{\\sum_{k=S_{n} + \\left \\lceil -\\frac{1}{2} \\, i + \\frac{1}{2} \\, n + \\frac{1}{2} \\right \\rceil}^{S_{n} - 3} {\\left(2 \\, i + 1\\right)} \\left \\lceil -\\frac{1}{2} \\, S_{n} + \\frac{1}{2} \\, k \\right \\rceil - 2 \\, n \\left \\lceil -\\frac{1}{2} \\, S_{n} + \\frac{1}{2} \\, k \\right \\rceil + \\left \\lceil -\\frac{1}{2} \\, S_{n} + \\frac{1}{2} \\, k \\right \\rceil^{2}}}{i^{2} - {\\left(2 \\, i + 1\\right)} n + n^{2} + i} + 1}{N - i - 1}$"
      ],
      "text/plain": [
       "(S_n - 2*n - sum((2*i + 1)*ceil(-1/2*S_n + 1/2*k) - 2*n*ceil(-1/2*S_n + 1/2*k) + ceil(-1/2*S_n + 1/2*k)^2, k, S_n + ceil(-1/2*i + 1/2*n + 1/2), S_n - 3)/(i^2 - (2*i + 1)*n + n^2 + i) + 1)/(N - i - 1)"
      ]
     },
     "execution_count": 24,
     "metadata": {},
     "output_type": "execute_result"
    }
   ],
   "source": [
    "R_b(N,n,S_n,i)"
   ]
  },
  {
   "cell_type": "markdown",
   "id": "d345437b-5c65-4c68-836b-a878141bbf97",
   "metadata": {},
   "source": [
    "This is way too complicated, so try to come up with some super hand-wavy simplifications for large $N$."
   ]
  }
 ],
 "metadata": {
  "kernelspec": {
   "display_name": "SageMath 10.3",
   "language": "sage",
   "name": "sagemath-10.3"
  },
  "language_info": {
   "codemirror_mode": {
    "name": "ipython",
    "version": 3
   },
   "file_extension": ".py",
   "mimetype": "text/x-python",
   "name": "python",
   "nbconvert_exporter": "python",
   "pygments_lexer": "ipython3",
   "version": "3.11.8"
  }
 },
 "nbformat": 4,
 "nbformat_minor": 5
}
