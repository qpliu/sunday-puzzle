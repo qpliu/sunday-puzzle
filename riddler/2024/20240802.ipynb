{
 "cells": [
  {
   "cell_type": "markdown",
   "id": "ed42a7c0-35f7-4224-b2af-a96b59dfa0ce",
   "metadata": {},
   "source": [
    "[2024-08-02 Fiddler](https://thefiddler.substack.com/p/can-you-hack-the-olympics)\n",
    "====================\n",
    "Let the skate order be A, B, C, D.\n",
    "\n",
    "Skater D can only win by being in first place after she skates.\n",
    "\n",
    "Let's just brute force it."
   ]
  },
  {
   "cell_type": "code",
   "execution_count": 1,
   "id": "562d677a-81c2-40df-a4d7-223d188d190e",
   "metadata": {},
   "outputs": [
    {
     "data": {
      "text/plain": [
       "(1/24, 0.0416666666666667)"
      ]
     },
     "execution_count": 1,
     "metadata": {},
     "output_type": "execute_result"
    }
   ],
   "source": [
    "def leader(short, free):\n",
    "    standings = [(short.index(p)/2 + free.index(p),free.index(p),p) for p in free]\n",
    "    standings.sort()\n",
    "    return standings[0][2]\n",
    "\n",
    "def brute_force(n):\n",
    "    count = 0\n",
    "    for short in Permutations(n).list():\n",
    "        for free in Permutations(n).list():\n",
    "            winner = leader(short, free)\n",
    "            notLeader = False\n",
    "            for skater in [winner..n]:\n",
    "                if winner != leader(short, [p for p in filter(lambda x: x <= skater,free)]):\n",
    "                    notLeader = True\n",
    "                    break\n",
    "            if notLeader:\n",
    "                count = count+1\n",
    "    return count/factorial(n)^2\n",
    "(brute_force(4),numerical_approx(brute_force(4)))"
   ]
  },
  {
   "cell_type": "markdown",
   "id": "81312dbc-89d8-44a3-88f5-e9d3a1c48471",
   "metadata": {},
   "source": [
    "The probability is 1/24, about 4.167%."
   ]
  },
  {
   "cell_type": "markdown",
   "id": "2b949ba1-2300-4209-bbae-8234500245cf",
   "metadata": {},
   "source": [
    "Extra credit\n",
    "------------\n",
    "Brute force some values to see what it looks like."
   ]
  },
  {
   "cell_type": "code",
   "execution_count": 2,
   "id": "2db42368-c277-4e23-9cdb-37fe5aebbe10",
   "metadata": {},
   "outputs": [
    {
     "name": "stdout",
     "output_type": "stream",
     "text": [
      "1 0 0.000000000000000\n",
      "2 0 0.000000000000000\n",
      "3 0 0.000000000000000\n",
      "4 1/24 0.0416666666666667\n",
      "5 29/450 0.0644444444444444\n"
     ]
    }
   ],
   "source": [
    "for n in [1..5]:\n",
    "    p = brute_force(n)\n",
    "    print(n,p,numerical_approx(p))"
   ]
  },
  {
   "cell_type": "markdown",
   "id": "6a8b7d0f-5b10-40ad-8a63-b5bee0fe86c2",
   "metadata": {},
   "source": [
    "Brute force becomes too slow for more than 5 skaters.  Let's look at the 24 cases with 4 skaters."
   ]
  },
  {
   "cell_type": "code",
   "execution_count": 3,
   "id": "b6eaf59c-c46c-49e9-87a1-aace81ec9420",
   "metadata": {},
   "outputs": [
    {
     "name": "stdout",
     "output_type": "stream",
     "text": [
      "3 3 False [1, 2, 4, 3] [3, 4, 1, 2] [(3/2, 0, 3), (2, 1, 4), (2, 2, 1), (7/2, 3, 2)] [(1, 1, 1), (3/2, 0, 3), (5/2, 2, 2)] False\n",
      "2 2 False [1, 3, 4, 2] [2, 3, 1, 4] [(3/2, 0, 2), (3/2, 1, 3), (2, 2, 1), (4, 3, 4)] [(1, 1, 1), (3/2, 0, 2)] False\n",
      "2 2 False [1, 3, 4, 2] [2, 3, 4, 1] [(3/2, 0, 2), (3/2, 1, 3), (3, 2, 4), (3, 3, 1)] [(1, 1, 1), (3/2, 0, 2)] False\n",
      "2 2 False [1, 3, 4, 2] [2, 4, 1, 3] [(3/2, 0, 2), (2, 1, 4), (2, 2, 1), (7/2, 3, 3)] [(1, 1, 1), (3/2, 0, 2)] False\n",
      "2 3 True [1, 3, 4, 2] [2, 4, 1, 3] [(3/2, 0, 2), (2, 1, 4), (2, 2, 1), (7/2, 3, 3)] [(1, 1, 1), (3/2, 0, 2), (5/2, 2, 3)] False\n",
      "2 2 False [1, 3, 4, 2] [2, 4, 3, 1] [(3/2, 0, 2), (2, 1, 4), (5/2, 2, 3), (3, 3, 1)] [(1, 1, 1), (3/2, 0, 2)] False\n",
      "3 3 False [1, 4, 2, 3] [3, 4, 1, 2] [(3/2, 0, 3), (3/2, 1, 4), (2, 2, 1), (4, 3, 2)] [(1, 1, 1), (3/2, 0, 3), (3, 2, 2)] True\n",
      "2 2 False [1, 4, 3, 2] [2, 3, 1, 4] [(3/2, 0, 2), (2, 1, 3), (2, 2, 1), (7/2, 3, 4)] [(1, 1, 1), (3/2, 0, 2)] False\n",
      "2 2 False [1, 4, 3, 2] [2, 3, 4, 1] [(3/2, 0, 2), (2, 1, 3), (5/2, 2, 4), (3, 3, 1)] [(1, 1, 1), (3/2, 0, 2)] False\n",
      "2 2 False [1, 4, 3, 2] [2, 4, 1, 3] [(3/2, 0, 2), (3/2, 1, 4), (2, 2, 1), (4, 3, 3)] [(1, 1, 1), (3/2, 0, 2)] False\n",
      "2 3 True [1, 4, 3, 2] [2, 4, 1, 3] [(3/2, 0, 2), (3/2, 1, 4), (2, 2, 1), (4, 3, 3)] [(1, 1, 1), (3/2, 0, 2), (3, 2, 3)] True\n",
      "2 2 False [1, 4, 3, 2] [2, 4, 3, 1] [(3/2, 0, 2), (3/2, 1, 4), (3, 2, 3), (3, 3, 1)] [(1, 1, 1), (3/2, 0, 2)] False\n",
      "3 3 False [2, 1, 4, 3] [3, 4, 2, 1] [(3/2, 0, 3), (2, 1, 4), (2, 2, 2), (7/2, 3, 1)] [(1, 1, 2), (3/2, 0, 3), (5/2, 2, 1)] False\n",
      "1 2 False [2, 3, 4, 1] [1, 3, 2, 4] [(3/2, 0, 1), (3/2, 1, 3), (2, 2, 2), (4, 3, 4)] [(1, 1, 2), (3/2, 0, 1)] False\n",
      "1 2 False [2, 3, 4, 1] [1, 3, 4, 2] [(3/2, 0, 1), (3/2, 1, 3), (3, 2, 4), (3, 3, 2)] [(1, 1, 2), (3/2, 0, 1)] False\n",
      "1 2 False [2, 3, 4, 1] [1, 4, 2, 3] [(3/2, 0, 1), (2, 1, 4), (2, 2, 2), (7/2, 3, 3)] [(1, 1, 2), (3/2, 0, 1)] False\n",
      "1 3 True [2, 3, 4, 1] [1, 4, 2, 3] [(3/2, 0, 1), (2, 1, 4), (2, 2, 2), (7/2, 3, 3)] [(1, 1, 2), (3/2, 0, 1), (5/2, 2, 3)] False\n",
      "1 2 False [2, 3, 4, 1] [1, 4, 3, 2] [(3/2, 0, 1), (2, 1, 4), (5/2, 2, 3), (3, 3, 2)] [(1, 1, 2), (3/2, 0, 1)] False\n",
      "3 3 False [2, 4, 1, 3] [3, 4, 2, 1] [(3/2, 0, 3), (3/2, 1, 4), (2, 2, 2), (4, 3, 1)] [(1, 1, 2), (3/2, 0, 3), (3, 2, 1)] True\n",
      "1 2 False [2, 4, 3, 1] [1, 3, 2, 4] [(3/2, 0, 1), (2, 1, 3), (2, 2, 2), (7/2, 3, 4)] [(1, 1, 2), (3/2, 0, 1)] False\n",
      "1 2 False [2, 4, 3, 1] [1, 3, 4, 2] [(3/2, 0, 1), (2, 1, 3), (5/2, 2, 4), (3, 3, 2)] [(1, 1, 2), (3/2, 0, 1)] False\n",
      "1 2 False [2, 4, 3, 1] [1, 4, 2, 3] [(3/2, 0, 1), (3/2, 1, 4), (2, 2, 2), (4, 3, 3)] [(1, 1, 2), (3/2, 0, 1)] False\n",
      "1 3 True [2, 4, 3, 1] [1, 4, 2, 3] [(3/2, 0, 1), (3/2, 1, 4), (2, 2, 2), (4, 3, 3)] [(1, 1, 2), (3/2, 0, 1), (3, 2, 3)] True\n",
      "1 2 False [2, 4, 3, 1] [1, 4, 3, 2] [(3/2, 0, 1), (3/2, 1, 4), (3, 2, 3), (3, 3, 2)] [(1, 1, 2), (3/2, 0, 1)] False\n",
      "2 3 False [3, 1, 4, 2] [2, 4, 3, 1] [(3/2, 0, 2), (2, 1, 4), (2, 2, 3), (7/2, 3, 1)] [(1, 1, 3), (3/2, 0, 2), (5/2, 2, 1)] False\n",
      "1 3 False [3, 2, 4, 1] [1, 4, 3, 2] [(3/2, 0, 1), (2, 1, 4), (2, 2, 3), (7/2, 3, 2)] [(1, 1, 3), (3/2, 0, 1), (5/2, 2, 2)] False\n",
      "2 3 False [3, 4, 1, 2] [2, 4, 3, 1] [(3/2, 0, 2), (3/2, 1, 4), (2, 2, 3), (4, 3, 1)] [(1, 1, 3), (3/2, 0, 2), (3, 2, 1)] True\n",
      "1 3 False [3, 4, 2, 1] [1, 4, 3, 2] [(3/2, 0, 1), (3/2, 1, 4), (2, 2, 3), (4, 3, 2)] [(1, 1, 3), (3/2, 0, 1), (3, 2, 2)] True\n"
     ]
    }
   ],
   "source": [
    "def examine(n):\n",
    "    for short in Permutations(n):\n",
    "        for free in Permutations(n):\n",
    "            finalStandings = [(short.index(p)/2 + free.index(p),free.index(p),p) for p in free]\n",
    "            finalStandings.sort()\n",
    "            winner = finalStandings[0][2]\n",
    "            redundant = False\n",
    "            for skater in [winner..n]:\n",
    "                currentFree = [p for p in filter(lambda x: x <= skater,free)]\n",
    "                currentStandings = [(short.index(p)/2 + currentFree.index(p),currentFree.index(p),p) for p in currentFree]\n",
    "                currentStandings.sort()\n",
    "                if winner != currentStandings[0][2]:\n",
    "                    print(winner,skater,redundant,short,free,finalStandings,currentStandings, \\\n",
    "                          n == 4 and len(currentStandings) == 3 and \\\n",
    "                          short[0] == free[2] and short[0] == currentStandings[0][2] and short[0] == finalStandings[2][2] and \\\n",
    "                          short[1] == 4 and free[1] == 4 and finalStandings[1][2] == 4 and \\\n",
    "                          short[2] == free[3] and short[2] == currentStandings[2][2] and short[2] == finalStandings[3][2] and \\\n",
    "                          short[3] == winner and free[0] == winner and currentStandings[1][2] == winner)\n",
    "                    redundant = True\n",
    "examine(4)"
   ]
  },
  {
   "cell_type": "markdown",
   "id": "08d44819-fc81-41c2-a5a0-218d486cdda7",
   "metadata": {},
   "source": [
    "I don't have any insights from looking at this.  6 of them are consistent with the 2002 Olympics scenario:\n",
    "since Slutskaya skates last, there are 3!=6 ways the other 3 skaters can be ordered."
   ]
  },
  {
   "cell_type": "markdown",
   "id": "f3c14f17-5768-4f63-a7a7-7441b339fd7c",
   "metadata": {},
   "source": [
    "Let skater $n$ be the skater that finished $n$th in the free skate.  Let $S_n$ be her finish in the short program,\n",
    "and $T_n$ be her skate order.  There are $N!^2$ possibilities.\n",
    "\n",
    "With $S_n$ alone, we can determine the winner.  And, with $N!$ possiblities in the skate order, we can determine\n",
    "the probability that some skater was ahead of the winner in the overall standings at some point.\n",
    "\n",
    "Consider skaters $i$ and $j > i$.  If $S_i \\le S_j$, then skater $j$ will never be ahead of skater $i$.  There are\n",
    "$j - i - 1$ skaters between them in the free skate rankings, and $r$ of them, where $0 \\le r \\le j - i - 1$ have\n",
    "not skated yet when both skaters $i$ and $j$ have finished skating.  The score differential between the two\n",
    "is initially $j - i - r + S_j/2 - S_i/2$, and, when all skaters have finished skating, ends up at $j - i + S_j/2 - S_i/2$.\n",
    "If the differential is greater than or equal to zero, skater $i$ is ahead.  If the differential is less than zero,\n",
    "skater $j$ is ahead.  So if $r > j - i + S_j/2 - S_i/2 \\ge 0$, then skater $i$ would initially be behind skater $j$,\n",
    "but ultimately end up ahead of skater $j$, otherwise, their relative overall standings will not change."
   ]
  },
  {
   "cell_type": "markdown",
   "id": "b5259ab9-f417-4a20-a458-0f4d9a9c4c37",
   "metadata": {},
   "source": [
    "### Probability of winning"
   ]
  },
  {
   "cell_type": "markdown",
   "id": "10d853a6-0226-482e-a5bf-b89d186d9bdb",
   "metadata": {},
   "source": [
    "The probability that skater $n$ finishes behind skater 1 is the probability that $n + S_n/2 \\ge 1 + S_1/2$,\n",
    "or $S_1 \\le S_n + 2n - 2$.  There are $\\min(N-1,S_n+2n-3)$ skaters out of $N-1$ (excluding skater $n$), so\n",
    "the probability that skater $n$ finishes ahead of skater 1 is\n",
    "$1 - \\min(N-1,S_n+2n-3)/(N-1) = (N-1-\\min(N-1,S_n+2n-3))/(N-1)$.\n",
    "\n",
    "The probability that skater $n$ finishes behind skater 2, given that skater $n$ finishes ahead of skater 1,\n",
    "is the probability that $n + S_n/2 \\ge 2 + S_2/2$, or $S_2 \\le S_n + 2n - 4$.  There are\n",
    "$\\min(N-2,S_n+2n-5)$ skaters out of $N-2$ (excluding skaters 1 and $n$), so the probability that skater $n$\n",
    "finishes ahead of skater 2 is\n",
    "$1 - \\min(N-2,S_n+2n-5)/(N-2) = (N-2-\\min(N-2,S_n+2n-5))/(N-2)$.\n",
    "\n",
    "Continuing in the same vein up to skater $n-1$, the probability that skater $n$ finishes behind skater $i$,\n",
    "where $i < n$, given that skater $n$ finishes ahead of skaters 1 through $i-1$, is the probability  that\n",
    "$n + S_n/2 \\ge i + S_i/2$, or $S_i \\le S_n + 2n - 2i$.  There are\n",
    "$\\min(N-i,S_n+2n-2i-1)$ skaters out of $N-i$,\n",
    "so the probability that skater $n$ finishes ahead of skater $i$ is\n",
    "$1 - \\min(N-i,S_n+2n-2i-1)/(N-i) = (N-i-\\min(N-i,S_n+2n-2i-1))/(N-i)$."
   ]
  },
  {
   "cell_type": "markdown",
   "id": "f510adb6-d1c8-43ba-983c-57d83b6bb967",
   "metadata": {},
   "source": [
    "The probability that skater $n$ finishes behind skater $n+1$, given that skater $n$ finishes ahead of\n",
    "skaters 1 through $n-1$, is the probability that $n + S_n/2 > n+1 + S_{n+1}/2$, or $S_{n+1} < S_n - 2$.\n",
    "There are $S_n-3$ skaters out of $N-n$, so the probability that skater $n$ finishes ahead of skater $n+1$\n",
    "is $1 - \\min(0,S_n-3)/(N-n) = (N-n-\\min(0,S_n-3))/(N-n)$.\n",
    "\n",
    "The probability that skater $n$ finishes behind of skater $n+2$, given that skater $n$ finishes ahead of\n",
    "skaters 1 through $n-1$ and $n+1$, is the probability that $n + S_n/2 > n+2 + S_{n+2}/2$, or\n",
    "$S_{n+2} < S_n - 4$.  There are $\\max(0,S_n-5)$ skaters out of $N-n-1$, so the probability that skater $n$\n",
    "finishes ahead of skater $n+2$ is $1 - \\max(0,S_n-5)/(N-n-1) = (N-n-1-\\max(0,S_n-5))/(N-n-1)$.\n",
    "\n",
    "Continuing in the same vein up to skater $N$, the probability that skater $n$ finishes behind skater $n+i$,\n",
    "given that skater $n$ finishes ahead of skaters 1 through $n-1$ and $n+1$ through $n+i-1$, is the\n",
    "probability that $n+S_n/2 > n+i+S_{n+i}/2$, or $S_{n+i} < S_n-2i$.  There are $\\max(0,S_n-2i-1)$ skaters\n",
    "out of $N-n-i+1$, so the probability that skater $n$ finishes ahead of skater $n+i$ is\n",
    "$1 - \\max(0,S_n-2i-1)/(N-n-i+1) = (N-n-i+1-\\max(0,S_n-2i-1))/(N-n-i+1)$."
   ]
  },
  {
   "cell_type": "markdown",
   "id": "0fd0ef3f-acda-46d6-a785-a871cef4f438",
   "metadata": {},
   "source": [
    "Putting it together, the probability that the winner finished $S_n$th in the short program and $n$th in the\n",
    "free skate is\n",
    "\n",
    "$$\\begin{aligned}\n",
    "    W(N,n,S_n) &= \\frac{1}{N}\n",
    "    \\left(\\prod_{i=1}^{n-1} \\frac{N-i-\\min(N-i,S_n+2n-2i-1)}{N-i}\\right)\n",
    "        \\prod_{i=1}^{N-n} \\frac{N-n-i+1-\\max(0,S_n-2i-1)}{N-n-i+1} \\\\\n",
    "    &= \\frac{\\left(\\prod_{i=1}^{n-1} \\left(N-i-\\min(N-i,S_n+2n-2i-1)\\right)\\right)\n",
    "                \\prod_{i=1}^{N-n} \\left(N-n-i+1-\\max(0,S_n-2i-1)\\right)}\n",
    "            {N!} \\\\\n",
    "\\end{aligned}$$"
   ]
  },
  {
   "cell_type": "code",
   "execution_count": 4,
   "id": "4367d49d-db9d-4abd-bb15-c01a8c13bc7a",
   "metadata": {},
   "outputs": [
    {
     "data": {
      "text/html": [
       "<html>\\(\\displaystyle \\left( N, n, S_{n} \\right) \\ {\\mapsto} \\ -\\frac{\\left(-1\\right)^{N + n} \\left(-1\\right)^{n} {\\prod_{i=1}^{N - n} -N + i + n + \\max\\left(0, S_{n} - 2 \\, i - 1\\right) - 1} {\\prod_{i=1}^{n - 1} -N + i + \\min\\left(N - i, S_{n} - 2 \\, i + 2 \\, n - 1\\right)}}{N!}\\)</html>"
      ],
      "text/latex": [
       "$\\displaystyle \\left( N, n, S_{n} \\right) \\ {\\mapsto} \\ -\\frac{\\left(-1\\right)^{N + n} \\left(-1\\right)^{n} {\\prod_{i=1}^{N - n} -N + i + n + \\max\\left(0, S_{n} - 2 \\, i - 1\\right) - 1} {\\prod_{i=1}^{n - 1} -N + i + \\min\\left(N - i, S_{n} - 2 \\, i + 2 \\, n - 1\\right)}}{N!}$"
      ],
      "text/plain": [
       "(N, n, S_n) |--> -(-1)^(N + n)*(-1)^n*product(-N + i + n + max(0, S_n - 2*i - 1) - 1, i, 1, N - n)*product(-N + i + min(N - i, S_n - 2*i + 2*n - 1), i, 1, n - 1)/factorial(N)"
      ]
     },
     "execution_count": 4,
     "metadata": {},
     "output_type": "execute_result"
    }
   ],
   "source": [
    "%display latex\n",
    "i, N, n, S_n = var('i N n S_n')\n",
    "assume(N, \"integer\")\n",
    "assume(n, \"integer\")\n",
    "assume(S_n, \"integer\")\n",
    "assume(N > 1)\n",
    "assume(n >= 1)\n",
    "assume(n <= N)\n",
    "assume(S_n >= 1)\n",
    "assume(S_n <= N)\n",
    "W1(N,n,S_n) = product(N-i-min_symbolic(N-i,S_n+2*n-2*i-1),i,1,n-1)*product(N-n-i+1-max_symbolic(0,S_n-2*i-1),i,1,N-n)/factorial(N)\n",
    "W1"
   ]
  },
  {
   "cell_type": "markdown",
   "id": "19436588-bad6-41d4-9adc-1d780a86ed7e",
   "metadata": {},
   "source": [
    "Check this against a brute force calculation."
   ]
  },
  {
   "cell_type": "code",
   "execution_count": 5,
   "id": "2236d153-eb17-4777-958b-74b0efbd833d",
   "metadata": {},
   "outputs": [],
   "source": [
    "def W_brute_force(N,n,S_n):\n",
    "    count = 0\n",
    "    for S in Permutations(N).list():\n",
    "        if S[n-1] != S_n:\n",
    "            continue\n",
    "        standings = [(i+S[i-1]/2,i) for i in [1..N]]\n",
    "        standings.sort()\n",
    "        if standings[0][1] == n:\n",
    "            count = count+1\n",
    "    return count/factorial(N)"
   ]
  },
  {
   "cell_type": "code",
   "execution_count": 6,
   "id": "ece01764-b0c5-467a-b9d2-3a8dbf61b009",
   "metadata": {},
   "outputs": [
    {
     "data": {
      "text/html": [
       "<html>\\(\\displaystyle \\left[\\left[\\left[\\right]\\right], \\left[\\left[\\right], \\left[\\right]\\right], \\left[\\left[\\right], \\left[\\right], \\left[\\right]\\right], \\left[\\left[\\right], \\left[\\right], \\left[\\right], \\left[\\right]\\right], \\left[\\left[\\right], \\left[\\right], \\left[\\right], \\left[\\right], \\left[\\right]\\right], \\left[\\left[\\right], \\left[\\right], \\left[\\right], \\left[\\right], \\left[\\right], \\left[\\right]\\right]\\right]\\)</html>"
      ],
      "text/latex": [
       "$\\displaystyle \\left[\\left[\\left[\\right]\\right], \\left[\\left[\\right], \\left[\\right]\\right], \\left[\\left[\\right], \\left[\\right], \\left[\\right]\\right], \\left[\\left[\\right], \\left[\\right], \\left[\\right], \\left[\\right]\\right], \\left[\\left[\\right], \\left[\\right], \\left[\\right], \\left[\\right], \\left[\\right]\\right], \\left[\\left[\\right], \\left[\\right], \\left[\\right], \\left[\\right], \\left[\\right], \\left[\\right]\\right]\\right]$"
      ],
      "text/plain": [
       "[[[]],\n",
       " [[], []],\n",
       " [[], [], []],\n",
       " [[], [], [], []],\n",
       " [[], [], [], [], []],\n",
       " [[], [], [], [], [], []]]"
      ]
     },
     "execution_count": 6,
     "metadata": {},
     "output_type": "execute_result"
    }
   ],
   "source": [
    "[[list(filter(lambda x: x != 0, [W1(n,i,j).simplify() - W_brute_force(n,i,j) for i in [1..n]])) for j in [1..n]] for n in [1..6]]"
   ]
  },
  {
   "cell_type": "markdown",
   "id": "96ccbb83-76bd-45b3-af0b-b8ed2fac7020",
   "metadata": {},
   "source": [
    "Break up the products to avoid the $\\max$ and $\\min$ inside the products, allowing them to be expressed as factorials\n",
    "to enable looking at approximations when $N$ is large.  Some wrangling is needed to avoid factorials of negative values."
   ]
  },
  {
   "cell_type": "code",
   "execution_count": 7,
   "id": "69a5656b-c0c3-41f6-87eb-dd08032d221d",
   "metadata": {},
   "outputs": [
    {
     "data": {
      "text/html": [
       "<html>\\(\\displaystyle \\left( N, n, S_{n} \\right) \\ {\\mapsto} \\ \\frac{\\left(-1\\right)^{N + n} \\max\\left(0, N - S_{n} - n\\right)! {\\prod_{i=1}^{N - n} -N + i + n + \\max\\left(0, S_{n} - 2 \\, i - 1\\right) - 1} \\mathrm{u}\\left(N - S_{n} - 2 \\, n + \\mathrm{u}\\left(-n + 1\\right) + 1\\right)}{N! \\max\\left(0, N - S_{n} - 2 \\, n + 1\\right)!}\\)</html>"
      ],
      "text/latex": [
       "$\\displaystyle \\left( N, n, S_{n} \\right) \\ {\\mapsto} \\ \\frac{\\left(-1\\right)^{N + n} \\max\\left(0, N - S_{n} - n\\right)! {\\prod_{i=1}^{N - n} -N + i + n + \\max\\left(0, S_{n} - 2 \\, i - 1\\right) - 1} \\mathrm{u}\\left(N - S_{n} - 2 \\, n + \\mathrm{u}\\left(-n + 1\\right) + 1\\right)}{N! \\max\\left(0, N - S_{n} - 2 \\, n + 1\\right)!}$"
      ],
      "text/plain": [
       "(N, n, S_n) |--> (-1)^(N + n)*factorial(max(0, N - S_n - n))*product(-N + i + n + max(0, S_n - 2*i - 1) - 1, i, 1, N - n)*unit_step(N - S_n - 2*n + unit_step(-n + 1) + 1)/(factorial(N)*factorial(max(0, N - S_n - 2*n + 1)))"
      ]
     },
     "execution_count": 7,
     "metadata": {},
     "output_type": "execute_result"
    }
   ],
   "source": [
    "# product(N-i-min_symbolic(N-i,S_n+2*n-2*i-1),i,1,n-1)\n",
    "# N-i-S_n-2*n+2*i+1 = N-S_n-2*n+1+i, from N-S_n-2*n+2 to N-S_n-n\n",
    "# if N-S_n-2*n+2 <= 0, product is zero => unit_step(N-S_n-2*n+1), except if n=1, product is one\n",
    "W2(N,n,S_n) = unit_step(N-S_n-2*n+1+unit_step(1-n))*factorial(max_symbolic(0,N-S_n-n))/factorial(max_symbolic(0,N-S_n-2*n+1))*product(N-n-i+1-max_symbolic(0,S_n-2*i-1),i,1,N-n)/factorial(N)\n",
    "W2"
   ]
  },
  {
   "cell_type": "code",
   "execution_count": 8,
   "id": "f5718964-fcda-4c08-96bf-41cb67f1dd01",
   "metadata": {},
   "outputs": [
    {
     "data": {
      "text/html": [
       "<html>\\(\\displaystyle \\left[\\left[\\left[\\right]\\right], \\left[\\left[\\right], \\left[\\right]\\right], \\left[\\left[\\right], \\left[\\right], \\left[\\right]\\right], \\left[\\left[\\right], \\left[\\right], \\left[\\right], \\left[\\right]\\right], \\left[\\left[\\right], \\left[\\right], \\left[\\right], \\left[\\right], \\left[\\right]\\right], \\left[\\left[\\right], \\left[\\right], \\left[\\right], \\left[\\right], \\left[\\right], \\left[\\right]\\right]\\right]\\)</html>"
      ],
      "text/latex": [
       "$\\displaystyle \\left[\\left[\\left[\\right]\\right], \\left[\\left[\\right], \\left[\\right]\\right], \\left[\\left[\\right], \\left[\\right], \\left[\\right]\\right], \\left[\\left[\\right], \\left[\\right], \\left[\\right], \\left[\\right]\\right], \\left[\\left[\\right], \\left[\\right], \\left[\\right], \\left[\\right], \\left[\\right]\\right], \\left[\\left[\\right], \\left[\\right], \\left[\\right], \\left[\\right], \\left[\\right], \\left[\\right]\\right]\\right]$"
      ],
      "text/plain": [
       "[[[]],\n",
       " [[], []],\n",
       " [[], [], []],\n",
       " [[], [], [], []],\n",
       " [[], [], [], [], []],\n",
       " [[], [], [], [], [], []]]"
      ]
     },
     "execution_count": 8,
     "metadata": {},
     "output_type": "execute_result"
    }
   ],
   "source": [
    "[[list(filter(lambda x: x != 0, [W2(n,i,j).simplify() - W1(n,i,j) for i in [1..n]])) for j in [1..n]] for n in [1..6]]"
   ]
  },
  {
   "cell_type": "code",
   "execution_count": 9,
   "id": "0a12c524-4694-45b8-b6b1-ba8dfabb3788",
   "metadata": {},
   "outputs": [
    {
     "data": {
      "text/html": [
       "<html>\\(\\displaystyle \\left( N, n, S_{n} \\right) \\ {\\mapsto} \\ \\frac{\\max\\left(0, N - S_{n} - n + \\left \\lceil \\frac{1}{2} \\, S_{n} - \\frac{3}{2} \\right \\rceil + 2\\right)! \\max\\left(0, N - S_{n} - n\\right)! \\max\\left(0, N - n - \\left \\lceil \\frac{1}{2} \\, S_{n} - \\frac{1}{2} \\right \\rceil + 1\\right)! \\mathrm{u}\\left(N - S_{n} - 2 \\, n + \\mathrm{u}\\left(-n + 1\\right) + 1\\right)}{N! \\max\\left(0, N - S_{n} - n + 2\\right)! \\max\\left(0, N - S_{n} - 2 \\, n + 1\\right)!}\\)</html>"
      ],
      "text/latex": [
       "$\\displaystyle \\left( N, n, S_{n} \\right) \\ {\\mapsto} \\ \\frac{\\max\\left(0, N - S_{n} - n + \\left \\lceil \\frac{1}{2} \\, S_{n} - \\frac{3}{2} \\right \\rceil + 2\\right)! \\max\\left(0, N - S_{n} - n\\right)! \\max\\left(0, N - n - \\left \\lceil \\frac{1}{2} \\, S_{n} - \\frac{1}{2} \\right \\rceil + 1\\right)! \\mathrm{u}\\left(N - S_{n} - 2 \\, n + \\mathrm{u}\\left(-n + 1\\right) + 1\\right)}{N! \\max\\left(0, N - S_{n} - n + 2\\right)! \\max\\left(0, N - S_{n} - 2 \\, n + 1\\right)!}$"
      ],
      "text/plain": [
       "(N, n, S_n) |--> factorial(max(0, N - S_n - n + ceil(1/2*S_n - 3/2) + 2))*factorial(max(0, N - S_n - n))*factorial(max(0, N - n - ceil(1/2*S_n - 1/2) + 1))*unit_step(N - S_n - 2*n + unit_step(-n + 1) + 1)/(factorial(N)*factorial(max(0, N - S_n - n + 2))*factorial(max(0, N - S_n - 2*n + 1)))"
      ]
     },
     "execution_count": 9,
     "metadata": {},
     "output_type": "execute_result"
    }
   ],
   "source": [
    "# product(N-n-i+1-max_symbol(0,S_n-2*i-1),i,1,N-n)\n",
    "# max is 0 when S_n-2*i-1 <= 0, 2*i >= S_n-1, i >= (S_n-1)/2\n",
    "# product of N-n-i+1 for i from ceil((S_n-1)/2) to N-n\n",
    "# product from 1 to N-n+1-ceil((S_n-1)/2)\n",
    "# max is not 0 when i < (S_n-1)/2\n",
    "# product of N-n-i+1-S_n+2*i+1 = N-n-S_n+2 + i for i from 1 to ceil((S_n-3)/2)\n",
    "# product from N-n-S_n+3 to N-n-S_n+ceil((S_n-3)/2)\n",
    "W(N,n,S_n) = unit_step(N-S_n-2*n+1+unit_step(1-n))*factorial(max_symbolic(0,N-S_n-n))/factorial(max_symbolic(0,N-S_n-2*n+1)) \\\n",
    "    *factorial(max_symbolic(0,N-n+1-ceil((S_n-1)/2)))*factorial(max_symbolic(0,N-n-S_n+2+ceil((S_n-3)/2)))/factorial(max_symbolic(0,N-n-S_n+2)) \\\n",
    "    /factorial(N)\n",
    "W"
   ]
  },
  {
   "cell_type": "code",
   "execution_count": 10,
   "id": "eabc7643-94a0-4455-8076-8018548fdd60",
   "metadata": {},
   "outputs": [
    {
     "data": {
      "text/html": [
       "<html>\\(\\displaystyle \\left[\\left[\\left[\\right]\\right], \\left[\\left[\\right], \\left[\\right]\\right], \\left[\\left[\\right], \\left[\\right], \\left[\\right]\\right], \\left[\\left[\\right], \\left[\\right], \\left[\\right], \\left[\\right]\\right], \\left[\\left[\\right], \\left[\\right], \\left[\\right], \\left[\\right], \\left[\\right]\\right], \\left[\\left[\\right], \\left[\\right], \\left[\\right], \\left[\\right], \\left[\\right], \\left[\\right]\\right]\\right]\\)</html>"
      ],
      "text/latex": [
       "$\\displaystyle \\left[\\left[\\left[\\right]\\right], \\left[\\left[\\right], \\left[\\right]\\right], \\left[\\left[\\right], \\left[\\right], \\left[\\right]\\right], \\left[\\left[\\right], \\left[\\right], \\left[\\right], \\left[\\right]\\right], \\left[\\left[\\right], \\left[\\right], \\left[\\right], \\left[\\right], \\left[\\right]\\right], \\left[\\left[\\right], \\left[\\right], \\left[\\right], \\left[\\right], \\left[\\right], \\left[\\right]\\right]\\right]$"
      ],
      "text/plain": [
       "[[[]],\n",
       " [[], []],\n",
       " [[], [], []],\n",
       " [[], [], [], []],\n",
       " [[], [], [], [], []],\n",
       " [[], [], [], [], [], []]]"
      ]
     },
     "execution_count": 10,
     "metadata": {},
     "output_type": "execute_result"
    }
   ],
   "source": [
    "[[list(filter(lambda x: x != 0, [W(n,i,j).simplify() - W_brute_force(n,i,j) for i in [1..n]])) for j in [1..n]] for n in [1..6]]"
   ]
  },
  {
   "cell_type": "markdown",
   "id": "87ec8265-f5de-4758-86d4-ec6a35915c97",
   "metadata": {},
   "source": [
    "Numerical exploration suggests that it's probably sufficient to consider $n$ from $1$ to $2\\sqrt{N}$ and $S_n$\n",
    "from $1$ to $N^{2/3}$."
   ]
  },
  {
   "cell_type": "code",
   "execution_count": 11,
   "id": "59947178-4e2c-4a31-92d0-5b1c3b2ac721",
   "metadata": {},
   "outputs": [
    {
     "data": {
      "text/html": [
       "<html>\\(\\displaystyle \\left[0.896868205459925, 0.932399773233505, 0.959337220785101, 0.967440338960884, 0.975599036813840\\right]\\)</html>"
      ],
      "text/latex": [
       "$\\displaystyle \\left[0.896868205459925, 0.932399773233505, 0.959337220785101, 0.967440338960884, 0.975599036813840\\right]$"
      ],
      "text/plain": [
       "[0.896868205459925,\n",
       " 0.932399773233505,\n",
       " 0.959337220785101,\n",
       " 0.967440338960884,\n",
       " 0.975599036813840]"
      ]
     },
     "execution_count": 11,
     "metadata": {},
     "output_type": "execute_result"
    }
   ],
   "source": [
    "[numerical_approx(sum([sum(W(N,n,S_n),S_n,1,floor(N^(2/3))) for n in [1..floor(2*sqrt(N))]])) for N in [50,100,200,300,400]]"
   ]
  },
  {
   "cell_type": "markdown",
   "id": "e3bc5231-d224-45d1-9f21-6240dd27cccf",
   "metadata": {},
   "source": [
    "For large $N$, if we only consider $n < 2\\sqrt{N}$ and $S_n < N^{2/3}$, the factorials should never be negative."
   ]
  },
  {
   "cell_type": "code",
   "execution_count": 12,
   "id": "8091b6bc-8f10-4fb2-b221-4dd0bba12b09",
   "metadata": {},
   "outputs": [
    {
     "data": {
      "image/png": "[encoded data removed]",
      "text/plain": [
       "Graphics object consisting of 1 graphics primitive"
      ]
     },
     "execution_count": 12,
     "metadata": {},
     "output_type": "execute_result"
    }
   ],
   "source": [
    "plot([x-4*sqrt(x)-x^(2/3)],x,10,100)"
   ]
  },
  {
   "cell_type": "code",
   "execution_count": 13,
   "id": "3162b527-860e-4ca7-b8f2-52ca04c3d9b0",
   "metadata": {},
   "outputs": [
    {
     "data": {
      "text/html": [
       "<html>\\(\\displaystyle \\left( N, n, S_{n} \\right) \\ {\\mapsto} \\ \\frac{\\left(N - \\frac{1}{2} \\, S_{n} - n + \\frac{3}{2}\\right)! \\left(N - \\frac{1}{2} \\, S_{n} - n + \\frac{1}{2}\\right)! \\left(N - S_{n} - n\\right)!}{\\left(N - S_{n} - n + 2\\right)! \\left(N - S_{n} - 2 \\, n + 1\\right)! N!}\\)</html>"
      ],
      "text/latex": [
       "$\\displaystyle \\left( N, n, S_{n} \\right) \\ {\\mapsto} \\ \\frac{\\left(N - \\frac{1}{2} \\, S_{n} - n + \\frac{3}{2}\\right)! \\left(N - \\frac{1}{2} \\, S_{n} - n + \\frac{1}{2}\\right)! \\left(N - S_{n} - n\\right)!}{\\left(N - S_{n} - n + 2\\right)! \\left(N - S_{n} - 2 \\, n + 1\\right)! N!}$"
      ],
      "text/plain": [
       "(N, n, S_n) |--> factorial(N - 1/2*S_n - n + 3/2)*factorial(N - 1/2*S_n - n + 1/2)*factorial(N - S_n - n)/(factorial(N - S_n - n + 2)*factorial(N - S_n - 2*n + 1)*factorial(N))"
      ]
     },
     "execution_count": 13,
     "metadata": {},
     "output_type": "execute_result"
    }
   ],
   "source": [
    "W_approx(N,n,S_n) = factorial(N-S_n-n) \\\n",
    "    /factorial(N-S_n-2*n+1) \\\n",
    "    *factorial(N-n+1-(S_n-1)/2) \\\n",
    "    *factorial(N-n-S_n+2+(S_n-3)/2) \\\n",
    "    /factorial(N-n-S_n+2) \\\n",
    "    /factorial(N)\n",
    "W_approx"
   ]
  },
  {
   "cell_type": "code",
   "execution_count": 14,
   "id": "01e75f0c-7759-4a35-be11-2d097582c26d",
   "metadata": {},
   "outputs": [
    {
     "data": {
      "text/html": [
       "<html>\\(\\displaystyle \\left[0.899149929386479, 0.933592420652810, 0.959953753700509, 0.975910201139807\\right]\\)</html>"
      ],
      "text/latex": [
       "$\\displaystyle \\left[0.899149929386479, 0.933592420652810, 0.959953753700509, 0.975910201139807\\right]$"
      ],
      "text/plain": [
       "[0.899149929386479, 0.933592420652810, 0.959953753700509, 0.975910201139807]"
      ]
     },
     "execution_count": 14,
     "metadata": {},
     "output_type": "execute_result"
    }
   ],
   "source": [
    "[numerical_approx(sum([sum(W_approx(N,n,S_n),S_n,1,floor(N^(2/3))) for n in [1..floor(2*sqrt(N))]])) for N in [50,100,200,400]]"
   ]
  },
  {
   "cell_type": "markdown",
   "id": "3fb1f7e0-ad41-4639-ac67-4607587306f0",
   "metadata": {},
   "source": [
    "### Determining if relative standings change"
   ]
  },
  {
   "cell_type": "markdown",
   "id": "ad9d8ccd-af13-41a2-b05a-551518ce0e4e",
   "metadata": {},
   "source": [
    "Given that the winner is skater $n$, whose rank in the short program was $S_n$ and whose rank in the\n",
    "free skate was $n$, what is the probability that she was not first in the overall rankings at some point\n",
    "after finishing her free skate?\n",
    "\n",
    "The winner could only be behind a skater that finished ahead of her in the short program and behind\n",
    "her by more than one place in the free skate, with at least one of the skaters ranking between them\n",
    "not having skated yet.\n",
    "\n",
    "Let $C(N,n,S_n)$ the probability that was behind a skater in the overall standings some time after\n",
    "finishing her free skate.  Then\n",
    "\n",
    "$$ p_N = \\sum_{n=1}^{N} \\sum_{S_n=1}^{N} W(N,n,S_n)C(N,n,S_n) $$"
   ]
  },
  {
   "cell_type": "markdown",
   "id": "6c617dd2-73e1-4a93-93b2-96269039523d",
   "metadata": {},
   "source": [
    "The probability that skater $n+2$ was ahead in the overall rankings is the probability that $S_{n+2}/2 + 1 < S_n/2$\n",
    "and that skater $n+1$ skates after both skater $n$ and $n+2$.  Since $S_{n+2}/2 + 2 \\ge S_n/2$, that\n",
    "means $S_n - 4 \\le S_{n+2} < S_n - 2$, so $S_{n+2}$ could be either $S_n-4$ or $S_n-3$, so the first\n",
    "probability is $2/(N-S_n+5)$.  Since $N$ is large, I'll wave my hands and\n",
    "ignore the possibility that $S_n < 5$.\n",
    "\n",
    "There are 3!=6 relative skate orderings for skaters $n$, $n+1$, and $n+2$, and 2 of them have skater $n+1$ skating last, so the\n",
    "probability that skater $n+2$ was ahead is $C_2 = 2/(N-S_n+5) \\cdot 1/3$."
   ]
  },
  {
   "cell_type": "markdown",
   "id": "fabcdd40-a443-482a-9f32-4fd61ef0e83f",
   "metadata": {},
   "source": [
    "The probability that skater $n+3$ was ahead in the overall rankings is the probability that\n",
    "$S_{n+3}/2+1 < S_n/2$ and that enough of skaters $n+1$ and $n+2$ skate after both skater $n$ and $n+3$.\n",
    "Since $S_{n+3}/2 + 3 \\ge S_n/2$, that means $S_n - 6 \\le S_{n+3} < S_n - 2$.  If $S_{n+3} = S_n-6$ or $S_{n+3} = S_n-5$,\n",
    "both skaters $n+1$ and $n+2$ have to skate after both skaters $n$ and $n+3$.  If $S_{n+3} = S_n-4$ or $S_{n+3} = S_n-3$,\n",
    "at least one of skaters $n+1$ and $n+2$ must skate after both skaters $n$ and $n+3$.  There are 4!=24 relative\n",
    "skate orderings, and 4 of them have both $n+1$ and $n+2$ as the last 2, and $2\\cdot3!=12$ have have at least one\n",
    "of them last.  So the probability that skater $n+3$ was ahead is\n",
    "$C_3 = 2/(N-S_n+7)\\cdot 4/24 + 2/(N-S_n+7)\\cdot 12/24$."
   ]
  },
  {
   "cell_type": "markdown",
   "id": "4e804c00-9c61-41bd-b44b-71adf837c12a",
   "metadata": {},
   "source": [
    "In general, the short program ranking skater $n+i$, $S_{n+i}$ could range from $S_n - 2i$ to $N$.  If $S_{n+i} = S_n - 2i$\n",
    "or $S_{n+1} = S_n - 2i + 1$, then if at least one of the $i-1$ skaters from $n+1$ to $n+i-1$ skate after skaters $n$ and $n+i$,\n",
    "skater $n+i$ would be temporarily ahead of skater $n$.  If $S_{n+i} = S_n - 2i + 2$ or $S_{n+i} = S_n - 2i + 3$, then\n",
    "if at least two of those skaters skater after, the overall rankings would switch.  And so on.\n",
    "\n",
    "The probability that $k$ skaters of $i-1$ skaters skate after both $n$ and $n+i$ is\n",
    "$\\frac{i-1}{i+1}\\cdot\\frac{i-2}{i} \\cdots \\frac{i-k}{i-k+2} = \\frac{(i-1)!(i-k+1)!}{(i+1)!(i-k-1)!}$.\n",
    "\n",
    "That means\n",
    "\n",
    "$$ C_i = \\sum_{k=1}^{i-1} \\frac{2}{N-S_n+2i+1}\\frac{(i-1)!(i-k+1)!}{(i+1)!(i-k-1)!}\n",
    "  = \\frac{2}{N-S_n+2i+1}\\frac{(i-1)!}{(i+1)!} \\sum_{k=1}^{i-1} \\frac{(i-k+1)!}{(i-k-1)!}$$"
   ]
  },
  {
   "cell_type": "code",
   "execution_count": 15,
   "id": "e26b32cf-de06-4d03-8e28-2d30a43f36aa",
   "metadata": {},
   "outputs": [
    {
     "data": {
      "text/html": [
       "<html>\\(\\displaystyle \\frac{1}{3} \\, i^{3} - \\frac{1}{3} \\, i\\)</html>"
      ],
      "text/latex": [
       "$\\displaystyle \\frac{1}{3} \\, i^{3} - \\frac{1}{3} \\, i$"
      ],
      "text/plain": [
       "1/3*i^3 - 1/3*i"
      ]
     },
     "execution_count": 15,
     "metadata": {},
     "output_type": "execute_result"
    }
   ],
   "source": [
    "k = var('k')\n",
    "sum(factorial(i-k+1)/factorial(i-k-1),k,1,i-1).simplify_full()"
   ]
  },
  {
   "cell_type": "markdown",
   "id": "3a6c3ee8-fcdf-49dc-aba7-1f4c7dfc7f5c",
   "metadata": {},
   "source": [
    "So\n",
    "\n",
    "$$ C_i = \\frac{2}{N-S_n+2i+1}\\frac{i(i^2-1)}{3i(i+1)} = \\frac{2(i-1)}{3(N-S_n+2i+1)} $$\n",
    "\n",
    "Getting $C$ is trickier.  If I use $C = C_2 + (1-C_2)(C_3 + (1-C_3)(C_4 + \\ldots))$, that will ignore how\n",
    "the two different cases of $C_2$ affect subsequent probabilities.  If skater $n+2$ has the rankings to be\n",
    "ahead of skater $n$, but isn't due to skate order, that has one effect on the probabilities for $S_{n+3}$.\n",
    "If skater $n+2$ has rankings that can't be ahead of skater $n$, that has another effect on the probabilities\n",
    "for $S_{n+3}$.  I think my calculation of $C_i$ does not account for the second effect.\n",
    "\n",
    "Adding in the opposite order has the same problem."
   ]
  },
  {
   "cell_type": "markdown",
   "id": "51f82dcb-341e-48c8-84b8-64cf396ebda9",
   "metadata": {},
   "source": [
    "I'll just wave my hands and claim that $C = C_2 + C_3 + \\ldots$ is a good enough approximation when $N$ is large.\n",
    "\n",
    "$$ C(N,n,S_n) = \\sum_{i=2}^{N-n} C_i $$"
   ]
  },
  {
   "cell_type": "code",
   "execution_count": 16,
   "id": "3e9f9919-3a74-42ed-beb3-f8680cce858b",
   "metadata": {},
   "outputs": [
    {
     "data": {
      "text/html": [
       "<html>\\(\\displaystyle \\left( N, S_{n}, i \\right) \\ {\\mapsto} \\ \\frac{2 \\, {\\left(i - 1\\right)}}{3 \\, {\\left(N - S_{n} + 2 \\, i + 1\\right)}}\\)</html>"
      ],
      "text/latex": [
       "$\\displaystyle \\left( N, S_{n}, i \\right) \\ {\\mapsto} \\ \\frac{2 \\, {\\left(i - 1\\right)}}{3 \\, {\\left(N - S_{n} + 2 \\, i + 1\\right)}}$"
      ],
      "text/plain": [
       "(N, S_n, i) |--> 2/3*(i - 1)/(N - S_n + 2*i + 1)"
      ]
     },
     "execution_count": 16,
     "metadata": {},
     "output_type": "execute_result"
    }
   ],
   "source": [
    "Ci(N,S_n,i) = 2*(i-1)/(3*(N-S_n+2*i+1))\n",
    "Ci"
   ]
  },
  {
   "cell_type": "code",
   "execution_count": 17,
   "id": "17c9bf8a-3025-43e1-aff4-9f203c4932e3",
   "metadata": {},
   "outputs": [
    {
     "data": {
      "text/html": [
       "<html>\\(\\displaystyle \\left( N, n, S_{n} \\right) \\ {\\mapsto} \\ \\frac{1}{6} \\, S_{n} {\\left(H_{3/2*N - 1/2*S_n - n + 1/2} - H_{1/2*N - 1/2*S_n + 3/2}\\right)} - \\frac{1}{6} \\, N {\\left(H_{3/2*N - 1/2*S_n - n + 1/2} - H_{1/2*N - 1/2*S_n + 3/2} - 2\\right)} - \\frac{1}{3} \\, n - \\frac{1}{2} \\, H_{3/2*N - 1/2*S_n - n + 1/2} + \\frac{1}{2} \\, H_{1/2*N - 1/2*S_n + 3/2} - \\frac{1}{3}\\)</html>"
      ],
      "text/latex": [
       "$\\displaystyle \\left( N, n, S_{n} \\right) \\ {\\mapsto} \\ \\frac{1}{6} \\, S_{n} {\\left(H_{3/2*N - 1/2*S_n - n + 1/2} - H_{1/2*N - 1/2*S_n + 3/2}\\right)} - \\frac{1}{6} \\, N {\\left(H_{3/2*N - 1/2*S_n - n + 1/2} - H_{1/2*N - 1/2*S_n + 3/2} - 2\\right)} - \\frac{1}{3} \\, n - \\frac{1}{2} \\, H_{3/2*N - 1/2*S_n - n + 1/2} + \\frac{1}{2} \\, H_{1/2*N - 1/2*S_n + 3/2} - \\frac{1}{3}$"
      ],
      "text/plain": [
       "(N, n, S_n) |--> 1/6*S_n*(harmonic_number(3/2*N - 1/2*S_n - n + 1/2) - harmonic_number(1/2*N - 1/2*S_n + 3/2)) - 1/6*N*(harmonic_number(3/2*N - 1/2*S_n - n + 1/2) - harmonic_number(1/2*N - 1/2*S_n + 3/2) - 2) - 1/3*n - 1/2*harmonic_number(3/2*N - 1/2*S_n - n + 1/2) + 1/2*harmonic_number(1/2*N - 1/2*S_n + 3/2) - 1/3"
      ]
     },
     "execution_count": 17,
     "metadata": {},
     "output_type": "execute_result"
    }
   ],
   "source": [
    "C(N,n,S_n) = sum(Ci(N,S_n,i),i,2,N-n)\n",
    "C"
   ]
  },
  {
   "cell_type": "code",
   "execution_count": 18,
   "id": "16b0d9bb-cf90-4e88-9ab9-c616dcda45ff",
   "metadata": {},
   "outputs": [
    {
     "data": {
      "text/html": [
       "<html>\\(\\displaystyle N \\ {\\mapsto}\\ \\frac{{\\sum_{n=1}^{\\frac{1}{4} \\, N} {\\sum_{S_{n}=1}^{\\frac{1}{4} \\, N} -\\frac{{\\left({\\left(N - S_{n} + 3\\right)} \\left(N - S_{n} - n\\right)! H_{3/2*N - 1/2*S_n - n + 1/2} - {\\left({\\left(N - S_{n} + 3\\right)} H_{1/2*N - 1/2*S_n + 3/2} + 2 \\, N - 2\\right)} \\left(N - S_{n} - n\\right)! + 2 \\, n \\left(N - S_{n} - n\\right)!\\right)} \\left(N - \\frac{1}{2} \\, S_{n} - n + \\frac{3}{2}\\right)! \\left(N - \\frac{1}{2} \\, S_{n} - n + \\frac{1}{2}\\right)!}{\\left(N - S_{n} - n + 2\\right)! \\left(N - S_{n} - 2 \\, n + 1\\right)!}}}}{6 \\, N!}\\)</html>"
      ],
      "text/latex": [
       "$\\displaystyle N \\ {\\mapsto}\\ \\frac{{\\sum_{n=1}^{\\frac{1}{4} \\, N} {\\sum_{S_{n}=1}^{\\frac{1}{4} \\, N} -\\frac{{\\left({\\left(N - S_{n} + 3\\right)} \\left(N - S_{n} - n\\right)! H_{3/2*N - 1/2*S_n - n + 1/2} - {\\left({\\left(N - S_{n} + 3\\right)} H_{1/2*N - 1/2*S_n + 3/2} + 2 \\, N - 2\\right)} \\left(N - S_{n} - n\\right)! + 2 \\, n \\left(N - S_{n} - n\\right)!\\right)} \\left(N - \\frac{1}{2} \\, S_{n} - n + \\frac{3}{2}\\right)! \\left(N - \\frac{1}{2} \\, S_{n} - n + \\frac{1}{2}\\right)!}{\\left(N - S_{n} - n + 2\\right)! \\left(N - S_{n} - 2 \\, n + 1\\right)!}}}}{6 \\, N!}$"
      ],
      "text/plain": [
       "N |--> 1/6*sum(sum(-((N - S_n + 3)*factorial(N - S_n - n)*harmonic_number(3/2*N - 1/2*S_n - n + 1/2) - ((N - S_n + 3)*harmonic_number(1/2*N - 1/2*S_n + 3/2) + 2*N - 2)*factorial(N - S_n - n) + 2*n*factorial(N - S_n - n))*factorial(N - 1/2*S_n - n + 3/2)*factorial(N - 1/2*S_n - n + 1/2)/(factorial(N - S_n - n + 2)*factorial(N - S_n - 2*n + 1)), S_n, 1, 1/4*N), n, 1, 1/4*N)/factorial(N)"
      ]
     },
     "execution_count": 18,
     "metadata": {},
     "output_type": "execute_result"
    }
   ],
   "source": [
    "p(N) = sum(sum(C(N,n,S_n)*W_approx(N,n,S_n),S_n,1,N/4),n,1,N/4)\n",
    "p"
   ]
  },
  {
   "cell_type": "code",
   "execution_count": 19,
   "id": "372f4d2f-dcb8-4108-9d74-5e83cfed9279",
   "metadata": {},
   "outputs": [
    {
     "data": {
      "text/html": [
       "<html>\\(\\displaystyle \\frac{{\\sum_{n=1}^{\\frac{1}{4} \\, N} {\\sum_{S_{n}=1}^{\\frac{1}{4} \\, N} -\\frac{{\\left({\\left(N - S_{n} + 3\\right)} \\left(N - S_{n} - n\\right)! H_{3/2*N - 1/2*S_n - n + 1/2} - {\\left({\\left(N - S_{n} + 3\\right)} H_{1/2*N - 1/2*S_n + 3/2} + 2 \\, N - 2\\right)} \\left(N - S_{n} - n\\right)! + 2 \\, n \\left(N - S_{n} - n\\right)!\\right)} \\left(N - \\frac{1}{2} \\, S_{n} - n + \\frac{3}{2}\\right)! \\left(N - \\frac{1}{2} \\, S_{n} - n + \\frac{1}{2}\\right)!}{\\left(N - S_{n} - n + 2\\right)! \\left(N - S_{n} - 2 \\, n + 1\\right)!}}}}{6 \\, N!}\\)</html>"
      ],
      "text/latex": [
       "$\\displaystyle \\frac{{\\sum_{n=1}^{\\frac{1}{4} \\, N} {\\sum_{S_{n}=1}^{\\frac{1}{4} \\, N} -\\frac{{\\left({\\left(N - S_{n} + 3\\right)} \\left(N - S_{n} - n\\right)! H_{3/2*N - 1/2*S_n - n + 1/2} - {\\left({\\left(N - S_{n} + 3\\right)} H_{1/2*N - 1/2*S_n + 3/2} + 2 \\, N - 2\\right)} \\left(N - S_{n} - n\\right)! + 2 \\, n \\left(N - S_{n} - n\\right)!\\right)} \\left(N - \\frac{1}{2} \\, S_{n} - n + \\frac{3}{2}\\right)! \\left(N - \\frac{1}{2} \\, S_{n} - n + \\frac{1}{2}\\right)!}{\\left(N - S_{n} - n + 2\\right)! \\left(N - S_{n} - 2 \\, n + 1\\right)!}}}}{6 \\, N!}$"
      ],
      "text/plain": [
       "1/6*sum(sum(-((N - S_n + 3)*factorial(N - S_n - n)*harmonic_number(3/2*N - 1/2*S_n - n + 1/2) - ((N - S_n + 3)*harmonic_number(1/2*N - 1/2*S_n + 3/2) + 2*N - 2)*factorial(N - S_n - n) + 2*n*factorial(N - S_n - n))*factorial(N - 1/2*S_n - n + 3/2)*factorial(N - 1/2*S_n - n + 1/2)/(factorial(N - S_n - n + 2)*factorial(N - S_n - 2*n + 1)), S_n, 1, 1/4*N), n, 1, 1/4*N)/factorial(N)"
      ]
     },
     "execution_count": 19,
     "metadata": {},
     "output_type": "execute_result"
    }
   ],
   "source": [
    "p(N)"
   ]
  },
  {
   "cell_type": "markdown",
   "id": "81526d80-3167-4cba-8471-491856d4dce7",
   "metadata": {},
   "source": [
    "### Fail\n",
    "Well, that is an expression for some probably wrong approximation of $p_N$, but I don't know\n",
    "how to make sense of it or how to get a simplified approximation for when $N$ is large."
   ]
  }
 ],
 "metadata": {
  "kernelspec": {
   "display_name": "SageMath 10.3",
   "language": "sage",
   "name": "sagemath-10.3"
  },
  "language_info": {
   "codemirror_mode": {
    "name": "ipython",
    "version": 3
   },
   "file_extension": ".py",
   "mimetype": "text/x-python",
   "name": "python",
   "nbconvert_exporter": "python",
   "pygments_lexer": "ipython3",
   "version": "3.11.8"
  }
 },
 "nbformat": 4,
 "nbformat_minor": 5
}
