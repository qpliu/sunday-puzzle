{
 "cells": [
  {
   "cell_type": "markdown",
   "id": "ed42a7c0-35f7-4224-b2af-a96b59dfa0ce",
   "metadata": {},
   "source": [
    "[2024-08-02 Fiddler](https://thefiddler.substack.com/p/can-you-hack-the-olympics)\n",
    "====================\n",
    "Let the skate order be A, B, C, D.\n",
    "\n",
    "Skater D can only win by being in first place after she skates.\n",
    "\n",
    "Let's just brute force it."
   ]
  },
  {
   "cell_type": "code",
   "execution_count": 1,
   "id": "562d677a-81c2-40df-a4d7-223d188d190e",
   "metadata": {},
   "outputs": [
    {
     "data": {
      "text/plain": [
       "(1/24, 0.0416666666666667)"
      ]
     },
     "execution_count": 1,
     "metadata": {},
     "output_type": "execute_result"
    }
   ],
   "source": [
    "def leader(short, free):\n",
    "    standings = [(short.index(p)/2 + free.index(p),free.index(p),p) for p in free]\n",
    "    standings.sort()\n",
    "    return standings[0][2]\n",
    "\n",
    "def brute_force(n):\n",
    "    count = 0\n",
    "    for short in Permutations(n).list():\n",
    "        for free in Permutations(n).list():\n",
    "            winner = leader(short, free)\n",
    "            notLeader = False\n",
    "            for skater in [winner..n]:\n",
    "                if winner != leader(short, [p for p in filter(lambda x: x <= skater,free)]):\n",
    "                    notLeader = True\n",
    "                    break\n",
    "            if notLeader:\n",
    "                count = count+1\n",
    "    return count/factorial(n)^2\n",
    "(brute_force(4),numerical_approx(brute_force(4)))"
   ]
  },
  {
   "cell_type": "markdown",
   "id": "81312dbc-89d8-44a3-88f5-e9d3a1c48471",
   "metadata": {},
   "source": [
    "The probability is 1/24, about 4.167%."
   ]
  },
  {
   "cell_type": "markdown",
   "id": "2b949ba1-2300-4209-bbae-8234500245cf",
   "metadata": {},
   "source": [
    "Extra credit\n",
    "------------\n",
    "Brute force some values to see what it looks like."
   ]
  },
  {
   "cell_type": "code",
   "execution_count": 2,
   "id": "2db42368-c277-4e23-9cdb-37fe5aebbe10",
   "metadata": {},
   "outputs": [
    {
     "name": "stdout",
     "output_type": "stream",
     "text": [
      "1 0 0.000000000000000\n",
      "2 0 0.000000000000000\n",
      "3 0 0.000000000000000\n",
      "4 1/24 0.0416666666666667\n",
      "5 29/450 0.0644444444444444\n"
     ]
    }
   ],
   "source": [
    "for n in [1..5]:\n",
    "    p = brute_force(n)\n",
    "    print(n,p,numerical_approx(p))"
   ]
  },
  {
   "cell_type": "markdown",
   "id": "6a8b7d0f-5b10-40ad-8a63-b5bee0fe86c2",
   "metadata": {},
   "source": [
    "Brute force becomes too slow for more than 5 skaters.  Let's look at the 24 cases with 4 skaters."
   ]
  },
  {
   "cell_type": "code",
   "execution_count": 3,
   "id": "b6eaf59c-c46c-49e9-87a1-aace81ec9420",
   "metadata": {},
   "outputs": [
    {
     "name": "stdout",
     "output_type": "stream",
     "text": [
      "3 3 False [1, 2, 4, 3] [3, 4, 1, 2] [(3/2, 0, 3), (2, 1, 4), (2, 2, 1), (7/2, 3, 2)] [(1, 1, 1), (3/2, 0, 3), (5/2, 2, 2)] False\n",
      "2 2 False [1, 3, 4, 2] [2, 3, 1, 4] [(3/2, 0, 2), (3/2, 1, 3), (2, 2, 1), (4, 3, 4)] [(1, 1, 1), (3/2, 0, 2)] False\n",
      "2 2 False [1, 3, 4, 2] [2, 3, 4, 1] [(3/2, 0, 2), (3/2, 1, 3), (3, 2, 4), (3, 3, 1)] [(1, 1, 1), (3/2, 0, 2)] False\n",
      "2 2 False [1, 3, 4, 2] [2, 4, 1, 3] [(3/2, 0, 2), (2, 1, 4), (2, 2, 1), (7/2, 3, 3)] [(1, 1, 1), (3/2, 0, 2)] False\n",
      "2 3 True [1, 3, 4, 2] [2, 4, 1, 3] [(3/2, 0, 2), (2, 1, 4), (2, 2, 1), (7/2, 3, 3)] [(1, 1, 1), (3/2, 0, 2), (5/2, 2, 3)] False\n",
      "2 2 False [1, 3, 4, 2] [2, 4, 3, 1] [(3/2, 0, 2), (2, 1, 4), (5/2, 2, 3), (3, 3, 1)] [(1, 1, 1), (3/2, 0, 2)] False\n",
      "3 3 False [1, 4, 2, 3] [3, 4, 1, 2] [(3/2, 0, 3), (3/2, 1, 4), (2, 2, 1), (4, 3, 2)] [(1, 1, 1), (3/2, 0, 3), (3, 2, 2)] True\n",
      "2 2 False [1, 4, 3, 2] [2, 3, 1, 4] [(3/2, 0, 2), (2, 1, 3), (2, 2, 1), (7/2, 3, 4)] [(1, 1, 1), (3/2, 0, 2)] False\n",
      "2 2 False [1, 4, 3, 2] [2, 3, 4, 1] [(3/2, 0, 2), (2, 1, 3), (5/2, 2, 4), (3, 3, 1)] [(1, 1, 1), (3/2, 0, 2)] False\n",
      "2 2 False [1, 4, 3, 2] [2, 4, 1, 3] [(3/2, 0, 2), (3/2, 1, 4), (2, 2, 1), (4, 3, 3)] [(1, 1, 1), (3/2, 0, 2)] False\n",
      "2 3 True [1, 4, 3, 2] [2, 4, 1, 3] [(3/2, 0, 2), (3/2, 1, 4), (2, 2, 1), (4, 3, 3)] [(1, 1, 1), (3/2, 0, 2), (3, 2, 3)] True\n",
      "2 2 False [1, 4, 3, 2] [2, 4, 3, 1] [(3/2, 0, 2), (3/2, 1, 4), (3, 2, 3), (3, 3, 1)] [(1, 1, 1), (3/2, 0, 2)] False\n",
      "3 3 False [2, 1, 4, 3] [3, 4, 2, 1] [(3/2, 0, 3), (2, 1, 4), (2, 2, 2), (7/2, 3, 1)] [(1, 1, 2), (3/2, 0, 3), (5/2, 2, 1)] False\n",
      "1 2 False [2, 3, 4, 1] [1, 3, 2, 4] [(3/2, 0, 1), (3/2, 1, 3), (2, 2, 2), (4, 3, 4)] [(1, 1, 2), (3/2, 0, 1)] False\n",
      "1 2 False [2, 3, 4, 1] [1, 3, 4, 2] [(3/2, 0, 1), (3/2, 1, 3), (3, 2, 4), (3, 3, 2)] [(1, 1, 2), (3/2, 0, 1)] False\n",
      "1 2 False [2, 3, 4, 1] [1, 4, 2, 3] [(3/2, 0, 1), (2, 1, 4), (2, 2, 2), (7/2, 3, 3)] [(1, 1, 2), (3/2, 0, 1)] False\n",
      "1 3 True [2, 3, 4, 1] [1, 4, 2, 3] [(3/2, 0, 1), (2, 1, 4), (2, 2, 2), (7/2, 3, 3)] [(1, 1, 2), (3/2, 0, 1), (5/2, 2, 3)] False\n",
      "1 2 False [2, 3, 4, 1] [1, 4, 3, 2] [(3/2, 0, 1), (2, 1, 4), (5/2, 2, 3), (3, 3, 2)] [(1, 1, 2), (3/2, 0, 1)] False\n",
      "3 3 False [2, 4, 1, 3] [3, 4, 2, 1] [(3/2, 0, 3), (3/2, 1, 4), (2, 2, 2), (4, 3, 1)] [(1, 1, 2), (3/2, 0, 3), (3, 2, 1)] True\n",
      "1 2 False [2, 4, 3, 1] [1, 3, 2, 4] [(3/2, 0, 1), (2, 1, 3), (2, 2, 2), (7/2, 3, 4)] [(1, 1, 2), (3/2, 0, 1)] False\n",
      "1 2 False [2, 4, 3, 1] [1, 3, 4, 2] [(3/2, 0, 1), (2, 1, 3), (5/2, 2, 4), (3, 3, 2)] [(1, 1, 2), (3/2, 0, 1)] False\n",
      "1 2 False [2, 4, 3, 1] [1, 4, 2, 3] [(3/2, 0, 1), (3/2, 1, 4), (2, 2, 2), (4, 3, 3)] [(1, 1, 2), (3/2, 0, 1)] False\n",
      "1 3 True [2, 4, 3, 1] [1, 4, 2, 3] [(3/2, 0, 1), (3/2, 1, 4), (2, 2, 2), (4, 3, 3)] [(1, 1, 2), (3/2, 0, 1), (3, 2, 3)] True\n",
      "1 2 False [2, 4, 3, 1] [1, 4, 3, 2] [(3/2, 0, 1), (3/2, 1, 4), (3, 2, 3), (3, 3, 2)] [(1, 1, 2), (3/2, 0, 1)] False\n",
      "2 3 False [3, 1, 4, 2] [2, 4, 3, 1] [(3/2, 0, 2), (2, 1, 4), (2, 2, 3), (7/2, 3, 1)] [(1, 1, 3), (3/2, 0, 2), (5/2, 2, 1)] False\n",
      "1 3 False [3, 2, 4, 1] [1, 4, 3, 2] [(3/2, 0, 1), (2, 1, 4), (2, 2, 3), (7/2, 3, 2)] [(1, 1, 3), (3/2, 0, 1), (5/2, 2, 2)] False\n",
      "2 3 False [3, 4, 1, 2] [2, 4, 3, 1] [(3/2, 0, 2), (3/2, 1, 4), (2, 2, 3), (4, 3, 1)] [(1, 1, 3), (3/2, 0, 2), (3, 2, 1)] True\n",
      "1 3 False [3, 4, 2, 1] [1, 4, 3, 2] [(3/2, 0, 1), (3/2, 1, 4), (2, 2, 3), (4, 3, 2)] [(1, 1, 3), (3/2, 0, 1), (3, 2, 2)] True\n"
     ]
    }
   ],
   "source": [
    "def examine(n):\n",
    "    for short in Permutations(n):\n",
    "        for free in Permutations(n):\n",
    "            finalStandings = [(short.index(p)/2 + free.index(p),free.index(p),p) for p in free]\n",
    "            finalStandings.sort()\n",
    "            winner = finalStandings[0][2]\n",
    "            redundant = False\n",
    "            for skater in [winner..n]:\n",
    "                currentFree = [p for p in filter(lambda x: x <= skater,free)]\n",
    "                currentStandings = [(short.index(p)/2 + currentFree.index(p),currentFree.index(p),p) for p in currentFree]\n",
    "                currentStandings.sort()\n",
    "                if winner != currentStandings[0][2]:\n",
    "                    print(winner,skater,redundant,short,free,finalStandings,currentStandings, \\\n",
    "                          n == 4 and len(currentStandings) == 3 and \\\n",
    "                          short[0] == free[2] and short[0] == currentStandings[0][2] and short[0] == finalStandings[2][2] and \\\n",
    "                          short[1] == 4 and free[1] == 4 and finalStandings[1][2] == 4 and \\\n",
    "                          short[2] == free[3] and short[2] == currentStandings[2][2] and short[2] == finalStandings[3][2] and \\\n",
    "                          short[3] == winner and free[0] == winner and currentStandings[1][2] == winner)\n",
    "                    redundant = True\n",
    "examine(4)"
   ]
  },
  {
   "cell_type": "markdown",
   "id": "08d44819-fc81-41c2-a5a0-218d486cdda7",
   "metadata": {},
   "source": [
    "I don't have any insights from looking at this.  6 of them are consistent with the 2002 Olympics scenario:\n",
    "since Slutskaya skates last, there are 3!=6 ways the other 3 skaters can be ordered."
   ]
  },
  {
   "cell_type": "markdown",
   "id": "f3c14f17-5768-4f63-a7a7-7441b339fd7c",
   "metadata": {},
   "source": [
    "Let skater $n$ be the skater that finished $n$th in the free skate.  Let $S_n$ be her finish in the short program,\n",
    "and $T_n$ be her skate order.  There are $N!^2$ possibilities.\n",
    "\n",
    "With $S_n$ alone, we can determine the winner.  And, with $N!$ possiblities in the skate order, we can determine\n",
    "the probability that some skater was ahead of the winner in the overall standings at some point.\n",
    "\n",
    "Consider skaters $i$ and $j > i$.  If $S_i \\le S_j$, then skater $j$ will never be ahead of skater $i$.  There are\n",
    "$j - i - 1$ skaters between them in the free skate rankings, and $r$ of them, where $0 \\le r \\le j - i - 1$ have\n",
    "not skated yet when both skaters $i$ and $j$ have finished skating.  The score differential between the two\n",
    "is initially $j - i - r + S_j/2 - S_i/2$, and, when all skaters have finished skating, ends up at $j - i + S_j/2 - S_i/2$.\n",
    "If the differential is greater than or equal to zero, skater $i$ is ahead.  If the differential is less than zero,\n",
    "skater $j$ is ahead.  So if $r > j - i + S_j/2 - S_i/2 \\ge 0$, then skater $i$ would initially be behind skater $j$,\n",
    "but ultimately end up ahead of skater $j$, otherwise, their relative overall standings will not change."
   ]
  },
  {
   "cell_type": "markdown",
   "id": "b5259ab9-f417-4a20-a458-0f4d9a9c4c37",
   "metadata": {},
   "source": [
    "### Determining the winner"
   ]
  },
  {
   "cell_type": "markdown",
   "id": "10d853a6-0226-482e-a5bf-b89d186d9bdb",
   "metadata": {},
   "source": [
    "The probability that skater $n$ finishes behind skater 1 is the probability that $n + S_n/2 \\ge 1 + S_1/2$,\n",
    "or $S_1 \\le S_n + 2n - 2$.  There are $\\min(N-1,S_n+2n-3)$ skaters out of $N-1$ (excluding skater $n$), so\n",
    "the probability that skater $n$ finishes ahead of skater 1 is\n",
    "$1 - \\min(N-1,S_n+2n-3)/(N-1) = (N-1-\\min(N-1,S_n+2n-3))/(N-1)$.\n",
    "\n",
    "The probability that skater $n$ finishes behind skater 2, given that skater $n$ finishes ahead of skater 1,\n",
    "is the probability that $n + S_n/2 \\ge 2 + S_2/2$, or $S_2 \\le S_n + 2n - 4$.  There are\n",
    "$\\min(N-2,S_n+2n-5)$ skaters out of $N-2$ (excluding skaters 1 and $n$), so the probability that skater $n$\n",
    "finishes ahead of skater 2 is\n",
    "$1 - \\min(N-2,S_n+2n-5)/(N-2) = (N-2-\\min(N-2,S_n+2n-5))/(N-2)$.\n",
    "\n",
    "Continuing in the same vein up to skater $n-1$, the probability that skater $n$ finishes behind skater $i$,\n",
    "where $i < n$, given that skater $n$ finishes ahead of skaters 1 through $i-1$, is the probability  that\n",
    "$n + S_n/2 \\ge i + S_i/2$, or $S_i \\le S_n + 2n - 2i$.  There are\n",
    "$\\min(N-i,S_n+2n-2i-1)$ skaters out of $N-i$,\n",
    "so the probability that skater $n$ finishes ahead of skater $i$ is\n",
    "$1 - \\min(N-i,S_n+2n-2i-1)/(N-i) = (N-i-\\min(N-i,S_n+2n-2i-1))/(N-i)$."
   ]
  },
  {
   "cell_type": "markdown",
   "id": "f510adb6-d1c8-43ba-983c-57d83b6bb967",
   "metadata": {},
   "source": [
    "The probability that skater $n$ finishes behind skater $n+1$, given that skater $n$ finishes ahead of\n",
    "skaters 1 through $n-1$, is the probability that $n + S_n/2 > n+1 + S_{n+1}/2$, or $S_{n+1} < S_n - 2$.\n",
    "There are $S_n-3$ skaters out of $N-n$, so the probability that skater $n$ finishes ahead of skater $n+1$\n",
    "is $1 - \\min(0,S_n-3)/(N-n) = (N-n-\\min(0,S_n-3))/(N-n)$.\n",
    "\n",
    "The probability that skater $n$ finishes behind of skater $n+2$, given that skater $n$ finishes ahead of\n",
    "skaters 1 through $n-1$ and $n+1$, is the probability that $n + S_n/2 > n+2 + S_{n+2}/2$, or\n",
    "$S_{n+2} < S_n - 4$.  There are $\\max(0,S_n-5)$ skaters out of $N-n-1$, so the probability that skater $n$\n",
    "finishes ahead of skater $n+2$ is $1 - \\max(0,S_n-5)/(N-n-1) = (N-n-1-\\max(0,S_n-5))/(N-n-1)$.\n",
    "\n",
    "Continuing in the same vein up to skater $N$, the probability that skater $n$ finishes behind skater $n+i$,\n",
    "given that skater $n$ finishes ahead of skaters 1 through $n-1$ and $n+1$ through $n+i-1$, is the\n",
    "probability that $n+S_n/2 > n+i+S_{n+i}/2$, or $S_{n+i} < S_n-2i$.  There are $\\max(0,S_n-2i-1)$ skaters\n",
    "out of $N-n-i+1$, so the probability that skater $n$ finishes ahead of skater $n+i$ is\n",
    "$1 - \\max(0,S_n-2i-1)/(N-n-i+1) = (N-n-i+1-\\max(0,S_n-2i-1))/(N-n-i+1)$."
   ]
  },
  {
   "cell_type": "markdown",
   "id": "0fd0ef3f-acda-46d6-a785-a871cef4f438",
   "metadata": {},
   "source": [
    "Putting it together, the probability that the winner finished $S_n$th in the short program and $n$th in the\n",
    "free skate is\n",
    "\n",
    "$$\\begin{aligned}\n",
    "    W(N,n,S_n) &= \\frac{1}{N}\n",
    "    \\left(\\prod_{i=1}^{n-1} \\frac{N-i-\\min(N-i,S_n+2n-2i-1)}{N-i}\\right)\n",
    "        \\prod_{i=1}^{N-n} \\frac{N-n-i+1-\\max(0,S_n-2i-1)}{N-n-i+1} \\\\\n",
    "    &= \\frac{\\left(\\prod_{i=1}^{n-1} \\left(N-i-\\min(N-i,S_n+2n-2i-1)\\right)\\right)\n",
    "                \\prod_{i=1}^{N-n} \\left(N-n-i+1-\\max(0,S_n-2i-1)\\right)}\n",
    "            {N!} \\\\\n",
    "\\end{aligned}$$"
   ]
  },
  {
   "cell_type": "code",
   "execution_count": 4,
   "id": "4367d49d-db9d-4abd-bb15-c01a8c13bc7a",
   "metadata": {},
   "outputs": [
    {
     "data": {
      "text/html": [
       "<html>\\(\\displaystyle \\left( N, n, S_{n} \\right) \\ {\\mapsto} \\ -\\frac{\\left(-1\\right)^{N + n} \\left(-1\\right)^{n} {\\prod_{i=1}^{N - n} -N + i + n + \\max\\left(0, S_{n} - 2 \\, i - 1\\right) - 1} {\\prod_{i=1}^{n - 1} -N + i + \\min\\left(N - i, S_{n} - 2 \\, i + 2 \\, n - 1\\right)}}{N!}\\)</html>"
      ],
      "text/latex": [
       "$\\displaystyle \\left( N, n, S_{n} \\right) \\ {\\mapsto} \\ -\\frac{\\left(-1\\right)^{N + n} \\left(-1\\right)^{n} {\\prod_{i=1}^{N - n} -N + i + n + \\max\\left(0, S_{n} - 2 \\, i - 1\\right) - 1} {\\prod_{i=1}^{n - 1} -N + i + \\min\\left(N - i, S_{n} - 2 \\, i + 2 \\, n - 1\\right)}}{N!}$"
      ],
      "text/plain": [
       "(N, n, S_n) |--> -(-1)^(N + n)*(-1)^n*product(-N + i + n + max(0, S_n - 2*i - 1) - 1, i, 1, N - n)*product(-N + i + min(N - i, S_n - 2*i + 2*n - 1), i, 1, n - 1)/factorial(N)"
      ]
     },
     "execution_count": 4,
     "metadata": {},
     "output_type": "execute_result"
    }
   ],
   "source": [
    "%display latex\n",
    "i, N, n, S_n = var('i N n S_n')\n",
    "assume(N, \"integer\")\n",
    "assume(n, \"integer\")\n",
    "assume(S_n, \"integer\")\n",
    "assume(N > 1)\n",
    "assume(n >= 1)\n",
    "assume(n <= N)\n",
    "assume(S_n >= 1)\n",
    "assume(S_n <= N)\n",
    "W(N,n,S_n) = product(N-i-min_symbolic(N-i,S_n+2*n-2*i-1),i,1,n-1)*product(N-n-i+1-max_symbolic(0,S_n-2*i-1),i,1,N-n)/factorial(N)\n",
    "W"
   ]
  },
  {
   "cell_type": "markdown",
   "id": "19436588-bad6-41d4-9adc-1d780a86ed7e",
   "metadata": {},
   "source": [
    "Check this against a brute force calculation."
   ]
  },
  {
   "cell_type": "code",
   "execution_count": 5,
   "id": "2236d153-eb17-4777-958b-74b0efbd833d",
   "metadata": {},
   "outputs": [],
   "source": [
    "def W_brute_force(N,n,S_n):\n",
    "    count = 0\n",
    "    for S in Permutations(N).list():\n",
    "        if S[n-1] != S_n:\n",
    "            continue\n",
    "        standings = [(i+S[i-1]/2,i) for i in [1..N]]\n",
    "        standings.sort()\n",
    "        if standings[0][1] == n:\n",
    "            count = count+1\n",
    "    return count/factorial(N)"
   ]
  },
  {
   "cell_type": "code",
   "execution_count": 6,
   "id": "ece01764-b0c5-467a-b9d2-3a8dbf61b009",
   "metadata": {},
   "outputs": [
    {
     "data": {
      "text/html": [
       "<html>\\(\\displaystyle \\left[\\left[\\left[\\right], \\left[\\right]\\right], \\left[\\left[\\right], \\left[\\right], \\left[\\right]\\right], \\left[\\left[\\right], \\left[\\right], \\left[\\right], \\left[\\right]\\right], \\left[\\left[\\right], \\left[\\right], \\left[\\right], \\left[\\right], \\left[\\right]\\right], \\left[\\left[\\right], \\left[\\right], \\left[\\right], \\left[\\right], \\left[\\right], \\left[\\right]\\right]\\right]\\)</html>"
      ],
      "text/latex": [
       "$\\displaystyle \\left[\\left[\\left[\\right], \\left[\\right]\\right], \\left[\\left[\\right], \\left[\\right], \\left[\\right]\\right], \\left[\\left[\\right], \\left[\\right], \\left[\\right], \\left[\\right]\\right], \\left[\\left[\\right], \\left[\\right], \\left[\\right], \\left[\\right], \\left[\\right]\\right], \\left[\\left[\\right], \\left[\\right], \\left[\\right], \\left[\\right], \\left[\\right], \\left[\\right]\\right]\\right]$"
      ],
      "text/plain": [
       "[[[], []],\n",
       " [[], [], []],\n",
       " [[], [], [], []],\n",
       " [[], [], [], [], []],\n",
       " [[], [], [], [], [], []]]"
      ]
     },
     "execution_count": 6,
     "metadata": {},
     "output_type": "execute_result"
    }
   ],
   "source": [
    "[[list(filter(lambda x: x != 0, [W(n,i,j).simplify() - W_brute_force(n,i,j) for i in [1..n]])) for j in [1..n]] for n in [2..6]]"
   ]
  },
  {
   "cell_type": "markdown",
   "id": "3fb1f7e0-ad41-4639-ac67-4607587306f0",
   "metadata": {},
   "source": [
    "### Determining if relative standings change"
   ]
  },
  {
   "cell_type": "markdown",
   "id": "ad9d8ccd-af13-41a2-b05a-551518ce0e4e",
   "metadata": {},
   "source": [
    "Given that the winner is skater $n$, whose rank in the short program was $S_n$ and whose rank in the\n",
    "free skate was $n$, what is the probability that she was not first in the overall rankings at some point\n",
    "after finishing her free skate?\n",
    "\n",
    "The winner could only be behind a skater that finished ahead of her in the short program and behind\n",
    "her by more than one place in the free skate, with at least one of the skaters ranking between them\n",
    "not having skated yet.\n",
    "\n",
    "Let $C(N,n,S_n)$ the probability that was behind a skater in the overall standings some time after\n",
    "finishing her free skate.  Then\n",
    "\n",
    "$$ p_N = \\sum_{n=1}^{N} \\sum_{S_n=1}^{N} W(N,n,S_n)C(N,n,S_n) $$"
   ]
  },
  {
   "cell_type": "markdown",
   "id": "6c617dd2-73e1-4a93-93b2-96269039523d",
   "metadata": {},
   "source": [
    "The probability that skater $n+2$ was ahead in the overall rankings is the probability that $S_{n+2}/2 + 1 < S_n/2$\n",
    "and that skater $n+1$ skates after both skater $n$ and $n+2$.  Since $S_{n+2}/2 + 2 \\ge S_n/2$, that means $S_n - 4 \\le S_{n+2} < S_n - 2$, so the first probability is $\\min(2,\\max(0,S_n-3))/(N-1)$.\n",
    "There are 3!=6 relative skate orderings for skaters $n$, $n+1$, and $n+2$, and 2 of them have skater $n+1$ skating last, so the\n",
    "probability that skater $n+2$ was ahead is $\\min(2,\\max(0,S_n-3))/(N-1)\\cdot 2/6$."
   ]
  },
  {
   "cell_type": "markdown",
   "id": "fabcdd40-a443-482a-9f32-4fd61ef0e83f",
   "metadata": {},
   "source": [
    "The probability that skater $n+3$ was ahead in the overall rankings is the probability that\n",
    "$S_{n+3}/2+1 < S_n/2$ and that enough of skaters $n+1$ and $n+2$ skate after both skater $n$ and $n+3$.\n",
    "Since $S_{n+3}/2 + 3 \\ge S_n/2$, that means $S_n - 6 \\le S_{n+3} < S_n - 2$.  If $S_{n+3} = S_n-6$ or $S_{n+3} = S_n-5$,\n",
    "both skaters $n+1$ and $n+2$ have to skate after both skaters $n$ and $n+3$.  If $S_{n+3} = S_n-4$ or $S_{n+3} = S_n-3$,\n",
    "at least one of skaters $n+1$ and $n+2$ must skate after both skaters $n$ and $n+3$.  There are 4!=24 relative\n",
    "skate orderings, and 4 of them have both $n+1$ and $n+2$ as the last 2, and $2\\cdot3!=12$ have have at least one\n",
    "of them last.  So the probability that skater $n+3$ was ahead is\n",
    "$\\min(2,\\max(0,S_n-5))/(N-1)\\cdot 4/24 + \\min(2,\\max(0,S_n-3))/(N-1)\\cdot 12/24$."
   ]
  },
  {
   "cell_type": "markdown",
   "id": "81526d80-3167-4cba-8471-491856d4dce7",
   "metadata": {},
   "source": [
    "### Fail\n",
    "It's getting complicated and I'm not seeing where assuming $N$ is large can simplify things, so I'm giving up."
   ]
  }
 ],
 "metadata": {
  "kernelspec": {
   "display_name": "SageMath 10.3",
   "language": "sage",
   "name": "sagemath-10.3"
  },
  "language_info": {
   "codemirror_mode": {
    "name": "ipython",
    "version": 3
   },
   "file_extension": ".py",
   "mimetype": "text/x-python",
   "name": "python",
   "nbconvert_exporter": "python",
   "pygments_lexer": "ipython3",
   "version": "3.11.8"
  }
 },
 "nbformat": 4,
 "nbformat_minor": 5
}
