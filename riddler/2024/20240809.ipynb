{
 "cells": [
  {
   "cell_type": "markdown",
   "id": "25e7f5a3-1951-4701-aa55-635b7d0f2e35",
   "metadata": {},
   "source": [
    "[2024-08-09 Fiddler](https://thefiddler.substack.com/p/can-you-hack-gymnastics)\n",
    "====================\n"
   ]
  },
  {
   "cell_type": "markdown",
   "id": "a0f0f2b1-0470-4730-8cc4-64eccf136161",
   "metadata": {},
   "source": [
    "[Simulations](20240809.go) gives about 96.2% and, for the extra credit, 91.6%.\n",
    "\n",
    "    $ go run 20240809.go\n",
    "    9617624/10000000 0.961762\n",
    "    9167039/10000000 0.916704\n",
    "\n",
    "Setting things up"
   ]
  },
  {
   "cell_type": "code",
   "execution_count": 1,
   "id": "b54dfbc1-56f2-4d69-ac42-ba675cf78fcd",
   "metadata": {},
   "outputs": [],
   "source": [
    "%display latex\n",
    "D_A, X_A, D_B, X_B = var('D_A X_A D_B X_B')\n",
    "A_s = D_A + X_A\n",
    "A_p = D_A * X_A\n",
    "B_s = D_B + X_B\n",
    "B_p = D_B * X_B"
   ]
  },
  {
   "cell_type": "markdown",
   "id": "0141aa4f-7c33-4cd3-9405-cb261fac9989",
   "metadata": {},
   "source": [
    "The probability that the relative rankings are the same is\n",
    "\n",
    "$$ \\int_0^{10} \\frac{dX_A}{10} \\int_0^{10} \\frac{dX_B}{10} (H(A_s-B_s)H(A_p-B_p) + H(B_s-A_s)H(B_p-A_p)) $$\n",
    "\n",
    "but I can't figure out how to express that without getting `TypeError`s.  The integrand is"
   ]
  },
  {
   "cell_type": "code",
   "execution_count": 2,
   "id": "67136757-1131-40a6-8e62-6447b91adcef",
   "metadata": {},
   "outputs": [
    {
     "data": {
      "text/html": [
       "<html>\\(\\displaystyle H\\left(D_{A} X_{A} - D_{B} X_{B}\\right) H\\left(D_{A} - D_{B} + X_{A} - X_{B}\\right) + H\\left(-D_{A} X_{A} + D_{B} X_{B}\\right) H\\left(-D_{A} + D_{B} - X_{A} + X_{B}\\right)\\)</html>"
      ],
      "text/latex": [
       "$\\displaystyle H\\left(D_{A} X_{A} - D_{B} X_{B}\\right) H\\left(D_{A} - D_{B} + X_{A} - X_{B}\\right) + H\\left(-D_{A} X_{A} + D_{B} X_{B}\\right) H\\left(-D_{A} + D_{B} - X_{A} + X_{B}\\right)$"
      ],
      "text/plain": [
       "heaviside(D_A*X_A - D_B*X_B)*heaviside(D_A - D_B + X_A - X_B) + heaviside(-D_A*X_A + D_B*X_B)*heaviside(-D_A + D_B - X_A + X_B)"
      ]
     },
     "execution_count": 2,
     "metadata": {},
     "output_type": "execute_result"
    }
   ],
   "source": [
    "heaviside(A_s-B_s)*heaviside(A_p-B_p) + heaviside(B_s-A_s)*heaviside(B_p-A_p)"
   ]
  },
  {
   "cell_type": "markdown",
   "id": "19f6ec54-4a85-4536-bc96-b9ccc8911fa8",
   "metadata": {},
   "source": [
    "A is ahead of B when adding when $X_B < D_A - D_B + X_A$.\n",
    "\n",
    "A is ahead of B when multiplying when $X_B < D_AX_A/D_B$.\n",
    "\n",
    "So the relative rankings are then same when $X_B < \\min(D_A-D_B+X_A,D_AX_A/D_B)$ or $X_B > \\max(D_A-D_B+X_A,D_AX_A/D_B)$."
   ]
  },
  {
   "cell_type": "code",
   "execution_count": 3,
   "id": "b33e27d7-b6e1-4f14-876e-99be5e0a0668",
   "metadata": {},
   "outputs": [
    {
     "data": {
      "text/html": [
       "<html>\\(\\displaystyle \\left[X_{A} = D_{B}\\right]\\)</html>"
      ],
      "text/latex": [
       "$\\displaystyle \\left[X_{A} = D_{B}\\right]$"
      ],
      "text/plain": [
       "[X_A == D_B]"
      ]
     },
     "execution_count": 3,
     "metadata": {},
     "output_type": "execute_result"
    }
   ],
   "source": [
    "solve(D_A-D_B+X_A == D_A*X_A/D_B, X_A)"
   ]
  },
  {
   "cell_type": "markdown",
   "id": "b2b8ef5d-cf75-4402-8972-4169d9ec6d11",
   "metadata": {},
   "source": [
    "Assuming $D_A > D_B$, then when $X_A < D_B$, the relative rankings are the same when\n",
    "$X_B < D_AX_A/D_B$ or $X_B > D_A-D_B+X_A$, and when $X_A > D_B$, the relative rankings\n",
    "are them same when $X_B < D_A-D_B+X_A$ or $X_B > D_AX_A/D_B$.\n",
    "\n",
    "If $X_A < D_B$, the probability that $X_B < D_AX_A/D_B$ is $D_AX_A/D_B\\cdot1/10$, and\n",
    "the probability that $X_B > D_A-D_B+X_A$ is 0 when $D_A-D_B+X_A > 10$, or $X_A > 10 - (D_A-D_B)$,\n",
    "and $(10 - (D_A-D_B+X_A))/10$ when $X_A < 10-(D_A-D_B)$.\n",
    "\n",
    "If $X_A > D_B$, the probability that $X_B < D_A-D_B+X_A$ is $\\min(1,(D_A-D_B+X_A)/10)$, and\n",
    "the probability that $X_B > D_AX_A/D_B$ is 0 when $D_AX_A/D_B > 10$, or $X_A > 10D_B/D_A$,\n",
    "is $\\max(0,(10 - D_AX_A/D_B)/10)$.\n",
    "\n",
    "The probability that the relative rankings are the same is"
   ]
  },
  {
   "cell_type": "code",
   "execution_count": 4,
   "id": "0b137e24-0cfa-45ed-b07e-78af2bbe3b35",
   "metadata": {},
   "outputs": [
    {
     "data": {
      "text/html": [
       "<html>\\(\\displaystyle \\left( D_{A}, D_{B} \\right) \\ {\\mapsto} \\ -\\frac{1}{200} \\, D_{A}^{2} - \\frac{1}{100} \\, {\\left(D_{A} - 10\\right)} D_{B} + \\frac{1}{200} \\, {\\left(D_{A} - 20\\right)} D_{B} + \\frac{1}{200} \\, D_{A} D_{B} + \\frac{1}{200} \\, D_{B}^{2} + \\frac{1}{10} \\, D_{A} - \\frac{1}{10} \\, D_{B} + \\frac{D_{B}}{2 \\, D_{A}} + \\frac{1}{2}\\)</html>"
      ],
      "text/latex": [
       "$\\displaystyle \\left( D_{A}, D_{B} \\right) \\ {\\mapsto} \\ -\\frac{1}{200} \\, D_{A}^{2} - \\frac{1}{100} \\, {\\left(D_{A} - 10\\right)} D_{B} + \\frac{1}{200} \\, {\\left(D_{A} - 20\\right)} D_{B} + \\frac{1}{200} \\, D_{A} D_{B} + \\frac{1}{200} \\, D_{B}^{2} + \\frac{1}{10} \\, D_{A} - \\frac{1}{10} \\, D_{B} + \\frac{D_{B}}{2 \\, D_{A}} + \\frac{1}{2}$"
      ],
      "text/plain": [
       "(D_A, D_B) |--> -1/200*D_A^2 - 1/100*(D_A - 10)*D_B + 1/200*(D_A - 20)*D_B + 1/200*D_A*D_B + 1/200*D_B^2 + 1/10*D_A - 1/10*D_B + 1/2*D_B/D_A + 1/2"
      ]
     },
     "execution_count": 4,
     "metadata": {},
     "output_type": "execute_result"
    }
   ],
   "source": [
    "p(D_A,D_B) = integral(D_A*X_A/D_B*1/10, X_A, 0, D_B)/10 \\\n",
    "    + integral((10 - (D_A-D_B+X_A))/10, X_A, 0, D_B)/10 \\\n",
    "    + integral((D_A-D_B+X_A)/10, X_A, D_B, 10-(D_A-D_B))/10 \\\n",
    "    + integral(1, X_A, 10-(D_A-D_B), 10)/10 \\\n",
    "    + integral((10-D_A*X_A/D_B)/10, X_A, D_B, 10*D_B/D_A)/10\n",
    "p"
   ]
  },
  {
   "cell_type": "code",
   "execution_count": 5,
   "id": "691d33bd-1e9c-433e-90d0-20e9dc75102a",
   "metadata": {},
   "outputs": [
    {
     "data": {
      "text/html": [
       "<html>\\(\\displaystyle \\left(\\frac{577}{600}, 0.961666666666667\\right)\\)</html>"
      ],
      "text/latex": [
       "$\\displaystyle \\left(\\frac{577}{600}, 0.961666666666667\\right)$"
      ],
      "text/plain": [
       "(577/600, 0.961666666666667)"
      ]
     },
     "execution_count": 5,
     "metadata": {},
     "output_type": "execute_result"
    }
   ],
   "source": [
    "(p(6,5), numerical_approx(p(6,5)))"
   ]
  },
  {
   "cell_type": "markdown",
   "id": "b567242b-a2bc-40d7-91a4-b392cea84230",
   "metadata": {},
   "source": [
    "That agrees reasonably with the results of the simulations."
   ]
  },
  {
   "cell_type": "markdown",
   "id": "20bc4e52-ee4e-4cc3-9aba-4990c7500ce4",
   "metadata": {},
   "source": [
    "Extra credit\n",
    "------------\n",
    "Integrating over $D_A$ and $D_B$, assuming $D_A > D_B$, then doubling to count the $D_A < D_B$ cases,"
   ]
  },
  {
   "cell_type": "code",
   "execution_count": 6,
   "id": "faef0c26-d79a-412d-b3d2-405b9a8c41aa",
   "metadata": {},
   "outputs": [
    {
     "data": {
      "text/html": [
       "<html>\\(\\displaystyle \\left(\\frac{11}{12}, 0.916666666666667\\right)\\)</html>"
      ],
      "text/latex": [
       "$\\displaystyle \\left(\\frac{11}{12}, 0.916666666666667\\right)$"
      ],
      "text/plain": [
       "(11/12, 0.916666666666667)"
      ]
     },
     "execution_count": 6,
     "metadata": {},
     "output_type": "execute_result"
    }
   ],
   "source": [
    "extra_credit = 2*integral(integral(p, D_B, 0, D_A)/10, D_A, 0, 10)/10\n",
    "(extra_credit, numerical_approx(extra_credit))"
   ]
  },
  {
   "cell_type": "markdown",
   "id": "84e16fcc-ee38-4b15-8565-5362b3fc203a",
   "metadata": {},
   "source": [
    "This also reasonably agrees with the results of the simulations."
   ]
  }
 ],
 "metadata": {
  "kernelspec": {
   "display_name": "SageMath 10.3",
   "language": "sage",
   "name": "sagemath-10.3"
  },
  "language_info": {
   "codemirror_mode": {
    "name": "ipython",
    "version": 3
   },
   "file_extension": ".py",
   "mimetype": "text/x-python",
   "name": "python",
   "nbconvert_exporter": "python",
   "pygments_lexer": "ipython3",
   "version": "3.11.8"
  }
 },
 "nbformat": 4,
 "nbformat_minor": 5
}
