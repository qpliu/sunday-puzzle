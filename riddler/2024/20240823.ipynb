{
 "cells": [
  {
   "cell_type": "markdown",
   "id": "99aa0d32-898c-40d4-82f8-dd898691dda9",
   "metadata": {},
   "source": [
    "[2024-08-23 Fiddler](https://thefiddler.substack.com/p/round-round-get-a-round-i-get-a-round)\n",
    "====================\n",
    "Another [song](https://www.youtube.com/watch?v=0u8teXR8VE4) option.\n",
    "\n",
    "The sums could be 0, 1, or 2.\n",
    "\n",
    "The sum of the rounded numbers is 0 when both numbers are less than 0.5.  It's 1 when one number\n",
    "is less than 0.5 and the other is greater than 0.5.  It's 2 when both numbers are greater than 0.5."
   ]
  },
  {
   "cell_type": "markdown",
   "id": "9a0e0d4f-5967-4fc0-9ef3-9ea5d6ae4684",
   "metadata": {},
   "source": [
    "The probability that both numbers are less than 0.5 and their rounded sum is 0 is"
   ]
  },
  {
   "cell_type": "code",
   "execution_count": 1,
   "id": "39822297-81cd-4d4a-a0a8-8df3072189e4",
   "metadata": {},
   "outputs": [
    {
     "data": {
      "text/html": [
       "<html>\\(\\displaystyle \\frac{1}{8}\\)</html>"
      ],
      "text/latex": [
       "$\\displaystyle \\frac{1}{8}$"
      ],
      "text/plain": [
       "1/8"
      ]
     },
     "execution_count": 1,
     "metadata": {},
     "output_type": "execute_result"
    }
   ],
   "source": [
    "%display latex\n",
    "x, y = var('x,y')\n",
    "integral(integral(1,y,0,1/2-x),x,0,1/2)"
   ]
  },
  {
   "cell_type": "markdown",
   "id": "a7520fc2-f49c-4d3a-af41-23fb0f15ae75",
   "metadata": {},
   "source": [
    "By symmetry, the probability that both numbers are greater than 0.5 and their rounded sum is 2 is\n",
    "also 1/8."
   ]
  },
  {
   "cell_type": "markdown",
   "id": "24a3d4d5-60f6-49b4-833a-98ec551b96bb",
   "metadata": {},
   "source": [
    "The probability that one number is less than 0.5 and the other is greater than 0.5 is\n",
    "1/2, and their rounded sum is always 1."
   ]
  },
  {
   "cell_type": "markdown",
   "id": "3411592c-9cb3-4a50-921f-f5c89d4f0a94",
   "metadata": {},
   "source": [
    "So the probability that the sum of the rounded numbers is equal to the rounded sum is 3/4."
   ]
  },
  {
   "cell_type": "markdown",
   "id": "f7d641fa-fd48-49f8-bab6-5f3786b946aa",
   "metadata": {},
   "source": [
    "### Simulation"
   ]
  },
  {
   "cell_type": "code",
   "execution_count": 2,
   "id": "9182142c-761d-458e-ab64-c8fe82325539",
   "metadata": {},
   "outputs": [],
   "source": [
    "import random\n",
    "import queue\n",
    "import threading\n",
    "from os import cpu_count\n",
    "\n",
    "def simulate(label,n_trials,trial,rand):\n",
    "    def simulate_1(n_trials,trial,rand,q):\n",
    "        count = 0\n",
    "        for i in range(n_trials):\n",
    "            if trial(rand):\n",
    "                count += 1\n",
    "        q.put(count)\n",
    "    n_cpu = cpu_count()\n",
    "    q = queue.Queue()\n",
    "    for i in range(n_cpu):\n",
    "        threading.Thread(target=simulate_1,args=(n_trials,trial,random.Random(rand.getrandbits(64)),q)).start()\n",
    "    count = 0\n",
    "    for i in range(n_cpu):\n",
    "        count += q.get()\n",
    "    print(f\"{label}{numerical_approx(count/(n_cpu*n_trials))}\")"
   ]
  },
  {
   "cell_type": "code",
   "execution_count": 3,
   "id": "2a0b17b3-7127-4312-8357-5a4b512f56ab",
   "metadata": {},
   "outputs": [
    {
     "name": "stdout",
     "output_type": "stream",
     "text": [
      "0.749312500000000\n"
     ]
    }
   ],
   "source": [
    "def trial(r):\n",
    "    x = r.random()\n",
    "    y = r.random()\n",
    "    return round(x) + round(y) == round(x+y)\n",
    "\n",
    "rand = random.Random(int(20240823))\n",
    "simulate(\"\", 20000, trial, rand)"
   ]
  },
  {
   "cell_type": "markdown",
   "id": "cb896863-c1d5-4a38-906f-645f8b89c9b7",
   "metadata": {},
   "source": [
    "Looks like good agreement.\n",
    "\n",
    "My attempt at using multiple threads didn't result in any speedup\n",
    "and I couldn't figure out how to use `multiprocessing.Process`, so I'll\n",
    "probably go back to using Go for simulations in the future."
   ]
  },
  {
   "cell_type": "markdown",
   "id": "5e9375a6-b682-45d7-b63f-a355955dfba8",
   "metadata": {},
   "source": [
    "Extra credit\n",
    "------------\n",
    "When there are $N$ numbers, the sum of the rounded numbers is $n$ when there are $n$ numbers\n",
    "greater than 0.5 and $N-n$ numbers less than 0.5.\n",
    "\n",
    "The probability that there are $n$ numbers greater than 0.5 and $N-n$ numbers less than 0.5\n",
    "is $\\binom N n/2^N$.\n",
    "\n",
    "The sum of the numbers is at least $n/2$.  After subtracting 0.5 from the numbers greater\n",
    "than 0.5, there are $N$ random numbers uniformly between 0 and 0.5, and if their sum is\n",
    "between $(n-1)/2$ and $(n+1)/2$, the sum of the original numbers will round to $n$.\n",
    "\n",
    "The probability that the sum of $N$ random numbers between 0 and 0.5 is between $(n-1)/2$\n",
    "and $(n+1)/2$ is the same as the probability that the sum of $N$ random numbers between 0\n",
    "and 1 is between $n-1$ and $n+1$, and the probability distribution of that sum is the\n",
    "[Irwin-Hall distribution](https://en.wikipedia.org/wiki/Irwin–Hall_distribution).\n",
    "\n",
    "The probability that the sum is between $n$ and $n+1$ is"
   ]
  },
  {
   "cell_type": "code",
   "execution_count": 4,
   "id": "a72dbe6e-beea-4dc0-b59b-3e68c7e19fda",
   "metadata": {},
   "outputs": [
    {
     "data": {
      "text/html": [
       "<html>\\(\\displaystyle \\left( n, N \\right) \\ {\\mapsto} \\ \\frac{\\frac{{\\sum_{j=0}^{n} \\left(-1\\right)^{j} {\\left(-j + n + 1\\right)}^{N} \\binom{N}{j}}}{N} - \\frac{{\\sum_{j=0}^{n} \\left(-1\\right)^{j} {\\left(-j + n\\right)}^{N} \\binom{N}{j}}}{N}}{\\left(N - 1\\right)!}\\)</html>"
      ],
      "text/latex": [
       "$\\displaystyle \\left( n, N \\right) \\ {\\mapsto} \\ \\frac{\\frac{{\\sum_{j=0}^{n} \\left(-1\\right)^{j} {\\left(-j + n + 1\\right)}^{N} \\binom{N}{j}}}{N} - \\frac{{\\sum_{j=0}^{n} \\left(-1\\right)^{j} {\\left(-j + n\\right)}^{N} \\binom{N}{j}}}{N}}{\\left(N - 1\\right)!}$"
      ],
      "text/plain": [
       "(n, N) |--> (sum((-1)^j*(-j + n + 1)^N*binomial(N, j), j, 0, n)/N - sum((-1)^j*(-j + n)^N*binomial(N, j), j, 0, n)/N)/factorial(N - 1)"
      ]
     },
     "execution_count": 4,
     "metadata": {},
     "output_type": "execute_result"
    }
   ],
   "source": [
    "j,N,n = var('j,N,n')\n",
    "assume(N > 0)\n",
    "fx(x,n,N) = 1/factorial(N-1)*sum((-1)^j*binomial(N,j)*(x-j)^(N-1),j,0,n)\n",
    "f(n,N) = integral(fx(x,n,N),x,n,n+1)\n",
    "f"
   ]
  },
  {
   "cell_type": "markdown",
   "id": "634ae008-b7d7-4647-bda4-660feea087dc",
   "metadata": {},
   "source": [
    "Checking against the [special cases](https://en.wikipedia.org/wiki/Irwin–Hall_distribution#Special_cases),"
   ]
  },
  {
   "cell_type": "code",
   "execution_count": 5,
   "id": "686616df-b234-4609-bbc6-1aeecf393531",
   "metadata": {},
   "outputs": [
    {
     "data": {
      "text/html": [
       "<html>\\(\\displaystyle \\left[0, 1, 0\\right]\\)</html>"
      ],
      "text/latex": [
       "$\\displaystyle \\left[0, 1, 0\\right]$"
      ],
      "text/plain": [
       "[0, 1, 0]"
      ]
     },
     "metadata": {},
     "output_type": "display_data"
    },
    {
     "data": {
      "text/html": [
       "<html>\\(\\displaystyle \\left[0, x, -x + 2, 0\\right]\\)</html>"
      ],
      "text/latex": [
       "$\\displaystyle \\left[0, x, -x + 2, 0\\right]$"
      ],
      "text/plain": [
       "[0, x, -x + 2, 0]"
      ]
     },
     "metadata": {},
     "output_type": "display_data"
    },
    {
     "data": {
      "text/html": [
       "<html>\\(\\displaystyle \\left[0, x^{2}, -2 \\, x^{2} + 6 \\, x - 3, x^{2} - 6 \\, x + 9, 0\\right]\\)</html>"
      ],
      "text/latex": [
       "$\\displaystyle \\left[0, x^{2}, -2 \\, x^{2} + 6 \\, x - 3, x^{2} - 6 \\, x + 9, 0\\right]$"
      ],
      "text/plain": [
       "[0, x^2, -2*x^2 + 6*x - 3, x^2 - 6*x + 9, 0]"
      ]
     },
     "metadata": {},
     "output_type": "display_data"
    },
    {
     "data": {
      "text/html": [
       "<html>\\(\\displaystyle \\left[0, x^{3}, -3 \\, x^{3} + 12 \\, x^{2} - 12 \\, x + 4, 3 \\, x^{3} - 24 \\, x^{2} + 60 \\, x - 44, -x^{3} + 12 \\, x^{2} - 48 \\, x + 64, 0\\right]\\)</html>"
      ],
      "text/latex": [
       "$\\displaystyle \\left[0, x^{3}, -3 \\, x^{3} + 12 \\, x^{2} - 12 \\, x + 4, 3 \\, x^{3} - 24 \\, x^{2} + 60 \\, x - 44, -x^{3} + 12 \\, x^{2} - 48 \\, x + 64, 0\\right]$"
      ],
      "text/plain": [
       "[0,\n",
       " x^3,\n",
       " -3*x^3 + 12*x^2 - 12*x + 4,\n",
       " 3*x^3 - 24*x^2 + 60*x - 44,\n",
       " -x^3 + 12*x^2 - 48*x + 64,\n",
       " 0]"
      ]
     },
     "metadata": {},
     "output_type": "display_data"
    },
    {
     "data": {
      "text/html": [
       "<html>\\(\\displaystyle \\left[0, x^{4}, -4 \\, x^{4} + 20 \\, x^{3} - 30 \\, x^{2} + 20 \\, x - 5, 6 \\, x^{4} - 60 \\, x^{3} + 210 \\, x^{2} - 300 \\, x + 155, -4 \\, x^{4} + 60 \\, x^{3} - 330 \\, x^{2} + 780 \\, x - 655, x^{4} - 20 \\, x^{3} + 150 \\, x^{2} - 500 \\, x + 625, 0\\right]\\)</html>"
      ],
      "text/latex": [
       "$\\displaystyle \\left[0, x^{4}, -4 \\, x^{4} + 20 \\, x^{3} - 30 \\, x^{2} + 20 \\, x - 5, 6 \\, x^{4} - 60 \\, x^{3} + 210 \\, x^{2} - 300 \\, x + 155, -4 \\, x^{4} + 60 \\, x^{3} - 330 \\, x^{2} + 780 \\, x - 655, x^{4} - 20 \\, x^{3} + 150 \\, x^{2} - 500 \\, x + 625, 0\\right]$"
      ],
      "text/plain": [
       "[0,\n",
       " x^4,\n",
       " -4*x^4 + 20*x^3 - 30*x^2 + 20*x - 5,\n",
       " 6*x^4 - 60*x^3 + 210*x^2 - 300*x + 155,\n",
       " -4*x^4 + 60*x^3 - 330*x^2 + 780*x - 655,\n",
       " x^4 - 20*x^3 + 150*x^2 - 500*x + 625,\n",
       " 0]"
      ]
     },
     "metadata": {},
     "output_type": "display_data"
    }
   ],
   "source": [
    "for i in [1..5]:\n",
    "    show([(fx(x,j,i)*factorial(i-1)).simplify_full() for j in [-1..i]])"
   ]
  },
  {
   "cell_type": "markdown",
   "id": "3dceafc2-54ce-4e02-af3b-5c3f21cdf614",
   "metadata": {},
   "source": [
    "So the probability that the sum of the rounded numbers and the rounded sum are both $n$ is"
   ]
  },
  {
   "cell_type": "code",
   "execution_count": 6,
   "id": "21f69c95-3449-461e-8a0b-8b7af6e7484a",
   "metadata": {},
   "outputs": [
    {
     "data": {
      "text/html": [
       "<html>\\(\\displaystyle \\left( n, N \\right) \\ {\\mapsto} \\ \\frac{{\\left(\\frac{\\frac{{\\sum_{j=0}^{n} \\left(-1\\right)^{j} {\\left(-j + n + 1\\right)}^{N} \\binom{N}{j}}}{N} - \\frac{{\\sum_{j=0}^{n} \\left(-1\\right)^{j} {\\left(-j + n\\right)}^{N} \\binom{N}{j}}}{N}}{\\left(N - 1\\right)!} + \\frac{\\frac{{\\sum_{j=0}^{n - 1} \\left(-1\\right)^{j} {\\left(-j + n\\right)}^{N} \\binom{N}{j}}}{N} - \\frac{{\\sum_{j=0}^{n - 1} \\left(-1\\right)^{j} {\\left(-j + n - 1\\right)}^{N} \\binom{N}{j}}}{N}}{\\left(N - 1\\right)!}\\right)} \\binom{N}{n}}{2^{N}}\\)</html>"
      ],
      "text/latex": [
       "$\\displaystyle \\left( n, N \\right) \\ {\\mapsto} \\ \\frac{{\\left(\\frac{\\frac{{\\sum_{j=0}^{n} \\left(-1\\right)^{j} {\\left(-j + n + 1\\right)}^{N} \\binom{N}{j}}}{N} - \\frac{{\\sum_{j=0}^{n} \\left(-1\\right)^{j} {\\left(-j + n\\right)}^{N} \\binom{N}{j}}}{N}}{\\left(N - 1\\right)!} + \\frac{\\frac{{\\sum_{j=0}^{n - 1} \\left(-1\\right)^{j} {\\left(-j + n\\right)}^{N} \\binom{N}{j}}}{N} - \\frac{{\\sum_{j=0}^{n - 1} \\left(-1\\right)^{j} {\\left(-j + n - 1\\right)}^{N} \\binom{N}{j}}}{N}}{\\left(N - 1\\right)!}\\right)} \\binom{N}{n}}{2^{N}}$"
      ],
      "text/plain": [
       "(n, N) |--> ((sum((-1)^j*(-j + n + 1)^N*binomial(N, j), j, 0, n)/N - sum((-1)^j*(-j + n)^N*binomial(N, j), j, 0, n)/N)/factorial(N - 1) + (sum((-1)^j*(-j + n)^N*binomial(N, j), j, 0, n - 1)/N - sum((-1)^j*(-j + n - 1)^N*binomial(N, j), j, 0, n - 1)/N)/factorial(N - 1))*binomial(N, n)/2^N"
      ]
     },
     "execution_count": 6,
     "metadata": {},
     "output_type": "execute_result"
    }
   ],
   "source": [
    "p(n,N) = binomial(N,n)/2^N*(f(n-1,N)+f(n,N))\n",
    "p"
   ]
  },
  {
   "cell_type": "markdown",
   "id": "f568bf85-693a-454e-9a59-d635647e598e",
   "metadata": {},
   "source": [
    "Adding them up,"
   ]
  },
  {
   "cell_type": "code",
   "execution_count": 7,
   "id": "68f9607d-4408-490e-badb-7e1a89a2e9fa",
   "metadata": {},
   "outputs": [
    {
     "data": {
      "text/html": [
       "<html>\\(\\displaystyle N \\ {\\mapsto}\\ \\frac{{\\sum_{n=0}^{N} \\binom{N}{n} {\\sum_{j=0}^{n} \\left(-1\\right)^{j} {\\left(-j + n + 1\\right)}^{N} \\binom{N}{j}} + \\binom{N}{n} {\\sum_{j=0}^{n - 1} \\left(-1\\right)^{j} {\\left(-j + n\\right)}^{N} \\binom{N}{j}} - \\binom{N}{n} {\\sum_{j=0}^{n} \\left(-1\\right)^{j} {\\left(-j + n\\right)}^{N} \\binom{N}{j}} - \\binom{N}{n} {\\sum_{j=0}^{n - 1} \\left(-1\\right)^{j} {\\left(-j + n - 1\\right)}^{N} \\binom{N}{j}}}}{2^{N} N \\left(N - 1\\right)!}\\)</html>"
      ],
      "text/latex": [
       "$\\displaystyle N \\ {\\mapsto}\\ \\frac{{\\sum_{n=0}^{N} \\binom{N}{n} {\\sum_{j=0}^{n} \\left(-1\\right)^{j} {\\left(-j + n + 1\\right)}^{N} \\binom{N}{j}} + \\binom{N}{n} {\\sum_{j=0}^{n - 1} \\left(-1\\right)^{j} {\\left(-j + n\\right)}^{N} \\binom{N}{j}} - \\binom{N}{n} {\\sum_{j=0}^{n} \\left(-1\\right)^{j} {\\left(-j + n\\right)}^{N} \\binom{N}{j}} - \\binom{N}{n} {\\sum_{j=0}^{n - 1} \\left(-1\\right)^{j} {\\left(-j + n - 1\\right)}^{N} \\binom{N}{j}}}}{2^{N} N \\left(N - 1\\right)!}$"
      ],
      "text/plain": [
       "N |--> sum(binomial(N, n)*sum((-1)^j*(-j + n + 1)^N*binomial(N, j), j, 0, n) + binomial(N, n)*sum((-1)^j*(-j + n)^N*binomial(N, j), j, 0, n - 1) - binomial(N, n)*sum((-1)^j*(-j + n)^N*binomial(N, j), j, 0, n) - binomial(N, n)*sum((-1)^j*(-j + n - 1)^N*binomial(N, j), j, 0, n - 1), n, 0, N)/(2^N*N*factorial(N - 1))"
      ]
     },
     "execution_count": 7,
     "metadata": {},
     "output_type": "execute_result"
    }
   ],
   "source": [
    "P(N) = sum(p(n,N),n,0,N)\n",
    "P"
   ]
  },
  {
   "cell_type": "code",
   "execution_count": 8,
   "id": "29523151-e8e2-4736-88be-c8c4d303263c",
   "metadata": {},
   "outputs": [
    {
     "data": {
      "text/plain": [
       "N |--> sum(binomial(N, n)*sum((-1)^j*(-j + n + 1)^N*binomial(N, j), j, 0, n) + binomial(N, n)*sum((-1)^j*(-j + n)^N*binomial(N, j), j, 0, n - 1) - binomial(N, n)*sum((-1)^j*(-j + n)^N*binomial(N, j), j, 0, n) - binomial(N, n)*sum((-1)^j*(-j + n - 1)^N*binomial(N, j), j, 0, n - 1), n, 0, N)/(2^N*N*factorial(N - 1))"
      ]
     },
     "execution_count": 8,
     "metadata": {},
     "output_type": "execute_result"
    }
   ],
   "source": [
    "%display plain\n",
    "P"
   ]
  },
  {
   "cell_type": "markdown",
   "id": "76e44f5a-de86-456a-8ad8-933bb3cfd2ab",
   "metadata": {},
   "source": [
    "Manually cleaning up the expression,\n",
    "\n",
    "$$ P(N) = \\frac{1}{2^NN!} \\sum_{n=0}^{N} \\binom N n\\left(\n",
    "(-1)^n\\binom N n + \\sum_{j=0}^{n-1}(-1)^j\\binom N j\\left((n-j+1)^N - (n-j-1)^N\\right)\n",
    "\\right) $$"
   ]
  },
  {
   "cell_type": "code",
   "execution_count": 9,
   "id": "ddf6e696-fde6-4c4a-a2e9-236564269815",
   "metadata": {},
   "outputs": [
    {
     "data": {
      "text/plain": [
       "N |--> sum((-1)^n*binomial(N, n)^2 + sum((-1)^j*(-j + n + 1)^N*binomial(N, j)*binomial(N, n) - (-1)^j*(-j + n - 1)^N*binomial(N, j)*binomial(N, n), j, 0, n - 1), n, 0, N)/(2^N*factorial(N))"
      ]
     },
     "execution_count": 9,
     "metadata": {},
     "output_type": "execute_result"
    }
   ],
   "source": [
    "PP(N) = 1/(2^N*factorial(N))*sum(binomial(N,n)\n",
    "                                 *((-1)^n*binomial(N,n)\n",
    "                                   + sum((-1)^j*binomial(N,j)*((n-j+1)^N-(n-j-1)^N),\n",
    "                                         j,0,n-1)),\n",
    "                                 n,0,N)\n",
    "PP"
   ]
  },
  {
   "cell_type": "code",
   "execution_count": 10,
   "id": "3765c941-b58a-4f9a-8eb5-fa2b4cf08c92",
   "metadata": {},
   "outputs": [
    {
     "data": {
      "text/html": [
       "<html>\\(\\displaystyle N \\ {\\mapsto}\\ \\frac{{\\sum_{n=0}^{N} \\left(-1\\right)^{n} \\binom{N}{n}^{2} + {\\sum_{j=0}^{n - 1} \\left(-1\\right)^{j} {\\left(-j + n + 1\\right)}^{N} \\binom{N}{j} \\binom{N}{n} - \\left(-1\\right)^{j} {\\left(-j + n - 1\\right)}^{N} \\binom{N}{j} \\binom{N}{n}}}}{2^{N} N!}\\)</html>"
      ],
      "text/latex": [
       "$\\displaystyle N \\ {\\mapsto}\\ \\frac{{\\sum_{n=0}^{N} \\left(-1\\right)^{n} \\binom{N}{n}^{2} + {\\sum_{j=0}^{n - 1} \\left(-1\\right)^{j} {\\left(-j + n + 1\\right)}^{N} \\binom{N}{j} \\binom{N}{n} - \\left(-1\\right)^{j} {\\left(-j + n - 1\\right)}^{N} \\binom{N}{j} \\binom{N}{n}}}}{2^{N} N!}$"
      ],
      "text/plain": [
       "N |--> sum((-1)^n*binomial(N, n)^2 + sum((-1)^j*(-j + n + 1)^N*binomial(N, j)*binomial(N, n) - (-1)^j*(-j + n - 1)^N*binomial(N, j)*binomial(N, n), j, 0, n - 1), n, 0, N)/(2^N*factorial(N))"
      ]
     },
     "execution_count": 10,
     "metadata": {},
     "output_type": "execute_result"
    }
   ],
   "source": [
    "%display latex\n",
    "PP"
   ]
  },
  {
   "cell_type": "markdown",
   "id": "643c67d0-a4e8-4465-8ee5-f1b1117d4518",
   "metadata": {},
   "source": [
    "Looking at a few cases,"
   ]
  },
  {
   "cell_type": "code",
   "execution_count": 11,
   "id": "7847ff0b-cc44-4eae-9d9a-0a3074c072f1",
   "metadata": {},
   "outputs": [
    {
     "data": {
      "text/html": [
       "<html>\\(\\displaystyle \\left[\\left(2, \\frac{3}{4}, \\frac{3}{4}\\right), \\left(3, \\frac{2}{3}, \\frac{2}{3}\\right), \\left(4, \\frac{115}{192}, \\frac{115}{192}\\right), \\left(5, \\frac{11}{20}, \\frac{11}{20}\\right), \\left(10, \\frac{381773117}{928972800}, \\frac{381773117}{928972800}\\right), \\left(25, \\frac{11482547005345338463969}{42613214404755456000000}, \\frac{11482547005345338463969}{42613214404755456000000}\\right)\\right]\\)</html>"
      ],
      "text/latex": [
       "$\\displaystyle \\left[\\left(2, \\frac{3}{4}, \\frac{3}{4}\\right), \\left(3, \\frac{2}{3}, \\frac{2}{3}\\right), \\left(4, \\frac{115}{192}, \\frac{115}{192}\\right), \\left(5, \\frac{11}{20}, \\frac{11}{20}\\right), \\left(10, \\frac{381773117}{928972800}, \\frac{381773117}{928972800}\\right), \\left(25, \\frac{11482547005345338463969}{42613214404755456000000}, \\frac{11482547005345338463969}{42613214404755456000000}\\right)\\right]$"
      ],
      "text/plain": [
       "[(2, 3/4, 3/4),\n",
       " (3, 2/3, 2/3),\n",
       " (4, 115/192, 115/192),\n",
       " (5, 11/20, 11/20),\n",
       " (10, 381773117/928972800, 381773117/928972800),\n",
       " (25,\n",
       "  11482547005345338463969/42613214404755456000000,\n",
       "  11482547005345338463969/42613214404755456000000)]"
      ]
     },
     "execution_count": 11,
     "metadata": {},
     "output_type": "execute_result"
    }
   ],
   "source": [
    "[(i,P(i).simplify(),PP(i).simplify()) for i in [2,3,4,5,10,25]]"
   ]
  },
  {
   "cell_type": "markdown",
   "id": "ef0fffaf-0b8f-4068-a3cd-f16831de2921",
   "metadata": {},
   "source": [
    "### Simulation"
   ]
  },
  {
   "cell_type": "code",
   "execution_count": 12,
   "id": "b4713529-b956-4b0a-88b2-e3a02c70bb30",
   "metadata": {},
   "outputs": [
    {
     "name": "stdout",
     "output_type": "stream",
     "text": [
      "N=2 0.750000000000000 0.751125000000000\n",
      "N=3 0.666666666666667 0.665368750000000\n",
      "N=4 0.598958333333333 0.597212500000000\n",
      "N=5 0.550000000000000 0.549937500000000\n",
      "N=10 0.410962642824419 0.411100000000000\n",
      "N=25 0.269459771240912 0.269487500000000\n",
      "N=50 0.192945416749619 0.193375000000000\n",
      "N=100 0.137307430304548 0.137025000000000\n",
      "N=200 0.0974043414363066 0.0975437500000000\n"
     ]
    }
   ],
   "source": [
    "def ec_trial(n):\n",
    "    def trial_n(rand):\n",
    "        sumr = 0\n",
    "        sum = 0\n",
    "        nonlocal n\n",
    "        for i in range(n):\n",
    "            x = rand.random()\n",
    "            sumr += round(x)\n",
    "            sum += x\n",
    "        return sumr == round(sum)\n",
    "    return trial_n\n",
    "\n",
    "for n in [2,3,4,5,10,25,50,100,200]:\n",
    "    simulate(f\"N={n} {numerical_approx(PP(n).simplify())} \", 20000, ec_trial(n), rand)"
   ]
  },
  {
   "cell_type": "markdown",
   "id": "3934b32c-9d1e-47f2-b33b-cfba0ee24ac1",
   "metadata": {},
   "source": [
    "Looks like pretty good agreement."
   ]
  },
  {
   "cell_type": "markdown",
   "id": "b8281e53-50c3-427b-a6e5-d18fe0e5bb14",
   "metadata": {},
   "source": [
    "### Bar chart\n",
    "As $N$ increases, the probabilities drop off more slowly than I would have expected."
   ]
  },
  {
   "cell_type": "code",
   "execution_count": 13,
   "id": "72cbad2d-f522-43d4-b779-8423868af59b",
   "metadata": {},
   "outputs": [
    {
     "data": {
      "image/png": "[encoded data removed]",
      "text/plain": [
       "Graphics object consisting of 1 graphics primitive"
      ]
     },
     "execution_count": 13,
     "metadata": {},
     "output_type": "execute_result"
    }
   ],
   "source": [
    "bar_chart([0]+[numerical_approx(PP(i).simplify()) for i in [1..50]])"
   ]
  },
  {
   "cell_type": "markdown",
   "id": "cf742cd7-04b0-44da-a05d-9a6bc2d69e18",
   "metadata": {},
   "source": [
    "Making the rounds\n",
    "-----------------"
   ]
  },
  {
   "cell_type": "code",
   "execution_count": 14,
   "id": "ee3cfb00-676c-49d3-acbd-9d2502b42988",
   "metadata": {},
   "outputs": [
    {
     "data": {
      "text/html": [
       "<html>\\(\\displaystyle \\left( n, x \\right) \\ {\\mapsto} \\ {\\sum_{j=0}^{n} \\frac{2 \\, j + 1}{x^{2 \\, j + 1} + 1}}\\)</html>"
      ],
      "text/latex": [
       "$\\displaystyle \\left( n, x \\right) \\ {\\mapsto} \\ {\\sum_{j=0}^{n} \\frac{2 \\, j + 1}{x^{2 \\, j + 1} + 1}}$"
      ],
      "text/plain": [
       "(n, x) |--> sum((2*j + 1)/(x^(2*j + 1) + 1), j, 0, n)"
      ]
     },
     "execution_count": 14,
     "metadata": {},
     "output_type": "execute_result"
    }
   ],
   "source": [
    "s(n,x) = sum((2*j+1)/(1+x^(2*j+1)),j,0,n)\n",
    "s"
   ]
  },
  {
   "cell_type": "code",
   "execution_count": 15,
   "id": "754fac2a-4c4d-4d9f-af2b-6f062ad97dd0",
   "metadata": {},
   "outputs": [
    {
     "data": {
      "text/html": [
       "<html>\\(\\displaystyle \\left[\\left(5, 0.0416666666666667\\right), \\left(10, 0.0416666666666667\\right), \\left(50, 0.0416666666666667\\right), \\left(100, 0.0416666666666667\\right), \\left(500, 0.0416666666666667\\right)\\right]\\)</html>"
      ],
      "text/latex": [
       "$\\displaystyle \\left[\\left(5, 0.0416666666666667\\right), \\left(10, 0.0416666666666667\\right), \\left(50, 0.0416666666666667\\right), \\left(100, 0.0416666666666667\\right), \\left(500, 0.0416666666666667\\right)\\right]$"
      ],
      "text/plain": [
       "[(5, 0.0416666666666667),\n",
       " (10, 0.0416666666666667),\n",
       " (50, 0.0416666666666667),\n",
       " (100, 0.0416666666666667),\n",
       " (500, 0.0416666666666667)]"
      ]
     },
     "execution_count": 15,
     "metadata": {},
     "output_type": "execute_result"
    }
   ],
   "source": [
    "[(n,numerical_approx(s(n,e^pi).simplify())) for n in [5,10,50,100,500]]"
   ]
  },
  {
   "cell_type": "code",
   "execution_count": 16,
   "id": "9c27a5d0-3454-494d-8364-684037ae0df6",
   "metadata": {},
   "outputs": [
    {
     "data": {
      "text/html": [
       "<html>\\(\\displaystyle \\frac{1}{24}\\)</html>"
      ],
      "text/latex": [
       "$\\displaystyle \\frac{1}{24}$"
      ],
      "text/plain": [
       "1/24"
      ]
     },
     "execution_count": 16,
     "metadata": {},
     "output_type": "execute_result"
    }
   ],
   "source": [
    "(41+2/3)/1000"
   ]
  },
  {
   "cell_type": "code",
   "execution_count": 17,
   "id": "59d6b988-dc89-4ada-b31c-9a427a8b6865",
   "metadata": {},
   "outputs": [
    {
     "data": {
      "text/html": [
       "<html>\\(\\displaystyle \\left[\\left(50, 1.38777878078145 \\times 10^{-17}\\right), \\left(100, 1.38777878078145 \\times 10^{-17}\\right), \\left(500, 1.38777878078145 \\times 10^{-17}\\right)\\right]\\)</html>"
      ],
      "text/latex": [
       "$\\displaystyle \\left[\\left(50, 1.38777878078145 \\times 10^{-17}\\right), \\left(100, 1.38777878078145 \\times 10^{-17}\\right), \\left(500, 1.38777878078145 \\times 10^{-17}\\right)\\right]$"
      ],
      "text/plain": [
       "[(50, 1.38777878078145e-17),\n",
       " (100, 1.38777878078145e-17),\n",
       " (500, 1.38777878078145e-17)]"
      ]
     },
     "execution_count": 17,
     "metadata": {},
     "output_type": "execute_result"
    }
   ],
   "source": [
    "[(n,numerical_approx((s(n,e^pi)-1/24).simplify())) for n in [50,100,500]]"
   ]
  },
  {
   "cell_type": "markdown",
   "id": "5da0f997-1f71-42a0-97f2-e595f6512699",
   "metadata": {},
   "source": [
    "It seems like it approaches a rational number, but how to prove it?\n",
    "\n",
    "Turn $e^{(2k+1)\\pi}$ into an infinite power series?\n",
    "\n",
    "Combine pairs of terms?\n",
    "\n",
    "Evaluating infinite subseries?"
   ]
  },
  {
   "cell_type": "code",
   "execution_count": 18,
   "id": "d70a6e55-5f25-4a49-9466-0f013b3fd9d3",
   "metadata": {},
   "outputs": [
    {
     "data": {
      "text/html": [
       "<html>\\(\\displaystyle \\left( n, j, x \\right) \\ {\\mapsto} \\ -\\frac{1}{x^{2 \\, j + 1} + 1} + 2 \\, {\\sum_{k=j}^{n} \\frac{1}{x^{2 \\, k + 1} + 1}}\\)</html>"
      ],
      "text/latex": [
       "$\\displaystyle \\left( n, j, x \\right) \\ {\\mapsto} \\ -\\frac{1}{x^{2 \\, j + 1} + 1} + 2 \\, {\\sum_{k=j}^{n} \\frac{1}{x^{2 \\, k + 1} + 1}}$"
      ],
      "text/plain": [
       "(n, j, x) |--> -1/(x^(2*j + 1) + 1) + 2*sum(1/(x^(2*k + 1) + 1), k, j, n)"
      ]
     },
     "execution_count": 18,
     "metadata": {},
     "output_type": "execute_result"
    }
   ],
   "source": [
    "k = var('k')\n",
    "s2(n,j,x) = sum(2/(x^(2*k+1)+1),k,j,n) - 1/(x^(2*j+1)+1)\n",
    "s2"
   ]
  },
  {
   "cell_type": "code",
   "execution_count": 19,
   "id": "a74b7bbf-0425-4f57-86c4-8de27abefe94",
   "metadata": {},
   "outputs": [
    {
     "data": {
      "text/html": [
       "<html>\\(\\displaystyle \\left( n, x \\right) \\ {\\mapsto} \\ {\\sum_{j=0}^{n} \\frac{2 \\, {\\left(x^{2 \\, j + 1} + 1\\right)} {\\sum_{k=j}^{n} \\frac{1}{x^{2 \\, k + 1} + 1}} - 1}{x^{2 \\, j + 1} + 1}}\\)</html>"
      ],
      "text/latex": [
       "$\\displaystyle \\left( n, x \\right) \\ {\\mapsto} \\ {\\sum_{j=0}^{n} \\frac{2 \\, {\\left(x^{2 \\, j + 1} + 1\\right)} {\\sum_{k=j}^{n} \\frac{1}{x^{2 \\, k + 1} + 1}} - 1}{x^{2 \\, j + 1} + 1}}$"
      ],
      "text/plain": [
       "(n, x) |--> sum((2*(x^(2*j + 1) + 1)*sum(1/(x^(2*k + 1) + 1), k, j, n) - 1)/(x^(2*j + 1) + 1), j, 0, n)"
      ]
     },
     "execution_count": 19,
     "metadata": {},
     "output_type": "execute_result"
    }
   ],
   "source": [
    "s3(n,x) = sum(s2(n,j,x),j,0,n)\n",
    "s3"
   ]
  },
  {
   "cell_type": "code",
   "execution_count": 20,
   "id": "ad44e251-1c3e-4bda-a311-ef4eb0d5ee5f",
   "metadata": {},
   "outputs": [
    {
     "data": {
      "text/html": [
       "<html>\\(\\displaystyle 0\\)</html>"
      ],
      "text/latex": [
       "$\\displaystyle 0$"
      ],
      "text/plain": [
       "0"
      ]
     },
     "execution_count": 20,
     "metadata": {},
     "output_type": "execute_result"
    }
   ],
   "source": [
    "(s3(5,x) - s(5,x)).simplify_full()"
   ]
  }
 ],
 "metadata": {
  "kernelspec": {
   "display_name": "SageMath 10.3",
   "language": "sage",
   "name": "sagemath-10.3"
  },
  "language_info": {
   "codemirror_mode": {
    "name": "ipython",
    "version": 3
   },
   "file_extension": ".py",
   "mimetype": "text/x-python",
   "name": "python",
   "nbconvert_exporter": "python",
   "pygments_lexer": "ipython3",
   "version": "3.11.8"
  }
 },
 "nbformat": 4,
 "nbformat_minor": 5
}
