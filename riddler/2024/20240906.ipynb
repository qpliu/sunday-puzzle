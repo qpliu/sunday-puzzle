{
 "cells": [
  {
   "cell_type": "markdown",
   "id": "5ef32853-8913-4788-a65a-1c4d0cbcfccb",
   "metadata": {},
   "source": [
    "[2024-09-06 Fiddler](https://thefiddler.substack.com/p/can-you-turn-a-right-triangle-into)\n",
    "===================="
   ]
  },
  {
   "cell_type": "markdown",
   "id": "f957270f-a65d-459c-84a3-dac196df4255",
   "metadata": {},
   "source": [
    "Appending on the 3 side, appending a 3-4-5 makes a 5-5-8 by extending the 4 side.\n",
    "Appending a 3-4-7/5 makes a 4-4-32/5 by extending the 5 side.\n",
    "Appending a 3-1-√10 makes a 5-5-√10 by extending the 4 side.\n",
    "\n",
    "Appending on the 4 side, appending a 3-4-5 makes a 5-5-6 by extending the 3 side.\n",
    "Appending a 4-7/6-25/6 makes a 25/6-25/6-5 by extending the 3 side.\n",
    "Appending a 4-1-√17 makes a 5-5-√17 by extending the 3 side.\n",
    "\n",
    "Appending on the 5 side, appending a 1-5-4√2 makes a 4-4-4√2 by extending the 3 side.\n",
    "\n",
    "So there are 7 ways."
   ]
  },
  {
   "cell_type": "code",
   "execution_count": 1,
   "id": "98e81f52-ddb9-49fe-8c0c-662779eec2d7",
   "metadata": {},
   "outputs": [
    {
     "data": {
      "image/png": "[encoded data removed]",
      "text/plain": [
       "Graphics object consisting of 11 graphics primitives"
      ]
     },
     "execution_count": 1,
     "metadata": {},
     "output_type": "execute_result"
    }
   ],
   "source": [
    "polygon([(0,0),(-4,0),(0,3)],axes=false) \\\n",
    "+ text('3',(0.3,1.4),fontsize=30) \\\n",
    "+ text('4',(-1.7,-0.4),fontsize=30) \\\n",
    "+ text('5',(-2,1.9),fontsize=30) \\\n",
    "+ polygon([(0,0),(0,3),(1,0)],alpha=0.1) \\\n",
    "+ polygon([(0,0),(0,3),(4,0)],alpha=0.1) \\\n",
    "+ polygon([(0,0),(0,3),(28/25,96/25)],alpha=0.1) \\\n",
    "+ polygon([(-4,0),(0,4),(0,3)],alpha=0.1) \\\n",
    "+ polygon([(0,0),(-4,0),(0,-7/6)],alpha=0.1) \\\n",
    "+ polygon([(0,0),(-4,0),(0,-2)],alpha=0.1) \\\n",
    "+ polygon([(0,0),(-4,0),(0,-3)],alpha=0.1)"
   ]
  },
  {
   "cell_type": "markdown",
   "id": "a41f4c77-1c7c-48c7-9527-15b141019983",
   "metadata": {},
   "source": [
    "Extra credit\n",
    "------------"
   ]
  },
  {
   "cell_type": "markdown",
   "id": "43b926d7-21a0-4e0d-bbe8-7a39864ad9a2",
   "metadata": {},
   "source": [
    "Let $a \\le b$.\n",
    "\n",
    "Consider appending along side $a$, extending side $b$ by $x$.  The triangle will have sides\n",
    "$\\sqrt{a^2+x^2}$, $b+x$, $c$.  Two of the sides are equal when $x = (a^2-b^2)/2b \\le 0$,\n",
    "$x = \\sqrt{c^2-a^2}$, $x = c-b$.  The first means the appended triangle has zero or negative\n",
    "area, so there are two ways to make isosceles triangles, unless $\\sqrt{c^2-a^2} = c-b$,\n",
    "which is $b = c/2$, $a = c\\sqrt3/2 > b$, which cannot happen.\n",
    "\n",
    "Consider appending along side $a$, extending side $c$ by a factor of $x$.  The triangle will\n",
    "have sides $cx$, $b$, $\\sqrt{a^2x^2 + b^2(x-1)^2}$.  Two of the sides are equal when\n",
    "$x = b/c < 1$, $x = 1/2 < 1$, $x = 2b^2/(a^2+b^2)$, $x = 0 < 1$, so there is one way unless\n",
    "$a = b$, in which case there are no ways.\n",
    "\n",
    "Consider appending along side $b$, extending side $a$ by $x$.  The triangle will have sides\n",
    "$c$, $a+x$, $\\sqrt{b^2+x^2}$.  Two of the sides are equal when $x = c-a$, $x = \\sqrt{c^2-b^2}$,\n",
    "$x = (b^2-a^2)/2a$, so there are three ways to make isosceles triangles, unless\n",
    "$c-a = \\sqrt{c^2-b^2}$, which is $a = c/2$, $b = c\\sqrt3/2$, in which case there are two ways,\n",
    "or when $a = b$, in which case there are two ways.\n",
    "\n",
    "Consider appending along side $b$, extending side $c$.  This turns the right vertex into an\n",
    "obtuse vertex, and one its sides has length $a$.  The length of the new side must be greater\n",
    "than $b > a$, so there is no way to make an isosceles triangle.\n",
    "\n",
    "Consider appending along side $c$, extending side $a$ by $x$.  The triangle will have sides\n",
    "$a+x$, $b$, $\\sqrt{(a+x)^2+b^2}$.  It's a right triangle, so the only isosceles triangle is\n",
    "when $x = b-a$, so there is one way unless $a = b$, in which case there are no ways.\n",
    "\n",
    "Consider appending along side $c$, extending side $b$.  This creates a right triangle, which\n",
    "can be isosceles only by shrinking side $b$ to $a$, so there is no way to make an isosceles\n",
    "triangle.\n",
    "\n",
    "When $a = b$, or a 45°-45°-90° triangle, there are $2+0+2+0+0+0 = 4$ ways.\n",
    "\n",
    "When $a = c/2$, $b = c\\sqrt3/2$, or a 30°-60°-90° triangle, there are $2+1+2+0+1+0 = 6$ ways.\n",
    "\n",
    "Otherwise, there are $2+1+3+0+1+0 = 7$ ways.\n",
    "\n",
    "The possible values for $N$ are 4, 6, and 7."
   ]
  },
  {
   "cell_type": "markdown",
   "id": "d0ff362e-238a-4195-810f-7636cee5f287",
   "metadata": {},
   "source": [
    "Making the rounds\n",
    "-----------------\n",
    "The probability that the coin was rigged is $1/10000$.  The probability that the coin was fair is\n",
    "$9999/10000\\cdot1/2^{10}$, which is about ten times more likely."
   ]
  }
 ],
 "metadata": {
  "kernelspec": {
   "display_name": "SageMath 10.3",
   "language": "sage",
   "name": "sagemath-10.3"
  },
  "language_info": {
   "codemirror_mode": {
    "name": "ipython",
    "version": 3
   },
   "file_extension": ".py",
   "mimetype": "text/x-python",
   "name": "python",
   "nbconvert_exporter": "python",
   "pygments_lexer": "ipython3",
   "version": "3.11.8"
  }
 },
 "nbformat": 4,
 "nbformat_minor": 5
}
