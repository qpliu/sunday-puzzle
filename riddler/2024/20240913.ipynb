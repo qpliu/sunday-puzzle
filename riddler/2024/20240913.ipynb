{
 "cells": [
  {
   "cell_type": "markdown",
   "id": "6ebb1ce8-d38a-4524-9a3b-24301f1b5280",
   "metadata": {},
   "source": [
    "[2024-09-13 Fiddler](https://thefiddler.substack.com/p/can-you-shut-the-box)\n",
    "===================="
   ]
  },
  {
   "cell_type": "markdown",
   "id": "75f39a73-d8f7-4a5b-b02d-56cb5901124d",
   "metadata": {},
   "source": [
    "When there is one unflipped tile, the probability of winning is $1/6$.\n",
    "\n",
    "When there are two unflipped tiles, if the tiles 1 and 2, the probability of winning is\n",
    "$1/6+2/6\\cdot1/6 = 2/9$, the probability of rolling 3 plus the probability of rolling 1 then 2\n",
    "plus the probability of rolling 2 then 1.\n",
    "\n",
    "If the unflipped tiles are 1 and 3, 1 and 4, 1 and 5, 2 and 3, 2 and 4, the probability of winning\n",
    "is similarly $2/9$.\n",
    "\n",
    "If the unflipped tiles are 2 and 5, 2 and 6, 3 and 4, 3 and 5, 3 and 6, 4 and 5, 4 and 6, 5 and 6,\n",
    "the probability of winning is $1/18$.\n",
    "\n",
    "If the unflipped tiles are 123, the probability of winning is $3/6\\cdot2/9+2/6\\cdot1/6+1/6 = 1/3$,\n",
    "because when rolling a 3, it's better to flip the 3 than the 1 and 2.\n",
    "\n",
    "And so on..."
   ]
  },
  {
   "cell_type": "code",
   "execution_count": 1,
   "id": "a8b6c0af-2b7d-4123-928a-b563ad40a119",
   "metadata": {},
   "outputs": [
    {
     "data": {
      "text/plain": [
       "(145/1944, 0.0745884773662551)"
      ]
     },
     "execution_count": 1,
     "metadata": {},
     "output_type": "execute_result"
    }
   ],
   "source": [
    "p_1 = 1/6\n",
    "p_2 = 1/6\n",
    "p_3 = 1/6\n",
    "p_4 = 1/6\n",
    "p_5 = 1/6\n",
    "p_6 = 1/6\n",
    "\n",
    "p_12 = 1/6*p_2 + 1/6*p_1 + 1/6\n",
    "p_13 = 1/6*p_3 + 1/6*p_1 + 1/6\n",
    "p_14 = 1/6*p_4 + 1/6*p_1 + 1/6\n",
    "p_15 = 1/6*p_5 + 1/6*p_1 + 1/6\n",
    "p_16 = 1/6*p_6 + 1/6*p_1\n",
    "p_23 = 1/6*p_3 + 1/6*p_2 + 1/6\n",
    "p_24 = 1/6*p_4 + 1/6*p_2 + 1/6\n",
    "p_25 = 1/6*p_5 + 1/6*p_2\n",
    "p_26 = 1/6*p_6 + 1/6*p_2\n",
    "p_34 = 1/6*p_4 + 1/6*p_3\n",
    "p_35 = 1/6*p_5 + 1/6*p_3\n",
    "p_36 = 1/6*p_6 + 1/6*p_3\n",
    "p_45 = 1/6*p_5 + 1/6*p_5\n",
    "p_46 = 1/6*p_6 + 1/6*p_4\n",
    "p_56 = 1/6*p_6 + 1/6*p_5\n",
    "\n",
    "p_123 = 1/6*p_23 + 1/6*p_13 + 1/6*max(p_3,p_12) + 1/6*p_2 + 1/6*p_1 + 1/6\n",
    "p_124 = 1/6*p_24 + 1/6*p_14 + 1/6*p_4 + 1/6*p_12 + 1/6*p_2 + 1/6*p_1\n",
    "p_125 = 1/6*p_25 + 1/6*p_15 + 1/6*p_5 + 1/6*p_12 + 1/6*p_2\n",
    "p_126 = 1/6*p_26 + 1/6*p_16 + 1/6*p_6 + 1/6*p_12\n",
    "p_134 = 1/6*p_34 + 1/6*p_14 + 1/6*max(p_4,p_13) + 1/6*p_3\n",
    "p_135 = 1/6*p_35 + 1/6*p_15 + 1/6*p_5 + 1/6*p_13 + 1/6*p_3\n",
    "p_136 = 1/6*p_36 + 1/6*p_16 + 1/6*p_6 + 1/6*p_13\n",
    "p_145 = 1/6*p_45 + 1/6*p_15 + 1/6*max(p_5,p_14) + 1/6*p_4\n",
    "p_146 = 1/6*p_46 + 1/6*p_16 + 1/6*p_6 + 1/6*p_14\n",
    "p_156 = 1/6*p_56 + 1/6*p_16 + 1/6*max(p_6,p_15)\n",
    "p_234 = 1/6*p_34 + 1/6*p_24 + 1/6*p_23 + 1/6*p_4 + 1/6*p_3\n",
    "p_235 = 1/6*p_35 + 1/6*p_25 + 1/6*max(p_5,p_23)\n",
    "p_236 = 1/6*p_36 + 1/6*p_26 + 1/6*p_6 + 1/6*p_23\n",
    "p_245 = 1/6*p_45 + 1/6*p_25 + 1/6*p_24 + 1/6*p_5\n",
    "p_246 = 1/6*p_46 + 1/6*p_26 + 1/6*max(p_6,p_24)\n",
    "p_256 = 1/6*p_56 + 1/6*p_26 + 1/6*p_25\n",
    "p_345 = 1/6*p_45 + 1/6*p_35 + 1/6*p_34\n",
    "p_346 = 1/6*p_46 + 1/6*p_36 + 1/6*p_34\n",
    "p_356 = 1/6*p_56 + 1/6*p_36 + 1/6*p_35\n",
    "p_456 = 1/6*p_56 + 1/6*p_46 + 1/6*p_45\n",
    "\n",
    "p_1234 = 1/6*p_234 + 1/6*p_134 + 1/6*max(p_34,p_124) + 1/6*max(p_24,p_123) + 1/6*max(p_23,p_14) + 1/6*max(p_4,p_13)\n",
    "p_1235 = 1/6*p_235 + 1/6*p_135 + 1/6*max(p_35,p_125) + 1/6*p_25 + 1/6*max(p_15,p_123) + 1/6*max(p_5,p_23)\n",
    "p_1236 = 1/6*p_236 + 1/6*p_136 + 1/6*max(p_36,p_126) + 1/6*p_26 + 1/6*p_16 + 1/6*max(p_6,p_123)\n",
    "p_1245 = 1/6*p_245 + 1/6*p_145 + 1/6*p_45 + 1/6*p_125 + 1/6*max(p_25,p_124) + 1/6*max(p_24,p_15)\n",
    "p_1246 = 1/6*p_246 + 1/6*p_146 + 1/6*p_46 + 1/6*p_126 + 1/6*p_26 + 1/6*max(p_16,p_124)\n",
    "p_1256 = 1/6*p_256 + 1/6*p_156 + 1/6*p_56 + 1/6*p_126 + 1/6*max(p_26,p_125)\n",
    "p_1345 = 1/6*p_345 + 1/6*p_145 + 1/6*max(p_45,p_135) + 1/6*max(p_35,p_134) + 1/6*p_34\n",
    "p_1346 = 1/6*p_346 + 1/6*p_146 + 1/6*max(p_46,p_136) + 1/6*p_36 + 1/6*p_134\n",
    "p_1356 = 1/6*p_356 + 1/6*p_156 + 1/6*p_56 + 1/6*p_136 + 1/6*max(p_36,p_135)\n",
    "p_1456 = 1/6*p_456 + 1/6*p_156 + 1/6*max(p_56,p_146) + 1/6*max(p_46,p_145)\n",
    "p_2345 = 1/6*p_345 + 1/6*p_245 + 1/6*p_235 + 1/6*max(p_45,p_234) + 1/6*p_35\n",
    "p_2346 = 1/6*p_346 + 1/6*p_246 + 1/6*p_236 + 1/6*p_46 + 1/6*max(p_36,p_234)\n",
    "p_2356 = 1/6*p_356 + 1/6*p_256 + 1/6*max(p_56,p_236) + 1/6*p_235\n",
    "p_2456 = 1/6*p_456 + 1/6*p_256 + 1/6*p_246 + 1/6*max(p_56,p_245)\n",
    "p_3456 = 1/6*p_456 + 1/6*p_356 + 1/6*p_346 + 1/6*p_345\n",
    "\n",
    "p_12345 = 1/6*p_2345 + 1/6*p_1345 + 1/6*max(p_345,p_1245) + 1/6*max(p_245,p_1235) + 1/6*max(p_235,p_145,p_1234) + 1/6*max(p_45,p_234,p_135)\n",
    "p_12346 = 1/6*p_2346 + 1/6*p_1346 + 1/6*max(p_346,p_1246) + 1/6*max(p_246,p_1236) + 1/6*max(p_236,p_146) + 1/6*max(p_46,p_136,p_1234)\n",
    "p_12356 = 1/6*p_2356 + 1/6*p_1356 + 1/6*max(p_356,p_1256) + 1/6*p_256 + 1/6*max(p_156,p_1236) + 1/6*max(p_56,p_236,p_1235)\n",
    "p_12456 = 1/6*p_2456 + 1/6*p_1456 + 1/6*p_456 + 1/6*p_1256 + 1/6*max(p_256,p_1246) + 1/6*max(p_246,p_156,p_1245)\n",
    "p_13456 = 1/6*p_3456 + 1/6*p_1456 + 1/6*max(p_456,p_1356) + 1/6*max(p_356,p_1346) + 1/6*max(p_346,p_1345)\n",
    "p_23456 = 1/6*p_3456 + 1/6*p_2456 + 1/6*p_2356 + 1/6*max(p_456,p_2346) + 1/6*max(p_356,p_2345)\n",
    "\n",
    "p_123456 = 1/6*p_23456 + 1/6*p_13456 + 1/6*max(p_3456,p_12456) + 1/6*max(p_2456,p_12356) + 1/6*max(p_2356,p_1456,p_12346) + 1/6*max(p_456,p_2346,p_1356,p_12345)\n",
    "(p_123456,numerical_approx(p_123456))"
   ]
  },
  {
   "cell_type": "markdown",
   "id": "3a5ba381-8a80-4842-bb1e-b65e6efb5f57",
   "metadata": {},
   "source": [
    "Extra credit\n",
    "------------"
   ]
  },
  {
   "cell_type": "markdown",
   "id": "608e69fd-967b-44e9-85a1-8593074b09eb",
   "metadata": {},
   "source": [
    "First, define the probability of rolling a given total"
   ]
  },
  {
   "cell_type": "code",
   "execution_count": 2,
   "id": "96a37da9-0b90-42aa-80c7-a57631bc1d6f",
   "metadata": {},
   "outputs": [],
   "source": [
    "roll(n) = (6-abs(n-7))/36"
   ]
  },
  {
   "cell_type": "markdown",
   "id": "8c15d21c-bae0-41cb-9501-cacaedab5f3a",
   "metadata": {},
   "source": [
    "Next, get the possible remaining tiles for a given sum"
   ]
  },
  {
   "cell_type": "code",
   "execution_count": 3,
   "id": "7429cae0-5818-434a-999a-868d970ea618",
   "metadata": {},
   "outputs": [],
   "source": [
    "def remaining_tiles(tiles, sum):\n",
    "    result = set()\n",
    "    for tile in tiles:\n",
    "        if tile == sum:\n",
    "            result |= {frozenset(tiles - {tile})}\n",
    "        elif tile < sum:\n",
    "            result |= remaining_tiles(frozenset(tiles - {tile}), sum-tile)\n",
    "    return result"
   ]
  },
  {
   "cell_type": "markdown",
   "id": "61a018af-50c1-4b77-a682-f11f7481e05b",
   "metadata": {},
   "source": [
    "Finally, get the probability of winning"
   ]
  },
  {
   "cell_type": "code",
   "execution_count": 4,
   "id": "5d26629b-f30e-4b7c-b35f-a6c3e41c9c67",
   "metadata": {},
   "outputs": [],
   "source": [
    "from functools import cache\n",
    "\n",
    "@cache\n",
    "def p6(tiles):\n",
    "    if len(tiles) == 0:\n",
    "        return 1\n",
    "    result = 0\n",
    "    for sum in [1..6]:\n",
    "        result += 1/6*max([p6(next_tiles) for next_tiles in remaining_tiles(tiles,sum)] + [0])\n",
    "    return result\n",
    "\n",
    "@cache\n",
    "def p12(tiles):\n",
    "    if len(tiles) == 0:\n",
    "        return 1\n",
    "    result = 0\n",
    "    for sum in [2..12]:\n",
    "        result += roll(sum)*max([p12(next_tiles) for next_tiles in remaining_tiles(tiles,sum)] + [0])\n",
    "    return result"
   ]
  },
  {
   "cell_type": "markdown",
   "id": "17199e9e-38bb-4ad3-a651-febb0544ad3b",
   "metadata": {},
   "source": [
    "Check the one die result"
   ]
  },
  {
   "cell_type": "code",
   "execution_count": 5,
   "id": "dc6da4a2-c74a-4c8c-ade3-16906c7ce152",
   "metadata": {},
   "outputs": [
    {
     "data": {
      "text/plain": [
       "(145/1944, 145/1944)"
      ]
     },
     "execution_count": 5,
     "metadata": {},
     "output_type": "execute_result"
    }
   ],
   "source": [
    "p6(frozenset([1..6])), p_123456"
   ]
  },
  {
   "cell_type": "code",
   "execution_count": 6,
   "id": "711bd75b-153a-4fc7-8609-6f5fac3e6fd9",
   "metadata": {},
   "outputs": [
    {
     "data": {
      "text/plain": [
       "(466473281/6530347008, 0.0714316223056060)"
      ]
     },
     "execution_count": 6,
     "metadata": {},
     "output_type": "execute_result"
    }
   ],
   "source": [
    "p_123456789 = p12(frozenset([1..9]))\n",
    "(p_123456789, numerical_approx(p_123456789))"
   ]
  }
 ],
 "metadata": {
  "kernelspec": {
   "display_name": "SageMath 10.3",
   "language": "sage",
   "name": "sagemath-10.3"
  },
  "language_info": {
   "codemirror_mode": {
    "name": "ipython",
    "version": 3
   },
   "file_extension": ".py",
   "mimetype": "text/x-python",
   "name": "python",
   "nbconvert_exporter": "python",
   "pygments_lexer": "ipython3",
   "version": "3.11.8"
  }
 },
 "nbformat": 4,
 "nbformat_minor": 5
}
