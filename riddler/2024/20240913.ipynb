{
 "cells": [
  {
   "cell_type": "markdown",
   "id": "6ebb1ce8-d38a-4524-9a3b-24301f1b5280",
   "metadata": {},
   "source": [
    "[2024-09-13 Fiddler](https://thefiddler.substack.com/p/can-you-shut-the-box)\n",
    "===================="
   ]
  },
  {
   "cell_type": "markdown",
   "id": "75f39a73-d8f7-4a5b-b02d-56cb5901124d",
   "metadata": {},
   "source": [
    "When there is one unflipped tile, the probability of winning is $1/6$.\n",
    "\n",
    "When there are two unflipped tiles, if the tiles 1 and 2, the probability of winning is\n",
    "$1/6+2/6\\cdot1/6 = 2/9$, the probability of rolling 3 plus the probability of rolling 1 then 2\n",
    "plus the probability of rolling 2 then 1.\n",
    "\n",
    "If the unflipped tiles are 1 and 3, 1 and 4, 1 and 5, 2 and 3, 2 and 4, the probability of winning\n",
    "is similarly $2/9$.\n",
    "\n",
    "If the unflipped tiles are 2 and 5, 2 and 6, 3 and 4, 3 and 5, 3 and 6, 4 and 5, 4 and 6, 5 and 6,\n",
    "the probability of winning is $1/18$.\n",
    "\n",
    "If the unflipped tiles are 123, the probability of winning is $3/6\\cdot2/9+2/6\\cdot1/6+1/6 = 1/3$,\n",
    "because when rolling a 3, it's better to flip the 3 than the 1 and 2.\n",
    "\n",
    "And so on..."
   ]
  },
  {
   "cell_type": "code",
   "execution_count": 1,
   "id": "a8b6c0af-2b7d-4123-928a-b563ad40a119",
   "metadata": {},
   "outputs": [
    {
     "data": {
      "text/plain": [
       "(145/1944, 0.0745884773662551)"
      ]
     },
     "execution_count": 1,
     "metadata": {},
     "output_type": "execute_result"
    }
   ],
   "source": [
    "p_1 = 1/6\n",
    "p_2 = 1/6\n",
    "p_3 = 1/6\n",
    "p_4 = 1/6\n",
    "p_5 = 1/6\n",
    "p_6 = 1/6\n",
    "\n",
    "p_12 = 1/6*p_2 + 1/6*p_1 + 1/6\n",
    "p_13 = 1/6*p_3 + 1/6*p_1 + 1/6\n",
    "p_14 = 1/6*p_4 + 1/6*p_1 + 1/6\n",
    "p_15 = 1/6*p_5 + 1/6*p_1 + 1/6\n",
    "p_16 = 1/6*p_6 + 1/6*p_1\n",
    "p_23 = 1/6*p_3 + 1/6*p_2 + 1/6\n",
    "p_24 = 1/6*p_4 + 1/6*p_2 + 1/6\n",
    "p_25 = 1/6*p_5 + 1/6*p_2\n",
    "p_26 = 1/6*p_6 + 1/6*p_2\n",
    "p_34 = 1/6*p_4 + 1/6*p_3\n",
    "p_35 = 1/6*p_5 + 1/6*p_3\n",
    "p_36 = 1/6*p_6 + 1/6*p_3\n",
    "p_45 = 1/6*p_5 + 1/6*p_5\n",
    "p_46 = 1/6*p_6 + 1/6*p_4\n",
    "p_56 = 1/6*p_6 + 1/6*p_5\n",
    "\n",
    "p_123 = 1/6*p_23 + 1/6*p_13 + 1/6*max(p_3,p_12) + 1/6*p_2 + 1/6*p_1 + 1/6\n",
    "p_124 = 1/6*p_24 + 1/6*p_14 + 1/6*p_4 + 1/6*p_12 + 1/6*p_2 + 1/6*p_1\n",
    "p_125 = 1/6*p_25 + 1/6*p_15 + 1/6*p_5 + 1/6*p_12 + 1/6*p_2\n",
    "p_126 = 1/6*p_26 + 1/6*p_16 + 1/6*p_6 + 1/6*p_12\n",
    "p_134 = 1/6*p_34 + 1/6*p_14 + 1/6*max(p_4,p_13) + 1/6*p_3\n",
    "p_135 = 1/6*p_35 + 1/6*p_15 + 1/6*p_5 + 1/6*p_13 + 1/6*p_3\n",
    "p_136 = 1/6*p_36 + 1/6*p_16 + 1/6*p_6 + 1/6*p_13\n",
    "p_145 = 1/6*p_45 + 1/6*p_15 + 1/6*max(p_5,p_14) + 1/6*p_4\n",
    "p_146 = 1/6*p_46 + 1/6*p_16 + 1/6*p_6 + 1/6*p_14\n",
    "p_156 = 1/6*p_56 + 1/6*p_16 + 1/6*max(p_6,p_15)\n",
    "p_234 = 1/6*p_34 + 1/6*p_24 + 1/6*p_23 + 1/6*p_4 + 1/6*p_3\n",
    "p_235 = 1/6*p_35 + 1/6*p_25 + 1/6*max(p_5,p_23)\n",
    "p_236 = 1/6*p_36 + 1/6*p_26 + 1/6*p_6 + 1/6*p_23\n",
    "p_245 = 1/6*p_45 + 1/6*p_25 + 1/6*p_24 + 1/6*p_5\n",
    "p_246 = 1/6*p_46 + 1/6*p_26 + 1/6*max(p_6,p_24)\n",
    "p_256 = 1/6*p_56 + 1/6*p_26 + 1/6*p_25\n",
    "p_345 = 1/6*p_45 + 1/6*p_35 + 1/6*p_34\n",
    "p_346 = 1/6*p_46 + 1/6*p_36 + 1/6*p_34\n",
    "p_356 = 1/6*p_56 + 1/6*p_36 + 1/6*p_35\n",
    "p_456 = 1/6*p_56 + 1/6*p_46 + 1/6*p_45\n",
    "\n",
    "p_1234 = 1/6*p_234 + 1/6*p_134 + 1/6*max(p_34,p_124) + 1/6*max(p_24,p_123) + 1/6*max(p_23,p_14) + 1/6*max(p_4,p_13)\n",
    "p_1235 = 1/6*p_235 + 1/6*p_135 + 1/6*max(p_35,p_125) + 1/6*p_25 + 1/6*max(p_15,p_123) + 1/6*max(p_5,p_23)\n",
    "p_1236 = 1/6*p_236 + 1/6*p_136 + 1/6*max(p_36,p_126) + 1/6*p_26 + 1/6*p_16 + 1/6*max(p_6,p_123)\n",
    "p_1245 = 1/6*p_245 + 1/6*p_145 + 1/6*p_45 + 1/6*p_125 + 1/6*max(p_25,p_124) + 1/6*max(p_24,p_15)\n",
    "p_1246 = 1/6*p_246 + 1/6*p_146 + 1/6*p_46 + 1/6*p_126 + 1/6*p_26 + 1/6*max(p_16,p_124)\n",
    "p_1256 = 1/6*p_256 + 1/6*p_156 + 1/6*p_56 + 1/6*p_126 + 1/6*max(p_26,p_125)\n",
    "p_1345 = 1/6*p_345 + 1/6*p_145 + 1/6*max(p_45,p_135) + 1/6*max(p_35,p_134) + 1/6*p_34\n",
    "p_1346 = 1/6*p_346 + 1/6*p_146 + 1/6*max(p_46,p_136) + 1/6*p_36 + 1/6*p_134\n",
    "p_1356 = 1/6*p_356 + 1/6*p_156 + 1/6*p_56 + 1/6*p_136 + 1/6*max(p_36,p_135)\n",
    "p_1456 = 1/6*p_456 + 1/6*p_156 + 1/6*max(p_56,p_146) + 1/6*max(p_46,p_145)\n",
    "p_2345 = 1/6*p_345 + 1/6*p_245 + 1/6*p_235 + 1/6*max(p_45,p_234) + 1/6*p_35\n",
    "p_2346 = 1/6*p_346 + 1/6*p_246 + 1/6*p_236 + 1/6*p_46 + 1/6*max(p_36,p_234)\n",
    "p_2356 = 1/6*p_356 + 1/6*p_256 + 1/6*max(p_56,p_236) + 1/6*p_235\n",
    "p_2456 = 1/6*p_456 + 1/6*p_256 + 1/6*p_246 + 1/6*max(p_56,p_245)\n",
    "p_3456 = 1/6*p_456 + 1/6*p_356 + 1/6*p_346 + 1/6*p_345\n",
    "\n",
    "p_12345 = 1/6*p_2345 + 1/6*p_1345 + 1/6*max(p_345,p_1245) + 1/6*max(p_245,p_1235) + 1/6*max(p_235,p_145,p_1234) + 1/6*max(p_45,p_234,p_135)\n",
    "p_12346 = 1/6*p_2346 + 1/6*p_1346 + 1/6*max(p_346,p_1246) + 1/6*max(p_246,p_1236) + 1/6*max(p_236,p_146) + 1/6*max(p_46,p_136,p_1234)\n",
    "p_12356 = 1/6*p_2356 + 1/6*p_1356 + 1/6*max(p_356,p_1256) + 1/6*p_256 + 1/6*max(p_156,p_1236) + 1/6*max(p_56,p_236,p_1235)\n",
    "p_12456 = 1/6*p_2456 + 1/6*p_1456 + 1/6*p_456 + 1/6*p_1256 + 1/6*max(p_256,p_1246) + 1/6*max(p_246,p_156,p_1245)\n",
    "p_13456 = 1/6*p_3456 + 1/6*p_1456 + 1/6*max(p_456,p_1356) + 1/6*max(p_356,p_1346) + 1/6*max(p_346,p_1345)\n",
    "p_23456 = 1/6*p_3456 + 1/6*p_2456 + 1/6*p_2356 + 1/6*max(p_456,p_2346) + 1/6*max(p_356,p_2345)\n",
    "\n",
    "p_123456 = 1/6*p_23456 + 1/6*p_13456 + 1/6*max(p_3456,p_12456) + 1/6*max(p_2456,p_12356) + 1/6*max(p_2356,p_1456,p_12346) + 1/6*max(p_456,p_2346,p_1356,p_12345)\n",
    "(p_123456,numerical_approx(p_123456))"
   ]
  },
  {
   "cell_type": "markdown",
   "id": "3a5ba381-8a80-4842-bb1e-b65e6efb5f57",
   "metadata": {},
   "source": [
    "Extra credit\n",
    "------------"
   ]
  },
  {
   "cell_type": "markdown",
   "id": "608e69fd-967b-44e9-85a1-8593074b09eb",
   "metadata": {},
   "source": [
    "First, define the probability of rolling a given total"
   ]
  },
  {
   "cell_type": "code",
   "execution_count": 2,
   "id": "96a37da9-0b90-42aa-80c7-a57631bc1d6f",
   "metadata": {},
   "outputs": [],
   "source": [
    "roll(n) = (6-abs(n-7))/36"
   ]
  },
  {
   "cell_type": "markdown",
   "id": "8c15d21c-bae0-41cb-9501-cacaedab5f3a",
   "metadata": {},
   "source": [
    "Next, get the possible remaining tiles for a given sum"
   ]
  },
  {
   "cell_type": "code",
   "execution_count": 3,
   "id": "7429cae0-5818-434a-999a-868d970ea618",
   "metadata": {},
   "outputs": [],
   "source": [
    "def remaining_tiles(tiles, sum):\n",
    "    result = set()\n",
    "    for tile in tiles:\n",
    "        if tile == sum:\n",
    "            result |= {frozenset(tiles - {tile})}\n",
    "        elif tile < sum:\n",
    "            result |= remaining_tiles(frozenset(tiles - {tile}), sum-tile)\n",
    "    return result"
   ]
  },
  {
   "cell_type": "markdown",
   "id": "61a018af-50c1-4b77-a682-f11f7481e05b",
   "metadata": {},
   "source": [
    "Finally, get the probability of winning"
   ]
  },
  {
   "cell_type": "code",
   "execution_count": 4,
   "id": "5d26629b-f30e-4b7c-b35f-a6c3e41c9c67",
   "metadata": {},
   "outputs": [],
   "source": [
    "from functools import cache\n",
    "\n",
    "@cache\n",
    "def p6(tiles):\n",
    "    if len(tiles) == 0:\n",
    "        return 1\n",
    "    result = 0\n",
    "    for sum in [1..6]:\n",
    "        result += 1/6*max([p6(next_tiles) for next_tiles in remaining_tiles(tiles,sum)] + [0])\n",
    "    return result\n",
    "\n",
    "@cache\n",
    "def p12(tiles):\n",
    "    if len(tiles) == 0:\n",
    "        return 1\n",
    "    result = 0\n",
    "    for sum in [2..12]:\n",
    "        result += roll(sum)*max([p12(next_tiles) for next_tiles in remaining_tiles(tiles,sum)] + [0])\n",
    "    return result"
   ]
  },
  {
   "cell_type": "markdown",
   "id": "17199e9e-38bb-4ad3-a651-febb0544ad3b",
   "metadata": {},
   "source": [
    "Check the one die result"
   ]
  },
  {
   "cell_type": "code",
   "execution_count": 5,
   "id": "dc6da4a2-c74a-4c8c-ade3-16906c7ce152",
   "metadata": {},
   "outputs": [
    {
     "data": {
      "text/plain": [
       "(145/1944, 145/1944)"
      ]
     },
     "execution_count": 5,
     "metadata": {},
     "output_type": "execute_result"
    }
   ],
   "source": [
    "p6(frozenset([1..6])), p_123456"
   ]
  },
  {
   "cell_type": "code",
   "execution_count": 6,
   "id": "711bd75b-153a-4fc7-8609-6f5fac3e6fd9",
   "metadata": {},
   "outputs": [
    {
     "data": {
      "text/plain": [
       "(466473281/6530347008, 0.0714316223056060)"
      ]
     },
     "execution_count": 6,
     "metadata": {},
     "output_type": "execute_result"
    }
   ],
   "source": [
    "p_123456789 = p12(frozenset([1..9]))\n",
    "(p_123456789, numerical_approx(p_123456789))"
   ]
  },
  {
   "cell_type": "markdown",
   "id": "dc74acc6-a1db-4260-ac06-250642d3d9fd",
   "metadata": {},
   "source": [
    "Simulations\n",
    "-----------"
   ]
  },
  {
   "cell_type": "markdown",
   "id": "6b087552-ea3e-45e2-a764-252453d58d97",
   "metadata": {},
   "source": [
    "Running [simulations](20240913.go).\n",
    "\n",
    "I'll use the above calculations to decide which combination of tiles to flip in the simulations.\n",
    "\n",
    "First, check the code against the above calculations."
   ]
  },
  {
   "cell_type": "code",
   "execution_count": 7,
   "id": "0887dfee-1976-4d9b-9362-8c98620e5b56",
   "metadata": {},
   "outputs": [
    {
     "data": {
      "text/html": [
       "<html>\\(\\displaystyle 0.074588\\)</html>"
      ],
      "text/latex": [
       "$\\displaystyle 0.074588$"
      ],
      "text/plain": [
       "0.074588"
      ]
     },
     "metadata": {},
     "output_type": "display_data"
    },
    {
     "data": {
      "text/html": [
       "<html>\\(\\displaystyle \\left[0.033951, 0.043210, 0.064815, 0.075617, 0.10185, 0.12809\\right]\\)</html>"
      ],
      "text/latex": [
       "$\\displaystyle \\left[0.033951, 0.043210, 0.064815, 0.075617, 0.10185, 0.12809\\right]$"
      ],
      "text/plain": [
       "[0.033951, 0.043210, 0.064815, 0.075617, 0.10185, 0.12809]"
      ]
     },
     "metadata": {},
     "output_type": "display_data"
    },
    {
     "data": {
      "text/html": [
       "<html>\\(\\displaystyle 0.071432\\)</html>"
      ],
      "text/latex": [
       "$\\displaystyle 0.071432$"
      ],
      "text/plain": [
       "0.071432"
      ]
     },
     "metadata": {},
     "output_type": "display_data"
    },
    {
     "data": {
      "text/html": [
       "<html>\\(\\displaystyle \\left[0.042214, 0.045190, 0.051068, 0.055327, 0.061085, 0.064993, 0.071253, 0.084399, 0.10150\\right]\\)</html>"
      ],
      "text/latex": [
       "$\\displaystyle \\left[0.042214, 0.045190, 0.051068, 0.055327, 0.061085, 0.064993, 0.071253, 0.084399, 0.10150\\right]$"
      ],
      "text/plain": [
       "[0.042214,\n",
       " 0.045190,\n",
       " 0.051068,\n",
       " 0.055327,\n",
       " 0.061085,\n",
       " 0.064993,\n",
       " 0.071253,\n",
       " 0.084399,\n",
       " 0.10150]"
      ]
     },
     "metadata": {},
     "output_type": "display_data"
    }
   ],
   "source": [
    "show(numerical_approx(p6(frozenset([1..6])),digits=5))\n",
    "show([numerical_approx(p6(frozenset(filter(lambda x: x != i, [1..6]))),digits=5) for i in [1..6]])\n",
    "show(numerical_approx(p12(frozenset([1..9])),digits=5))\n",
    "show([numerical_approx(p12(frozenset(filter(lambda x: x != i, [1..9]))),digits=5) for i in [1..9]])"
   ]
  },
  {
   "cell_type": "markdown",
   "id": "372418eb-11e0-4051-80c7-298f0a635172",
   "metadata": {},
   "source": [
    "The code passes the checks.\n",
    "\n",
    "    $ go run 20240913.go check\n",
    "    0.074588\n",
    "     0.033951 0.043210 0.064815 0.075617 0.101852 0.128086\n",
    "    0.071432\n",
    "     0.042214 0.045190 0.051068 0.055327 0.061085 0.064993 0.071253 0.084399 0.101502"
   ]
  },
  {
   "cell_type": "markdown",
   "id": "93bb1771-3e3d-4ff0-b526-d5fc1559985b",
   "metadata": {},
   "source": [
    "And the simulation results agree.\n",
    "\n",
    "    $ go run 20240913.go\n",
    "    f: 0.074662                                                                     \n",
    "    ec: 0.071431"
   ]
  },
  {
   "cell_type": "markdown",
   "id": "e6fb06d8-4199-4644-bd5b-33e4a02fc21f",
   "metadata": {},
   "source": [
    "Making the rounds\n",
    "-----------------"
   ]
  },
  {
   "cell_type": "markdown",
   "id": "0158eef9-4ddf-4ea6-a3d4-409736db420e",
   "metadata": {},
   "source": [
    "[Simulations](20240913mtr.go) suggest a uniform distribution between 0 and 1."
   ]
  },
  {
   "cell_type": "markdown",
   "id": "568cd0f3-00ff-425e-85b4-0f19619cb8a0",
   "metadata": {},
   "source": [
    "Let $q = (xy)^z$.  Given $x$, $y$, and $q$, $z$ is"
   ]
  },
  {
   "cell_type": "code",
   "execution_count": 8,
   "id": "5131ef5b-9bde-4f06-ab26-6146a1469b7c",
   "metadata": {},
   "outputs": [
    {
     "data": {
      "text/html": [
       "<html>\\(\\displaystyle \\left[z = \\frac{\\log\\left(q\\right)}{\\log\\left(x y\\right)}\\right]\\)</html>"
      ],
      "text/latex": [
       "$\\displaystyle \\left[z = \\frac{\\log\\left(q\\right)}{\\log\\left(x y\\right)}\\right]$"
      ],
      "text/plain": [
       "[z == log(q)/log(x*y)]"
      ]
     },
     "execution_count": 8,
     "metadata": {},
     "output_type": "execute_result"
    }
   ],
   "source": [
    "%display latex\n",
    "q,x,y,z = var('q,x,y,z')\n",
    "solve(q == (x*y)^z, z)"
   ]
  },
  {
   "cell_type": "markdown",
   "id": "5bb905ff-62a7-4a61-9cf8-7826c70c2297",
   "metadata": {},
   "source": [
    "The probability that $x$ is between $x$ and $x+dx$, $y$ is between $y$ and $y+dy$, and $z$\n",
    "is between $z$ and $z+dz$, where $0<x<1$, $0<y<1$, $0<z<1$, $dx$, $dy$, and $dz$ are small,\n",
    "is $dx\\,dy\\,dz$.\n",
    "\n",
    "The probability that $q$ is between $q$ and $q+dq$, where $0<q<1$ and $dq$ is small, would\n",
    "be $dq$ if the distribution is uniform.  In any case, it's the sum of all the contributions\n",
    "from $x$, $y$, and $z$, where $q < (xy)^z < q+dq$.  So, given $q$, it's where\n",
    "$-\\log(xy) > -\\log q$, since $0<z<1$, so $0 < y < q/x$,\n",
    "\n",
    "$$ P(q)\\,dq = \\int_0^1 dx\\,\\int_0^{q/x} dy\\,dz $$\n",
    "\n",
    "And $dz = \\frac{dq}{q\\log(xy)}$, so\n",
    "\n",
    "$$ P(q) = \\int_0^1 dx\\,\\int_0^{q/x} dy\\,\\frac{1}{q\\log(xy)} $$\n",
    "\n",
    "That integral is divergent, so there's something wrong with my reasoning."
   ]
  },
  {
   "cell_type": "code",
   "execution_count": 9,
   "id": "63d7fc2b-a9cb-4deb-b637-b857b319394d",
   "metadata": {},
   "outputs": [
    {
     "data": {
      "text/html": [
       "<html>\\(\\displaystyle \\frac{{\\rm Ei}\\left(\\log\\left(q\\right)\\right)}{q x}\\)</html>"
      ],
      "text/latex": [
       "$\\displaystyle \\frac{{\\rm Ei}\\left(\\log\\left(q\\right)\\right)}{q x}$"
      ],
      "text/plain": [
       "Ei(log(q))/(q*x)"
      ]
     },
     "execution_count": 9,
     "metadata": {},
     "output_type": "execute_result"
    }
   ],
   "source": [
    "assume(q > 0)\n",
    "assume(q < 1)\n",
    "assume(x > 0)\n",
    "assume(x < 1)\n",
    "integral(1/(q*log(x*y)),y,0,q/x)"
   ]
  }
 ],
 "metadata": {
  "kernelspec": {
   "display_name": "SageMath 10.3",
   "language": "sage",
   "name": "sagemath-10.3"
  },
  "language_info": {
   "codemirror_mode": {
    "name": "ipython",
    "version": 3
   },
   "file_extension": ".py",
   "mimetype": "text/x-python",
   "name": "python",
   "nbconvert_exporter": "python",
   "pygments_lexer": "ipython3",
   "version": "3.11.8"
  }
 },
 "nbformat": 4,
 "nbformat_minor": 5
}
