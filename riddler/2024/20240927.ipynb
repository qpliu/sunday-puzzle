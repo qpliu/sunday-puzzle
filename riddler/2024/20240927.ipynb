{
 "cells": [
  {
   "cell_type": "markdown",
   "id": "2ebc1fb2-1831-4fc1-a80a-916d3a489cab",
   "metadata": {},
   "source": [
    "[2024-09-27 Fiddler](https://thefiddler.substack.com/p/can-you-win-at-rock-paper-scissors)\n",
    "===================="
   ]
  },
  {
   "cell_type": "markdown",
   "id": "1ba0e608-02b2-47f4-bf75-69142c11b6f0",
   "metadata": {},
   "source": [
    "Considering two of the players, there is $1/5$ probability of a\n",
    "tie and $4/5$ probability that one of them beats the other.\n",
    "\n",
    "If the two players tie, there is a $2/5$ probability that the third\n",
    "player beats them both.  ($1/5$ for a 3-way tie, $2/5$ that the third\n",
    "player loses to both.)\n",
    "\n",
    "There are two equally probable cases in which one of them beats the other.\n",
    "\n",
    "In one case, consider Rock and Scissors.  If the third player chooses Rock,\n",
    "there is no winner.  If the third player chooses Scissors, Rock wins.  If\n",
    "the third player chooses Paper, there is no winner.  If the third player\n",
    "chooses Lizard, Rock wins.  If the third player picks Spock, Spock wins,\n",
    "so there is a $3/5$ probability of a winner.\n",
    "\n",
    "For the other case, consider Rock and Lizard.  If the third player chooses\n",
    "Rock, there is no winner.  If the third player chooses Scissors, Rock wins.\n",
    "If the third player picks Paper, there is no winner.  If the third player\n",
    "picks Lizard, Rock wins.  If the third player picks Spock, there is no\n",
    "winner, so there is a $2/5$ probability of a winner.\n",
    "\n",
    "The probability of an outright winner is\n",
    "$1/5\\cdot2/5+2/5\\cdot3/5+2/5\\cdot2/5 = 12/25$."
   ]
  },
  {
   "cell_type": "markdown",
   "id": "f0dceca9-1917-4fe9-927f-947ab548c766",
   "metadata": {},
   "source": [
    "### Simulation and brute force\n",
    "Simulations and brute force calculations agree."
   ]
  },
  {
   "cell_type": "code",
   "execution_count": 1,
   "id": "4e4e8401-eb2f-447c-b4c7-9329adb0069e",
   "metadata": {},
   "outputs": [],
   "source": [
    "import random\n",
    "\n",
    "# rock>scissors,lizard\n",
    "# paper>rock,spock\n",
    "# scissors>paper,lizard\n",
    "# lizard>spock,paper\n",
    "# spock>rock,scissors\n",
    "# rock=0 scissors=1 lizard=2 paper=3 spock=4\n",
    "\n",
    "def defeats(a, b):\n",
    "    c = (a-b)%5\n",
    "    return c >= 3\n",
    "\n",
    "def trial(rand):\n",
    "    a = rand.randint(0,4)\n",
    "    b = rand.randint(0,4)\n",
    "    c = rand.randint(0,4)\n",
    "    return (defeats(a,b) and defeats(a,c)) or \\\n",
    "        (defeats(b,a) and defeats(b,c)) or \\\n",
    "        (defeats(c,a) and defeats(c,b))\n",
    "\n",
    "def simulate(n, rand):\n",
    "    count = 0\n",
    "    for i in range(n):\n",
    "        if trial(rand):\n",
    "            count += 1\n",
    "    print(numerical_approx(count/n))\n",
    "\n",
    "def brute_force():\n",
    "    count = 0\n",
    "    for a in [0..4]:\n",
    "        for b in [0..4]:\n",
    "            for c in [0..4]:\n",
    "                if (defeats(a,b) and defeats(a,c)) or \\\n",
    "                    (defeats(b,a) and defeats(b,c)) or \\\n",
    "                    (defeats(c,a) and defeats(c,b)):\n",
    "                    count += 1\n",
    "    print(count/125, numerical_approx(count/125))\n"
   ]
  },
  {
   "cell_type": "code",
   "execution_count": 2,
   "id": "17cc2b5a-899f-4de3-8ede-5a536346e04c",
   "metadata": {},
   "outputs": [
    {
     "name": "stdout",
     "output_type": "stream",
     "text": [
      "0.477810000000000\n",
      "12/25 0.480000000000000\n"
     ]
    }
   ],
   "source": [
    "r = random.Random(int(20240927))\n",
    "simulate(100000, r)\n",
    "brute_force()"
   ]
  },
  {
   "cell_type": "markdown",
   "id": "52d733bc-0fd6-4517-8a6c-5793ad005e56",
   "metadata": {},
   "source": [
    "Extra credit\n",
    "------------"
   ]
  },
  {
   "cell_type": "markdown",
   "id": "7f17840c-a179-45a9-8252-b6a2f22c945d",
   "metadata": {},
   "source": [
    "Using code, there are 110 ways.  Number 37 matches the example."
   ]
  },
  {
   "cell_type": "code",
   "execution_count": 3,
   "id": "c17ff048-fafa-4c01-961b-bed2699fb495",
   "metadata": {},
   "outputs": [],
   "source": [
    "def generate_descriptions(start_element, current_element, rule, unused):\n",
    "    if current_element == start_element and len(unused) == 0:\n",
    "        return [rule + \".\"]\n",
    "    descriptions = []\n",
    "    for beats in unused:\n",
    "        if beats[0] == current_element:\n",
    "            descriptions += generate_descriptions(start_element, beats[1], rule + \" beats \" + beats[1], unused - {beats})\n",
    "    return descriptions"
   ]
  },
  {
   "cell_type": "code",
   "execution_count": 4,
   "id": "a4d4c4c7-4ae7-42dc-bd0e-9202a6f3585b",
   "metadata": {},
   "outputs": [
    {
     "name": "stdout",
     "output_type": "stream",
     "text": [
      "1. Rock beats Lizard beats Paper beats Rock beats Scissors beats Lizard beats Spock beats Scissors beats Paper beats Spock beats Rock.\n",
      "2. Rock beats Lizard beats Paper beats Rock beats Scissors beats Paper beats Spock beats Scissors beats Lizard beats Spock beats Rock.\n",
      "3. Rock beats Lizard beats Paper beats Spock beats Rock beats Scissors beats Lizard beats Spock beats Scissors beats Paper beats Rock.\n",
      "4. Rock beats Lizard beats Paper beats Spock beats Scissors beats Lizard beats Spock beats Rock beats Scissors beats Paper beats Rock.\n",
      "5. Rock beats Lizard beats Paper beats Spock beats Scissors beats Paper beats Rock beats Scissors beats Lizard beats Spock beats Rock.\n",
      "6. Rock beats Lizard beats Spock beats Rock beats Scissors beats Lizard beats Paper beats Spock beats Scissors beats Paper beats Rock.\n",
      "7. Rock beats Lizard beats Spock beats Rock beats Scissors beats Paper beats Spock beats Scissors beats Lizard beats Paper beats Rock.\n",
      "8. Rock beats Lizard beats Spock beats Scissors beats Lizard beats Paper beats Rock beats Scissors beats Paper beats Spock beats Rock.\n",
      "9. Rock beats Lizard beats Spock beats Scissors beats Lizard beats Paper beats Spock beats Rock beats Scissors beats Paper beats Rock.\n",
      "10. Rock beats Lizard beats Spock beats Scissors beats Paper beats Rock beats Scissors beats Lizard beats Paper beats Spock beats Rock.\n",
      "11. Rock beats Lizard beats Spock beats Scissors beats Paper beats Spock beats Rock beats Scissors beats Lizard beats Paper beats Rock.\n",
      "12. Rock beats Scissors beats Lizard beats Paper beats Rock beats Lizard beats Spock beats Scissors beats Paper beats Spock beats Rock.\n",
      "13. Rock beats Scissors beats Lizard beats Paper beats Spock beats Rock beats Lizard beats Spock beats Scissors beats Paper beats Rock.\n",
      "14. Rock beats Scissors beats Lizard beats Paper beats Spock beats Scissors beats Paper beats Rock beats Lizard beats Spock beats Rock.\n",
      "15. Rock beats Scissors beats Lizard beats Spock beats Rock beats Lizard beats Paper beats Spock beats Scissors beats Paper beats Rock.\n",
      "16. Rock beats Scissors beats Lizard beats Spock beats Scissors beats Paper beats Rock beats Lizard beats Paper beats Spock beats Rock.\n",
      "17. Rock beats Scissors beats Lizard beats Spock beats Scissors beats Paper beats Spock beats Rock beats Lizard beats Paper beats Rock.\n",
      "18. Rock beats Scissors beats Paper beats Rock beats Lizard beats Paper beats Spock beats Scissors beats Lizard beats Spock beats Rock.\n",
      "19. Rock beats Scissors beats Paper beats Rock beats Lizard beats Spock beats Scissors beats Lizard beats Paper beats Spock beats Rock.\n",
      "20. Rock beats Scissors beats Paper beats Spock beats Rock beats Lizard beats Spock beats Scissors beats Lizard beats Paper beats Rock.\n",
      "21. Rock beats Scissors beats Paper beats Spock beats Scissors beats Lizard beats Paper beats Rock beats Lizard beats Spock beats Rock.\n",
      "22. Rock beats Scissors beats Paper beats Spock beats Scissors beats Lizard beats Spock beats Rock beats Lizard beats Paper beats Rock.\n",
      "23. Scissors beats Lizard beats Paper beats Rock beats Lizard beats Spock beats Rock beats Scissors beats Paper beats Spock beats Scissors.\n",
      "24. Scissors beats Lizard beats Paper beats Rock beats Lizard beats Spock beats Scissors beats Paper beats Spock beats Rock beats Scissors.\n",
      "25. Scissors beats Lizard beats Paper beats Rock beats Scissors beats Paper beats Spock beats Rock beats Lizard beats Spock beats Scissors.\n",
      "26. Scissors beats Lizard beats Paper beats Spock beats Rock beats Lizard beats Spock beats Scissors beats Paper beats Rock beats Scissors.\n",
      "27. Scissors beats Lizard beats Paper beats Spock beats Rock beats Scissors beats Paper beats Rock beats Lizard beats Spock beats Scissors.\n",
      "28. Scissors beats Lizard beats Paper beats Spock beats Scissors beats Paper beats Rock beats Lizard beats Spock beats Rock beats Scissors.\n",
      "29. Scissors beats Lizard beats Spock beats Rock beats Lizard beats Paper beats Rock beats Scissors beats Paper beats Spock beats Scissors.\n",
      "30. Scissors beats Lizard beats Spock beats Rock beats Lizard beats Paper beats Spock beats Scissors beats Paper beats Rock beats Scissors.\n",
      "31. Scissors beats Lizard beats Spock beats Rock beats Scissors beats Paper beats Rock beats Lizard beats Paper beats Spock beats Scissors.\n",
      "32. Scissors beats Lizard beats Spock beats Scissors beats Paper beats Rock beats Lizard beats Paper beats Spock beats Rock beats Scissors.\n",
      "33. Scissors beats Lizard beats Spock beats Scissors beats Paper beats Spock beats Rock beats Lizard beats Paper beats Rock beats Scissors.\n",
      "34. Scissors beats Paper beats Rock beats Lizard beats Paper beats Spock beats Rock beats Scissors beats Lizard beats Spock beats Scissors.\n",
      "35. Scissors beats Paper beats Rock beats Lizard beats Paper beats Spock beats Scissors beats Lizard beats Spock beats Rock beats Scissors.\n",
      "36. Scissors beats Paper beats Rock beats Lizard beats Spock beats Rock beats Scissors beats Lizard beats Paper beats Spock beats Scissors.\n",
      "37. Scissors beats Paper beats Rock beats Lizard beats Spock beats Scissors beats Lizard beats Paper beats Spock beats Rock beats Scissors.\n",
      "38. Scissors beats Paper beats Rock beats Scissors beats Lizard beats Paper beats Spock beats Rock beats Lizard beats Spock beats Scissors.\n",
      "39. Scissors beats Paper beats Rock beats Scissors beats Lizard beats Spock beats Rock beats Lizard beats Paper beats Spock beats Scissors.\n",
      "40. Scissors beats Paper beats Spock beats Rock beats Lizard beats Paper beats Rock beats Scissors beats Lizard beats Spock beats Scissors.\n",
      "41. Scissors beats Paper beats Spock beats Rock beats Lizard beats Spock beats Scissors beats Lizard beats Paper beats Rock beats Scissors.\n",
      "42. Scissors beats Paper beats Spock beats Rock beats Scissors beats Lizard beats Paper beats Rock beats Lizard beats Spock beats Scissors.\n",
      "43. Scissors beats Paper beats Spock beats Scissors beats Lizard beats Paper beats Rock beats Lizard beats Spock beats Rock beats Scissors.\n",
      "44. Scissors beats Paper beats Spock beats Scissors beats Lizard beats Spock beats Rock beats Lizard beats Paper beats Rock beats Scissors.\n",
      "45. Paper beats Rock beats Lizard beats Paper beats Spock beats Rock beats Scissors beats Lizard beats Spock beats Scissors beats Paper.\n",
      "46. Paper beats Rock beats Lizard beats Paper beats Spock beats Scissors beats Lizard beats Spock beats Rock beats Scissors beats Paper.\n",
      "47. Paper beats Rock beats Lizard beats Spock beats Rock beats Scissors beats Lizard beats Paper beats Spock beats Scissors beats Paper.\n",
      "48. Paper beats Rock beats Lizard beats Spock beats Rock beats Scissors beats Paper beats Spock beats Scissors beats Lizard beats Paper.\n",
      "49. Paper beats Rock beats Lizard beats Spock beats Scissors beats Lizard beats Paper beats Spock beats Rock beats Scissors beats Paper.\n",
      "50. Paper beats Rock beats Lizard beats Spock beats Scissors beats Paper beats Spock beats Rock beats Scissors beats Lizard beats Paper.\n",
      "51. Paper beats Rock beats Scissors beats Lizard beats Paper beats Spock beats Rock beats Lizard beats Spock beats Scissors beats Paper.\n",
      "52. Paper beats Rock beats Scissors beats Lizard beats Spock beats Rock beats Lizard beats Paper beats Spock beats Scissors beats Paper.\n",
      "53. Paper beats Rock beats Scissors beats Lizard beats Spock beats Scissors beats Paper beats Spock beats Rock beats Lizard beats Paper.\n",
      "54. Paper beats Rock beats Scissors beats Paper beats Spock beats Rock beats Lizard beats Spock beats Scissors beats Lizard beats Paper.\n",
      "55. Paper beats Rock beats Scissors beats Paper beats Spock beats Scissors beats Lizard beats Spock beats Rock beats Lizard beats Paper.\n",
      "56. Paper beats Spock beats Rock beats Lizard beats Paper beats Rock beats Scissors beats Lizard beats Spock beats Scissors beats Paper.\n",
      "57. Paper beats Spock beats Rock beats Lizard beats Spock beats Scissors beats Lizard beats Paper beats Rock beats Scissors beats Paper.\n",
      "58. Paper beats Spock beats Rock beats Lizard beats Spock beats Scissors beats Paper beats Rock beats Scissors beats Lizard beats Paper.\n",
      "59. Paper beats Spock beats Rock beats Scissors beats Lizard beats Paper beats Rock beats Lizard beats Spock beats Scissors beats Paper.\n",
      "60. Paper beats Spock beats Rock beats Scissors beats Lizard beats Spock beats Scissors beats Paper beats Rock beats Lizard beats Paper.\n",
      "61. Paper beats Spock beats Rock beats Scissors beats Paper beats Rock beats Lizard beats Spock beats Scissors beats Lizard beats Paper.\n",
      "62. Paper beats Spock beats Scissors beats Lizard beats Paper beats Rock beats Lizard beats Spock beats Rock beats Scissors beats Paper.\n",
      "63. Paper beats Spock beats Scissors beats Lizard beats Spock beats Rock beats Lizard beats Paper beats Rock beats Scissors beats Paper.\n",
      "64. Paper beats Spock beats Scissors beats Lizard beats Spock beats Rock beats Scissors beats Paper beats Rock beats Lizard beats Paper.\n",
      "65. Paper beats Spock beats Scissors beats Paper beats Rock beats Lizard beats Spock beats Rock beats Scissors beats Lizard beats Paper.\n",
      "66. Paper beats Spock beats Scissors beats Paper beats Rock beats Scissors beats Lizard beats Spock beats Rock beats Lizard beats Paper.\n",
      "67. Lizard beats Paper beats Rock beats Lizard beats Spock beats Rock beats Scissors beats Paper beats Spock beats Scissors beats Lizard.\n",
      "68. Lizard beats Paper beats Rock beats Lizard beats Spock beats Scissors beats Paper beats Spock beats Rock beats Scissors beats Lizard.\n",
      "69. Lizard beats Paper beats Rock beats Scissors beats Lizard beats Spock beats Scissors beats Paper beats Spock beats Rock beats Lizard.\n",
      "70. Lizard beats Paper beats Rock beats Scissors beats Paper beats Spock beats Rock beats Lizard beats Spock beats Scissors beats Lizard.\n",
      "71. Lizard beats Paper beats Rock beats Scissors beats Paper beats Spock beats Scissors beats Lizard beats Spock beats Rock beats Lizard.\n",
      "72. Lizard beats Paper beats Spock beats Rock beats Lizard beats Spock beats Scissors beats Paper beats Rock beats Scissors beats Lizard.\n",
      "73. Lizard beats Paper beats Spock beats Rock beats Scissors beats Lizard beats Spock beats Scissors beats Paper beats Rock beats Lizard.\n",
      "74. Lizard beats Paper beats Spock beats Rock beats Scissors beats Paper beats Rock beats Lizard beats Spock beats Scissors beats Lizard.\n",
      "75. Lizard beats Paper beats Spock beats Scissors beats Lizard beats Spock beats Rock beats Scissors beats Paper beats Rock beats Lizard.\n",
      "76. Lizard beats Paper beats Spock beats Scissors beats Paper beats Rock beats Lizard beats Spock beats Rock beats Scissors beats Lizard.\n",
      "77. Lizard beats Paper beats Spock beats Scissors beats Paper beats Rock beats Scissors beats Lizard beats Spock beats Rock beats Lizard.\n",
      "78. Lizard beats Spock beats Rock beats Lizard beats Paper beats Rock beats Scissors beats Paper beats Spock beats Scissors beats Lizard.\n",
      "79. Lizard beats Spock beats Rock beats Lizard beats Paper beats Spock beats Scissors beats Paper beats Rock beats Scissors beats Lizard.\n",
      "80. Lizard beats Spock beats Rock beats Scissors beats Lizard beats Paper beats Spock beats Scissors beats Paper beats Rock beats Lizard.\n",
      "81. Lizard beats Spock beats Rock beats Scissors beats Paper beats Rock beats Lizard beats Paper beats Spock beats Scissors beats Lizard.\n",
      "82. Lizard beats Spock beats Rock beats Scissors beats Paper beats Spock beats Scissors beats Lizard beats Paper beats Rock beats Lizard.\n",
      "83. Lizard beats Spock beats Scissors beats Lizard beats Paper beats Rock beats Scissors beats Paper beats Spock beats Rock beats Lizard.\n",
      "84. Lizard beats Spock beats Scissors beats Lizard beats Paper beats Spock beats Rock beats Scissors beats Paper beats Rock beats Lizard.\n",
      "85. Lizard beats Spock beats Scissors beats Paper beats Rock beats Lizard beats Paper beats Spock beats Rock beats Scissors beats Lizard.\n",
      "86. Lizard beats Spock beats Scissors beats Paper beats Rock beats Scissors beats Lizard beats Paper beats Spock beats Rock beats Lizard.\n",
      "87. Lizard beats Spock beats Scissors beats Paper beats Spock beats Rock beats Lizard beats Paper beats Rock beats Scissors beats Lizard.\n",
      "88. Lizard beats Spock beats Scissors beats Paper beats Spock beats Rock beats Scissors beats Lizard beats Paper beats Rock beats Lizard.\n",
      "89. Spock beats Rock beats Lizard beats Paper beats Rock beats Scissors beats Lizard beats Spock beats Scissors beats Paper beats Spock.\n",
      "90. Spock beats Rock beats Lizard beats Paper beats Rock beats Scissors beats Paper beats Spock beats Scissors beats Lizard beats Spock.\n",
      "91. Spock beats Rock beats Lizard beats Paper beats Spock beats Scissors beats Paper beats Rock beats Scissors beats Lizard beats Spock.\n",
      "92. Spock beats Rock beats Lizard beats Spock beats Scissors beats Lizard beats Paper beats Rock beats Scissors beats Paper beats Spock.\n",
      "93. Spock beats Rock beats Lizard beats Spock beats Scissors beats Paper beats Rock beats Scissors beats Lizard beats Paper beats Spock.\n",
      "94. Spock beats Rock beats Scissors beats Lizard beats Paper beats Rock beats Lizard beats Spock beats Scissors beats Paper beats Spock.\n",
      "95. Spock beats Rock beats Scissors beats Lizard beats Paper beats Spock beats Scissors beats Paper beats Rock beats Lizard beats Spock.\n",
      "96. Spock beats Rock beats Scissors beats Lizard beats Spock beats Scissors beats Paper beats Rock beats Lizard beats Paper beats Spock.\n",
      "97. Spock beats Rock beats Scissors beats Paper beats Rock beats Lizard beats Paper beats Spock beats Scissors beats Lizard beats Spock.\n",
      "98. Spock beats Rock beats Scissors beats Paper beats Rock beats Lizard beats Spock beats Scissors beats Lizard beats Paper beats Spock.\n",
      "99. Spock beats Rock beats Scissors beats Paper beats Spock beats Scissors beats Lizard beats Paper beats Rock beats Lizard beats Spock.\n",
      "100. Spock beats Scissors beats Lizard beats Paper beats Rock beats Lizard beats Spock beats Rock beats Scissors beats Paper beats Spock.\n",
      "101. Spock beats Scissors beats Lizard beats Paper beats Rock beats Scissors beats Paper beats Spock beats Rock beats Lizard beats Spock.\n",
      "102. Spock beats Scissors beats Lizard beats Paper beats Spock beats Rock beats Scissors beats Paper beats Rock beats Lizard beats Spock.\n",
      "103. Spock beats Scissors beats Lizard beats Spock beats Rock beats Lizard beats Paper beats Rock beats Scissors beats Paper beats Spock.\n",
      "104. Spock beats Scissors beats Lizard beats Spock beats Rock beats Scissors beats Paper beats Rock beats Lizard beats Paper beats Spock.\n",
      "105. Spock beats Scissors beats Paper beats Rock beats Lizard beats Paper beats Spock beats Rock beats Scissors beats Lizard beats Spock.\n",
      "106. Spock beats Scissors beats Paper beats Rock beats Lizard beats Spock beats Rock beats Scissors beats Lizard beats Paper beats Spock.\n",
      "107. Spock beats Scissors beats Paper beats Rock beats Scissors beats Lizard beats Paper beats Spock beats Rock beats Lizard beats Spock.\n",
      "108. Spock beats Scissors beats Paper beats Rock beats Scissors beats Lizard beats Spock beats Rock beats Lizard beats Paper beats Spock.\n",
      "109. Spock beats Scissors beats Paper beats Spock beats Rock beats Lizard beats Paper beats Rock beats Scissors beats Lizard beats Spock.\n",
      "110. Spock beats Scissors beats Paper beats Spock beats Rock beats Scissors beats Lizard beats Paper beats Rock beats Lizard beats Spock.\n"
     ]
    }
   ],
   "source": [
    "i = 1\n",
    "for element in [\"Rock\",\"Scissors\",\"Paper\",\"Lizard\",\"Spock\"]:\n",
    "    for description in generate_descriptions(element, element, element, {\n",
    "        (\"Rock\",\"Scissors\"),(\"Rock\",\"Lizard\"),\n",
    "        (\"Scissors\",\"Paper\"),(\"Scissors\",\"Lizard\"),\n",
    "        (\"Paper\",\"Rock\"),(\"Paper\",\"Spock\"),\n",
    "        (\"Lizard\",\"Spock\"),(\"Lizard\",\"Paper\"),\n",
    "        (\"Spock\",\"Rock\"),(\"Spock\",\"Scissors\")}):\n",
    "        print(f\"{i}. {description}\")\n",
    "        i += 1"
   ]
  },
  {
   "cell_type": "code",
   "execution_count": null,
   "id": "d479801c-cfd9-49d6-814a-b9f6ad18f912",
   "metadata": {},
   "outputs": [],
   "source": []
  }
 ],
 "metadata": {
  "kernelspec": {
   "display_name": "SageMath 10.3",
   "language": "sage",
   "name": "sagemath-10.3"
  },
  "language_info": {
   "codemirror_mode": {
    "name": "ipython",
    "version": 3
   },
   "file_extension": ".py",
   "mimetype": "text/x-python",
   "name": "python",
   "nbconvert_exporter": "python",
   "pygments_lexer": "ipython3",
   "version": "3.11.8"
  }
 },
 "nbformat": 4,
 "nbformat_minor": 5
}
