{
 "cells": [
  {
   "cell_type": "markdown",
   "id": "1a8ebce6-7753-4dd0-8915-76fecfe511e7",
   "metadata": {},
   "source": [
    "[2024-10-04 Fiddler](https://thefiddler.substack.com/p/how-many-dice-can-you-roll-the-same)\n",
    "===================="
   ]
  },
  {
   "cell_type": "markdown",
   "id": "a9e8db85-42e9-4837-bdf5-345cdad1de9c",
   "metadata": {},
   "source": [
    "It's not specified anywhere, so I'll assume that the dice are 6-sided.\n",
    "\n",
    "The question seems ambiguous.  I can see three interpretations.\n",
    "\n",
    "The obviously wrong interpretation has an easy answer.  The total number of dice set aside per player\n",
    "per game on average will be 3, or, for the extra credit, 10 or $N$.\n",
    "\n",
    "The second interpretation is the number of dice set aside from the first roll on average.\n",
    "This is one roll per player per game.\n",
    "\n",
    "The third interpretation is the average number of dice set aside per roll from each roll in the game,\n",
    "including the first roll.\n",
    "\n",
    "The wording seems to seems to imply the second interpretation.  Also, the first and third interpretations\n",
    "can only be calculated for the winning player if the losing players stop rolling once they lose.  (For the\n",
    "second interpretation, a very slow losing player might lose before setting aside the dice from the first\n",
    "roll, and thus not contribute to the average.)"
   ]
  },
  {
   "cell_type": "markdown",
   "id": "4e264be7-52c3-4cb9-8961-ab7f347cf58f",
   "metadata": {},
   "source": [
    "Simulation\n",
    "----------\n",
    "To get a sense of what the answers should be, run some [simulations](20241004.go), calculating both\n",
    "the average number of dice set aside from the first roll of a game and the average number of dice\n",
    "set aside per roll from every roll.\n",
    "\n",
    "    $ go run 20241004.go\n",
    "    3: 1.472164 0.359562\n",
    "    10: 3.445436 0.651536\n",
    "    25: 6.899469 1.208623\n",
    "    50: 12.143944 2.026984\n",
    "    100: 21.998333 3.496237"
   ]
  },
  {
   "cell_type": "markdown",
   "id": "a58b8d3c-4e0b-47c1-b8de-fb6b8eb88b8a",
   "metadata": {},
   "source": [
    "Fiddler\n",
    "-------"
   ]
  },
  {
   "cell_type": "markdown",
   "id": "c26b4c7d-5a09-42fb-8f1a-29ac074f189c",
   "metadata": {},
   "source": [
    "The probability of rolling 3 of the same number is $1/36$.  The probability of rolling 3 different\n",
    "numbers is $20/36$, so the probability of rolling 2 of one number and 1 of a different number is\n",
    "$15/36$.  That means the average number of dice set aside from the first roll is"
   ]
  },
  {
   "cell_type": "code",
   "execution_count": 1,
   "id": "2998ca30-1a5d-4a73-8beb-406871a96cf0",
   "metadata": {},
   "outputs": [
    {
     "data": {
      "text/plain": [
       "(53/36, 1.47222222222222)"
      ]
     },
     "execution_count": 1,
     "metadata": {},
     "output_type": "execute_result"
    }
   ],
   "source": [
    "x = 3*1/36 + 2*15/36 + 1*20/36\n",
    "(x,numerical_approx(x))"
   ]
  },
  {
   "cell_type": "markdown",
   "id": "0cee00e7-0d11-49a6-b345-62e1120afeec",
   "metadata": {},
   "source": [
    "which agrees with the result of the simulations."
   ]
  },
  {
   "cell_type": "markdown",
   "id": "365ab801-a7cb-4a36-9447-4b5b6b8ba248",
   "metadata": {},
   "source": [
    "When there is 1 die left, the average number of rolls is $6$.\n",
    "\n",
    "When there are 2 dice left, the probability of setting aside 2 dice in a roll is $1/36$.  The\n",
    "probability of setting aside 1 die is $10/36$.  The probability of setting aside none is $25/36$,\n",
    "so the average number of rolls is"
   ]
  },
  {
   "cell_type": "code",
   "execution_count": 2,
   "id": "f269f41c-f61b-46e0-8019-f72655dae164",
   "metadata": {},
   "outputs": [
    {
     "data": {
      "text/plain": [
       "[x == (96/11)]"
      ]
     },
     "execution_count": 2,
     "metadata": {},
     "output_type": "execute_result"
    }
   ],
   "source": [
    "x = var('x')\n",
    "solve(x == 1 + 0*1/36 + 6*10/36 + x*25/36, x)"
   ]
  },
  {
   "cell_type": "markdown",
   "id": "c1946bfe-c71b-4be6-957d-957c8497116f",
   "metadata": {},
   "source": [
    "The overall average number of rolls is then"
   ]
  },
  {
   "cell_type": "code",
   "execution_count": 3,
   "id": "4d761413-5a1e-465f-bf8d-b9a63074cef7",
   "metadata": {},
   "outputs": [
    {
     "data": {
      "text/plain": [
       "551/66"
      ]
     },
     "execution_count": 3,
     "metadata": {},
     "output_type": "execute_result"
    }
   ],
   "source": [
    "1*1/36 + (1 + 6)*15/36 + (1 + 96/11)*20/36"
   ]
  },
  {
   "cell_type": "markdown",
   "id": "af9a7251-40f1-4f00-941a-1a6da6b14ec9",
   "metadata": {},
   "source": [
    "So the overall average number of dice set aside per roll is"
   ]
  },
  {
   "cell_type": "code",
   "execution_count": 4,
   "id": "c4151beb-488d-44cc-99c9-7ff0abc549fe",
   "metadata": {},
   "outputs": [
    {
     "data": {
      "text/plain": [
       "(198/551, 0.359346642468240)"
      ]
     },
     "execution_count": 4,
     "metadata": {},
     "output_type": "execute_result"
    }
   ],
   "source": [
    "x = 3/(551/66)\n",
    "(x,numerical_approx(x))"
   ]
  },
  {
   "cell_type": "markdown",
   "id": "8efccd83-d043-48de-a141-5509f507aa53",
   "metadata": {},
   "source": [
    "which agrees with the result of the simulations."
   ]
  },
  {
   "cell_type": "markdown",
   "id": "13b58ed3-88c0-4085-a9da-35154a0ae4b4",
   "metadata": {},
   "source": [
    "Extra credit\n",
    "------------"
   ]
  },
  {
   "cell_type": "markdown",
   "id": "92540dd6-7801-4ca9-a743-a88014dff453",
   "metadata": {},
   "source": [
    "Let $P(N,n,k)$ be the probability that the result rolling $N$ dice has $k$ groups of\n",
    "$n$ dice with the same number, and all groups of dice with any other numbers are smaller\n",
    "than $n$.\n",
    "\n",
    "The average number of dice set aside from the first roll is\n",
    "$\\sum_{n=1}^{N} \\sum_{k=1}^{6} nP(N,n,k)$.\n",
    "\n",
    "Let $R(n)$ be the average number of rolls to set aside $n$ dice after the target is set.\n",
    "\n",
    "The average number of dice set aside per roll is\n",
    "$N/\\sum_{n=1}^{N} \\sum_{k=1}^{6} (1+R(N-n))P(N,n,k)$."
   ]
  },
  {
   "cell_type": "markdown",
   "id": "2287a973-da48-4c96-ae3f-4df39e9c37ce",
   "metadata": {},
   "source": [
    "#### Consider $N=10$\n",
    "To get a better sense of how to approach the general case, consider $N=10$."
   ]
  },
  {
   "cell_type": "markdown",
   "id": "c2d6332b-bff2-410e-98d2-8a850ed8e1b9",
   "metadata": {},
   "source": [
    "Define `nbinomial` and `dbinomial` as `binomial` to distinguish between considering\n",
    "combinations of numbers and combinations of dice."
   ]
  },
  {
   "cell_type": "code",
   "execution_count": 5,
   "id": "295a76ea-88e9-4aae-9fe4-5c933a65b784",
   "metadata": {},
   "outputs": [],
   "source": [
    "nbinomial = binomial\n",
    "dbinomial = binomial"
   ]
  },
  {
   "cell_type": "markdown",
   "id": "7c6a11fa-8856-4b73-93ac-8ac275ecaa5c",
   "metadata": {},
   "source": [
    "The probabilities of setting aside 6, 7, 8, 9, and 10 from the first roll are"
   ]
  },
  {
   "cell_type": "code",
   "execution_count": 6,
   "id": "dac8babb-dda8-4fd0-9bc8-5e7105392102",
   "metadata": {},
   "outputs": [
    {
     "data": {
      "text/plain": [
       "[(1/10077696, 9.92290301275212e-8),\n",
       " (25/5038848, 4.96145150637606e-6),\n",
       " (125/1119744, 0.000111632658893461),\n",
       " (625/419904, 0.00148843545191282),\n",
       " (21875/1679616, 0.0130238102042372)]"
      ]
     },
     "execution_count": 6,
     "metadata": {},
     "output_type": "execute_result"
    }
   ],
   "source": [
    "p10 = nbinomial(6,1)*(1/6)^10*dbinomial(10,10)\n",
    "p9 = nbinomial(6,1)*(1/6)^9*dbinomial(10,9)*(5/6)\n",
    "p8 = nbinomial(6,1)*(1/6)^8*dbinomial(10,8)*(5/6)^2\n",
    "p7 = nbinomial(6,1)*(1/6)^7*dbinomial(10,7)*(5/6)^3\n",
    "p6 = nbinomial(6,1)*(1/6)^6*dbinomial(10,6)*(5/6)^4\n",
    "[(p,numerical_approx(p)) for p in [p10,p9,p8,p7,p6]]"
   ]
  },
  {
   "cell_type": "markdown",
   "id": "493ffe94-a517-4dbe-bc8f-d9bdf078d556",
   "metadata": {},
   "source": [
    "The probability of rolling 5 of one number and 5 of another number is"
   ]
  },
  {
   "cell_type": "code",
   "execution_count": 7,
   "id": "50a0d3ba-bbd0-4a56-93c8-af7cacfdacf1",
   "metadata": {},
   "outputs": [
    {
     "data": {
      "text/plain": [
       "(35/559872, 0.0000625142889803384)"
      ]
     },
     "execution_count": 7,
     "metadata": {},
     "output_type": "execute_result"
    }
   ],
   "source": [
    "p5_2 = nbinomial(6,2)*(1/6)^10*dbinomial(10,5)\n",
    "(p5_2,numerical_approx(p5_2))"
   ]
  },
  {
   "cell_type": "markdown",
   "id": "aec01db2-a2f9-4411-8f5b-ebf43f8eba19",
   "metadata": {},
   "source": [
    "The probability of rolling 5 of one number and less than 5 of every other number is"
   ]
  },
  {
   "cell_type": "code",
   "execution_count": 8,
   "id": "45bf181d-5d55-479c-87bd-511a33725959",
   "metadata": {},
   "outputs": [
    {
     "data": {
      "text/plain": [
       "(455/5832, 0.0780178326474623)"
      ]
     },
     "execution_count": 8,
     "metadata": {},
     "output_type": "execute_result"
    }
   ],
   "source": [
    "p5_1 = nbinomial(6,1)*(1/6)^5*dbinomial(10,5)*((5/6)^5 - (1/6)^5*nbinomial(5,1))\n",
    "(p5_1, numerical_approx(p5_1))"
   ]
  },
  {
   "cell_type": "code",
   "execution_count": 9,
   "id": "81ba5265-005a-471d-a6ad-35439db48637",
   "metadata": {},
   "outputs": [
    {
     "data": {
      "text/plain": [
       "(43715/559872, 0.0780803469364426)"
      ]
     },
     "execution_count": 9,
     "metadata": {},
     "output_type": "execute_result"
    }
   ],
   "source": [
    "p5 = p5_1+p5_2\n",
    "(p5, numerical_approx(p5))"
   ]
  },
  {
   "cell_type": "markdown",
   "id": "7f9cdf3f-9a18-47fa-8702-44372b84cbbf",
   "metadata": {},
   "source": [
    "The probability of rolling 4 of one number and 4 of another number is"
   ]
  },
  {
   "cell_type": "code",
   "execution_count": 10,
   "id": "e7603bb5-c8ac-4bb6-ab67-b086d9ddd66f",
   "metadata": {},
   "outputs": [
    {
     "data": {
      "text/plain": [
       "(875/69984, 0.0125028577960677)"
      ]
     },
     "execution_count": 10,
     "metadata": {},
     "output_type": "execute_result"
    }
   ],
   "source": [
    "p4_2 = nbinomial(6,2)*(1/6)^8*dbinomial(8,4)*(4/6)^2*dbinomial(10,2)\n",
    "(p4_2, numerical_approx(p4_2))"
   ]
  },
  {
   "cell_type": "markdown",
   "id": "db8a6498-ba6f-4a46-8d89-4e017ae9cdc7",
   "metadata": {},
   "source": [
    "The probability of rolling 4 of one number and less than 4 of any other number is"
   ]
  },
  {
   "cell_type": "code",
   "execution_count": 11,
   "id": "90f83f05-88a1-4d69-9abc-03ad61eb760c",
   "metadata": {},
   "outputs": [
    {
     "data": {
      "text/plain": [
       "(125125/419904, 0.297984777472946)"
      ]
     },
     "execution_count": 11,
     "metadata": {},
     "output_type": "execute_result"
    }
   ],
   "source": [
    "p4_1 = nbinomial(6,1)*(1/6)^4*dbinomial(10,4)*((5/6)^6\n",
    "            - (1/6)^6*nbinomial(5,1)\n",
    "            - (1/6)^5*nbinomial(5,1)*(4/6)*dbinomial(6,1)\n",
    "            - (1/6)^4*nbinomial(5,1)*(4/6)^2*dbinomial(6,2))\n",
    "(p4_1, numerical_approx(p4_1))"
   ]
  },
  {
   "cell_type": "code",
   "execution_count": 12,
   "id": "6e2b7c25-d56e-42d2-9912-eeef713da6e3",
   "metadata": {},
   "outputs": [
    {
     "data": {
      "text/plain": [
       "(130375/419904, 0.310487635269014)"
      ]
     },
     "execution_count": 12,
     "metadata": {},
     "output_type": "execute_result"
    }
   ],
   "source": [
    "p4 = p4_2 + p4_1\n",
    "(p4, numerical_approx(p4))"
   ]
  },
  {
   "cell_type": "markdown",
   "id": "87879068-505a-43ea-ac4d-81b3df5f7f1b",
   "metadata": {},
   "source": [
    "The probability of rolling 3 of three numbers and 1 of a fourth number is"
   ]
  },
  {
   "cell_type": "code",
   "execution_count": 13,
   "id": "00c377db-7958-4a69-a372-bb544d56476c",
   "metadata": {},
   "outputs": [
    {
     "data": {
      "text/plain": [
       "(875/52488, 0.0166704770614236)"
      ]
     },
     "execution_count": 13,
     "metadata": {},
     "output_type": "execute_result"
    }
   ],
   "source": [
    "p3_3_1 = nbinomial(6,3)*(1/6)^9*dbinomial(6,3)*dbinomial(9,3)*(3/6)*dbinomial(10,1)\n",
    "(p3_3_1,numerical_approx(p3_3_1))"
   ]
  },
  {
   "cell_type": "markdown",
   "id": "9e759a01-828e-4595-923f-0316d5859987",
   "metadata": {},
   "source": [
    "The probability of rolling 3 of two numbers and less than 3 of any other number is"
   ]
  },
  {
   "cell_type": "code",
   "execution_count": 14,
   "id": "f65e86f0-2a65-422d-a564-b93ede3dd7b3",
   "metadata": {},
   "outputs": [
    {
     "data": {
      "text/plain": [
       "(14875/69984, 0.212548582533150)"
      ]
     },
     "execution_count": 14,
     "metadata": {},
     "output_type": "execute_result"
    }
   ],
   "source": [
    "p3_2 = nbinomial(6,2)*(1/6)^6*dbinomial(6,3)*dbinomial(10,6)*((4/6)^4\n",
    "            - (1/6)^4*nbinomial(4,1)\n",
    "            - (1/6)^3*nbinomial(4,1)*(3/6)*dbinomial(4,1))\n",
    "(p3_2,numerical_approx(p3_2))"
   ]
  },
  {
   "cell_type": "markdown",
   "id": "3a860e09-00d5-44ab-b225-b28e8eeede0d",
   "metadata": {},
   "source": [
    "The probability of rolling 3 of one number and less than 3 of any other number is"
   ]
  },
  {
   "cell_type": "code",
   "execution_count": 15,
   "id": "f6430ee9-6322-4c67-94cc-3a2681886f89",
   "metadata": {},
   "outputs": [
    {
     "data": {
      "text/plain": [
       "(875/2916, 0.300068587105624)"
      ]
     },
     "execution_count": 15,
     "metadata": {},
     "output_type": "execute_result"
    }
   ],
   "source": [
    "p3_1 = nbinomial(6,1)*(1/6)^3*dbinomial(10,3)*((5/6)^7\n",
    "            - (1/6)^7*nbinomial(5,1)\n",
    "            - (1/6)^6*nbinomial(5,1)*(4/6)*dbinomial(7,1)\n",
    "            - (1/6)^5*nbinomial(5,1)*(4/6)^2*dbinomial(7,2)\n",
    "            - (1/6)^4*nbinomial(5,1)*(4/6)^3*dbinomial(7,3)\n",
    "            - (1/6)^6*nbinomial(5,2)*dbinomial(6,3)*(3/6)*dbinomial(7,1)\n",
    "            - (1/6)^3*nbinomial(5,1)*((4/6)^4\n",
    "                        - (1/6)^4*nbinomial(4,1)\n",
    "                        - (1/6)^3*nbinomial(4,1)*(3/6)*dbinomial(4,1))*dbinomial(7,4))\n",
    "(p3_1,numerical_approx(p3_1))"
   ]
  },
  {
   "cell_type": "code",
   "execution_count": 16,
   "id": "32c2bc86-63f7-4327-bee4-096369e1deb1",
   "metadata": {},
   "outputs": [
    {
     "data": {
      "text/plain": [
       "(111125/209952, 0.529287646700198)"
      ]
     },
     "execution_count": 16,
     "metadata": {},
     "output_type": "execute_result"
    }
   ],
   "source": [
    "p3 = p3_3_1 + p3_2 + p3_1\n",
    "(p3,numerical_approx(p3))"
   ]
  },
  {
   "cell_type": "markdown",
   "id": "0a58f3c9-7dc2-4c09-9186-dcac4a5ae3d9",
   "metadata": {},
   "source": [
    "The probability of rolling 2 of five numbers is"
   ]
  },
  {
   "cell_type": "code",
   "execution_count": 17,
   "id": "85feb470-d7d2-433b-ab02-99e0db94bc78",
   "metadata": {},
   "outputs": [
    {
     "data": {
      "text/plain": [
       "(175/15552, 0.0112525720164609)"
      ]
     },
     "execution_count": 17,
     "metadata": {},
     "output_type": "execute_result"
    }
   ],
   "source": [
    "p2_5 = nbinomial(6,5)*(1/6)^10*dbinomial(4,2)*dbinomial(6,2)*dbinomial(8,2)*dbinomial(10,2)\n",
    "(p2_5,numerical_approx(p2_5))"
   ]
  },
  {
   "cell_type": "markdown",
   "id": "3ee65a17-642a-4c9f-9f0e-46473540145a",
   "metadata": {},
   "source": [
    "The probability of rolling 2 of four numbers and 1 of each of the other two numbers is"
   ]
  },
  {
   "cell_type": "code",
   "execution_count": 18,
   "id": "39113930-006a-4c5f-9d7e-882a267a3498",
   "metadata": {},
   "outputs": [
    {
     "data": {
      "text/plain": [
       "(875/15552, 0.0562628600823045)"
      ]
     },
     "execution_count": 18,
     "metadata": {},
     "output_type": "execute_result"
    }
   ],
   "source": [
    "p2_4_2 = nbinomial(6,4)*(1/6)^8*dbinomial(4,2)*dbinomial(6,2)*dbinomial(8,2)*(2/6)*(1/6)*dbinomial(10,2)\n",
    "(p2_4_2,numerical_approx(p2_4_2))"
   ]
  },
  {
   "cell_type": "code",
   "execution_count": 19,
   "id": "ba031fca-e14f-4d86-9460-5d6cc3e86cb7",
   "metadata": {},
   "outputs": [
    {
     "data": {
      "text/plain": [
       "(175/2592, 0.0675154320987654)"
      ]
     },
     "execution_count": 19,
     "metadata": {},
     "output_type": "execute_result"
    }
   ],
   "source": [
    "p2 = p2_5 + p2_4_2\n",
    "(p2,numerical_approx(p2))"
   ]
  },
  {
   "cell_type": "code",
   "execution_count": 20,
   "id": "06a620e5-aacd-45ff-a7ff-800f3c7cad2c",
   "metadata": {},
   "outputs": [
    {
     "data": {
      "text/plain": [
       "1"
      ]
     },
     "execution_count": 20,
     "metadata": {},
     "output_type": "execute_result"
    }
   ],
   "source": [
    "p2 + p3 + p4 + p5 + p6 + p7 + p8 + p9 + p10"
   ]
  },
  {
   "cell_type": "markdown",
   "id": "da87a7d3-01b5-42c0-8ab8-f70ddae9ca03",
   "metadata": {},
   "source": [
    "The average number of dice set aside from the first roll of 10 dice is"
   ]
  },
  {
   "cell_type": "code",
   "execution_count": 21,
   "id": "9f39a01b-a1b2-4127-b410-975d037f1f30",
   "metadata": {},
   "outputs": [
    {
     "data": {
      "text/plain": [
       "(17357555/5038848, 3.44474669607021)"
      ]
     },
     "execution_count": 21,
     "metadata": {},
     "output_type": "execute_result"
    }
   ],
   "source": [
    "x = 2*p2 + 3*p3 + 4*p4 + 5*p5 + 6*p6 + 7*p7 + 8*p8 + 9*p9 + 10*p10\n",
    "(x,numerical_approx(x))"
   ]
  },
  {
   "cell_type": "markdown",
   "id": "c2b54e35-2e68-4bcb-8b95-811b0b323c7a",
   "metadata": {},
   "source": [
    "which agrees with the results of the simulations."
   ]
  },
  {
   "cell_type": "markdown",
   "id": "f81bb3c8-954b-4322-90a4-cc9b913a5d44",
   "metadata": {},
   "source": [
    "#### Calculating $R$"
   ]
  },
  {
   "cell_type": "code",
   "execution_count": 22,
   "id": "dfeb78fb-f90e-44bc-b4df-c8bad60200ed",
   "metadata": {},
   "outputs": [],
   "source": [
    "from functools import cache\n",
    "\n",
    "@cache\n",
    "def R_recursive(n):\n",
    "    if n == 0:\n",
    "        return 0\n",
    "    denominator = 1 - (5/6)^n*binomial(n,0)\n",
    "    numerator = 1 + sum([R_recursive(n-k)*((1/6)^k*(5/6)^(n-k)*binomial(n,k)) for k in [1..n]])\n",
    "    return numerator/denominator"
   ]
  },
  {
   "cell_type": "code",
   "execution_count": 23,
   "id": "793ca847-d5fa-49b1-accd-3e44d03112e8",
   "metadata": {},
   "outputs": [],
   "source": [
    "k = var('k')\n",
    "R(n) = sum(binomial(n,k)*(-1)^(k+1)/(1-(5/6)^k),k,1,n)"
   ]
  },
  {
   "cell_type": "code",
   "execution_count": 24,
   "id": "1c70d81e-fb3e-4226-a63a-8513b9547dd4",
   "metadata": {},
   "outputs": [
    {
     "data": {
      "text/plain": [
       "[(0, 6),\n",
       " (0, 96/11),\n",
       " (0, 10566/1001),\n",
       " (0, 728256/61061),\n",
       " (0, 3698650986/283994711),\n",
       " (0, 9438928992/677218157),\n",
       " (0, 3736509841479198/253815850752893),\n",
       " (0, 7512121341839614848/487580249296307453),\n",
       " (0, 443684776375651380574086/27701960514724125452641),\n",
       " (0, 5002237679837182013478909216/301979071571007691559239541)]"
      ]
     },
     "execution_count": 24,
     "metadata": {},
     "output_type": "execute_result"
    }
   ],
   "source": [
    "[(R_recursive(k) - R(k).simplify(),R(k).simplify()) for k in [1..10]]"
   ]
  },
  {
   "cell_type": "markdown",
   "id": "595857d5-acbc-414a-a102-428b5ee475da",
   "metadata": {},
   "source": [
    "And the average number of dice set aside per roll for $N=10$ is"
   ]
  },
  {
   "cell_type": "code",
   "execution_count": 25,
   "id": "b5b41a8a-b943-41b9-86c5-b5c96aa2104c",
   "metadata": {},
   "outputs": [
    {
     "data": {
      "text/plain": [
       "(447861962188630247878620/687400143797944474874777, 0.651530213121799)"
      ]
     },
     "execution_count": 25,
     "metadata": {},
     "output_type": "execute_result"
    }
   ],
   "source": [
    "x = (10/((1+R(8))*p2 + (1+R(7))*p3 + (1+R(6))*p4 + (1+R(5))*p5 + (1+R(4))*p6\n",
    "        + (1+R(3))*p7 + (1+R(2))*p8 + (1+R(1))*p9 + (1+R(0))*p10)).simplify()\n",
    "(x,numerical_approx(x))"
   ]
  },
  {
   "cell_type": "markdown",
   "id": "37e2a5ec-42b9-4ab9-b7a9-e8304ad5edb4",
   "metadata": {},
   "source": [
    "which agrees with the results of the simulations."
   ]
  },
  {
   "cell_type": "markdown",
   "id": "3997b160-acf4-4aca-95b8-76379ee8e029",
   "metadata": {},
   "source": [
    "### General case"
   ]
  },
  {
   "cell_type": "markdown",
   "id": "d91f28cf-9d64-4df3-a13c-8484a1521a98",
   "metadata": {},
   "source": [
    "... I may come back to this some day ..."
   ]
  },
  {
   "cell_type": "code",
   "execution_count": 26,
   "id": "165b4a25-e9db-4ecf-8e84-8ce83d9fd171",
   "metadata": {},
   "outputs": [
    {
     "data": {
      "text/html": [
       "<html>\\(\\displaystyle \\left( N, n, k \\right) \\ {\\mapsto} \\ \\left(\\frac{1}{6}\\right)^{k n} {\\left(-\\frac{1}{6} \\, k + 1\\right)}^{-k n + N} \\binom{6}{k} \\max\\left(0, -\\left \\lceil \\frac{k n}{N} \\right \\rceil + 2\\right) {\\prod_{j=1}^{k} \\binom{-{\\left(j - 1\\right)} n + N}{n}}\\)</html>"
      ],
      "text/latex": [
       "$\\displaystyle \\left( N, n, k \\right) \\ {\\mapsto} \\ \\left(\\frac{1}{6}\\right)^{k n} {\\left(-\\frac{1}{6} \\, k + 1\\right)}^{-k n + N} \\binom{6}{k} \\max\\left(0, -\\left \\lceil \\frac{k n}{N} \\right \\rceil + 2\\right) {\\prod_{j=1}^{k} \\binom{-{\\left(j - 1\\right)} n + N}{n}}$"
      ],
      "text/plain": [
       "(N, n, k) |--> (1/6)^(k*n)*(-1/6*k + 1)^(-k*n + N)*binomial(6, k)*max(0, -ceil(k*n/N) + 2)*product(binomial(-(j - 1)*n + N, n), j, 1, k)"
      ]
     },
     "metadata": {},
     "output_type": "display_data"
    }
   ],
   "source": [
    "j,k,m = var('j,k,m')\n",
    "P(N,n,k) = max_symbolic(0,2-ceil(k*n/N))*binomial(6,k)*(1/6)^(k*n)*product(binomial(N-(j-1)*n,n),j,1,k)*(\n",
    "    (1-k/6)^(N-k*n) - sum(0,j,n,N-k*n)) # TODO: put the probability of group of size j (out of N-k*n) in the sum\n",
    "    # TODO: support N=multiple of 6: fix division by zero for k=6 (P(N,n,k) = 0 unless n = N/6)\n",
    "show(P)"
   ]
  },
  {
   "cell_type": "code",
   "execution_count": 27,
   "id": "ddbff2f1-fcfe-4854-8787-3e4a0481c7f6",
   "metadata": {},
   "outputs": [],
   "source": [
    "def check(N,n,k,p):\n",
    "    pp = P(N,n,k).simplify()\n",
    "    if pp != p:\n",
    "        print(f\"P({N},{n},{k})={pp}, should be {p}\")"
   ]
  },
  {
   "cell_type": "code",
   "execution_count": 28,
   "id": "2408f738-b04c-430e-85b5-4c6cd5824057",
   "metadata": {},
   "outputs": [
    {
     "name": "stdout",
     "output_type": "stream",
     "text": [
      "P(3,1,1)=25/12, should be 0\n",
      "P(3,1,2)=5/3, should be 0\n"
     ]
    }
   ],
   "source": [
    "check(3,1,1,0)\n",
    "check(3,1,2,0)\n",
    "check(3,1,3,20/36)\n",
    "check(3,1,4,0)\n",
    "check(3,1,5,0)\n",
    "check(3,2,1,15/36)\n",
    "check(3,2,2,0)\n",
    "check(3,2,3,0)\n",
    "check(3,2,4,0)\n",
    "check(3,2,5,0)\n",
    "check(3,3,1,1/36)\n",
    "check(3,3,2,0)\n",
    "check(3,3,3,0)\n",
    "check(3,3,4,0)\n",
    "check(3,3,5,0)"
   ]
  },
  {
   "cell_type": "code",
   "execution_count": 29,
   "id": "14b23e1d-9730-4400-b357-668d8eae19d5",
   "metadata": {},
   "outputs": [
    {
     "name": "stdout",
     "output_type": "stream",
     "text": [
      "P(10,1,1)=9765625/5038848, should be 0\n",
      "P(10,1,2)=3200/2187, should be 0\n",
      "P(10,1,3)=25/48, should be 0\n",
      "P(10,1,4)=175/2187, should be 0\n",
      "P(10,1,5)=35/11664, should be 0\n",
      "P(10,2,1)=1953125/1119744, should be 0\n",
      "P(10,2,2)=2800/2187, should be 0\n",
      "P(10,2,3)=875/1728, should be 0\n",
      "P(10,2,4)=875/7776, should be 875/15552\n",
      "P(10,3,1)=390625/419904, should be 875/2916\n",
      "P(10,3,2)=1750/6561, should be 14875/69984\n",
      "P(10,4,1)=546875/1679616, should be 125125/419904\n",
      "P(10,5,1)=21875/279936, should be 455/5832\n"
     ]
    }
   ],
   "source": [
    "check(10,1,1,0)\n",
    "check(10,1,2,0)\n",
    "check(10,1,3,0)\n",
    "check(10,1,4,0)\n",
    "check(10,1,5,0)\n",
    "check(10,2,1,0)\n",
    "check(10,2,2,0)\n",
    "check(10,2,3,0)\n",
    "check(10,2,4,p2_4_2)\n",
    "check(10,2,5,p2_5)\n",
    "check(10,3,1,p3_1)\n",
    "check(10,3,2,p3_2)\n",
    "check(10,3,3,p3_3_1)\n",
    "check(10,3,4,0)\n",
    "check(10,3,5,0)\n",
    "check(10,4,1,p4_1)\n",
    "check(10,4,2,p4_2)\n",
    "check(10,4,3,0)\n",
    "check(10,4,4,0)\n",
    "check(10,4,5,0)\n",
    "check(10,5,1,p5_1)\n",
    "check(10,5,2,p5_2)\n",
    "check(10,5,3,0)\n",
    "check(10,5,4,0)\n",
    "check(10,5,5,0)\n",
    "check(10,6,1,p6)\n",
    "check(10,6,2,0)\n",
    "check(10,6,3,0)\n",
    "check(10,6,4,0)\n",
    "check(10,6,5,0)\n",
    "check(10,7,1,p7)\n",
    "check(10,7,2,0)\n",
    "check(10,7,3,0)\n",
    "check(10,7,4,0)\n",
    "check(10,7,5,0)\n",
    "check(10,8,1,p8)\n",
    "check(10,8,2,0)\n",
    "check(10,8,3,0)\n",
    "check(10,8,4,0)\n",
    "check(10,8,5,0)\n",
    "check(10,9,1,p9)\n",
    "check(10,9,2,0)\n",
    "check(10,9,3,0)\n",
    "check(10,9,4,0)\n",
    "check(10,9,5,0)\n",
    "check(10,10,1,p10)\n",
    "check(10,10,2,0)\n",
    "check(10,10,3,0)\n",
    "check(10,10,4,0)\n",
    "check(10,10,5,0)"
   ]
  },
  {
   "cell_type": "code",
   "execution_count": 30,
   "id": "63d05c84-a88f-4de1-a963-cf2f1c2e4ee0",
   "metadata": {},
   "outputs": [],
   "source": [
    "# TODO: support N = multiple of 6\n",
    "from_first_roll(N) = sum(sum(n*P(N,n,k),k,1,5),n,1,N)\n",
    "from_all_rolls(N) = N/sum((1+R(N-n))*sum(P(N,n,k),k,1,5),n,1,N)"
   ]
  },
  {
   "cell_type": "code",
   "execution_count": 31,
   "id": "8db165d6-0e6e-48de-8810-49df04879f8d",
   "metadata": {},
   "outputs": [],
   "source": [
    "def check_calculations(N, first, all):\n",
    "    print(f\"{sum(sum(P(N,n,k,),k,1,5),n,1,N).simplify()} should be 1\") # TODO: k should go from 1 to 6\n",
    "    x = from_first_roll(N).simplify()\n",
    "    print(f\"{(x,numerical_approx(x))} should be {first}\")\n",
    "    x = from_all_rolls(N).simplify()\n",
    "    print(f\"{(x,numerical_approx(x))} should be {all}\")"
   ]
  },
  {
   "cell_type": "code",
   "execution_count": 32,
   "id": "b1e0495c-8cfa-4662-b93b-c820bd3e9867",
   "metadata": {},
   "outputs": [
    {
     "name": "stdout",
     "output_type": "stream",
     "text": [
      "19/4 should be 1\n",
      "(47/9, 5.22222222222222) should be 53/36\n",
      "(396/5917, 0.0669258069967889) should be 198/551\n",
      "93767021/10077696 should be 1\n",
      "(348125/20736, 16.7884355709877) should be 17357555/5038848\n",
      "(4386987576264751231361946209280/67353074275959464046596099678413, 0.0651341846444953) should be 447861962188630247878620/687400143797944474874777\n",
      "4476495500696238319/526486815369068544 should be 1\n",
      "(1740035335430790475/49358138940850176, 35.2532606125206) should be 6.89946900000000\n",
      "(4460633965968188493970231707102423981633052718274246556429044631540480825791204063997931887953703426381011015993825109298195522651422370498588452465348391731200/32525776167093049094629290818788359489421620971276936790379031803785016489767800746847423269043709964764268118445664574985515696079610463188862464979071526356483, 0.137141507186571) should be 1.20862300000000\n",
      "1037918955720128820066822827491409150671/134713546244127343440523266742756048896 should be 1\n",
      "(717609942951088286812065452111231048225/11226128853677278620043605561896337408, 63.9231877973701) should be 12.1439440000000\n",
      "(26461169925591546364962547020136273101354554436805422994917005236195323993742750598648453480662974537987429612822705422412325754496354034762775322384723541868208320546200842386614487981998973219063942821268715206458148095939975652122853988510698992368676449651447757116399617366145843904218853758977733197358276556835421707156881014775416528424808642044103800558553482892655307005287985802568201328230793969749188308289329257077770152710265647636787306108549294900935937538410723910861183568296716219313345557857034764018383504953266069667867932166388367629058047611722244567895596719371859936834850762635713444574760062156800/102685450092424431530994897909442319598744725885547111541500753440822599825389289932801491998262634361425782315089885397283014235505147435989334919248150442039758804550017453967176229266207696330703626510106746419553899290951757064524311609817968825371117483841940432530506815797349167205476857893347981600359275657476443454178897515234677602753921395958654020752412885089738727573401459998617472449864363180144898264537358614505742505508190271981876487574094462302217699846997886646991245504740853841288865396602314206828009042339793289883385407572954423963248728392383589049041918810687490684096566019736103834811827602945631, 0.257691522039145) should be 2.02698400000000\n",
      "778926316508648473736785199293133370208077786903127267690943334687218034870751/108886437250011817682781711193009636756190618412159145257178661061582856912896 should be 1\n",
      "(180014551738941420166727326259879238118211430698625169609919030924475293318075/1512311628472386356705301544347356066058203033502210350794148070299761901568, 119.032710156952) should be 21.9983330000000\n",
      "(123086396329706721884646532949511440529853621464494470315587246327573802986593430430540912847383841074421512241407143271877971248385596713942611679239346305786282598876418603941618379367651009451254487659464303766504778016582843395374137392176701227005153086389577817498937502593902831871991229986883705925459988366356535266821441942404376551294267999815139513187643797104618126289888445085545056511741246162581798012241953651041483030362379394410397441036635090388341851741770789950145264133122743123853224801976200778946645476772044028970843650533737730113245257751644017900783134686514129651601668845037839647764477280750045346258443537862237350471391569375914567315206623052899763210485842179743468132365192627005860969057720268914344406413307975260193096663697234202994147477541317507190559074319313009289949317873286616849637557364025898031825007090606445757148040437919053052666140303850024662677700602555612840065284419954228897714442472792946558695882023498255603790909203554928772601631913276860078241000284443138019598430220296053130453348349578876866096658330161905654000130733387359848734582241797577329544150827370978717642862544470410352681589598609188151039488109222312898877223678504234473607624015637887582018403773049581286106764109901745604175360187125908739461246637307409144226554319133323770688701975977485650415019439295904945232823379113740904551402428119130301913715727319940937772638987162021388808890237791420086261706977545370922796566202145992849568220282422930385182576700595338516822448935615841452612367097986460533543231137417775665779030332102624984091346141364495039472580812008526515238494091827502479974662395458080242754665966429899236253578074422609691372087962032169551353957711594983887913832754508611418597501453215692313638285361317972959752502989644190480733375311054493474815353534728584411348660432634258499911659293047238279670376646912727323705918600495075784938386460546975907139552514127549662005207798533298736846599295377835232986500357664318290803358649898461986845002794203570474966188611791117307011622887310075633048145336511641872225968383303174170992223462856642249966572138558906549286131553166720600675457304180432095553055529408769079318387891592142740487615868815061730821634025110516974019889605496048546069051243042273076096831639102027942648730264549441825031316681968428325894724524241476642586179543174092425603315495469473752678400/254942967314018354064540468230779363351449494252166061612402257766844815988349934056821008970511691114349781192147015396007400062050390501291529919500082918912815684015302604625336187208064846866243907283449282633618072797796295395217391187746902754178576881608283686045598065774915822065757249855518434288662442095055718405700293789127806419782103386113369998021286617425212569952664976470670659567279318445832654775155728434535463207913311734911444333910121246961801981883948893780900027413283055387389962607202095187250716649221715873665940750883447941036002988432962513247353226350256505536131950147544735993605497520407174956612064189966373444859632711411449216025793645088367386442070026807135150324052881116406889436912900795739909374500884194223336113556918946172112278690047000424834570249556206029371178017258128459989171559223164477027158097360174508924770289362339014235387016896663546379732184976363330802011322410424085883851284657269955442240323734114811613530814012633685884722480993408295466408511395012934562675058485638094758754747901654292353247147972180812604331140079179209720644366929560453553005186842349778003101888718423898283825168097379829868783953255763144780506267458647290743703212878340956136605144839395925151874620310981039395608123228930643191688739202174082692746211146102833718809670217766248516483563757970831883931943497042031600980606240072203703384110275312603433441475711076418387117215417555394050103361650296283239169579900104457122116060540029088130617451108991958098581850963584382596808940885083095533485427279486658059268690043416635393228832523075705530515660721959100833051998338059941593359933792466582189511728699140598345992729547959379557008761611689942270907316819497939938783211650356242850973890966102048888851102052421847043190042078098383868298096478795043995293634579701268042762127338944965434766989865779902869174492853182530100934056457574551873982077989359338451667116585572064708104237423956751029374413883122868233929723968178844092285355640096641978856929481508498490040861543176209285347668211001677661269761494320685220552215885312941635535401648549781279034706468922073075219622403906153854833763005802524760639538003762541883501119326910657410837154576142214842546397180321051359782910896373393134568566862976293263788421357218766314442343829618101279762042998166959920513151975354660341958073842167139735636593423992579360678079, 0.482799732138125) should be 3.49623700000000\n"
     ]
    }
   ],
   "source": [
    "check_calculations(3, 53/36, 198/551)\n",
    "check_calculations(10, 17357555/5038848, 447861962188630247878620/687400143797944474874777)\n",
    "check_calculations(25, 6.899469, 1.208623)\n",
    "check_calculations(50, 12.143944, 2.026984)\n",
    "check_calculations(100, 21.998333, 3.496237)"
   ]
  },
  {
   "cell_type": "markdown",
   "id": "d764c0dc-059f-42f6-ab6d-e4562181282b",
   "metadata": {},
   "source": [
    "Making the rounds\n",
    "-----------------"
   ]
  },
  {
   "cell_type": "markdown",
   "id": "dd9ee519-f00c-4351-a0eb-8bfd2ef38aed",
   "metadata": {},
   "source": [
    "### Arithmetic"
   ]
  },
  {
   "cell_type": "code",
   "execution_count": 33,
   "id": "ee983676-d4ea-4092-ab48-3587ddf218ac",
   "metadata": {},
   "outputs": [
    {
     "data": {
      "text/html": [
       "<html>\\(\\displaystyle \\left[a_{3} = -a_{1} + 2 \\, a_{2}\\right]\\)</html>"
      ],
      "text/latex": [
       "$\\displaystyle \\left[a_{3} = -a_{1} + 2 \\, a_{2}\\right]$"
      ],
      "text/plain": [
       "[a3 == -a1 + 2*a2]"
      ]
     },
     "execution_count": 33,
     "metadata": {},
     "output_type": "execute_result"
    }
   ],
   "source": [
    "%display latex\n",
    "a1,a2,a3 = var('a1,a2,a3')\n",
    "solve(a2 == (a1+a3)/2, a3)"
   ]
  },
  {
   "cell_type": "code",
   "execution_count": 34,
   "id": "0b7d7688-56ec-4148-bf2d-879e069f6ed8",
   "metadata": {},
   "outputs": [],
   "source": [
    "a(i) = a1 + (a2-a1)*i"
   ]
  },
  {
   "cell_type": "code",
   "execution_count": 35,
   "id": "72da6c37-f28a-438c-8f19-b2a9594899e8",
   "metadata": {},
   "outputs": [
    {
     "data": {
      "text/html": [
       "<html>\\(\\displaystyle -{\\left(a_{1} - a_{2}\\right)} i + a_{2} = -{\\left(a_{1} - a_{2}\\right)} i + a_{2}\\)</html>"
      ],
      "text/latex": [
       "$\\displaystyle -{\\left(a_{1} - a_{2}\\right)} i + a_{2} = -{\\left(a_{1} - a_{2}\\right)} i + a_{2}$"
      ],
      "text/plain": [
       "-(a1 - a2)*i + a2 == -(a1 - a2)*i + a2"
      ]
     },
     "execution_count": 35,
     "metadata": {},
     "output_type": "execute_result"
    }
   ],
   "source": [
    "(a(i+1) == (a(i)+a(i+2))/2).simplify_full()"
   ]
  },
  {
   "cell_type": "code",
   "execution_count": 36,
   "id": "258a2c2a-fad8-4b37-b3b9-56038b75c259",
   "metadata": {},
   "outputs": [
    {
     "data": {
      "text/html": [
       "<html>\\(\\displaystyle i \\ {\\mapsto}\\ -{\\left(a_{1} - a_{2}\\right)} i + a_{1}\\)</html>"
      ],
      "text/latex": [
       "$\\displaystyle i \\ {\\mapsto}\\ -{\\left(a_{1} - a_{2}\\right)} i + a_{1}$"
      ],
      "text/plain": [
       "i |--> -(a1 - a2)*i + a1"
      ]
     },
     "execution_count": 36,
     "metadata": {},
     "output_type": "execute_result"
    }
   ],
   "source": [
    "a"
   ]
  },
  {
   "cell_type": "markdown",
   "id": "ca801f2d-9df0-4794-a45f-dec83cf6cbf4",
   "metadata": {},
   "source": [
    "### Geometric"
   ]
  },
  {
   "cell_type": "code",
   "execution_count": 37,
   "id": "cf8a4db3-9fb0-43e5-87ce-cf3d8f75b257",
   "metadata": {},
   "outputs": [
    {
     "data": {
      "text/html": [
       "<html>\\(\\displaystyle \\left[g_{3} = \\frac{g_{2}^{2}}{g_{1}}\\right]\\)</html>"
      ],
      "text/latex": [
       "$\\displaystyle \\left[g_{3} = \\frac{g_{2}^{2}}{g_{1}}\\right]$"
      ],
      "text/plain": [
       "[g3 == g2^2/g1]"
      ]
     },
     "execution_count": 37,
     "metadata": {},
     "output_type": "execute_result"
    }
   ],
   "source": [
    "g1,g2,g3 = var('g1,g2,g3')\n",
    "assume(g2 > 0)\n",
    "solve(g2 == sqrt(g1*g3), g3)"
   ]
  },
  {
   "cell_type": "code",
   "execution_count": 38,
   "id": "1c97fc25-977d-4e3c-87c6-f8f2e2d212fd",
   "metadata": {},
   "outputs": [],
   "source": [
    "g(i) = g1*(g2/g1)^i"
   ]
  },
  {
   "cell_type": "code",
   "execution_count": 39,
   "id": "74d31f74-eb43-4ae0-baa4-8e05c51dfcf0",
   "metadata": {},
   "outputs": [
    {
     "data": {
      "text/html": [
       "<html>\\(\\displaystyle g_{2} \\left(\\frac{g_{2}}{g_{1}}\\right)^{i} = g_{2} \\left(\\frac{g_{2}}{g_{1}}\\right)^{i}\\)</html>"
      ],
      "text/latex": [
       "$\\displaystyle g_{2} \\left(\\frac{g_{2}}{g_{1}}\\right)^{i} = g_{2} \\left(\\frac{g_{2}}{g_{1}}\\right)^{i}$"
      ],
      "text/plain": [
       "g2*(g2/g1)^i == g2*(g2/g1)^i"
      ]
     },
     "execution_count": 39,
     "metadata": {},
     "output_type": "execute_result"
    }
   ],
   "source": [
    "assume(g1 > 0)\n",
    "(g(i+1) == sqrt(g(i)*g(i+2))).simplify_full()"
   ]
  },
  {
   "cell_type": "code",
   "execution_count": 40,
   "id": "7f8ad9b1-5474-4d2a-a69f-3423ead929fb",
   "metadata": {},
   "outputs": [
    {
     "data": {
      "text/html": [
       "<html>\\(\\displaystyle i \\ {\\mapsto}\\ g_{1} \\left(\\frac{g_{2}}{g_{1}}\\right)^{i}\\)</html>"
      ],
      "text/latex": [
       "$\\displaystyle i \\ {\\mapsto}\\ g_{1} \\left(\\frac{g_{2}}{g_{1}}\\right)^{i}$"
      ],
      "text/plain": [
       "i |--> g1*(g2/g1)^i"
      ]
     },
     "execution_count": 40,
     "metadata": {},
     "output_type": "execute_result"
    }
   ],
   "source": [
    "g"
   ]
  },
  {
   "cell_type": "markdown",
   "id": "72375147-1891-4966-bef6-cce85287bc34",
   "metadata": {},
   "source": [
    "### Quadratic"
   ]
  },
  {
   "cell_type": "code",
   "execution_count": 41,
   "id": "1e59ecdd-5365-491c-a903-6497b6049247",
   "metadata": {},
   "outputs": [
    {
     "data": {
      "text/html": [
       "<html>\\(\\displaystyle \\left[q_{3} = -\\sqrt{-q_{1}^{2} + 2 \\, q_{2}^{2}}, q_{3} = \\sqrt{-q_{1}^{2} + 2 \\, q_{2}^{2}}\\right]\\)</html>"
      ],
      "text/latex": [
       "$\\displaystyle \\left[q_{3} = -\\sqrt{-q_{1}^{2} + 2 \\, q_{2}^{2}}, q_{3} = \\sqrt{-q_{1}^{2} + 2 \\, q_{2}^{2}}\\right]$"
      ],
      "text/plain": [
       "[q3 == -sqrt(-q1^2 + 2*q2^2), q3 == sqrt(-q1^2 + 2*q2^2)]"
      ]
     },
     "execution_count": 41,
     "metadata": {},
     "output_type": "execute_result"
    }
   ],
   "source": [
    "q1,q2,q3 = var('q1,q2,q3')\n",
    "assume(q2 > 0)\n",
    "solve(q2 == sqrt((q1^2+q3^2)/2), q3)"
   ]
  },
  {
   "cell_type": "code",
   "execution_count": 42,
   "id": "7ad0ea76-2efc-4494-9293-c12db5ec18b3",
   "metadata": {},
   "outputs": [
    {
     "data": {
      "text/html": [
       "<html>\\(\\displaystyle \\sqrt{-2 \\, q_{1}^{2} + 3 \\, q_{2}^{2}}\\)</html>"
      ],
      "text/latex": [
       "$\\displaystyle \\sqrt{-2 \\, q_{1}^{2} + 3 \\, q_{2}^{2}}$"
      ],
      "text/plain": [
       "sqrt(-2*q1^2 + 3*q2^2)"
      ]
     },
     "execution_count": 42,
     "metadata": {},
     "output_type": "execute_result"
    }
   ],
   "source": [
    "sqrt(-q2^2 + 2*(-q1^2+2*q2^2))"
   ]
  },
  {
   "cell_type": "code",
   "execution_count": 43,
   "id": "4a95e6d1-9d99-41f5-b8db-cfb86eceb777",
   "metadata": {},
   "outputs": [
    {
     "data": {
      "text/html": [
       "<html>\\(\\displaystyle \\sqrt{-3 \\, q_{1}^{2} + 4 \\, q_{2}^{2}}\\)</html>"
      ],
      "text/latex": [
       "$\\displaystyle \\sqrt{-3 \\, q_{1}^{2} + 4 \\, q_{2}^{2}}$"
      ],
      "text/plain": [
       "sqrt(-3*q1^2 + 4*q2^2)"
      ]
     },
     "execution_count": 43,
     "metadata": {},
     "output_type": "execute_result"
    }
   ],
   "source": [
    "sqrt(-(-q1^2+2*q2^2)+2*(-2*q1^2+3*q2^2))"
   ]
  },
  {
   "cell_type": "code",
   "execution_count": 44,
   "id": "30111c04-c4aa-4df3-b765-305b48b6c406",
   "metadata": {},
   "outputs": [],
   "source": [
    "q(i) = sqrt(q2^2-i*(q1^2 - q2^2))"
   ]
  },
  {
   "cell_type": "code",
   "execution_count": 45,
   "id": "845934e0-8c4b-4944-a99c-0e391cece4d6",
   "metadata": {},
   "outputs": [
    {
     "data": {
      "text/html": [
       "<html>\\(\\displaystyle \\sqrt{-{\\left(i + 1\\right)} q_{1}^{2} + {\\left(i + 2\\right)} q_{2}^{2}} = \\sqrt{-{\\left(i + 1\\right)} q_{1}^{2} + {\\left(i + 2\\right)} q_{2}^{2}}\\)</html>"
      ],
      "text/latex": [
       "$\\displaystyle \\sqrt{-{\\left(i + 1\\right)} q_{1}^{2} + {\\left(i + 2\\right)} q_{2}^{2}} = \\sqrt{-{\\left(i + 1\\right)} q_{1}^{2} + {\\left(i + 2\\right)} q_{2}^{2}}$"
      ],
      "text/plain": [
       "sqrt(-(i + 1)*q1^2 + (i + 2)*q2^2) == sqrt(-(i + 1)*q1^2 + (i + 2)*q2^2)"
      ]
     },
     "execution_count": 45,
     "metadata": {},
     "output_type": "execute_result"
    }
   ],
   "source": [
    "(q(i+1) == sqrt((q(i)^2+q(i+2)^2)/2)).simplify_full()"
   ]
  },
  {
   "cell_type": "code",
   "execution_count": 46,
   "id": "5e13b052-020a-4c31-a7ac-dc531c0c4813",
   "metadata": {},
   "outputs": [
    {
     "data": {
      "text/html": [
       "<html>\\(\\displaystyle i \\ {\\mapsto}\\ \\sqrt{-{\\left(q_{1}^{2} - q_{2}^{2}\\right)} i + q_{2}^{2}}\\)</html>"
      ],
      "text/latex": [
       "$\\displaystyle i \\ {\\mapsto}\\ \\sqrt{-{\\left(q_{1}^{2} - q_{2}^{2}\\right)} i + q_{2}^{2}}$"
      ],
      "text/plain": [
       "i |--> sqrt(-(q1^2 - q2^2)*i + q2^2)"
      ]
     },
     "execution_count": 46,
     "metadata": {},
     "output_type": "execute_result"
    }
   ],
   "source": [
    "q"
   ]
  },
  {
   "cell_type": "markdown",
   "id": "8a22fe30-af1c-4f53-b7c5-b459ffb1af70",
   "metadata": {},
   "source": [
    "We could also arbitrarily pick the negative root for any of the terms and it would still satisfy\n",
    "the condition."
   ]
  },
  {
   "cell_type": "markdown",
   "id": "d0ef3cd0-b458-4044-a056-4833f0ff2a82",
   "metadata": {},
   "source": [
    "### Harmonic"
   ]
  },
  {
   "cell_type": "code",
   "execution_count": 47,
   "id": "4d2d89bc-5a3d-45f4-a32b-3ff128b944dd",
   "metadata": {},
   "outputs": [
    {
     "data": {
      "text/html": [
       "<html>\\(\\displaystyle \\left[h_{3} = \\frac{h_{1} h_{2}}{2 \\, h_{1} - h_{2}}\\right]\\)</html>"
      ],
      "text/latex": [
       "$\\displaystyle \\left[h_{3} = \\frac{h_{1} h_{2}}{2 \\, h_{1} - h_{2}}\\right]$"
      ],
      "text/plain": [
       "[h3 == h1*h2/(2*h1 - h2)]"
      ]
     },
     "execution_count": 47,
     "metadata": {},
     "output_type": "execute_result"
    }
   ],
   "source": [
    "h1,h2,h3 = var('h1,h2,h3')\n",
    "solve(h2 == 2/(1/h1+1/h3),h3)"
   ]
  },
  {
   "cell_type": "code",
   "execution_count": 48,
   "id": "7ebc6924-ca8b-4fad-8e49-11872b1f9739",
   "metadata": {},
   "outputs": [
    {
     "data": {
      "text/html": [
       "<html>\\(\\displaystyle \\frac{h_{1} h_{2}}{3 \\, h_{1} - 2 \\, h_{2}}\\)</html>"
      ],
      "text/latex": [
       "$\\displaystyle \\frac{h_{1} h_{2}}{3 \\, h_{1} - 2 \\, h_{2}}$"
      ],
      "text/plain": [
       "h1*h2/(3*h1 - 2*h2)"
      ]
     },
     "execution_count": 48,
     "metadata": {},
     "output_type": "execute_result"
    }
   ],
   "source": [
    "((h2*h3)/(2*h2-h3)).substitute(h3 == h1*h2/(2*h1-h2)).simplify_full()"
   ]
  },
  {
   "cell_type": "code",
   "execution_count": 49,
   "id": "37e41e33-e639-47db-aa76-affe0d205220",
   "metadata": {},
   "outputs": [
    {
     "data": {
      "text/html": [
       "<html>\\(\\displaystyle \\frac{h_{1} h_{2}}{3 \\, h_{1} - 2 \\, h_{2}}\\)</html>"
      ],
      "text/latex": [
       "$\\displaystyle \\frac{h_{1} h_{2}}{3 \\, h_{1} - 2 \\, h_{2}}$"
      ],
      "text/plain": [
       "h1*h2/(3*h1 - 2*h2)"
      ]
     },
     "execution_count": 49,
     "metadata": {},
     "output_type": "execute_result"
    }
   ],
   "source": [
    "x1,x2 = var('x1,x2')\n",
    "(x1*x2/(2*x1-x2)).substitute(x1 == h2, x2 == h1*h2/(2*h1-h2)).simplify_full()"
   ]
  },
  {
   "cell_type": "code",
   "execution_count": 50,
   "id": "0022d649-666c-4229-a757-ae9ca23cee19",
   "metadata": {},
   "outputs": [
    {
     "data": {
      "text/html": [
       "<html>\\(\\displaystyle \\frac{h_{1} h_{2}}{4 \\, h_{1} - 3 \\, h_{2}}\\)</html>"
      ],
      "text/latex": [
       "$\\displaystyle \\frac{h_{1} h_{2}}{4 \\, h_{1} - 3 \\, h_{2}}$"
      ],
      "text/plain": [
       "h1*h2/(4*h1 - 3*h2)"
      ]
     },
     "execution_count": 50,
     "metadata": {},
     "output_type": "execute_result"
    }
   ],
   "source": [
    "(x1*x2/(2*x1-x2)).substitute(x1 == h1*h2/(2*h1-h2), x2 == h1*h2/(3*h1-2*h2)).simplify_full()"
   ]
  },
  {
   "cell_type": "code",
   "execution_count": 51,
   "id": "50e3bbbf-79b3-4cd2-9d7c-4303d5894f1a",
   "metadata": {},
   "outputs": [],
   "source": [
    "h(i) = h1*h2/(h1 + i*(h1-h2))"
   ]
  },
  {
   "cell_type": "code",
   "execution_count": 52,
   "id": "965da5ee-6f9d-491b-9006-830881b5cabc",
   "metadata": {},
   "outputs": [
    {
     "data": {
      "text/html": [
       "<html>\\(\\displaystyle \\frac{h_{1} h_{2}}{{\\left(h_{1} - h_{2}\\right)} i + 2 \\, h_{1} - h_{2}} = \\frac{h_{1} h_{2}}{{\\left(h_{1} - h_{2}\\right)} i + 2 \\, h_{1} - h_{2}}\\)</html>"
      ],
      "text/latex": [
       "$\\displaystyle \\frac{h_{1} h_{2}}{{\\left(h_{1} - h_{2}\\right)} i + 2 \\, h_{1} - h_{2}} = \\frac{h_{1} h_{2}}{{\\left(h_{1} - h_{2}\\right)} i + 2 \\, h_{1} - h_{2}}$"
      ],
      "text/plain": [
       "h1*h2/((h1 - h2)*i + 2*h1 - h2) == h1*h2/((h1 - h2)*i + 2*h1 - h2)"
      ]
     },
     "execution_count": 52,
     "metadata": {},
     "output_type": "execute_result"
    }
   ],
   "source": [
    "(h(i+1) == 2/(1/h(i)+1/h(i+2))).simplify_full()"
   ]
  },
  {
   "cell_type": "markdown",
   "id": "6c8e667a-5b82-4895-9d24-29db09e2a0ab",
   "metadata": {},
   "source": [
    "This blows up when $h_1 + i(h_1-h_2) = 0$,"
   ]
  },
  {
   "cell_type": "code",
   "execution_count": 53,
   "id": "6942967b-7120-4f65-b52b-abad90a52b44",
   "metadata": {},
   "outputs": [
    {
     "data": {
      "text/html": [
       "<html>\\(\\displaystyle \\left[i = -\\frac{h_{1}}{h_{1} - h_{2}}\\right]\\)</html>"
      ],
      "text/latex": [
       "$\\displaystyle \\left[i = -\\frac{h_{1}}{h_{1} - h_{2}}\\right]$"
      ],
      "text/plain": [
       "[i == -h1/(h1 - h2)]"
      ]
     },
     "execution_count": 53,
     "metadata": {},
     "output_type": "execute_result"
    }
   ],
   "source": [
    "solve(h1 + i*(h1-h2) == 0, i)"
   ]
  },
  {
   "cell_type": "markdown",
   "id": "1d2cb539-6c55-41d6-b9a2-32db872f3854",
   "metadata": {},
   "source": [
    "So if $h_1/(h_1-h_2)$ is an integer, infinity will be part of the sequence and still satisfy the condition."
   ]
  },
  {
   "cell_type": "code",
   "execution_count": 54,
   "id": "e32f5739-610e-4be8-ae64-6af44a9444bf",
   "metadata": {},
   "outputs": [
    {
     "data": {
      "text/html": [
       "<html>\\(\\displaystyle i \\ {\\mapsto}\\ \\frac{h_{1} h_{2}}{{\\left(h_{1} - h_{2}\\right)} i + h_{1}}\\)</html>"
      ],
      "text/latex": [
       "$\\displaystyle i \\ {\\mapsto}\\ \\frac{h_{1} h_{2}}{{\\left(h_{1} - h_{2}\\right)} i + h_{1}}$"
      ],
      "text/plain": [
       "i |--> h1*h2/((h1 - h2)*i + h1)"
      ]
     },
     "execution_count": 54,
     "metadata": {},
     "output_type": "execute_result"
    }
   ],
   "source": [
    "h"
   ]
  }
 ],
 "metadata": {
  "kernelspec": {
   "display_name": "SageMath 10.3",
   "language": "sage",
   "name": "sagemath-10.3"
  },
  "language_info": {
   "codemirror_mode": {
    "name": "ipython",
    "version": 3
   },
   "file_extension": ".py",
   "mimetype": "text/x-python",
   "name": "python",
   "nbconvert_exporter": "python",
   "pygments_lexer": "ipython3",
   "version": "3.11.8"
  }
 },
 "nbformat": 4,
 "nbformat_minor": 5
}
