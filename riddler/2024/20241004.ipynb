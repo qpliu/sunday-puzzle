{
 "cells": [
  {
   "cell_type": "markdown",
   "id": "1a8ebce6-7753-4dd0-8915-76fecfe511e7",
   "metadata": {},
   "source": [
    "[2024-10-04 Fiddler](https://thefiddler.substack.com/p/how-many-dice-can-you-roll-the-same)\n",
    "===================="
   ]
  },
  {
   "cell_type": "markdown",
   "id": "a9e8db85-42e9-4837-bdf5-345cdad1de9c",
   "metadata": {},
   "source": [
    "It's not specified anywhere, so I'll assume that the dice are 6-sided.\n",
    "\n",
    "The question seems ambiguous.  I can see three interpretations.\n",
    "\n",
    "The obviously wrong interpretation has an easy answer.  The total number of dice set aside per player\n",
    "per game on average will be 3, or, for the extra credit, 10 or $N$.\n",
    "\n",
    "The second interpretation is the number of dice set aside from the first roll on average.\n",
    "This is one roll per player per game.\n",
    "\n",
    "The third interpretation is the average number of dice set aside per roll from each roll in the game,\n",
    "including the first roll.\n",
    "\n",
    "The wording seems to seems to imply the second interpretation.  Also, the first and third interpretations\n",
    "can only be calculated for the winning player if the losing players stop rolling once they lose.  (For the\n",
    "second interpretation, a very slow losing player might lose before setting aside the dice from the first\n",
    "roll, and thus not contribute to the average.)"
   ]
  },
  {
   "cell_type": "markdown",
   "id": "4e264be7-52c3-4cb9-8961-ab7f347cf58f",
   "metadata": {},
   "source": [
    "Simulation\n",
    "----------\n",
    "To get a sense of what the answers should be, run some [simulations](20241004.go), calculating both\n",
    "the average number of dice set aside from the first roll of a game and the average number of dice\n",
    "set aside per roll from every roll.\n",
    "\n",
    "    $ go run 20241004.go\n",
    "    3: 1.472164 0.359562\n",
    "    10: 3.445436 0.651536\n",
    "    25: 6.899469 1.208623\n",
    "    50: 12.143944 2.026984\n",
    "    100: 21.998333 3.496237"
   ]
  },
  {
   "cell_type": "markdown",
   "id": "a58b8d3c-4e0b-47c1-b8de-fb6b8eb88b8a",
   "metadata": {},
   "source": [
    "Fiddler\n",
    "-------"
   ]
  },
  {
   "cell_type": "markdown",
   "id": "c26b4c7d-5a09-42fb-8f1a-29ac074f189c",
   "metadata": {},
   "source": [
    "The probability of rolling 3 of the same number is $1/36$.  The probability of rolling 3 different\n",
    "numbers is $20/36$, so the probability of rolling 2 of one number and 1 of a different number is\n",
    "$15/36$.  That means the average number of dice set aside from the first roll is"
   ]
  },
  {
   "cell_type": "code",
   "execution_count": 1,
   "id": "2998ca30-1a5d-4a73-8beb-406871a96cf0",
   "metadata": {},
   "outputs": [
    {
     "data": {
      "text/plain": [
       "(53/36, 1.47222222222222)"
      ]
     },
     "execution_count": 1,
     "metadata": {},
     "output_type": "execute_result"
    }
   ],
   "source": [
    "x = 3*1/36 + 2*15/36 + 1*20/36\n",
    "(x,numerical_approx(x))"
   ]
  },
  {
   "cell_type": "markdown",
   "id": "0cee00e7-0d11-49a6-b345-62e1120afeec",
   "metadata": {},
   "source": [
    "which agrees with the result of the simulations."
   ]
  },
  {
   "cell_type": "markdown",
   "id": "365ab801-a7cb-4a36-9447-4b5b6b8ba248",
   "metadata": {},
   "source": [
    "When there is 1 die left, the average number of rolls is $6$.\n",
    "\n",
    "When there are 2 dice left, the probability of setting aside 2 dice in a roll is $1/36$.  The\n",
    "probability of setting aside 1 die is $10/36$.  The probability of setting aside none is $25/36$,\n",
    "so the average number of rolls is"
   ]
  },
  {
   "cell_type": "code",
   "execution_count": 2,
   "id": "f269f41c-f61b-46e0-8019-f72655dae164",
   "metadata": {},
   "outputs": [
    {
     "data": {
      "text/plain": [
       "[x == (96/11)]"
      ]
     },
     "execution_count": 2,
     "metadata": {},
     "output_type": "execute_result"
    }
   ],
   "source": [
    "x = var('x')\n",
    "solve(x == 1 + 0*1/36 + 6*10/36 + x*25/36, x)"
   ]
  },
  {
   "cell_type": "markdown",
   "id": "c1946bfe-c71b-4be6-957d-957c8497116f",
   "metadata": {},
   "source": [
    "The overall average number of rolls is then"
   ]
  },
  {
   "cell_type": "code",
   "execution_count": 3,
   "id": "4d761413-5a1e-465f-bf8d-b9a63074cef7",
   "metadata": {},
   "outputs": [
    {
     "data": {
      "text/plain": [
       "551/66"
      ]
     },
     "execution_count": 3,
     "metadata": {},
     "output_type": "execute_result"
    }
   ],
   "source": [
    "1*1/36 + (1 + 6)*15/36 + (1 + 96/11)*20/36"
   ]
  },
  {
   "cell_type": "markdown",
   "id": "af9a7251-40f1-4f00-941a-1a6da6b14ec9",
   "metadata": {},
   "source": [
    "So the overall average number of dice set aside per roll is"
   ]
  },
  {
   "cell_type": "code",
   "execution_count": 4,
   "id": "c4151beb-488d-44cc-99c9-7ff0abc549fe",
   "metadata": {},
   "outputs": [
    {
     "data": {
      "text/plain": [
       "(198/551, 0.359346642468240)"
      ]
     },
     "execution_count": 4,
     "metadata": {},
     "output_type": "execute_result"
    }
   ],
   "source": [
    "x = 3/(551/66)\n",
    "(x,numerical_approx(x))"
   ]
  },
  {
   "cell_type": "markdown",
   "id": "8efccd83-d043-48de-a141-5509f507aa53",
   "metadata": {},
   "source": [
    "which agrees with the result of the simulations."
   ]
  },
  {
   "cell_type": "markdown",
   "id": "13b58ed3-88c0-4085-a9da-35154a0ae4b4",
   "metadata": {},
   "source": [
    "Extra credit\n",
    "------------"
   ]
  },
  {
   "cell_type": "markdown",
   "id": "92540dd6-7801-4ca9-a743-a88014dff453",
   "metadata": {},
   "source": [
    "Let $P(N,s,n,k)$ be the probability of setting aside $n$ dice out of $N$ dice with $s$ sides\n",
    "when there are $k$ groups of $n$ dice with the same face.\n",
    "\n",
    "The average number of dice set aside from the first roll is\n",
    "$\\sum_{n=1}^{N} \\sum_{k=1}^{6} nP(N,6,n,k)$.\n",
    "\n",
    "Let $R(n)$ be the average number of rolls to set aside $n$ dice after the target is set.\n",
    "\n",
    "The average number of dice set aside per roll is\n",
    "$N/\\sum_{n=1}^{N} \\sum_{k=1}^{6} (1+R(N-n))P(N,6,n,k)$."
   ]
  },
  {
   "cell_type": "markdown",
   "id": "2287a973-da48-4c96-ae3f-4df39e9c37ce",
   "metadata": {},
   "source": [
    "#### Consider $N=10$\n",
    "To get a better sense of how to approach the general case, consider $N=10$.\n",
    "\n",
    "The probabilities of setting aside 6, 7, 8, 9, and 10 from the first roll are"
   ]
  },
  {
   "cell_type": "code",
   "execution_count": 5,
   "id": "dac8babb-dda8-4fd0-9bc8-5e7105392102",
   "metadata": {},
   "outputs": [
    {
     "data": {
      "text/plain": [
       "[(1/10077696, 9.92290301275212e-8),\n",
       " (25/5038848, 4.96145150637606e-6),\n",
       " (125/1119744, 0.000111632658893461),\n",
       " (625/419904, 0.00148843545191282),\n",
       " (21875/1679616, 0.0130238102042372)]"
      ]
     },
     "execution_count": 5,
     "metadata": {},
     "output_type": "execute_result"
    }
   ],
   "source": [
    "p10 = binomial(6,1)*(1/6)^10*binomial(10,10)\n",
    "p9 = binomial(6,1)*(1/6)^9*binomial(10,9)*(5/6)\n",
    "p8 = binomial(6,1)*(1/6)^8*binomial(10,8)*(5/6)^2\n",
    "p7 = binomial(6,1)*(1/6)^7*binomial(10,7)*(5/6)^3\n",
    "p6 = binomial(6,1)*(1/6)^6*binomial(10,6)*(5/6)^4\n",
    "[(p,numerical_approx(p)) for p in [p10,p9,p8,p7,p6]]"
   ]
  },
  {
   "cell_type": "markdown",
   "id": "493ffe94-a517-4dbe-bc8f-d9bdf078d556",
   "metadata": {},
   "source": [
    "The probability of rolling 5 of one number and 5 of another number is"
   ]
  },
  {
   "cell_type": "code",
   "execution_count": 6,
   "id": "50a0d3ba-bbd0-4a56-93c8-af7cacfdacf1",
   "metadata": {},
   "outputs": [
    {
     "data": {
      "text/plain": [
       "(35/559872, 0.0000625142889803384)"
      ]
     },
     "execution_count": 6,
     "metadata": {},
     "output_type": "execute_result"
    }
   ],
   "source": [
    "p5_2 = binomial(6,2)*(1/6)^10*binomial(10,5)\n",
    "(p5_2,numerical_approx(p5_2))"
   ]
  },
  {
   "cell_type": "markdown",
   "id": "aec01db2-a2f9-4411-8f5b-ebf43f8eba19",
   "metadata": {},
   "source": [
    "The probability of rolling 5 of one number and less than 5 of every other number is"
   ]
  },
  {
   "cell_type": "code",
   "execution_count": 7,
   "id": "45bf181d-5d55-479c-87bd-511a33725959",
   "metadata": {},
   "outputs": [
    {
     "data": {
      "text/plain": [
       "(455/5832, 0.0780178326474623)"
      ]
     },
     "execution_count": 7,
     "metadata": {},
     "output_type": "execute_result"
    }
   ],
   "source": [
    "p5_1 = binomial(6,1)*(1/6)^5*binomial(10,5)*((5/6)^5 - (1/6)^5*binomial(5,1))\n",
    "(p5_1, numerical_approx(p5_1))"
   ]
  },
  {
   "cell_type": "code",
   "execution_count": 8,
   "id": "81ba5265-005a-471d-a6ad-35439db48637",
   "metadata": {},
   "outputs": [
    {
     "data": {
      "text/plain": [
       "(43715/559872, 0.0780803469364426)"
      ]
     },
     "execution_count": 8,
     "metadata": {},
     "output_type": "execute_result"
    }
   ],
   "source": [
    "p5 = p5_1+p5_2\n",
    "(p5, numerical_approx(p5))"
   ]
  },
  {
   "cell_type": "markdown",
   "id": "7f9cdf3f-9a18-47fa-8702-44372b84cbbf",
   "metadata": {},
   "source": [
    "The probability of rolling 4 of one number and 4 of another number is"
   ]
  },
  {
   "cell_type": "code",
   "execution_count": 9,
   "id": "e7603bb5-c8ac-4bb6-ab67-b086d9ddd66f",
   "metadata": {},
   "outputs": [
    {
     "data": {
      "text/plain": [
       "(875/69984, 0.0125028577960677)"
      ]
     },
     "execution_count": 9,
     "metadata": {},
     "output_type": "execute_result"
    }
   ],
   "source": [
    "p4_2 = binomial(6,2)*(1/6)^8*binomial(8,4)*(4/6)^2*binomial(10,2)\n",
    "(p4_2, numerical_approx(p4_2))"
   ]
  },
  {
   "cell_type": "markdown",
   "id": "db8a6498-ba6f-4a46-8d89-4e017ae9cdc7",
   "metadata": {},
   "source": [
    "The probability of rolling 4 of one number and less than 4 of any other number is"
   ]
  },
  {
   "cell_type": "code",
   "execution_count": 10,
   "id": "90f83f05-88a1-4d69-9abc-03ad61eb760c",
   "metadata": {},
   "outputs": [
    {
     "data": {
      "text/plain": [
       "(125125/419904, 0.297984777472946)"
      ]
     },
     "execution_count": 10,
     "metadata": {},
     "output_type": "execute_result"
    }
   ],
   "source": [
    "p4_1 = binomial(6,1)*(1/6)^4*binomial(10,4)*((5/6)^6\n",
    "            - (1/6)^6*binomial(5,1)\n",
    "            - (1/6)^5*binomial(5,1)*(4/6)*binomial(6,1)\n",
    "            - (1/6)^4*binomial(5,1)*(4/6)^2*binomial(6,2))\n",
    "(p4_1, numerical_approx(p4_1))"
   ]
  },
  {
   "cell_type": "code",
   "execution_count": 11,
   "id": "6e2b7c25-d56e-42d2-9912-eeef713da6e3",
   "metadata": {},
   "outputs": [
    {
     "data": {
      "text/plain": [
       "(130375/419904, 0.310487635269014)"
      ]
     },
     "execution_count": 11,
     "metadata": {},
     "output_type": "execute_result"
    }
   ],
   "source": [
    "p4 = p4_2 + p4_1\n",
    "(p4, numerical_approx(p4))"
   ]
  },
  {
   "cell_type": "markdown",
   "id": "87879068-505a-43ea-ac4d-81b3df5f7f1b",
   "metadata": {},
   "source": [
    "The probability of rolling 3 of three numbers and 1 of a fourth number is"
   ]
  },
  {
   "cell_type": "code",
   "execution_count": 12,
   "id": "00c377db-7958-4a69-a372-bb544d56476c",
   "metadata": {},
   "outputs": [
    {
     "data": {
      "text/plain": [
       "(875/52488, 0.0166704770614236)"
      ]
     },
     "execution_count": 12,
     "metadata": {},
     "output_type": "execute_result"
    }
   ],
   "source": [
    "p3_3_1 = binomial(6,3)*(1/6)^9*binomial(6,3)*binomial(9,3)*(3/6)*binomial(10,1)\n",
    "(p3_3_1,numerical_approx(p3_3_1))"
   ]
  },
  {
   "cell_type": "markdown",
   "id": "9e759a01-828e-4595-923f-0316d5859987",
   "metadata": {},
   "source": [
    "The probability of rolling 3 of two numbers and less than 3 of any other number is"
   ]
  },
  {
   "cell_type": "code",
   "execution_count": 13,
   "id": "f65e86f0-2a65-422d-a564-b93ede3dd7b3",
   "metadata": {},
   "outputs": [
    {
     "data": {
      "text/plain": [
       "(14875/69984, 0.212548582533150)"
      ]
     },
     "execution_count": 13,
     "metadata": {},
     "output_type": "execute_result"
    }
   ],
   "source": [
    "p3_2 = binomial(6,2)*(1/6)^6*binomial(6,3)*binomial(10,6)*((4/6)^4\n",
    "            - (1/6)^4*binomial(4,1)\n",
    "            - (1/6)^3*binomial(4,1)*(3/6)*binomial(4,1))\n",
    "(p3_2,numerical_approx(p3_2))"
   ]
  },
  {
   "cell_type": "markdown",
   "id": "3a860e09-00d5-44ab-b225-b28e8eeede0d",
   "metadata": {},
   "source": [
    "The probability of rolling 3 of one number and less than 3 of any other number is"
   ]
  },
  {
   "cell_type": "code",
   "execution_count": 14,
   "id": "f6430ee9-6322-4c67-94cc-3a2681886f89",
   "metadata": {},
   "outputs": [
    {
     "data": {
      "text/plain": [
       "(875/2916, 0.300068587105624)"
      ]
     },
     "execution_count": 14,
     "metadata": {},
     "output_type": "execute_result"
    }
   ],
   "source": [
    "p3_1 = binomial(6,1)*(1/6)^3*binomial(10,3)*((5/6)^7\n",
    "            - (1/6)^7*binomial(5,1)\n",
    "            - (1/6)^6*binomial(5,1)*(4/6)*binomial(7,1)\n",
    "            - (1/6)^5*binomial(5,1)*(4/6)^2*binomial(7,2)\n",
    "            - (1/6)^4*binomial(5,1)*(4/6)^3*binomial(7,3)\n",
    "            - (1/6)^6*binomial(5,2)*binomial(6,3)*(3/6)*binomial(7,1)\n",
    "            - (1/6)^3*binomial(5,1)*((4/6)^4\n",
    "                        - (1/6)^4*binomial(4,1)\n",
    "                        - (1/6)^3*binomial(4,1)*(3/6)*binomial(4,1))*binomial(7,4))\n",
    "(p3_1,numerical_approx(p3_1))"
   ]
  },
  {
   "cell_type": "code",
   "execution_count": 15,
   "id": "32c2bc86-63f7-4327-bee4-096369e1deb1",
   "metadata": {},
   "outputs": [
    {
     "data": {
      "text/plain": [
       "(111125/209952, 0.529287646700198)"
      ]
     },
     "execution_count": 15,
     "metadata": {},
     "output_type": "execute_result"
    }
   ],
   "source": [
    "p3 = p3_3_1 + p3_2 + p3_1\n",
    "(p3,numerical_approx(p3))"
   ]
  },
  {
   "cell_type": "markdown",
   "id": "0a58f3c9-7dc2-4c09-9186-dcac4a5ae3d9",
   "metadata": {},
   "source": [
    "The probability of rolling 2 of five numbers is"
   ]
  },
  {
   "cell_type": "code",
   "execution_count": 16,
   "id": "85feb470-d7d2-433b-ab02-99e0db94bc78",
   "metadata": {},
   "outputs": [
    {
     "data": {
      "text/plain": [
       "(175/15552, 0.0112525720164609)"
      ]
     },
     "execution_count": 16,
     "metadata": {},
     "output_type": "execute_result"
    }
   ],
   "source": [
    "p2_5 = binomial(6,5)*(1/6)^10*binomial(4,2)*binomial(6,2)*binomial(8,2)*binomial(10,2)\n",
    "(p2_5,numerical_approx(p2_5))"
   ]
  },
  {
   "cell_type": "markdown",
   "id": "3ee65a17-642a-4c9f-9f0e-46473540145a",
   "metadata": {},
   "source": [
    "The probability of rolling 2 of four numbers and 1 of each of the other two numbers is"
   ]
  },
  {
   "cell_type": "code",
   "execution_count": 17,
   "id": "39113930-006a-4c5f-9d7e-882a267a3498",
   "metadata": {},
   "outputs": [
    {
     "data": {
      "text/plain": [
       "(875/15552, 0.0562628600823045)"
      ]
     },
     "execution_count": 17,
     "metadata": {},
     "output_type": "execute_result"
    }
   ],
   "source": [
    "p2_4_2 = binomial(6,4)*(1/6)^8*binomial(4,2)*binomial(6,2)*binomial(8,2)*(2/6)*(1/6)*binomial(10,2)\n",
    "(p2_4_2,numerical_approx(p2_4_2))"
   ]
  },
  {
   "cell_type": "code",
   "execution_count": 18,
   "id": "ba031fca-e14f-4d86-9460-5d6cc3e86cb7",
   "metadata": {},
   "outputs": [
    {
     "data": {
      "text/plain": [
       "(175/2592, 0.0675154320987654)"
      ]
     },
     "execution_count": 18,
     "metadata": {},
     "output_type": "execute_result"
    }
   ],
   "source": [
    "p2 = p2_5 + p2_4_2\n",
    "(p2,numerical_approx(p2))"
   ]
  },
  {
   "cell_type": "code",
   "execution_count": 19,
   "id": "06a620e5-aacd-45ff-a7ff-800f3c7cad2c",
   "metadata": {},
   "outputs": [
    {
     "data": {
      "text/plain": [
       "1"
      ]
     },
     "execution_count": 19,
     "metadata": {},
     "output_type": "execute_result"
    }
   ],
   "source": [
    "p2 + p3 + p4 + p5 + p6 + p7 + p8 + p9 + p10"
   ]
  },
  {
   "cell_type": "markdown",
   "id": "da87a7d3-01b5-42c0-8ab8-f70ddae9ca03",
   "metadata": {},
   "source": [
    "The average number of dice set aside from the first roll of 10 dice is"
   ]
  },
  {
   "cell_type": "code",
   "execution_count": 20,
   "id": "9f39a01b-a1b2-4127-b410-975d037f1f30",
   "metadata": {},
   "outputs": [
    {
     "data": {
      "text/plain": [
       "(17357555/5038848, 3.44474669607021)"
      ]
     },
     "execution_count": 20,
     "metadata": {},
     "output_type": "execute_result"
    }
   ],
   "source": [
    "x = 2*p2 + 3*p3 + 4*p4 + 5*p5 + 6*p6 + 7*p7 + 8*p8 + 9*p9 + 10*p10\n",
    "(x,numerical_approx(x))"
   ]
  },
  {
   "cell_type": "markdown",
   "id": "c2b54e35-2e68-4bcb-8b95-811b0b323c7a",
   "metadata": {},
   "source": [
    "which agrees with the results of the simulations."
   ]
  },
  {
   "cell_type": "markdown",
   "id": "f81bb3c8-954b-4322-90a4-cc9b913a5d44",
   "metadata": {},
   "source": [
    "#### Calculating $R$"
   ]
  },
  {
   "cell_type": "code",
   "execution_count": 21,
   "id": "dfeb78fb-f90e-44bc-b4df-c8bad60200ed",
   "metadata": {},
   "outputs": [],
   "source": [
    "from functools import cache\n",
    "\n",
    "@cache\n",
    "def R(n):\n",
    "    if n == 0:\n",
    "        return 0\n",
    "    denominator = 1 - (5/6)^n*binomial(n,0)\n",
    "    numerator = 1 + sum([R(n-k)*((1/6)^k*(5/6)^(n-k)*binomial(n,k)) for k in [1..n]])\n",
    "    return numerator/denominator"
   ]
  },
  {
   "cell_type": "code",
   "execution_count": 22,
   "id": "c549ccf5-955d-43d2-858b-935969ef127c",
   "metadata": {},
   "outputs": [
    {
     "data": {
      "text/plain": [
       "[6,\n",
       " 96/11,\n",
       " 10566/1001,\n",
       " 728256/61061,\n",
       " 3698650986/283994711,\n",
       " 9438928992/677218157,\n",
       " 3736509841479198/253815850752893,\n",
       " 7512121341839614848/487580249296307453,\n",
       " 443684776375651380574086/27701960514724125452641,\n",
       " 5002237679837182013478909216/301979071571007691559239541]"
      ]
     },
     "execution_count": 22,
     "metadata": {},
     "output_type": "execute_result"
    }
   ],
   "source": [
    "[R(k) for k in [1..10]]"
   ]
  },
  {
   "cell_type": "code",
   "execution_count": 23,
   "id": "793ca847-d5fa-49b1-accd-3e44d03112e8",
   "metadata": {},
   "outputs": [],
   "source": [
    "k = var('k')\n",
    "R2(n) = sum(binomial(n,k)*(-1)^(k+1)/(1-(5/6)^k),k,1,n)"
   ]
  },
  {
   "cell_type": "code",
   "execution_count": 24,
   "id": "1c70d81e-fb3e-4226-a63a-8513b9547dd4",
   "metadata": {},
   "outputs": [
    {
     "data": {
      "text/plain": [
       "[(0, 6),\n",
       " (0, 96/11),\n",
       " (0, 10566/1001),\n",
       " (0, 728256/61061),\n",
       " (0, 3698650986/283994711),\n",
       " (0, 9438928992/677218157),\n",
       " (0, 3736509841479198/253815850752893),\n",
       " (0, 7512121341839614848/487580249296307453),\n",
       " (0, 443684776375651380574086/27701960514724125452641),\n",
       " (0, 5002237679837182013478909216/301979071571007691559239541)]"
      ]
     },
     "execution_count": 24,
     "metadata": {},
     "output_type": "execute_result"
    }
   ],
   "source": [
    "[(R(k) - R2(k).simplify(),R2(k).simplify()) for k in [1..10]]"
   ]
  },
  {
   "cell_type": "markdown",
   "id": "595857d5-acbc-414a-a102-428b5ee475da",
   "metadata": {},
   "source": [
    "And the average number of dice set aside per roll for $N=10$ is"
   ]
  },
  {
   "cell_type": "code",
   "execution_count": 25,
   "id": "b5b41a8a-b943-41b9-86c5-b5c96aa2104c",
   "metadata": {},
   "outputs": [
    {
     "data": {
      "text/plain": [
       "(447861962188630247878620/687400143797944474874777, 0.651530213121799)"
      ]
     },
     "execution_count": 25,
     "metadata": {},
     "output_type": "execute_result"
    }
   ],
   "source": [
    "x = 10/((1+R(8))*p2 + (1+R(7))*p3 + (1+R(6))*p4 + (1+R(5))*p5 + (1+R(4))*p6\n",
    "        + (1+R(3))*p7 + (1+R(2))*p8 + (1+R(1))*p9 + (1+R(0))*p10)\n",
    "(x,numerical_approx(x))"
   ]
  },
  {
   "cell_type": "markdown",
   "id": "37e2a5ec-42b9-4ab9-b7a9-e8304ad5edb4",
   "metadata": {},
   "source": [
    "which agrees with the results of the simulations."
   ]
  },
  {
   "cell_type": "markdown",
   "id": "3997b160-acf4-4aca-95b8-76379ee8e029",
   "metadata": {},
   "source": [
    "### General case"
   ]
  },
  {
   "cell_type": "markdown",
   "id": "d91f28cf-9d64-4df3-a13c-8484a1521a98",
   "metadata": {},
   "source": [
    "The probability of setting aside $n$ dice from the first roll, when $n > N/2$ is\n",
    "$\\frac{5^{N-n}}{6^{N-1}}\\binom{N}{n}$.\n",
    "\n",
    "When $n < N/6$, the probability is $0$."
   ]
  }
 ],
 "metadata": {
  "kernelspec": {
   "display_name": "SageMath 10.3",
   "language": "sage",
   "name": "sagemath-10.3"
  },
  "language_info": {
   "codemirror_mode": {
    "name": "ipython",
    "version": 3
   },
   "file_extension": ".py",
   "mimetype": "text/x-python",
   "name": "python",
   "nbconvert_exporter": "python",
   "pygments_lexer": "ipython3",
   "version": "3.11.8"
  }
 },
 "nbformat": 4,
 "nbformat_minor": 5
}
