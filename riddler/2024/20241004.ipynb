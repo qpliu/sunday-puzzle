{
 "cells": [
  {
   "cell_type": "markdown",
   "id": "1a8ebce6-7753-4dd0-8915-76fecfe511e7",
   "metadata": {},
   "source": [
    "[2024-10-04 Fiddler](https://thefiddler.substack.com/p/how-many-dice-can-you-roll-the-same)\n",
    "===================="
   ]
  },
  {
   "cell_type": "markdown",
   "id": "a9e8db85-42e9-4837-bdf5-345cdad1de9c",
   "metadata": {},
   "source": [
    "It's not specified anywhere, so I'll assume that the dice are 6-sided.\n",
    "\n",
    "The question seems ambiguous.  I can see three interpretations.\n",
    "\n",
    "The obviously wrong interpretation has an easy answer.  The total number of dice set aside in a game\n",
    "on average will be 3, or, for the extra credit, 10 or $N$.\n",
    "\n",
    "The second interpretation is the number of dice set aside when determining the target number on average.\n",
    "This is one roll per player per game.\n",
    "\n",
    "The third interpretation is the average number of dice set aside after each roll in the game, including\n",
    "when determining the target number.\n",
    "\n",
    "The wording seems to seems to imply the second interpretation, which is an easier calculation than the\n",
    "third interpretation."
   ]
  },
  {
   "cell_type": "markdown",
   "id": "4e264be7-52c3-4cb9-8961-ab7f347cf58f",
   "metadata": {},
   "source": [
    "Simulation\n",
    "----------\n",
    "To get a sense of what the answers should be, run some [simulations](20241004.go), calculating both\n",
    "the average number of dice set aside from the first roll of a game and the average number of dice\n",
    "set aside per roll from every roll.\n",
    "\n",
    "    $ go run 20241004.go\n",
    "    3: 1.472164 0.359562\n",
    "    10: 3.445436 0.651536\n",
    "    25: 6.899469 1.208623\n",
    "    50: 12.143944 2.026984\n",
    "    100: 21.998333 3.496237"
   ]
  },
  {
   "cell_type": "markdown",
   "id": "a58b8d3c-4e0b-47c1-b8de-fb6b8eb88b8a",
   "metadata": {},
   "source": [
    "Fiddler\n",
    "-------"
   ]
  },
  {
   "cell_type": "markdown",
   "id": "c26b4c7d-5a09-42fb-8f1a-29ac074f189c",
   "metadata": {},
   "source": [
    "The probability of rolling 3 of the same number is $1/36$.  The probability of rolling 3 different\n",
    "numbers is $20/36$, so the probability of rolling 2 of one number and 1 of a different number is\n",
    "$15/36$.  That means the average number of dice set aside from the first roll is"
   ]
  },
  {
   "cell_type": "code",
   "execution_count": 1,
   "id": "2998ca30-1a5d-4a73-8beb-406871a96cf0",
   "metadata": {},
   "outputs": [
    {
     "data": {
      "text/plain": [
       "(53/36, 1.47222222222222)"
      ]
     },
     "execution_count": 1,
     "metadata": {},
     "output_type": "execute_result"
    }
   ],
   "source": [
    "x = 3*1/36 + 2*15/36 + 1*20/36\n",
    "(x,numerical_approx(x))"
   ]
  },
  {
   "cell_type": "markdown",
   "id": "0cee00e7-0d11-49a6-b345-62e1120afeec",
   "metadata": {},
   "source": [
    "which agrees with the result of the simulations."
   ]
  },
  {
   "cell_type": "markdown",
   "id": "365ab801-a7cb-4a36-9447-4b5b6b8ba248",
   "metadata": {},
   "source": [
    "When there is 1 die left, the average number of rolls is $6$.\n",
    "\n",
    "When there are 2 dice left, the probability of setting aside 2 dice in a roll is $1/36$.  The\n",
    "probability of setting aside 1 die is $10/36$.  The probability of setting aside none is $25/36$,\n",
    "so the average number of rolls is"
   ]
  },
  {
   "cell_type": "code",
   "execution_count": 2,
   "id": "f269f41c-f61b-46e0-8019-f72655dae164",
   "metadata": {},
   "outputs": [
    {
     "data": {
      "text/plain": [
       "[x == (96/11)]"
      ]
     },
     "execution_count": 2,
     "metadata": {},
     "output_type": "execute_result"
    }
   ],
   "source": [
    "x = var('x')\n",
    "solve(x == 1 + 0*1/36 + 6*10/36 + x*25/36, x)"
   ]
  },
  {
   "cell_type": "markdown",
   "id": "c1946bfe-c71b-4be6-957d-957c8497116f",
   "metadata": {},
   "source": [
    "The overall average number of rolls is then"
   ]
  },
  {
   "cell_type": "code",
   "execution_count": 3,
   "id": "4d761413-5a1e-465f-bf8d-b9a63074cef7",
   "metadata": {},
   "outputs": [
    {
     "data": {
      "text/plain": [
       "551/66"
      ]
     },
     "execution_count": 3,
     "metadata": {},
     "output_type": "execute_result"
    }
   ],
   "source": [
    "1*1/36 + (1 + 6)*15/36 + (1 + 96/11)*20/36"
   ]
  },
  {
   "cell_type": "markdown",
   "id": "af9a7251-40f1-4f00-941a-1a6da6b14ec9",
   "metadata": {},
   "source": [
    "So the overall average number of dice set aside per roll is"
   ]
  },
  {
   "cell_type": "code",
   "execution_count": 4,
   "id": "c4151beb-488d-44cc-99c9-7ff0abc549fe",
   "metadata": {},
   "outputs": [
    {
     "data": {
      "text/plain": [
       "(198/551, 0.359346642468240)"
      ]
     },
     "execution_count": 4,
     "metadata": {},
     "output_type": "execute_result"
    }
   ],
   "source": [
    "x = 3/(551/66)\n",
    "(x,numerical_approx(x))"
   ]
  },
  {
   "cell_type": "markdown",
   "id": "8efccd83-d043-48de-a141-5509f507aa53",
   "metadata": {},
   "source": [
    "which agrees with the result of the simulations."
   ]
  },
  {
   "cell_type": "markdown",
   "id": "13b58ed3-88c0-4085-a9da-35154a0ae4b4",
   "metadata": {},
   "source": [
    "Extra credit\n",
    "------------"
   ]
  },
  {
   "cell_type": "code",
   "execution_count": null,
   "id": "4f86a48e-cab5-4c9a-a8ef-c128a9aa736f",
   "metadata": {},
   "outputs": [],
   "source": []
  }
 ],
 "metadata": {
  "kernelspec": {
   "display_name": "SageMath 10.3",
   "language": "sage",
   "name": "sagemath-10.3"
  },
  "language_info": {
   "codemirror_mode": {
    "name": "ipython",
    "version": 3
   },
   "file_extension": ".py",
   "mimetype": "text/x-python",
   "name": "python",
   "nbconvert_exporter": "python",
   "pygments_lexer": "ipython3",
   "version": "3.11.8"
  }
 },
 "nbformat": 4,
 "nbformat_minor": 5
}
