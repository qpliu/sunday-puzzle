{
 "cells": [
  {
   "cell_type": "markdown",
   "id": "eb666efd-569e-4ba2-862e-454dd368907a",
   "metadata": {},
   "source": [
    "[2024-10-11 Fiddler](https://thefiddler.substack.com/p/will-you-top-the-leaderboard)\n",
    "===================="
   ]
  },
  {
   "cell_type": "markdown",
   "id": "df0ffc7a-2c36-4dab-b962-64976f8e5d24",
   "metadata": {},
   "source": [
    "The progress is $W = Pt$, where $P$ is uniformly distributed between 0 and 200 Watts,\n",
    "and $t$ is uniformly distributed between 0 and 30 minutes.  Choose units where\n",
    "$P=1$ is 200 Watts and $t=1$ is 30 minutes.  That means $W$ has some distribution between\n",
    "$0$ and $1$.\n",
    "\n",
    "The fraction of the leaderboard at less than $W$ is"
   ]
  },
  {
   "cell_type": "code",
   "execution_count": 1,
   "id": "bd6c72e3-caed-4692-9a77-d7e01c0a17a2",
   "metadata": {},
   "outputs": [
    {
     "data": {
      "text/html": [
       "<html>\\(\\displaystyle -W \\log\\left(W\\right) + W\\)</html>"
      ],
      "text/latex": [
       "$\\displaystyle -W \\log\\left(W\\right) + W$"
      ],
      "text/plain": [
       "-W*log(W) + W"
      ]
     },
     "metadata": {},
     "output_type": "display_data"
    }
   ],
   "source": [
    "W,P,t = var('W,P,t')\n",
    "assume(W > 0)\n",
    "assume(W < 1)\n",
    "show(integral(integral(1, t, 0, 1), P, 0, W) + integral(integral(1, t, 0, W/P), P, W, 1))"
   ]
  },
  {
   "cell_type": "code",
   "execution_count": 2,
   "id": "1513fd73-aa5d-4301-b857-658f6f8be6c6",
   "metadata": {},
   "outputs": [],
   "source": [
    "f(W) = W - W*log(W)"
   ]
  },
  {
   "cell_type": "code",
   "execution_count": 3,
   "id": "ae41706a-9832-4565-80ec-92579f940b02",
   "metadata": {},
   "outputs": [
    {
     "data": {
      "image/png": "[encoded data removed]",
      "text/plain": [
       "Graphics object consisting of 1 graphics primitive"
      ]
     },
     "execution_count": 3,
     "metadata": {},
     "output_type": "execute_result"
    }
   ],
   "source": [
    "plot(f(W), W, 0, 1)"
   ]
  },
  {
   "cell_type": "markdown",
   "id": "a60054b8-3e61-4e27-b5ca-cbe8d7ee6073",
   "metadata": {},
   "source": [
    "If I'm halfway up the leaderboard, my progress is"
   ]
  },
  {
   "cell_type": "code",
   "execution_count": 4,
   "id": "fd526cf5-6987-49c4-8933-d562156acc76",
   "metadata": {},
   "outputs": [
    {
     "data": {
      "text/plain": [
       "[W == -1/2/(log(W) - 1)]"
      ]
     },
     "execution_count": 4,
     "metadata": {},
     "output_type": "execute_result"
    }
   ],
   "source": [
    "solve(f(W) == 1/2, W)"
   ]
  },
  {
   "cell_type": "markdown",
   "id": "a7ef6621-f662-4507-9e36-4709fd65f806",
   "metadata": {},
   "source": [
    "That was unhelpful.  Turning to Wolfram Alpha, my progress is approximately 67 kJ."
   ]
  },
  {
   "cell_type": "code",
   "execution_count": 5,
   "id": "2296889d-bab0-4f14-a531-73be895f1756",
   "metadata": {},
   "outputs": [
    {
     "data": {
      "text/html": [
       "<html>\\(\\displaystyle \\left(e^{\\left(\\operatorname{W_{-1}}({-\\frac{1}{2} \\, e^{\\left(-1\\right)}}) + 1\\right)}, -e^{\\left(\\operatorname{W_{-1}}({-\\frac{1}{2} \\, e^{\\left(-1\\right)}}) + 1\\right)} \\log\\left(e^{\\left(\\operatorname{W_{-1}}({-\\frac{1}{2} \\, e^{\\left(-1\\right)}}) + 1\\right)}\\right) + e^{\\left(\\operatorname{W_{-1}}({-\\frac{1}{2} \\, e^{\\left(-1\\right)}}) + 1\\right)}\\right)\\)</html>"
      ],
      "text/latex": [
       "$\\displaystyle \\left(e^{\\left(\\operatorname{W_{-1}}({-\\frac{1}{2} \\, e^{\\left(-1\\right)}}) + 1\\right)}, -e^{\\left(\\operatorname{W_{-1}}({-\\frac{1}{2} \\, e^{\\left(-1\\right)}}) + 1\\right)} \\log\\left(e^{\\left(\\operatorname{W_{-1}}({-\\frac{1}{2} \\, e^{\\left(-1\\right)}}) + 1\\right)}\\right) + e^{\\left(\\operatorname{W_{-1}}({-\\frac{1}{2} \\, e^{\\left(-1\\right)}}) + 1\\right)}\\right)$"
      ],
      "text/plain": [
       "(e^(lambert_w(-1, -1/2*e^(-1)) + 1),\n",
       " -e^(lambert_w(-1, -1/2*e^(-1)) + 1)*log(e^(lambert_w(-1, -1/2*e^(-1)) + 1)) + e^(lambert_w(-1, -1/2*e^(-1)) + 1))"
      ]
     },
     "metadata": {},
     "output_type": "display_data"
    },
    {
     "data": {
      "text/plain": [
       "(0.186682308850837, 67.2056311863013, 0.500000000000000)"
      ]
     },
     "execution_count": 5,
     "metadata": {},
     "output_type": "execute_result"
    }
   ],
   "source": [
    "W_half = e^(1+lambert_w(-1,-1/(2*e)))\n",
    "show((W_half, f(W_half)))\n",
    "(numerical_approx(W_half), 360*numerical_approx(W_half), numerical_approx(f(W_half)))"
   ]
  },
  {
   "cell_type": "markdown",
   "id": "0c99954e-0628-46bb-8f51-b669744833d8",
   "metadata": {},
   "source": [
    "That means my progress at the end of my workout is approximately 134 kJ."
   ]
  },
  {
   "cell_type": "code",
   "execution_count": 6,
   "id": "7456d1c0-8472-4452-adb1-18b6755c9006",
   "metadata": {},
   "outputs": [
    {
     "data": {
      "text/html": [
       "<html>\\(\\displaystyle 2 \\, e^{\\left(\\operatorname{W_{-1}}({-\\frac{1}{2} \\, e^{\\left(-1\\right)}}) + 1\\right)}\\)</html>"
      ],
      "text/latex": [
       "$\\displaystyle 2 \\, e^{\\left(\\operatorname{W_{-1}}({-\\frac{1}{2} \\, e^{\\left(-1\\right)}}) + 1\\right)}$"
      ],
      "text/plain": [
       "2*e^(lambert_w(-1, -1/2*e^(-1)) + 1)"
      ]
     },
     "metadata": {},
     "output_type": "display_data"
    },
    {
     "data": {
      "text/plain": [
       "(0.373364617701674, 134.411262372603)"
      ]
     },
     "execution_count": 6,
     "metadata": {},
     "output_type": "execute_result"
    }
   ],
   "source": [
    "show(2*W_half)\n",
    "(numerical_approx(2*W_half), 360*numerical_approx(2*W_half))"
   ]
  },
  {
   "cell_type": "markdown",
   "id": "5c96e34e-ac01-4715-ac1e-f9b627ff2baf",
   "metadata": {},
   "source": [
    "And my position on the leaderboard would be"
   ]
  },
  {
   "cell_type": "code",
   "execution_count": 7,
   "id": "50136eee-d334-4e9b-adf1-a9a53447007e",
   "metadata": {},
   "outputs": [
    {
     "data": {
      "text/html": [
       "<html>\\(\\displaystyle -2 \\, e^{\\left(\\operatorname{W_{-1}}({-\\frac{1}{2} \\, e^{\\left(-1\\right)}}) + 1\\right)} \\log\\left(2 \\, e^{\\left(\\operatorname{W_{-1}}({-\\frac{1}{2} \\, e^{\\left(-1\\right)}}) + 1\\right)}\\right) + 2 \\, e^{\\left(\\operatorname{W_{-1}}({-\\frac{1}{2} \\, e^{\\left(-1\\right)}}) + 1\\right)}\\)</html>"
      ],
      "text/latex": [
       "$\\displaystyle -2 \\, e^{\\left(\\operatorname{W_{-1}}({-\\frac{1}{2} \\, e^{\\left(-1\\right)}}) + 1\\right)} \\log\\left(2 \\, e^{\\left(\\operatorname{W_{-1}}({-\\frac{1}{2} \\, e^{\\left(-1\\right)}}) + 1\\right)}\\right) + 2 \\, e^{\\left(\\operatorname{W_{-1}}({-\\frac{1}{2} \\, e^{\\left(-1\\right)}}) + 1\\right)}$"
      ],
      "text/plain": [
       "-2*e^(lambert_w(-1, -1/2*e^(-1)) + 1)*log(2*e^(lambert_w(-1, -1/2*e^(-1)) + 1)) + 2*e^(lambert_w(-1, -1/2*e^(-1)) + 1)"
      ]
     },
     "metadata": {},
     "output_type": "display_data"
    },
    {
     "data": {
      "text/plain": [
       "(-2*e^(lambert_w(-1, -1/2*e^(-1)) + 1)*log(2*e^(lambert_w(-1, -1/2*e^(-1)) + 1)) + 2*e^(lambert_w(-1, -1/2*e^(-1)) + 1),\n",
       " 0.741203367919243)"
      ]
     },
     "execution_count": 7,
     "metadata": {},
     "output_type": "execute_result"
    }
   ],
   "source": [
    "show(f(2*W_half))\n",
    "(f(2*W_half),numerical_approx(f(2*W_half)))"
   ]
  },
  {
   "cell_type": "markdown",
   "id": "a8f4ef2c-a1af-4841-8f38-21d37bf03fbf",
   "metadata": {},
   "source": [
    "#### Added bonus problem\n",
    "I'm not sure what the added bonus problem is asking for.  Maybe it's where someone\n",
    "who has been going 15 minutes at 200 Watts would be on the leaderboard, which is"
   ]
  },
  {
   "cell_type": "code",
   "execution_count": 8,
   "id": "236f195a-f3ed-4370-ab73-c35aef467954",
   "metadata": {},
   "outputs": [
    {
     "data": {
      "text/plain": [
       "(1/2*log(2) + 1/2, 0.846573590279973)"
      ]
     },
     "execution_count": 8,
     "metadata": {},
     "output_type": "execute_result"
    }
   ],
   "source": [
    "(f(1/2).simplify(),numerical_approx(f(1/2)))"
   ]
  },
  {
   "cell_type": "markdown",
   "id": "81437241-7ae4-45be-9718-6d43a53d01eb",
   "metadata": {},
   "source": [
    "Extra credit\n",
    "------------"
   ]
  },
  {
   "cell_type": "markdown",
   "id": "c1c59100-74a8-48d9-a7e9-bbe8a2ddf9cb",
   "metadata": {},
   "source": [
    "My expected progress at some random time is"
   ]
  },
  {
   "cell_type": "code",
   "execution_count": 9,
   "id": "b1e3ab18-c6a5-4735-bb67-c4c7d50a8926",
   "metadata": {},
   "outputs": [
    {
     "data": {
      "text/plain": [
       "1/4"
      ]
     },
     "execution_count": 9,
     "metadata": {},
     "output_type": "execute_result"
    }
   ],
   "source": [
    "integral(integral(P*t, t, 0, 1), P, 0, 1)"
   ]
  },
  {
   "cell_type": "markdown",
   "id": "cbcd5f0a-331c-49d8-80ea-c32453b235e6",
   "metadata": {},
   "source": [
    "or about 90 kJ, which would have a leaderboard position of"
   ]
  },
  {
   "cell_type": "code",
   "execution_count": 10,
   "id": "27f6d44a-2b52-4ed2-a88f-3c45776259c7",
   "metadata": {},
   "outputs": [
    {
     "data": {
      "text/plain": [
       "(1/2*log(2) + 1/4, 0.596573590279973)"
      ]
     },
     "execution_count": 10,
     "metadata": {},
     "output_type": "execute_result"
    }
   ],
   "source": [
    "(f(1/4).simplify(),numerical_approx(f(1/4)))"
   ]
  },
  {
   "cell_type": "markdown",
   "id": "487def36-da31-4b6c-9c97-334c0743f17b",
   "metadata": {},
   "source": [
    "However, my expected leaderboard position is"
   ]
  },
  {
   "cell_type": "code",
   "execution_count": 11,
   "id": "fd24fbe7-699c-4c02-a2b6-116d17b7bad3",
   "metadata": {},
   "outputs": [
    {
     "data": {
      "text/plain": [
       "1/2"
      ]
     },
     "execution_count": 11,
     "metadata": {},
     "output_type": "execute_result"
    }
   ],
   "source": [
    "assume(P>0)\n",
    "integral(integral(f(P*t),t,0,1),P,0,1)"
   ]
  },
  {
   "cell_type": "markdown",
   "id": "585582a4-3515-4c86-8cb2-3dfcc00d666b",
   "metadata": {},
   "source": [
    "[Simulations](20241011.go) agree.\n",
    "\n",
    "    $ go run 20241011.go\n",
    "    <W>=0.250033\n",
    "    <L>=0.500048"
   ]
  }
 ],
 "metadata": {
  "kernelspec": {
   "display_name": "SageMath 10.3",
   "language": "sage",
   "name": "sagemath-10.3"
  },
  "language_info": {
   "codemirror_mode": {
    "name": "ipython",
    "version": 3
   },
   "file_extension": ".py",
   "mimetype": "text/x-python",
   "name": "python",
   "nbconvert_exporter": "python",
   "pygments_lexer": "ipython3",
   "version": "3.11.8"
  }
 },
 "nbformat": 4,
 "nbformat_minor": 5
}
