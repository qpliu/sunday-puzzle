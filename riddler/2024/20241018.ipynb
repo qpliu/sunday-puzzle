{
 "cells": [
  {
   "cell_type": "markdown",
   "id": "7f3ca955-b43c-42e9-86c4-427d11525733",
   "metadata": {},
   "source": [
    "[2024-10-18 Fiddler](https://thefiddler.substack.com/p/can-you-make-the-biggest-bread-bowl)\n",
    "===================="
   ]
  },
  {
   "cell_type": "markdown",
   "id": "d295e34a-7b93-42ea-831f-fa2975fd2cff",
   "metadata": {},
   "source": [
    "Fiddler\n",
    "-------"
   ]
  },
  {
   "cell_type": "markdown",
   "id": "fbb88ab0-314d-42ff-afea-61e74ce2d688",
   "metadata": {},
   "source": [
    "The height of the cylinder as a function of its radius is"
   ]
  },
  {
   "cell_type": "code",
   "execution_count": 1,
   "id": "3fb1dcb8-2f7d-46b7-ae1f-581ffcacb5b5",
   "metadata": {},
   "outputs": [
    {
     "data": {
      "text/html": [
       "<html>\\(\\displaystyle r \\ {\\mapsto}\\ \\sqrt{-r^{2} + 1}\\)</html>"
      ],
      "text/latex": [
       "$\\displaystyle r \\ {\\mapsto}\\ \\sqrt{-r^{2} + 1}$"
      ],
      "text/plain": [
       "r |--> sqrt(-r^2 + 1)"
      ]
     },
     "metadata": {},
     "output_type": "display_data"
    }
   ],
   "source": [
    "h(r) = sqrt(1-r^2)\n",
    "show(h)"
   ]
  },
  {
   "cell_type": "markdown",
   "id": "4a14c660-dc04-4e69-8c8f-6184e9b15f88",
   "metadata": {},
   "source": [
    "And its volume is"
   ]
  },
  {
   "cell_type": "code",
   "execution_count": 2,
   "id": "60dfe44b-3ed6-43a6-92fb-d46276cea7fa",
   "metadata": {},
   "outputs": [
    {
     "data": {
      "text/html": [
       "<html>\\(\\displaystyle r \\ {\\mapsto}\\ \\pi \\sqrt{-r^{2} + 1} r^{2}\\)</html>"
      ],
      "text/latex": [
       "$\\displaystyle r \\ {\\mapsto}\\ \\pi \\sqrt{-r^{2} + 1} r^{2}$"
      ],
      "text/plain": [
       "r |--> pi*sqrt(-r^2 + 1)*r^2"
      ]
     },
     "metadata": {},
     "output_type": "display_data"
    }
   ],
   "source": [
    "V(r) = pi*r^2*h(r)\n",
    "show(V)"
   ]
  },
  {
   "cell_type": "code",
   "execution_count": 3,
   "id": "5d0edb3e-a16b-4fcd-b177-60b51e951cf7",
   "metadata": {},
   "outputs": [
    {
     "data": {
      "image/png": "[encoded data removed]",
      "text/plain": [
       "Graphics object consisting of 1 graphics primitive"
      ]
     },
     "execution_count": 3,
     "metadata": {},
     "output_type": "execute_result"
    }
   ],
   "source": [
    "plot(V(r), r, 0, 1)"
   ]
  },
  {
   "cell_type": "markdown",
   "id": "fcb70b86-b18e-425a-af4d-309e122a810e",
   "metadata": {},
   "source": [
    "Eyeballing, the maximum volume is around 1.2 cubic feet when the radius is about 0.8 feet."
   ]
  },
  {
   "cell_type": "code",
   "execution_count": 4,
   "id": "b99a359f-f0bf-4720-9a76-5bb72aea3b1d",
   "metadata": {},
   "outputs": [
    {
     "data": {
      "text/plain": [
       "[r == -1/3*sqrt(3)*sqrt(2), r == 1/3*sqrt(3)*sqrt(2), r == 0]"
      ]
     },
     "execution_count": 4,
     "metadata": {},
     "output_type": "execute_result"
    }
   ],
   "source": [
    "solve(derivative(V(r), r) == 0, r)"
   ]
  },
  {
   "cell_type": "code",
   "execution_count": 5,
   "id": "65e94c0b-d77d-4b77-9368-358595536aa9",
   "metadata": {},
   "outputs": [
    {
     "data": {
      "text/plain": [
       "(0.816496580927726, 2/3*sqrt(1/3)*pi, 1.20919957615615)"
      ]
     },
     "execution_count": 5,
     "metadata": {},
     "output_type": "execute_result"
    }
   ],
   "source": [
    "(numerical_approx(sqrt(2/3)), V(sqrt(2/3)), numerical_approx(V(sqrt(2/3))))"
   ]
  },
  {
   "cell_type": "markdown",
   "id": "6af1e654-a541-4265-8a92-eaec815e3609",
   "metadata": {},
   "source": [
    "So the volume is maximized at $2\\pi/\\sqrt{27} \\approx 1.21 \\,\\text{ft}^3$\n",
    "when $r = \\sqrt{2/3} \\approx 0.82 \\,\\text{ft}$."
   ]
  },
  {
   "cell_type": "markdown",
   "id": "8a6de207-2299-435b-9ec8-1715c8769730",
   "metadata": {},
   "source": [
    "Extra credit\n",
    "------------"
   ]
  },
  {
   "cell_type": "markdown",
   "id": "da828435-5cdf-442b-9d8b-e83572b1a98f",
   "metadata": {},
   "source": [
    "The volume of the cylindrical part is twice volume of the cylinder from the hemisphere."
   ]
  },
  {
   "cell_type": "code",
   "execution_count": 6,
   "id": "c462287e-1e97-424e-bcdc-5a586c93a7f6",
   "metadata": {},
   "outputs": [
    {
     "data": {
      "text/html": [
       "<html>\\(\\displaystyle r \\ {\\mapsto}\\ 2 \\, \\pi \\sqrt{-r^{2} + 1} r^{2}\\)</html>"
      ],
      "text/latex": [
       "$\\displaystyle r \\ {\\mapsto}\\ 2 \\, \\pi \\sqrt{-r^{2} + 1} r^{2}$"
      ],
      "text/plain": [
       "r |--> 2*pi*sqrt(-r^2 + 1)*r^2"
      ]
     },
     "metadata": {},
     "output_type": "display_data"
    }
   ],
   "source": [
    "V_c(r) = 2*V(r)\n",
    "show(V_c)"
   ]
  },
  {
   "cell_type": "markdown",
   "id": "fc485476-fe3a-409a-b94d-62ae848fb793",
   "metadata": {},
   "source": [
    "The volume of the bottom part is"
   ]
  },
  {
   "cell_type": "code",
   "execution_count": 7,
   "id": "dfee76e7-cda3-4660-b9ba-aff70a111401",
   "metadata": {},
   "outputs": [
    {
     "data": {
      "text/html": [
       "<html>\\(\\displaystyle r \\ {\\mapsto}\\ -\\frac{1}{3} \\, \\pi {\\left({\\left(r^{2} + 2\\right)} \\sqrt{-r^{2} + 1} - 2\\right)}\\)</html>"
      ],
      "text/latex": [
       "$\\displaystyle r \\ {\\mapsto}\\ -\\frac{1}{3} \\, \\pi {\\left({\\left(r^{2} + 2\\right)} \\sqrt{-r^{2} + 1} - 2\\right)}$"
      ],
      "text/plain": [
       "r |--> -1/3*pi*((r^2 + 2)*sqrt(-r^2 + 1) - 2)"
      ]
     },
     "metadata": {},
     "output_type": "display_data"
    }
   ],
   "source": [
    "y = var('y')\n",
    "V_b(r) = integral(pi*(1-y^2), y, sqrt(1-r^2), 1)\n",
    "show(V_b)"
   ]
  },
  {
   "cell_type": "markdown",
   "id": "13d2a517-8af2-4503-99d6-7c5380a4e22e",
   "metadata": {},
   "source": [
    "And the total volume is"
   ]
  },
  {
   "cell_type": "code",
   "execution_count": 8,
   "id": "501710b4-4492-4899-8c98-abf16cd67d24",
   "metadata": {},
   "outputs": [
    {
     "data": {
      "text/html": [
       "<html>\\(\\displaystyle r \\ {\\mapsto}\\ 2 \\, \\pi \\sqrt{-r^{2} + 1} r^{2} - \\frac{1}{3} \\, \\pi {\\left({\\left(r^{2} + 2\\right)} \\sqrt{-r^{2} + 1} - 2\\right)}\\)</html>"
      ],
      "text/latex": [
       "$\\displaystyle r \\ {\\mapsto}\\ 2 \\, \\pi \\sqrt{-r^{2} + 1} r^{2} - \\frac{1}{3} \\, \\pi {\\left({\\left(r^{2} + 2\\right)} \\sqrt{-r^{2} + 1} - 2\\right)}$"
      ],
      "text/plain": [
       "r |--> 2*pi*sqrt(-r^2 + 1)*r^2 - 1/3*pi*((r^2 + 2)*sqrt(-r^2 + 1) - 2)"
      ]
     },
     "metadata": {},
     "output_type": "display_data"
    }
   ],
   "source": [
    "V_s(r) = V_c(r) + V_b(r)\n",
    "show(V_s)"
   ]
  },
  {
   "cell_type": "code",
   "execution_count": 9,
   "id": "85db9e64-eced-45e2-b667-7b880aa1a348",
   "metadata": {},
   "outputs": [
    {
     "data": {
      "image/png": "[encoded data removed]",
      "text/plain": [
       "Graphics object consisting of 1 graphics primitive"
      ]
     },
     "execution_count": 9,
     "metadata": {},
     "output_type": "execute_result"
    }
   ],
   "source": [
    "plot(V_s(r), r, 0, 1)"
   ]
  },
  {
   "cell_type": "markdown",
   "id": "02a4f9a8-47e3-4f0b-b86b-fee135980efb",
   "metadata": {},
   "source": [
    "Eyeballing, the maximum volume is a bit more than 3 cubic feet when the radius is\n",
    "a bit less than 0.9 feet."
   ]
  },
  {
   "cell_type": "code",
   "execution_count": 10,
   "id": "940d5102-c739-4183-8d0c-fe115f5e143b",
   "metadata": {},
   "outputs": [
    {
     "data": {
      "text/plain": [
       "[r == -2/5*sqrt(5), r == 2/5*sqrt(5), r == 0]"
      ]
     },
     "execution_count": 10,
     "metadata": {},
     "output_type": "execute_result"
    }
   ],
   "source": [
    "solve(derivative(V_s(r), r) == 0, r)"
   ]
  },
  {
   "cell_type": "code",
   "execution_count": 11,
   "id": "f5eeeb45-91ea-4f7e-84e5-724ee110485d",
   "metadata": {},
   "outputs": [
    {
     "data": {
      "text/plain": [
       "(0.894427190999916,\n",
       " -2/15*pi*(7*sqrt(1/5) - 5) + 8/5*sqrt(1/5)*pi,\n",
       " 3.03103706653196)"
      ]
     },
     "execution_count": 11,
     "metadata": {},
     "output_type": "execute_result"
    }
   ],
   "source": [
    "(numerical_approx(sqrt(4/5)), V_s(sqrt(4/5)), numerical_approx(V_s(sqrt(4/5))))"
   ]
  },
  {
   "cell_type": "markdown",
   "id": "2677ebb1-1428-462d-bf21-6725f2511c24",
   "metadata": {},
   "source": [
    "So the volume is maximized at $2\\pi(1+\\sqrt{1/5})/3 \\approx 3.03 \\,\\text{ft}^3$ when\n",
    "$r = \\sqrt{4/5} \\approx 0.89 \\,\\text{ft}$."
   ]
  }
 ],
 "metadata": {
  "kernelspec": {
   "display_name": "SageMath 10.3",
   "language": "sage",
   "name": "sagemath-10.3"
  },
  "language_info": {
   "codemirror_mode": {
    "name": "ipython",
    "version": 3
   },
   "file_extension": ".py",
   "mimetype": "text/x-python",
   "name": "python",
   "nbconvert_exporter": "python",
   "pygments_lexer": "ipython3",
   "version": "3.11.8"
  }
 },
 "nbformat": 4,
 "nbformat_minor": 5
}
