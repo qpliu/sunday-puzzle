{
 "cells": [
  {
   "cell_type": "markdown",
   "id": "64732487-94d4-42e0-85ab-d24420216bb3",
   "metadata": {},
   "source": [
    "[2024-10-25 Fiddler](https://thefiddler.substack.com/p/can-you-solve-the-tricky-mathematical)\n",
    "===================="
   ]
  },
  {
   "cell_type": "markdown",
   "id": "f6fdd24f-e72e-449f-a131-a3d12c04a1aa",
   "metadata": {},
   "source": [
    "Fiddler\n",
    "-------"
   ]
  },
  {
   "cell_type": "markdown",
   "id": "90feb202-7067-4c4c-a5dd-a8020a3ebc8a",
   "metadata": {},
   "source": [
    "If there are $C$ kernels of candy corn and $N$ peanut butter cups, the probability\n",
    "of removing $k$ peanut butter cups is"
   ]
  },
  {
   "cell_type": "code",
   "execution_count": 1,
   "id": "a597b54b-c6f1-4a8c-aa5c-54f9005dbf19",
   "metadata": {},
   "outputs": [
    {
     "data": {
      "text/html": [
       "<html>\\(\\displaystyle \\left( C, N, k \\right) \\ {\\mapsto} \\ \\frac{\\left(C + N - k\\right)! N!}{\\left(C + N\\right)! \\left(N - k\\right)!}\\)</html>"
      ],
      "text/latex": [
       "$\\displaystyle \\left( C, N, k \\right) \\ {\\mapsto} \\ \\frac{\\left(C + N - k\\right)! N!}{\\left(C + N\\right)! \\left(N - k\\right)!}$"
      ],
      "text/plain": [
       "(C, N, k) |--> factorial(C + N - k)*factorial(N)/(factorial(C + N)*factorial(N - k))"
      ]
     },
     "metadata": {},
     "output_type": "display_data"
    }
   ],
   "source": [
    "i = var('i')\n",
    "p(C,N,k) = product((N-i)/(C+N-i),i,0,k-1)\n",
    "show(p)"
   ]
  },
  {
   "cell_type": "markdown",
   "id": "5669a070-dc4b-406f-a608-fc9e0f06f173",
   "metadata": {},
   "source": [
    "Consider $C$ having probability $1/M$ of being $0, 1, \\ldots M-1$.  The expected value of $C$\n",
    "is"
   ]
  },
  {
   "cell_type": "code",
   "execution_count": 2,
   "id": "4f058e43-4a46-4716-afd4-836459a7f3b6",
   "metadata": {},
   "outputs": [
    {
     "data": {
      "text/html": [
       "<html>\\(\\displaystyle \\left( M, N, k \\right) \\ {\\mapsto} \\ \\frac{{\\left(M k \\left(M + N - 1\\right)! \\left(N - k\\right)! - M \\left(M + N - 1\\right)! \\left(N - k\\right)!\\right)} {\\left({\\left(N^{2} + N\\right)} \\left(M + N - 1\\right)! \\left(N - k\\right)! + {\\left(M - N - 1\\right)} \\left(M + N - k\\right)! N! - {\\left(N \\left(M + N - 1\\right)! \\left(N - k\\right)! + {\\left(M - 1\\right)} \\left(M + N - k\\right)! N!\\right)} k\\right)}}{{\\left(M k^{2} \\left(M + N - 1\\right)! \\left(N - k\\right)! - 3 \\, M k \\left(M + N - 1\\right)! \\left(N - k\\right)! + 2 \\, M \\left(M + N - 1\\right)! \\left(N - k\\right)!\\right)} {\\left(N \\left(M + N - 1\\right)! \\left(N - k\\right)! - \\left(M + N - k\\right)! N!\\right)}}\\)</html>"
      ],
      "text/latex": [
       "$\\displaystyle \\left( M, N, k \\right) \\ {\\mapsto} \\ \\frac{{\\left(M k \\left(M + N - 1\\right)! \\left(N - k\\right)! - M \\left(M + N - 1\\right)! \\left(N - k\\right)!\\right)} {\\left({\\left(N^{2} + N\\right)} \\left(M + N - 1\\right)! \\left(N - k\\right)! + {\\left(M - N - 1\\right)} \\left(M + N - k\\right)! N! - {\\left(N \\left(M + N - 1\\right)! \\left(N - k\\right)! + {\\left(M - 1\\right)} \\left(M + N - k\\right)! N!\\right)} k\\right)}}{{\\left(M k^{2} \\left(M + N - 1\\right)! \\left(N - k\\right)! - 3 \\, M k \\left(M + N - 1\\right)! \\left(N - k\\right)! + 2 \\, M \\left(M + N - 1\\right)! \\left(N - k\\right)!\\right)} {\\left(N \\left(M + N - 1\\right)! \\left(N - k\\right)! - \\left(M + N - k\\right)! N!\\right)}}$"
      ],
      "text/plain": [
       "(M, N, k) |--> (M*k*factorial(M + N - 1)*factorial(N - k) - M*factorial(M + N - 1)*factorial(N - k))*((N^2 + N)*factorial(M + N - 1)*factorial(N - k) + (M - N - 1)*factorial(M + N - k)*factorial(N) - (N*factorial(M + N - 1)*factorial(N - k) + (M - 1)*factorial(M + N - k)*factorial(N))*k)/((M*k^2*factorial(M + N - 1)*factorial(N - k) - 3*M*k*factorial(M + N - 1)*factorial(N - k) + 2*M*factorial(M + N - 1)*factorial(N - k))*(N*factorial(M + N - 1)*factorial(N - k) - factorial(M + N - k)*factorial(N)))"
      ]
     },
     "metadata": {},
     "output_type": "display_data"
    }
   ],
   "source": [
    "C_exp(M,N,k) = sum(C*p(C,N,k)/M, C, 0, M-1)/sum(p(C,N,k)/M, C, 0, M-1)\n",
    "show(C_exp)"
   ]
  },
  {
   "cell_type": "code",
   "execution_count": 3,
   "id": "682e3a2c-24c0-4a01-beb6-d0d7f69a4ab7",
   "metadata": {},
   "outputs": [
    {
     "data": {
      "text/html": [
       "<html>\\(\\displaystyle -\\frac{6 \\, {\\left(M - 1\\right)} M! - 2 \\, {\\left(M - 4\\right)} M! - \\left(M + 2\\right)!}{\\left(M + 2\\right)! - 2 \\, M!}\\)</html>"
      ],
      "text/latex": [
       "$\\displaystyle -\\frac{6 \\, {\\left(M - 1\\right)} M! - 2 \\, {\\left(M - 4\\right)} M! - \\left(M + 2\\right)!}{\\left(M + 2\\right)! - 2 \\, M!}$"
      ],
      "text/plain": [
       "-(6*(M - 1)*factorial(M) - 2*(M - 4)*factorial(M) - factorial(M + 2))/(factorial(M + 2) - 2*factorial(M))"
      ]
     },
     "metadata": {},
     "output_type": "display_data"
    },
    {
     "data": {
      "text/html": [
       "<html>\\(\\displaystyle 1\\)</html>"
      ],
      "text/latex": [
       "$\\displaystyle 1$"
      ],
      "text/plain": [
       "1"
      ]
     },
     "metadata": {},
     "output_type": "display_data"
    }
   ],
   "source": [
    "show(C_exp(M,3,3))\n",
    "show(C_exp(M,3,3).limit(M=oo))"
   ]
  },
  {
   "cell_type": "markdown",
   "id": "ffd7db0b-e1cd-4c8f-b3a1-ddade0e3b4f8",
   "metadata": {},
   "source": [
    "So I'd expect one kernel."
   ]
  },
  {
   "cell_type": "markdown",
   "id": "1d6a7fce-353d-452a-8922-fc1dded8e911",
   "metadata": {},
   "source": [
    "Extra credit\n",
    "------------"
   ]
  },
  {
   "cell_type": "code",
   "execution_count": 4,
   "id": "0bc67713-dcb5-4e80-b4c2-7b06a63fb5d8",
   "metadata": {},
   "outputs": [
    {
     "data": {
      "text/html": [
       "<html>\\(\\displaystyle \\frac{{\\left(M k \\left(M + N - 1\\right)! \\left(N - k\\right)! - M \\left(M + N - 1\\right)! \\left(N - k\\right)!\\right)} {\\left({\\left(N^{2} + N\\right)} \\left(M + N - 1\\right)! \\left(N - k\\right)! + {\\left(M - N - 1\\right)} \\left(M + N - k\\right)! N! - {\\left(N \\left(M + N - 1\\right)! \\left(N - k\\right)! + {\\left(M - 1\\right)} \\left(M + N - k\\right)! N!\\right)} k\\right)}}{{\\left(M k^{2} \\left(M + N - 1\\right)! \\left(N - k\\right)! - 3 \\, M k \\left(M + N - 1\\right)! \\left(N - k\\right)! + 2 \\, M \\left(M + N - 1\\right)! \\left(N - k\\right)!\\right)} {\\left(N \\left(M + N - 1\\right)! \\left(N - k\\right)! - \\left(M + N - k\\right)! N!\\right)}}\\)</html>"
      ],
      "text/latex": [
       "$\\displaystyle \\frac{{\\left(M k \\left(M + N - 1\\right)! \\left(N - k\\right)! - M \\left(M + N - 1\\right)! \\left(N - k\\right)!\\right)} {\\left({\\left(N^{2} + N\\right)} \\left(M + N - 1\\right)! \\left(N - k\\right)! + {\\left(M - N - 1\\right)} \\left(M + N - k\\right)! N! - {\\left(N \\left(M + N - 1\\right)! \\left(N - k\\right)! + {\\left(M - 1\\right)} \\left(M + N - k\\right)! N!\\right)} k\\right)}}{{\\left(M k^{2} \\left(M + N - 1\\right)! \\left(N - k\\right)! - 3 \\, M k \\left(M + N - 1\\right)! \\left(N - k\\right)! + 2 \\, M \\left(M + N - 1\\right)! \\left(N - k\\right)!\\right)} {\\left(N \\left(M + N - 1\\right)! \\left(N - k\\right)! - \\left(M + N - k\\right)! N!\\right)}}$"
      ],
      "text/plain": [
       "(M*k*factorial(M + N - 1)*factorial(N - k) - M*factorial(M + N - 1)*factorial(N - k))*((N^2 + N)*factorial(M + N - 1)*factorial(N - k) + (M - N - 1)*factorial(M + N - k)*factorial(N) - (N*factorial(M + N - 1)*factorial(N - k) + (M - 1)*factorial(M + N - k)*factorial(N))*k)/((M*k^2*factorial(M + N - 1)*factorial(N - k) - 3*M*k*factorial(M + N - 1)*factorial(N - k) + 2*M*factorial(M + N - 1)*factorial(N - k))*(N*factorial(M + N - 1)*factorial(N - k) - factorial(M + N - k)*factorial(N)))"
      ]
     },
     "metadata": {},
     "output_type": "display_data"
    },
    {
     "data": {
      "text/html": [
       "<html>\\(\\displaystyle \\lim_{M \\to +\\infty}\\, \\frac{{\\left(M k \\left(M + N - 1\\right)! \\left(N - k\\right)! - M \\left(M + N - 1\\right)! \\left(N - k\\right)!\\right)} {\\left({\\left(N^{2} + N\\right)} \\left(M + N - 1\\right)! \\left(N - k\\right)! + {\\left(M - N - 1\\right)} \\left(M + N - k\\right)! N! - {\\left(N \\left(M + N - 1\\right)! \\left(N - k\\right)! + {\\left(M - 1\\right)} \\left(M + N - k\\right)! N!\\right)} k\\right)}}{{\\left(M k^{2} \\left(M + N - 1\\right)! \\left(N - k\\right)! - 3 \\, M k \\left(M + N - 1\\right)! \\left(N - k\\right)! + 2 \\, M \\left(M + N - 1\\right)! \\left(N - k\\right)!\\right)} {\\left(N \\left(M + N - 1\\right)! \\left(N - k\\right)! - \\left(M + N - k\\right)! N!\\right)}}\\)</html>"
      ],
      "text/latex": [
       "$\\displaystyle \\lim_{M \\to +\\infty}\\, \\frac{{\\left(M k \\left(M + N - 1\\right)! \\left(N - k\\right)! - M \\left(M + N - 1\\right)! \\left(N - k\\right)!\\right)} {\\left({\\left(N^{2} + N\\right)} \\left(M + N - 1\\right)! \\left(N - k\\right)! + {\\left(M - N - 1\\right)} \\left(M + N - k\\right)! N! - {\\left(N \\left(M + N - 1\\right)! \\left(N - k\\right)! + {\\left(M - 1\\right)} \\left(M + N - k\\right)! N!\\right)} k\\right)}}{{\\left(M k^{2} \\left(M + N - 1\\right)! \\left(N - k\\right)! - 3 \\, M k \\left(M + N - 1\\right)! \\left(N - k\\right)! + 2 \\, M \\left(M + N - 1\\right)! \\left(N - k\\right)!\\right)} {\\left(N \\left(M + N - 1\\right)! \\left(N - k\\right)! - \\left(M + N - k\\right)! N!\\right)}}$"
      ],
      "text/plain": [
       "limit((M*k*factorial(M + N - 1)*factorial(N - k) - M*factorial(M + N - 1)*factorial(N - k))*((N^2 + N)*factorial(M + N - 1)*factorial(N - k) + (M - N - 1)*factorial(M + N - k)*factorial(N) - (N*factorial(M + N - 1)*factorial(N - k) + (M - 1)*factorial(M + N - k)*factorial(N))*k)/((M*k^2*factorial(M + N - 1)*factorial(N - k) - 3*M*k*factorial(M + N - 1)*factorial(N - k) + 2*M*factorial(M + N - 1)*factorial(N - k))*(N*factorial(M + N - 1)*factorial(N - k) - factorial(M + N - k)*factorial(N))), M, +Infinity)"
      ]
     },
     "metadata": {},
     "output_type": "display_data"
    },
    {
     "data": {
      "text/html": [
       "<html>\\(\\displaystyle -\\lim_{M \\to +\\infty}\\, \\frac{{\\left(N^{2} + N\\right)} \\left(M + N - 1\\right)! \\left(N - k\\right)! + {\\left(M - N - 1\\right)} \\left(M + N - k\\right)! N! - {\\left(N \\left(M + N - 1\\right)! \\left(N - k\\right)! + {\\left(M - 1\\right)} \\left(M + N - k\\right)! N!\\right)} k}{2 \\, N \\left(M + N - 1\\right)! \\left(N - k\\right)! - {\\left(N \\left(M + N - 1\\right)! \\left(N - k\\right)! - \\left(M + N - k\\right)! N!\\right)} k - 2 \\, \\left(M + N - k\\right)! N!}\\)</html>"
      ],
      "text/latex": [
       "$\\displaystyle -\\lim_{M \\to +\\infty}\\, \\frac{{\\left(N^{2} + N\\right)} \\left(M + N - 1\\right)! \\left(N - k\\right)! + {\\left(M - N - 1\\right)} \\left(M + N - k\\right)! N! - {\\left(N \\left(M + N - 1\\right)! \\left(N - k\\right)! + {\\left(M - 1\\right)} \\left(M + N - k\\right)! N!\\right)} k}{2 \\, N \\left(M + N - 1\\right)! \\left(N - k\\right)! - {\\left(N \\left(M + N - 1\\right)! \\left(N - k\\right)! - \\left(M + N - k\\right)! N!\\right)} k - 2 \\, \\left(M + N - k\\right)! N!}$"
      ],
      "text/plain": [
       "-limit(((N^2 + N)*factorial(M + N - 1)*factorial(N - k) + (M - N - 1)*factorial(M + N - k)*factorial(N) - (N*factorial(M + N - 1)*factorial(N - k) + (M - 1)*factorial(M + N - k)*factorial(N))*k)/(2*N*factorial(M + N - 1)*factorial(N - k) - (N*factorial(M + N - 1)*factorial(N - k) - factorial(M + N - k)*factorial(N))*k - 2*factorial(M + N - k)*factorial(N)), M, +Infinity)"
      ]
     },
     "metadata": {},
     "output_type": "display_data"
    }
   ],
   "source": [
    "assume(k <= N)\n",
    "show(C_exp(M,N,k))\n",
    "show(C_exp(M,N,k).limit(M=oo))\n",
    "show(C_exp(M,N,k).simplify_full().limit(M=oo).simplify_full())"
   ]
  },
  {
   "cell_type": "markdown",
   "id": "483ad0b8-671d-476d-a23c-cc49657f58aa",
   "metadata": {},
   "source": [
    "Focusing on the numerator and denominator separately"
   ]
  },
  {
   "cell_type": "code",
   "execution_count": 5,
   "id": "4883b744-f143-4cee-89ce-dd03f22cd680",
   "metadata": {},
   "outputs": [
    {
     "data": {
      "text/plain": [
       "-(M - 1)*k*factorial(M + N - k)*factorial(N) + N*factorial(M + N - 1)*factorial(N - k + 1) + (M - N - 1)*factorial(M + N - k)*factorial(N)"
      ]
     },
     "execution_count": 5,
     "metadata": {},
     "output_type": "execute_result"
    }
   ],
   "source": [
    "C_exp(M,N,k).numerator().simplify_full()"
   ]
  },
  {
   "cell_type": "code",
   "execution_count": 6,
   "id": "d1901d57-9f6b-40a9-ad51-f0139d41d006",
   "metadata": {},
   "outputs": [
    {
     "data": {
      "text/plain": [
       "-2*N*factorial(M + N - 1)*factorial(N - k) + (N*factorial(M + N - 1)*factorial(N - k) - factorial(M + N - k)*factorial(N))*k + 2*factorial(M + N - k)*factorial(N)"
      ]
     },
     "execution_count": 6,
     "metadata": {},
     "output_type": "execute_result"
    }
   ],
   "source": [
    "C_exp(M,N,k).denominator().simplify_full()"
   ]
  },
  {
   "cell_type": "markdown",
   "id": "060bdb03-1065-4f90-8ec3-50c8b79d5305",
   "metadata": {},
   "source": [
    "When $M$ is large, the $(M+N-1)!$ terms dominate, giving the answer"
   ]
  },
  {
   "cell_type": "code",
   "execution_count": 7,
   "id": "c4037056-aeaa-4524-92f8-dbfd0ce2a917",
   "metadata": {},
   "outputs": [
    {
     "data": {
      "text/html": [
       "<html>\\(\\displaystyle \\frac{N - k + 1}{k - 2}\\)</html>"
      ],
      "text/latex": [
       "$\\displaystyle \\frac{N - k + 1}{k - 2}$"
      ],
      "text/plain": [
       "(N - k + 1)/(k - 2)"
      ]
     },
     "metadata": {},
     "output_type": "display_data"
    }
   ],
   "source": [
    "show((N*factorial(N-k+1)/(-2*N*factorial(N-k) + N*factorial(N-k)*k)).simplify_full())"
   ]
  },
  {
   "cell_type": "code",
   "execution_count": 8,
   "id": "5c56ac57-4a10-42bc-9b09-1a9690192256",
   "metadata": {},
   "outputs": [
    {
     "name": "stdout",
     "output_type": "stream",
     "text": [
      "(3, 3, 1)\n",
      "(4, 3, 2)\n",
      "(4, 4, 1/2)\n",
      "(5, 3, 3)\n",
      "(5, 4, 1)\n",
      "(5, 5, 1/3)\n",
      "(6, 3, 4)\n",
      "(6, 4, 3/2)\n",
      "(6, 5, 2/3)\n",
      "(6, 6, 1/4)\n",
      "(7, 3, 5)\n",
      "(7, 4, 2)\n",
      "(7, 5, 1)\n",
      "(7, 6, 1/2)\n",
      "(7, 7, 1/5)\n",
      "(8, 3, 6)\n",
      "(8, 4, 5/2)\n",
      "(8, 5, 4/3)\n",
      "(8, 6, 3/4)\n",
      "(8, 7, 2/5)\n",
      "(8, 8, 1/6)\n",
      "(9, 3, 7)\n",
      "(9, 4, 3)\n",
      "(9, 5, 5/3)\n",
      "(9, 6, 1)\n",
      "(9, 7, 3/5)\n",
      "(9, 8, 1/3)\n",
      "(9, 9, 1/7)\n",
      "(10, 3, 8)\n",
      "(10, 4, 7/2)\n",
      "(10, 5, 2)\n",
      "(10, 6, 5/4)\n",
      "(10, 7, 4/5)\n",
      "(10, 8, 1/2)\n",
      "(10, 9, 2/7)\n",
      "(10, 10, 1/8)\n"
     ]
    }
   ],
   "source": [
    "for N in [3..10]:\n",
    "    for k in [3..N]:\n",
    "        print((N,k,(N-k+1)/(k-2)))"
   ]
  },
  {
   "cell_type": "markdown",
   "id": "baca63c9-3e74-455c-9288-d3cc9bb23ebf",
   "metadata": {},
   "source": [
    "Making the rounds\n",
    "-----------------"
   ]
  },
  {
   "cell_type": "markdown",
   "id": "8688550d-0b7f-46d0-b263-253cf40d2f75",
   "metadata": {},
   "source": [
    "When imparting energy $E$ to the projectile, where $mv^2/2$ is its horizontal kinetic\n",
    "energy.  Then, $mgh + mv^2/2 = E$, where $h = E/mg - v^2/2g$ is the maximum height\n",
    "reached by the projectile.\n",
    "\n",
    "The vertical path is $y = h - g(t-t_m)^2/m$, where $t_m = \\sqrt{hm/g}$.\n",
    "\n",
    "The horizontal path is $x = vt$.\n",
    "\n",
    "Consider half of the trajectory, since the length of the second half is the same as the\n",
    "length of the first half.\n",
    "\n",
    "Choose units where $E = 1$, $m = 1$, $g = 1$.\n",
    "\n",
    "The horizontal distance traveled is $vt_m = v\\sqrt{2-v^2}$.\n"
   ]
  },
  {
   "cell_type": "code",
   "execution_count": 9,
   "id": "a2f8580b-832a-42be-9e19-bc4b6ca99be7",
   "metadata": {},
   "outputs": [
    {
     "data": {
      "image/png": "[encoded data removed]",
      "text/plain": [
       "Graphics object consisting of 1 graphics primitive"
      ]
     },
     "execution_count": 9,
     "metadata": {},
     "output_type": "execute_result"
    }
   ],
   "source": [
    "plot(x*sqrt(2-x^2), x, 0, sqrt(2))"
   ]
  },
  {
   "cell_type": "code",
   "execution_count": 10,
   "id": "740b6bd2-52ab-483d-90b0-2b6ce49983fb",
   "metadata": {},
   "outputs": [
    {
     "data": {
      "text/plain": [
       "[x == -1, x == 1]"
      ]
     },
     "execution_count": 10,
     "metadata": {},
     "output_type": "execute_result"
    }
   ],
   "source": [
    "solve(derivative(x*sqrt(2-x^2),x) == 0, x)"
   ]
  },
  {
   "cell_type": "markdown",
   "id": "52c7bcfd-2359-43ad-a8c4-017a9ff6e54b",
   "metadata": {},
   "source": [
    "So, to maximize the horizontal distance traveled, $v = 1$, so half the initial kinetic energy\n",
    "is horizontal and half is vertical, confirming the 45° result."
   ]
  },
  {
   "cell_type": "markdown",
   "id": "a1eaf1d7-7fb1-4a99-923f-8236debad2ac",
   "metadata": {},
   "source": [
    "The length of the trajectory is"
   ]
  },
  {
   "cell_type": "code",
   "execution_count": 11,
   "id": "c9e3980b-6019-4501-8d28-f758521715b0",
   "metadata": {},
   "outputs": [
    {
     "data": {
      "text/html": [
       "<html>\\(\\displaystyle \\frac{1}{4} \\, v^{2} \\operatorname{arsinh}\\left(\\frac{\\sqrt{-8 \\, v^{4} + 16 \\, v^{2}}}{2 \\, v^{2}}\\right) + \\frac{1}{2} \\, \\sqrt{\\frac{1}{2} \\, v^{4} - 3 \\, v^{2} + 4}\\)</html>"
      ],
      "text/latex": [
       "$\\displaystyle \\frac{1}{4} \\, v^{2} \\operatorname{arsinh}\\left(\\frac{\\sqrt{-8 \\, v^{4} + 16 \\, v^{2}}}{2 \\, v^{2}}\\right) + \\frac{1}{2} \\, \\sqrt{\\frac{1}{2} \\, v^{4} - 3 \\, v^{2} + 4}$"
      ],
      "text/plain": [
       "1/4*v^2*arcsinh(1/2*sqrt(-8*v^4 + 16*v^2)/v^2) + 1/2*sqrt(1/2*v^4 - 3*v^2 + 4)"
      ]
     },
     "metadata": {},
     "output_type": "display_data"
    }
   ],
   "source": [
    "v,t = var('v,t')\n",
    "h = 1 - v^2/2\n",
    "t_m = sqrt(h)\n",
    "assume(v > 0)\n",
    "assume(v^2-2 < 0)\n",
    "L = integral(sqrt(v^2 + (-2*(t-t_m))^2), t, 0, t_m)\n",
    "show(L)"
   ]
  },
  {
   "cell_type": "code",
   "execution_count": 12,
   "id": "a3c1bfc1-c92b-49b5-b30b-3d3f74c9a5ff",
   "metadata": {},
   "outputs": [
    {
     "data": {
      "image/png": "[encoded data removed]",
      "text/plain": [
       "Graphics object consisting of 1 graphics primitive"
      ]
     },
     "execution_count": 12,
     "metadata": {},
     "output_type": "execute_result"
    }
   ],
   "source": [
    "plot(L, v, 0, sqrt(2))"
   ]
  },
  {
   "cell_type": "code",
   "execution_count": 13,
   "id": "603aada5-5902-4262-9c4a-213741ec3125",
   "metadata": {},
   "outputs": [
    {
     "data": {
      "text/html": [
       "<html>\\(\\displaystyle \\left[v^{2} = -\\frac{\\sqrt{\\frac{1}{2} \\, v^{4} - 3 \\, v^{2} + 4} \\sqrt{-8 \\, v^{4} + 16 \\, v^{2}} \\sqrt{-\\frac{v^{2} - 4}{v^{2}}} \\operatorname{arsinh}\\left(\\frac{\\sqrt{-8 \\, v^{4} + 16 \\, v^{2}}}{2 \\, v^{2}}\\right) - 3 \\, \\sqrt{-8 \\, v^{4} + 16 \\, v^{2}} \\sqrt{-\\frac{v^{2} - 4}{v^{2}}} - 4 \\, \\sqrt{\\frac{1}{2} \\, v^{4} - 3 \\, v^{2} + 4}}{\\sqrt{-8 \\, v^{4} + 16 \\, v^{2}} \\sqrt{-\\frac{v^{2} - 4}{v^{2}}}}\\right]\\)</html>"
      ],
      "text/latex": [
       "$\\displaystyle \\left[v^{2} = -\\frac{\\sqrt{\\frac{1}{2} \\, v^{4} - 3 \\, v^{2} + 4} \\sqrt{-8 \\, v^{4} + 16 \\, v^{2}} \\sqrt{-\\frac{v^{2} - 4}{v^{2}}} \\operatorname{arsinh}\\left(\\frac{\\sqrt{-8 \\, v^{4} + 16 \\, v^{2}}}{2 \\, v^{2}}\\right) - 3 \\, \\sqrt{-8 \\, v^{4} + 16 \\, v^{2}} \\sqrt{-\\frac{v^{2} - 4}{v^{2}}} - 4 \\, \\sqrt{\\frac{1}{2} \\, v^{4} - 3 \\, v^{2} + 4}}{\\sqrt{-8 \\, v^{4} + 16 \\, v^{2}} \\sqrt{-\\frac{v^{2} - 4}{v^{2}}}}\\right]$"
      ],
      "text/plain": [
       "[v^2 == -(sqrt(1/2*v^4 - 3*v^2 + 4)*sqrt(-8*v^4 + 16*v^2)*sqrt(-(v^2 - 4)/v^2)*arcsinh(1/2*sqrt(-8*v^4 + 16*v^2)/v^2) - 3*sqrt(-8*v^4 + 16*v^2)*sqrt(-(v^2 - 4)/v^2) - 4*sqrt(1/2*v^4 - 3*v^2 + 4))/(sqrt(-8*v^4 + 16*v^2)*sqrt(-(v^2 - 4)/v^2))]"
      ]
     },
     "metadata": {},
     "output_type": "display_data"
    }
   ],
   "source": [
    "show(solve(derivative(L, v) == 0, v))"
   ]
  },
  {
   "cell_type": "code",
   "execution_count": 14,
   "id": "b96050d1-2be0-4a50-8d76-e7e589b30e56",
   "metadata": {},
   "outputs": [
    {
     "data": {
      "text/plain": [
       "(1.0326690694873524, 0.48423147285073653)"
      ]
     },
     "execution_count": 14,
     "metadata": {},
     "output_type": "execute_result"
    }
   ],
   "source": [
    "find_local_maximum(L, 0.1, 1.4)"
   ]
  },
  {
   "cell_type": "code",
   "execution_count": 15,
   "id": "40a023aa-3c66-445d-a813-3cf323a6baea",
   "metadata": {},
   "outputs": [
    {
     "data": {
      "text/plain": [
       "69.9766325497837"
      ]
     },
     "execution_count": 15,
     "metadata": {},
     "output_type": "execute_result"
    }
   ],
   "source": [
    "v_x = find_local_maximum(L, 0.1, 1.4)[1]\n",
    "v_y = sqrt(2 - v_x^2)\n",
    "angle = arctan(v_y/v_x)\n",
    "numerical_approx(angle*180/pi)"
   ]
  },
  {
   "cell_type": "markdown",
   "id": "a1f69dde-ad76-4abf-b05b-b57b3b639a9a",
   "metadata": {},
   "source": [
    "So, maximizing the trajectory length means throwing at an angle of almost 70°, with a trajectory\n",
    "length of about 3% more than throwing straight up, and about 15% more than throwing at an angle\n",
    "of 45°."
   ]
  },
  {
   "cell_type": "code",
   "execution_count": 16,
   "id": "d30e8619-ec47-490f-a39a-d0df2ab83b0f",
   "metadata": {},
   "outputs": [
    {
     "data": {
      "text/plain": [
       "1.14878045180443"
      ]
     },
     "execution_count": 16,
     "metadata": {},
     "output_type": "execute_result"
    }
   ],
   "source": [
    "numerical_approx(L.substitute(v == v_x)/L.substitute(v == 1))"
   ]
  },
  {
   "cell_type": "code",
   "execution_count": 17,
   "id": "a5f1ff60-aad5-4d65-9668-e613ac1d939c",
   "metadata": {},
   "outputs": [],
   "source": [
    "y(v,x) = 1-v^2/2 - (x/v - sqrt(1-v^2/2))^2"
   ]
  },
  {
   "cell_type": "code",
   "execution_count": 18,
   "id": "7a527e44-fc43-4b26-a7b9-cbfd5541329f",
   "metadata": {},
   "outputs": [
    {
     "data": {
      "image/png": "[encoded data removed]",
      "text/plain": [
       "Graphics object consisting of 4 graphics primitives"
      ]
     },
     "execution_count": 18,
     "metadata": {},
     "output_type": "execute_result"
    }
   ],
   "source": [
    "plot(y(v_x,x),x,0,2*v_x*sqrt(1-v_x^2/2),color='red') \\\n",
    " + plot(y(1,x),x,0,sqrt(2)) \\\n",
    " + plot(y(0.02,x), x, 0, 2*0.02*sqrt(1-(0.02)^2/2)) \\\n",
    " + plot(y(1.4,x), x, 0, 2*1.4*sqrt(1-(1.4)^2/2))"
   ]
  }
 ],
 "metadata": {
  "kernelspec": {
   "display_name": "SageMath 10.3",
   "language": "sage",
   "name": "sagemath-10.3"
  },
  "language_info": {
   "codemirror_mode": {
    "name": "ipython",
    "version": 3
   },
   "file_extension": ".py",
   "mimetype": "text/x-python",
   "name": "python",
   "nbconvert_exporter": "python",
   "pygments_lexer": "ipython3",
   "version": "3.11.8"
  }
 },
 "nbformat": 4,
 "nbformat_minor": 5
}
