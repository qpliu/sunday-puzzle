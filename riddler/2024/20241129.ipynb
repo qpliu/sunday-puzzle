{
 "cells": [
  {
   "cell_type": "markdown",
   "id": "bb1ccc3d-41b6-46dd-af56-29269d60d04b",
   "metadata": {},
   "source": [
    "[Fiddler 2024-11-29](https://thefiddler.substack.com/p/did-xkcd-get-its-math-right)\n",
    "===================="
   ]
  },
  {
   "cell_type": "markdown",
   "id": "53888f5d-9e56-4022-b6e4-3a49a7841f39",
   "metadata": {},
   "source": [
    "Fiddler\n",
    "-------"
   ]
  },
  {
   "cell_type": "code",
   "execution_count": 1,
   "id": "0d026e77-cd2b-4d6b-b793-1af867c319d9",
   "metadata": {},
   "outputs": [
    {
     "data": {
      "text/plain": [
       "(2/9, 2/9)"
      ]
     },
     "execution_count": 1,
     "metadata": {},
     "output_type": "execute_result"
    }
   ],
   "source": [
    "p = 1/2*4/9\n",
    "q = sum([1 if d1+d2+d3+d4 >= 16 else 0 for d1 in [1..6] for d2 in [1..6] for d3 in [1..6] for d4 in [1..4]])/(6*6*6*4)\n",
    "(p,q)"
   ]
  },
  {
   "cell_type": "markdown",
   "id": "54a2a20e-6069-4abb-8e74-986477c1fcfe",
   "metadata": {},
   "source": [
    "Extra credit\n",
    "------------"
   ]
  },
  {
   "cell_type": "markdown",
   "id": "fa2ebd5c-6324-48ea-a567-b6bc41ac0e54",
   "metadata": {},
   "source": [
    "Brute force."
   ]
  },
  {
   "cell_type": "code",
   "execution_count": 2,
   "id": "2cc60b79-b411-420f-8ca7-03ab03e4955c",
   "metadata": {},
   "outputs": [
    {
     "name": "stdout",
     "output_type": "stream",
     "text": [
      "(16, 4, 6, 6, 6)\n",
      "(21, 6, 6, 8, 10)\n",
      "(36, 10, 12, 12, 20)\n"
     ]
    }
   ],
   "source": [
    "def find_sum_2(d1,d2,p):\n",
    "    probs = [0]*(d1+d2)\n",
    "    for r1 in [1..d1]:\n",
    "        for r2 in [1..d2]:\n",
    "            probs[d1+d2-r1-r2] += 1/(d1*d2)\n",
    "    q = 0\n",
    "    for i in range(len(probs)):\n",
    "        q += probs[i]\n",
    "        if q == p:\n",
    "            return d1+d2-i\n",
    "        elif q > p:\n",
    "            return None\n",
    "    return None\n",
    "\n",
    "def find_sum_3(d1,d2,d3,p):\n",
    "    probs = [0]*(d1+d2+d3)\n",
    "    for r1 in [1..d1]:\n",
    "        for r2 in [1..d2]:\n",
    "            for r3 in [1..d3]:\n",
    "                probs[d1+d2+d3-r1-r2-r3] += 1/(d1*d2*d3)\n",
    "    q = 0\n",
    "    for i in range(len(probs)):\n",
    "        q += probs[i]\n",
    "        if q == p:\n",
    "            return d1+d2+d3-i\n",
    "        elif q > p:\n",
    "            return None\n",
    "    return None\n",
    "\n",
    "def find_sum_4(d1,d2,d3,d4,p):\n",
    "    probs = [0]*(d1+d2+d3+d4)\n",
    "    for r1 in [1..d1]:\n",
    "        for r2 in [1..d2]:\n",
    "            for r3 in [1..d3]:\n",
    "                for r4 in [1..d4]:\n",
    "                    probs[d1+d2+d3+d4-r1-r2-r3-r4] += 1/(d1*d2*d3*d4)\n",
    "    q = 0\n",
    "    for i in range(len(probs)):\n",
    "        q += probs[i]\n",
    "        if q == p:\n",
    "            return d1+d2+d3+d4-i\n",
    "        elif q > p:\n",
    "            return None\n",
    "    return None\n",
    "\n",
    "for d1 in [4,6,8,10,12,20]:\n",
    "    for d2 in [4,6,8,10,12,20]:\n",
    "        if d2 < d1:\n",
    "            continue\n",
    "        i = find_sum_2(d1,d2,2/9)\n",
    "        if i:\n",
    "            print((i,d1,d2))\n",
    "        for d3 in [4,6,8,10,12,20]:\n",
    "            if d3 < d2:\n",
    "                continue\n",
    "            i = find_sum_3(d1,d2,d3,2/9)\n",
    "            if i:\n",
    "                print((i,d1,d2,d3))\n",
    "            for d4 in [4,6,8,10,12,20]:\n",
    "                if d4 < d3:\n",
    "                    continue\n",
    "                i = find_sum_4(d1,d2,d3,d4,2/9)\n",
    "                if i:\n",
    "                    print((i,d1,d2,d3,d4))"
   ]
  },
  {
   "cell_type": "markdown",
   "id": "8299243a-8a7b-4e10-a30d-44c0cf8099f2",
   "metadata": {},
   "source": [
    "Roll 3D6 and a D4, you need 16 or better.\n",
    "\n",
    "Roll 2D6, a D8, and a D10, you need 21 or better.\n",
    "\n",
    "Roll 2D12, a D10, and a D20, you need 36 or better."
   ]
  },
  {
   "cell_type": "markdown",
   "id": "ea06e20e-e880-4b64-a9b2-64cebe524921",
   "metadata": {},
   "source": [
    "Making the rounds\n",
    "-----------------\n",
    "Take an arbitrary point on a loop.  That defines two additional loops, both intersecting or tangent\n",
    "to the original loop at the arbitrary point, where the arbitrary point, another point on the original\n",
    "loop, and a point on one of the additional loops make an equilateral triangle.  If one or both of the\n",
    "additional loops intersects or is tangent to the original loop at another point, an equilateral\n",
    "triangle can be made on the original loop.  Otherwise, one of the additional loops contains the\n",
    "original loop and the other is contained by the original loop.\n",
    "\n",
    "Take the two points on the loop that are the most distant from each other.  Neither of the two\n",
    "points that make make equilateral triangles with the two most distant points can be inside the loop,\n",
    "so, for each most distant point, there must be at least one equilateral triangle with that point and\n",
    "two other points on the loop."
   ]
  }
 ],
 "metadata": {
  "kernelspec": {
   "display_name": "SageMath 10.3",
   "language": "sage",
   "name": "sagemath-10.3"
  },
  "language_info": {
   "codemirror_mode": {
    "name": "ipython",
    "version": 3
   },
   "file_extension": ".py",
   "mimetype": "text/x-python",
   "name": "python",
   "nbconvert_exporter": "python",
   "pygments_lexer": "ipython3",
   "version": "3.11.8"
  }
 },
 "nbformat": 4,
 "nbformat_minor": 5
}
