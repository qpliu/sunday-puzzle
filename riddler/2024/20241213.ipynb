{
 "cells": [
  {
   "cell_type": "markdown",
   "id": "6260955e-8441-4d21-a6f8-62ea040a2d66",
   "metadata": {},
   "source": [
    "[2024-12-13 Fiddler](https://thefiddler.substack.com/p/can-you-survive-the-floor)\n",
    "===================="
   ]
  },
  {
   "cell_type": "markdown",
   "id": "e408a0b3-c3db-4b10-be36-12f02f056267",
   "metadata": {},
   "source": [
    "Fiddler\n",
    "-------\n",
    "I think it's clear that a corner has the best chance of avoiding eliminations, maximizing the\n",
    "probability of winning.\n",
    "\n",
    "In the first round, a corner has $1/9 + 2/9 \\cdot 1/3$ chance of facing elimination, while\n",
    "a side has $1/9 + 2/9 \\cdot 1/2 + 1/9 \\cdot 1/4$ and the middle has $1/9 + 4/9 \\cdot 1/3$.\n",
    "\n",
    "Calculating the win probabilities confirms that the corner has the best chance of winning."
   ]
  },
  {
   "cell_type": "markdown",
   "id": "b5cd8e01-1f5f-4549-85b4-6701be6f18ad",
   "metadata": {},
   "source": [
    "Extra credit\n",
    "------------\n",
    "The only relevant parameter for each round is the contestant graph.  The exact topology is\n",
    "irrelevant after the initial contestant graph is determined.  After an elimination, the loser's\n",
    "neighbors become the winner's neighbors."
   ]
  },
  {
   "cell_type": "code",
   "execution_count": 1,
   "id": "0a1a600c-f94b-44ca-ba18-e0bbc54cad6d",
   "metadata": {},
   "outputs": [],
   "source": [
    "from functools import cache\n",
    "\n",
    "@cache\n",
    "def win_probabilities(g):\n",
    "    if g.order() == 1:\n",
    "        return {g.vertices()[0]:1}\n",
    "    result = dict.fromkeys(g.vertices(), 0)\n",
    "    for a in g.vertices():\n",
    "        for b in g.vertices():\n",
    "            if a >= b or not g.has_edge(a, b):\n",
    "                continue\n",
    "            matchup_probability = (1/len(g[a]) + 1/len(g[b]))/g.order()\n",
    "            new_graph = g.copy(immutable=false)\n",
    "            new_graph.merge_vertices((a,b))\n",
    "            new_graph_canonical = new_graph.canonical_label()\n",
    "            new_graph_canonical.name(new='')\n",
    "            mapping = new_graph_canonical.is_isomorphic(new_graph,certificate=true)[1]\n",
    "            wp = win_probabilities(new_graph_canonical.copy(immutable=true))\n",
    "            for (k,v) in wp.items():\n",
    "                n = mapping[k]\n",
    "                if n == a:\n",
    "                    result[a] += 1/2*matchup_probability*v\n",
    "                    result[b] += 1/2*matchup_probability*v\n",
    "                else:\n",
    "                    result[n] += matchup_probability*v\n",
    "    return result"
   ]
  },
  {
   "cell_type": "code",
   "execution_count": 2,
   "id": "8961ba74-0905-4fd1-8101-7adcd19ab4e5",
   "metadata": {},
   "outputs": [
    {
     "data": {
      "text/html": [
       "<div class=\"notruncate\">\n",
       "<table  class=\"table_form\">\n",
       "<tbody>\n",
       "<tr>\n",
       "<th style=\"text-align:left\">Start position</th>\n",
       "<th style=\"text-align:left\">Win probability</th>\n",
       "<th style=\"text-align:left\"></th>\n",
       "</tr>\n",
       "<tr class =\"row-a\">\n",
       "<td style=\"text-align:left\">0,0</td>\n",
       "<td style=\"text-align:left\">95802636437/743178240000</td>\n",
       "<td style=\"text-align:left\">0.128909366933294</td>\n",
       "</tr>\n",
       "<tr class =\"row-b\">\n",
       "<td style=\"text-align:left\">0,1</td>\n",
       "<td style=\"text-align:left\">8977833162901/90296156160000</td>\n",
       "<td style=\"text-align:left\">0.0994265264956878</td>\n",
       "</tr>\n",
       "<tr class =\"row-a\">\n",
       "<td style=\"text-align:left\">0,2</td>\n",
       "<td style=\"text-align:left\">95802636437/743178240000</td>\n",
       "<td style=\"text-align:left\">0.128909366933294</td>\n",
       "</tr>\n",
       "<tr class =\"row-b\">\n",
       "<td style=\"text-align:left\">1,0</td>\n",
       "<td style=\"text-align:left\">8977833162901/90296156160000</td>\n",
       "<td style=\"text-align:left\">0.0994265264956878</td>\n",
       "</tr>\n",
       "<tr class =\"row-a\">\n",
       "<td style=\"text-align:left\">1,1</td>\n",
       "<td style=\"text-align:left\">3912371100007/45148078080000</td>\n",
       "<td style=\"text-align:left\">0.0866564262840710</td>\n",
       "</tr>\n",
       "<tr class =\"row-b\">\n",
       "<td style=\"text-align:left\">1,2</td>\n",
       "<td style=\"text-align:left\">8977833162901/90296156160000</td>\n",
       "<td style=\"text-align:left\">0.0994265264956878</td>\n",
       "</tr>\n",
       "<tr class =\"row-a\">\n",
       "<td style=\"text-align:left\">2,0</td>\n",
       "<td style=\"text-align:left\">95802636437/743178240000</td>\n",
       "<td style=\"text-align:left\">0.128909366933294</td>\n",
       "</tr>\n",
       "<tr class =\"row-b\">\n",
       "<td style=\"text-align:left\">2,1</td>\n",
       "<td style=\"text-align:left\">8977833162901/90296156160000</td>\n",
       "<td style=\"text-align:left\">0.0994265264956878</td>\n",
       "</tr>\n",
       "<tr class =\"row-a\">\n",
       "<td style=\"text-align:left\">2,2</td>\n",
       "<td style=\"text-align:left\">95802636437/743178240000</td>\n",
       "<td style=\"text-align:left\">0.128909366933294</td>\n",
       "</tr>\n",
       "</tbody>\n",
       "</table>\n",
       "</div>"
      ],
      "text/plain": [
       "  Start position   Win probability\n",
       "├────────────────┼──────────────────────────────┼────────────────────┤\n",
       "  0,0              95802636437/743178240000       0.128909366933294\n",
       "  0,1              8977833162901/90296156160000   0.0994265264956878\n",
       "  0,2              95802636437/743178240000       0.128909366933294\n",
       "  1,0              8977833162901/90296156160000   0.0994265264956878\n",
       "  1,1              3912371100007/45148078080000   0.0866564262840710\n",
       "  1,2              8977833162901/90296156160000   0.0994265264956878\n",
       "  2,0              95802636437/743178240000       0.128909366933294\n",
       "  2,1              8977833162901/90296156160000   0.0994265264956878\n",
       "  2,2              95802636437/743178240000       0.128909366933294"
      ]
     },
     "execution_count": 2,
     "metadata": {},
     "output_type": "execute_result"
    }
   ],
   "source": [
    "rows = [['Start position','Win probability','']]\n",
    "for (k,v) in win_probabilities(graphs.GridGraph((3,3)).copy(immutable=true)).items():\n",
    "    rows.append([f\"{k[0]},{k[1]}\",f\"{v}\",f\"{numerical_approx(v)}\"])\n",
    "table(rows=rows,header_row=true)"
   ]
  },
  {
   "cell_type": "markdown",
   "id": "f040fb03-b676-417e-b721-b192f5c83b7c",
   "metadata": {},
   "source": [
    "Running [simulations](20241213.go) agree:\n",
    "\n",
    "    $ go run 20241213.go\n",
    "    3×3:\n",
    "    0,0: 0.129202\n",
    "    0,1: 0.099212\n",
    "    0,2: 0.129183\n",
    "    1,0: 0.100070\n",
    "    1,1: 0.086032\n",
    "    1,2: 0.099874\n",
    "    2,0: 0.128740\n",
    "    2,1: 0.098840\n",
    "    2,2: 0.128846\n",
    "    4×3:\n",
    "    0,0: 0.101001\n",
    "    0,1: 0.078030\n",
    "    0,2: 0.101001\n",
    "    1,0: 0.076453\n",
    "    1,1: 0.066771\n",
    "    1,2: 0.076876\n",
    "    2,0: 0.076886\n",
    "    2,1: 0.065726\n",
    "    2,2: 0.076880\n",
    "    3,0: 0.101034\n",
    "    3,1: 0.078033\n",
    "    3,2: 0.101309\n",
    "    4×4:\n",
    "    0,0: 0.078724\n",
    "    0,1: 0.059921\n",
    "    0,2: 0.059669\n",
    "    0,3: 0.079010\n",
    "    1,0: 0.059798\n",
    "    1,1: 0.051070\n",
    "    1,2: 0.051149\n",
    "    1,3: 0.060249\n",
    "    2,0: 0.060000\n",
    "    2,1: 0.051360\n",
    "    2,2: 0.051285\n",
    "    2,3: 0.059996\n",
    "    3,0: 0.078686\n",
    "    3,1: 0.059806\n",
    "    3,2: 0.060181\n",
    "    3,3: 0.079096"
   ]
  },
  {
   "cell_type": "markdown",
   "id": "5ece3fab-1c43-45d9-aff5-778664759081",
   "metadata": {},
   "source": [
    "Thoughts on extra extra credit\n",
    "=============================="
   ]
  },
  {
   "cell_type": "markdown",
   "id": "1fc4e729-bd06-4936-b2d1-77a1f8e20a56",
   "metadata": {},
   "source": [
    "I'm not expecting to figure it out.\n",
    "\n",
    "My code is too slow for even a 4×4 grid.  Trying with a 4×3 grid, it's reasonably quick, though not\n",
    "instant."
   ]
  },
  {
   "cell_type": "code",
   "execution_count": 3,
   "id": "e77ef3ab-551d-42d3-9cc9-9a35a3c3a715",
   "metadata": {},
   "outputs": [
    {
     "name": "stdout",
     "output_type": "stream",
     "text": [
      "(0, 0) : 5721481056759142944840871/56515950945333411840000000 , 0.101236570579754\n",
      "(0, 1) : 98359922199711757608377/1261516762172620800000000 , 0.0779695721444981\n",
      "(0, 2) : 5721481056759142944840871/56515950945333411840000000 , 0.101236570579754\n",
      "(1, 0) : 2704599055027132736287979/35322469340833382400000000 , 0.0765687989967499\n",
      "(1, 1) : 853129970116933757577599/12844534305757593600000000 , 0.0664196887024947\n",
      "(1, 2) : 2704599055027132736287979/35322469340833382400000000 , 0.0765687989967499\n",
      "(2, 0) : 2704599055027132736287979/35322469340833382400000000 , 0.0765687989967499\n",
      "(2, 1) : 853129970116933757577599/12844534305757593600000000 , 0.0664196887024947\n",
      "(2, 2) : 2704599055027132736287979/35322469340833382400000000 , 0.0765687989967499\n",
      "(3, 0) : 5721481056759142944840871/56515950945333411840000000 , 0.101236570579754\n",
      "(3, 1) : 98359922199711757608377/1261516762172620800000000 , 0.0779695721444981\n",
      "(3, 2) : 5721481056759142944840871/56515950945333411840000000 , 0.101236570579754\n"
     ]
    }
   ],
   "source": [
    "for (k,v) in win_probabilities(graphs.GridGraph((4,3)).copy(immutable=true)).items():\n",
    "    print(k,':',v,',',numerical_approx(v))"
   ]
  },
  {
   "cell_type": "markdown",
   "id": "cd0f444f-6037-47ed-8f65-ed573be0c3c2",
   "metadata": {},
   "source": [
    "Due to symmetries, the number of distinct starting positions\n",
    "for an $N\\times N$ grid is"
   ]
  },
  {
   "cell_type": "code",
   "execution_count": 4,
   "id": "23091c4e-8899-4a6c-b7bd-1695552829c7",
   "metadata": {},
   "outputs": [
    {
     "name": "stdout",
     "output_type": "stream",
     "text": [
      "[(1, 1), (2, 1), (3, 3), (4, 3), (5, 6), (6, 6), (7, 10), (8, 10), (9, 15), (10, 15)]\n"
     ]
    },
    {
     "data": {
      "text/plain": [
       "N |--> 1/2*ceil(1/2*N)^2 + 1/2*ceil(1/2*N)"
      ]
     },
     "execution_count": 4,
     "metadata": {},
     "output_type": "execute_result"
    }
   ],
   "source": [
    "k = var('k')\n",
    "distinct_starts(N) = sum(k,k,1,ceil(N/2))\n",
    "print([(i,distinct_starts(i)) for i in [1..10]])\n",
    "distinct_starts"
   ]
  },
  {
   "cell_type": "code",
   "execution_count": 5,
   "id": "dfdfe5f5-e352-4c1e-8e81-571f1d78c423",
   "metadata": {},
   "outputs": [
    {
     "data": {
      "image/png": "[encoded data removed]",
      "text/plain": [
       "Graphics object consisting of 1388 graphics primitives"
      ]
     },
     "execution_count": 5,
     "metadata": {},
     "output_type": "execute_result"
    }
   ],
   "source": [
    "def p(n, xoff, yoff):\n",
    "    return (text(f\"N={n}: {distinct_starts(n)}\",(xoff+1/2,yoff-0.1),color='black',axes=false) +\n",
    "        sum([(polygon([(xoff+i/n,yoff+j/n),(xoff+(i+1)/n,yoff+j/n),\n",
    "                       (xoff+(i+1)/n,yoff+(j+1)/n),(xoff+i/n,yoff+(j+1)/n)],\n",
    "                      edgecolor='white',color='yellow' if i < n/2 and j <= i else 'blue'))\n",
    "            for i in range(n) for j in range(n)]))\n",
    "\n",
    "sum([p(n,n*1.2,0) for n in [1..4]]+[p(5+5*n,n*1.2,-1.3) for n in [1..4]])"
   ]
  },
  {
   "cell_type": "markdown",
   "id": "0c5c6d10-f237-4062-a073-02ac3be06e6b",
   "metadata": {},
   "source": [
    "Given a graph for round $n$, there are $2^n-1$ ways to add a node, not all of which are possible\n",
    "precursor graphs, and not all of which are topologically distinct.  For example, a node that\n",
    "connects to just two nodes that are not connected to each other will make a graph that cannot be\n",
    "a precursor, since the new node was the loser, and the winner will not be connected to the other\n",
    "node the loser was connected to."
   ]
  },
  {
   "cell_type": "markdown",
   "id": "a7338288-c30f-43a2-ba5e-e8983a68c5d5",
   "metadata": {},
   "source": [
    "There is one possible graph in the last round:"
   ]
  },
  {
   "cell_type": "code",
   "execution_count": 6,
   "id": "ffc1036d-6ac3-4523-a518-055ab2230ebc",
   "metadata": {},
   "outputs": [
    {
     "data": {
      "image/png": "[encoded data removed]",
      "text/plain": [
       "Complete graph: Graph on 2 vertices"
      ]
     },
     "execution_count": 6,
     "metadata": {},
     "output_type": "execute_result"
    }
   ],
   "source": [
    "graphs.CompleteGraph(2)"
   ]
  },
  {
   "cell_type": "markdown",
   "id": "7dbee272-7eaf-4283-a910-f4ce4acfc54e",
   "metadata": {},
   "source": [
    "There are two distinct graphs for the second to last round:"
   ]
  },
  {
   "cell_type": "code",
   "execution_count": 7,
   "id": "26ea975b-498f-4eac-9ff6-ca21c0fdc0de",
   "metadata": {},
   "outputs": [
    {
     "data": {
      "image/png": "[encoded data removed]",
      "text/plain": [
       "Complete graph disjoint_union Complete graph: Graph on 6 vertices"
      ]
     },
     "execution_count": 7,
     "metadata": {},
     "output_type": "execute_result"
    }
   ],
   "source": [
    "g = graphs.CompleteGraph(3)\n",
    "g.delete_edge(1,2)\n",
    "g + graphs.CompleteGraph(3)"
   ]
  },
  {
   "cell_type": "markdown",
   "id": "251c9729-9390-445c-b8d5-5bff0bd06768",
   "metadata": {},
   "source": [
    "The initial graphs are always a grid:"
   ]
  },
  {
   "cell_type": "code",
   "execution_count": 8,
   "id": "8cdf13f8-9000-4d2a-8fa5-d35f5e3d012d",
   "metadata": {},
   "outputs": [
    {
     "data": {
      "image/png": "[encoded data removed]",
      "text/plain": [
       "Grid Graph for [3, 3]: Graph on 9 vertices"
      ]
     },
     "execution_count": 8,
     "metadata": {},
     "output_type": "execute_result"
    }
   ],
   "source": [
    "graphs.GridGraph((3,3))"
   ]
  },
  {
   "cell_type": "markdown",
   "id": "5f378495-f6ef-4e1f-b5b6-76bf6ac667fe",
   "metadata": {},
   "source": [
    "Looking at the number of distinct possible graphs for each round,"
   ]
  },
  {
   "cell_type": "code",
   "execution_count": 9,
   "id": "3791a203-120c-48de-847c-4d9b94f1fea4",
   "metadata": {},
   "outputs": [],
   "source": [
    "def one_round(g):\n",
    "    if g.order() == 1:\n",
    "        return set()\n",
    "    result = set()\n",
    "    for a in g.vertices():\n",
    "        for b in g.vertices():\n",
    "            if a >= b or not g.has_edge(a, b):\n",
    "                continue\n",
    "            new_graph = g.copy(immutable=false)\n",
    "            new_graph.merge_vertices((a,b))\n",
    "            new_graph_canonical = new_graph.canonical_label()\n",
    "            new_graph_canonical.name(new='')\n",
    "            result.add(new_graph_canonical.copy(immutable=true))\n",
    "    return result\n",
    "\n",
    "def distinct_graphs(nx,ny):\n",
    "    s = {graphs.GridGraph((nx,ny)).copy(immutable=true)}\n",
    "    for i in [2..nx*ny-1]:\n",
    "        acc = set()\n",
    "        for g in s:\n",
    "            acc = acc | one_round(g)\n",
    "        s = acc\n",
    "        print(f\"Round {i}: {len(s)} distinct graphs\")"
   ]
  },
  {
   "cell_type": "markdown",
   "id": "3fcb4e29-4458-45b3-9f41-2888d8c53d0c",
   "metadata": {},
   "source": [
    "For 3×3,"
   ]
  },
  {
   "cell_type": "code",
   "execution_count": 10,
   "id": "84333208-441f-4e62-8271-ef9698b0c1df",
   "metadata": {},
   "outputs": [
    {
     "name": "stdout",
     "output_type": "stream",
     "text": [
      "Round 2: 2 distinct graphs\n",
      "Round 3: 7 distinct graphs\n",
      "Round 4: 10 distinct graphs\n",
      "Round 5: 10 distinct graphs\n",
      "Round 6: 5 distinct graphs\n",
      "Round 7: 2 distinct graphs\n",
      "Round 8: 1 distinct graphs\n"
     ]
    }
   ],
   "source": [
    "distinct_graphs(3,3)"
   ]
  },
  {
   "cell_type": "markdown",
   "id": "6f16ff29-8e5a-40d3-82c8-a4867f726b8e",
   "metadata": {},
   "source": [
    "For 4×3,"
   ]
  },
  {
   "cell_type": "code",
   "execution_count": 11,
   "id": "a6afca77-0c33-4b2e-a4a7-39299bb5ea48",
   "metadata": {},
   "outputs": [
    {
     "name": "stdout",
     "output_type": "stream",
     "text": [
      "Round 2: 5 distinct graphs\n",
      "Round 3: 26 distinct graphs\n",
      "Round 4: 77 distinct graphs\n",
      "Round 5: 132 distinct graphs\n",
      "Round 6: 114 distinct graphs\n",
      "Round 7: 59 distinct graphs\n",
      "Round 8: 18 distinct graphs\n",
      "Round 9: 6 distinct graphs\n",
      "Round 10: 2 distinct graphs\n",
      "Round 11: 1 distinct graphs\n"
     ]
    }
   ],
   "source": [
    "distinct_graphs(4,3)"
   ]
  },
  {
   "cell_type": "markdown",
   "id": "07a08d11-f769-4d97-9a52-247551977307",
   "metadata": {},
   "source": [
    "For 4×4, we can see why the win probability calculation is so slow."
   ]
  },
  {
   "cell_type": "code",
   "execution_count": 12,
   "id": "caa5684a-a268-4f7a-8f33-bcef771daf6f",
   "metadata": {},
   "outputs": [
    {
     "name": "stdout",
     "output_type": "stream",
     "text": [
      "Round 2: 4 distinct graphs\n",
      "Round 3: 32 distinct graphs\n",
      "Round 4: 157 distinct graphs\n",
      "Round 5: 588 distinct graphs\n",
      "Round 6: 1405 distinct graphs\n",
      "Round 7: 2171 distinct graphs\n",
      "Round 8: 1987 distinct graphs\n",
      "Round 9: 1125 distinct graphs\n",
      "Round 10: 367 distinct graphs\n",
      "Round 11: 84 distinct graphs\n",
      "Round 12: 18 distinct graphs\n",
      "Round 13: 6 distinct graphs\n",
      "Round 14: 2 distinct graphs\n",
      "Round 15: 1 distinct graphs\n"
     ]
    }
   ],
   "source": [
    "distinct_graphs(4,4)"
   ]
  }
 ],
 "metadata": {
  "kernelspec": {
   "display_name": "SageMath 10.3",
   "language": "sage",
   "name": "sagemath-10.3"
  },
  "language_info": {
   "codemirror_mode": {
    "name": "ipython",
    "version": 3
   },
   "file_extension": ".py",
   "mimetype": "text/x-python",
   "name": "python",
   "nbconvert_exporter": "python",
   "pygments_lexer": "ipython3",
   "version": "3.11.8"
  }
 },
 "nbformat": 4,
 "nbformat_minor": 5
}
