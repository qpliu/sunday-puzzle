{
 "cells": [
  {
   "cell_type": "markdown",
   "id": "6260955e-8441-4d21-a6f8-62ea040a2d66",
   "metadata": {},
   "source": [
    "[2024-12-13 Fiddler](https://thefiddler.substack.com/p/can-you-survive-the-floor)\n",
    "===================="
   ]
  },
  {
   "cell_type": "markdown",
   "id": "e408a0b3-c3db-4b10-be36-12f02f056267",
   "metadata": {},
   "source": [
    "Fiddler\n",
    "-------\n",
    "I think it's clear that a corner has the best chance of avoiding eliminations, maximizing the\n",
    "probability of winning.\n",
    "\n",
    "In the first round, a corner has $1/9 + 2/9 \\cdot 1/3$ chance of facing elimination, while\n",
    "a side has $1/9 + 2/9 \\cdot 1/2 + 1/9 \\cdot 1/4$ and the middle has $1/9 + 4/9 \\cdot 1/3$.\n",
    "\n",
    "Calculating the win probabilities confirms that the corner has the best chance of winning."
   ]
  },
  {
   "cell_type": "markdown",
   "id": "b5cd8e01-1f5f-4549-85b4-6701be6f18ad",
   "metadata": {},
   "source": [
    "Extra credit\n",
    "------------\n",
    "The only relevant parameter for each round is the contestant graph.  The exact topology is\n",
    "irrelevant after the initial contestant graph is determined.  After an elimination, the loser's\n",
    "neighbors become the winner's neighbors."
   ]
  },
  {
   "cell_type": "code",
   "execution_count": 1,
   "id": "5ae53f2f-96b6-40ed-b20f-a3d30734e666",
   "metadata": {},
   "outputs": [],
   "source": [
    "from functools import cache\n",
    "\n",
    "def initial_graph(n):\n",
    "    def initial_neighbors(i,j):\n",
    "        neighbors = []\n",
    "        if i > 1:\n",
    "            neighbors.append((i-1,j))\n",
    "        if j > 1:\n",
    "            neighbors.append((i,j-1))\n",
    "        if j < n:\n",
    "            neighbors.append((i,j+1))\n",
    "        if i < n:\n",
    "            neighbors.append((i+1,j))\n",
    "        return frozenset(neighbors)\n",
    "    return tuple([((i,j),initial_neighbors(i,j)) for i in [1..n] for j in [1..n]])\n",
    "\n",
    "def matchup_probability(a,b,graph):\n",
    "    if a[0] not in b[1]:\n",
    "        return 0\n",
    "    return (1/len(a[1]) + 1/len(b[1]))/len(graph)\n",
    "\n",
    "def new_graph(winner,loser,graph):\n",
    "    g = []\n",
    "    for c in graph:\n",
    "        if c == winner:\n",
    "            g.append((c[0], frozenset((c[1]-{loser[0]}) | (loser[1]-{c[0]}))))\n",
    "        elif c == loser:\n",
    "            pass\n",
    "        elif loser[0] in c[1]:\n",
    "            g.append((c[0], frozenset((c[1]-{loser[0]}) | {winner[0]})))\n",
    "        else:\n",
    "            g.append(c)\n",
    "    return tuple(g)\n",
    "            \n",
    "@cache\n",
    "def win_probability(contestant, graph):\n",
    "    if len(graph) == 2:\n",
    "        return 1/2\n",
    "    p = 0\n",
    "    for a in graph:\n",
    "        for b in graph:\n",
    "            if a[0] >= b[0]:\n",
    "                continue\n",
    "            if a[0] == contestant:\n",
    "                p += 1/2*matchup_probability(a,b,graph)*win_probability(contestant,new_graph(a,b,graph))\n",
    "            elif b[0] == contestant:\n",
    "                p += 1/2*matchup_probability(a,b,graph)*win_probability(contestant,new_graph(b,a,graph))\n",
    "            else:\n",
    "                # it doesn't matter who won, choose a\n",
    "                p += matchup_probability(a,b,graph)*win_probability(contestant,new_graph(a,b,graph))\n",
    "    return p"
   ]
  },
  {
   "cell_type": "code",
   "execution_count": 2,
   "id": "37ad1733-d9a1-4eb9-b158-6c834b98928f",
   "metadata": {},
   "outputs": [
    {
     "data": {
      "text/plain": [
       "[((1, 1), 0.128909366933294, 95802636437/743178240000),\n",
       " ((2, 1), 0.0994265264956878, 8977833162901/90296156160000),\n",
       " ((2, 2), 0.0866564262840710, 3912371100007/45148078080000)]"
      ]
     },
     "execution_count": 2,
     "metadata": {},
     "output_type": "execute_result"
    }
   ],
   "source": [
    "probs = [(c,win_probability(c,initial_graph(3))) for c in [(1,1),(2,1),(2,2)]]\n",
    "[(c,numerical_approx(p),p) for (c,p) in probs]"
   ]
  },
  {
   "cell_type": "markdown",
   "id": "fc70903a-cd88-4c9d-a1b3-dcefc60e519e",
   "metadata": {},
   "source": [
    "Corner: 95802636437/743178240000 ≈ 12.9%\n",
    "\n",
    "Side: 8977833162901/90296156160000 ≈ 9.9%\n",
    "\n",
    "Center: 3912371100007/45148078080000 ≈ 8.7%"
   ]
  },
  {
   "cell_type": "code",
   "execution_count": 3,
   "id": "374af218-ebd8-4d2d-9720-c691cdef7897",
   "metadata": {},
   "outputs": [
    {
     "data": {
      "text/plain": [
       "1"
      ]
     },
     "execution_count": 3,
     "metadata": {},
     "output_type": "execute_result"
    }
   ],
   "source": [
    "4*probs[0][1]+4*probs[1][1]+probs[2][1]"
   ]
  },
  {
   "cell_type": "markdown",
   "id": "f040fb03-b676-417e-b721-b192f5c83b7c",
   "metadata": {},
   "source": [
    "Running [simulations](20241213.go) agree:\n",
    "\n",
    "    $ go run 20241213.go\n",
    "    1,1: 0.129202\n",
    "    1,2: 0.099212\n",
    "    1,3: 0.129183\n",
    "    2,1: 0.100070\n",
    "    2,2: 0.086032\n",
    "    2,3: 0.099874\n",
    "    3,1: 0.128740\n",
    "    3,2: 0.098840\n",
    "    3,3: 0.128846"
   ]
  }
 ],
 "metadata": {
  "kernelspec": {
   "display_name": "SageMath 10.3",
   "language": "sage",
   "name": "sagemath-10.3"
  },
  "language_info": {
   "codemirror_mode": {
    "name": "ipython",
    "version": 3
   },
   "file_extension": ".py",
   "mimetype": "text/x-python",
   "name": "python",
   "nbconvert_exporter": "python",
   "pygments_lexer": "ipython3",
   "version": "3.11.8"
  }
 },
 "nbformat": 4,
 "nbformat_minor": 5
}
