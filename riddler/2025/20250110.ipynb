{
 "cells": [
  {
   "cell_type": "markdown",
   "id": "2ff55cdb-7004-4264-a336-b9e6f2408e38",
   "metadata": {},
   "source": [
    "[2025-01-10 Fiddler](https://thefiddler.substack.com/p/can-you-survive-squid-game-season)\n",
    "===================="
   ]
  },
  {
   "cell_type": "code",
   "execution_count": 1,
   "id": "f6e8c3cd-4a97-4fd4-9b7d-60f94eee5faa",
   "metadata": {},
   "outputs": [],
   "source": [
    "load('20250110.sage')"
   ]
  },
  {
   "cell_type": "markdown",
   "id": "919767c3-e3a4-4bc5-a041-d8106916bf48",
   "metadata": {},
   "source": [
    "Fiddler\n",
    "-------\n",
    "If there must be at least $n$ survivors after round $k$, there must be at least\n",
    "$k\\left\\lceil \\frac nk \\right\\rceil$ contestants remaining after round $k-1$."
   ]
  },
  {
   "cell_type": "code",
   "execution_count": 2,
   "id": "2d715f7d-7cfd-49f9-ab2f-08cbe416e96f",
   "metadata": {},
   "outputs": [
    {
     "data": {
      "text/plain": [
       "454"
      ]
     },
     "execution_count": 2,
     "metadata": {},
     "output_type": "execute_result"
    }
   ],
   "source": [
    "minimum_contestants(38,1)"
   ]
  },
  {
   "cell_type": "markdown",
   "id": "1379a6fb-287a-4f46-827f-58c77c0664fe",
   "metadata": {},
   "source": [
    "Extra credit\n",
    "------------"
   ]
  },
  {
   "cell_type": "markdown",
   "id": "3bdad70b-b216-49f4-80d9-fdc8cb365ac6",
   "metadata": {},
   "source": [
    "If there are $n$ people and the game lasts $R(n)$ rounds on average,\n",
    "\n",
    " $$ R(n) = 1 + \\sum_{k=1}^{10} \\frac 1{10}R\\left(k\\left\\lfloor \\frac nk \\right\\rfloor\\right) $$\n",
    "\n",
    " where $R(0) = 0$."
   ]
  },
  {
   "cell_type": "code",
   "execution_count": 3,
   "id": "1fa55975-dd53-4521-847c-1deb8ccbb290",
   "metadata": {},
   "outputs": [
    {
     "data": {
      "text/plain": [
       "[(359, 9.94123199733660),\n",
       " (719, 9.30151939857388),\n",
       " (839, 9.92862012940791),\n",
       " (1079, 10.0000000000000),\n",
       " (1259, 9.85243840766832),\n",
       " (1439, 9.55884010440459),\n",
       " (1679, 9.24696008147396),\n",
       " (1799, 10.0000000000000)]"
      ]
     },
     "execution_count": 3,
     "metadata": {},
     "output_type": "execute_result"
    }
   ],
   "source": [
    "[(n,numerical_approx(average_rounds(n+1)-average_rounds(n)))\n",
    " for n in [1..2000] if average_rounds(n+1)-average_rounds(n) > 5]"
   ]
  },
  {
   "cell_type": "markdown",
   "id": "55fbe628-8d10-481b-86ef-dc316cb5dfc3",
   "metadata": {},
   "source": [
    "For $N < 500$, $R(360)-R(359) \\approx 9.94$, so $N = 359$."
   ]
  },
  {
   "cell_type": "markdown",
   "id": "effcaea0-d7d0-4e55-9c98-aa2d14c07a7d",
   "metadata": {},
   "source": [
    "Making the $\\lfloor$rounds$\\rceil$\n",
    "-----------------------------------\n",
    "My approach will be to consider the target number one digit at a time.\n",
    "\n",
    "Find combinations of 1 to $n$ of the available\n",
    "digits for which the least significant digit of its sum is equal to\n",
    "the least significant digit of the target number,\n",
    "where $n$ is initially 7, because using 8 digits as the least significant\n",
    "digit means either 1 3-digit number and 7 1-digit numbers with a maximum\n",
    "sum of 1008, or 2 2-digit numbers\n",
    "and 6 1-digit numbers with a maximum sum of 198.\n",
    "\n",
    "Remove the digits in the combination from the available digits.  Subtract\n",
    "the sum of the combination from the target number and divide the result by\n",
    "10 (there should be no remainder).  Set $n$ to the number of digits in the\n",
    "combination, and recursively determine the next least significant digits.\n",
    "\n",
    "If there are $n$ possible most significant digits,\n",
    "and $m \\ge n$ possible next most significant digits, there\n",
    "are $m!/(m-n)!$ possible combinations unless one of the\n",
    "$m$ digits is zero and $m > n$ and $m$ digits are not the ones digits.\n",
    "\n",
    "If one of the $m$ digits is zero and $m > n$ and $m$ digits are not the ones\n",
    "digits, then there are $n(m-1)!/(m-n)!$ possible combinations."
   ]
  },
  {
   "cell_type": "code",
   "execution_count": 4,
   "id": "cc33b769-5c83-48fa-bd34-dd138d5b3397",
   "metadata": {},
   "outputs": [
    {
     "data": {
      "text/plain": [
       "6872"
      ]
     },
     "execution_count": 4,
     "metadata": {},
     "output_type": "execute_result"
    }
   ],
   "source": [
    "how_handsome(2025)"
   ]
  },
  {
   "cell_type": "markdown",
   "id": "e5feb188-f196-42b8-ad64-13ac4df5a2cb",
   "metadata": {},
   "source": [
    "Appendix\n",
    "--------"
   ]
  },
  {
   "cell_type": "code",
   "execution_count": 5,
   "id": "6b0d91ef-6099-4d54-b912-9f8ca4166ecc",
   "metadata": {},
   "outputs": [],
   "source": [
    "# %load '20250110.sage'\n",
    "def minimum_contestants(k, n):\n",
    "    if k == 1:\n",
    "        return n\n",
    "    return minimum_contestants(k-1, ceil(n/k)*k)\n",
    "\n",
    "from functools import cache\n",
    "\n",
    "@cache\n",
    "def average_rounds(n):\n",
    "    if n == 0:\n",
    "        return 0\n",
    "    lhs = 1\n",
    "    rhs = 1\n",
    "    for k in [1..10]:\n",
    "        m = k*floor(n/k)\n",
    "        if m == n:\n",
    "            lhs -= 1/10\n",
    "        else:\n",
    "            rhs += average_rounds(m)/10\n",
    "    return rhs/lhs\n",
    "\n",
    "def handsome(n, maximum_continuations, continuations, available_digits):\n",
    "    if n == 0:\n",
    "        if len(available_digits) == 0:\n",
    "            yield continuations\n",
    "        return\n",
    "    if maximum_continuations < 1:\n",
    "        return\n",
    "    for digit_1 in available_digits:\n",
    "        sum_1 = digit_1\n",
    "        digits_1 = frozenset({digit_1})\n",
    "        if mod(n, 10) == mod(sum_1, 10):\n",
    "            for h in handsome((n - sum_1)//10, 1,\n",
    "                              [digits_1] + continuations,\n",
    "                              available_digits - digits_1):\n",
    "                yield h\n",
    "        if maximum_continuations < 2:\n",
    "            continue\n",
    "        for digit_2 in available_digits:\n",
    "            if digit_2 <= digit_1:\n",
    "                continue\n",
    "            sum_2 = sum_1 + digit_2\n",
    "            digits_2 = digits_1 | frozenset({digit_2})\n",
    "            if mod(n, 10) == mod(sum_2, 10):\n",
    "                for h in handsome((n - sum_2)//10, 2,\n",
    "                                  [digits_2] + continuations,\n",
    "                                  available_digits - digits_2):\n",
    "                    yield h\n",
    "            if maximum_continuations < 3:\n",
    "                continue\n",
    "            for digit_3 in available_digits:\n",
    "                if digit_3 <= digit_2:\n",
    "                    continue\n",
    "                sum_3 = sum_2 + digit_3\n",
    "                digits_3 = digits_2 | frozenset({digit_3})\n",
    "                if mod(n, 10) == mod(sum_3, 10):\n",
    "                    for h in handsome((n - sum_3)//10, 3,\n",
    "                                      [digits_3] + continuations,\n",
    "                                      available_digits - digits_3):\n",
    "                        yield h\n",
    "                if maximum_continuations < 4:\n",
    "                    continue\n",
    "                for digit_4 in available_digits:\n",
    "                    if digit_4 <= digit_3:\n",
    "                        continue\n",
    "                    sum_4 = sum_3 + digit_4\n",
    "                    digits_4 = digits_3 | frozenset({digit_4})\n",
    "                    if mod(n, 10) == mod(sum_4, 10):\n",
    "                        for h in handsome((n - sum_4)//10, 4,\n",
    "                                          [digits_4] + continuations,\n",
    "                                          available_digits - digits_4):\n",
    "                            yield h\n",
    "                    if maximum_continuations < 5:\n",
    "                        continue\n",
    "                    for digit_5 in available_digits:\n",
    "                        if digit_5 <= digit_4:\n",
    "                            continue\n",
    "                        sum_5 = sum_4 + digit_5\n",
    "                        digits_5 = digits_4 | frozenset({digit_5})\n",
    "                        if mod(n, 10) == mod(sum_5, 10):\n",
    "                            for h in handsome((n - sum_5)//10, 5,\n",
    "                                              [digits_5] + continuations,\n",
    "                                              available_digits - digits_5):\n",
    "                                yield h\n",
    "                        if maximum_continuations < 6:\n",
    "                            continue\n",
    "                        for digit_6 in available_digits:\n",
    "                            if digit_6 <= digit_5:\n",
    "                                continue\n",
    "                            sum_6 = sum_5 + digit_6\n",
    "                            digits_6 = digits_5 | frozenset({digit_6})\n",
    "                            if mod(n, 10) == mod(sum_6, 10):\n",
    "                                for h in handsome((n - sum_6)//10, 6,\n",
    "                                                  [digits_6] + continuations,\n",
    "                                                  available_digits - digits_6):\n",
    "                                    yield h\n",
    "                            if maximum_continuations < 7:\n",
    "                                continue\n",
    "                            for digit_7 in available_digits:\n",
    "                                if digit_7 <= digit_6:\n",
    "                                    continue\n",
    "                                sum_7 = sum_6 + digit_7\n",
    "                                digits_7 = digits_6 | frozenset({digit_7})\n",
    "                                if mod(n, 10) == mod(sum_7, 10):\n",
    "                                    for h in handsome((n - sum_7)//10, 7,\n",
    "                                                      [digits_7] + continuations,\n",
    "                                                      available_digits - digits_7):\n",
    "                                        yield h\n",
    "                                # no need to go to 8 or beyond when\n",
    "                                # dealing with numbers of up to 4 digits\n",
    "\n",
    "def handsome_combinations(digits):\n",
    "    combos = 1\n",
    "    for i in [0..len(digits)-2]:\n",
    "        n = len(digits[i])\n",
    "        m = len(digits[i+1])\n",
    "        if m > n and i+2 < len(digits) and 0 in digits[i+1]:\n",
    "            combos *= n*factorial(m-1)//factorial(m-n)\n",
    "        else:\n",
    "            combos *= factorial(m)//factorial(m-n)\n",
    "    return combos\n",
    "\n",
    "def how_handsome(n):\n",
    "    combos = 0\n",
    "    for h in handsome(n, 7, [], frozenset([0..9])):\n",
    "        combos += handsome_combinations(h)\n",
    "    return combos\n"
   ]
  }
 ],
 "metadata": {
  "kernelspec": {
   "display_name": "SageMath 10.3",
   "language": "sage",
   "name": "sagemath-10.3"
  },
  "language_info": {
   "codemirror_mode": {
    "name": "ipython",
    "version": 3
   },
   "file_extension": ".py",
   "mimetype": "text/x-python",
   "name": "python",
   "nbconvert_exporter": "python",
   "pygments_lexer": "ipython3",
   "version": "3.11.8"
  }
 },
 "nbformat": 4,
 "nbformat_minor": 5
}
