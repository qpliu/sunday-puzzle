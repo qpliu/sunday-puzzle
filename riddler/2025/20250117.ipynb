{
 "cells": [
  {
   "cell_type": "markdown",
   "id": "d7b7b8af-16b3-40c2-82f8-bfa805c39ea6",
   "metadata": {},
   "source": [
    "[2025-01-17 Fiddler](https://thefiddler.substack.com/p/can-you-break-the-bell-curve)\n",
    "===================="
   ]
  },
  {
   "cell_type": "markdown",
   "id": "6cf3e4d3-da26-48c0-bd7d-00363dc3fce8",
   "metadata": {},
   "source": [
    "Fiddler\n",
    "-------"
   ]
  },
  {
   "cell_type": "markdown",
   "id": "b8ce6abf-ae79-4c06-9829-7f1364290125",
   "metadata": {},
   "source": [
    "After many rows, let $P_L$ be the probability of passing through the left slot\n",
    "in a 3-pin row, and let $P_A$, $P_B$, and $P_C$ be the probabilities of passing\n",
    "through each respective slot in a 2-pin row."
   ]
  },
  {
   "cell_type": "code",
   "execution_count": 1,
   "id": "2d296f66-6cca-4915-ace6-1a1a734e3d25",
   "metadata": {},
   "outputs": [],
   "source": [
    "P_L, P_A, P_B, P_C = var('P_L, P_A, P_B, P_C')"
   ]
  },
  {
   "cell_type": "markdown",
   "id": "53274612-aa19-45ff-8b12-8054db5822b3",
   "metadata": {},
   "source": [
    "The probabilities satisfy"
   ]
  },
  {
   "cell_type": "code",
   "execution_count": 2,
   "id": "895eb091-ccdf-4eae-86f1-a156abfb4f70",
   "metadata": {},
   "outputs": [
    {
     "data": {
      "text/html": [
       "<html>\\(\\displaystyle \\left[P_{L} = P_{A} + \\frac{1}{4} \\, P_{B}, P_{A} = \\frac{1}{4} \\, P_{L}, P_{B} = \\frac{1}{2} \\, P_{L} + \\frac{1}{4}, P_{C} = -\\frac{3}{4} \\, P_{L} + \\frac{3}{4}\\right]\\)</html>"
      ],
      "text/latex": [
       "$\\displaystyle \\left[P_{L} = P_{A} + \\frac{1}{4} \\, P_{B}, P_{A} = \\frac{1}{4} \\, P_{L}, P_{B} = \\frac{1}{2} \\, P_{L} + \\frac{1}{4}, P_{C} = -\\frac{3}{4} \\, P_{L} + \\frac{3}{4}\\right]$"
      ],
      "text/plain": [
       "[P_L == P_A + 1/4*P_B,\n",
       " P_A == 1/4*P_L,\n",
       " P_B == 1/2*P_L + 1/4,\n",
       " P_C == -3/4*P_L + 3/4]"
      ]
     },
     "metadata": {},
     "output_type": "display_data"
    }
   ],
   "source": [
    "eqns = [P_L == P_A + 1/4*P_B, P_A == 1/4*P_L, P_B == 3/4*P_L + 1/4*(1-P_L), P_C == 3/4*(1-P_L)]\n",
    "show(eqns)"
   ]
  },
  {
   "cell_type": "markdown",
   "id": "8a7e9411-6008-43a7-8fbe-69b3ca53bc1e",
   "metadata": {},
   "source": [
    "Solving,"
   ]
  },
  {
   "cell_type": "code",
   "execution_count": 3,
   "id": "1ebe809e-76b6-48c7-9257-5eebc491c973",
   "metadata": {},
   "outputs": [
    {
     "data": {
      "text/plain": [
       "[[P_L == (1/10), P_A == (1/40), P_B == (3/10), P_C == (27/40)]]"
      ]
     },
     "execution_count": 3,
     "metadata": {},
     "output_type": "execute_result"
    }
   ],
   "source": [
    "solve(eqns, [P_L,P_A,P_B,P_C])"
   ]
  },
  {
   "cell_type": "markdown",
   "id": "52de1632-d4fd-4ff7-9a00-aaac5f257291",
   "metadata": {},
   "source": [
    "The probability of landing in bucket A is 1/40."
   ]
  },
  {
   "cell_type": "markdown",
   "id": "da96bd34-b791-4d55-b16a-b65275075fc1",
   "metadata": {},
   "source": [
    "Extra credit\n",
    "------------"
   ]
  },
  {
   "cell_type": "markdown",
   "id": "d7999edb-ef8a-420a-8a67-f5d1d08d3326",
   "metadata": {},
   "source": [
    "Since there are no solutions when the probability of going left when hitting a pin is 1/4 and\n",
    "the probability of going right when hitting a pin is 3/4, I'll assume that the probabilities\n",
    "are 1/2."
   ]
  },
  {
   "cell_type": "code",
   "execution_count": 4,
   "id": "e316acd0-469b-462a-b3d2-2f1035d862df",
   "metadata": {},
   "outputs": [],
   "source": [
    "left = 1/2\n",
    "right = 1/2"
   ]
  },
  {
   "cell_type": "markdown",
   "id": "51d04283-9cf6-48a4-a6d1-08ede7a9ca52",
   "metadata": {},
   "source": [
    "The probabilities of passing through each slot in the first 5-pin row from the top are"
   ]
  },
  {
   "cell_type": "code",
   "execution_count": 5,
   "id": "3636679b-39cd-4359-a271-2f2107fadf72",
   "metadata": {},
   "outputs": [
    {
     "data": {
      "text/html": [
       "<html>\\(\\displaystyle \\left(0, \\frac{1}{2} \\, a, \\frac{1}{2} \\, a + \\frac{1}{2} \\, b, -\\frac{1}{2} \\, a + \\frac{1}{2}, -\\frac{1}{2} \\, a - \\frac{1}{2} \\, b + \\frac{1}{2}, 0\\right)\\)</html>"
      ],
      "text/latex": [
       "$\\displaystyle \\left(0, \\frac{1}{2} \\, a, \\frac{1}{2} \\, a + \\frac{1}{2} \\, b, -\\frac{1}{2} \\, a + \\frac{1}{2}, -\\frac{1}{2} \\, a - \\frac{1}{2} \\, b + \\frac{1}{2}, 0\\right)$"
      ],
      "text/plain": [
       "(0, 1/2*a, 1/2*a + 1/2*b, -1/2*a + 1/2, -1/2*a - 1/2*b + 1/2, 0)"
      ]
     },
     "metadata": {},
     "output_type": "display_data"
    }
   ],
   "source": [
    "a,b,c = var('a,b,c')\n",
    "p1 = (0,left*a,right*a+left*b,right*b+left*(1-a-b),right*(1-a-b),0)\n",
    "show(p1)"
   ]
  },
  {
   "cell_type": "markdown",
   "id": "f53480e2-e760-46e5-bf10-a2e14795e464",
   "metadata": {},
   "source": [
    "The probabilities of passing through each slot from the $i+1$th 5-pin row\n",
    "from the top, given the probabilities of the passing through each slot\n",
    "from the $i$th 5-pin row is given by"
   ]
  },
  {
   "cell_type": "code",
   "execution_count": 6,
   "id": "dac3d86c-932b-4bc8-8308-93b790778535",
   "metadata": {},
   "outputs": [],
   "source": [
    "def next(p):\n",
    "    q = (p[0] + left*p[1], right*p[1] + left*p[2], right*p[2] + left*p[3], right*p[3] + left*p[4], right*p[4] + p[5])\n",
    "    return (left*q[0], right*q[0] + left*q[1], right*q[1] + left*q[2], right*q[2] + left*q[3], right*q[3] + left*q[4], right*q[4])"
   ]
  },
  {
   "cell_type": "markdown",
   "id": "5e126721-c202-4575-b095-678dd07ffdd4",
   "metadata": {},
   "source": [
    "Looking for trapezoidal solutions in the first 100 5-pin rows,"
   ]
  },
  {
   "cell_type": "code",
   "execution_count": 7,
   "id": "2acf0591-5070-4c97-94ae-cf915011a15d",
   "metadata": {},
   "outputs": [
    {
     "name": "stdout",
     "output_type": "stream",
     "text": [
      "1 a == (1/3) b == (1/3) c == (1/3) [0, 1/6, 1/3, 1/3, 1/6, 0]\n",
      "3 a == (1/6) b == (2/3) c == (1/6) [3/64, 1/6, 55/192, 55/192, 1/6, 3/64]\n"
     ]
    }
   ],
   "source": [
    "p = p1\n",
    "for i in [1..100]:\n",
    "    for s in solve(p[1] - p[0] == p[2] - p[1], b):\n",
    "        for s1 in solve((p[3] - p[4] == p[4] - p[5]).substitute(s), a):\n",
    "            sa = s1.rhs()\n",
    "            if sa >= 0 and sa <= 1:\n",
    "                print (i,s1,s.substitute(s1),(c == 1-a-b).substitute(s).substitute(s1),[pp.substitute(s).substitute(s1) for pp in p])\n",
    "    p = next(p)"
   ]
  },
  {
   "cell_type": "markdown",
   "id": "1f00d776-7d4c-4ff8-bd94-0bf38782b9b3",
   "metadata": {},
   "source": [
    "(1/3,1/3,1/3) gives a trapezoidal distribution at the first 5-pin row from the top,\n",
    "and (1/6,2/3,1/6) gives a trapezoidal distribution at the third 3-pin row from the top."
   ]
  }
 ],
 "metadata": {
  "kernelspec": {
   "display_name": "SageMath 10.3",
   "language": "sage",
   "name": "sagemath-10.3"
  },
  "language_info": {
   "codemirror_mode": {
    "name": "ipython",
    "version": 3
   },
   "file_extension": ".py",
   "mimetype": "text/x-python",
   "name": "python",
   "nbconvert_exporter": "python",
   "pygments_lexer": "ipython3",
   "version": "3.11.8"
  }
 },
 "nbformat": 4,
 "nbformat_minor": 5
}
