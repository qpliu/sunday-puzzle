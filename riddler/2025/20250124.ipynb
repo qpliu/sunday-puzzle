{
 "cells": [
  {
   "cell_type": "markdown",
   "id": "db0aa877-44a7-4794-b6d8-918c7a59350b",
   "metadata": {},
   "source": [
    "[2025-01-24 Fiddler](https://thefiddler.substack.com/p/can-you-hop-to-the-lily-pad)\n",
    "===================="
   ]
  },
  {
   "cell_type": "markdown",
   "id": "5a979fe5-300c-43ff-88b9-bbd87af0520e",
   "metadata": {},
   "source": [
    "Fiddler\n",
    "-------"
   ]
  },
  {
   "cell_type": "code",
   "execution_count": 1,
   "id": "b3af32d8-021f-4f76-b748-f90d2c84e8d4",
   "metadata": {},
   "outputs": [
    {
     "data": {
      "text/plain": [
       "[[p2 == (3/5), p3 == (1/5)]]"
      ]
     },
     "execution_count": 1,
     "metadata": {},
     "output_type": "execute_result"
    }
   ],
   "source": [
    "p2,p3=var('p2,p3')\n",
    "solve([p2 == 1/2 + 1/2*p3, p3 == 1/3*p2],[p2,p3])"
   ]
  },
  {
   "cell_type": "markdown",
   "id": "9636c0fc-7bf0-4e32-8c36-639c4b6311ba",
   "metadata": {},
   "source": [
    "The probability of making it to pad 1 when starting from pad 2 is 3/5."
   ]
  },
  {
   "cell_type": "markdown",
   "id": "bc0cc5a9-1c85-4826-9cb0-8c68e5ee861b",
   "metadata": {},
   "source": [
    "Extra credit\n",
    "------------"
   ]
  },
  {
   "cell_type": "markdown",
   "id": "af8e67f1-2d07-4e93-b76e-328ec56a177c",
   "metadata": {},
   "source": [
    "The probability of making it to pad 1 from pad $k$ is\n",
    "\n",
    "$$ p_k = \\frac{p_{k-1} + (k-1)p_{k+1}}{k} $$\n",
    "\n",
    "Let there be $N$ pads where $p_1 = 1$ and $p_N = 0$, then solving for $p_2$"
   ]
  },
  {
   "cell_type": "code",
   "execution_count": 2,
   "id": "b8b1aae4-f286-4849-9b33-241d29246d14",
   "metadata": {},
   "outputs": [],
   "source": [
    "def make_p2(n):\n",
    "    k = n-1\n",
    "    pkp = 0\n",
    "    pk = var(f\"p{k}\")\n",
    "    eqs = []\n",
    "    unknowns = [pk]\n",
    "    while k > 2:\n",
    "        pkm = var(f\"p{k-1}\")\n",
    "        unknowns.append(pkm)\n",
    "        eqs.append(pk == (pkm + (k-1)*pkp)/k)\n",
    "        k -= 1\n",
    "        pkp = pk\n",
    "        pk = pkm\n",
    "    eqs.append(pk == (1 + pkp)/2)\n",
    "    return [s.rhs() for s in solve(eqs,unknowns)[0] if s.lhs() == pk][0]"
   ]
  },
  {
   "cell_type": "code",
   "execution_count": 3,
   "id": "cd4bcc88-ac40-40f1-b948-e71e048ccc91",
   "metadata": {},
   "outputs": [
    {
     "name": "stdout",
     "output_type": "stream",
     "text": [
      "4 0.600000000000000 3/5\n",
      "5 0.625000000000000 5/8\n",
      "6 0.630769230769231 41/65\n",
      "7 0.631901840490798 103/163\n",
      "8 0.632089933571794 1237/1957\n",
      "9 0.632116788321168 433/685\n",
      "10 0.632120144889189 69281/109601\n",
      "11 0.632120517837410 62353/98641\n",
      "12 0.632120555132191 6235301/9864101\n",
      "13 0.632120558522625 8573539/13563139\n",
      "14 0.632120558805161 164611949/260412269\n",
      "15 0.632120558826895 5349888343/8463398743\n"
     ]
    }
   ],
   "source": [
    "for n in [4..15]:\n",
    "    p = make_p2(n)\n",
    "    print(n,numerical_approx(p),p)"
   ]
  },
  {
   "cell_type": "markdown",
   "id": "09a8ac86-b583-42ab-8866-978fac263a6f",
   "metadata": {},
   "source": [
    "The denominator is [A000522 from OEIS](https://oeis.org/A000522) and the numerator\n",
    "is [A002627 from OEIS](https://oeis.org/A002627).  I have not worked out why this is.\n",
    "This gives"
   ]
  },
  {
   "cell_type": "code",
   "execution_count": 4,
   "id": "d9761181-078e-4102-beec-7b847ed6611b",
   "metadata": {},
   "outputs": [],
   "source": [
    "p2N(N) = (hypergeometric_U(1,N,1) - factorial(N-2))/hypergeometric_U(1,N,1)"
   ]
  },
  {
   "cell_type": "markdown",
   "id": "4bed0fa0-e92a-41f5-a8ab-6aa0c8c309b8",
   "metadata": {},
   "source": [
    "It agrees with the Fiddler answer of 3/5"
   ]
  },
  {
   "cell_type": "code",
   "execution_count": 5,
   "id": "5ce1c407-63c7-488f-ab96-35bd9e729680",
   "metadata": {},
   "outputs": [
    {
     "data": {
      "text/plain": [
       "((hypergeometric_U(1, 4, 1) - 2)/hypergeometric_U(1, 4, 1), 0.600000000000000)"
      ]
     },
     "execution_count": 5,
     "metadata": {},
     "output_type": "execute_result"
    }
   ],
   "source": [
    "(p2N(4),numerical_approx(p2N(4)))"
   ]
  },
  {
   "cell_type": "markdown",
   "id": "ba7181a0-0de9-4057-abf5-72dc378db132",
   "metadata": {},
   "source": [
    "And the answer is"
   ]
  },
  {
   "cell_type": "code",
   "execution_count": 6,
   "id": "855390da-48d7-48f1-ae14-da46efd586a1",
   "metadata": {},
   "outputs": [
    {
     "data": {
      "text/html": [
       "<html>\\(\\displaystyle p_2 = -\\lim_{N \\to +\\infty}\\, \\frac{\\left(N - 2\\right)! - U\\left(1, N, 1\\right)}{U\\left(1, N, 1\\right)} \\approx 0.632120558828558\\)</html>"
      ],
      "text/latex": [
       "$\\displaystyle p_2 = -\\lim_{N \\to +\\infty}\\, \\frac{\\left(N - 2\\right)! - U\\left(1, N, 1\\right)}{U\\left(1, N, 1\\right)} \\approx 0.632120558828558$"
      ],
      "text/plain": [
       "p_2 = -\\lim_{N \\to +\\infty}\\, \\frac{\\left(N - 2\\right)! - U\\left(1, N, 1\\right)}{U\\left(1, N, 1\\right)} \\approx 0.632120558828558"
      ]
     },
     "metadata": {},
     "output_type": "display_data"
    }
   ],
   "source": [
    "show(LatexExpr(\"p_2 = \" + latex(limit(p2N(N),N=oo)) + \" \\\\approx \" + numerical_approx(p2N(50))))"
   ]
  }
 ],
 "metadata": {
  "kernelspec": {
   "display_name": "SageMath 10.3",
   "language": "sage",
   "name": "sagemath-10.3"
  },
  "language_info": {
   "codemirror_mode": {
    "name": "ipython",
    "version": 3
   },
   "file_extension": ".py",
   "mimetype": "text/x-python",
   "name": "python",
   "nbconvert_exporter": "python",
   "pygments_lexer": "ipython3",
   "version": "3.11.8"
  }
 },
 "nbformat": 4,
 "nbformat_minor": 5
}
