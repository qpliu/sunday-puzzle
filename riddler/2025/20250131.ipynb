{
 "cells": [
  {
   "cell_type": "markdown",
   "id": "b41cd32c-0bbd-44da-8059-f88ee8b481ff",
   "metadata": {},
   "source": [
    "[2025-01-31 Fiddler](https://thefiddler.substack.com/p/can-you-spin-the-graph)\n",
    "===================="
   ]
  },
  {
   "cell_type": "markdown",
   "id": "f28c1d12-a33c-432e-bce1-828ed669d1fe",
   "metadata": {},
   "source": [
    "Fiddler\n",
    "-------\n",
    "When the rotation is from 0° to 45°, 135° to 225°, 315° to 360°, the result is a function, and \n",
    "for other rotations, the result is not a function, so the probability is 1/2."
   ]
  },
  {
   "cell_type": "markdown",
   "id": "871dfc27-6a4c-4a3d-b049-ed4b4a39a53b",
   "metadata": {},
   "source": [
    "Extra credit\n",
    "------------"
   ]
  },
  {
   "cell_type": "markdown",
   "id": "8327c6d7-0806-4565-9952-c124bdb41353",
   "metadata": {},
   "source": [
    "At an azimuthal angle of $\\phi$, consider $x = r\\cos\\phi$ and $y = r\\sin\\phi$.\n",
    "Let $\\theta$ be the polar angle of the cross-section of the surface at the azimuth.\n",
    "Since $z = |r\\cos\\phi| + |r\\sin\\phi|$, $\\theta = \\arctan\\frac{1}{|cos\\phi|+|\\sin\\phi|}$."
   ]
  },
  {
   "cell_type": "markdown",
   "id": "e4c90a70-e418-4879-85aa-be981a1de480",
   "metadata": {},
   "source": [
    "When the polar angle of the cross-section is $\\theta$, a polar rotation of $\\alpha$\n",
    "results in a function when $0 < \\alpha < \\theta$."
   ]
  },
  {
   "cell_type": "markdown",
   "id": "2ce81600-0236-48de-80ab-3752dc8cef82",
   "metadata": {},
   "source": [
    "By symmetry, only need to consider $0 < \\phi < \\pi/4$ and $0 < \\alpha < \\pi/2$."
   ]
  },
  {
   "cell_type": "markdown",
   "id": "baf3277a-6ef1-4e75-a8a7-629292e81b52",
   "metadata": {},
   "source": [
    "The probability that a random polar rotation results in a function is $2\\theta/\\pi$."
   ]
  },
  {
   "cell_type": "markdown",
   "id": "18abb5f0-a29d-45ce-a0a6-8b91c7bc127b",
   "metadata": {},
   "source": [
    "Since the distribution of $\\phi$ is uniform, the probability that the result is\n",
    "a function is\n",
    "\n",
    "$$ \\frac{8}{\\pi^2}\\int_0^{\\pi/4} d\\phi\\,\\arctan\\frac{1}{\\cos\\phi+\\sin\\phi} $$"
   ]
  },
  {
   "cell_type": "markdown",
   "id": "1e65eecf-d701-4c75-b043-a2c47da4122b",
   "metadata": {},
   "source": [
    "Since the computer does not seem to be able to do this integral symbolically,\n",
    "do it numerically:"
   ]
  },
  {
   "cell_type": "code",
   "execution_count": 1,
   "id": "66bcbb79-a7cf-4269-a290-84ff55446380",
   "metadata": {},
   "outputs": [
    {
     "data": {
      "text/plain": [
       "(0.4257292422056151, 4.7265440695289386e-15)"
      ]
     },
     "execution_count": 1,
     "metadata": {},
     "output_type": "execute_result"
    }
   ],
   "source": [
    "numerical_integral(8/pi^2*arctan(1/(cos(x)+sin(x))), 0, pi/4)"
   ]
  },
  {
   "cell_type": "markdown",
   "id": "0cee0112-cbe4-4622-8e55-7534413f60e4",
   "metadata": {},
   "source": [
    "Making the $\\lfloor$rounds$\\rceil$\n",
    "---------------------"
   ]
  },
  {
   "cell_type": "markdown",
   "id": "da388188-d2a9-49f1-8f54-bc1e390504fd",
   "metadata": {},
   "source": [
    "Let $S(N)$ be the expected minimum number of swaps to sort $N$ randomly ordered objects.\n",
    "\n",
    "Consider object 1.  The probability that object 1 is in position 1 is $1/N$.  Otherwise, object 1 is in\n",
    "position $n$, and the probablity that object $n$ is in position 1 is $1/(N-1)$.  That gives the recurrence relation\n",
    "\n",
    "$$\\begin{aligned}\n",
    "    S(N) &= \\frac{1}{N}S(N-1)+ \\frac{N-1}{N}\\left(1 + \\frac{1}{N-1}S(N-2) + \\frac{N-2}{N-1}S(N-1)\\right) \\\\\n",
    "         &= \\frac{N-1}{N} + \\frac{N-1}{N}S(N-1) + \\frac{1}{N}S(N-2) \\\\\n",
    "\\end{aligned}$$\n",
    "\n",
    "and $S(1) = 0$ and $S(2) = 1/2$."
   ]
  },
  {
   "cell_type": "code",
   "execution_count": 2,
   "id": "95110376-7d9c-4bda-8f3a-ade4e441c00a",
   "metadata": {},
   "outputs": [
    {
     "data": {
      "text/plain": [
       "S(N) = N/2-1/2"
      ]
     },
     "execution_count": 2,
     "metadata": {},
     "output_type": "execute_result"
    }
   ],
   "source": [
    "maxima('load(\\\"solve_rec\\\")')\n",
    "maxima('solve_rec(S(N) = (N-1)/N + (N-1)/N*S(N-1) + 1/N*S(N-2), S(N), S(1) = 0, S(2) = 1/2)')"
   ]
  },
  {
   "cell_type": "markdown",
   "id": "112ec9df-bcb7-4350-a426-2523e760428d",
   "metadata": {},
   "source": [
    "That's clearly wrong.  For large $N$, $S(N) = 1 + S(N-1) + O(1/N)$.  I don't get any insight\n",
    "after looking at the first few $S(N)$,"
   ]
  },
  {
   "cell_type": "code",
   "execution_count": 3,
   "id": "0771b0e4-8550-44f2-82bd-32f3d15913b8",
   "metadata": {},
   "outputs": [],
   "source": [
    "def S():\n",
    "    yield (1,0,0)\n",
    "    yield (2,0.5,1/2)\n",
    "    s2 = 0\n",
    "    s1 = 1/2\n",
    "    n = 3\n",
    "    while True:\n",
    "        s = (n-1)/n*(1+s1) + s2/n\n",
    "        yield (n,numerical_approx(s),s)\n",
    "        s2 = s1\n",
    "        s1 = s\n",
    "        n = n+1"
   ]
  },
  {
   "cell_type": "code",
   "execution_count": 4,
   "id": "fc6074e8-594a-4d61-b11f-b25cb246f6d5",
   "metadata": {},
   "outputs": [
    {
     "name": "stdout",
     "output_type": "stream",
     "text": [
      "(1, 0, 0)\n",
      "(2, 0.500000000000000, 1/2)\n",
      "(3, 1.00000000000000, 1)\n",
      "(4, 1.62500000000000, 13/8)\n",
      "(5, 2.30000000000000, 23/10)\n",
      "(6, 3.02083333333333, 145/48)\n",
      "(7, 3.77500000000000, 151/40)\n",
      "(8, 4.55572916666667, 8747/1920)\n",
      "(9, 5.35787037037037, 11573/2160)\n",
      "(10, 6.17765625000000, 39537/6400)\n",
      "(11, 7.01222117003367, 1332883/190080)\n",
      "(12, 7.85934076003086, 16297129/2073600)\n",
      "(13, 8.71725463772339, 71802283/8236800)\n",
      "(14, 9.58454650360249, 3060675407/319334400)\n",
      "(15, 10.4600603792106, 46525009679/4447872000)\n",
      "(16, 11.3428407619850, 22830579509/2012774400)\n",
      "(17, 12.2320889747630, 761694724733/62270208000)\n",
      "(18, 13.1271307407198, 235419598560331/17933819904000)\n",
      "(19, 14.0273917004063, 9834834594817/701116416000)\n",
      "(20, 14.9323786524220, 486899253619763/32606945280000)\n",
      "(21, 15.8416649880403, 8719732706394733/550430318592000)\n",
      "(22, 16.7548792455122, 837334776834360349/49975578132480000)\n",
      "(23, 17.6716960169264, 5287971169688506597/299233936834560000)\n",
      "(24, 18.5918286514508, 1404855726719146818461/75563074136309760000)\n",
      "(25, 19.5150233460699, 11776440480913373300359/603455105949696000000)\n"
     ]
    }
   ],
   "source": [
    "s = S()\n",
    "for i in range(25):\n",
    "    print(next(s))"
   ]
  }
 ],
 "metadata": {
  "kernelspec": {
   "display_name": "SageMath 10.3",
   "language": "sage",
   "name": "sagemath-10.3"
  },
  "language_info": {
   "codemirror_mode": {
    "name": "ipython",
    "version": 3
   },
   "file_extension": ".py",
   "mimetype": "text/x-python",
   "name": "python",
   "nbconvert_exporter": "python",
   "pygments_lexer": "ipython3",
   "version": "3.11.8"
  }
 },
 "nbformat": 4,
 "nbformat_minor": 5
}
