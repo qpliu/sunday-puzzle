{
 "cells": [
  {
   "cell_type": "markdown",
   "id": "a4658992-bc16-44f8-b308-40a70fc54ff0",
   "metadata": {},
   "source": [
    "[2025-02-07 Fiddler](https://thefiddler.substack.com/p/can-you-bounce-a-ball-like-an-ai)\n",
    "===================="
   ]
  },
  {
   "cell_type": "markdown",
   "id": "c5d6b71e-d021-4266-a0c2-4a3afe940206",
   "metadata": {},
   "source": [
    "Fiddler\n",
    "-------\n",
    "I'll assume the radius of the ball is much smaller than 1 and treat the ball as a point.\n",
    "\n",
    "If the angle of incidence is 0, then the loop has length 2."
   ]
  },
  {
   "cell_type": "markdown",
   "id": "e0351d34-ef5d-4ed5-977e-c68b99b14593",
   "metadata": {},
   "source": [
    "Extra credit\n",
    "------------\n",
    "If the angle of incidence is $\\pi/6$, the loop is an equilateral triangle with perimeter $3\\sqrt3/2$.\n",
    "\n",
    "![Visualization](20250207.svg)"
   ]
  }
 ],
 "metadata": {
  "kernelspec": {
   "display_name": "SageMath 10.3",
   "language": "sage",
   "name": "sagemath-10.3"
  },
  "language_info": {
   "codemirror_mode": {
    "name": "ipython",
    "version": 3
   },
   "file_extension": ".py",
   "mimetype": "text/x-python",
   "name": "python",
   "nbconvert_exporter": "python",
   "pygments_lexer": "ipython3",
   "version": "3.11.8"
  }
 },
 "nbformat": 4,
 "nbformat_minor": 5
}
