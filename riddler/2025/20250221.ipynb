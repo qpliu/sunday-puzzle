{
 "cells": [
  {
   "cell_type": "markdown",
   "id": "4f9ac8c7-a5bf-4f37-9db2-6fa00164b364",
   "metadata": {},
   "source": [
    "[2025-02-21 Fiddler](https://thefiddler.substack.com/p/can-you-defend-your-trivia-knowledge)\n",
    "===================="
   ]
  },
  {
   "cell_type": "markdown",
   "id": "c292e693-a187-4517-beed-50bf2d026058",
   "metadata": {},
   "source": [
    "Fiddler\n",
    "-------"
   ]
  },
  {
   "cell_type": "markdown",
   "id": "3d82a071-310e-47f8-a683-dab70a7b5069",
   "metadata": {},
   "source": [
    "The fewest points is 1 and the most points is 5.  The defensive efficiency can be 0, 1/4, 2/4, 3/4, or 1,\n",
    "depending on the actual points allowed, so the defensive efficiency is greater than 50% when allowing 1\n",
    "or 2 points, and less than or equal to 50% when allowing 3, 4, or 5 points.\n",
    "\n",
    "The probability of allowing 1 point is $1/6\\cdot2/5 + 2/6\\cdot1/5 = 4/30$.\n",
    "\n",
    "The probability of allowing 2 points is $1/6\\cdot2/5 + 2/6\\cdot1/5 + 2/6\\cdot1/5 = 6/30$.\n",
    "\n",
    "The probability of allowing 3 points is $1/6\\cdot1/5 + 2/6\\cdot2/5 + 2/6\\cdot2/5 + 1/6\\cdot1/5 = 10/30$.\n",
    "\n",
    "The probability of allowing 4 points is $2/6\\cdot1/5 + 2/6\\cdot1/5 + 1/6\\cdot2/5 = 6/30$.\n",
    "\n",
    "The probability of allowing 5 points is $2/6\\cdot1/5 + 1/6\\cdot2/5 = 4/30$.\n",
    "\n",
    "The probability of allowing 1 or 2 points is $1/3$."
   ]
  },
  {
   "cell_type": "markdown",
   "id": "e26c9b81-629f-49e5-b211-b09a5f5ded5c",
   "metadata": {},
   "source": [
    "Extra credit\n",
    "------------"
   ]
  },
  {
   "cell_type": "markdown",
   "id": "4629f479-dd7a-41b8-9abb-9c48ef36f570",
   "metadata": {},
   "source": [
    "With one correct answer, the probabilities are $1/6$ for a defensive efficiency of $1$,\n",
    "$2/6$ for a defensive efficiency of $2/3$, $2/6$ for a defensive efficiency of $1/3$, and\n",
    "$1/6$ for a defensive efficiency of $0$, so the probability of a defensive efficiency greater\n",
    "than 50% is $1/2$.\n",
    "\n",
    "With two correct answers, the probability of a defensive efficiency greater than 50%, as\n",
    "previously calculated, is $1/3$.\n",
    "\n",
    "With three correct answers, the probabilities are $6/120$ for a defensive\n",
    "efficiency of $1$, $24/120$ for $4/5$, $30/120$ for $3/5$, $30/120$ for $2/5$, $24/120$ for\n",
    "$1/5$, and $6/120$ for $0$, so the probability of a defensive efficiency greater than 50%\n",
    "is $1/2$.\n",
    "\n",
    "With four correct answers, the probabilities are $48/360$ for a defensive\n",
    "efficiency of $1$, $72/360$ for $3/4$, $120/360$ for $1/2$, $72/360$ for $1/4$, and\n",
    "$48/360$ for $0$, so the probability of a defensive efficiency greater than 50% is\n",
    "$1/3$.\n",
    "\n",
    "Five correct answers is symmetric to one correct answer, so the probability of a defensive\n",
    "efficiency greater than 50% is $1/2$."
   ]
  },
  {
   "cell_type": "markdown",
   "id": "6b347f9b-1f04-4c5a-b0ec-84fba3b31462",
   "metadata": {},
   "source": [
    "Adding up, the probability is $2/5\\cdot1/3 + 3/5\\cdot1/2 = 13/30$."
   ]
  }
 ],
 "metadata": {
  "kernelspec": {
   "display_name": "SageMath 10.3",
   "language": "sage",
   "name": "sagemath-10.3"
  },
  "language_info": {
   "codemirror_mode": {
    "name": "ipython",
    "version": 3
   },
   "file_extension": ".py",
   "mimetype": "text/x-python",
   "name": "python",
   "nbconvert_exporter": "python",
   "pygments_lexer": "ipython3",
   "version": "3.11.8"
  }
 },
 "nbformat": 4,
 "nbformat_minor": 5
}
