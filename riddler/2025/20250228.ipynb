{
 "cells": [
  {
   "cell_type": "markdown",
   "id": "209eed37-a468-4daa-9402-52b6063ece3b",
   "metadata": {},
   "source": [
    "[2025-02-28 Fiddler](https://thefiddler.substack.com/p/how-many-rabbits-can-you-pull-out)\n",
    "===================="
   ]
  },
  {
   "cell_type": "markdown",
   "id": "e8d5faf7-70d6-42bf-9bfa-e51057a20de0",
   "metadata": {},
   "source": [
    "Fiddler\n",
    "-------\n",
    "The history seems irrelevant other than knowing how many of each color remain.\n",
    "And it seems like the optimal guess is a color with the most remaining.\n",
    "\n",
    "So the first guess should give $1/3$ point, and the second guess should give $2/5$ point.\n",
    "\n",
    "When it gets to the third drawing, there is a $1/5$ probability that the first two\n",
    "draws were the same color, and $4/5$ probability that they were different colors.\n",
    "If they are the same color, the third guess should give $1/2$ point, and if they\n",
    "are different colors, the third guess should give $1/2$ point.\n",
    "\n",
    "For the fourth drawing, the probability that the first three drawings were three\n",
    "different colors is $4/5\\cdot1/2 = 2/5$, so the probability that they were two of\n",
    "one color and one of a second color is $3/5$.  So the fourth guess should give\n",
    "$2/5\\cdot1/3 + 3/5\\cdot2/3 = 8/15$ point.\n",
    "\n",
    "For the fifth drawing, the probability that there is only one color remaining is\n",
    "$3/5\\cdot1/3 = 1/5$, so the probability that there are two colors remaining is $4/5$.\n",
    "So the fifth guess should give $1/5\\cdot1 + 4/5\\cdot1/2 = 3/5$ point.\n",
    "\n",
    "The sixth guess should give $1$ point.\n",
    "\n",
    "Adding up, I expect to get $1/3+2/5+1/2+8/15+3/5+1 = 101/30$ points on average."
   ]
  },
  {
   "cell_type": "markdown",
   "id": "425ad61e-4bc1-4754-93d8-fc90e7489e94",
   "metadata": {},
   "source": [
    "Extra credit\n",
    "------------\n",
    "Doing a similar calculation, but with code."
   ]
  },
  {
   "cell_type": "code",
   "execution_count": 1,
   "id": "5c328ef2-388d-4587-84b9-c049204735e3",
   "metadata": {},
   "outputs": [],
   "source": [
    "from functools import cache\n",
    "\n",
    "@cache\n",
    "def expected_score(n1,n2,n3):\n",
    "    n = n1+n2+n3\n",
    "    if n == 0:\n",
    "        return 0\n",
    "    score = max(n1,n2,n3)/n\n",
    "\n",
    "    if n1 == 0:\n",
    "        score1 = 0\n",
    "    else:\n",
    "        score1 = n1/n*expected_score(n1-1,n2,n3)\n",
    "\n",
    "    if n2 == 0:\n",
    "        score2 = 0\n",
    "    elif n2 == n1:\n",
    "        score2 = n2/n*expected_score(n2-1,n1,n3)\n",
    "    else:\n",
    "        score2 = n2/n*expected_score(n1,n2-1,n3)\n",
    "\n",
    "    if n3 == 0:\n",
    "        score3 = 0\n",
    "    elif n3 == n1:\n",
    "        score3 = n3/n*expected_score(n3-1,n1,n2)\n",
    "    elif n3 == n2:\n",
    "        score3 = n3/n*expected_score(n1,n3-1,n2)\n",
    "    else:\n",
    "        score3 = n3/n*expected_score(n1,n2,n3-1)\n",
    "\n",
    "    return score + score1 + score2 + score3"
   ]
  },
  {
   "cell_type": "code",
   "execution_count": 2,
   "id": "4681cc09-ee99-4ba7-af25-6db829f32a9d",
   "metadata": {},
   "outputs": [
    {
     "data": {
      "text/plain": [
       "101/30"
      ]
     },
     "execution_count": 2,
     "metadata": {},
     "output_type": "execute_result"
    }
   ],
   "source": [
    "expected_score(2,2,2)"
   ]
  },
  {
   "cell_type": "code",
   "execution_count": 3,
   "id": "f7b525dc-668f-42ef-b0f3-ed9789c13459",
   "metadata": {},
   "outputs": [
    {
     "data": {
      "text/plain": [
       "29551687577/2156564410"
      ]
     },
     "execution_count": 3,
     "metadata": {},
     "output_type": "execute_result"
    }
   ],
   "source": [
    "expected_score(10,10,10)"
   ]
  },
  {
   "cell_type": "code",
   "execution_count": 4,
   "id": "f7058028-d708-48ae-b3e7-758c6076d94c",
   "metadata": {},
   "outputs": [
    {
     "data": {
      "text/plain": [
       "13.7031323710846"
      ]
     },
     "execution_count": 4,
     "metadata": {},
     "output_type": "execute_result"
    }
   ],
   "source": [
    "numerical_approx(expected_score(10,10,10))"
   ]
  },
  {
   "cell_type": "markdown",
   "id": "456f81f4-8dbd-4851-8893-769c8dd97180",
   "metadata": {},
   "source": [
    "Further thoughts\n",
    "----------------\n",
    "And when the numbers of each color are large and roughly equal, I expect to score\n",
    "approximately $1/3$ for each drawing, so if there are $n$ of each color as $n$ gets\n",
    "large, I can expect to score more than $n$, but scaling as $n$."
   ]
  },
  {
   "cell_type": "code",
   "execution_count": 5,
   "id": "50a656e0-f716-496c-9af9-039a48ccaf41",
   "metadata": {},
   "outputs": [
    {
     "data": {
      "text/plain": [
       "6357588604688205448448524547784071859929178373147240576677503697122706946821907737133865437582907229393524933/56328848452239347422706729666154045129115745793233047683578280513596486809852627642860824283926904431235510"
      ]
     },
     "execution_count": 5,
     "metadata": {},
     "output_type": "execute_result"
    }
   ],
   "source": [
    "expected_score(100,100,100)"
   ]
  },
  {
   "cell_type": "code",
   "execution_count": 6,
   "id": "90036300-69e1-49e9-bad7-c68261427959",
   "metadata": {},
   "outputs": [
    {
     "data": {
      "text/plain": [
       "112.865588049057"
      ]
     },
     "execution_count": 6,
     "metadata": {},
     "output_type": "execute_result"
    }
   ],
   "source": [
    "numerical_approx(expected_score(100,100,100))"
   ]
  }
 ],
 "metadata": {
  "kernelspec": {
   "display_name": "SageMath 10.3",
   "language": "sage",
   "name": "sagemath-10.3"
  },
  "language_info": {
   "codemirror_mode": {
    "name": "ipython",
    "version": 3
   },
   "file_extension": ".py",
   "mimetype": "text/x-python",
   "name": "python",
   "nbconvert_exporter": "python",
   "pygments_lexer": "ipython3",
   "version": "3.11.8"
  }
 },
 "nbformat": 4,
 "nbformat_minor": 5
}
