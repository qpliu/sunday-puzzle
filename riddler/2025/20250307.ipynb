{
 "cells": [
  {
   "cell_type": "markdown",
   "id": "167fb5f3-eddd-4f06-9965-6328d1f4c869",
   "metadata": {},
   "source": [
    "[2025-03-07 Fiddler](https://thefiddler.substack.com/p/can-you-tip-the-dominoes)\n",
    "===================="
   ]
  },
  {
   "cell_type": "markdown",
   "id": "0fd3ee11-3050-4ada-a08f-055bd7a0739e",
   "metadata": {},
   "source": [
    "Fiddler\n",
    "-------\n",
    "Let $p$ be the probability of knocking over the dominos when placing one.\n",
    "The probability of placing $N$ dominos without knocking them over is $(1-p)^N$."
   ]
  },
  {
   "cell_type": "markdown",
   "id": "d76ceb59-1e02-4880-84f2-6996947890eb",
   "metadata": {},
   "source": [
    "Then, the median number placed, $M$, satisfies $(1-p)^M = 1/2$, or $M = -\\log2/\\log(1-p)$."
   ]
  },
  {
   "cell_type": "markdown",
   "id": "e17a29bc-07bd-4c88-8695-7da5fb6a7cd4",
   "metadata": {},
   "source": [
    "When $p = 1/100$, $M$ is"
   ]
  },
  {
   "cell_type": "code",
   "execution_count": 1,
   "id": "88c06544-d1de-414d-b2c7-3c1cb95a9f3f",
   "metadata": {},
   "outputs": [
    {
     "data": {
      "text/plain": [
       "68.9675639365284"
      ]
     },
     "execution_count": 1,
     "metadata": {},
     "output_type": "execute_result"
    }
   ],
   "source": [
    "numerical_approx(-log(2)/log(1-1/100))"
   ]
  },
  {
   "cell_type": "markdown",
   "id": "ac31f073-8276-474d-a6d1-09a56498df7c",
   "metadata": {},
   "source": [
    "Extra credit\n",
    "------------\n",
    "Taking the Taylor series approximation for $pM$ near $p = 0$,"
   ]
  },
  {
   "cell_type": "code",
   "execution_count": 2,
   "id": "c9e9fd05-af71-4d5d-8c6e-bba0fabbd3e5",
   "metadata": {},
   "outputs": [
    {
     "data": {
      "text/plain": [
       "(log(2)) + (-1/2*log(2))*p + Order(p^2)"
      ]
     },
     "execution_count": 2,
     "metadata": {},
     "output_type": "execute_result"
    }
   ],
   "source": [
    "p = var(\"p\")\n",
    "(-p*log(2)/log(1-p)).series(p,2)"
   ]
  },
  {
   "cell_type": "markdown",
   "id": "7648beb7-a167-4411-9da7-602d67d99e6a",
   "metadata": {},
   "source": [
    "Simulations\n",
    "-----------\n",
    "[Simulations](20250307.go) agree\n",
    "\n",
    "    $ go run 20250307.go\n",
    "    1/100: 69 0.690000\n",
    "    1/1000: 694 0.694000"
   ]
  }
 ],
 "metadata": {
  "kernelspec": {
   "display_name": "SageMath 10.3",
   "language": "sage",
   "name": "sagemath-10.3"
  },
  "language_info": {
   "codemirror_mode": {
    "name": "ipython",
    "version": 3
   },
   "file_extension": ".py",
   "mimetype": "text/x-python",
   "name": "python",
   "nbconvert_exporter": "python",
   "pygments_lexer": "ipython3",
   "version": "3.11.8"
  }
 },
 "nbformat": 4,
 "nbformat_minor": 5
}
