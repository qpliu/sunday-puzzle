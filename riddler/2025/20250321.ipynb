{
 "cells": [
  {
   "cell_type": "markdown",
   "id": "b1b121b1-94c7-4f77-91f8-c724a80fd14c",
   "metadata": {},
   "source": [
    "[2025-03-21 Fiddler](https://thefiddler.substack.com/p/can-you-play-the-favorite)\n",
    "===================="
   ]
  },
  {
   "cell_type": "markdown",
   "id": "3bfe7b60-87bf-48f9-becc-24414d92835f",
   "metadata": {},
   "source": [
    "Fiddler\n",
    "-------\n",
    "The probability that the 1-seed wins its 3rd round game is 4/5, so the probability that\n",
    "the 4-seed wins is 1/5.\n",
    "\n",
    "The probability that the 2-seed wins its 3rd round game is 3/5, and the probability that\n",
    "the 3-seed wins is 2/5.\n",
    "\n",
    "So the matchup probabilities are 12/25 for 1 vs. 2, 8/25 for 1 vs. 3, 3/25 for 4 vs. 2,\n",
    "and 2/25 for 4 vs. 3.\n",
    "\n",
    "The probability that the 1-seed wins is $12/25\\cdot2/3 + 8/25\\cdot3/4 = 14/25 = 56\\%$."
   ]
  },
  {
   "cell_type": "markdown",
   "id": "328e0608-af8d-40c1-b4eb-4bd99f0b68e5",
   "metadata": {},
   "source": [
    "Extra credit\n",
    "------------\n",
    "First, write code to get the answers for specific cases to be able to check my reasoning."
   ]
  },
  {
   "cell_type": "code",
   "execution_count": 1,
   "id": "c895a909-7bc1-4bf4-9fd5-a955a7b7e140",
   "metadata": {},
   "outputs": [],
   "source": [
    "def matchup(a, b):\n",
    "    result = {}\n",
    "    for a_seed in a:\n",
    "        a_prob = a[a_seed]\n",
    "        for b_seed in b:\n",
    "            b_prob = b[b_seed]\n",
    "            a_win_prob = a_prob*b_prob*b_seed/(a_seed+b_seed)\n",
    "            b_win_prob = a_prob*b_prob*a_seed/(a_seed+b_seed)\n",
    "            if a_seed in result:\n",
    "                result[a_seed] += a_win_prob\n",
    "            else:\n",
    "                result[a_seed] = a_win_prob\n",
    "            if b_seed in result:\n",
    "                result[b_seed] += b_win_prob\n",
    "            else:\n",
    "                result[b_seed] = b_win_prob\n",
    "    return result\n",
    "\n",
    "def tournament(k):\n",
    "    teams = [{i:1} for i in [1..2^k]]\n",
    "    for round in [1..k]:\n",
    "        teams = [matchup(teams[i],teams[2^(k+1-round)-1-i]) for i in [0..2^(k-round)-1]]\n",
    "    return teams"
   ]
  },
  {
   "cell_type": "code",
   "execution_count": 2,
   "id": "9880c156-bb89-4d38-bed8-b962466b2e33",
   "metadata": {},
   "outputs": [
    {
     "data": {
      "text/plain": [
       "[{1: 14/25, 2: 6/25, 3: 22/175, 4: 13/175}]"
      ]
     },
     "execution_count": 2,
     "metadata": {},
     "output_type": "execute_result"
    }
   ],
   "source": [
    "tournament(2)"
   ]
  },
  {
   "cell_type": "markdown",
   "id": "5cde0ed9-3c5c-4fde-a138-dc3ed12386b8",
   "metadata": {},
   "source": [
    "The case of the 4 top seeds checks out.  Just for the hell of it, look at the result for\n",
    "the field of 16."
   ]
  },
  {
   "cell_type": "code",
   "execution_count": 3,
   "id": "3069210f-6b0d-4c12-85cc-d2b8d95fcb00",
   "metadata": {},
   "outputs": [
    {
     "data": {
      "text/plain": [
       "[{1: 806481824235943136/1553261390448665625,\n",
       "  2: 8112587175380884/37551374274583125,\n",
       "  3: 330164230586256512/3091729815274010625,\n",
       "  6: 27113113747285067/1243799350972303125,\n",
       "  11: 959028832152704896/261067395240794953125,\n",
       "  14: 253361513519951534141/154663784009082381515625,\n",
       "  7: 129913942691406976/9275189445822031875,\n",
       "  10: 4876010607743202/1005592929816395375,\n",
       "  15: 1231170459862262272/983503036775703349125,\n",
       "  4: 2208261746638440914/38955795672452533875,\n",
       "  5: 62257856387118784/1855037889164406375,\n",
       "  12: 990878802476191/371524481459259375,\n",
       "  13: 101871679913217579328/49968299449088154028125,\n",
       "  8: 395554377759384814/45251681841737791875,\n",
       "  9: 3636369093385456864/592581547927518703125,\n",
       "  16: 20928495968907921002/23162209199427796265625}]"
      ]
     },
     "execution_count": 3,
     "metadata": {},
     "output_type": "execute_result"
    }
   ],
   "source": [
    "tournament(4)"
   ]
  },
  {
   "cell_type": "code",
   "execution_count": 4,
   "id": "2760701a-6839-48f0-b139-61bcc3b17144",
   "metadata": {},
   "outputs": [],
   "source": [
    "t = [tournament(k)[0][1] for k in [0..9]]"
   ]
  },
  {
   "cell_type": "code",
   "execution_count": 5,
   "id": "897fb967-16e2-4924-af18-abf8e9449c98",
   "metadata": {},
   "outputs": [
    {
     "name": "stdout",
     "output_type": "stream",
     "text": [
      "1 1.00000000000000 1\n",
      "2 0.666666666666667 2/3\n",
      "4 0.560000000000000 14/25\n",
      "8 0.527940159215879 225148/426465\n",
      "16 0.519218355130161 806481824235943136/1553261390448665625\n",
      "32 0.516694399261970 25158334187697207576521990998269142010611518221436594287497776032/48690936506438924161591769842887713908466104978748194801965193125\n",
      "64 0.515833745724985\n",
      "128 0.515544566634176\n",
      "256 0.515459230037905\n",
      "512 0.515437219149808\n"
     ]
    }
   ],
   "source": [
    "for k in [0..9]:\n",
    "    if k < 6:\n",
    "        print(f\"{2^k} {numerical_approx(t[k])} {t[k]}\")\n",
    "    else:\n",
    "        print(f\"{2^k} {numerical_approx(t[k])}\")"
   ]
  },
  {
   "cell_type": "markdown",
   "id": "a35bec25-a068-4f8b-afc5-a439a0ae136c",
   "metadata": {},
   "source": [
    "I'll speculate that the probability approaches something like 51.5%.\n",
    "\n",
    "[An alternate implementation](20250321.go) of the same calculation going up to $k=15$ suggests\n",
    "that the probability approaches 51.5431%.\n",
    "\n",
    "    $ time go run 20250321.go\n",
    "    Round 1 (2): 2.000000\n",
    "    k=1, p=0.666667\n",
    "    Round 1 (4): 4.000000\n",
    "    Round 2 (2): 2.000000\n",
    "    k=2, p=0.560000\n",
    "    Round 1 (8): 8.000000\n",
    "    Round 2 (4): 4.000000\n",
    "    Round 3 (2): 2.000000\n",
    "    k=3, p=0.527940\n",
    "    k=4, p=0.519218\n",
    "    k=5, p=0.516694\n",
    "    k=6, p=0.515834\n",
    "    k=7, p=0.515545\n",
    "    k=8, p=0.515459\n",
    "    k=9, p=0.515437\n",
    "    k=10, p=0.515432\n",
    "    k=11, p=0.515431\n",
    "    k=12, p=0.515431\n",
    "    k=13, p=0.515431\n",
    "    k=14, p=0.515431\n",
    "    k=15, p=0.515431\n"
   ]
  },
  {
   "cell_type": "markdown",
   "id": "d5aaca78-30b2-4b3f-974f-d82099bce5f4",
   "metadata": {},
   "source": [
    "In the first round, the 1-seed faces the $2^k$.  The probability that the 1-seed wins is $\\frac{2^k}{1+2^k}$.\n",
    "\n",
    "In the second round, the 1-seed faces either the $2^{k-1}$ seed or the $2^{k-1}+1$ seed, with probability\n",
    "$\\frac{2^{k-1}+1}{2^k+1}$ or $\\frac{2^{k-1}}{2^k+1}$.  The probability of winning is\n",
    "$\\frac{(2^{k-1}+1)2^{k-1}}{1+2^k}\\left(\\frac{1}{2^{k-1}+1}+\\frac{1}{2^{k-1}+2}\\right)$."
   ]
  },
  {
   "cell_type": "markdown",
   "id": "a66bb6f6-2d1f-4c99-afcc-793607fffc5f",
   "metadata": {},
   "source": [
    "For a lower bound, consider the probability when the 1-seed faces the highest possible seed\n",
    "for each matchup.\n",
    "\n",
    "$$ p_L = \\prod_{i=1}^k \\frac{2^{k+1-i}}{2^{k+1-i}+1} $$"
   ]
  },
  {
   "cell_type": "code",
   "execution_count": 6,
   "id": "828a1b5d-f63d-4168-9007-1624e93b1191",
   "metadata": {},
   "outputs": [],
   "source": [
    "j,k = var(\"j,k\")\n",
    "pl1(k) = product(2^(k+1-j)/(2^(k+1-j)+1), j, 1, k)"
   ]
  },
  {
   "cell_type": "code",
   "execution_count": 7,
   "id": "7a4f206d-459c-4e7b-8fd4-fef5f4388060",
   "metadata": {},
   "outputs": [
    {
     "data": {
      "text/plain": [
       "[(1, 1, 1.00000000000000),\n",
       " (2, 2/3, 0.666666666666667),\n",
       " (4, 8/15, 0.533333333333333),\n",
       " (8, 64/135, 0.474074074074074),\n",
       " (16, 1024/2295, 0.446187363834423),\n",
       " (32, 32768/75735, 0.432666534627319),\n",
       " (64, 2097152/4922775, 0.426010126402283),\n",
       " (128, 268435456/635037975, 0.422707722321645),\n",
       " (256, 68719476736/163204759575, 0.421062945191989),\n",
       " (512, 35184372088832/83724041661975, 0.420242159723779),\n",
       " (1024, 36028797018963968/85817142703524375, 0.419832167372829),\n",
       " (2048, 73786976294838206464/175839325399521444375, 0.419627271244291),\n",
       " (4096, 302231454903657293676544/720413716161839357604375, 0.419524848185652)]"
      ]
     },
     "execution_count": 7,
     "metadata": {},
     "output_type": "execute_result"
    }
   ],
   "source": [
    "[(2^i,pl1(i).simplify(), numerical_approx(pl1(i).simplify())) for i in [0..12]]"
   ]
  },
  {
   "cell_type": "code",
   "execution_count": 8,
   "id": "95f14aec-5f9c-4135-a112-88ee5392f14b",
   "metadata": {},
   "outputs": [
    {
     "data": {
      "image/png": "[encoded data removed]",
      "text/plain": [
       "Graphics object consisting of 3 graphics primitives"
      ]
     },
     "execution_count": 8,
     "metadata": {},
     "output_type": "execute_result"
    }
   ],
   "source": [
    "(bar_chart(t)\n",
    " + bar_chart([numerical_approx(pl1(i).simplify()) for i in [0..9]], color='red', width=0.2)\n",
    " + line([(0,0.515),(9,0.515)],linestyle='dashed',color='gray')\n",
    ")"
   ]
  },
  {
   "cell_type": "markdown",
   "id": "dbfa073e-b000-457c-8925-027052e49270",
   "metadata": {},
   "source": [
    "The most likely upsets in each round are 3 over 2, 5 over 4, 9 over 8, etc, so considering\n",
    "those gives the next approximation to the lower bound, where the error from adding the\n",
    "possibility of facing the $2^k+1$ seed in the first round should become negligible with large $k$,"
   ]
  },
  {
   "cell_type": "code",
   "execution_count": 9,
   "id": "1892d831-dbec-4c6d-92e8-e333471a0858",
   "metadata": {},
   "outputs": [],
   "source": [
    "pl2(k) = product(2^(k+1-j)/(2^(k+1-j)+1)*(2^(k+2-j)+1-2^(k+1-j))/(2^(k+2-j)+1)\n",
    "                + (2^(k+1-j)+1)/(2^(k+1-j)+2)*(2^(k+2-j)+1-2^(k+1-j)-1)/(2^(k+2-j)+1), j, 1, k)"
   ]
  },
  {
   "cell_type": "code",
   "execution_count": 10,
   "id": "bcf51482-8aa8-414f-acb7-1cac8950f3d2",
   "metadata": {},
   "outputs": [
    {
     "data": {
      "text/plain": [
       "0.452333213984167"
      ]
     },
     "execution_count": 10,
     "metadata": {},
     "output_type": "execute_result"
    }
   ],
   "source": [
    "numerical_approx(pl2(12).simplify())"
   ]
  },
  {
   "cell_type": "code",
   "execution_count": 11,
   "id": "364af9b8-15ce-4060-b492-fdd09ad13b3d",
   "metadata": {},
   "outputs": [
    {
     "data": {
      "image/png": "[encoded data removed]",
      "text/plain": [
       "Graphics object consisting of 4 graphics primitives"
      ]
     },
     "execution_count": 11,
     "metadata": {},
     "output_type": "execute_result"
    }
   ],
   "source": [
    "(bar_chart(t)\n",
    " + bar_chart([numerical_approx(pl1(i).simplify()) for i in [0..9]], color='red', width=0.2)\n",
    " + bar_chart([numerical_approx(pl2(i).simplify()) for i in [0..9]], color='green', width=0.1)\n",
    " + line([(0,0.515),(9,0.515)],linestyle='dashed',color='gray')\n",
    ")"
   ]
  },
  {
   "cell_type": "markdown",
   "id": "ffdee499-9b5c-4e32-84f9-93d9c59b7f6c",
   "metadata": {},
   "source": [
    "After the $2^{k+1-j}$ seed and the $2^{k+1-j}+1$ seed, the next most likely opponents\n",
    "of the 1-seed in round $j$ are the $2^{k+3-j}+1-2^{k+1-j}$ seed\n",
    "and the $2^{k+3-j}-2^{k+1-j}$ seed."
   ]
  },
  {
   "cell_type": "code",
   "execution_count": 12,
   "id": "9798fce7-6e80-4f51-a48a-ddc8380dbb74",
   "metadata": {},
   "outputs": [],
   "source": [
    "s2(k,j) = 2^(k+1-j)\n",
    "s3(k,j) = 2^(k+1-j)+1\n",
    "s6(k,j) = 2^(k+3-j)+1-s3(k,j)\n",
    "s7(k,j) = 2^(k+3-j)+1-s2(k,j)\n",
    "w(a,b) = b/(a+b)\n",
    "pl1(k) = product(w(1,s2(k,j)),j,1,k)\n",
    "pl2(k) = product(w(1,s2(k,j))*w(s2(k,j),s3(k,j))+w(1,s3(k,j))*w(s3(k,j),s2(k,j)),j,1,k)\n",
    "pl3(k) = product(\n",
    "    w(1,s2(k,j))*w(s2(k,j),s7(k,j))*(\n",
    "        w(s2(k,j),s3(k,j))*w(s3(k,j),s6(k,j)) +\n",
    "        w(s2(k,j),s6(k,j))*w(s6(k,j),s3(k,j))) +\n",
    "    w(1,s3(k,j))*w(s3(k,j),s6(k,j))*(\n",
    "        w(s3(k,j),s2(k,j))*w(s2(k,j),s7(k,j)) +\n",
    "        w(s3(k,j),s7(k,j))*w(s7(k,j),s2(k,j))) +\n",
    "    w(1,s6(k,j))*w(s6(k,j),s3(k,j))*(\n",
    "        w(s6(k,j),s2(k,j))*w(s2(k,j),s7(k,j)) +\n",
    "        w(s6(k,j),s7(k,j))*w(s7(k,j),s2(k,j))) +\n",
    "    w(1,s7(k,j))*w(s7(k,j),s2(k,j))*(\n",
    "        w(s7(k,j),s3(k,j))*w(s3(k,j),s6(k,j)) +\n",
    "        w(s7(k,j),s6(k,j))*w(s6(k,j),s3(k,j))),\n",
    "    j,1,k)"
   ]
  },
  {
   "cell_type": "code",
   "execution_count": 13,
   "id": "2896d8c9-c99b-4d5d-b702-ee7b5962db28",
   "metadata": {},
   "outputs": [
    {
     "data": {
      "text/plain": [
       "[(2, 2/3, 0.666666666666667),\n",
       " (4, 8/15, 0.533333333333333),\n",
       " (8, 64/135, 0.474074074074074),\n",
       " (16, 1024/2295, 0.446187363834423),\n",
       " (32, 32768/75735, 0.432666534627319),\n",
       " (64, 2097152/4922775, 0.426010126402283),\n",
       " (128, 268435456/635037975, 0.422707722321645),\n",
       " (256, 68719476736/163204759575, 0.421062945191989),\n",
       " (512, 35184372088832/83724041661975, 0.420242159723779)]"
      ]
     },
     "execution_count": 13,
     "metadata": {},
     "output_type": "execute_result"
    }
   ],
   "source": [
    "[(2^k,pl1(k).simplify(),numerical_approx(pl1(k).simplify())) for k in [1..9]]"
   ]
  },
  {
   "cell_type": "code",
   "execution_count": 14,
   "id": "e14ef13d-cb8b-47ad-9606-76652180d9ae",
   "metadata": {},
   "outputs": [
    {
     "data": {
      "text/plain": [
       "0.419435241682449"
      ]
     },
     "execution_count": 14,
     "metadata": {},
     "output_type": "execute_result"
    }
   ],
   "source": [
    "numerical_approx(pl1(15).simplify())"
   ]
  },
  {
   "cell_type": "code",
   "execution_count": 15,
   "id": "0e5ae0aa-822d-46ec-954f-1b1e50b2312f",
   "metadata": {},
   "outputs": [
    {
     "data": {
      "text/plain": [
       "[(2, 7/10, 0.700000000000000),\n",
       " (4, 77/135, 0.570370370370370),\n",
       " (8, 5852/11475, 0.509978213507625),\n",
       " (16, 29792/61965, 0.480787541353990),\n",
       " (32, 31937024/68471325, 0.466429180390477),\n",
       " (64, 133880004608/291482430525, 0.459307287807583),\n",
       " (128, 2219194956382208/4869214001920125, 0.455760407225292),\n",
       " (256, 1539887700260159488/3391894473737559075, 0.453990450523463),\n",
       " (512, 31142688850061465485312/68731523211101269179375, 0.453106338912498)]"
      ]
     },
     "execution_count": 15,
     "metadata": {},
     "output_type": "execute_result"
    }
   ],
   "source": [
    "[(2^k,pl2(k).simplify(),numerical_approx(pl2(k).simplify())) for k in [1..9]]"
   ]
  },
  {
   "cell_type": "code",
   "execution_count": 16,
   "id": "14b11404-c879-49ad-ba0d-5df73b8aa271",
   "metadata": {},
   "outputs": [
    {
     "data": {
      "text/plain": [
       "0.452236604348383"
      ]
     },
     "execution_count": 16,
     "metadata": {},
     "output_type": "execute_result"
    }
   ],
   "source": [
    "numerical_approx(pl2(15).simplify())"
   ]
  },
  {
   "cell_type": "code",
   "execution_count": 17,
   "id": "a3b3ee5a-8914-4b9c-8c11-47a28fc9b564",
   "metadata": {},
   "outputs": [
    {
     "data": {
      "text/plain": [
       "[(2, 5117/7020, 0.728917378917379),\n",
       " (4, 543821/895050, 0.607587285626501),\n",
       " (8, 967345531874/1759188105675, 0.549881805563271),\n",
       " (16, 44326504054248692176/84970199137401703125, 0.521671180063615)]"
      ]
     },
     "execution_count": 17,
     "metadata": {},
     "output_type": "execute_result"
    }
   ],
   "source": [
    "[(2^k,pl3(k).simplify(),numerical_approx(pl3(k).simplify())) for k in [1..4]]"
   ]
  },
  {
   "cell_type": "code",
   "execution_count": 18,
   "id": "b7b5a300-b4a1-4f39-8e9f-814022365088",
   "metadata": {},
   "outputs": [
    {
     "data": {
      "text/plain": [
       "0.493856373069734"
      ]
     },
     "execution_count": 18,
     "metadata": {},
     "output_type": "execute_result"
    }
   ],
   "source": [
    "numerical_approx(pl3(15).simplify())"
   ]
  },
  {
   "cell_type": "code",
   "execution_count": 19,
   "id": "39b40e07-2e7d-466b-8650-1ff14e4766bb",
   "metadata": {},
   "outputs": [
    {
     "data": {
      "image/png": "[encoded data removed]",
      "text/plain": [
       "Graphics object consisting of 5 graphics primitives"
      ]
     },
     "execution_count": 19,
     "metadata": {},
     "output_type": "execute_result"
    }
   ],
   "source": [
    "(bar_chart(t)\n",
    " + bar_chart([numerical_approx(pl3(i).simplify()) for i in [0..15]], color='red', width=0.4)\n",
    " + bar_chart([numerical_approx(pl2(i).simplify()) for i in [0..15]], color='green', width=0.3)\n",
    " + bar_chart([numerical_approx(pl1(i).simplify()) for i in [0..15]], color='yellow', width=0.2)\n",
    " + line([(0,0.515),(15,0.515)],linestyle='dashed',color='gray')\n",
    ")"
   ]
  },
  {
   "cell_type": "markdown",
   "id": "a3759f57-7a3e-42a4-85b8-d0241b6f6416",
   "metadata": {},
   "source": [
    "It's straightforward, but tedious, to consider the next 4 most likely seed-1 opponents\n",
    "in round $j$.\n",
    "\n",
    "However, without being able to come up with a simple expression for what the probability approaches\n",
    "when $k$ is large, this exercise is less valuable.\n",
    "\n",
    "Even better would be able to parameterize the number of rounds of possible upsets in a simple expression\n",
    "and let that number get large."
   ]
  },
  {
   "cell_type": "code",
   "execution_count": 20,
   "id": "def96c28-4113-4d10-9548-59a0a6e941af",
   "metadata": {},
   "outputs": [],
   "source": [
    "s10(k,j) = 2^(k+4-j)+1-s7(k,j)\n",
    "s11(k,j) = 2^(k+4-j)+1-s6(k,j)\n",
    "s14(k,j) = 2^(k+4-j)+1-s3(k,j)\n",
    "s15(k,j) = 2^(k+4-j)+1-s2(k,j)\n",
    "\n",
    "pl4_s2_1(k,j) = w(s2(k,j),s15(k,j))*(\n",
    "    w(s2(k,j),s7(k,j))*w(s7(k,j),s10(k,j)) +\n",
    "    w(s2(k,j),s10(k,j))*w(s10(k,j),s7(k,j)))\n",
    "pl4_s3_1(k,j) = w(s3(k,j),s14(k,j))*(\n",
    "    w(s3(k,j),s6(k,j))*w(s6(k,j),s11(k,j)) +\n",
    "    w(s3(k,j),s11(k,j))*w(s11(k,j),s6(k,j)))\n",
    "pl4_s6_1(k,j) = w(s6(k,j),s11(k,j))*(\n",
    "    w(s6(k,j),s3(k,j))*w(s3(k,j),s14(k,j)) +\n",
    "    w(s6(k,j),s14(k,j))*w(s14(k,j),s3(k,j)))\n",
    "pl4_s7_1(k,j) = w(s7(k,j),s10(k,j))*(\n",
    "    w(s7(k,j),s2(k,j))*w(s2(k,j),s15(k,j)) +\n",
    "    w(s7(k,j),s15(k,j))*w(s15(k,j),s2(k,j)))\n",
    "pl4_s10_1(k,j) = w(s10(k,j),s7(k,j))*(\n",
    "    w(s10(k,j),s2(k,j))*w(s2(k,j),s15(k,j)) +\n",
    "    w(s10(k,j),s15(k,j))*w(s15(k,j),s2(k,j)))\n",
    "pl4_s11_1(k,j) = w(s11(k,j),s6(k,j))*(\n",
    "    w(s11(k,j),s3(k,j))*w(s3(k,j),s14(k,j)) +\n",
    "    w(s11(k,j),s14(k,j))*w(s14(k,j),s3(k,j)))\n",
    "pl4_s14_1(k,j) = w(s14(k,j),s3(k,j))*(\n",
    "    w(s14(k,j),s6(k,j))*w(s6(k,j),s11(k,j)) +\n",
    "    w(s14(k,j),s11(k,j))*w(s11(k,j),s6(k,j)))\n",
    "pl4_s15_1(k,j) = w(s15(k,j),s2(k,j))*(\n",
    "    w(s15(k,j),s7(k,j))*w(s7(k,j),s10(k,j)) +\n",
    "    w(s15(k,j),s10(k,j))*w(s10(k,j),s7(k,j)))\n",
    "\n",
    "pl4_s2(k,j) = pl4_s2_1(k,j)*(\n",
    "    w(s2(k,j),s3(k,j))*pl4_s3_1(k,j) +\n",
    "    w(s2(k,j),s6(k,j))*pl4_s6_1(k,j) +\n",
    "    w(s2(k,j),s11(k,j))*pl4_s11_1(k,j) +\n",
    "    w(s2(k,j),s14(k,j))*pl4_s14_1(k,j))\n",
    "pl4_s3(k,j) = pl4_s3_1(k,j)*(\n",
    "    w(s3(k,j),s2(k,j))*pl4_s2_1(k,j) +\n",
    "    w(s3(k,j),s7(k,j))*pl4_s7_1(k,j) +\n",
    "    w(s3(k,j),s10(k,j))*pl4_s10_1(k,j) +\n",
    "    w(s3(k,j),s15(k,j))*pl4_s15_1(k,j))\n",
    "pl4_s6(k,j) = pl4_s6_1(k,j)*(\n",
    "    w(s6(k,j),s2(k,j))*pl4_s2_1(k,j) +\n",
    "    w(s6(k,j),s7(k,j))*pl4_s7_1(k,j) +\n",
    "    w(s6(k,j),s10(k,j))*pl4_s10_1(k,j) +\n",
    "    w(s6(k,j),s15(k,j))*pl4_s15_1(k,j))\n",
    "pl4_s7(k,j) = pl4_s7_1(k,j)*(\n",
    "    w(s7(k,j),s3(k,j))*pl4_s3_1(k,j) +\n",
    "    w(s7(k,j),s6(k,j))*pl4_s6_1(k,j) +\n",
    "    w(s7(k,j),s11(k,j))*pl4_s11_1(k,j) +\n",
    "    w(s7(k,j),s14(k,j))*pl4_s14_1(k,j))\n",
    "pl4_s10(k,j) = pl4_s10_1(k,j)*(\n",
    "    w(s10(k,j),s3(k,j))*pl4_s3_1(k,j) +\n",
    "    w(s10(k,j),s6(k,j))*pl4_s6_1(k,j) +\n",
    "    w(s10(k,j),s11(k,j))*pl4_s11_1(k,j) +\n",
    "    w(s10(k,j),s14(k,j))*pl4_s14_1(k,j))\n",
    "pl4_s11(k,j) = pl4_s11_1(k,j)*(\n",
    "    w(s11(k,j),s2(k,j))*pl4_s2_1(k,j) +\n",
    "    w(s11(k,j),s7(k,j))*pl4_s7_1(k,j) +\n",
    "    w(s11(k,j),s10(k,j))*pl4_s10_1(k,j) +\n",
    "    w(s11(k,j),s15(k,j))*pl4_s15_1(k,j))\n",
    "pl4_s14(k,j) = pl4_s14_1(k,j)*(\n",
    "    w(s14(k,j),s2(k,j))*pl4_s2_1(k,j) +\n",
    "    w(s14(k,j),s7(k,j))*pl4_s7_1(k,j) +\n",
    "    w(s14(k,j),s10(k,j))*pl4_s10_1(k,j) +\n",
    "    w(s14(k,j),s15(k,j))*pl4_s15_1(k,j))\n",
    "pl4_s15(k,j) = pl4_s15_1(k,j)*(\n",
    "    w(s15(k,j),s3(k,j))*pl4_s3_1(k,j) +\n",
    "    w(s15(k,j),s6(k,j))*pl4_s6_1(k,j) +\n",
    "    w(s15(k,j),s11(k,j))*pl4_s11_1(k,j) +\n",
    "    w(s15(k,j),s14(k,j))*pl4_s14_1(k,j))\n",
    "\n",
    "pl4(k) = product(\n",
    "    w(1,s2(k,j))*pl4_s2(k,j) +\n",
    "    w(1,s3(k,j))*pl4_s3(k,j) +\n",
    "    w(1,s6(k,j))*pl4_s6(k,j) +\n",
    "    w(1,s7(k,j))*pl4_s7(k,j) +\n",
    "    w(1,s10(k,j))*pl4_s10(k,j) +\n",
    "    w(1,s11(k,j))*pl4_s11(k,j) +\n",
    "    w(1,s14(k,j))*pl4_s14(k,j) +\n",
    "    w(1,s15(k,j))*pl4_s15(k,j),\n",
    "    j,1,k)"
   ]
  },
  {
   "cell_type": "code",
   "execution_count": 21,
   "id": "dc3978a8-1662-48a4-a1de-a7b0c8fadc11",
   "metadata": {},
   "outputs": [
    {
     "data": {
      "text/plain": [
       "[(2, 0.740208276503313),\n",
       " (4, 0.621862480629516),\n",
       " (8, 0.565043095022218),\n",
       " (16, 0.537129052485178),\n",
       " (32, 0.523281564909573),\n",
       " (64, 0.516383170232246),\n",
       " (128, 0.512940038397114),\n",
       " (256, 0.511219953691910),\n",
       " (512, 0.510360277169097),\n",
       " (1024, 0.509930529800999),\n",
       " (2048, 0.509715678769444),\n",
       " (4096, 0.509608258907917),\n",
       " (8192, 0.509554550389606),\n",
       " (16384, 0.509527696483424),\n",
       " (32768, 0.509514269618559)]"
      ]
     },
     "execution_count": 21,
     "metadata": {},
     "output_type": "execute_result"
    }
   ],
   "source": [
    "[(2^k,numerical_approx(pl4(k).simplify())) for k in [1..15]]"
   ]
  },
  {
   "cell_type": "code",
   "execution_count": 22,
   "id": "f13c32fe-cb1b-45fa-85fd-e389f44bbe22",
   "metadata": {},
   "outputs": [
    {
     "data": {
      "image/png": "[encoded data removed]",
      "text/plain": [
       "Graphics object consisting of 5 graphics primitives"
      ]
     },
     "execution_count": 22,
     "metadata": {},
     "output_type": "execute_result"
    }
   ],
   "source": [
    "(bar_chart([numerical_approx(pl4(i).simplify()) for i in [0..15]])\n",
    " + bar_chart([numerical_approx(pl3(i).simplify()) for i in [0..15]], color='red')\n",
    " + bar_chart([numerical_approx(pl2(i).simplify()) for i in [0..15]], color='yellow')\n",
    " + bar_chart([numerical_approx(pl1(i).simplify()) for i in [0..15]], color='black')\n",
    " + line([(-0.25,0.515),(15.25,0.515)],linestyle='dashed',color='gray')\n",
    ")"
   ]
  }
 ],
 "metadata": {
  "kernelspec": {
   "display_name": "SageMath 10.3",
   "language": "sage",
   "name": "sagemath-10.3"
  },
  "language_info": {
   "codemirror_mode": {
    "name": "ipython",
    "version": 3
   },
   "file_extension": ".py",
   "mimetype": "text/x-python",
   "name": "python",
   "nbconvert_exporter": "python",
   "pygments_lexer": "ipython3",
   "version": "3.11.8"
  }
 },
 "nbformat": 4,
 "nbformat_minor": 5
}
