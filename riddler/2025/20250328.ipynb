{
 "cells": [
  {
   "cell_type": "markdown",
   "id": "a121a381-4d45-4317-8d41-0768b5b24773",
   "metadata": {},
   "source": [
    "[2025-03-28 Fiddler](https://thefiddler.substack.com/p/can-you-root-for-the-underdog)\n",
    "===================="
   ]
  },
  {
   "cell_type": "markdown",
   "id": "27f20f3c-f943-4529-823f-1ae167195208",
   "metadata": {},
   "source": [
    "Fiddler\n",
    "-------\n",
    "When $0 < B < 1$, the 1-seed defeats the 2-seed in the finals.\n",
    "\n",
    "When $1 < B < 2$, the 1-seed defeats the 3-seed in the finals.\n",
    "\n",
    "When $2 < B < 3$, the 3-seed defeats the 1-seed in the finals.\n",
    "\n",
    "When $B > 3$, the 4-seed defeats the 3-seed in the finals.\n",
    "\n",
    "So the 2-seed can never win."
   ]
  },
  {
   "cell_type": "markdown",
   "id": "56a10ad9-3b0f-47ac-b372-630cb41a1e3c",
   "metadata": {},
   "source": [
    "Extra credit\n",
    "------------\n",
    "This can be calculated with code."
   ]
  },
  {
   "cell_type": "code",
   "execution_count": 1,
   "id": "990d0543-b121-406e-a8ec-20af4ab50b3c",
   "metadata": {},
   "outputs": [],
   "source": [
    "def do_matchup(b, seed_1, seed_2):\n",
    "    if abs(seed_1 - seed_2) > b:\n",
    "        return min(seed_1, seed_2)\n",
    "    else:\n",
    "        return max(seed_1, seed_2)\n",
    "\n",
    "def do_round(b, teams):\n",
    "    return [do_matchup(b, teams[i], teams[len(teams)-1-i]) for i in range(len(teams) // 2)]\n",
    "\n",
    "def do_tourney(b, n_rounds):\n",
    "    teams = [1..2^n_rounds]\n",
    "    for i in range(n_rounds):\n",
    "        teams = do_round(b, teams)\n",
    "    return teams[0]\n",
    "\n",
    "def find_losers(n_rounds):\n",
    "    winners = [False for i in [0..2^n_rounds]]\n",
    "    for b in [0..2^n_rounds]:\n",
    "        winners[do_tourney(b, n_rounds)] = True\n",
    "    return [seed for seed in [1..2^n_rounds] if not winners[seed]]"
   ]
  },
  {
   "cell_type": "code",
   "execution_count": 2,
   "id": "9628e3fc-2aba-4485-8759-173fa4da8eb0",
   "metadata": {},
   "outputs": [
    {
     "name": "stdout",
     "output_type": "stream",
     "text": [
      "27 [7, 13, 14, 15, 25, 26, 27, 28, 29, 30, 31, 32, 33, 34, 35, 36, 37, 38, 39, 40, 41, 42, 43, 44, 45, 46, 47]\n"
     ]
    }
   ],
   "source": [
    "print(len(find_losers(6)), find_losers(6))"
   ]
  },
  {
   "cell_type": "code",
   "execution_count": 3,
   "id": "dcefd6d7-f753-47e2-989a-eaed97249a8c",
   "metadata": {},
   "outputs": [
    {
     "data": {
      "text/plain": [
       "[0, 1, 2, 5, 12, 27, 58, 121, 248, 503]"
      ]
     },
     "execution_count": 3,
     "metadata": {},
     "output_type": "execute_result"
    }
   ],
   "source": [
    "[len(find_losers(i)) for i in [1..10]]"
   ]
  },
  {
   "cell_type": "markdown",
   "id": "a912aa9f-5c64-44b0-9400-41234815ccbd",
   "metadata": {},
   "source": [
    "Except for $n=1$, it looks like $2^{n-1}-n+1$ ([A000325](https://oeis.org/A000325)).\n",
    "I don't know how to prove that that's what it is.\n",
    "\n",
    "The next three take increasingly longer to calculate and are `1014, 2037, 4084`,\n",
    "still consistent with $2^{n-1}-n+1$."
   ]
  },
  {
   "cell_type": "code",
   "execution_count": 4,
   "id": "c45629f1-166f-4679-8bf9-f49a9548107f",
   "metadata": {},
   "outputs": [
    {
     "data": {
      "text/plain": [
       "[1, 1, 2, 5, 12, 27, 58, 121, 248, 503, 1014, 2037, 4084, 8179, 16370]"
      ]
     },
     "execution_count": 4,
     "metadata": {},
     "output_type": "execute_result"
    }
   ],
   "source": [
    "[2^(n-1)-n+1 for n in [1..15]]"
   ]
  }
 ],
 "metadata": {
  "kernelspec": {
   "display_name": "SageMath 10.3",
   "language": "sage",
   "name": "sagemath-10.3"
  },
  "language_info": {
   "codemirror_mode": {
    "name": "ipython",
    "version": 3
   },
   "file_extension": ".py",
   "mimetype": "text/x-python",
   "name": "python",
   "nbconvert_exporter": "python",
   "pygments_lexer": "ipython3",
   "version": "3.11.8"
  }
 },
 "nbformat": 4,
 "nbformat_minor": 5
}
