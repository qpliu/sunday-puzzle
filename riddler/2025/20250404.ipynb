{
 "cells": [
  {
   "cell_type": "markdown",
   "id": "475f0283-71f6-46cb-a083-5e0321d063c9",
   "metadata": {},
   "source": [
    "[2025-04-04 Fiddler](https://thefiddler.substack.com/p/can-you-solve-a-high-schoolers-favorite-e7f)\n",
    "===================="
   ]
  },
  {
   "cell_type": "markdown",
   "id": "d14d9e87-8a4e-460f-9872-26e24ee36201",
   "metadata": {},
   "source": [
    "Fiddler\n",
    "-------\n",
    "The third rule means there must be at least 6 for the second trio.  The second\n",
    "rule means there must be at least 7 for the third trio.  With 7, the fourth trio\n",
    "is also possible.  With 7, there are $\\binom73=35$ possible trios, which is small\n",
    "enough to brute force check if there is a valid sequence of the possible trios out\n",
    "of 7.\n",
    "\n",
    "Using [code](20250404.hs) to do a depth-first search for a valid sequence of trios\n",
    "verifies that 7 is the smallest class size:\n",
    "\n",
    "    $ runghc 20250404.hs\n",
    "    (1,2,3)\n",
    "    (4,5,6)\n",
    "    (2,3,7)\n",
    "    (1,5,6)\n",
    "    (2,4,7)\n",
    "    (3,5,6)\n",
    "    (1,2,4)\n",
    "    (5,6,7)\n",
    "    (2,3,4)\n",
    "    (1,6,7)\n",
    "    (3,4,5)\n",
    "    (2,6,7)\n",
    "    (1,4,5)\n",
    "    (3,6,7)\n",
    "    (2,4,5)\n",
    "    (1,3,7)\n",
    "    (2,4,6)\n",
    "    (1,3,5)\n",
    "    (4,6,7)\n",
    "    (1,2,5)\n",
    "    (3,4,7)\n",
    "    (2,5,6)\n",
    "    (1,3,4)\n",
    "    (2,5,7)\n",
    "    (1,3,6)\n",
    "    (4,5,7)\n",
    "    (1,2,6)\n",
    "    (3,5,7)\n",
    "    (1,4,6)\n",
    "    (2,3,5)\n",
    "    (1,4,7)\n",
    "    (2,3,6)\n",
    "    (1,5,7)\n",
    "    (3,4,6)\n",
    "    (1,2,7)\n",
    "    $\n"
   ]
  },
  {
   "cell_type": "markdown",
   "id": "7cb7c7fd-de92-4019-99eb-00feddfa9e6c",
   "metadata": {},
   "source": [
    "Extra credit\n",
    "------------\n",
    "A lower bound is 21, which means there are at least $\\binom{21}{10}=352716$ possible groups.\n",
    "That's too many to brute force.\n",
    "\n",
    "However, if the minimum size is 21, then each student is member of\n",
    "$\\binom{21}{10}-\\binom{20}{10}=167960$ groups, thus receiving 167960 pieces of candy."
   ]
  },
  {
   "cell_type": "markdown",
   "id": "d57235fe-41e5-4071-8523-6333f52e13c4",
   "metadata": {},
   "source": [
    "Taking the general case of groups of $n$, is it always the case that there is a sequence\n",
    "of every $n$ subset of $2n+1$ such that each subset is disjoint with its preceding subset?"
   ]
  },
  {
   "cell_type": "markdown",
   "id": "4e16ea5e-ec4a-48fa-9af6-757563d49503",
   "metadata": {},
   "source": [
    "Given a valid sequence of all groups of $n$ out of a class of $2n+1$, which I know\n",
    "is possible when $n=2$ and $n=3$, is it possible to construct a valid sequence of\n",
    "all groups of $n+1$ out of a class of $2n+3$?\n",
    "\n",
    "Let $g_j$ be the $j$th group in the sequence of groups, where $j \\in 1\\ldots 2n+1$.\n",
    "\n",
    "### Some properties\n",
    "So, given a valid sequence, $g$, the reverse of that sequence is also a valid sequence.\n",
    "\n",
    "Also, any permutation of the students in the sequence is a valid sequence.\n",
    "\n",
    "Given any three consecutive groups, $g_j$, $g_{j+1}$, and $g_{j+2}$, there are $n$ students\n",
    "in $g_{j+1}$, and not in $g_j$ or $g_{j+2}$.  There are $n-1$ students in both\n",
    "$g_j$ and $g_{j+2}$, and not in $g_{j+1}$.  There is one student in $g_j$ and not in\n",
    "the other two groups.  There is one student in $g_{j+2}$ and not in the other two groups.\n",
    "\n",
    "That also means that the union of any three consecutive groups must contain every student\n",
    "in the class.\n",
    "\n",
    "### Constructing a sequence of larger groups\n",
    "In a class of $2n+3$, there two new students that are not in the class of $2n+1$.\n",
    "\n",
    "We can classify the groups of $n+1$ into four categories.  Let category 0 be the groups\n",
    "that have neither of the new students.  Let category 1 be the groups that have one of\n",
    "the new students and not the other.  Let category 2 be the groups that have the other of\n",
    "the new students and not the first.  Let category 3 be the groups that have both of the\n",
    "new students.\n",
    "\n",
    "There are $\\binom{2n+1}{n+1}$ category 0 groups.  There are $\\binom{2n+1}{n}$ category 1\n",
    "groups and the same number of category 2 groups.  There are $\\binom{2n+1}{n-1}$ category 3\n",
    "groups.  That makes a total $\\binom{2n+3}{n+1}$ groups, as expected."
   ]
  },
  {
   "cell_type": "code",
   "execution_count": 1,
   "id": "b4b63c92-c9a4-4633-88f2-cf08a915ed90",
   "metadata": {},
   "outputs": [
    {
     "data": {
      "text/plain": [
       "1"
      ]
     },
     "execution_count": 1,
     "metadata": {},
     "output_type": "execute_result"
    }
   ],
   "source": [
    "n = var('n')\n",
    "(binomial(2*n+3,n+1)/(binomial(2*n+1,n+1) + 2*binomial(2*n+1,n) + binomial(2*n+1,n-1))).simplify_full()"
   ]
  },
  {
   "cell_type": "markdown",
   "id": "9aa36904-b417-45f8-9612-5dec27bff52c",
   "metadata": {},
   "source": [
    "A 0 cannot be followed by a 0, so it must be followed by a 1, 2, or 3.\n",
    "\n",
    "A 01 cannot be followed by a 0, since that would be three consecutive groups without\n",
    "the second new student, and cannot be followed by a 1 or 3, so it must be followed\n",
    "by a 2.\n",
    "\n",
    "Similarly, a 02 must be followed by a 1.\n",
    "\n",
    "A 03 must be followed by a 0.\n",
    "\n",
    "A 12 must be followed by a 0 or a 1.  Similarly a 21 must be followed by a 0 or a 2.\n",
    "\n",
    "A 10 must be followed by a 2 or a 3.  Similarly, a 20 must be followed by a 1 or a 3.\n",
    "\n",
    "A 30 must be followed by a 1, 2, or 3.\n",
    "\n",
    "In each of the cases, the third group must contain the student not in either of the\n",
    "first two groups, which is clear in the 012 and 021 cases.\n",
    "\n",
    "Category 1 and 2 groups make up more than half of all the groups.  Since it's possible\n",
    "to have long strings of 121212 in the sequence, this doesn't preclude construction of a\n",
    "valid sequence of all groups."
   ]
  },
  {
   "cell_type": "code",
   "execution_count": 2,
   "id": "3c6f1871-aab6-49da-8d6a-27fd9b2d291d",
   "metadata": {},
   "outputs": [
    {
     "data": {
      "text/plain": [
       "(n + 2)/(2*n + 3)"
      ]
     },
     "execution_count": 2,
     "metadata": {},
     "output_type": "execute_result"
    }
   ],
   "source": [
    "(2*binomial(2*n+1,n)/binomial(2*n+3,n+1)).simplify_full()"
   ]
  },
  {
   "cell_type": "markdown",
   "id": "082eec2d-3bb1-4157-ad0f-9317376fa166",
   "metadata": {},
   "source": [
    "There are more category 0 groups than category 3 groups.  Since strings of 03030 must start and end\n",
    "with 0 (with the possible exceptions of the very beginning and very end of the sequence), this also\n",
    "does not preclude construction of a valid sequence of all groups, where the number of and lengths of\n",
    "the 03030 strings can be chosen to accomodate the number of groups in each category."
   ]
  },
  {
   "cell_type": "code",
   "execution_count": 3,
   "id": "5b58568c-e132-4f96-9499-9b4c4113e1fc",
   "metadata": {},
   "outputs": [
    {
     "data": {
      "text/plain": [
       "(n + 2)/n"
      ]
     },
     "execution_count": 3,
     "metadata": {},
     "output_type": "execute_result"
    }
   ],
   "source": [
    "(binomial(2*n+1,n+1)/binomial(2*n+1,n-1)).simplify_full()"
   ]
  },
  {
   "cell_type": "markdown",
   "id": "ea9c934c-1bcf-4fdb-ab0d-6d100121fd78",
   "metadata": {},
   "source": [
    "### Failure\n",
    "I also tried a few other lines of reasoning trying to prove that it's always possible\n",
    "to have a valid sequence of every group of $n$ out of a class of $2n+1$, "
   ]
  }
 ],
 "metadata": {
  "kernelspec": {
   "display_name": "SageMath 10.3",
   "language": "sage",
   "name": "sagemath-10.3"
  },
  "language_info": {
   "codemirror_mode": {
    "name": "ipython",
    "version": 3
   },
   "file_extension": ".py",
   "mimetype": "text/x-python",
   "name": "python",
   "nbconvert_exporter": "python",
   "pygments_lexer": "ipython3",
   "version": "3.11.8"
  }
 },
 "nbformat": 4,
 "nbformat_minor": 5
}
