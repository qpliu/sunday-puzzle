{
 "cells": [
  {
   "cell_type": "markdown",
   "id": "475f0283-71f6-46cb-a083-5e0321d063c9",
   "metadata": {},
   "source": [
    "[2025-04-04 Fiddler](https://thefiddler.substack.com/p/can-you-solve-a-high-schoolers-favorite-e7f)\n",
    "===================="
   ]
  },
  {
   "cell_type": "markdown",
   "id": "d14d9e87-8a4e-460f-9872-26e24ee36201",
   "metadata": {},
   "source": [
    "Fiddler\n",
    "-------\n",
    "The third rule means there must be at least 6 for the second trio.  The second\n",
    "rule means there must be at least 7 for the third trio.  With 7, the fourth trio\n",
    "is also possible.  With 7, there are $\\binom73=35$ possible trios, which is small\n",
    "enough to brute force check if there is a valid sequence of the possible trios out\n",
    "of 7.\n",
    "\n",
    "Using [code](20250404.hs) to do a depth-first search for a valid sequence of trios\n",
    "verifies that 7 is the smallest class size:\n",
    "\n",
    "    $ runghc 20250404.hs\n",
    "    (1,2,3)\n",
    "    (4,5,6)\n",
    "    (2,3,7)\n",
    "    (1,5,6)\n",
    "    (2,4,7)\n",
    "    (3,5,6)\n",
    "    (1,2,4)\n",
    "    (5,6,7)\n",
    "    (2,3,4)\n",
    "    (1,6,7)\n",
    "    (3,4,5)\n",
    "    (2,6,7)\n",
    "    (1,4,5)\n",
    "    (3,6,7)\n",
    "    (2,4,5)\n",
    "    (1,3,7)\n",
    "    (2,4,6)\n",
    "    (1,3,5)\n",
    "    (4,6,7)\n",
    "    (1,2,5)\n",
    "    (3,4,7)\n",
    "    (2,5,6)\n",
    "    (1,3,4)\n",
    "    (2,5,7)\n",
    "    (1,3,6)\n",
    "    (4,5,7)\n",
    "    (1,2,6)\n",
    "    (3,5,7)\n",
    "    (1,4,6)\n",
    "    (2,3,5)\n",
    "    (1,4,7)\n",
    "    (2,3,6)\n",
    "    (1,5,7)\n",
    "    (3,4,6)\n",
    "    (1,2,7)\n",
    "    $\n"
   ]
  },
  {
   "cell_type": "markdown",
   "id": "7cb7c7fd-de92-4019-99eb-00feddfa9e6c",
   "metadata": {},
   "source": [
    "Extra credit\n",
    "------------\n",
    "A lower bound is 21, which means there are at least $\\binom{21}{10}=352716$ possible groups.\n",
    "That's too many to brute force.\n",
    "\n",
    "However, if the minimum size is 21, then each student is member of\n",
    "$\\binom{21}{10}-\\binom{20}{10}=167960$ groups, thus receiving 167960 pieces of candy."
   ]
  }
 ],
 "metadata": {
  "kernelspec": {
   "display_name": "SageMath 10.3",
   "language": "sage",
   "name": "sagemath-10.3"
  },
  "language_info": {
   "codemirror_mode": {
    "name": "ipython",
    "version": 3
   },
   "file_extension": ".py",
   "mimetype": "text/x-python",
   "name": "python",
   "nbconvert_exporter": "python",
   "pygments_lexer": "ipython3",
   "version": "3.11.8"
  }
 },
 "nbformat": 4,
 "nbformat_minor": 5
}
