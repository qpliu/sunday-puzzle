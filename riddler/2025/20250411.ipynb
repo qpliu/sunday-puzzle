{
 "cells": [
  {
   "cell_type": "markdown",
   "id": "7b86511f-4961-4c83-b365-d72ebf7afb6b",
   "metadata": {},
   "source": [
    "[2025-04-11 Fiddler](https://thefiddler.substack.com/p/can-you-grow-a-hibiscus-hedge)\n",
    "===================="
   ]
  },
  {
   "cell_type": "markdown",
   "id": "a9e427d7-af34-4f34-a123-c9ae33fceef5",
   "metadata": {},
   "source": [
    "Fiddler\n",
    "-------\n",
    "Since there are $3\\cdot2\\cdot2 = 12$ distinct ways to have 3 consecutive shrubs, an upper bound is 14.\n",
    "\n",
    "The first is arbitrary.  There are up to two options for each following, so the second is\n",
    "also arbitrary.  So, there are two options for the third: either the remaining or repeat\n",
    "the first.\n",
    "\n",
    "For the first three, the two possibilities are: ROY and ROR.\n",
    "\n",
    "For the fourth, there are four possibilities: ROYR ROYO RORY RORO.\n",
    "\n",
    "For the fifth, there is finally a case where there is only one option:\n",
    "ROYRO ROYRY ROYOR ROYOY RORYO RORYR ROROY ~ROROR~\n",
    "\n",
    "For the sixth:\n",
    "~ROYROY~ ROYROR ROYRYO ROYRYR ROYORY ROYOYO RORYOR RORYOY RORYRO RORYRY ROROYR ROROYO\n",
    "\n",
    "For the seventh:\n",
    "ROYRORY ROYRORO ROYRYOR ROYRYOY ROYRYRO ~ROYRYRY~ ROYORYO ROYORYR ROYOYOR ~ROYOYOY~\n",
    "~RORYORY~ RORYORO RORYOYR RORYOYO RORYROY ~RORYROR~ RORYRYO ~RORYRYR~ ROROYRO ROROYRY ROROYOR ROROYOY\n",
    "\n",
    "For the eighth:\n",
    "ROYRORYO\n",
    "ROYRORYR\n",
    "~ROYROROY~\n",
    "~ROYROROR~\n",
    "ROYRYORY\n",
    "ROYRYORO\n",
    "ROYRYOYR\n",
    "ROYRYOYO\n",
    "~ROYRYROY~\n",
    "ROYRYROR\n",
    "~ROYORYOR~\n",
    "ROYORYOY\n",
    "ROYORYRO\n",
    "ROYORYRY\n",
    "ROYOYORY\n",
    "ROYOYORO\n",
    "RORYOROY\n",
    "~RORYOROR~\n",
    "RORYOYRO\n",
    "RORYOYRY\n",
    "RORYOYOR\n",
    "~RORYOYOY~\n",
    "RORYROYR\n",
    "RORYROYO\n",
    "RORYRYOR\n",
    "RORYRYOY\n",
    "~ROROYROY~\n",
    "~ROROYROR~\n",
    "ROROYRYO\n",
    "ROROYRYR\n",
    "ROROYORY\n",
    "~ROROYORO~\n",
    "ROROYOYR\n",
    "~ROROYOYO~"
   ]
  },
  {
   "cell_type": "markdown",
   "id": "7b2efbdc-644e-4085-bcdc-43d615d0c26b",
   "metadata": {},
   "source": [
    "Using [code](20250411.hs), there are 144 ways to make the largest possible hedge of 14 shrubs:\n",
    "\n",
    "    $ runghc 20250411.hs\n",
    "    ROROYRYOYORYRO\n",
    "    ROROYORYRYOYRO\n",
    "    ROROYORYOYRYRO\n",
    "    ROROYOYRYORYRO\n",
    "    RORYROYRYOYORO\n",
    "    RORYROYOYRYORO\n",
    "    RORYRYOROYOYRO\n",
    "    RORYRYOYROYORO\n",
    "    RORYRYOYOROYRO\n",
    "    RORYOROYOYRYRO\n",
    "    RORYOYRYROYORO\n",
    "    RORYOYOROYRYRO\n",
    "    ROYRORYRYOYORO\n",
    "    ROYRYRORYOYORO\n",
    "    ROYRYOYORORYRO\n",
    "    ROYRYOYORYRORO\n",
    "    ROYORORYRYOYRO\n",
    "    ROYORORYOYRYRO\n",
    "    ROYORYRYOYRORO\n",
    "    ROYORYOYRYRORO\n",
    "    ROYOYRORYRYORO\n",
    "    ROYOYRYRORYORO\n",
    "    ROYOYRYORORYRO\n",
    "    ROYOYRYORYRORO\n",
    "    OROPRPYPOYPYOYPOPYOPOYOPYPROYPRYPYRYPORYPRPOPRYOPROPYRPOYRYOYRPRYRPYROYROPORPYORPRORPOROYORYRORYORO\n",
    "    ORYPRPOPYPOYPYOPOYOPYOYPOPRPYPROYPRYOPROPRYPYROPYRPOYRPRYRPYRYOYROYRYPOROPORPYOROYORPRORPORYORYRORY\n",
    "    $"
   ]
  },
  {
   "cell_type": "markdown",
   "id": "78faad69-4e04-41fc-a298-b8b9c7c4154d",
   "metadata": {},
   "source": [
    "Extra credit\n",
    "------------\n",
    "There are $4\\cdot3\\cdot(1\\cdot2+2\\cdot3) = 96$ distinct ways to have 4 consecutive shrubs,\n",
    "so an upper bound is 99.  And [code](20250411.hs) verifies that hedges with 99 shrubs can\n",
    "be constructed."
   ]
  },
  {
   "cell_type": "markdown",
   "id": "3acd2cba-a19b-4782-b8f3-e8432a15fbad",
   "metadata": {},
   "source": [
    "Making the $\\lfloor$rounds$\\rceil$\n",
    "----------------------------------"
   ]
  },
  {
   "cell_type": "markdown",
   "id": "3c7a82d5-a565-4040-88ae-3a66fd594f22",
   "metadata": {},
   "source": [
    "My possible scores are 0, 1, 1, 2, 2, 3.\n",
    "\n",
    "My opponent's possible scores are 2, 3, 3, 4, 3, 3, 4, 4, 5, 5, 4, 4, 5, 5, 6, 6, 5, 6, 6, 7.\n",
    "\n",
    "The only way I can win is 3-2.  My probability of scoring 3 is 1/6.  My opponent's probability\n",
    "of scoring 2 is 1/20."
   ]
  }
 ],
 "metadata": {
  "kernelspec": {
   "display_name": "SageMath 10.3",
   "language": "sage",
   "name": "sagemath-10.3"
  },
  "language_info": {
   "codemirror_mode": {
    "name": "ipython",
    "version": 3
   },
   "file_extension": ".py",
   "mimetype": "text/x-python",
   "name": "python",
   "nbconvert_exporter": "python",
   "pygments_lexer": "ipython3",
   "version": "3.11.8"
  }
 },
 "nbformat": 4,
 "nbformat_minor": 5
}
