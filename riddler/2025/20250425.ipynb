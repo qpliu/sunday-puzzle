{
 "cells": [
  {
   "cell_type": "markdown",
   "id": "957f821e-9e18-4051-ab2a-4389c71c6232",
   "metadata": {},
   "source": [
    "[2025-04-25 Fiddler](https://thefiddler.substack.com/p/can-you-see-between-the-trees)\n",
    "===================="
   ]
  },
  {
   "cell_type": "markdown",
   "id": "512d0421-23f5-4e3e-8980-58c0f2b4447e",
   "metadata": {},
   "source": [
    "Fiddler\n",
    "-------\n",
    "Let $r$ be farthest I can see.\n",
    "\n",
    "The trees I can see are at $(x,y)$, where $x$ and $y$ are relatively prime whole\n",
    "numbers, and $x^2+y^2 \\le r^2$.\n",
    "\n",
    "There are two possible cases: gaps on either side of a very distant tree, or gaps on\n",
    "either side of a relatively close tree flanked by very distant trees.\n",
    "\n",
    "Since the excluded gaps just above 0° and just below 45° are presumably the largest,\n",
    "I'll speculate that the gaps on either side of a relatively close tree are the largest.\n",
    "\n",
    "The following is wrong: a simple counter example to $sx+1$ and $sy$ being relatively\n",
    "prime is when $y$ is even and $s$ is odd.\n",
    "\n",
    "~~Consider a visible tree at $(x,y)$.  Let $s = \\lfloor r/\\sqrt{x^2+y^2}\\rfloor$.\n",
    "Assume $s$ is very large.  The visible adjacent trees would be at $(sx-1,sy)$ and $(sx+1,sy)$,\n",
    "since $sx-1$ and $sy$ must be relatively prime, as must $sx+1$ and $sy$.  I'll ignore the\n",
    "possibility that $(sx+1,sy)$ is farther than $r$ — I'll speculate that it becomes irrelevant\n",
    "as $r$ gets large.~~\n",
    "\n",
    "~~The size of the pair of gaps is $\\arctan(sy/(sx-1)) - \\arctan(sy/(sx+1))$.\n",
    "Let $\\epsilon = 1/r = \\sqrt{x^2+y^2}/s$, so the size of the pair of gaps is\n",
    "$\\arctan(y/(x-\\epsilon/\\sqrt{x^2+y^2})) - \\arctan(y/(x+\\epsilon/\\sqrt{x^2+y^2}))$.~~"
   ]
  },
  {
   "cell_type": "code",
   "execution_count": 1,
   "id": "206b686e-e562-4090-8066-c647520a3d17",
   "metadata": {},
   "outputs": [
    {
     "data": {
      "text/html": [
       "<html>\\(\\displaystyle {(\\frac{2 \\, y}{\\sqrt{x^{2} + y^{2}} x^{2} {\\left(\\frac{y^{2}}{x^{2}} + 1\\right)}})} \\epsilon + \\mathcal{O}\\left(\\epsilon^{3}\\right)\\)</html>"
      ],
      "text/latex": [
       "$\\displaystyle {(\\frac{2 \\, y}{\\sqrt{x^{2} + y^{2}} x^{2} {\\left(\\frac{y^{2}}{x^{2}} + 1\\right)}})} \\epsilon + \\mathcal{O}\\left(\\epsilon^{3}\\right)$"
      ],
      "text/plain": [
       "(2*y/(sqrt(x^2 + y^2)*x^2*(y^2/x^2 + 1)))*epsilon + Order(epsilon^3)"
      ]
     },
     "metadata": {},
     "output_type": "display_data"
    }
   ],
   "source": [
    "x,y,epsilon=var(\"x,y,epsilon\")\n",
    "show((arctan(y/(x-epsilon/sqrt(x^2+y^2)))-arctan(y/(x+epsilon/sqrt(x^2+y^2)))).series(epsilon,3))"
   ]
  },
  {
   "cell_type": "markdown",
   "id": "1fca0e9c-030c-473b-9162-503b29f1bfbb",
   "metadata": {},
   "source": [
    "So we want to maximize $2y/(x^2+y^2)^{3/2}$, which means the closest trees."
   ]
  },
  {
   "cell_type": "code",
   "execution_count": 2,
   "id": "6b46f1e3-60ab-4abf-9b86-60dd4de8a886",
   "metadata": {},
   "outputs": [
    {
     "name": "stdout",
     "output_type": "stream",
     "text": [
      "(0.00197037067368315, 10, 1)\n",
      "(0.00269345185548406, 9, 1)\n",
      "(0.00381645337197564, 8, 1)\n",
      "(0.00510424606632132, 9, 2)\n",
      "(0.00527243826727239, 10, 3)\n",
      "(0.00565685424949238, 7, 1)\n",
      "(0.00739187548754088, 10, 9)\n",
      "(0.00769748113239367, 10, 7)\n",
      "(0.00837398899079273, 9, 4)\n",
      "(0.00888643174623553, 6, 1)\n",
      "(0.00916307417318174, 9, 5)\n",
      "(0.00916363915627475, 9, 8)\n",
      "(0.00944524020792185, 9, 7)\n",
      "(0.00961982031749018, 8, 3)\n",
      "(0.0103668350149954, 7, 2)\n",
      "(0.0116549488118322, 8, 7)\n",
      "(0.0119100885393973, 8, 5)\n",
      "(0.0135834240889368, 7, 3)\n",
      "(0.0150858565490911, 5, 1)\n",
      "(0.0152658134879026, 7, 4)\n",
      "(0.0153127381989640, 7, 6)\n",
      "(0.0157091403707864, 7, 5)\n",
      "(0.0209896524480157, 6, 5)\n",
      "(0.0256131500933865, 5, 2)\n",
      "(0.0285336029454509, 4, 1)\n",
      "(0.0302644562016192, 5, 3)\n",
      "(0.0304729291489963, 5, 4)\n",
      "(0.0480000000000000, 4, 3)\n",
      "(0.0632455532033676, 3, 1)\n",
      "(0.0853384917269583, 3, 2)\n",
      "(0.178885438199983, 2, 1)\n"
     ]
    }
   ],
   "source": [
    "p = []\n",
    "for x in [1..10]:\n",
    "    for y in [1..x-1]:\n",
    "        if gcd(x,y) > 1:\n",
    "            continue\n",
    "        p.append((numerical_approx(2*y/(x^2+y^2)^(3/2)),x,y))\n",
    "p.sort()\n",
    "for item in p:\n",
    "    print(item)"
   ]
  },
  {
   "cell_type": "markdown",
   "id": "c0862e68-4106-4b34-964c-d0bc2cec16bf",
   "metadata": {},
   "source": [
    "So the largest pair of gaps is around $\\arctan(1/2) \\approx 26.56°$."
   ]
  },
  {
   "cell_type": "markdown",
   "id": "43f4241c-e109-4ad1-849e-d9115759cdef",
   "metadata": {},
   "source": [
    "Extra credit\n",
    "------------\n",
    "~~And the fifth largest is around $\\arctan(4/5) \\approx 38.66°$.~~"
   ]
  },
  {
   "cell_type": "markdown",
   "id": "4c756f37-634d-401d-ba3b-9962db85c8cd",
   "metadata": {},
   "source": [
    "Use code to see what happens with increasing $r$."
   ]
  },
  {
   "cell_type": "code",
   "execution_count": 3,
   "id": "7a426f65-e9f1-4a0b-8e77-7db026e2a792",
   "metadata": {},
   "outputs": [],
   "source": [
    "def angles(r):\n",
    "    result = []\n",
    "    for x in [1..r]:\n",
    "        for y in [1..x-1]:\n",
    "            if gcd(x,y) > 1:\n",
    "                continue\n",
    "            if x^2+y^2 > r^2:\n",
    "                continue\n",
    "            result.append((numerical_approx(arctan(y/x)),x,y))\n",
    "    result.sort()\n",
    "    return result\n",
    "\n",
    "def gaps(r):\n",
    "    a = angles(r)\n",
    "    result = []\n",
    "    for i in [1..len(a)-2]:\n",
    "        result.append((a[i+1][0]-a[i-1][0],a[i][1],a[i][2],numerical_approx(180*a[i][0]/pi),\n",
    "                       a[i+1][2]/a[i+1][1],a[i-1][2]/a[i-1][1]))\n",
    "    result.sort()\n",
    "    return result"
   ]
  },
  {
   "cell_type": "code",
   "execution_count": 4,
   "id": "5b56f0c3-f6dc-4538-9352-b194af914e2d",
   "metadata": {},
   "outputs": [
    {
     "data": {
      "text/plain": [
       "[(0.0616501706392590, 3, 2, 33.6900675259798, 5/7, 5/8),\n",
       " (0.0767718912697780, 7, 2, 15.9453959009229, 1/3, 1/4),\n",
       " (0.0767718912697781, 7, 4, 29.7448812969422, 3/5, 1/2),\n",
       " (0.0804710112654609, 3, 1, 18.4349488229220, 3/8, 2/7),\n",
       " (0.100921784667294, 2, 1, 26.5650511770780, 4/7, 4/9)]"
      ]
     },
     "execution_count": 4,
     "metadata": {},
     "output_type": "execute_result"
    }
   ],
   "source": [
    "gaps(10)[-5:]"
   ]
  },
  {
   "cell_type": "code",
   "execution_count": 5,
   "id": "24279875-c52c-4165-bff8-40dbe401cd58",
   "metadata": {},
   "outputs": [
    {
     "data": {
      "text/plain": [
       "[(0.00460826231012040, 89, 44, 26.3069638257418, 1/2, 43/87),\n",
       " (0.00490242216928749, 4, 1, 14.0362434679265, 24/95, 24/97),\n",
       " (0.00559448949205610, 3, 2, 33.6900675259798, 55/82, 55/83),\n",
       " (0.00645219477858100, 3, 1, 18.4349488229220, 31/92, 31/94),\n",
       " (0.00898874891338386, 2, 1, 26.5650511770780, 45/89, 44/89)]"
      ]
     },
     "execution_count": 5,
     "metadata": {},
     "output_type": "execute_result"
    }
   ],
   "source": [
    "gaps(100)[-5:]"
   ]
  },
  {
   "cell_type": "code",
   "execution_count": 6,
   "id": "8e72f38c-9287-4bea-a53e-37ed10d97460",
   "metadata": {},
   "outputs": [
    {
     "data": {
      "text/plain": [
       "[(0.00228310105589635, 177, 89, 26.6943868028008, 88/175, 1/2),\n",
       " (0.00245103806156000, 4, 1, 14.0362434679265, 48/191, 48/193),\n",
       " (0.00279733776872482, 3, 2, 33.6900675259798, 111/166, 109/164),\n",
       " (0.00320003003750530, 3, 1, 18.4349488229220, 63/188, 62/187),\n",
       " (0.00449446524220104, 2, 1, 26.5650511770780, 89/177, 89/179)]"
      ]
     },
     "execution_count": 6,
     "metadata": {},
     "output_type": "execute_result"
    }
   ],
   "source": [
    "gaps(200)[-5:]"
   ]
  },
  {
   "cell_type": "code",
   "execution_count": 7,
   "id": "595324cd-acc2-49e5-aa67-e72daaebbcde",
   "metadata": {},
   "outputs": [
    {
     "name": "stdout",
     "output_type": "stream",
     "text": [
      "100 (0.00460826231012040, 89, 44, 26.3069638257418, 1/2, 43/87)\n",
      "200 (0.00228310105589635, 177, 89, 26.6943868028008, 88/175, 1/2)\n",
      "300 (0.00151057286916878, 267, 133, 26.4791505225289, 1/2, 132/265)\n",
      "400 (0.00112739523824873, 357, 178, 26.5008182673137, 1/2, 177/355)\n",
      "500 (0.000899280333121921, 447, 223, 26.5137568492303, 1/2, 222/445)\n"
     ]
    }
   ],
   "source": [
    "for r in [100,200,300,400,500]:\n",
    "    print(r,gaps(r)[-5])"
   ]
  },
  {
   "cell_type": "markdown",
   "id": "54fed024-100f-4d8c-ae15-e40d3e8e1cd1",
   "metadata": {},
   "source": [
    "And it looks like the 4 largest gap pairs are around nearby trees, while the\n",
    "5th largest gap pair is around one of the two distant trees angularly adjacent\n",
    "to the tree at arctan(1/2).\n",
    "\n",
    "So it looks like the 5th largest gap pair overlaps the gap pair at arctan(1/2),\n",
    "and thus is around a tree very close to arctan(1/2)."
   ]
  }
 ],
 "metadata": {
  "kernelspec": {
   "display_name": "SageMath 10.3",
   "language": "sage",
   "name": "sagemath-10.3"
  },
  "language_info": {
   "codemirror_mode": {
    "name": "ipython",
    "version": 3
   },
   "file_extension": ".py",
   "mimetype": "text/x-python",
   "name": "python",
   "nbconvert_exporter": "python",
   "pygments_lexer": "ipython3",
   "version": "3.11.8"
  }
 },
 "nbformat": 4,
 "nbformat_minor": 5
}
