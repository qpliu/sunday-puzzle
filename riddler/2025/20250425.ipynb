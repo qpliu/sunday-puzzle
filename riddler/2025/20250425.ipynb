{
 "cells": [
  {
   "cell_type": "markdown",
   "id": "957f821e-9e18-4051-ab2a-4389c71c6232",
   "metadata": {},
   "source": [
    "[2025-04-25 Fiddler](https://thefiddler.substack.com/p/can-you-see-between-the-trees)\n",
    "===================="
   ]
  },
  {
   "cell_type": "markdown",
   "id": "512d0421-23f5-4e3e-8980-58c0f2b4447e",
   "metadata": {},
   "source": [
    "Fiddler\n",
    "-------\n",
    "Let $r$ be farthest I can see.\n",
    "\n",
    "The trees I can see are at $(x,y)$, where $x$ and $y$ are relatively prime whole\n",
    "numbers, and $x^2+y^2 \\le r^2$.\n",
    "\n",
    "There are two possible cases: gaps on either side of a very distant tree, or gaps on\n",
    "either side of a relatively close tree flanked by very distant trees.\n",
    "\n",
    "Since the excluded gaps just above 0° and just below 45° are presumably the largest,\n",
    "I'll speculate that the gaps on either side of a relatively close tree are the largest.\n",
    "\n",
    "Consider a visible tree at $(x,y)$.  Let $s = \\lfloor r/\\sqrt{x^2+y^2}\\rfloor$.\n",
    "Assume $s$ is very large.  The visible adjacent trees would be at $(sx-1,sy)$ and $(sx+1,sy)$,\n",
    "since $sx-1$ and $sy$ must be relatively prime, as must $sx+1$ and $sy$.  I'll ignore the\n",
    "possibility that $(sx+1,sy)$ is farther than $r$ — I'll speculate that it becomes irrelevant\n",
    "as $r$ gets large.\n",
    "\n",
    "The size of the pair of gaps is $\\arctan(sy/(sx-1)) - \\arctan(sy/(sx+1))$.\n",
    "Let $\\epsilon = 1/r = \\sqrt{x^2+y^2}/s$, so the size of the pair of gaps is\n",
    "$\\arctan(y/(x-\\epsilon/\\sqrt{x^2+y^2})) - \\arctan(y/(x+\\epsilon/\\sqrt{x^2+y^2}))$."
   ]
  },
  {
   "cell_type": "code",
   "execution_count": 1,
   "id": "206b686e-e562-4090-8066-c647520a3d17",
   "metadata": {},
   "outputs": [
    {
     "data": {
      "text/html": [
       "<html>\\(\\displaystyle {(\\frac{2 \\, y}{\\sqrt{x^{2} + y^{2}} x^{2} {\\left(\\frac{y^{2}}{x^{2}} + 1\\right)}})} \\epsilon + \\mathcal{O}\\left(\\epsilon^{3}\\right)\\)</html>"
      ],
      "text/latex": [
       "$\\displaystyle {(\\frac{2 \\, y}{\\sqrt{x^{2} + y^{2}} x^{2} {\\left(\\frac{y^{2}}{x^{2}} + 1\\right)}})} \\epsilon + \\mathcal{O}\\left(\\epsilon^{3}\\right)$"
      ],
      "text/plain": [
       "(2*y/(sqrt(x^2 + y^2)*x^2*(y^2/x^2 + 1)))*epsilon + Order(epsilon^3)"
      ]
     },
     "metadata": {},
     "output_type": "display_data"
    }
   ],
   "source": [
    "x,y,epsilon=var(\"x,y,epsilon\")\n",
    "show((arctan(y/(x-epsilon/sqrt(x^2+y^2)))-arctan(y/(x+epsilon/sqrt(x^2+y^2)))).series(epsilon,3))"
   ]
  },
  {
   "cell_type": "markdown",
   "id": "1fca0e9c-030c-473b-9162-503b29f1bfbb",
   "metadata": {},
   "source": [
    "So we want to maximize $2y/(x^2+y^2)^{3/2}$, which means the closest trees."
   ]
  },
  {
   "cell_type": "code",
   "execution_count": 2,
   "id": "6b46f1e3-60ab-4abf-9b86-60dd4de8a886",
   "metadata": {},
   "outputs": [
    {
     "name": "stdout",
     "output_type": "stream",
     "text": [
      "(0.00197037067368315, 10, 1)\n",
      "(0.00269345185548406, 9, 1)\n",
      "(0.00381645337197564, 8, 1)\n",
      "(0.00510424606632132, 9, 2)\n",
      "(0.00527243826727239, 10, 3)\n",
      "(0.00565685424949238, 7, 1)\n",
      "(0.00739187548754088, 10, 9)\n",
      "(0.00769748113239367, 10, 7)\n",
      "(0.00837398899079273, 9, 4)\n",
      "(0.00888643174623553, 6, 1)\n",
      "(0.00916307417318174, 9, 5)\n",
      "(0.00916363915627475, 9, 8)\n",
      "(0.00944524020792185, 9, 7)\n",
      "(0.00961982031749018, 8, 3)\n",
      "(0.0103668350149954, 7, 2)\n",
      "(0.0116549488118322, 8, 7)\n",
      "(0.0119100885393973, 8, 5)\n",
      "(0.0135834240889368, 7, 3)\n",
      "(0.0150858565490911, 5, 1)\n",
      "(0.0152658134879026, 7, 4)\n",
      "(0.0153127381989640, 7, 6)\n",
      "(0.0157091403707864, 7, 5)\n",
      "(0.0209896524480157, 6, 5)\n",
      "(0.0256131500933865, 5, 2)\n",
      "(0.0285336029454509, 4, 1)\n",
      "(0.0302644562016192, 5, 3)\n",
      "(0.0304729291489963, 5, 4)\n",
      "(0.0480000000000000, 4, 3)\n",
      "(0.0632455532033676, 3, 1)\n",
      "(0.0853384917269583, 3, 2)\n",
      "(0.178885438199983, 2, 1)\n"
     ]
    }
   ],
   "source": [
    "p = []\n",
    "for x in [1..10]:\n",
    "    for y in [1..x-1]:\n",
    "        if gcd(x,y) > 1:\n",
    "            continue\n",
    "        p.append((numerical_approx(2*y/(x^2+y^2)^(3/2)),x,y))\n",
    "p.sort()\n",
    "for item in p:\n",
    "    print(item)"
   ]
  },
  {
   "cell_type": "markdown",
   "id": "c0862e68-4106-4b34-964c-d0bc2cec16bf",
   "metadata": {},
   "source": [
    "So the largest pair of gaps is around $\\arctan(1/2) \\approx 26.56°$."
   ]
  },
  {
   "cell_type": "markdown",
   "id": "43f4241c-e109-4ad1-849e-d9115759cdef",
   "metadata": {},
   "source": [
    "Extra credit\n",
    "------------\n",
    "And the fifth largest is around $\\arctan(4/5) \\approx 38.66°$."
   ]
  }
 ],
 "metadata": {
  "kernelspec": {
   "display_name": "SageMath 10.3",
   "language": "sage",
   "name": "sagemath-10.3"
  },
  "language_info": {
   "codemirror_mode": {
    "name": "ipython",
    "version": 3
   },
   "file_extension": ".py",
   "mimetype": "text/x-python",
   "name": "python",
   "nbconvert_exporter": "python",
   "pygments_lexer": "ipython3",
   "version": "3.11.8"
  }
 },
 "nbformat": 4,
 "nbformat_minor": 5
}
