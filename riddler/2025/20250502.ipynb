{
 "cells": [
  {
   "cell_type": "markdown",
   "id": "a396a594-2d9c-4a84-9181-b58fedb67be4",
   "metadata": {},
   "source": [
    "[2025-05-02 Fiddler](https://thefiddler.substack.com/p/how-many-rides-can-you-reserve)\n",
    "===================="
   ]
  },
  {
   "cell_type": "markdown",
   "id": "20335409-47ef-44bf-96ce-1d7f267d94f8",
   "metadata": {},
   "source": [
    "Fiddler\n",
    "-------\n",
    "Let $p(n)$ be the probability that the third ride is in the $12-n$th slot, so that there are\n",
    "$n$ remaining slots after the third ride.\n",
    "\n",
    "Let $r(n)$ be the number of additional rides on average when there are $n$ remaining slots.\n",
    "$r(0) = 0$.  When $n > 0$,\n",
    "\n",
    "$$ r(n) = 1 + \\frac1n\\sum_{k=1}^nr(n-k) $$\n",
    "\n",
    "Since $n \\le 9$, tabulate $r$:"
   ]
  },
  {
   "cell_type": "code",
   "execution_count": 1,
   "id": "953fe5cd-7e52-48d8-a196-d257385b6633",
   "metadata": {},
   "outputs": [
    {
     "name": "stdout",
     "output_type": "stream",
     "text": [
      "0 0\n",
      "1 1\n",
      "2 3/2\n",
      "3 11/6\n",
      "4 25/12\n",
      "5 137/60\n",
      "6 49/20\n",
      "7 363/140\n",
      "8 761/280\n",
      "9 7129/2520\n"
     ]
    }
   ],
   "source": [
    "def r(n):\n",
    "    if n <= 0:\n",
    "        return 0\n",
    "    return 1 + sum([r(n-k) for k in [1..n]])/n\n",
    "\n",
    "for n in [0..9]:\n",
    "    print(n,r(n))"
   ]
  },
  {
   "cell_type": "markdown",
   "id": "65cab0fa-928c-4586-9d15-61a0d791f061",
   "metadata": {},
   "source": [
    "And tabulating $p(n) = \\binom{11-n}2/\\binom{12}3$:"
   ]
  },
  {
   "cell_type": "code",
   "execution_count": 2,
   "id": "afd25aee-fc6e-4412-b5c9-c99be6482ff5",
   "metadata": {},
   "outputs": [
    {
     "name": "stdout",
     "output_type": "stream",
     "text": [
      "0 1/4\n",
      "1 9/44\n",
      "2 9/55\n",
      "3 7/55\n",
      "4 21/220\n",
      "5 3/44\n",
      "6 1/22\n",
      "7 3/110\n",
      "8 3/220\n",
      "9 1/220\n",
      "1\n"
     ]
    }
   ],
   "source": [
    "def p(n):\n",
    "    return binomial(11-n,2)/binomial(12,3)\n",
    "\n",
    "for n in [0..9]:\n",
    "    print(n,p(n))\n",
    "\n",
    "print(sum([p(n) for n in [0..9]]))"
   ]
  },
  {
   "cell_type": "markdown",
   "id": "bb4706e5-d26a-4619-aa31-2dde4ff6e81a",
   "metadata": {},
   "source": [
    "And the average number of rides is $3 + \\sum_{n=0}^9 p(n)r(n) = 118361/27720 \\approx 4.27$,"
   ]
  },
  {
   "cell_type": "code",
   "execution_count": 3,
   "id": "a4c42e80-ef87-4b6a-82cb-043443a1af17",
   "metadata": {},
   "outputs": [
    {
     "data": {
      "text/plain": [
       "(118361/27720, 4.26987734487734)"
      ]
     },
     "execution_count": 3,
     "metadata": {},
     "output_type": "execute_result"
    }
   ],
   "source": [
    "a = 3+sum([p(n)*r(n) for n in [0..9]])\n",
    "(a,numerical_approx(a))"
   ]
  },
  {
   "cell_type": "markdown",
   "id": "dfec2f84-b1c0-4fcb-b8c0-0dc480458b4d",
   "metadata": {},
   "source": [
    "Extra credit\n",
    "------------\n",
    "Let $s(n)$ be the average number of rides when there are $n$ remaining slots,\n",
    "including the up to two previously reserved slots.  $s(0) = 0$, $s(1) = 1$,\n",
    "$s(2) = 2$, $s(3) = 3$.  The result we want is $s(12)$.  When $n > 3$,\n",
    "\n",
    "$$ s(n) = 1 + \\sum_{k=0}^{n-3}q(n,k)s(n-1-k) $$\n",
    "\n",
    "where $q(n,k) = \\binom{n-1-k}{2}/\\binom{n}{3}$ is the probability that the\n",
    "first ride is in the $k+1$th slot.\n",
    "\n",
    "So the average number of rides is $s(12) = 62921/9240 \\approx 6.8096$."
   ]
  },
  {
   "cell_type": "code",
   "execution_count": 4,
   "id": "6c3960a3-84a5-40f7-a655-1e7858a4abc7",
   "metadata": {},
   "outputs": [
    {
     "name": "stdout",
     "output_type": "stream",
     "text": [
      "0 0 0.000000000000000\n",
      "1 1 1.00000000000000\n",
      "2 2 2.00000000000000\n",
      "3 3 3.00000000000000\n",
      "4 15/4 3.75000000000000\n",
      "5 87/20 4.35000000000000\n",
      "6 97/20 4.85000000000000\n",
      "7 739/140 5.27857142857143\n",
      "8 1583/280 5.65357142857143\n",
      "9 5029/840 5.98690476190476\n",
      "10 5281/840 6.28690476190476\n",
      "11 60611/9240 6.55963203463203\n",
      "12 62921/9240 6.80963203463203\n"
     ]
    }
   ],
   "source": [
    "def q(n,k):\n",
    "    return binomial(n-1-k,2)/binomial(n,3)\n",
    "\n",
    "def s(n):\n",
    "    if n <= 3:\n",
    "        return n\n",
    "    return 1 + sum([q(n,k)*s(n-1-k) for k in [0..n-3]])\n",
    "\n",
    "for n in [0..12]:\n",
    "    print(n,s(n),numerical_approx(s(n)))"
   ]
  },
  {
   "cell_type": "markdown",
   "id": "ef532d2f-5983-43c3-9a78-7bf812bd08b7",
   "metadata": {},
   "source": [
    "Numerical simulations\n",
    "---------------------\n",
    "[Numerical simulations](20250502.go) agree:\n",
    "\n",
    "    $ go run 20250502.go\n",
    "    34159167/8000000 4.269896\n",
    "    54478442/8000000 6.809805"
   ]
  },
  {
   "cell_type": "markdown",
   "id": "51f58f34-32c5-403e-a801-66d90e974b0b",
   "metadata": {},
   "source": [
    "Making the $\\lfloor$rounds$\\rceil$\n",
    "----------------------------------\n",
    "My guess is\n",
    "\n",
    "$$ \\frac{x^2+y^2-1}{x^2+y^2-1} = 1 $$"
   ]
  }
 ],
 "metadata": {
  "kernelspec": {
   "display_name": "SageMath 10.3",
   "language": "sage",
   "name": "sagemath-10.3"
  },
  "language_info": {
   "codemirror_mode": {
    "name": "ipython",
    "version": 3
   },
   "file_extension": ".py",
   "mimetype": "text/x-python",
   "name": "python",
   "nbconvert_exporter": "python",
   "pygments_lexer": "ipython3",
   "version": "3.11.8"
  }
 },
 "nbformat": 4,
 "nbformat_minor": 5
}
