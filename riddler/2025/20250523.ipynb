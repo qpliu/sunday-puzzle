{
 "cells": [
  {
   "cell_type": "markdown",
   "id": "4b416326-ecc3-4034-9e05-89a5ecd52ab6",
   "metadata": {},
   "source": [
    "[2025-05-23 Fiddler](https://thefiddler.substack.com/p/how-long-is-the-river-of-text)\n",
    "===================="
   ]
  },
  {
   "cell_type": "markdown",
   "id": "04566916-2e43-41d9-ab30-c94f00556730",
   "metadata": {},
   "source": [
    "Fiddler\n",
    "-------\n",
    "If half of the words have 3 letters and half of the words have 4 letters, then, far\n",
    "from the beginning or end of the line, for every 9 letters there should be 2 spaces,\n",
    "so the probability that a character is a space is 2/9."
   ]
  },
  {
   "cell_type": "markdown",
   "id": "22ba403f-68da-48ac-9724-9ca900a30868",
   "metadata": {},
   "source": [
    "Extra credit\n",
    "------------\n",
    "I'll assume Fiddlish is written left-to-right and top to bottom, and I'll assume that\n",
    "there are many lines.\n",
    "\n",
    "I'll assume that diagonally means going right one character when going down one line.\n",
    "\n",
    "Let $P(n)$ be the probability that the $n$th character of a line is a space and let\n",
    "$L(n)$ be the length of a river starting from the $n$th character.\n",
    "\n",
    "$$\n",
    "\\begin{aligned}\n",
    "    L(n) &= 1 + P(n+1)L(n+1) \\\\\n",
    "        &= 1 + \\sum_{j=1}^\\infty\\prod_{k=1}^j P(n+k) \\\\\n",
    "\\end{aligned}\n",
    "$$\n",
    "\n",
    "$P(n)$ is nonzero when there exists whole numbers $j$ and $k$ such that\n",
    "$n = 4j + 5k$.\n",
    "\n",
    "If there is only one pair of $j,k$ such that $n = 4j+5k$, such as when $n=12$,\n",
    "$j,k = 3,0$, $P(n) = \\binom{j+k}j/2^{j+k}$.\n",
    "\n",
    "However, if $j,k$ results in a space at $n$, then $j+5m,k-4m$, where $m$ is an integer,\n",
    "also results in a space at $n$ when $j+5m \\ge 0$ and $k-4m \\ge 0$.\n",
    "\n",
    "Working out by hand the early cases for which only a single pair of $j,k$ is possible.\n",
    "\n",
    "|$n$|$j$|$k$|$P$|\n",
    "|---|---|---|---|\n",
    "|13 |2  |1  |3/8|\n",
    "|14 |1  |2  |3/8|\n",
    "|15 |0  |3  |1/8|\n",
    "|16 |4  |0  |1/16|\n",
    "|17 |3  |1  |4/16|\n",
    "|18 |2  |2  |6/16|\n",
    "|19 |1  |3  |4/16|\n",
    "\n",
    "When $n = 20$, $j,k = 5,0$ or $0,4$.  Considering the first 5 words, the probability\n",
    "of $0,5$ is $1/32$, and the probability of $4,0$ in the first 4 is $1/16\\cdot(1/2+1/2) = 1/16$,\n",
    "so $P(20) = 1/32 + 1/16 = 3/32$.\n",
    "\n",
    "So, in general,\n",
    "\n",
    "$$ P(n) = \\sum_{j=0}^\\infty\\sum_{k=0}^\\infty \\delta_{n,4j+5k}\\frac{\\binom{j+k}{j}}{2^{j+k}} $$\n",
    "\n",
    "Since $j \\le n/4$ and $k \\le n/5$,\n",
    "\n",
    "$$ P(n) = \\sum_{j=0}^{n/4}\\sum_{k=0}^{n/5} \\delta_{n,4j+5k}\\frac{\\binom{j+k}{j}}{2^{j+k}} $$"
   ]
  },
  {
   "cell_type": "code",
   "execution_count": 1,
   "id": "13d92cb1-3862-4290-8d12-a1cb5b92cde7",
   "metadata": {},
   "outputs": [
    {
     "data": {
      "text/html": [
       "<html>\\(\\displaystyle n \\ {\\mapsto}\\ {\\sum_{k=0}^{\\frac{1}{5} \\, n} {\\sum_{j=0}^{\\frac{1}{4} \\, n} 2^{-j - k} \\binom{j + k}{j} \\delta_{4 \\, j + 5 \\, k,n}}}\\)</html>"
      ],
      "text/latex": [
       "$\\displaystyle n \\ {\\mapsto}\\ {\\sum_{k=0}^{\\frac{1}{5} \\, n} {\\sum_{j=0}^{\\frac{1}{4} \\, n} 2^{-j - k} \\binom{j + k}{j} \\delta_{4 \\, j + 5 \\, k,n}}}$"
      ],
      "text/plain": [
       "n |--> sum(sum(2^(-j - k)*binomial(j + k, j)*kronecker_delta(4*j + 5*k, n), j, 0, 1/4*n), k, 0, 1/5*n)"
      ]
     },
     "metadata": {},
     "output_type": "display_data"
    }
   ],
   "source": [
    "j,k = var(\"j,k\")\n",
    "P(n) = sum(sum(kronecker_delta(n,4*j+5*k)*binomial(j+k,j)/2^(j+k),j,0,n/4),k,0,n/5)\n",
    "show(P)"
   ]
  },
  {
   "cell_type": "code",
   "execution_count": 2,
   "id": "d707c8b4-be80-46b6-ba2b-eaa4fc14a0c1",
   "metadata": {},
   "outputs": [
    {
     "data": {
      "text/html": [
       "<html>\\(\\displaystyle n \\ {\\mapsto}\\ {\\sum_{l=1}^{+\\infty} {\\prod_{m=1}^{l} {\\sum_{k=0}^{\\frac{1}{5} \\, m + \\frac{1}{5} \\, n} {\\sum_{j=0}^{\\frac{1}{4} \\, m + \\frac{1}{4} \\, n} 2^{-j - k} \\binom{j + k}{j} \\delta_{4 \\, j + 5 \\, k,m + n}}}}} + 1\\)</html>"
      ],
      "text/latex": [
       "$\\displaystyle n \\ {\\mapsto}\\ {\\sum_{l=1}^{+\\infty} {\\prod_{m=1}^{l} {\\sum_{k=0}^{\\frac{1}{5} \\, m + \\frac{1}{5} \\, n} {\\sum_{j=0}^{\\frac{1}{4} \\, m + \\frac{1}{4} \\, n} 2^{-j - k} \\binom{j + k}{j} \\delta_{4 \\, j + 5 \\, k,m + n}}}}} + 1$"
      ],
      "text/plain": [
       "n |--> sum(product(sum(sum(2^(-j - k)*binomial(j + k, j)*kronecker_delta(4*j + 5*k, m + n), j, 0, 1/4*m + 1/4*n), k, 0, 1/5*m + 1/5*n), m, 1, l), l, 1, +Infinity) + 1"
      ]
     },
     "metadata": {},
     "output_type": "display_data"
    }
   ],
   "source": [
    "l,m = var(\"l,m\")\n",
    "L(n) = 1 + sum(product(P(n+m),m,1,l),l,1,oo)\n",
    "show(L)"
   ]
  },
  {
   "cell_type": "code",
   "execution_count": 3,
   "id": "26f70987-0da1-4e62-aeb1-470fba7bc9dd",
   "metadata": {},
   "outputs": [
    {
     "data": {
      "text/html": [
       "<html>\\(\\displaystyle {\\sum_{l=1}^{+\\infty} {\\prod_{m=1}^{l} {\\sum_{k=0}^{\\frac{1}{5} \\, m + \\frac{12}{5}} {\\sum_{j=0}^{\\frac{1}{4} \\, m + 3} \\frac{2^{-j - k} \\left(j + k\\right)! \\delta_{4 \\, j + 5 \\, k,m + 12}}{j! k!}}}}} + 1\\)</html>"
      ],
      "text/latex": [
       "$\\displaystyle {\\sum_{l=1}^{+\\infty} {\\prod_{m=1}^{l} {\\sum_{k=0}^{\\frac{1}{5} \\, m + \\frac{12}{5}} {\\sum_{j=0}^{\\frac{1}{4} \\, m + 3} \\frac{2^{-j - k} \\left(j + k\\right)! \\delta_{4 \\, j + 5 \\, k,m + 12}}{j! k!}}}}} + 1$"
      ],
      "text/plain": [
       "sum(product(sum(sum(2^(-j - k)*factorial(j + k)*kronecker_delta(4*j + 5*k, m + 12)/(factorial(j)*factorial(k)), j, 0, 1/4*m + 3), k, 0, 1/5*m + 12/5), m, 1, l), l, 1, +Infinity) + 1"
      ]
     },
     "metadata": {},
     "output_type": "display_data"
    }
   ],
   "source": [
    "show(L(12).simplify_full())"
   ]
  },
  {
   "cell_type": "markdown",
   "id": "302f8d4d-0800-450f-836a-3b54771d3cbf",
   "metadata": {},
   "source": [
    "I don't know how to make sense of that, so consider partial sums"
   ]
  },
  {
   "cell_type": "code",
   "execution_count": 4,
   "id": "3a6530ec-ec9d-4e68-a2cc-9ad8afcd1d1d",
   "metadata": {},
   "outputs": [
    {
     "data": {
      "text/plain": [
       "[(11/8, 1.37500000000000),\n",
       " (97/64, 1.51562500000000),\n",
       " (785/512, 1.53320312500000),\n",
       " (12569/8192, 1.53430175781250),\n",
       " (50285/32768, 1.53457641601562),\n",
       " (402307/262144, 1.53467941284180),\n",
       " (1609255/1048576, 1.53470516204834),\n",
       " (51496241/33554432, 1.53470757603645),\n",
       " (1647880117/1073741824, 1.53470795322210),\n",
       " (26366083897/17179869184, 1.53470807109261),\n",
       " (421857352477/274877906944, 1.53470810792714),\n",
       " (26998870669903/17592186044416, 1.53470811425808),\n",
       " (215990965470599/140737488355328, 1.53470811504945),\n",
       " (13823421791788961/9007199254740992, 1.53470811523492),\n",
       " (221174748676976501/144115188075855872, 1.53470811529289),\n",
       " (28310367830911939003/18446744073709551616, 1.53470811530692),\n",
       " (3623727082361648183009/2361183241434822606848, 1.53470811530901),\n",
       " (463837066542404127209527/302231454903657293676544, 1.53470811530938),\n",
       " (59371144517431688875272581/38685626227668133590597632, 1.53470811530948),\n",
       " (15199012996462793554133952611/9903520314283042199192993792,\n",
       "  1.53470811530951)]"
      ]
     },
     "execution_count": 4,
     "metadata": {},
     "output_type": "execute_result"
    }
   ],
   "source": [
    "Lt(n,p) = 1 + sum(product(P(n+m),m,1,l),l,1,p)\n",
    "[(Lt(12,p).simplify(),numerical_approx(Lt(12,p).simplify())) for p in [1..20]]"
   ]
  },
  {
   "cell_type": "markdown",
   "id": "6282be86-56ab-4da4-bf75-d63038b29cc5",
   "metadata": {},
   "source": [
    "It looks like the partial sums for $L(12)$ converge to approximately 1.5347.\n",
    "\n",
    "[Numerical simulations](20250523.go) agree:\n",
    "\n",
    "    $ go run 20250523.go\n",
    "    12279141/8000000 1.534893"
   ]
  },
  {
   "cell_type": "markdown",
   "id": "8fcf1b7b-6e8f-4ce0-bccb-998e255b41cd",
   "metadata": {},
   "source": [
    "Additional thoughts\n",
    "-------------------\n",
    "If Fiddlish were right-to-left, every river starting from the\n",
    "twelfth character would have length 1 because $P(11) = 0$.\n",
    "\n",
    "If diagonally means going $r$ characters to the right when going\n",
    "down 1 row, then $L(n) = 1 + P(n+r)L(n+r)$.\n",
    "\n",
    "When $n$ is large, then $P(n) \\approx 2/9$, so $L(n) \\approx 9/7$."
   ]
  },
  {
   "cell_type": "code",
   "execution_count": 5,
   "id": "28794235-d2a3-4e2a-8706-ada195419755",
   "metadata": {},
   "outputs": [
    {
     "data": {
      "image/png": "[encoded data removed]",
      "text/plain": [
       "Graphics object consisting of 2 graphics primitives"
      ]
     },
     "execution_count": 5,
     "metadata": {},
     "output_type": "execute_result"
    }
   ],
   "source": [
    "b = [numerical_approx(P(n).simplify()) for n in [0..150]]\n",
    "b[0] = 0\n",
    "plot(2/9,xmin=1,xmax=150,color='gray') + bar_chart(b)"
   ]
  }
 ],
 "metadata": {
  "kernelspec": {
   "display_name": "SageMath 10.3",
   "language": "sage",
   "name": "sagemath-10.3"
  },
  "language_info": {
   "codemirror_mode": {
    "name": "ipython",
    "version": 3
   },
   "file_extension": ".py",
   "mimetype": "text/x-python",
   "name": "python",
   "nbconvert_exporter": "python",
   "pygments_lexer": "ipython3",
   "version": "3.11.8"
  }
 },
 "nbformat": 4,
 "nbformat_minor": 5
}
