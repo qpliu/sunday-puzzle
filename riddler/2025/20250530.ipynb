{
 "cells": [
  {
   "cell_type": "markdown",
   "id": "d703496c-9775-4fd7-863f-cdc08dcf596b",
   "metadata": {},
   "source": [
    "[2025-05-30 Fiddler](https://thefiddler.substack.com/p/can-you-weave-the-web)\n",
    "===================="
   ]
  },
  {
   "cell_type": "markdown",
   "id": "e3537f4f-2fcf-44a4-ad17-e7d20c999728",
   "metadata": {},
   "source": [
    "Fiddler\n",
    "-------\n",
    "First, given a first point, $a$, and a random second point, $b$, consider the\n",
    "probability that some point, $c$, is on the line between $a$ and $b$.\n",
    "The probability is proportional to the length of the line between $a$ and $c$\n",
    "within the square, $L_{ac}$.\n",
    "\n",
    "Let the corners of the square be at (0,0), (1,0), (1,1) and (0,1).\n",
    "\n",
    "Let point $a$ be at $(x_a, y_a)$ and point $c$ be at $(x_c, y_c)$.\n",
    "\n",
    "Consider point $c$ in the 1/8th of the square where $0 > x_c > y_c > 1/2$.\n",
    "By symmetry, the distribution in the other 7/8ths should be the same with\n",
    "appropriate combinations of rotation, reflection, and translation.\n",
    "\n",
    "Point $c$ defines four regions of the square, and we can define $L_{ac}$ when\n",
    "point $a$ is in each region, as illustrated in the following figure:"
   ]
  },
  {
   "cell_type": "code",
   "execution_count": 1,
   "id": "175ec596-467f-44d3-9d7a-b0678b49035d",
   "metadata": {},
   "outputs": [
    {
     "data": {
      "image/png": "[encoded data removed]",
      "text/plain": [
       "Graphics object consisting of 9 graphics primitives"
      ]
     },
     "execution_count": 1,
     "metadata": {},
     "output_type": "execute_result"
    }
   ],
   "source": [
    "def fig(xp,yp,x0=0,y0=0):\n",
    "    return (circle((x0+xp,y0+yp),0.005,color='red',axes=False)\n",
    "            + polygon([(x0+0,y0+1),(x0+0,y0+yp/(1-xp)),(x0+xp,y0+yp)],color='blue')\n",
    "            + polygon([(x0+1,y0+0),(x0+xp/(1-yp),y0+0),(x0+xp,y0+yp)],color='blue')\n",
    "            + polygon([(x0+0,y0+1),(x0+xp/yp,y0+1),(x0+xp,y0+yp)],color='green')\n",
    "            + polygon([(x0+0,y0+0),(x0+xp/(1-yp),y0+0),(x0+xp,y0+yp)],color='green')\n",
    "            + polygon([(x0+1,y0+1),(x0+xp/yp,y0+1),(x0+xp,y0+yp)],color='yellow')\n",
    "            + polygon([(x0+0,y0+0),(x0+0,y0+1-(1-yp)/(1-xp)),(x0+xp,y0+yp)],color='yellow')\n",
    "            + polygon([(x0+0,y0+0),(x0+1,y0+0),(x0+1,y0+1),(x0+0,y0+1)],fill=False,color='black')\n",
    "            + polygon([(x0+0,y0+0),(x0+1/2,y0+1/2),(x0+0,y0+1/2)],color='red',alpha=0.05)\n",
    "           )\n",
    "\n",
    "fig(0.3,0.4)"
   ]
  },
  {
   "cell_type": "markdown",
   "id": "22741450-427d-4cfb-b807-5c1e341431dd",
   "metadata": {},
   "source": [
    "When point $c$ is at the center of the square, $1 \\le L_{ac} \\le \\sqrt2$, and\n",
    "the probability density gets the benefit of both diagonals.  The blue and yellow\n",
    "areas vanish.\n",
    "\n",
    "As point $c$ moves away from the center, the blue and yellow areas,\n",
    "with smaller $L_{ac}$, grow.\n",
    "\n",
    "At the middle of the left edge, the blue and yellow areas are maximized, so\n",
    "I think the most likely point is the center of the square, and the least\n",
    "likely points are the midpoints of each side."
   ]
  },
  {
   "cell_type": "code",
   "execution_count": 7,
   "id": "493249f7-8198-4a74-8c77-99277b1be352",
   "metadata": {},
   "outputs": [
    {
     "data": {
      "image/png": "[encoded data removed]",
      "text/plain": [
       "Graphics object consisting of 63 graphics primitives"
      ]
     },
     "execution_count": 7,
     "metadata": {},
     "output_type": "execute_result"
    }
   ],
   "source": [
    "(fig(1/2,1/2)\n",
    " +fig(1/4,1/2,x0=1.2)\n",
    " +fig(0,1/2,x0=2.4)\n",
    " +fig(1/4,1/4,y0=-1.2)\n",
    " +fig(1/8,1/4,y0=-1.2,x0=1.2)\n",
    " +fig(0,1/4,y0=-1.2,x0=2.4)\n",
    " +fig(0,0.001,y0=-2.4)\n",
    ")"
   ]
  },
  {
   "cell_type": "markdown",
   "id": "4efac7f0-48a8-408b-9063-9c692e14fcd1",
   "metadata": {},
   "source": [
    "Extra credit\n",
    "------------\n",
    "Define the line connecting the point $a$ and point $c$ and where it intersects the\n",
    "edges of the square"
   ]
  },
  {
   "cell_type": "code",
   "execution_count": 3,
   "id": "3bcdd05d-3d99-4b85-9f47-3322899afe16",
   "metadata": {},
   "outputs": [],
   "source": [
    "x,y,xa,ya,xc,yc = var(\"x,y,x_a,y_a,x_c,y_c\")\n",
    "assume(0 < x, x < 1, 0 < y, y < 1, 0 < xa, xa < 1, 0 < ya, ya < 1, 0 < xc, xc < 1, 0 < yc, yc < 1)\n",
    "\n",
    "line = (x-xa)/(xc-xa) == (y-ya)/(yc-ya)\n",
    "y0 = solve(line.substitute(x==0),y)[0].rhs()\n",
    "y1 = solve(line.substitute(x==1),y)[0].rhs()\n",
    "x0 = solve(line.substitute(y==0),x)[0].rhs()\n",
    "x1 = solve(line.substitute(y==1),x)[0].rhs()"
   ]
  },
  {
   "cell_type": "markdown",
   "id": "b1b83255-11ac-4e3c-b694-9f89d21ea1cc",
   "metadata": {},
   "source": [
    "And $L_{ac}$ in the four regions are"
   ]
  },
  {
   "cell_type": "code",
   "execution_count": 4,
   "id": "3ad4c7cb-e3d3-495b-baa2-30c2e4d06221",
   "metadata": {},
   "outputs": [],
   "source": [
    "L_b = sqrt(x0^2+y0^2)\n",
    "L_g = sqrt((x1-x0)^2+1)\n",
    "L_y = sqrt((1-y0)^2+(1-x1)^2)\n",
    "L_w = sqrt((y1-y0)^2+1)"
   ]
  },
  {
   "cell_type": "markdown",
   "id": "54d433df-8f8c-47d1-988f-2ba9afcccccf",
   "metadata": {},
   "source": [
    "The lines bounding the regions are"
   ]
  },
  {
   "cell_type": "code",
   "execution_count": 5,
   "id": "0fa74f49-e6b6-426b-8001-ebe8165ec982",
   "metadata": {},
   "outputs": [],
   "source": [
    "line00 = line.substitute(xa==0,ya==0)\n",
    "line01 = line.substitute(xa==0,ya==1)\n",
    "line10 = line.substitute(xa==1,ya==0)\n",
    "line11 = line.substitute(xa==1,ya==1)"
   ]
  },
  {
   "cell_type": "markdown",
   "id": "a385df64-c9dc-4a9d-bd94-d010a23f58c7",
   "metadata": {},
   "source": [
    "The probability density is proportional to $\\int_0^1 dx_a\\int_0^1 dy_a L_{ac}$.\n",
    "Perhaps I've done something wrong.  It looks like the computer can't handle these integrals:"
   ]
  },
  {
   "cell_type": "code",
   "execution_count": 6,
   "id": "c6c7e848-eb3d-47fd-8fdb-c531a19f0e4d",
   "metadata": {},
   "outputs": [],
   "source": [
    "if False:\n",
    "    P_b = (\n",
    "        integral(\n",
    "            integral(L_b, ya, solve(line10.substitute(x==xa),y)[0].rhs(), solve(line01.substitute(x==xa),y)[0].rhs()),\n",
    "            xa, 0, xc) +\n",
    "        integral(\n",
    "            integral(L_b, xa, solve(line01.substitute(y==ya),x)[0].rhs(), solve(line10.substitute(y==ya),x)[0].rhs()),\n",
    "            ya, 0, yc) +\n",
    "        0)\n",
    "    P_g = (\n",
    "        integral(\n",
    "            integral(L_g, xa, solve(line00.substitute(y==ya),x)[0].rhs(), solve(line01.substitute(y==ya),x)[0].rhs()),\n",
    "            ya, 0, yc) +\n",
    "        integral(\n",
    "            integral(L_g, xa, solve(line01.substitute(y==ya),x)[0].rhs(), solve(line00.substitute(y==ya),x)[0].rhs()),\n",
    "            ya, yc, 1) +\n",
    "        0)\n",
    "    P_y = (\n",
    "        integral(\n",
    "            integral(L_y, ya, solve(line00.substitute(x==xa),y)[0].rhs(), solve(line11.substitute(x==xa),y)[0].rhs()),\n",
    "            xa, 0, xc) +\n",
    "        integral(\n",
    "            integral(L_y, xa, solve(line00.substitute(y==ya),x)[0].rhs(), solve(line11.substitute(y==ya),x)[0].rhs()),\n",
    "            ya, yc, 1) +\n",
    "        0)\n",
    "    P_w = (\n",
    "        integral(\n",
    "            integral(L_w, ya, solve(line11.substitute(x==xa),y)[0].rhs(), solve(line10.substitute(x==xa),y)[0].rhs()),\n",
    "            xa, 0, xc) +\n",
    "        integral(\n",
    "            integral(L_w, ya, solve(line10.substitute(x==xa),y)[0].rhs(), solve(line11.substitute(x==xa),y)[0].rhs()),\n",
    "            xa, xc, 1) +\n",
    "        0)\n",
    "    P = P_b + P_g + P_y + P_w"
   ]
  }
 ],
 "metadata": {
  "kernelspec": {
   "display_name": "SageMath 10.3",
   "language": "sage",
   "name": "sagemath-10.3"
  },
  "language_info": {
   "codemirror_mode": {
    "name": "ipython",
    "version": 3
   },
   "file_extension": ".py",
   "mimetype": "text/x-python",
   "name": "python",
   "nbconvert_exporter": "python",
   "pygments_lexer": "ipython3",
   "version": "3.11.8"
  }
 },
 "nbformat": 4,
 "nbformat_minor": 5
}
