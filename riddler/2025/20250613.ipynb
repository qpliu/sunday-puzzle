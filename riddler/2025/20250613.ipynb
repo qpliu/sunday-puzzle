{
 "cells": [
  {
   "cell_type": "markdown",
   "id": "2c01c51d-3c55-4798-b3a6-a65fba00b6c7",
   "metadata": {},
   "source": [
    "[2025-06-13 Fiddler](https://thefiddler.substack.com/p/can-you-race-against-zeno)\n",
    "===================="
   ]
  },
  {
   "cell_type": "markdown",
   "id": "303bef59-eb57-41dd-9b18-f62ea5664367",
   "metadata": {},
   "source": [
    "Fiddler\n",
    "-------\n",
    "Let $d_0 = 5000$ be the initial distance and $v_0 = 5000/24$ be the initial pace.\n",
    "\n",
    "Let $T(d,v) = d/2v + T(d/2,11v/10)$ be the time to finish.\n",
    "\n",
    "Then, $T(d,v) = d/2v + d/2v\\cdot10/22 + T(d/2^2,(11/10)^2v) = d/2v\\sum_{n=0}^\\infty (10/22)^n = d/2v\\cdot11/6 = d/v\\cdot11/12$.\n",
    "\n",
    "So $T(d_0,v_0) = 24\\cdot11/12 = 22$, which is better than 23."
   ]
  },
  {
   "cell_type": "markdown",
   "id": "a172114f-02ba-4b67-8c35-8ec04ad1fa46",
   "metadata": {},
   "source": [
    "Extra credit\n",
    "------------\n",
    "Let $f = 11/10$.\n",
    "\n",
    "Let $v(d) = fv(2d)$ be the speed when $d$ from the finish, where $v(d_0) = v_0$.\n",
    "\n",
    "The speed curve over the first half of the course completely determines the speed curve\n",
    "over the remainder of the course.\n",
    "\n",
    "There is no unique solution.  For example, keeping a near constant speed until\n",
    "just before the half, then sharply ramping up gives the upper bound of 22 minutes,\n",
    "the Fiddler answer.  Similarly, immediately ramping up, then keeping a near constant\n",
    "speed until just after the half gives the lower bound of 20 minutes.\n",
    "\n",
    "For the straightforward answer, hypothesize $v = Ad^{C} = fA(2d)^{C}$, so $f = 2^{-C}$,\n",
    "$C = -\\log f/\\log 2 \\approx -0.1375$.  And $Ad_0^C = v_0$, so $A = v_0/d_0^C \\approx 672$."
   ]
  },
  {
   "cell_type": "code",
   "execution_count": 1,
   "id": "a32b572c-243d-4a9e-b64a-23c12d0063b7",
   "metadata": {},
   "outputs": [
    {
     "data": {
      "text/plain": [
       "(-0.137503523749935, 672.016865277245)"
      ]
     },
     "execution_count": 1,
     "metadata": {},
     "output_type": "execute_result"
    }
   ],
   "source": [
    "v0 = 5000/24\n",
    "d0 = 5000\n",
    "f = 11/10\n",
    "C = -log(f)/log(2)\n",
    "A = v0/d0^C\n",
    "(numerical_approx(C),numerical_approx(A))"
   ]
  },
  {
   "cell_type": "markdown",
   "id": "c2c152ec-6b0d-42d2-aec8-8c2ca206d3d7",
   "metadata": {},
   "source": [
    "Then, the time is\n",
    "\n",
    "$$ \\int_0^{d_0} \\frac{dx}{v(x)}\n",
    "   = \\int_0^{d_0} \\frac{dx}{Ax^C}\n",
    "   = \\frac{d_0^{1-C}}{A(1-C)}\n",
    "   \\approx 21.0988357388826 $$\n",
    "\n",
    "which is between the lower and upper bounds."
   ]
  },
  {
   "cell_type": "code",
   "execution_count": 2,
   "id": "33df0454-8907-4370-b596-398d72bd082f",
   "metadata": {},
   "outputs": [
    {
     "name": "stdout",
     "output_type": "stream",
     "text": [
      "24*log(2)/log(11/5)\n",
      "21:05.930\n"
     ]
    },
    {
     "data": {
      "text/plain": [
       "21.0988357388826"
      ]
     },
     "execution_count": 2,
     "metadata": {},
     "output_type": "execute_result"
    }
   ],
   "source": [
    "t = integral(1/(A*x^C), x, 0, d0)\n",
    "t = t.simplify().substitute(log(2)+log(11/10) == log(11/5))\n",
    "print(t)\n",
    "print(f\"{floor(numerical_approx(t))}:{numerical_approx(t)*60-60*floor(numerical_approx(t)):06.3f}\")\n",
    "numerical_approx(t)"
   ]
  }
 ],
 "metadata": {
  "kernelspec": {
   "display_name": "SageMath 10.3",
   "language": "sage",
   "name": "sagemath-10.3"
  },
  "language_info": {
   "codemirror_mode": {
    "name": "ipython",
    "version": 3
   },
   "file_extension": ".py",
   "mimetype": "text/x-python",
   "name": "python",
   "nbconvert_exporter": "python",
   "pygments_lexer": "ipython3",
   "version": "3.11.8"
  }
 },
 "nbformat": 4,
 "nbformat_minor": 5
}
