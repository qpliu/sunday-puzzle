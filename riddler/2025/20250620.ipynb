{
 "cells": [
  {
   "cell_type": "markdown",
   "id": "666ae5ad-b02b-44ac-aebb-a94c3f0e0b99",
   "metadata": {},
   "source": [
    "[2025-06-20 Fiddler](https://thefiddler.substack.com/p/how-greedily-can-you-mow-the-lawn)\n",
    "===================="
   ]
  },
  {
   "cell_type": "markdown",
   "id": "57ecea40-d44c-4f63-9bd4-f5e26d91e661",
   "metadata": {},
   "source": [
    "Fiddler\n",
    "-------\n",
    "My initial guess is 4.  The first pass goes right through the center.\n",
    "The second pass is the same, rotated by 90°.  The last two passes clear\n",
    "the remaining 4 patches.  I don't know if it's possible for the third\n",
    "pass to clear more than half of what remains.  Eyeballing, I'd say no.\n",
    "\n",
    "Any rotation of the second pass away from 90° from the first pass increases its\n",
    "overlap with the first pass, and any translation of the second pass from being\n",
    "centered at the circle center, unless the rotation is less than 60° from the first\n",
    "pass, decreases the amount cut."
   ]
  },
  {
   "cell_type": "code",
   "execution_count": 1,
   "id": "5c0a2a50-2d48-4a47-bf36-335535fc4d91",
   "metadata": {},
   "outputs": [
    {
     "data": {
      "image/png": "[encoded data removed]",
      "text/plain": [
       "Graphics object consisting of 3 graphics primitives"
      ]
     },
     "execution_count": 1,
     "metadata": {},
     "output_type": "execute_result"
    }
   ],
   "source": [
    "(circle((0,0),1,axes=false)\n",
    " + polygon([(-1/2,1),(1/2,1),(1/2,-1),(-1/2,-1)],color='red',alpha=0.1)\n",
    " + polygon([(1,1/2),(1,-1/2),(-1,-1/2),(-1,1/2)],color='red',alpha=0.1)\n",
    ")"
   ]
  },
  {
   "cell_type": "code",
   "execution_count": 2,
   "id": "fb020351-af9c-4ec3-bebd-6604b951cdb2",
   "metadata": {},
   "outputs": [
    {
     "data": {
      "text/html": [
       "<html>\\(\\displaystyle \\left(\\frac{1}{3} \\, \\pi + \\frac{1}{2} \\, \\sqrt{3}, \\frac{1}{3} \\, \\pi + \\frac{1}{2} \\, \\sqrt{3} - 1, \\frac{1}{6} \\, \\pi - \\frac{1}{2} \\, \\sqrt{3} + \\frac{1}{2}\\right)\\)</html>"
      ],
      "text/latex": [
       "$\\displaystyle \\left(\\frac{1}{3} \\, \\pi + \\frac{1}{2} \\, \\sqrt{3}, \\frac{1}{3} \\, \\pi + \\frac{1}{2} \\, \\sqrt{3} - 1, \\frac{1}{6} \\, \\pi - \\frac{1}{2} \\, \\sqrt{3} + \\frac{1}{2}\\right)$"
      ],
      "text/plain": [
       "(1/3*pi + 1/2*sqrt(3), 1/3*pi + 1/2*sqrt(3) - 1, 1/6*pi - 1/2*sqrt(3) + 1/2)"
      ]
     },
     "metadata": {},
     "output_type": "display_data"
    },
    {
     "data": {
      "text/plain": [
       "(0.608997781044229, 0.290687894860439, 0.0501571620476660)"
      ]
     },
     "execution_count": 2,
     "metadata": {},
     "output_type": "execute_result"
    }
   ],
   "source": [
    "pass1 = 4*integral(sqrt(1-x^2),x,0,1/2)\n",
    "pass2 = pass1 - 1\n",
    "pass3 = (pi - pass1 - pass2)/2\n",
    "show((pass1,pass2,pass3))\n",
    "(numerical_approx(pass1/pi),numerical_approx(pass2/pi),numerical_approx(pass3/pi))"
   ]
  },
  {
   "cell_type": "markdown",
   "id": "580d368a-a0ae-4163-a353-dafc77304cf2",
   "metadata": {},
   "source": [
    "So the first pass gets about 60.9%, the second pass gets about 29.1%, and\n",
    "the third and fourth passes get about 5.0%."
   ]
  },
  {
   "cell_type": "markdown",
   "id": "8ab92d94-e240-4f8d-b8bc-4a4774397c2a",
   "metadata": {},
   "source": [
    "Extra credit\n",
    "------------\n",
    "The first pass clearly must be centered around the center of the sphere, boring out\n",
    "approximately 35% of the volume."
   ]
  },
  {
   "cell_type": "code",
   "execution_count": 3,
   "id": "bbfdc671-56c7-4599-a173-bbee1c03fdaf",
   "metadata": {},
   "outputs": [
    {
     "data": {
      "text/html": [
       "<html>\\(\\displaystyle -\\frac{1}{12} \\, \\pi {\\left(9 \\, \\sqrt{3} - 16\\right)} + \\frac{1}{4} \\, \\sqrt{3} \\pi\\)</html>"
      ],
      "text/latex": [
       "$\\displaystyle -\\frac{1}{12} \\, \\pi {\\left(9 \\, \\sqrt{3} - 16\\right)} + \\frac{1}{4} \\, \\sqrt{3} \\pi$"
      ],
      "text/plain": [
       "-1/12*pi*(9*sqrt(3) - 16) + 1/4*sqrt(3)*pi"
      ]
     },
     "metadata": {},
     "output_type": "display_data"
    },
    {
     "data": {
      "text/plain": [
       "0.350480947161671"
      ]
     },
     "execution_count": 3,
     "metadata": {},
     "output_type": "execute_result"
    }
   ],
   "source": [
    "pass1 = pi/4*sqrt(3) + 2*integral(pi*(1-x^2), x, sqrt(3)/2, 1)\n",
    "show(pass1)\n",
    "numerical_approx(pass1/(4*pi/3))"
   ]
  },
  {
   "cell_type": "markdown",
   "id": "9edfb81d-213b-46c1-b563-9b461544c0d6",
   "metadata": {},
   "source": [
    "I'm guessing that the second and third passes are also centered around the center\n",
    "of the sphere, but rotated 90° from the first pass and each other.  I'm finding it\n",
    "difficult to picture what the fourth pass could be.\n",
    "\n",
    "Another candidate for the second or third pass would be parallel to the first pass.\n",
    "\n",
    "The 3rd-4th-5th-6th passes could also be perpendicular to the first and second passes,\n",
    "but offset from the center."
   ]
  },
  {
   "cell_type": "markdown",
   "id": "e86d2725-9ef4-4d52-a5df-4f2413c45d0f",
   "metadata": {},
   "source": [
    "Making the $\\lfloor$rounds$\\rceil$\n",
    "----------------------------------\n",
    "Region $R$ is clearly the annulus between circles of radii $\\sqrt{98}$ and $\\sqrt{99}$,\n",
    "so its area is $\\pi$."
   ]
  },
  {
   "cell_type": "markdown",
   "id": "3991956f-c243-425b-bdec-d2868cc91adf",
   "metadata": {},
   "source": [
    "For region $Q$, when $n \\le x^2 < n+1$, $98-n \\le y^2 < 99-n$, and its area\n",
    "is slightly more than $\\pi$."
   ]
  },
  {
   "cell_type": "code",
   "execution_count": 4,
   "id": "96d2417f-f04b-4fec-a267-4aa27a9d1485",
   "metadata": {},
   "outputs": [
    {
     "data": {
      "text/plain": [
       "3.14201553570153"
      ]
     },
     "execution_count": 4,
     "metadata": {},
     "output_type": "execute_result"
    }
   ],
   "source": [
    "q = 4*sum([(sqrt(n+1)-sqrt(n))*(sqrt(99-n)-sqrt(98-n)) for n in [0..98]])\n",
    "numerical_approx(q)"
   ]
  },
  {
   "cell_type": "markdown",
   "id": "098c321c-2061-4ca1-af45-679b1a2b0c85",
   "metadata": {},
   "source": [
    "For region $P$,\n",
    "when $\\sqrt{n} \\le x < \\sqrt{n+1}$, $\\sqrt{98-n} \\le y < \\sqrt{99-n}$ for $n \\in 0 \\ldots 98$,\n",
    "or $-\\sqrt{98-n} \\le y < -\\sqrt{97-n}$ for $n \\in 0 \\ldots 97$.\n",
    "\n",
    "When $-\\sqrt{n} \\le x < -\\sqrt{n-1}$, $\\sqrt{98-n} \\le y < \\sqrt{99-n}$ for $n \\in 1 \\ldots 98$,\n",
    "or $-\\sqrt{98-n} \\le y < -\\sqrt{97-n}$ for $n \\in 1 \\ldots 97$."
   ]
  },
  {
   "cell_type": "code",
   "execution_count": 5,
   "id": "0880ea87-f5f2-4af9-b222-9bbc24dc5aa5",
   "metadata": {},
   "outputs": [
    {
     "data": {
      "text/plain": [
       "3.14202207523422"
      ]
     },
     "execution_count": 5,
     "metadata": {},
     "output_type": "execute_result"
    }
   ],
   "source": [
    "p = (sum([(sqrt(n+1)-sqrt(n))*(sqrt(99-n)-sqrt(98-n)) for n in [0..98]])\n",
    "     + sum([(sqrt(n+1)-sqrt(n))*(sqrt(98-n)-sqrt(97-n)) for n in [0..97]])\n",
    "     + sum([(sqrt(n)-sqrt(n-1))*(sqrt(99-n)-sqrt(98-n)) for n in [1..98]])\n",
    "     + sum([(sqrt(n)-sqrt(n-1))*(sqrt(98-n)-sqrt(97-n)) for n in [1..97]]))\n",
    "numerical_approx(p)"
   ]
  },
  {
   "cell_type": "markdown",
   "id": "edbee5e0-1f78-4deb-b598-c6136707577f",
   "metadata": {},
   "source": [
    "So region $P$ is the largest and region $R$ is the smallest."
   ]
  }
 ],
 "metadata": {
  "kernelspec": {
   "display_name": "SageMath 10.3",
   "language": "sage",
   "name": "sagemath-10.3"
  },
  "language_info": {
   "codemirror_mode": {
    "name": "ipython",
    "version": 3
   },
   "file_extension": ".py",
   "mimetype": "text/x-python",
   "name": "python",
   "nbconvert_exporter": "python",
   "pygments_lexer": "ipython3",
   "version": "3.11.8"
  }
 },
 "nbformat": 4,
 "nbformat_minor": 5
}
