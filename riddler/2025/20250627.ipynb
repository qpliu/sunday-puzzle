{
 "cells": [
  {
   "cell_type": "markdown",
   "id": "0ee73ced-820e-4a0e-be9a-d1c0db41a4d4",
   "metadata": {},
   "source": [
    "[2025-06-07 Fiddler](https://thefiddler.substack.com/p/can-you-crack-the-roman-code)\n",
    "===================="
   ]
  },
  {
   "cell_type": "markdown",
   "id": "66e28c77-916b-4960-b06f-48f6539ffa77",
   "metadata": {},
   "source": [
    "Fiddler\n",
    "-------\n",
    "This kind of problem is easier to solve with code than with thinking."
   ]
  },
  {
   "cell_type": "code",
   "execution_count": 1,
   "id": "2706d162-424a-4731-87ea-71a0bd8091f3",
   "metadata": {},
   "outputs": [],
   "source": [
    "from functools import cache\n",
    "\n",
    "@cache\n",
    "def combinations(code, digits):\n",
    "    count = 0\n",
    "    for digit in digits:\n",
    "        if code == digit:\n",
    "            count += 1\n",
    "        elif code[0:len(digit)] == digit:\n",
    "            count += combinations(code[len(digit):], digits)\n",
    "    return count"
   ]
  },
  {
   "cell_type": "code",
   "execution_count": 2,
   "id": "99cfaafe-3037-447c-866d-c739fddc35b7",
   "metadata": {},
   "outputs": [
    {
     "data": {
      "text/plain": [
       "274"
      ]
     },
     "execution_count": 2,
     "metadata": {},
     "output_type": "execute_result"
    }
   ],
   "source": [
    "combinations(\"IIIIIIIIII\",frozenset({\"I\",\"II\",\"III\"}))"
   ]
  },
  {
   "cell_type": "markdown",
   "id": "5678d999-4b08-46fd-9500-e70f329acc4f",
   "metadata": {},
   "source": [
    "Extra credit\n",
    "------------"
   ]
  },
  {
   "cell_type": "code",
   "execution_count": 3,
   "id": "74c1ad45-6d3d-4849-8858-c610085af0e8",
   "metadata": {},
   "outputs": [
    {
     "data": {
      "text/plain": [
       "4000"
      ]
     },
     "execution_count": 3,
     "metadata": {},
     "output_type": "execute_result"
    }
   ],
   "source": [
    "combinations(\"IIIVIIIVIIIVIII\",frozenset({\"I\",\"II\",\"III\",\"IV\",\"V\",\"VI\",\"VII\",\"VIII\"}))"
   ]
  },
  {
   "cell_type": "markdown",
   "id": "44fe7aea-9fc7-417d-a23b-d984cdbdf27a",
   "metadata": {},
   "source": [
    "With thinking\n",
    "-------------\n",
    "To get the answers by thinking instead of code, work backwards.\n",
    "\n",
    "|Remaining code|ways|\n",
    "|--------------|----|\n",
    "|I             |1   |\n",
    "|II            |1+I = 2 |\n",
    "|III           |1+I+II = 4 |\n",
    "|IIII          |I+II+III = 7 |\n",
    "|IIIII         |II+III+IIII = 13 |\n",
    "|IIIIII        |III+IIII+IIIII = 24 |\n",
    "|IIIIIII       |IIII+IIIII+IIIIIII = 44 |\n",
    "|IIIIIIII      |IIIII+IIIIII+IIIIIII = 81 |\n",
    "|IIIIIIIII     |IIIIII+IIIIIII+IIIIIIII = 149 |\n",
    "|IIIIIIIIII    |IIIIIII+IIIIIIII+IIIIIIIII = 274 |\n",
    "\n",
    "This is [A000073 in OEIS](https://oeis.org/A000073), the \"tribonacci numbers\".\n",
    "\n",
    "|Remaining code |ways|\n",
    "|---------------|----|\n",
    "|I              |1   |\n",
    "|II             |1+I = 2 |\n",
    "|III            |1+I+II = 4 |\n",
    "|VIII           |1+I+II+III = 8 |\n",
    "|IVIII          |III+VIII = 12 |\n",
    "|IIVIII         |VIII+IVIII = 20 |\n",
    "|IIIVIII        |VIII+IVIII+IIVIII = 40 |\n",
    "|VIIIVIII       |VIII+IVIII+IIVIII+IIIVIII = 80 |\n",
    "|IVIIIVIII      |IIIVIII+VIIIVIII = 120 |\n",
    "|IIVIIIVIII     |VIIIVIII+IVIIIVIII = 200 |\n",
    "|IIIVIIIVIII    |VIIIVIII+IVIIIVIII+IIVIIIVIII = 400 |\n",
    "|VIIIVIIIVIII   |VIIIVIII+IVIIIVIII+IIVIIIVIII+IIIVIIIVIII = 800 |\n",
    "|IVIIIVIIIVIII  |IIIVIIIVIII+VIIIVIIIVIII = 1200 |\n",
    "|IIVIIIVIIIVIII |VIIIVIIIVIII+IVIIIVIIIVIII = 2000 |\n",
    "|IIIVIIIVIIIVIII|VIIIVIIIVIII+IVIIIVIIIVIII+IIVIIIVIIIVIII = 4000 |"
   ]
  }
 ],
 "metadata": {
  "kernelspec": {
   "display_name": "SageMath 10.3",
   "language": "sage",
   "name": "sagemath-10.3"
  },
  "language_info": {
   "codemirror_mode": {
    "name": "ipython",
    "version": 3
   },
   "file_extension": ".py",
   "mimetype": "text/x-python",
   "name": "python",
   "nbconvert_exporter": "python",
   "pygments_lexer": "ipython3",
   "version": "3.11.8"
  }
 },
 "nbformat": 4,
 "nbformat_minor": 5
}
