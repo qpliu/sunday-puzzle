{
 "cells": [
  {
   "cell_type": "markdown",
   "id": "b6e7727e-8d37-4168-9318-cecd298dc0c6",
   "metadata": {},
   "source": [
    "[2025-07-11 Fiddler](https://thefiddler.substack.com/p/can-you-hack-bowling)\n",
    "===================="
   ]
  },
  {
   "cell_type": "markdown",
   "id": "f0db3e4e-1e6b-4198-add4-5a1a4633f357",
   "metadata": {},
   "source": [
    "Fiddler\n",
    "-------\n",
    "To minimize the number of pins knocked down, maximize the score per pin.  So no extra frames.\n",
    "\n",
    "If three consecutive frames are strikes, that's at least 60 points.\n",
    "\n",
    "If four consecutive frames are strikes, that's at least 90 points.  Then 5 pins from the next\n",
    "roll makes 100 points from a total of 45 pins."
   ]
  },
  {
   "cell_type": "markdown",
   "id": "6f1ea101-2b24-47c9-ba72-20d992806555",
   "metadata": {},
   "source": [
    "Extra credit\n",
    "------------\n",
    "To minimize the points per pin at 1, no strikes or spares.  Maximizing the points per pin\n",
    "means as many strikes as possible.  To maximize the difference, maximize the number of pins.\n",
    "\n",
    "A spare or a strike for an extra pin in the 10th frame adds one point to the lower score is certainly\n",
    "worth more than one point in the higher score.  A strike in the 11th frame for the lower score\n",
    "gains 10 points, but the 10 additional pins is probably more points for the higher score.\n",
    "\n",
    "So, that's 101 points on 101 pins for the lower score.  And 101 pins means 240 points for the\n",
    "first 8 frames, 21 points for the 9th frame, 11 points for the 10th frame, for 272 points, for\n",
    "a difference of 161 points.\n",
    "\n",
    "Strikes in the 10th and 11th frames means 1 additional point per pin in the 12th frame for the\n",
    "lower score, on up to 10 more pins.  The higher score can score 2 points per pin in the 11th\n",
    "frame on up to 9 pins.\n",
    "\n",
    "So, the lower score will be 110 or 111 on 110 or 111 pins.  For the higher score, that's\n",
    "270 points on the first 9 frames, and 20 or 21 points on the 10th frame for a total of 290 or\n",
    "291 points, for a difference of 180 points."
   ]
  },
  {
   "cell_type": "markdown",
   "id": "94197846-611b-4754-a337-331462a52d55",
   "metadata": {},
   "source": [
    "Making the $\\lfloor$rounds$\\rceil$\n",
    "----------------------------------\n",
    "The flush left top rectangle case gives 5/6 as the answer."
   ]
  },
  {
   "cell_type": "code",
   "execution_count": 1,
   "id": "3927d482-6cc2-4c55-a250-a48177c570a4",
   "metadata": {},
   "outputs": [
    {
     "data": {
      "image/png": "[encoded data removed]",
      "text/plain": [
       "Graphics object consisting of 17 graphics primitives"
      ]
     },
     "execution_count": 1,
     "metadata": {},
     "output_type": "execute_result"
    }
   ],
   "source": [
    "a = 1\n",
    "b = 1.6\n",
    "x = 0.4\n",
    "(polygon([(0,0),(0,a),(b,a),(b,0)],color='#8f8',fill=true,axes=false)\n",
    " + polygon([(x,a),(x,2*a),(x+b,2*a),(x+b,a)],color='#8cf',fill=true)\n",
    " + polygon([(b,a),(b+a,a),(b+a,a-b),(b,a-b)],color='#4a4',fill=true)\n",
    " + polygon([(x,a),(x+b,2*a),(0,0)],color='white',fill=true)\n",
    " + polygon([(x+b,2*a),(x+b,a),(b,a-b)],color='white',fill=true)\n",
    " + polygon([(0,0),(0,a),(b,a),(b,0)],color='#000',fill=false,axes=false)\n",
    " + polygon([(x,a),(x,2*a),(x+b,2*a),(x+b,a)],color='#000',fill=false)\n",
    " + polygon([(b,a),(b+a,a),(b+a,a-b),(b,a-b)],color='#000',fill=false)\n",
    " + polygon([(x,a),(x+b,2*a),(0,0)],color='#000',fill=false)\n",
    " + polygon([(x+b,2*a),(x+b,a),(b,a-b)],color='#000',fill=false)\n",
    " + text(\"$a$\",(-b/20,a/2),color='black')\n",
    " + text(\"$b$\",(b/2,-a/10),color='black')\n",
    " + text(\"$x$\",(x/2,11*a/10),color='black')\n",
    " + line([(x,a),((x+b)/2,a)],color='red')\n",
    " + text(\"$(b-x)/2$\",(x+(b-x)/4,9*a/10),color='red')\n",
    " + line([(b+x-a*x/(a+b),a),(b+x,a)],color='red')\n",
    " + text(\"$ax/(a+b)$\",(x+b-(a*x/(2*(a+b))),11*a/10),color='red')\n",
    ")"
   ]
  },
  {
   "cell_type": "markdown",
   "id": "a1a2b241-3036-4648-aa47-93d29fe61eaa",
   "metadata": {},
   "source": [
    "For the general case, the area of the rectangles is $3ab$.\n",
    "\n",
    "To get the area of the 4 white triangles, find the lengths of their horizontal sides.\n",
    "The length of the left is $(b-x)/2$.  The length of the right is $ax/(a+b)$.\n",
    "\n",
    "The area of the 2 triangles on the left is $a(b-x)/2$.  The areas of the 2 triangles on\n",
    "the right are $abx/2(a+b)$ and $a^2x/2(a+b)$.  Adding them up,\n",
    "\n",
    "$$ \\frac{a(b-x)(a+b) + abx + a^2x}{2(a+b)} = \\frac{a^2b + ab^2 - a^2x - abx + abx + a^2x}{2(a+b)}\n",
    "  = \\frac{a^2b + ab^2}{2(a+b)} = \\frac{ab}{2}\n",
    "$$\n",
    "\n",
    "giving 5/6 as the answer."
   ]
  }
 ],
 "metadata": {
  "kernelspec": {
   "display_name": "SageMath 10.3",
   "language": "sage",
   "name": "sagemath-10.3"
  },
  "language_info": {
   "codemirror_mode": {
    "name": "ipython",
    "version": 3
   },
   "file_extension": ".py",
   "mimetype": "text/x-python",
   "name": "python",
   "nbconvert_exporter": "python",
   "pygments_lexer": "ipython3",
   "version": "3.11.8"
  }
 },
 "nbformat": 4,
 "nbformat_minor": 5
}
