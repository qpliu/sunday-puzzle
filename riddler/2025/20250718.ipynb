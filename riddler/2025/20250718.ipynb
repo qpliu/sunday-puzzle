{
 "cells": [
  {
   "cell_type": "markdown",
   "id": "cb0132c1-e7aa-4c6d-936d-9571d1eecbcb",
   "metadata": {},
   "source": [
    "[2025-07-18 Fiddler](https://thefiddler.substack.com/p/can-you-meet-me-at-the-mall)\n",
    "===================="
   ]
  },
  {
   "cell_type": "markdown",
   "id": "d7656cac-21f8-4b95-8521-a45706fc8d44",
   "metadata": {},
   "source": [
    "Fiddler\n",
    "-------\n",
    "The maximum on average is $M_3 = p_1 + 2p_2 + 3p_3$, where $p_1$ is the probability\n",
    "that the maximum is 1, $p_2$ is the probability that the maximum is 2, and $p_3$\n",
    "is the probability that the maximum is 3.\n",
    "\n",
    "Scale the time so that $t = 0$ is 3 p.m. and $t = 1$ is 4 p.m.  Let $a_1 \\le a_2 \\le a_3$\n",
    "be the arrival times.\n",
    "\n",
    "First, get the normalization constant."
   ]
  },
  {
   "cell_type": "code",
   "execution_count": 1,
   "id": "06ecd215-e5ae-443e-90d4-e5b0bd92b7af",
   "metadata": {},
   "outputs": [
    {
     "data": {
      "text/plain": [
       "1/6"
      ]
     },
     "execution_count": 1,
     "metadata": {},
     "output_type": "execute_result"
    }
   ],
   "source": [
    "a1,a2,a3,a4 = var(\"a1,a2,a3,a4\")\n",
    "c3 = integral(integral(integral(1, a3, a2, 1), a2, a1, 1), a1, 0, 1)\n",
    "c3"
   ]
  },
  {
   "cell_type": "markdown",
   "id": "b2b30e59-ff2b-40c6-aa25-059e467005e1",
   "metadata": {},
   "source": [
    "Calculating the probabilities,"
   ]
  },
  {
   "cell_type": "code",
   "execution_count": 2,
   "id": "4b2df018-2a4f-47d0-91b5-b24395bfca54",
   "metadata": {},
   "outputs": [
    {
     "data": {
      "text/plain": [
       "((1/8, 0.125000000000000),\n",
       " (23/32, 0.718750000000000),\n",
       " (5/32, 0.156250000000000))"
      ]
     },
     "execution_count": 2,
     "metadata": {},
     "output_type": "execute_result"
    }
   ],
   "source": [
    "p1 = integral(integral(integral(1, a3, a2+1/4, 1),\n",
    "                       a2, a1+1/4, 3/4),\n",
    "              a1, 0, 1/2)/c3\n",
    "p3 = integral(integral(integral(1, a3, a2, min_symbolic(1, a1+1/4)),\n",
    "                       a2, a1, min_symbolic(1, a1+1/4)),\n",
    "              a1, 0, 1)/c3\n",
    "p2 = 1 - p1 - p3\n",
    "\n",
    "((p1,numerical_approx(p1)),\n",
    " (p2,numerical_approx(p2)),\n",
    " (p3,numerical_approx(p3)))"
   ]
  },
  {
   "cell_type": "markdown",
   "id": "4d998409-cb64-43f8-b27a-ca88033af14e",
   "metadata": {},
   "source": [
    "And the maximum on average is 65/32 = 2.03125."
   ]
  },
  {
   "cell_type": "code",
   "execution_count": 3,
   "id": "6a913527-991f-4881-a8b8-9482e94e556a",
   "metadata": {},
   "outputs": [
    {
     "data": {
      "text/plain": [
       "(65/32, 2.03125000000000)"
      ]
     },
     "execution_count": 3,
     "metadata": {},
     "output_type": "execute_result"
    }
   ],
   "source": [
    "m3 = p1 + 2*p2 + 3*p3\n",
    "m3,numerical_approx(m3)"
   ]
  },
  {
   "cell_type": "markdown",
   "id": "e96ea1dd-ea91-42a7-b4de-dc435d901ecc",
   "metadata": {},
   "source": [
    "Extra credit\n",
    "------------\n",
    "In a similar exercise, $M_4 = p_1 + 2p_2 + 3p_3 + 4p_4$."
   ]
  },
  {
   "cell_type": "code",
   "execution_count": 4,
   "id": "7b128aa7-e86d-4606-8838-fab38fcbb633",
   "metadata": {},
   "outputs": [
    {
     "data": {
      "text/plain": [
       "1/24"
      ]
     },
     "execution_count": 4,
     "metadata": {},
     "output_type": "execute_result"
    }
   ],
   "source": [
    "c4 = integral(integral(integral(integral(1, a4, a3, 1), a3, a2, 1), a2, a1, 1), a1, 0, 1)\n",
    "c4"
   ]
  },
  {
   "cell_type": "code",
   "execution_count": 5,
   "id": "d347f1f2-7e7e-4df7-9d1e-4b49d10a47ca",
   "metadata": {},
   "outputs": [],
   "source": [
    "p1 = integral(integral(integral(integral(1, a4, a3+1/4, 1),\n",
    "                                a3, a2+1/4, 3/4),\n",
    "                       a2, a1+1/4, 1/2),\n",
    "              a1, 0, 1/4)/c4\n",
    "p4 = integral(integral(integral(integral(1, a4, a3, min_symbolic(1, a1+1/4)),\n",
    "                                a3, a2, min_symbolic(1, a1+1/4)),\n",
    "                       a2, a1, min_symbolic(1, a1+1/4)),\n",
    "              a1, 0, 1)/c4"
   ]
  },
  {
   "cell_type": "markdown",
   "id": "f63a15bd-271d-452a-a4e7-c45b99f6e9ad",
   "metadata": {},
   "source": [
    "For $p_3$, the first and fourth cannot meet.  I'll calculate this as two\n",
    "cases: where the first and third meet as the first integral, and where the second\n",
    "and fourth meet but the first and third don't meet as the second integral.  The computer\n",
    "can't handle the `min` and `max` in the second integral, so I had to manually expand\n",
    "it."
   ]
  },
  {
   "cell_type": "code",
   "execution_count": 6,
   "id": "2aa647a2-51df-4644-8b7f-22e3a7b3a70f",
   "metadata": {},
   "outputs": [
    {
     "data": {
      "text/plain": [
       "((1/256, 0.00390625000000000),\n",
       " (145/256, 0.566406250000000),\n",
       " (97/256, 0.378906250000000),\n",
       " (13/256, 0.0507812500000000))"
      ]
     },
     "execution_count": 6,
     "metadata": {},
     "output_type": "execute_result"
    }
   ],
   "source": [
    "if False:\n",
    "    # computer can't handle these integrals\n",
    "    p3 = (integral(integral(integral(integral(1, a4, a1+1/4, 1),\n",
    "                                     a3, a2, a1+1/4),\n",
    "                            a2, a1, a1+1/4),\n",
    "                   a1, 0, 3/4)\n",
    "          + integral(integral(integral(integral(1, a4, a3, min_symbolic(1, a2+1/4)),\n",
    "                                       a3, max_symbolic(a2, a1+1/4), min_symbolic(1, a2+1/4)),\n",
    "                              a2, a1, 1),\n",
    "                     a1, 0, 3/4))/c4\n",
    "\n",
    "p3 = (integral(integral(integral(integral(1, a4, a1+1/4, 1),\n",
    "                                 a3, a2, a1+1/4),\n",
    "                        a2, a1, a1+1/4),\n",
    "               a1, 0, 3/4)\n",
    "      + integral(integral(integral(integral(1, a4, a3, a2+1/4),\n",
    "                                   a3, a1+1/4, a2+1/4),\n",
    "                          a2, a1, a1+1/4)\n",
    "                 + integral(integral(integral(1, a4, a3, a2+1/4),\n",
    "                                     a3, a2, a2+1/4),\n",
    "                            a2, a1+1/4, 3/4)\n",
    "                 + integral(integral(integral(1, a4, a3, 1),\n",
    "                                     a3, a2, 1),\n",
    "                            a2, 3/4, 1),\n",
    "                 a1, 0, 1/2)\n",
    "      + integral(integral(integral(integral(1, a4, a3, a2+1/4),\n",
    "                                   a3, a1+1/4, a2+1/4),\n",
    "                          a2, a1, 3/4)\n",
    "                 + integral(integral(integral(1, a4, a3, 1),\n",
    "                                     a3, a1+1/4, 1),\n",
    "                            a2, 3/4, a1+1/4)         \n",
    "                 + integral(integral(integral(1, a4, a3, 1),\n",
    "                                     a3, a2, 1),\n",
    "                            a2, a1+1/4, 1),\n",
    "                 a1, 1/2, 3/4)\n",
    "     )/c4\n",
    "\n",
    "p2 = 1 - p1 - p3 - p4\n",
    "\n",
    "((p1,numerical_approx(p1)),\n",
    " (p2,numerical_approx(p2)),\n",
    " (p3,numerical_approx(p3)),\n",
    " (p4,numerical_approx(p4)))"
   ]
  },
  {
   "cell_type": "markdown",
   "id": "7b934820-a112-427c-91af-4594a6634371",
   "metadata": {},
   "source": [
    "And the maximum on average is 317/128 = 2.4765625."
   ]
  },
  {
   "cell_type": "code",
   "execution_count": 7,
   "id": "c88a8fbc-5b1b-40a9-b9b2-f39f59726fe3",
   "metadata": {},
   "outputs": [
    {
     "data": {
      "text/plain": [
       "(317/128, 2.47656250000000)"
      ]
     },
     "execution_count": 7,
     "metadata": {},
     "output_type": "execute_result"
    }
   ],
   "source": [
    "m4 = p1+2*p2+3*p3+4*p4\n",
    "m4,numerical_approx(m4)"
   ]
  },
  {
   "cell_type": "markdown",
   "id": "de1b4633-35db-43c3-afc8-7763c97ed159",
   "metadata": {
    "jp-MarkdownHeadingCollapsed": true
   },
   "source": [
    "Simulations\n",
    "-----------\n",
    "[Simulations](20250718.go) agree\n",
    "\n",
    "    $ go run 20250718.go\n",
    "    1:1000238/8000000 0.125030\n",
    "    2:5751436/8000000 0.718929\n",
    "    3:1248326/8000000 0.156041\n",
    "    2.031011\n",
    "    1:31100/8000000 0.003887\n",
    "    2:4531694/8000000 0.566462\n",
    "    3:3030655/8000000 0.378832\n",
    "    4:406551/8000000 0.050819\n",
    "    2.476582"
   ]
  },
  {
   "cell_type": "markdown",
   "id": "9309bcb7-201c-425f-8357-7eaec91a252f",
   "metadata": {},
   "source": [
    "Another look\n",
    "------------\n",
    "Previously, I didn't actually calculate the integrals for $p_2$, so I'll do it here.\n",
    "\n",
    "For the fiddler $p_2$, the first and third cannot meet, so the first integral will be the\n",
    "probability that the first and second meet, and the second integral will be the probability\n",
    "that the second and third meet while the first and second do not meet."
   ]
  },
  {
   "cell_type": "code",
   "execution_count": 8,
   "id": "1aac52ca-219d-455f-a701-f712f52d2486",
   "metadata": {},
   "outputs": [
    {
     "data": {
      "text/plain": [
       "23/32"
      ]
     },
     "execution_count": 8,
     "metadata": {},
     "output_type": "execute_result"
    }
   ],
   "source": [
    "if False:\n",
    "    # the computer can't handle these integrals\n",
    "    (integral(integral(integral(1, a3, a1+1/4, 1),\n",
    "                       a2, a1, a1+1/4),\n",
    "              a1, 0, 3/4)\n",
    "     + integral(integral(integral(1, a3, a2, min_symbolic(1, a2+1/4)),\n",
    "                         a2, a1+1/4, 1),\n",
    "                a1, 0, 3/4)\n",
    "    )/c3\n",
    "\n",
    "(integral(integral(integral(1, a3, a1+1/4, 1),\n",
    "                   a2, a1, a1+1/4),\n",
    "          a1, 0, 3/4)\n",
    " + integral(integral(integral(1, a3, a2, a2+1/4),\n",
    "                     a2, a1+1/4, 3/4)\n",
    "            + integral(integral(1, a3, a2, 1),\n",
    "                       a2, 3/4, 1),\n",
    "            a1, 0, 1/2)\n",
    " + integral(integral(integral(1, a3, a2, 1),\n",
    "                     a2, a1+1/4, 1),\n",
    "            a1, 1/2, 3/4)\n",
    ")/c3"
   ]
  },
  {
   "cell_type": "markdown",
   "id": "3a155a6a-3f9b-4bb9-a226-6f85f9e4ede3",
   "metadata": {},
   "source": [
    "For the extra credit $p_2$, the first and third cannot meet, and the second and\n",
    "fourth cannot meet.  The first integral is the probability that the first and\n",
    "second meet.  The second integral is the probability that the second and third\n",
    "meet but the first and second do not meet.  The third integral is the probability\n",
    "that the third and fourth meet, but the first and second do not meet and the second\n",
    "and third do not meet."
   ]
  },
  {
   "cell_type": "code",
   "execution_count": 9,
   "id": "68cf21af-88c2-46f4-bd29-6270a79b5392",
   "metadata": {},
   "outputs": [
    {
     "data": {
      "text/plain": [
       "145/256"
      ]
     },
     "execution_count": 9,
     "metadata": {},
     "output_type": "execute_result"
    }
   ],
   "source": [
    "if False:\n",
    "    # the computer can't handle these integrals\n",
    "    (integral(integral(integral(integral(1, a4, max_symbolic(a3, a2+1/4), 1),\n",
    "                                a3, a1+1/4, 1),\n",
    "                       a2, a1, min_symbolic(3/4, a1+1/4)),\n",
    "              a1, 0, 3/4)\n",
    "     + integral(integral(integral(integral(1, a4, a2+1/4, 1),\n",
    "                                  a3, a2, a2+1/4),\n",
    "                         a2, a1+1/4, 3/4),\n",
    "                a1, 0, 1/2)\n",
    "     + integral(integral(integral(integral(1, a4, a3, min_symbolic(1, a3+1/4)),\n",
    "                                  a3, a2+1/4, 1),\n",
    "                         a2, a1+1/4, 3/4),\n",
    "                a1, 0, 1/2)\n",
    "    )/c4\n",
    "\n",
    "(integral(integral(integral(integral(1, a4, a2+1/4, 1),\n",
    "                            a3, a1+1/4, a2+1/4)\n",
    "                   + integral(integral(1, a4, a3, 1),\n",
    "                              a3, a2+1/4, 1),\n",
    "                   a2, a1, a1+1/4),\n",
    "          a1, 0, 1/2)\n",
    " + integral(integral(integral(integral(1, a4, a2+1/4, 1),\n",
    "                              a3, a1+1/4, a2+1/4)\n",
    "                     + integral(integral(1, a4, a3, 1),\n",
    "                                a3, a2+1/4, 1),\n",
    "                     a2, a1, 3/4),\n",
    "            a1, 1/2, 3/4)\n",
    " + integral(integral(integral(integral(1, a4, a2+1/4, 1),\n",
    "                              a3, a2, a2+1/4),\n",
    "                     a2, a1+1/4, 3/4),\n",
    "            a1, 0, 1/2)\n",
    " + integral(integral(integral(integral(1, a4, a3, a3+1/4),\n",
    "                              a3, a2+1/4, 3/4)\n",
    "                     + integral(integral(1, a4, a3, 1),\n",
    "                                a3, 3/4, 1),\n",
    "                     a2, a1+1/4, 1/2)\n",
    "            + integral(integral(integral(1, a4, a3, 1),\n",
    "                                a3, a2+1/4, 1),\n",
    "                       a2, 1/2, 3/4),\n",
    "            a1, 0, 1/4)\n",
    " + integral(integral(integral(integral(1, a4, a3, 1),\n",
    "                              a3, a2+1/4, 1),\n",
    "                     a2, a1+1/4, 3/4),\n",
    "            a1, 1/4, 1/2)\n",
    ")/c4"
   ]
  }
 ],
 "metadata": {
  "kernelspec": {
   "display_name": "SageMath 10.3",
   "language": "sage",
   "name": "sagemath-10.3"
  },
  "language_info": {
   "codemirror_mode": {
    "name": "ipython",
    "version": 3
   },
   "file_extension": ".py",
   "mimetype": "text/x-python",
   "name": "python",
   "nbconvert_exporter": "python",
   "pygments_lexer": "ipython3",
   "version": "3.11.8"
  }
 },
 "nbformat": 4,
 "nbformat_minor": 5
}
