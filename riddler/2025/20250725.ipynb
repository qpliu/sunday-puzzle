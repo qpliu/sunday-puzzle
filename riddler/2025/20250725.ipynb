{
 "cells": [
  {
   "cell_type": "markdown",
   "id": "a22ce520-e524-493a-af36-12108bc88098",
   "metadata": {},
   "source": [
    "[2025-07-25 Fiddler](https://thefiddler.substack.com/p/can-you-sprint-to-the-finish)\n",
    "===================="
   ]
  },
  {
   "cell_type": "markdown",
   "id": "ea44b2ca-6a87-4f59-af73-05e615d4f4db",
   "metadata": {},
   "source": [
    "Fiddler\n",
    "-------\n",
    "My initial thought is to always sprint.  If we are both under 50%, I win.  If I am under 50% and\n",
    "my opponent is over 50%, I lose.  If I am over 50% and my opponent is under 50%, I win.  If we\n",
    "are both over 50%, it's 50-50.  Each of these cases have 25% probability, so my chances of winning\n",
    "is 5/8.\n",
    "\n",
    "I don't see how not sprinting in any of the cases improves my chances, not that I'd be able to\n",
    "distinguish between the cases of my opponent being over or under 50%."
   ]
  },
  {
   "cell_type": "markdown",
   "id": "0761b900-1b12-4c7e-8c9a-74b5a3c00c4a",
   "metadata": {},
   "source": [
    "Extra credit\n",
    "------------\n",
    "Let $x$ and $y$ be my opponents' legs.  Let $z$ be my legs, and $s$ be my strategy, where\n",
    "I sprint if $z > s$.  There are $4! = 24$ ways these can be ordered, and each ordering is\n",
    "equally probable.\n",
    "\n",
    "Since my opponents are interchangeable, let $x < y$, and there are 12 equally probable\n",
    "orderings.\n",
    "\n",
    "There is also the 50% to account for, so bring on the integrals."
   ]
  },
  {
   "cell_type": "code",
   "execution_count": 1,
   "id": "c16aea22-974c-4ff3-a6cf-0968a16e007f",
   "metadata": {},
   "outputs": [],
   "source": [
    "x,y,z,s = var(\"x,y,z,s\")"
   ]
  },
  {
   "cell_type": "markdown",
   "id": "48a4e39d-1d77-4257-8a57-cf935d42c763",
   "metadata": {},
   "source": [
    "#### When $x < y < z < s$\n",
    "My chances of winning is $1/3$ when $y < 1/2$ and zero otherwise."
   ]
  },
  {
   "cell_type": "code",
   "execution_count": 2,
   "id": "c3347d94-60ae-4190-8a63-56a820407542",
   "metadata": {},
   "outputs": [
    {
     "data": {
      "text/plain": [
       "11/576"
      ]
     },
     "execution_count": 2,
     "metadata": {},
     "output_type": "execute_result"
    }
   ],
   "source": [
    "if False:\n",
    "    # the computer cannot handle this integral\n",
    "    pxyzs = integral(integral(integral(integral(1/3, x, 0, y),\n",
    "                                       y, 0, min_symbolic(z,1/2)),\n",
    "                              z, 0, s),\n",
    "                     s, 0, 1)*2\n",
    "\n",
    "pxyzs = (integral(integral(integral(integral(1/3, x, 0, y),\n",
    "                                    y, 0, z),\n",
    "                           z, 0, s),\n",
    "                  s, 0, 1/2)\n",
    "         + integral(integral(integral(integral(1/3, x, 0, y),\n",
    "                                      y, 0, z),\n",
    "                             z, 0, 1/2)\n",
    "                    + integral(integral(integral(1/3, x, 0, y),\n",
    "                                        y, 0, 1/2),\n",
    "                               z, 1/2, s),\n",
    "                    s, 1/2, 1)\n",
    "        )*2\n",
    "pxyzs"
   ]
  },
  {
   "cell_type": "markdown",
   "id": "71670f23-8fa7-4232-89f2-248eac8094b1",
   "metadata": {},
   "source": [
    "#### When $x < y < s < z$\n",
    "I always win this case."
   ]
  },
  {
   "cell_type": "code",
   "execution_count": 3,
   "id": "02674c09-7f6e-476f-8fff-7b73808b71a8",
   "metadata": {},
   "outputs": [
    {
     "data": {
      "text/plain": [
       "1/12"
      ]
     },
     "execution_count": 3,
     "metadata": {},
     "output_type": "execute_result"
    }
   ],
   "source": [
    "pxysz = integral(integral(integral(integral(1, x, 0, y),\n",
    "                                   y, 0, s),\n",
    "                          s, 0, z),\n",
    "                 z, 0, 1)*2\n",
    "pxysz"
   ]
  },
  {
   "cell_type": "markdown",
   "id": "48a2c377-ac55-4e7a-93ec-c7e6e593f243",
   "metadata": {},
   "source": [
    "#### When $x < z < y < s$\n",
    "My chances of winning is $1/3$ when $y < 1/2$, and zero otherwise."
   ]
  },
  {
   "cell_type": "code",
   "execution_count": 4,
   "id": "d6824c9f-3eba-420c-976c-b6f3d68b30f4",
   "metadata": {},
   "outputs": [
    {
     "data": {
      "text/plain": [
       "5/576"
      ]
     },
     "execution_count": 4,
     "metadata": {},
     "output_type": "execute_result"
    }
   ],
   "source": [
    "pxzys = integral(integral(integral(integral(1/3, x, 0, z),\n",
    "                                   z, 0, y),\n",
    "                          y, 0, min_symbolic(s,1/2)),\n",
    "                 s, 0, 1)*2\n",
    "pxzys"
   ]
  },
  {
   "cell_type": "markdown",
   "id": "b9e47a6d-f454-4ba6-ac38-3404614203c6",
   "metadata": {},
   "source": [
    "#### When $x < z < s < y$\n",
    "My chances of winning is $1/3$ when $y < 1/2$, and zero otherwise."
   ]
  },
  {
   "cell_type": "code",
   "execution_count": 5,
   "id": "cdf7cf94-6b83-48eb-9d97-306fc0c3e4dc",
   "metadata": {},
   "outputs": [
    {
     "data": {
      "text/plain": [
       "1/576"
      ]
     },
     "execution_count": 5,
     "metadata": {},
     "output_type": "execute_result"
    }
   ],
   "source": [
    "pxzsy = integral(integral(integral(integral(1/3, x, 0, z),\n",
    "                                   z, 0, s),\n",
    "                          s, 0, y),\n",
    "                 y, 0, 1/2)*2\n",
    "pxzsy"
   ]
  },
  {
   "cell_type": "markdown",
   "id": "914059c8-a5a6-4f0b-9875-1a98b793c2ee",
   "metadata": {},
   "source": [
    "#### When $x < s < y < z$\n",
    "I always win this case."
   ]
  },
  {
   "cell_type": "code",
   "execution_count": 6,
   "id": "3b33f9d2-deb7-4c9f-aaf0-a381334fe609",
   "metadata": {},
   "outputs": [
    {
     "data": {
      "text/plain": [
       "1/12"
      ]
     },
     "execution_count": 6,
     "metadata": {},
     "output_type": "execute_result"
    }
   ],
   "source": [
    "pxsyz = integral(integral(integral(integral(1, x, 0, s),\n",
    "                                   s, 0, y),\n",
    "                          y, 0, z),\n",
    "                 z, 0, 1)*2\n",
    "pxsyz"
   ]
  },
  {
   "cell_type": "markdown",
   "id": "2fff087a-009a-44e7-a71f-e89bb4cf33f2",
   "metadata": {},
   "source": [
    "#### When $x < s < z < y$\n",
    "I sprint and win when $y < 1/2$, and lose otherwise."
   ]
  },
  {
   "cell_type": "code",
   "execution_count": 7,
   "id": "a9246447-ddec-4a79-b684-4c69b6617453",
   "metadata": {},
   "outputs": [
    {
     "data": {
      "text/plain": [
       "1/192"
      ]
     },
     "execution_count": 7,
     "metadata": {},
     "output_type": "execute_result"
    }
   ],
   "source": [
    "pxszy = integral(integral(integral(integral(1, x, 0, s),\n",
    "                                   s, 0, z),\n",
    "                          z, 0, y),\n",
    "                 y, 0, 1/2)*2\n",
    "pxszy"
   ]
  },
  {
   "cell_type": "markdown",
   "id": "41e86b50-8790-4526-a661-456c35ffc5cf",
   "metadata": {},
   "source": [
    "#### When $z < x < y < s$\n",
    "My chances of winning is $1/3$ when $y < 1/2$, and zero otherwise."
   ]
  },
  {
   "cell_type": "code",
   "execution_count": 8,
   "id": "d39bb79c-e7f5-4ae5-979d-7071c0025af5",
   "metadata": {},
   "outputs": [
    {
     "data": {
      "text/plain": [
       "5/576"
      ]
     },
     "execution_count": 8,
     "metadata": {},
     "output_type": "execute_result"
    }
   ],
   "source": [
    "pzxys = integral(integral(integral(integral(1/3, z, 0, x),\n",
    "                                   x, 0, y),\n",
    "                          y, 0, min_symbolic(s,1/2)),\n",
    "                 s, 0, 1)*2\n",
    "pzxys"
   ]
  },
  {
   "cell_type": "markdown",
   "id": "5e05a29a-d3d8-4ba0-93a1-415cfc24dddc",
   "metadata": {},
   "source": [
    "#### When $z < x < s < y$\n",
    "My chances of winning is $1/3$ when $y < 1/2$, and zero otherwise."
   ]
  },
  {
   "cell_type": "code",
   "execution_count": 9,
   "id": "63a78abb-5988-47f1-8a28-5c334baa3068",
   "metadata": {},
   "outputs": [
    {
     "data": {
      "text/plain": [
       "1/576"
      ]
     },
     "execution_count": 9,
     "metadata": {},
     "output_type": "execute_result"
    }
   ],
   "source": [
    "pzxsy = integral(integral(integral(integral(1/3, z, 0, x),\n",
    "                                   x, 0, s),\n",
    "                          s, 0, y),\n",
    "                 y, 0, 1/2)*2\n",
    "pzxsy"
   ]
  },
  {
   "cell_type": "markdown",
   "id": "65db5fcc-cd37-48b9-bb50-455edeb6b0b3",
   "metadata": {},
   "source": [
    "#### When $z < s < x < y$\n",
    "My chances of winning is $1/3$ when $y < 1/2$, and zero otherwise."
   ]
  },
  {
   "cell_type": "code",
   "execution_count": 10,
   "id": "529195ac-5c1a-4d0e-a808-d42b79daf93d",
   "metadata": {},
   "outputs": [
    {
     "data": {
      "text/plain": [
       "1/576"
      ]
     },
     "execution_count": 10,
     "metadata": {},
     "output_type": "execute_result"
    }
   ],
   "source": [
    "pzsxy = integral(integral(integral(integral(1/3, z, 0, s),\n",
    "                                   s, 0, x),\n",
    "                          x, 0, y),\n",
    "                 y, 0, 1/2)*2\n",
    "pzsxy"
   ]
  },
  {
   "cell_type": "markdown",
   "id": "51dd7468-48e6-45bc-9b23-8b174727a655",
   "metadata": {},
   "source": [
    "#### When $s < x < y < z$\n",
    "I always sprint and win."
   ]
  },
  {
   "cell_type": "code",
   "execution_count": 11,
   "id": "397a93a7-dafa-4283-904f-66df13cbf4bf",
   "metadata": {},
   "outputs": [
    {
     "data": {
      "text/plain": [
       "1/12"
      ]
     },
     "execution_count": 11,
     "metadata": {},
     "output_type": "execute_result"
    }
   ],
   "source": [
    "psxyz = integral(integral(integral(integral(1, s, 0, x),\n",
    "                                   x, 0, y),\n",
    "                          y, 0, z),\n",
    "                 z, 0, 1)*2\n",
    "psxyz"
   ]
  },
  {
   "cell_type": "markdown",
   "id": "5d5e8473-b80b-41ed-80b5-06c3f4a3112d",
   "metadata": {},
   "source": [
    "#### When $s < x < z < y$\n",
    "I always sprint and win when $y < 1/2$, and lose otherwise."
   ]
  },
  {
   "cell_type": "code",
   "execution_count": 12,
   "id": "d31124ef-af4c-4dfe-a8d0-d9b4fd2dfb27",
   "metadata": {},
   "outputs": [
    {
     "data": {
      "text/plain": [
       "1/192"
      ]
     },
     "execution_count": 12,
     "metadata": {},
     "output_type": "execute_result"
    }
   ],
   "source": [
    "psxzy = integral(integral(integral(integral(1, s, 0, x),\n",
    "                                   x, 0, z),\n",
    "                          z, 0, y),\n",
    "                 y, 0, 1/2)*2\n",
    "psxzy"
   ]
  },
  {
   "cell_type": "markdown",
   "id": "8be6b7f0-fea8-4219-8736-de8aa747ff9e",
   "metadata": {},
   "source": [
    "#### When $s < z < x < y$\n",
    "I always sprint and win when $y < 1/2$, and lose otherwise."
   ]
  },
  {
   "cell_type": "code",
   "execution_count": 13,
   "id": "be404fe2-2277-4712-ace0-6cf0ac433188",
   "metadata": {},
   "outputs": [
    {
     "data": {
      "text/plain": [
       "1/192"
      ]
     },
     "execution_count": 13,
     "metadata": {},
     "output_type": "execute_result"
    }
   ],
   "source": [
    "pszxy = integral(integral(integral(integral(1, s, 0, z),\n",
    "                                   z, 0, x),\n",
    "                          x, 0, y),\n",
    "                 y, 0, 1/2)*2\n",
    "pszxy"
   ]
  },
  {
   "cell_type": "markdown",
   "id": "5f0fd392-36d2-494b-8319-0b5336e2eed5",
   "metadata": {},
   "source": [
    "Adding up,"
   ]
  },
  {
   "cell_type": "code",
   "execution_count": 14,
   "id": "8aadfdf7-c414-48a4-a8d0-3fcd5775b579",
   "metadata": {},
   "outputs": [
    {
     "data": {
      "text/plain": [
       "(59/192, 0.307291666666667)"
      ]
     },
     "execution_count": 14,
     "metadata": {},
     "output_type": "execute_result"
    }
   ],
   "source": [
    "p = (pxyzs + pxysz + pxzys + pxzsy + pxsyz + pxszy\n",
    "     + pzxys + pzxsy + pzsxy\n",
    "     + psxyz + psxzy + pszxy)\n",
    "p,numerical_approx(p)"
   ]
  },
  {
   "cell_type": "markdown",
   "id": "748001c5-af3b-40d9-8c02-35d033c6c953",
   "metadata": {},
   "source": [
    "### Alternative calculation\n",
    "Since the slower opponent is somewhat irrelevant, we have $y$, $z$, and $s$, and there are\n",
    "just $3! = 6$ orderings, though not equally probable.  The probability that $y$ is the faster\n",
    "of the two opponents is $y$, so the normalized probability distribution is $2y$.\n",
    "\n",
    "Similarly, how $s$ is ordered is also somewhat irrelevant.  The probability that I sprint\n",
    "is 50% and my probability distribution is $2z$ when I sprint and $2(1-z)$ when I don't sprint.\n",
    "\n",
    "In the $1/2$ chance that I don't sprint, and in the $1/4$ chance that neither of my opponents\n",
    "sprint, I have a $1/3$ chance of winning.  So the overall probability that nobody sprints and\n",
    "I win is $1/24$.\n",
    "\n",
    "In the $1/2$ chance that I do sprint, and in the $1/4$ chance that neither of my opponents\n",
    "sprint, I win.  So the overall probability that I win as the only sprinter is $1/8$.\n",
    "\n",
    "For the case where I and at least one other opponent sprints, my probability of winning is\n",
    "\n",
    "$$ \\int_{1/2}^1 dy\\,2y\\int_y^1 dz\\,2z = \\int_{1/2}^1 dy\\,2y(1-y^2) = 1 - 1/2 - 1/4 + 1/32 = 9/32 $$\n",
    "\n",
    "So the overall probability that I win in a sprint is $9/64$.\n",
    "\n",
    "And the probability that I win is $1/24+1/8+9/64 = (8+24+27)/192 = 59/192$."
   ]
  },
  {
   "cell_type": "markdown",
   "id": "0bfc350a-4282-4723-bb14-23f9029f973a",
   "metadata": {},
   "source": [
    "### Simulations\n",
    "[Simulations](20250725.go) agree.\n",
    "\n",
    "    $ go run 20250725.go\n",
    "    2458998/8000000 0.307375\n",
    "    pxyzs=0.019086\n",
    "    pxysz=0.083245\n",
    "    pxzys=0.008643\n",
    "    pxzsy=0.001727\n",
    "    pxsyz=0.083553\n",
    "    pxszy=0.005219\n",
    "    pzxys=0.008668\n",
    "    pzxsy=0.001748\n",
    "    pzsxy=0.001727\n",
    "    psxyz=0.083348\n",
    "    psxzy=0.005185\n",
    "    pszxy=0.005225"
   ]
  },
  {
   "cell_type": "code",
   "execution_count": 15,
   "id": "7ed8dba5-b2f4-4c68-9606-184e8af2b909",
   "metadata": {},
   "outputs": [
    {
     "name": "stdout",
     "output_type": "stream",
     "text": [
      "pxyzs=11/576 0.0190972222222222\n",
      "pxysz=1/12 0.0833333333333333\n",
      "pxzys=5/576 0.00868055555555556\n",
      "pxzsy=1/576 0.00173611111111111\n",
      "pxsyz=1/12 0.0833333333333333\n",
      "pxszy=1/192 0.00520833333333333\n",
      "pzxys=5/576 0.00868055555555556\n",
      "pzxsy=1/576 0.00173611111111111\n",
      "pzsxy=1/576 0.00173611111111111\n",
      "psxyz=1/12 0.0833333333333333\n",
      "psxzy=1/192 0.00520833333333333\n",
      "pszxy=1/192 0.00520833333333333\n"
     ]
    }
   ],
   "source": [
    "print(f\"pxyzs={pxyzs} {numerical_approx(pxyzs)}\")\n",
    "print(f\"pxysz={pxysz} {numerical_approx(pxysz)}\")\n",
    "print(f\"pxzys={pxzys} {numerical_approx(pxzys)}\")\n",
    "print(f\"pxzsy={pxzsy} {numerical_approx(pxzsy)}\")\n",
    "print(f\"pxsyz={pxsyz} {numerical_approx(pxsyz)}\")\n",
    "print(f\"pxszy={pxszy} {numerical_approx(pxszy)}\")\n",
    "print(f\"pzxys={pzxys} {numerical_approx(pzxys)}\")\n",
    "print(f\"pzxsy={pzxsy} {numerical_approx(pzxsy)}\")\n",
    "print(f\"pzsxy={pzsxy} {numerical_approx(pzsxy)}\")\n",
    "print(f\"psxyz={psxyz} {numerical_approx(psxyz)}\")\n",
    "print(f\"psxzy={psxzy} {numerical_approx(psxzy)}\")\n",
    "print(f\"pszxy={pszxy} {numerical_approx(pszxy)}\")"
   ]
  },
  {
   "cell_type": "markdown",
   "id": "b67c57df-eb1a-4775-ba3d-43eac8381aef",
   "metadata": {},
   "source": [
    "Additional thoughts\n",
    "===================\n",
    "The slower opponent becomes relevant if we want to calculate my average finishing\n",
    "position.  I'll assume that if one rider sprints and the other two do not, the\n",
    "sprinter finishes first, and the other two have equal probabilities of finishing\n",
    "second.\n",
    "\n",
    "We already have the probability of finishing first, 59/192.\n",
    "\n",
    "Next, the probability of finishing second,"
   ]
  },
  {
   "cell_type": "code",
   "execution_count": 16,
   "id": "2fcfaf21-8b38-425a-9141-c61e7aaeac27",
   "metadata": {},
   "outputs": [
    {
     "data": {
      "text/plain": [
       "11/32"
      ]
     },
     "execution_count": 16,
     "metadata": {},
     "output_type": "execute_result"
    }
   ],
   "source": [
    "qxyzs = (integral(integral(integral(integral(1/3, x, 0, y),\n",
    "                                    y, 0, z),\n",
    "                           z, 0, s),\n",
    "                  s, 0, 1/2)\n",
    "         + integral(integral(integral(integral(1/3, x, 0, y),\n",
    "                                      y, 0, z),\n",
    "                             z, 0, 1/2)\n",
    "                    + integral(integral(integral(1/3, x, 0, y),\n",
    "                                        y, 0, 1/2)\n",
    "                               + integral(integral(1/2, x, 0, 1/2),\n",
    "                                          y, 1/2, z),\n",
    "                               z, 1/2, s),\n",
    "                    s, 1/2, 1))*2\n",
    "qxysz = 0\n",
    "qxzys = (integral(integral(integral(integral(1/3, x, 0, z),\n",
    "                                    z, 0, y),\n",
    "                           y, 0, s),\n",
    "                  s, 0, 1/2)\n",
    "         + integral(integral(integral(integral(1/3, x, 0, z),\n",
    "                                      z, 0, y),\n",
    "                             y, 0, 1/2)\n",
    "                    + integral(integral(integral(1/2, x, 0, z),\n",
    "                                        z, 0, 1/2)\n",
    "                               + integral(integral(1/2, x, 0, 1/2),\n",
    "                                          z, 1/2, y),\n",
    "                               y, 1/2, s),\n",
    "                    s, 1/2, 1))*2\n",
    "qxzsy = (integral(integral(integral(integral(1/3, x, 0, z),\n",
    "                                    z, 0, s),\n",
    "                           s, 0, y),\n",
    "                  y, 0, 1/2)\n",
    "         + integral(integral(integral(integral(1/2, x, 0, z),\n",
    "                                      z, 0, s),\n",
    "                             s, 0, 1/2)\n",
    "                    + integral(integral(integral(1/2, x, 0, z),\n",
    "                                        z, 0, 1/2)\n",
    "                               + integral(integral(1/2, x, 0, 1/2),\n",
    "                                          z, 1/2, s),\n",
    "                               s, 1/2, y),\n",
    "                    y, 1/2, 1))*2\n",
    "qxsyz = 0\n",
    "qxszy = integral(integral(integral(integral(1, x, 0, s),\n",
    "                                   s, 0, z),\n",
    "                          z, 0, y),\n",
    "                 y, 1/2, 1)*2\n",
    "qzxys = (integral(integral(integral(integral(1/3, z, 0, x),\n",
    "                                    x, 0, y),\n",
    "                           y, 0, s),\n",
    "                  s, 0, 1/2)\n",
    "         + integral(integral(integral(integral(1/3, z, 0, x),\n",
    "                                      x, 0, y),\n",
    "                             y, 0, 1/2)\n",
    "                    + integral(integral(integral(1/2, z, 0, x),\n",
    "                                        x, 0, 1/2),\n",
    "                               y, 1/2, s),\n",
    "                    s, 1/2, 1))*2\n",
    "qzxsy = (integral(integral(integral(integral(1/3, z, 0, x),\n",
    "                                    x, 0, s),\n",
    "                           s, 0, y),\n",
    "                  y, 0, 1/2)\n",
    "         + integral(integral(integral(integral(1/2, z, 0, x),\n",
    "                                      x, 0, s),\n",
    "                             s, 0, 1/2)\n",
    "                    + integral(integral(integral(1/2, z, 0, x),\n",
    "                                        x, 0, 1/2),\n",
    "                               s, 1/2, y),\n",
    "                    y, 1/2, 1))*2\n",
    "qzsxy = (integral(integral(integral(integral(1/3, z, 0, s),\n",
    "                                    s, 0, x),\n",
    "                           x, 0, y),\n",
    "                  y, 0, 1/2)\n",
    "         + integral(integral(integral(integral(1/2, z, 0, s),\n",
    "                                      s, 0, x),\n",
    "                             x, 0, 1/2),\n",
    "                    y, 1/2, 1))*2\n",
    "qsxyz = 0\n",
    "qsxzy = integral(integral(integral(integral(1, s, 0, x),\n",
    "                                   x, 0, z),\n",
    "                          z, 0, y),\n",
    "                 y, 1/2, 1)*2\n",
    "qszxy = integral(integral(integral(integral(1, s, 0, z),\n",
    "                                   z, 0, x),\n",
    "                          x, 0, 1/2),\n",
    "                 y, 1/2, 1)*2\n",
    "q = qxyzs+qxysz+qxzys+qxzsy+qxsyz+qxszy+qzxys+qzxsy+qzsxy+qsxyz+qsxzy+qszxy\n",
    "q"
   ]
  },
  {
   "cell_type": "markdown",
   "id": "0a9dc508-fb14-4e61-8bbb-fb8f9b5440fc",
   "metadata": {},
   "source": [
    "And the probability of finishing third,"
   ]
  },
  {
   "cell_type": "code",
   "execution_count": 17,
   "id": "34e464d6-d4eb-4dec-bd7f-7d93902bcfc2",
   "metadata": {},
   "outputs": [
    {
     "data": {
      "text/plain": [
       "(59/192, 11/32, 67/192, 1, 49/24, 2.04166666666667)"
      ]
     },
     "execution_count": 17,
     "metadata": {},
     "output_type": "execute_result"
    }
   ],
   "source": [
    "rxyzs = (integral(integral(integral(integral(1/3, x, 0, y),\n",
    "                                    y, 0, z),\n",
    "                           z, 0, s),\n",
    "                  s, 0, 1/2)\n",
    "         + integral(integral(integral(integral(1/3, x, 0, y),\n",
    "                                      y, 0, z),\n",
    "                             z, 0, 1/2)\n",
    "                    + integral(integral(integral(1/3, x, 0, y),\n",
    "                                        y, 0, 1/2)\n",
    "                               + integral(integral(1/2, x, 0, 1/2)\n",
    "                                          + integral(1, x, 1/2, y),\n",
    "                                          y, 1/2, z),\n",
    "                               z, 1/2, s),\n",
    "                    s, 1/2, 1))*2\n",
    "rxysz = 0\n",
    "rxzys = (integral(integral(integral(integral(1/3, x, 0, z),\n",
    "                                    z, 0, y),\n",
    "                           y, 0, s),\n",
    "                  s, 0, 1/2)\n",
    "         + integral(integral(integral(integral(1/3, x, 0, z),\n",
    "                                      z, 0, y),\n",
    "                             y, 0, 1/2)\n",
    "                    + integral(integral(integral(1/2, x, 0, z),\n",
    "                                        z, 0, 1/2)\n",
    "                               + integral(integral(1/2, x, 0, 1/2)\n",
    "                                          + integral(1, x, 1/2, z),\n",
    "                                          z, 1/2, y),\n",
    "                               y, 1/2, s),\n",
    "                    s, 1/2, 1))*2\n",
    "rxzsy = (integral(integral(integral(integral(1/3, x, 0, z),\n",
    "                                    z, 0, s),\n",
    "                           s, 0, y),\n",
    "                  y, 0, 1/2)\n",
    "         + integral(integral(integral(integral(1/2, x, 0, z),\n",
    "                                      z, 0, s),\n",
    "                             s, 0, 1/2)\n",
    "                    + integral(integral(integral(1/2, x, 0, z),\n",
    "                                        z, 0, 1/2)\n",
    "                               + integral(integral(1/2, x, 0, 1/2)\n",
    "                                          + integral(1, x, 1/2, z),\n",
    "                                          z, 1/2, s),\n",
    "                               s, 1/2, y),\n",
    "                    y, 1/2, 1))*2\n",
    "rxsyz = 0\n",
    "rxszy = 0\n",
    "rzxys = (integral(integral(integral(integral(1/3, z, 0, x),\n",
    "                                    x, 0, y),\n",
    "                           y, 0, s),\n",
    "                  s, 0, 1/2)\n",
    "         + integral(integral(integral(integral(1/3, z, 0, x),\n",
    "                                      x, 0, y),\n",
    "                             y, 0, 1/2)\n",
    "                    + integral(integral(integral(1/2, z, 0, x),\n",
    "                                        x, 0, 1/2)\n",
    "                               + integral(integral(1, z, 0, x),\n",
    "                                          x, 1/2, y),\n",
    "                               y, 1/2, s),\n",
    "                    s, 1/2, 1))*2\n",
    "rzxsy = (integral(integral(integral(integral(1/3, z, 0, x),\n",
    "                                    x, 0, s),\n",
    "                           s, 0, y),\n",
    "                  y, 0, 1/2)\n",
    "         + integral(integral(integral(integral(1/2, z, 0, x),\n",
    "                                      x, 0, s),\n",
    "                             s, 0, 1/2)\n",
    "                    + integral(integral(integral(1/2, z, 0, x),\n",
    "                                        x, 0, 1/2)\n",
    "                               + integral(integral(1, z, 0, x),\n",
    "                                          x, 1/2, s),\n",
    "                               s, 1/2, y),\n",
    "                    y, 1/2, 1))*2\n",
    "rzsxy = (integral(integral(integral(integral(1/3, z, 0, s),\n",
    "                                    s, 0, x),\n",
    "                           x, 0, y),\n",
    "                  y, 0, 1/2)\n",
    "         + integral(integral(integral(integral(1/2, z, 0, s),\n",
    "                                      s, 0, x),\n",
    "                             x, 0, 1/2)\n",
    "                    + integral(integral(integral(1, z, 0, s),\n",
    "                                        s, 0, x),\n",
    "                               x, 1/2, y),\n",
    "                    y, 1/2, 1))*2\n",
    "rsxyz = 0\n",
    "rsxzy = 0\n",
    "rszxy = integral(integral(integral(integral(1, s, 0, z),\n",
    "                                   z, 0, x),\n",
    "                          x, 1/2, y),\n",
    "                 y, 1/2, 1)*2\n",
    "r = rxyzs+rxysz+rxzys+rxzsy+rxsyz+rxszy+rzxys+rzxsy+rzsxy+rsxyz+rsxzy+rszxy\n",
    "p,q,r, p+q+r, p+2*q+3*r, numerical_approx(p+2*q+3*r)"
   ]
  },
  {
   "cell_type": "markdown",
   "id": "bb15bd84-16fc-4108-a5bd-0ed7219fe130",
   "metadata": {},
   "source": [
    "And my finishing position on average is $49/24 \\approx 2.04167$."
   ]
  }
 ],
 "metadata": {
  "kernelspec": {
   "display_name": "SageMath 10.3",
   "language": "sage",
   "name": "sagemath-10.3"
  },
  "language_info": {
   "codemirror_mode": {
    "name": "ipython",
    "version": 3
   },
   "file_extension": ".py",
   "mimetype": "text/x-python",
   "name": "python",
   "nbconvert_exporter": "python",
   "pygments_lexer": "ipython3",
   "version": "3.11.8"
  }
 },
 "nbformat": 4,
 "nbformat_minor": 5
}
