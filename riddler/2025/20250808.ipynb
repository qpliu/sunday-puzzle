{
 "cells": [
  {
   "cell_type": "markdown",
   "id": "269df6c7-6d64-43cd-9a0b-30ee16f2f872",
   "metadata": {},
   "source": [
    "[2025-08-08 Fiddler](https://thefiddler.substack.com/p/can-you-canoodle-at-the-coldplay)\n",
    "===================="
   ]
  },
  {
   "cell_type": "markdown",
   "id": "6b33a179-fca4-4dd4-b45b-0e059dc9e3c1",
   "metadata": {},
   "source": [
    "Fiddler\n",
    "-------\n",
    "The chance of getting caught at a single concert is 0.5%, so the chance of not getting\n",
    "caught in $n$ concerts is $0.995^n$.  So if $0.995^n = 0.5$, $n = \\log 0.5/\\log 0.995$,"
   ]
  },
  {
   "cell_type": "code",
   "execution_count": 1,
   "id": "a10dde53-936e-4090-8881-d591d15e52c7",
   "metadata": {},
   "outputs": [
    {
     "data": {
      "text/plain": [
       "138.282572986061"
      ]
     },
     "execution_count": 1,
     "metadata": {},
     "output_type": "execute_result"
    }
   ],
   "source": [
    "log(0.5)/log(0.995)"
   ]
  },
  {
   "cell_type": "markdown",
   "id": "3ad18f5e-9401-4b60-8946-95c0f3e5d78d",
   "metadata": {},
   "source": [
    "So we can go to 138 concerts with less than even chances of getting caught."
   ]
  },
  {
   "cell_type": "markdown",
   "id": "25871c6e-ebfb-42ec-940e-d6fc7ee64a20",
   "metadata": {},
   "source": [
    "Extra credit\n",
    "------------"
   ]
  },
  {
   "cell_type": "markdown",
   "id": "15f50322-d310-4675-88f2-fed3bcb1c948",
   "metadata": {},
   "source": [
    "The probability distribution of individuals as a function of the fraction is\n",
    "$p_I(f) = 1$ when $0 \\le f \\le 1$.\n",
    "\n",
    "The probability that an individual with a fraction $x$ is in a couple with\n",
    "fraction of at least $c$ is $1-c/x$ when $x > c$ and $0$ when $x \\le c$.  (More\n",
    "generally, $H(x-c)\\int_{c/x}^1 dy\\,p_I(y)$.)\n",
    "\n",
    "Integrating over $x$, the probability that a couple's fraction is at least $c$\n",
    "is $\\int_c^1 dx\\,(1-c/x) = 1 - c + c\\log c$.  (In general,\n",
    "$\\int_0^1 p_I(x)H(x-c)\\int_{c/x}^1 dy\\,p_I(y)$.)\n",
    "\n",
    "The probability distribution of couples is proportional to the derivative of the\n",
    "probability that a couple's fraction is less than $c$, $d/dc(c-c\\log c) = -\\log c$.\n",
    "\n",
    "The probability distribution of couples canoodling at any instant in time is\n",
    "proportional to $-c\\log c$, which has a maximum at $-\\log C - 1 = 0$, or $C = 1/e$.\n",
    "\n",
    "So, at any instant in time, there should be more couples on average with fraction\n",
    "$1/e$ than any other fraction."
   ]
  },
  {
   "cell_type": "markdown",
   "id": "6a43044d-7269-41b9-a438-031b69e79ed4",
   "metadata": {},
   "source": [
    "Simulations\n",
    "-----------\n",
    "Simulations show that the largest number of couples have a fraction somewhere around 0.35-0.37,\n",
    "which agrees with $1/e \\approx 0.3679$.\n",
    "\n",
    "    $ go run 20250808.go\n",
    "    0.000000: 4035\n",
    "    0.010000: 10230\n",
    "    0.020000: 14620\n",
    "    0.030000: 18831\n",
    "    0.040000: 22306\n",
    "    0.050000: 25438\n",
    "    0.060000: 28177\n",
    "    0.070000: 30913\n",
    "    0.080000: 33379\n",
    "    0.090000: 35657\n",
    "    0.100000: 37613\n",
    "    0.110000: 39586\n",
    "    0.120000: 41413\n",
    "    0.130000: 43173\n",
    "    0.140000: 44486\n",
    "    0.150000: 46255\n",
    "    0.160000: 47121\n",
    "    0.170000: 48764\n",
    "    0.180000: 49809\n",
    "    0.190000: 51005\n",
    "    0.200000: 52182\n",
    "    0.210000: 52667\n",
    "    0.220000: 53471\n",
    "    0.230000: 54768\n",
    "    0.240000: 55040\n",
    "    0.250000: 55835\n",
    "    0.260000: 56340\n",
    "    0.270000: 56308\n",
    "    0.280000: 57371\n",
    "    0.290000: 57515\n",
    "    0.300000: 57884\n",
    "    0.310000: 58191\n",
    "    0.320000: 58240\n",
    "    0.330000: 58736\n",
    "    0.340000: 58702\n",
    "    0.350000: 58799\n",
    "    0.360000: 58493\n",
    "    0.370000: 58774\n",
    "    0.380000: 58506\n",
    "    0.390000: 58376\n",
    "    0.400000: 58059\n",
    "    0.410000: 58274\n",
    "    0.420000: 58052\n",
    "    0.430000: 57921\n",
    "    0.440000: 57840\n",
    "    0.450000: 57461\n",
    "    0.460000: 57013\n",
    "    0.470000: 56575\n",
    "    0.480000: 55665\n",
    "    0.490000: 55882\n",
    "    0.500000: 55538\n",
    "    0.510000: 55026\n",
    "    0.520000: 53821\n",
    "    0.530000: 53723\n",
    "    0.540000: 52695\n",
    "    0.550000: 52169\n",
    "    0.560000: 51523\n",
    "    0.570000: 51133\n",
    "    0.580000: 50260\n",
    "    0.590000: 49224\n",
    "    0.600000: 48902\n",
    "    0.610000: 48021\n",
    "    0.620000: 47206\n",
    "    0.630000: 46252\n",
    "    0.640000: 45868\n",
    "    0.650000: 44518\n",
    "    0.660000: 43142\n",
    "    0.670000: 42368\n",
    "    0.680000: 41695\n",
    "    0.690000: 40259\n",
    "    0.700000: 39437\n",
    "    0.710000: 38386\n",
    "    0.720000: 37169\n",
    "    0.730000: 36627\n",
    "    0.740000: 35142\n",
    "    0.750000: 33754\n",
    "    0.760000: 32861\n",
    "    0.770000: 31404\n",
    "    0.780000: 30394\n",
    "    0.790000: 29235\n",
    "    0.800000: 28112\n",
    "    0.810000: 26808\n",
    "    0.820000: 25882\n",
    "    0.830000: 24101\n",
    "    0.840000: 22815\n",
    "    0.850000: 21383\n",
    "    0.860000: 19781\n",
    "    0.870000: 18688\n",
    "    0.880000: 17353\n",
    "    0.890000: 15932\n",
    "    0.900000: 14360\n",
    "    0.910000: 13108\n",
    "    0.920000: 11718\n",
    "    0.930000: 9899\n",
    "    0.940000: 8527\n",
    "    0.950000: 7084\n",
    "    0.960000: 5437\n",
    "    0.970000: 4001\n",
    "    0.980000: 2271\n",
    "    0.990000: 834\n"
   ]
  },
  {
   "cell_type": "markdown",
   "id": "66737114-2163-4214-806b-7b4c0a215ecd",
   "metadata": {},
   "source": [
    "Making the $\\lfloor$rounds$\\rceil$\n",
    "----------------------------------\n",
    "For 2,\n",
    "\n",
    "    AB\n",
    "    BA\n",
    "\n",
    "For 3, it's not possible, since each ordered pair either does not appear or appears twice.\n",
    "\n",
    "    ABC   ABC\n",
    "    BCA   CAB\n",
    "    CAB   BCA\n",
    "\n",
    "For 4, 3 different ones can be made.\n",
    "\n",
    "    ABCD    ABCD    ABCD\n",
    "    BDAC    CADB    DCBA\n",
    "    CADB    DCBA    BDAC\n",
    "    DCBA    BDAC    CADB"
   ]
  }
 ],
 "metadata": {
  "kernelspec": {
   "display_name": "SageMath 10.3",
   "language": "sage",
   "name": "sagemath-10.3"
  },
  "language_info": {
   "codemirror_mode": {
    "name": "ipython",
    "version": 3
   },
   "file_extension": ".py",
   "mimetype": "text/x-python",
   "name": "python",
   "nbconvert_exporter": "python",
   "pygments_lexer": "ipython3",
   "version": "3.11.8"
  }
 },
 "nbformat": 4,
 "nbformat_minor": 5
}
