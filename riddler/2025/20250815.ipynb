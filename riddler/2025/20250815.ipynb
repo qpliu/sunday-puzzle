{
 "cells": [
  {
   "cell_type": "markdown",
   "id": "fb213641-aa7e-48c3-99bb-7a0fdf5e782c",
   "metadata": {},
   "source": [
    "[2025-08-15 Fiddler](https://thefiddler.substack.com/p/how-much-free-money-can-you-win)\n",
    "===================="
   ]
  },
  {
   "cell_type": "markdown",
   "id": "7dd0d861-8b9c-4451-800f-b5563f943667",
   "metadata": {},
   "source": [
    "Fiddler\n",
    "-------\n",
    "One way to guarantee \\\\$35 in winnings is to bet \\\\$10 on each side, then\n",
    "bet \\\\$25 on one side and \\\\$20 on the other side.  The possible outcomes\n",
    "are\n",
    "* \\\\$35 in winnings with \\\\$25 in vouchers\n",
    "* \\\\$30 in winnings with \\\\$20 in vouchers\n",
    "\n",
    "In the first case, the only possible bet is \\\\$25 on one side, so there's a\n",
    "50% chance at \\\\$35 in winnings and a 50% chance at \\\\$60 in winnings.\n",
    "\n",
    "In the second case, betting \\\\$10 on each side, then betting the last \\\\$10\n",
    "voucher on one side gives a 50% chance at \\\\$40 in winnings and a 50% chance\n",
    "at \\\\$50 in winnings."
   ]
  },
  {
   "cell_type": "markdown",
   "id": "9d476dcf-c927-496c-9526-f0df04c01552",
   "metadata": {},
   "source": [
    "Extra credit\n",
    "------------\n",
    "A lower bound is \\\\$90, by betting everything on one side with a 50% chance of winning\n",
    "\\\\$55 and then taking the guaranteed \\\\$35.\n",
    "\n",
    "If you hedge first, you can't make as big an all or nothing bet later.\n",
    "\n",
    "If you hedge first, then do all or nothing bets on both branches of the second bet,\n",
    "the best you can do is a 50% chance at \\\\$55 by betting \\\\$10 on either side for the\n",
    "first bet.  Every other hedge results in a 75% chance of winning less than \\\\$55.\n",
    "\n",
    "I doubt that more hedging could do better than \\\\$90, but haven't been able to prove it.\n",
    "It's not obvious how to use brute force code, since there is the possibility of winning\n",
    "every bet when betting on only one side."
   ]
  },
  {
   "cell_type": "code",
   "execution_count": 1,
   "id": "0aaa2955-7a6b-41aa-851a-7c73930604c8",
   "metadata": {},
   "outputs": [],
   "source": [
    "def bets(vouchers):\n",
    "    if vouchers == 55:\n",
    "        return [(10,0),(20,0),(25,0),(30,0),\n",
    "                (35,0),(45,0),(55,0),(10,10),\n",
    "                (20,10),(25,10),(35,10),(45,10),\n",
    "                (25,20),(35,20),(30,25)]\n",
    "    elif vouchers == 45:\n",
    "        return [(10,0),(20,0),(25,0),(35,0),(45,0),\n",
    "                (10,10),(25,10),(35,10),(25,20)]\n",
    "    elif vouchers == 35:\n",
    "        return [(10,0),(25,0),(35,0),(10,25)]\n",
    "    elif vouchers == 30:\n",
    "        return [(10,0),(20,0),(30,0),(10,10),(20,10)]\n",
    "    elif vouchers == 25:\n",
    "        return [(25,0)]\n",
    "    elif vouchers == 20:\n",
    "        return [(10,0),(20,0),(10,10)]\n",
    "    elif vouchers == 10:\n",
    "        return [(10,0)]\n",
    "    else:\n",
    "        return []"
   ]
  },
  {
   "cell_type": "code",
   "execution_count": 2,
   "id": "7b2b4d2c-b9e5-4987-8d4d-a99c0c4d0105",
   "metadata": {},
   "outputs": [],
   "source": [
    "def guaranteed(winnings,vouchers,history):\n",
    "    if vouchers == 10 or vouchers == 25:\n",
    "        return (winnings,history)\n",
    "    new_winnings = winnings\n",
    "    new_history = history\n",
    "    for bet in bets(vouchers):\n",
    "        (bet1,bet2) = bet\n",
    "        if bet1 != 0 and bet2 != 0:\n",
    "            (g1,h1) = guaranteed(winnings+bet1,vouchers-bet2,history+[bet])\n",
    "            (g2,h2) = guaranteed(winnings+bet2,vouchers-bet1,history+[bet])\n",
    "            g = min(g1, g2)\n",
    "            if g > new_winnings:\n",
    "                new_winnings = g\n",
    "                new_history = h1\n",
    "    return (new_winnings,new_history)"
   ]
  },
  {
   "cell_type": "code",
   "execution_count": 3,
   "id": "446590f4-0aa2-435c-acc8-b2a4d29c361d",
   "metadata": {},
   "outputs": [
    {
     "data": {
      "text/plain": [
       "(35, [(10, 10), (25, 20)])"
      ]
     },
     "execution_count": 3,
     "metadata": {},
     "output_type": "execute_result"
    }
   ],
   "source": [
    "guaranteed(0,55,[])"
   ]
  },
  {
   "cell_type": "markdown",
   "id": "06420a99-ff6b-46b9-9be8-534ffb472ccf",
   "metadata": {},
   "source": [
    "My original reasoning that \\\\$30 was the minimum guaranteed winnings was\n",
    "wrong."
   ]
  },
  {
   "cell_type": "code",
   "execution_count": 4,
   "id": "231b3d4c-7253-4fe6-a9ad-e28c585af359",
   "metadata": {},
   "outputs": [],
   "source": [
    "def next_states(states):\n",
    "    result = []\n",
    "    for state in states:\n",
    "        (p,history,ahistory,winnings,vouchers) = state\n",
    "        betset = frozenset(bets(vouchers))\n",
    "        if len(betset) == 0:\n",
    "            result.append(state)\n",
    "        else:\n",
    "            for bet in betset:\n",
    "                (bet1,bet2) = bet\n",
    "                next_history = history | frozenset([(bet,winnings,vouchers)])\n",
    "                next_ahistory = ahistory\n",
    "                for b in betset:\n",
    "                    if b != bet:\n",
    "                        next_ahistory = next_ahistory | frozenset([(b,winnings,vouchers)])\n",
    "                if bet1 == bet2:\n",
    "                    result.append((p,next_history,next_ahistory,winnings+bet1,vouchers-bet2))\n",
    "                else:\n",
    "                    result.append((p/2,next_history,next_ahistory,winnings+bet1,vouchers-bet2))\n",
    "                    result.append((p/2,next_history,next_ahistory,winnings+bet2,vouchers-bet1))\n",
    "    return result"
   ]
  },
  {
   "cell_type": "code",
   "execution_count": 5,
   "id": "d4a0392e-7cdc-47f3-affe-db4abd836fe4",
   "metadata": {},
   "outputs": [
    {
     "data": {
      "text/plain": [
       "34739"
      ]
     },
     "execution_count": 5,
     "metadata": {},
     "output_type": "execute_result"
    }
   ],
   "source": [
    "len(next_states(next_states(next_states(next_states([(1,frozenset(),frozenset(),0,55)])))))"
   ]
  },
  {
   "cell_type": "markdown",
   "id": "a8c06622-6dbe-430a-abd9-7b8a388909f5",
   "metadata": {},
   "source": [
    "There are 34739 ways to make up to 4 bets, where making fewer bets\n",
    "is only due to losing all the vouchers."
   ]
  },
  {
   "cell_type": "markdown",
   "id": "90ba8b18-a724-4eb3-ae49-33c9d5990fb1",
   "metadata": {},
   "source": [
    "There are 15 possible first bets, so segregating the ways by first bet gives"
   ]
  },
  {
   "cell_type": "code",
   "execution_count": 6,
   "id": "ba3bd02c-77c0-43fa-a911-40611ab419b4",
   "metadata": {},
   "outputs": [
    {
     "data": {
      "text/plain": [
       "([4898,\n",
       "  4115,\n",
       "  4196,\n",
       "  4007,\n",
       "  4040,\n",
       "  4007,\n",
       "  4004,\n",
       "  895,\n",
       "  1007,\n",
       "  1088,\n",
       "  932,\n",
       "  899,\n",
       "  305,\n",
       "  149,\n",
       "  197],\n",
       " 34739)"
      ]
     },
     "execution_count": 6,
     "metadata": {},
     "output_type": "execute_result"
    }
   ],
   "source": [
    "results = []\n",
    "for bet in bets(55):\n",
    "    (bet1,bet2) = bet\n",
    "    if bet1 == bet2:\n",
    "        states = [(1,frozenset(),frozenset(),bet1,55-bet2)]\n",
    "    else:\n",
    "        states = [(1/2,frozenset(),frozenset(),bet1,55-bet2),\n",
    "                  (1/2,frozenset(),frozenset(),bet2,55-bet1)]\n",
    "    results.append(len(next_states(next_states(next_states(states)))))\n",
    "results, sum(results)"
   ]
  },
  {
   "cell_type": "markdown",
   "id": "fb9cb2d0-4ec5-4012-8a77-c1cdecf1b128",
   "metadata": {},
   "source": [
    "4898 is a lot more reasonable to brute force than 34739.  Since outcomes of different\n",
    "first bets can never be combined, while outcomes of different second or later bets could\n",
    "be combined if they come from different outcomes of the first bet or another earlier\n",
    "bet."
   ]
  },
  {
   "cell_type": "code",
   "execution_count": 7,
   "id": "f4d976fb-3941-4568-893e-12a0aab767d0",
   "metadata": {},
   "outputs": [],
   "source": [
    "def best_combination(states, historys, ahistorys, first_index, p_threshold, min_winnings):\n",
    "    for i in [first_index..len(states)-1]:\n",
    "        (p,history,ahistory,winnings,vouchers) = states[i]\n",
    "        if len(historys & ahistory) > 0 or len(ahistorys & history) > 0:\n",
    "            continue\n",
    "        alternative = best_combination(states, historys, ahistorys, i+1, p_threshold, min_winnings)\n",
    "        if min_winnings == None or min_winnings > winnings:\n",
    "            min_winnings = winnings\n",
    "        if p < p_threshold:\n",
    "            min_winnings = best_combination(states, history|historys, ahistory|ahistorys,\n",
    "                                            i+1, p_threshold-p, min_winnings)\n",
    "        if alternative != None and alternative > min_winnings:\n",
    "            return alternative\n",
    "        else:\n",
    "            return min_winnings\n",
    "    return None"
   ]
  },
  {
   "cell_type": "code",
   "execution_count": 8,
   "id": "014782c0-9492-4e66-b07d-ee9afbc4311c",
   "metadata": {},
   "outputs": [
    {
     "data": {
      "text/plain": [
       "60"
      ]
     },
     "execution_count": 8,
     "metadata": {},
     "output_type": "execute_result"
    }
   ],
   "source": [
    "best_combination(next_states(next_states(next_states([(1/2,frozenset(),frozenset(),30,30),\n",
    "                                                      (1/2,frozenset(),frozenset(),25,25)]))),\n",
    "                 frozenset(),frozenset(), 0, 1/2, None)"
   ]
  },
  {
   "cell_type": "markdown",
   "id": "779870cb-f35d-45e7-b9f6-4e30d20bf77d",
   "metadata": {},
   "source": [
    "This calculation of combinations of 197 outcomes took about 5 seconds on my computer."
   ]
  },
  {
   "cell_type": "code",
   "execution_count": 9,
   "id": "ed50ea45-a45b-46f0-a627-9f3f6be68a53",
   "metadata": {},
   "outputs": [
    {
     "data": {
      "text/plain": [
       "55"
      ]
     },
     "execution_count": 9,
     "metadata": {},
     "output_type": "execute_result"
    }
   ],
   "source": [
    "best_combination(next_states(next_states(next_states([(1/2,frozenset(),frozenset(),35,35),\n",
    "                                                      (1/2,frozenset(),frozenset(),20,20)]))),\n",
    "                 frozenset(),frozenset(), 0, 1/2, None)"
   ]
  },
  {
   "cell_type": "markdown",
   "id": "64e8c3dc-ccf8-4036-a49a-f004acd7034c",
   "metadata": {},
   "source": [
    "And this calculation of combinations of just 149 outcomes took close to 30\n",
    "seconds on my computer, so a brute force calculation of 4898 seems unreasonable."
   ]
  },
  {
   "cell_type": "markdown",
   "id": "d7d361df-4ced-4367-a8d9-3078933e8958",
   "metadata": {},
   "source": [
    "### More thoughts\n",
    "Consider a simplified scenario with 2 vouchers for $a$ and $b$ where\n",
    "$a \\le b$.  There are 4 possible first bets.\n",
    "\n",
    "Consider the simplest case, betting $a+b$ on one side.  There is a 50%\n",
    "chance of winning nothing, so $W$ is $a+b$ plus whatever the guaranteed\n",
    "winnings can be taken with the two vouchers, which is $a$, so $W$ is $2a+b$.\n",
    "\n",
    "The second simplest case, betting $a$ vs. $b$.  On one hand, there is a\n",
    "50% chance of winning at least $a$, 25% chance of winning at least $2a$.\n",
    "On the other hand, there is a 50% chance of winning at least $b$, 25% chance\n",
    "of winning at least $2b$.  If $2a < b$, then $W = b$, otherwise $W = 2a$.\n",
    "This is not as good at the first case.\n",
    "\n",
    "The other two cases are betting one of the vouchers and withholding the\n",
    "other for the first bet.  Consider betting $b$ first.  There is a 50%\n",
    "chance of losing the first bet, in which case, there is a 1/4 chance of\n",
    "winning at least $a$, which is irrelevant, since there is already a 50%\n",
    "chance of winning at least $b$.  So, in the end, taking the guaranteed\n",
    "additional $a$ after winning the first bet, $W = a+b$.\n",
    "\n",
    "In the last case, betting $a$ first, there is a 50% chance of losing,\n",
    "giving a 1/4 chance of winning at least $b$.  And, when winning, if $2a \\ge b$,\n",
    "then $W = 2a$, otherwise $W = b$ by combining the 1/4 chance of winning at\n",
    "least $b$ with a 1/4 chance of winning at least $a+W$.\n",
    "\n",
    "This supports the idea that the strategy should be to bet all the vouchers\n",
    "on one side for the first bet, then, if the first bet wins, going for the\n",
    "guaranteed winnings with subsequent bets.\n",
    "\n",
    "### Another approach\n",
    "Generalize $W$ to $W_{55}$, where $W_{55}$ is $W$ when starting with \\\\$55 in\n",
    "vouchers.\n",
    "\n",
    "There are also $W_{45}$, $W_{35}$, $W_{30}$, $W_{25} = 25$, $W_{20}$, $W_{10} = 10$, and\n",
    "$W_0 = 0$.\n",
    "\n",
    "Also, let $G_{55}$, $G_{45}$, etc be the guaranteed winnings when starting with\n",
    "\\\\$55, \\\\$45, etc in vouchers.\n",
    "\n",
    "$$\\begin{aligned}\n",
    "    G_{0} &= 0 \\\\\n",
    "    G_{10} &= 0 \\\\\n",
    "    G_{20} &= 10 \\\\\n",
    "    G_{25} &= 0 \\\\\n",
    "    G_{30} &= 20 \\\\\n",
    "    G_{35} &= 10 \\\\\n",
    "    G_{45} &= 20 \\\\\n",
    "    G_{55} &= 35 \\\\\n",
    "\\end{aligned}$$\n",
    "\n",
    "For $W_{20}$, $a = 10$, $b = 10$, so $W_{20} = 30$.\n",
    "\n",
    "For $W_{30}$, the possible first bets are 10-0, 20-0, 30-0, 10-10, and 20-10.\n",
    "* Betting 10-0:\n",
    "  * 1/4 chance of $W_{20} = 30$ or 1/2 chance of $G_{20} = 10$\n",
    "  * 1/4 chance of $10+W_{30}$ or 1/2 chance of $10+G_{30} = 30$\n",
    "  * $W_{30} \\ge 30$\n",
    "* Betting 20-0:\n",
    "  * 1/4 chance of $W_{10} = 10$ or 1/2 chance of $G_{10} = 0$\n",
    "  * 1/4 chance of $20+W_{30}$ or 1/2 chance of $20+G_{30} = 40$\n",
    "  * $W_{30} \\ge 40$\n",
    "* Betting 30-0:\n",
    "  * 1/2 chance of 0\n",
    "  * 1/2 chance of $30+G_{30} = 50$\n",
    "  * $W_{30} \\ge 50$\n",
    "* Betting 10-10:\n",
    "  * 1/2 chance at $10+W_{20} = 30$\n",
    "  * $W_{30} \\ge 30$\n",
    "* Betting 20-10:\n",
    "  * 1/4 chance at $10+W_{10} = 20$ or 1/2 chance at $10+G_{10} = 10$\n",
    "  * 1/4 chance at $20+W_{20} = 40$ or 1/2 chance at $20+G_{20} = 30$\n",
    "  * $W_{30} \\ge 30$\n",
    "* $W_{30} = 50$.\n",
    "\n",
    "For $W_{35}$, $a = 10$, $b = 25$, so $W_{35} = 45$.\n",
    "\n",
    "For $W_{45}$, the possible first bets are 10-0, 20-0, 25-0, 35-0, 45-0, 10-10,\n",
    "20-10, 25-10, 35-10, 25-20.\n",
    "* Betting 10-0:\n",
    "  * 1/4 chance of $W_{35} = 45$ or 1/2 chance of $G_{35} = 10$\n",
    "  * 1/4 chance of $10+W_{45}$ or 1/2 chance of $10+G_{45} = 30$\n",
    "  * $W_{45} \\ge 45$\n",
    "* Betting 20-0:\n",
    "  * 1/4 chance of $W_{25} = 25$ or 1/2 chance of $G_{25} = 0$\n",
    "  * 1/4 chance of $20+W_{45}$ or 1/2 chance of $20+G_{45} = 40$\n",
    "  * $W_{45} \\ge 40$\n",
    "* Betting 25-0:\n",
    "  * 1/4 chance of $W_{20} = 30$ or 1/2 chance of $G_{20} = 10$\n",
    "  * 1/4 chance of $25+W_{45}$ or 1/2 chance of $25+G_{45} = 45$\n",
    "  * $W_{45} \\ge 45$\n",
    "* Betting 35-0:\n",
    "  * 1/4 chance of $W_{10} = 10$ or 1/2 chance of $G_{10} = 0$\n",
    "  * 1/4 chance of $35+W_{45}$ or 1/2 chance of $35+G_{45} = 55$\n",
    "  * $W_{45} \\ge 55$\n",
    "* Betting 45-0:\n",
    "  * 1/2 chance of 0\n",
    "  * 1/2 chance of $45+G_{45} = 65$\n",
    "  * $W_{45} \\ge 65$\n",
    "* Betting 10-10:\n",
    "  * 1/2 chance of $10+W_{35} = 55$\n",
    "  * $W_{45} \\ge 55$\n",
    "* Betting 20-10:\n",
    "  * 1/4 chance of $10+W_{25} = 35$ or 1/2 chance of $10+G_{25} = 10$\n",
    "  * 1/4 chance of $20+W_{35} = 65$ or 1/2 chance of $20+G_{35} = 30$\n",
    "  * $W_{45} \\ge 35$\n",
    "* Betting 25-10:\n",
    "  * 1/4 chance of $10+W_{20} = 40$ or 1/2 chance of $10+G_{20} = 20$\n",
    "  * 1/4 chance of $25+W_{35} = 70$ or 1/2 chance of $25+G_{35} = 35$\n",
    "  * $W_{45} \\ge 40$\n",
    "* Betting 35-10:\n",
    "  * 1/4 chance of $10+W_{10} = 20$ or 1/2 chance of $10+G_{10} = 10$\n",
    "  * 1/4 chance of $35+W_{35} = 80$ or 1/2 chance of $35+G_{35} = 45$\n",
    "  * $W_{45} \\ge 45$\n",
    "* Betting 25-20:\n",
    "  * 1/4 chance of $20+W_{20} = 50$ or 1/2 chance of $20+G_{20} = 30$\n",
    "  * 1/4 chance of $25+W_{25} = 50$ or 1/2 chance of $25+G_{25} = 25$\n",
    "  * $W_{45} \\ge 50$\n",
    "* $W_{45} = 65$.\n",
    "\n",
    "For $W_{55}$, the possible first bets are 10-0, 20-0, 25-0, 30-0, 35-0, 45-0, 55-0, 10-10,\n",
    "20-10, 25-10, 35-10, 45-10, 25-20, 35-20, 30-25.\n",
    "* Betting 10-0:\n",
    "  * 1/4 chance of $W_{45} = 65$ or 1/2 chance of $G_{45} = 20$\n",
    "  * 1/4 chance of $10+W_{55}$ or 1/2 chance of $10+G_{55} = 45$\n",
    "  * $W_{55} \\ge 65$\n",
    "* Betting 20-0:\n",
    "  * 1/4 chance of $W_{35} = 35$ or 1/2 chance of $G_{35} = 10$\n",
    "  * 1/4 chance of $20+W_{55}$ or 1/2 chance of $20+G_{55} = 55$\n",
    "  * $W_{55} \\ge 55$\n",
    "* Betting 25-0:\n",
    "  * 1/4 chance of $W_{30} = 50$ or 1/2 chance of $G_{30} = 20$\n",
    "  * 1/4 chance of $25+W_{55}$ or 1/2 chance of $25+G_{55} = 60$\n",
    "  * $W_{55} \\ge 50$\n",
    "* Betting 30-0:\n",
    "  * 1/4 chance of $W_{25} = 25$ or 1/2 chance of $G_{25} = 0$\n",
    "  * 1/4 chance of $30+W_{55}$ or 1/2 chance of $30+G_{55} = 65$\n",
    "  * $W_{55} \\ge 65$\n",
    "* Betting 35-0:\n",
    "  * 1/4 chance of $W_{20} = 30$ or 1/2 chance of $G_{20} = 10$\n",
    "  * 1/4 chance of $35+W_{55}$ or 1/2 chance of $35+G_{55} = 70$\n",
    "  * $W_{55} \\ge 70$\n",
    "* Betting 45-0:\n",
    "  * 1/4 chance of $W_{10} = 10$ or 1/2 chance of $G_{10} = 0$\n",
    "  * 1/4 chance of $45+W_{55}$ or 1/2 chance of $45+G_{55} = 80$\n",
    "  * $W_{55} \\ge 80$\n",
    "* Betting 55-0:\n",
    "  * 1/2 chance of 0\n",
    "  * 1/2 chance of $55+G_{55} = 90$\n",
    "  * $W_{55} \\ge 90$\n",
    "* Betting 10-10:\n",
    "  * 1/2 chance of $10+W_{45} = 75$\n",
    "  * $W_{55} \\ge 75$\n",
    "* Betting 20-10:\n",
    "  * 1/4 chance of $10+W_{35} = 45$ or 1/2 chance of $10+G_{35} = 20$\n",
    "  * 1/4 chance of $20+W_{45} = 85$ or 1/2 chance of $20+G_{45} = 40$\n",
    "  * $W_{55} \\ge 45$\n",
    "* Betting 25-10:\n",
    "  * 1/4 chance of $10+W_{30} = 60$ or 1/2 chance of $10+G_{30} = 30$\n",
    "  * 1/4 chance of $25+W_{45} = 90$ or 1/2 chance of $25+G_{45} = 45$\n",
    "  * $W_{55} \\ge 60$\n",
    "* Betting 35-10:\n",
    "  * 1/4 chance of $10+W_{20} = 40$ or 1/2 chance of $10+G_{20} = 20$\n",
    "  * 1/4 chance of $35+W_{45} = 100$ or 1/2 chance of $35+G_{45} = 55$\n",
    "  * $W_{55} \\ge 55$\n",
    "* Betting 45-10:\n",
    "  * 1/4 chance of $10+W_{10} = 20$ or 1/2 chance of $10+G_{10} = 10$\n",
    "  * 1/4 chance of $45+W_{45} = 110$ or 1/2 chance of $45+G_{35} = 65$\n",
    "  * $W_{55} \\ge 65$\n",
    "* Betting 25-20:\n",
    "  * 1/4 chance of $20+W_{30} = 70$ or 1/2 chance of $20+G_{30} = 40$\n",
    "  * 1/4 chance of $25+W_{35} = 60$ or 1/2 chance of $25+G_{35} = 35$\n",
    "  * $W_{55} \\ge 60$\n",
    "* Betting 35-20:\n",
    "  * 1/4 chance of $20+W_{20} = 50$ or 1/2 chance of $20+G_{20} = 30$\n",
    "  * 1/4 chance of $35+W_{35} = 70$ or 1/2 chance of $25+G_{35} = 45$\n",
    "  * $W_{55} \\ge 50$\n",
    "* Betting 30-25:\n",
    "  * 1/4 chance of $25+W_{25} = 50$ or 1/2 chance of $25+G_{25} = 25$\n",
    "  * 1/4 chance of $30+W_{30} = 80$ or 1/2 chance of $30+G_{30} = 50$\n",
    "  * $W_{55} \\ge 50$\n",
    "* $W_{55} = 90$."
   ]
  }
 ],
 "metadata": {
  "kernelspec": {
   "display_name": "SageMath 10.3",
   "language": "sage",
   "name": "sagemath-10.3"
  },
  "language_info": {
   "codemirror_mode": {
    "name": "ipython",
    "version": 3
   },
   "file_extension": ".py",
   "mimetype": "text/x-python",
   "name": "python",
   "nbconvert_exporter": "python",
   "pygments_lexer": "ipython3",
   "version": "3.11.8"
  }
 },
 "nbformat": 4,
 "nbformat_minor": 5
}
