{
 "cells": [
  {
   "cell_type": "markdown",
   "id": "462e06d4-80b0-4fa0-b92e-f9e9ea1ec19c",
   "metadata": {},
   "source": [
    "[2025-08-22 Fiddler](https://thefiddler.substack.com/p/how-far-can-you-run-before-sundown)\n",
    "===================="
   ]
  },
  {
   "cell_type": "markdown",
   "id": "a8e4fd39-cf10-4e99-a08f-cff7b75bd88f",
   "metadata": {},
   "source": [
    "Fiddler\n",
    "-------\n",
    "I will run 6.5 miles."
   ]
  },
  {
   "cell_type": "code",
   "execution_count": 1,
   "id": "4805a9d2-d43e-43d6-b18c-f9d208bf730f",
   "metadata": {},
   "outputs": [
    {
     "data": {
      "text/plain": [
       "(19933/4096, 4.86645507812500)"
      ]
     },
     "execution_count": 1,
     "metadata": {},
     "output_type": "execute_result"
    }
   ],
   "source": [
    "S10 = 1/4\n",
    "S15 = 1/4\n",
    "S20 = (1 + S10)/4\n",
    "S25 = (1 + S15)/4\n",
    "S30 = (1 + S20 + 3)/4\n",
    "S35 = (1 + S25 + 3 + 3+1/2)/4\n",
    "S45 = (1 + S35 + 3 + S15 + 3+1/2 + S10 + 4+1/2)/4\n",
    "S55 = (1 + S45 + 3 + S25 + 3+1/2 + S20 + 4+1/2 + S10)/4\n",
    "S65 = (1 + S55 + 3 + S35 + 3+1/2 + S30 + 4+1/2 + S20)/4\n",
    "S65, numerical_approx(S65)"
   ]
  },
  {
   "cell_type": "markdown",
   "id": "562947e2-f67f-49df-806b-618be3006405",
   "metadata": {},
   "source": [
    "And my average score will be approximately 4.866 miles."
   ]
  },
  {
   "cell_type": "markdown",
   "id": "d4a1aabc-72af-49c0-8973-af04a61e03b9",
   "metadata": {},
   "source": [
    "Extra credit\n",
    "------------"
   ]
  },
  {
   "cell_type": "code",
   "execution_count": 2,
   "id": "f888915f-279a-4199-8244-e55bd75d9644",
   "metadata": {},
   "outputs": [
    {
     "data": {
      "text/plain": [
       "(21921/4096, 5.35180664062500)"
      ]
     },
     "execution_count": 2,
     "metadata": {},
     "output_type": "execute_result"
    }
   ],
   "source": [
    "S10m = (max(1,S10) + 3*max(0,S10))/4\n",
    "S15m = (max(1,S15) + 3*max(0,S15))/4\n",
    "S20m = (max(1+S10m,S20) + 3*max(0,S20))/4\n",
    "S25m = (max(1+S15m,S25) + 3*max(0,S25))/4\n",
    "S30m = (max(1+S20m,S30) + max(3,S30) + 2*max(0,S30))/4\n",
    "S35m = (max(1+S25m,S35) + max(3,S35) + max(3+1/2,S35) + max(0,S35))/4\n",
    "S45m = (max(1+S35m,S45) + max(3+S15m,S45) + max(3+1/2+S10m,S45) + max(4+1/2,S45))/4\n",
    "S55m = (max(1+S45m,S55) + max(3+S25m,S55) + max(3+1/2+S20m,S55) + max(4+1/2+S10m,S55))/4\n",
    "S65m = (max(1+S55m,S65) + max(3+S35m,S65) + max(3+1/2+S30m,S65) + max(4+1/2+S20m,S65))/4\n",
    "S65m,numerical_approx(S65m)"
   ]
  },
  {
   "cell_type": "markdown",
   "id": "ba4b730b-85bb-4bcf-8a3c-d03b8e81a4f7",
   "metadata": {},
   "source": [
    "And my average score will be approximately 5.352 miles."
   ]
  },
  {
   "cell_type": "markdown",
   "id": "56b40424-fab1-47ef-b774-dbc9f0ebebf0",
   "metadata": {},
   "source": [
    "### When to use the mulligan"
   ]
  },
  {
   "cell_type": "code",
   "execution_count": 3,
   "id": "2cd9f619-ec1e-44ec-aaa3-aef29d50f7bc",
   "metadata": {},
   "outputs": [
    {
     "name": "stdout",
     "output_type": "stream",
     "text": [
      "1 (1, 0.250000000000000)\n",
      "1.5 (1, 0.250000000000000)\n",
      "2 (1.43750000000000, 0.312500000000000)\n",
      "2.5 (1.43750000000000, 0.312500000000000)\n",
      "3 (1.59375000000000, 3, 1.07812500000000)\n",
      "3.5 (1.59375000000000, 3, 3.50000000000000, 1.95312500000000)\n",
      "4.5 (3.60156250000000, 3.43750000000000, 3.93750000000000, 4.50000000000000, 3.61328125000000)\n",
      "5.5 (4.91601562500000, 3.59375000000000, 4.09375000000000, 4.93750000000000, 4.12207031250000)\n",
      "6.5 (5.52441406250000, 5.60156250000000, 5.18750000000000, 5.09375000000000, 4.86645507812500)\n"
     ]
    }
   ],
   "source": [
    "print(\"1\",(1,numerical_approx(S10)))\n",
    "print(\"1.5\",(1,numerical_approx(S15)))\n",
    "print(\"2\",(numerical_approx(1+S10m),numerical_approx(S20)))\n",
    "print(\"2.5\",(numerical_approx(1+S15m),numerical_approx(S25)))\n",
    "print(\"3\",(numerical_approx(1+S20m),3,numerical_approx(S30)))\n",
    "print(\"3.5\",(numerical_approx(1+S25m),3,3.5,numerical_approx(S35)))\n",
    "print(\"4.5\",(numerical_approx(1+S35m),numerical_approx(3+S15m),\n",
    "             numerical_approx(3.5+S10m),4.5,numerical_approx(S45)))\n",
    "print(\"5.5\",(numerical_approx(1+S45m),numerical_approx(3+S25m),\n",
    "             numerical_approx(3.5+S20m),numerical_approx(4.5+S10m),numerical_approx(S55)))\n",
    "print(\"6.5\",(numerical_approx(1+S55m),numerical_approx(3+S35m),\n",
    "             numerical_approx(3.5+S30m),numerical_approx(4.5+S20m),numerical_approx(S65)))"
   ]
  },
  {
   "cell_type": "markdown",
   "id": "84e5b75c-28e2-461b-b762-371f33eb7f36",
   "metadata": {},
   "source": [
    "The times to use the mulligan are when being assigned the 1 mile loop with\n",
    "35 or 45 minutes remaining, the 3 mile loop with less than 30 minutes\n",
    "remaining, or with 45 or 55 minutes remaining, the 3.5 mile loop with less\n",
    "than 35 minutes remaining or with 55 minutes remaining, and the 4.5 mile\n",
    "loop with less than 45 minutes remaining."
   ]
  },
  {
   "cell_type": "markdown",
   "id": "4a7d15bb-f617-4438-a4dc-02c9424c787a",
   "metadata": {},
   "source": [
    "Simulations\n",
    "-----------\n",
    "[Numerical simulations](20250822.go) agree:\n",
    "\n",
    "    $ go run 20250822.go\n",
    "    4.866670\n",
    "    5.351769"
   ]
  }
 ],
 "metadata": {
  "kernelspec": {
   "display_name": "SageMath 10.3",
   "language": "sage",
   "name": "sagemath-10.3"
  },
  "language_info": {
   "codemirror_mode": {
    "name": "ipython",
    "version": 3
   },
   "file_extension": ".py",
   "mimetype": "text/x-python",
   "name": "python",
   "nbconvert_exporter": "python",
   "pygments_lexer": "ipython3",
   "version": "3.11.8"
  }
 },
 "nbformat": 4,
 "nbformat_minor": 5
}
