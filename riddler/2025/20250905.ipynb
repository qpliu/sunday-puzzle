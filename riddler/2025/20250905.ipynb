{
 "cells": [
  {
   "cell_type": "markdown",
   "id": "ed541aaa-89f5-4804-b03e-3f0805f0794b",
   "metadata": {},
   "source": [
    "[2025-09-05 Fiddler](https://thefiddler.substack.com/p/how-low-or-high-can-you-go)\n",
    "--------------------"
   ]
  },
  {
   "cell_type": "markdown",
   "id": "545ab4b0-1c05-43bd-853c-932c6bd74b41",
   "metadata": {},
   "source": [
    "Fiddler\n",
    "-------\n",
    "Without loss of generality, assume $x_1 > 1/2$ and normalize with a factor of 2.\n",
    "\n",
    "1. The probability that $x_2 < 1/2$ is $1/2$.\n",
    "2. The probability that $1/2 < x_2 < x_1$ is $x_1-1/2$.\n",
    "3. The probability that $x_2 > x_1$ is $1-x_1$.\n",
    "\n",
    "The probability of winning a second point in the first case is $1-x_2$.\n",
    "\n",
    "The probability of winning a second point in the second case is $x_2$.\n",
    "\n",
    "The game is over in the third case.\n",
    "\n",
    "Integrating over $x_1$ and $x_2$,\n",
    "\n",
    "$$ p_2 = 2\\int_{1/2}^1 dx_1\\,\\left(\\int_0^{1/2} dx_2\\,(1-x_2) + \\int_{1/2}^{x_1} dx_2\\, x_2\\right) = 13/24 $$"
   ]
  },
  {
   "cell_type": "code",
   "execution_count": 1,
   "id": "dbabc714-c242-480b-9c1b-2f1f1018cabb",
   "metadata": {},
   "outputs": [
    {
     "data": {
      "text/plain": [
       "(13/24, 0.541666666666667)"
      ]
     },
     "execution_count": 1,
     "metadata": {},
     "output_type": "execute_result"
    }
   ],
   "source": [
    "x1,x2 = var('x1,x2')\n",
    "\n",
    "p2 = 2*integral(integral(1-x2, x2, 0, 1/2)\n",
    "                + integral(x2, x2, 1/2, x1),\n",
    "                x1, 1/2, 1)\n",
    "p2, numerical_approx(p2)"
   ]
  },
  {
   "cell_type": "markdown",
   "id": "f87c8835-b03e-4108-8f3e-605024341a95",
   "metadata": {},
   "source": [
    "[Numerical simulations](20250905.go) agree\n",
    "\n",
    "    $ go run 20250905.go\n",
    "    43326720/80000000=0.541584"
   ]
  }
 ],
 "metadata": {
  "kernelspec": {
   "display_name": "SageMath 10.3",
   "language": "sage",
   "name": "sagemath-10.3"
  },
  "language_info": {
   "codemirror_mode": {
    "name": "ipython",
    "version": 3
   },
   "file_extension": ".py",
   "mimetype": "text/x-python",
   "name": "python",
   "nbconvert_exporter": "python",
   "pygments_lexer": "ipython3",
   "version": "3.11.8"
  }
 },
 "nbformat": 4,
 "nbformat_minor": 5
}
