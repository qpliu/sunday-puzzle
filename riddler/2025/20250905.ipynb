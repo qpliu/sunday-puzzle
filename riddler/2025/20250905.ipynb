{
 "cells": [
  {
   "cell_type": "markdown",
   "id": "ed541aaa-89f5-4804-b03e-3f0805f0794b",
   "metadata": {},
   "source": [
    "[2025-09-05 Fiddler](https://thefiddler.substack.com/p/how-low-or-high-can-you-go)\n",
    "--------------------"
   ]
  },
  {
   "cell_type": "markdown",
   "id": "545ab4b0-1c05-43bd-853c-932c6bd74b41",
   "metadata": {},
   "source": [
    "Fiddler\n",
    "-------\n",
    "Without loss of generality, assume $x_1 > 1/2$ and normalize with a factor of 2.\n",
    "\n",
    "1. The probability that $x_2 < 1/2$ is $1/2$.\n",
    "2. The probability that $1/2 < x_2 < x_1$ is $x_1-1/2$.\n",
    "3. The probability that $x_2 > x_1$ is $1-x_1$.\n",
    "\n",
    "The probability of winning a second point in the first case is $1-x_2$.\n",
    "\n",
    "The probability of winning a second point in the second case is $x_2$.\n",
    "\n",
    "The game is over in the third case.\n",
    "\n",
    "Integrating over $x_1$ and $x_2$,\n",
    "\n",
    "$$ p_2 = 2\\int_{1/2}^1 dx_1\\,\\left(\\int_0^{1/2} dx_2\\,(1-x_2) + \\int_{1/2}^{x_1} dx_2\\, x_2\\right) = 13/24 $$"
   ]
  },
  {
   "cell_type": "code",
   "execution_count": 1,
   "id": "dbabc714-c242-480b-9c1b-2f1f1018cabb",
   "metadata": {},
   "outputs": [
    {
     "data": {
      "text/plain": [
       "(13/24, 0.541666666666667)"
      ]
     },
     "execution_count": 1,
     "metadata": {},
     "output_type": "execute_result"
    }
   ],
   "source": [
    "x1,x2 = var('x1,x2')\n",
    "\n",
    "p2 = 2*integral(integral(1-x2, x2, 0, 1/2)\n",
    "                + integral(x2, x2, 1/2, x1),\n",
    "                x1, 1/2, 1)\n",
    "p2, numerical_approx(p2)"
   ]
  },
  {
   "cell_type": "markdown",
   "id": "f87c8835-b03e-4108-8f3e-605024341a95",
   "metadata": {},
   "source": [
    "### Numerical simulations\n",
    "[Numerical simulations](20250905.go) agree\n",
    "\n",
    "    $ go run 20250905.go\n",
    "    43326720/80000000=0.541584"
   ]
  },
  {
   "cell_type": "markdown",
   "id": "6bea51cb-9ead-454c-b27a-d31ddd097bf8",
   "metadata": {},
   "source": [
    "Extra credit\n",
    "------------\n",
    "I'll assume my friend uses the same strategy of high when the previous number is\n",
    "less than 0.5 and low when the previous number is greater then 0.5.\n",
    "\n",
    "Let $z = |x - 0.5|$ be the difference between the current number and 0.5.\n",
    "\n",
    "The probability that my friend wins the next round is $0.5+z$.  The problem is\n",
    "then to determine $f(z)$, the probability distribution of $z$ after many successful\n",
    "rounds.  The probability that my friend wins the next round is then\n",
    "$p_\\infty = 1/2 + \\int_0^{1/2} dz\\, z\\,f(z)$.\n",
    "\n",
    "Intuitively, I'd expect $f(z)$ to be higher near $z = 0$ and lower near $z = 1/2$,\n",
    "since, given a current $z$, the probability density of the next $z$ less than the\n",
    "current $z$ is twice the probability density for the next $z$ greater than the\n",
    "current $z$.\n",
    "\n",
    "Given the current number with $z_0$, let $F(z_0, z)$ be the probability distribution\n",
    "of $z$ for the next number after a successful round.\n",
    "\n",
    "$$ F(z_0,z) = cH(z-z_0) + 2cH(z_0-z) $$\n",
    "\n",
    "Normalizing, $c(1/2-z_0) + 2cz_0 = 1$, $c = 2/(1 + 2z_0)$.\n",
    "\n",
    "Let $f_n(z)$ be the probability distribution going into the $n$-th round, where $f_1 = 2$.\n",
    "\n",
    "The probability of winning the $n$-th round is $p_n = 1/2 + \\int_0^{1/2} dz\\,z\\,f_n(z)$.\n",
    "\n",
    "The probability distribution going into the $n+1$-th round, is\n",
    "\n",
    "$$ f_{n+1}(z) = \\int_0^{1/2} dz_0\\,f_n(z_0)\\,F(z_0,z) =\n",
    "        \\int_0^z dz_0\\,\\frac{2f_n(z_0)}{1+2z_0}\n",
    "        + \\int_z^{1/2} dz_0\\,\\frac{4f_n(z_0)}{1+2z_0}\n",
    "$$"
   ]
  },
  {
   "cell_type": "code",
   "execution_count": 2,
   "id": "990eb05e-fcbc-4a51-9639-554fa74dbc0a",
   "metadata": {},
   "outputs": [],
   "source": [
    "def p(f):\n",
    "    x = var('x')\n",
    "    return 1/2 + integral(x*f(x), x, 0, 1/2)\n",
    "\n",
    "def fnext(f):\n",
    "    x,z = var('x,z')\n",
    "    assume(z > 0, z < 1/2)\n",
    "    fn(z) = integral(2*f(x)/(1+2*x),x,0,z) + integral(4*f(x)/(1+2*x),x,z,1/2)\n",
    "    return fn"
   ]
  },
  {
   "cell_type": "code",
   "execution_count": 3,
   "id": "c08147b1-e132-47e8-a9a9-d36efad221dd",
   "metadata": {},
   "outputs": [
    {
     "name": "stdout",
     "output_type": "stream",
     "text": [
      "p_1=0.750000000000000\n",
      "p_2=0.721573590279973\n",
      "p_3=0.721126555578637\n",
      "p_4=0.721339984110659\n",
      "p_5=0.721349833591397\n",
      "p_6=0.721347664656588\n",
      "p_7=0.721347496489324\n",
      "p_8=0.721347518142363\n",
      "p_9=0.721347520676102\n",
      "p_10=0.721347520477702\n",
      "p_11=0.721347520442498\n",
      "p_12=0.721347520444034\n",
      "p_13=0.721347520444495\n",
      "p_14=0.721347520444487\n",
      "p_15=0.721347520444481\n",
      "p_16=0.721347520444481\n",
      "p_17=0.721347520444481\n",
      "p_18=0.721347520444481\n",
      "p_19=0.721347520444481\n",
      "p_20=0.721347520444481\n"
     ]
    }
   ],
   "source": [
    "f1(z) = 2\n",
    "f = f1\n",
    "for i in range(20):\n",
    "    print(f\"p_{i+1}={numerical_approx(p(f))}\")\n",
    "    f = fnext(f)"
   ]
  },
  {
   "cell_type": "markdown",
   "id": "2d10e8ff-079d-4299-b932-d1537e93022a",
   "metadata": {},
   "source": [
    "Since it seems to converge to some steady-state,\n",
    "\n",
    "$$ f_\\infty = \\int_0^z dz_0\\,\\frac{2f_\\infty}{1+2z_0} + \\int_z^{1/2} dz_0\\,\\frac{4f_\\infty}{1+2z_0} $$\n",
    "\n",
    "$$ \\frac{df_\\infty}{dz} = \\frac{2f_\\infty}{1+2z} - \\frac{4f_\\infty}{1+2z} = - \\frac{2f_\\infty}{1+2z} $$\n",
    "\n",
    "and the solution, with the appropriate normalization constant, is\n",
    "\n",
    "$$ f_\\infty(z) = \\frac{2}{\\log2}\\frac{1}{1+2z} $$\n",
    "\n",
    "and the probability that my friend wins the next round is\n",
    "\n",
    "$$ p_\\infty = \\frac12 + \\frac{2}{\\log2}\\int_0^{1/2} \\frac{z\\,dz}{1+2z} = \\frac{1}{\\log4} \\approx 0.72134752 $$\n",
    "\n",
    "Of course, if my friend isn't following the strategy, which is possible, given that\n",
    "the _only_ information I have is that my friend has won many rounds, then I can't\n",
    "tell what the probability is."
   ]
  },
  {
   "cell_type": "code",
   "execution_count": 4,
   "id": "48548dd3-4106-4681-8a9c-9d52dd42b8a0",
   "metadata": {},
   "outputs": [
    {
     "data": {
      "text/plain": [
       "1"
      ]
     },
     "execution_count": 4,
     "metadata": {},
     "output_type": "execute_result"
    }
   ],
   "source": [
    "integral(2/log(2)/(1+2*x), x, 0, 1/2)"
   ]
  },
  {
   "cell_type": "code",
   "execution_count": 5,
   "id": "b8bf1f48-9a4d-4fc9-ae6a-644ac1a8c418",
   "metadata": {},
   "outputs": [
    {
     "data": {
      "text/plain": [
       "(1/2/log(2), 0.721347520444482)"
      ]
     },
     "execution_count": 5,
     "metadata": {},
     "output_type": "execute_result"
    }
   ],
   "source": [
    "p = 1/2 + integral(x*2/log(2)/(1+2*x), x, 0, 1/2)\n",
    "p.simplify_full(), numerical_approx(p)"
   ]
  },
  {
   "cell_type": "markdown",
   "id": "ede0ae46-8df2-4691-b896-af5c345f5119",
   "metadata": {},
   "source": [
    "### Numerical simulations\n",
    "[Numerical simulations](20250905.go) seem to agree.\n",
    "\n",
    "    $ go run 20250905.go ec\n",
    "    43326720/80000000=0.541584\n",
    "    0 80000000 2.693792 0.750073\n",
    "    1 60005879 2.591371 0.722223\n",
    "    2 43337627 2.588048 0.721132\n",
    "    3 31252151 2.588868 0.721362\n",
    "    4 22544123 2.588860 0.721359\n",
    "    5 16262411 2.588863 0.721176\n",
    "    6 11728060 2.589780 0.721445\n",
    "    7 8461156 2.589710 0.721419\n",
    "    8 6104037 2.589746 0.721446\n",
    "    9 4403731 2.589661 0.721555\n",
    "    10 3177535 2.589000 0.721242\n",
    "    11 2291773 2.589639 0.721175\n",
    "    12 1652769 2.590861 0.721432\n",
    "    13 1192360 2.591277 0.721176\n",
    "    14 859901 2.593129 0.721356\n",
    "    15 620295 2.594796 0.721592\n",
    "    16 447600 2.595932 0.722833\n",
    "    17 323540 2.591330 0.722758\n",
    "    18 233841 2.585338 0.722427\n",
    "    19 168933 2.578685 0.720238\n",
    "    20 121672 2.580323"
   ]
  }
 ],
 "metadata": {
  "kernelspec": {
   "display_name": "SageMath 10.3",
   "language": "sage",
   "name": "sagemath-10.3"
  },
  "language_info": {
   "codemirror_mode": {
    "name": "ipython",
    "version": 3
   },
   "file_extension": ".py",
   "mimetype": "text/x-python",
   "name": "python",
   "nbconvert_exporter": "python",
   "pygments_lexer": "ipython3",
   "version": "3.11.8"
  }
 },
 "nbformat": 4,
 "nbformat_minor": 5
}
