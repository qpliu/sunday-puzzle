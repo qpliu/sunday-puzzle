{
 "cells": [
  {
   "cell_type": "markdown",
   "id": "ed541aaa-89f5-4804-b03e-3f0805f0794b",
   "metadata": {},
   "source": [
    "[2025-09-05 Fiddler](https://thefiddler.substack.com/p/how-low-or-high-can-you-go)\n",
    "--------------------"
   ]
  },
  {
   "cell_type": "markdown",
   "id": "545ab4b0-1c05-43bd-853c-932c6bd74b41",
   "metadata": {},
   "source": [
    "Fiddler\n",
    "-------\n",
    "Without loss of generality, assume $x_1 > 1/2$ and normalize with a factor of 2.\n",
    "\n",
    "1. The probability that $x_2 < 1/2$ is $1/2$.\n",
    "2. The probability that $1/2 < x_2 < x_1$ is $x_1-1/2$.\n",
    "3. The probability that $x_2 > x_1$ is $1-x_1$.\n",
    "\n",
    "The probability of winning a second point in the first case is $1-x_2$.\n",
    "\n",
    "The probability of winning a second point in the second case is $x_2$.\n",
    "\n",
    "The game is over in the third case.\n",
    "\n",
    "Integrating over $x_1$ and $x_2$,\n",
    "\n",
    "$$ p_2 = 2\\int_{1/2}^1 dx_1\\,\\left(\\int_0^{1/2} dx_2\\,(1-x_2) + \\int_{1/2}^{x_1} dx_2\\, x_2\\right) = 13/24 $$"
   ]
  },
  {
   "cell_type": "code",
   "execution_count": 1,
   "id": "dbabc714-c242-480b-9c1b-2f1f1018cabb",
   "metadata": {},
   "outputs": [
    {
     "data": {
      "text/plain": [
       "(13/24, 0.541666666666667)"
      ]
     },
     "execution_count": 1,
     "metadata": {},
     "output_type": "execute_result"
    }
   ],
   "source": [
    "x1,x2 = var('x1,x2')\n",
    "\n",
    "p2 = 2*integral(integral(1-x2, x2, 0, 1/2)\n",
    "                + integral(x2, x2, 1/2, x1),\n",
    "                x1, 1/2, 1)\n",
    "p2, numerical_approx(p2)"
   ]
  },
  {
   "cell_type": "markdown",
   "id": "f87c8835-b03e-4108-8f3e-605024341a95",
   "metadata": {},
   "source": [
    "[Numerical simulations](20250905.go) agree\n",
    "\n",
    "    $ go run 20250905.go\n",
    "    43326720/80000000=0.541584"
   ]
  },
  {
   "cell_type": "markdown",
   "id": "6bea51cb-9ead-454c-b27a-d31ddd097bf8",
   "metadata": {},
   "source": [
    "Extra credit\n",
    "------------\n",
    "I'll assume my friend uses the same strategy of high when the previous number is\n",
    "less than 0.5 and low when the previous number is greater then 0.5.\n",
    "\n",
    "Let $z = |x - 0.5|$ be the difference between the current number and 0.5.\n",
    "\n",
    "The probability that my friend wins the next round is $0.5+z$.  The problem is\n",
    "then to determine $f(z)$, the probability distribution of $z$ after many successful\n",
    "rounds.  The probability that my friend wins the next round is then\n",
    "$p_\\infty = 1/2 + \\int_0^{1/2} dz\\, z\\,f(z)$.\n",
    "\n",
    "Intuitively, I'd expect $f(z)$ to be higher near $z = 0$ and lower near $z = 1/2$,\n",
    "since, given a current $z$, the probability density of the next $z$ less than the\n",
    "current $z$ is twice the probability density of the next $z$ greater than the\n",
    "current $z$.\n",
    "\n",
    "Given the current number with $z_0$, let $F(z_0, z)$ be the probability distribution\n",
    "the next number with $z$ after a successful round.\n",
    "\n",
    "$$ F(z_0,z) = cH(z-z_0) + 2cH(z_0-z) $$\n",
    "\n",
    "Normalizing, $cz_0 + 2c(1/2-z_0) = 1$, $c = 1/(1 - z_0)$.\n",
    "\n",
    "Assuming the probability distribution converges to a steady-state,\n",
    "\n",
    "$$ f(z) = \\int_0^{1/2} dz_0\\, f(z_0)\\, F(z_0, z)\n",
    "        = \\int_0^{1/2} dz_0\\, f(z_0)\\frac{H(z-z_0)+2H(z_0-z)}{1-z_0} $$\n",
    "\n",
    "$$ f(z) = \\int_0^z dz_0\\, \\frac{f(z_0)}{1-z_0} + \\int_z^{1/2} dz_0, \\frac{2f(z_0)}{1-z_0} $$\n",
    "\n",
    "$$ \\frac{df}{dz} = \\frac{f}{1-z} - \\frac{2f}{1-z} = \\frac{f}{z-1} $$\n",
    "\n",
    "So $f = 8(1-z)/3$, and $p_\\infty = 13/18$."
   ]
  },
  {
   "cell_type": "code",
   "execution_count": 2,
   "id": "5161e953-7960-43d6-a7cc-5924987e9fae",
   "metadata": {},
   "outputs": [
    {
     "data": {
      "text/plain": [
       "1"
      ]
     },
     "execution_count": 2,
     "metadata": {},
     "output_type": "execute_result"
    }
   ],
   "source": [
    "integral(8*(1-x)/3, x, 0, 1/2)"
   ]
  },
  {
   "cell_type": "code",
   "execution_count": 3,
   "id": "48dd65f9-3b8a-475c-a4f3-cee8e29cc1aa",
   "metadata": {},
   "outputs": [
    {
     "data": {
      "text/plain": [
       "13/18"
      ]
     },
     "execution_count": 3,
     "metadata": {},
     "output_type": "execute_result"
    }
   ],
   "source": [
    "1/2 + integral(x*8*(1-x)/3, x, 0, 1/2)"
   ]
  },
  {
   "cell_type": "markdown",
   "id": "e48ead61-6a35-4d7c-9646-12bd27f41665",
   "metadata": {},
   "source": [
    "For comparison, the probability of winning the first round is\n",
    "$p_1 = 1/2 + 2\\int_0^{1/2} dz\\,z = 3/4$, which is $1/36$ greater than\n",
    "$p_\\infty = 13/18$, my friend's probability, aligning with $f(z)$\n",
    "decreasing as $z$ increases.\n",
    "\n",
    "Given $p_\\infty = 13/18$, we can expect my friend to win $13/5 = 2.6$\n",
    "additional rounds on average."
   ]
  },
  {
   "cell_type": "code",
   "execution_count": 4,
   "id": "d0020417-4aa8-4386-83c3-fd8b829ff170",
   "metadata": {},
   "outputs": [
    {
     "data": {
      "text/plain": [
       "(13/5, 2.60000000000000, 0.722222222222222)"
      ]
     },
     "execution_count": 4,
     "metadata": {},
     "output_type": "execute_result"
    }
   ],
   "source": [
    "n = sum(x*(1-13/18)*(13/18)^x, x, 0, oo)\n",
    "n, numerical_approx(n), numerical_approx(13/18)"
   ]
  },
  {
   "cell_type": "markdown",
   "id": "ede0ae46-8df2-4691-b896-af5c345f5119",
   "metadata": {},
   "source": [
    "[Numerical simulations](20250905.go) seem to agree.\n",
    "\n",
    "    $ go run 20250905.go ec\n",
    "    43326720/80000000=0.541584\n",
    "    0 80000000 2.693792 0.750073\n",
    "    1 60005879 2.591371 0.722223\n",
    "    2 43337627 2.588048 0.721132\n",
    "    3 31252151 2.588868 0.721362\n",
    "    4 22544123 2.588860 0.721359\n",
    "    5 16262411 2.588863 0.721176\n",
    "    6 11728060 2.589780 0.721445\n",
    "    7 8461156 2.589710 0.721419\n",
    "    8 6104037 2.589746 0.721446\n",
    "    9 4403731 2.589661 0.721555\n",
    "    10 3177535 2.589000 0.721242\n",
    "    11 2291773 2.589639 0.721175\n",
    "    12 1652769 2.590861 0.721432\n",
    "    13 1192360 2.591277 0.721176\n",
    "    14 859901 2.593129 0.721356\n",
    "    15 620295 2.594796 0.721592\n",
    "    16 447600 2.595932 0.722833\n",
    "    17 323540 2.591330 0.722758\n",
    "    18 233841 2.585338 0.722427\n",
    "    19 168933 2.578685 0.720238\n",
    "    20 121672 2.580323"
   ]
  }
 ],
 "metadata": {
  "kernelspec": {
   "display_name": "SageMath 10.3",
   "language": "sage",
   "name": "sagemath-10.3"
  },
  "language_info": {
   "codemirror_mode": {
    "name": "ipython",
    "version": 3
   },
   "file_extension": ".py",
   "mimetype": "text/x-python",
   "name": "python",
   "nbconvert_exporter": "python",
   "pygments_lexer": "ipython3",
   "version": "3.11.8"
  }
 },
 "nbformat": 4,
 "nbformat_minor": 5
}
