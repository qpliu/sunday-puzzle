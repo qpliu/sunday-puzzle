{
 "cells": [
  {
   "cell_type": "markdown",
   "id": "f4021558-6974-4962-91ee-c63b103ef6a5",
   "metadata": {},
   "source": [
    "[2025-09-12 Fiddler](https://thefiddler.substack.com/p/can-you-box-the-letters)\n",
    "===================="
   ]
  },
  {
   "cell_type": "markdown",
   "id": "2257daa1-7258-4e16-873d-6637d5e123d0",
   "metadata": {},
   "source": [
    "Fiddler\n",
    "-------\n",
    "There are 8 first letters: call it A.\n",
    "\n",
    "There are 6 second letters: call it C.\n",
    "\n",
    "For the third letter, there is 1 case with B, 4 cases with E.\n",
    "\n",
    "Continuing in this vein and counting up gives 13824 distinct sequences:"
   ]
  },
  {
   "cell_type": "code",
   "execution_count": 1,
   "id": "a840a084-a4cd-4859-8fc1-1a9ce07449de",
   "metadata": {},
   "outputs": [
    {
     "data": {
      "text/plain": [
       "13824"
      ]
     },
     "execution_count": 1,
     "metadata": {},
     "output_type": "execute_result"
    }
   ],
   "source": [
    "a = 8 # a b c d e f g h\n",
    "\n",
    "ac = a*6 # c d e f g h\n",
    "\n",
    "acb = ac*1 # b\n",
    "ace = ac*4 # e f g h\n",
    "\n",
    "acbd = acb*1 # d\n",
    "acbe = acb*4 # e f g h\n",
    "aceb = ace*2 # b d\n",
    "aceg = ace*2 # g h\n",
    "\n",
    "acbde = acbd*4 # e f g h\n",
    "acbed = acbe*1 # d\n",
    "acbeg = acbe*2 # g h\n",
    "acebd = aceb*2 # d f\n",
    "acebg = aceb*2 # g h\n",
    "acegb = aceg*3 # b d f\n",
    "\n",
    "acbdeg = acbde*2 # g h\n",
    "acbedf = acbed*1 # f: dead end\n",
    "acbedg = acbed*2 # g h\n",
    "acbegd = acbeg*2 # d f\n",
    "acebdf = acebd*1 # f: dead end\n",
    "acebdg = acebd*2 # g h\n",
    "acebgd = acebg*2 # d f\n",
    "acegbd = acegb*3 # d f h\n",
    "\n",
    "acbdegfh = acbdeg*1 # f\n",
    "acbedgfh = acbedg*1 # f\n",
    "acbegdfh = acbegd*2 # f h\n",
    "acebdgfh = acebdg*1 # f\n",
    "acebgdfh = acebgd*2 # f h\n",
    "acegbdfh = acegbd*2 # f h\n",
    "\n",
    "acbdegfh+acbedgfh+acbegdfh+acebdgfh+acebgdfh+acegbdfh"
   ]
  },
  {
   "cell_type": "markdown",
   "id": "dee01eb1-4315-4e95-a167-8ebee0c69fe6",
   "metadata": {},
   "source": [
    "That number seems small enough to use brute force code to confirm."
   ]
  },
  {
   "cell_type": "code",
   "execution_count": 2,
   "id": "3c845e0a-9607-4b12-aa36-f2362387dafa",
   "metadata": {},
   "outputs": [],
   "source": [
    "def sequences(seq):\n",
    "    if len(seq) == 8:\n",
    "        yield seq\n",
    "        return\n",
    "    s = set(seq)\n",
    "    for i in [1..7]:\n",
    "        if i in s:\n",
    "            continue\n",
    "        if i//2 == seq[-1]//2:\n",
    "            continue\n",
    "        s1 = seq + [i]\n",
    "        for ss in sequences(s1):\n",
    "            yield ss"
   ]
  },
  {
   "cell_type": "code",
   "execution_count": 3,
   "id": "6b69ab47-64f5-4f84-8bd8-0249280b6e15",
   "metadata": {},
   "outputs": [
    {
     "data": {
      "text/plain": [
       "13824"
      ]
     },
     "execution_count": 3,
     "metadata": {},
     "output_type": "execute_result"
    }
   ],
   "source": [
    "8*len(list(sequences([0])))"
   ]
  },
  {
   "cell_type": "markdown",
   "id": "1942fa75-7ac0-4b4f-8818-66b77cf73641",
   "metadata": {},
   "source": [
    "Extra credit\n",
    "------------\n",
    "Brute force is not feasible, and manually counting as before is too\n",
    "error-prone.  But counting the number of sequences with code should\n",
    "be possible by keeping track of only the current side and the number\n",
    "of unused letters on each side."
   ]
  },
  {
   "cell_type": "code",
   "execution_count": 4,
   "id": "69ebf86e-f27e-4fcb-a521-fc6a46e3f049",
   "metadata": {},
   "outputs": [],
   "source": [
    "from functools import cache\n",
    "@cache\n",
    "def count(n1, n2, n3, n4):\n",
    "    if n1 == 0 and n2 == 0 and n3 == 0 and n4 == 0:\n",
    "        return 1\n",
    "    c = 0\n",
    "    if n2 > 0:\n",
    "        c += n2*count(n2-1, n1, n3, n4)\n",
    "    if n3 > 0:\n",
    "        c += n3*count(n3-1, n1, n2, n4)\n",
    "    if n4 > 0:\n",
    "        c += n4*count(n4-1, n1, n2, n3)\n",
    "    return c"
   ]
  },
  {
   "cell_type": "markdown",
   "id": "04ea9031-f0ac-4d6b-8a44-03b675c87454",
   "metadata": {},
   "source": [
    "This code confirms the Fiddler answer."
   ]
  },
  {
   "cell_type": "code",
   "execution_count": 5,
   "id": "dfc8822d-2337-4c05-953a-2a12a00bed85",
   "metadata": {},
   "outputs": [
    {
     "data": {
      "text/plain": [
       "13824"
      ]
     },
     "execution_count": 5,
     "metadata": {},
     "output_type": "execute_result"
    }
   ],
   "source": [
    "8*count(1, 2, 2, 2)"
   ]
  },
  {
   "cell_type": "markdown",
   "id": "9b741bc1-a567-4b92-b5af-eaee73470581",
   "metadata": {},
   "source": [
    "And the extra credit answer of 53529984 is indeed too big\n",
    "for brute forcing."
   ]
  },
  {
   "cell_type": "code",
   "execution_count": 6,
   "id": "0cd44b93-ade7-4ec0-9870-0c92055d1cfa",
   "metadata": {},
   "outputs": [
    {
     "data": {
      "text/plain": [
       "53529984"
      ]
     },
     "execution_count": 6,
     "metadata": {},
     "output_type": "execute_result"
    }
   ],
   "source": [
    "12*count(2, 3, 3, 3)"
   ]
  },
  {
   "cell_type": "markdown",
   "id": "bbae2f24-ce06-458f-98c8-64603e81fb33",
   "metadata": {},
   "source": [
    "The code could be further optimized by sorting the sides by\n",
    "the number of unused letters and by combining sides with the\n",
    "same number of unused letters, but it's plenty fast as is."
   ]
  },
  {
   "cell_type": "code",
   "execution_count": 7,
   "id": "b9a804a0-8458-491d-beff-3313690310fa",
   "metadata": {},
   "outputs": [
    {
     "name": "stdout",
     "output_type": "stream",
     "text": [
      "1: 24\n",
      "2: 13824\n",
      "3: 53529984\n",
      "4: 751480602624\n",
      "5: 27917203599360000\n",
      "6: 2267561150913576960000\n",
      "7: 354252505303682314076160000\n",
      "8: 97087054992658680467800719360000\n",
      "9: 43551509948777170973522371396239360000\n",
      "10: 30293653795894300342540281328749772800000000\n"
     ]
    }
   ],
   "source": [
    "for i in [1..10]:\n",
    "    print(f\"{i}: {4*i*count(i-1, i, i, i)}\")"
   ]
  },
  {
   "cell_type": "markdown",
   "id": "be351586-45ad-4633-ab79-82588d0ce42f",
   "metadata": {},
   "source": [
    "This looks like [A377586 at OEIS](https://oeis.org/A377586)."
   ]
  }
 ],
 "metadata": {
  "kernelspec": {
   "display_name": "SageMath 10.3",
   "language": "sage",
   "name": "sagemath-10.3"
  },
  "language_info": {
   "codemirror_mode": {
    "name": "ipython",
    "version": 3
   },
   "file_extension": ".py",
   "mimetype": "text/x-python",
   "name": "python",
   "nbconvert_exporter": "python",
   "pygments_lexer": "ipython3",
   "version": "3.11.8"
  }
 },
 "nbformat": 4,
 "nbformat_minor": 5
}
