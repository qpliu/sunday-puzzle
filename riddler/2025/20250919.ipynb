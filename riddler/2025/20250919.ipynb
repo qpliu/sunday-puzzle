{
 "cells": [
  {
   "cell_type": "markdown",
   "id": "9ea190d5-7ff3-40d4-8b4f-e0005cc553fe",
   "metadata": {},
   "source": [
    "[2025-09-19 Fiddler](https://thefiddler.substack.com/p/can-your-team-self-organize)\n",
    "===================="
   ]
  },
  {
   "cell_type": "markdown",
   "id": "0a905a01-e3cb-4dc9-ae4c-093aabf319bf",
   "metadata": {},
   "source": [
    "Fiddler\n",
    "-------\n",
    "With 4, we can enumerate every possibility.\n",
    "\n",
    "1. 1234 - 4\n",
    "2. 1243 - 3\n",
    "3. 1324 - 3\n",
    "4. 1342 - 3\n",
    "5. 1423 - 3\n",
    "6. 1432 - 2\n",
    "7. 2134 - 3\n",
    "8. 2143 - 2\n",
    "9. 2314 - 3\n",
    "10. 2341 - 3\n",
    "11. 2413 - 2\n",
    "12. 2431 - 2\n",
    "13. 3124 - 3\n",
    "14. 3142 - 2\n",
    "15. 3214 - 2\n",
    "16. 3241 - 2\n",
    "17. 3412 - 2\n",
    "18. 3421 - 2\n",
    "19. 4123 - 3\n",
    "20. 4132 - 2\n",
    "21. 4213 - 2\n",
    "22. 4231 - 2\n",
    "23. 4312 - 2\n",
    "24. 4321 - 1\n",
    "\n",
    "And the average is $(4 + 9\\cdot3 + 13\\cdot2 + 1)/4! = 58/24 \\approx 2.4167$."
   ]
  },
  {
   "cell_type": "markdown",
   "id": "3da6d32a-540d-4203-9209-a49d345743cd",
   "metadata": {},
   "source": [
    "Extra credit\n",
    "------------\n",
    "With 2,\n",
    "\n",
    "1. 12 - 2\n",
    "2. 21 - 1\n",
    "\n",
    "for $3/2!$.\n",
    "\n",
    "With 3,\n",
    "\n",
    "1. 123 - 3\n",
    "2. 132 - 2\n",
    "3. 213 - 2\n",
    "4. 231 - 2\n",
    "5. 312 - 2\n",
    "6. 321 - 1\n",
    "\n",
    "for $12/3!$.\n",
    "\n",
    "From 12 - 2, we can make a12, 1a2, 12a, where a is 0.5, 1.5, 2.5, so a12 can be 123 - 3, 213 - 2, 312 - 2,\n",
    "1a2 can be 213 - 2, 123 - 3, 132 - 2, and 12a can be 231 - 2, 132 - 2, 123 - 3.  There must be some\n",
    "way to combine the overlaps.  Abandoning this line of thought...\n",
    "\n",
    "Looking up 1,3,12,58 in [OEIS](https://oeis.org), yields\n",
    "[A003316, sum of lengths of longest increasing subsequences of all permutations of n elements](https://oeis.org/A003316),\n",
    "which is pretty much what we're looking for.\n",
    "\n",
    "And the answer is $15730705/10! = 3146141/725760 \\approx 4.33$."
   ]
  },
  {
   "cell_type": "code",
   "execution_count": 1,
   "id": "f72aa8ef-81ef-4b92-b955-b0cea25159f9",
   "metadata": {},
   "outputs": [
    {
     "data": {
      "text/plain": [
       "(3146141/725760, 4.33496059303351)"
      ]
     },
     "execution_count": 1,
     "metadata": {},
     "output_type": "execute_result"
    }
   ],
   "source": [
    "15730705/factorial(10), numerical_approx(15730705/factorial(10))"
   ]
  },
  {
   "cell_type": "markdown",
   "id": "e62affca-dd80-445e-8a94-36a77d804d40",
   "metadata": {},
   "source": [
    "Revisiting\n",
    "----------\n",
    "When going from $n$ to $n+1$, one way to enumerate every permutation of $n+1$\n",
    "is to insert a new lowest number into each of $n+1$ positions in each permutation\n",
    "of $n$.  Another way is to add the new $i$-th largest to the beginning of\n",
    "each permutation, where $i \\in 1 \\ldots n+1$, which is what I think I'll be\n",
    "doing.\n",
    "\n",
    "Given a permutation of $1\\ldots n$, we can reduce that to $L_i$, where $i \\in 1\\ldots n$\n",
    "and $L_i$ is the longest increasing subsequence starting with $i$ in the permutation.\n",
    "Multiple permutations can be reduced to the same $L_i$, which I am counting on to rein\n",
    "in the combinatorial explosion.  Finding $\\max L_i$ for each permutation and summing them\n",
    "should result the $n$-th term of A003316.\n",
    "\n",
    "Given a $L_{n,i}$ for a permutation of $n$, we can generate $L_{n+1,i}$ for $n+1$\n",
    "permutations of $n+1$.  Doing so for every permutation of $n$ will give $L_{n+1,i}$\n",
    "for every permutation of $n+1$.\n",
    "\n",
    "So, given a permutation of $n$ with $L_{n,i}$, and generating a permutation of $n+1$\n",
    "by adding a new $k$-th smallest element at the beginning, gives\n",
    "\n",
    "$$ L_{n+1,i} =\n",
    "    \\begin{cases}\n",
    "        L_{n,i}, & i < k \\\\\n",
    "        L_{n,i-1}, & i > k \\\\\n",
    "        1 + \\max L_{n,j}, & i = k, \\text{where } j \\in k \\dots n, \\\\\n",
    "        1, & i = k, \\text{when } k = n+1 \\\\\n",
    "    \\end{cases}\n",
    "$$"
   ]
  },
  {
   "cell_type": "code",
   "execution_count": 2,
   "id": "1f89522d-fb1c-4ad2-b5b0-b22f38bbe865",
   "metadata": {},
   "outputs": [],
   "source": [
    "def n_plus_1(Ls):\n",
    "    next_Ls = dict()\n",
    "    for (L,count) in Ls.items():\n",
    "        for k in range(len(L)+1):\n",
    "            Lk = 1 + max([0]+list(L)[k:])\n",
    "            next_L = tuple([L[i] if i < k else L[i-1] if i > k else Lk for i in range(len(L)+1)])\n",
    "            if next_L in next_Ls:\n",
    "                next_Ls[next_L] += count\n",
    "            else:\n",
    "                next_Ls[next_L] = count\n",
    "    return next_Ls\n",
    "\n",
    "def a3316(Ls):\n",
    "    total = 0\n",
    "    for (L,count) in Ls.items():\n",
    "        total += count*max(L)\n",
    "    return total"
   ]
  },
  {
   "cell_type": "code",
   "execution_count": 3,
   "id": "97146858-bd54-4480-a2c1-80ebe8c1b318",
   "metadata": {},
   "outputs": [
    {
     "name": "stdout",
     "output_type": "stream",
     "text": [
      "1/1! ≈ 1.00000000000000\n",
      "3/2! ≈ 1.50000000000000\n",
      "12/3! ≈ 2.00000000000000\n",
      "58/4! ≈ 2.41666666666667\n",
      "335/5! ≈ 2.79166666666667\n",
      "2261/6! ≈ 3.14027777777778\n",
      "17465/7! ≈ 3.46527777777778\n",
      "152020/8! ≈ 3.77033730158730\n",
      "1473057/9! ≈ 4.05935019841270\n",
      "15730705/10! ≈ 4.33496059303351\n",
      "183571817/11! ≈ 4.59886105599647\n"
     ]
    }
   ],
   "source": [
    "for i in [1..11]:\n",
    "    L = {(1,):1} if i == 1 else n_plus_1(L)\n",
    "    print(f\"{a3316(L)}/{i}! ≈ {numerical_approx(a3316(L)/factorial(i))}\")"
   ]
  },
  {
   "cell_type": "markdown",
   "id": "af4c0024-c1e8-486d-8fcf-3354c398cfdf",
   "metadata": {},
   "source": [
    "The code becomes much too slow for $n > 10$."
   ]
  },
  {
   "cell_type": "markdown",
   "id": "12d55380-8f6c-4d33-a644-9925338f27ab",
   "metadata": {},
   "source": [
    "### Numerical simulation\n",
    "[Numerical simulations](20250919.go) agree\n",
    "\n",
    "    $ go run 20250919.go\n",
    "    1: 1.000000\n",
    "    2: 1.499885\n",
    "    3: 2.000064\n",
    "    4: 2.416557\n",
    "    5: 2.791281\n",
    "    6: 3.140167\n",
    "    7: 3.465389\n",
    "    8: 3.769798\n",
    "    9: 4.059213\n",
    "    10: 4.335328\n",
    "    11: 4.599312"
   ]
  }
 ],
 "metadata": {
  "kernelspec": {
   "display_name": "SageMath 10.3",
   "language": "sage",
   "name": "sagemath-10.3"
  },
  "language_info": {
   "codemirror_mode": {
    "name": "ipython",
    "version": 3
   },
   "file_extension": ".py",
   "mimetype": "text/x-python",
   "name": "python",
   "nbconvert_exporter": "python",
   "pygments_lexer": "ipython3",
   "version": "3.11.8"
  }
 },
 "nbformat": 4,
 "nbformat_minor": 5
}
