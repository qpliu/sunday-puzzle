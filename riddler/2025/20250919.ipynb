{
 "cells": [
  {
   "cell_type": "markdown",
   "id": "9ea190d5-7ff3-40d4-8b4f-e0005cc553fe",
   "metadata": {},
   "source": [
    "[2025-09-19 Fiddler](https://thefiddler.substack.com/p/can-your-team-self-organize)\n",
    "===================="
   ]
  },
  {
   "cell_type": "markdown",
   "id": "0a905a01-e3cb-4dc9-ae4c-093aabf319bf",
   "metadata": {},
   "source": [
    "Fiddler\n",
    "-------\n",
    "With 4, we can enumerate every possibility.\n",
    "\n",
    "1. 1234 - 4\n",
    "2. 1243 - 3\n",
    "3. 1324 - 3\n",
    "4. 1342 - 3\n",
    "5. 1423 - 3\n",
    "6. 1432 - 2\n",
    "7. 2134 - 3\n",
    "8. 2143 - 2\n",
    "9. 2314 - 3\n",
    "10. 2341 - 3\n",
    "11. 2413 - 2\n",
    "12. 2431 - 2\n",
    "13. 3124 - 3\n",
    "14. 3142 - 2\n",
    "15. 3214 - 2\n",
    "16. 3241 - 2\n",
    "17. 3412 - 2\n",
    "18. 3421 - 2\n",
    "19. 4123 - 3\n",
    "20. 4132 - 2\n",
    "21. 4213 - 2\n",
    "22. 4231 - 2\n",
    "23. 4312 - 2\n",
    "24. 4321 - 1\n",
    "\n",
    "And the average is $(4 + 9\\cdot3 + 13\\cdot2 + 1)/4! = 58/24 \\approx 2.4167$."
   ]
  },
  {
   "cell_type": "markdown",
   "id": "3da6d32a-540d-4203-9209-a49d345743cd",
   "metadata": {},
   "source": [
    "Extra credit\n",
    "------------\n",
    "With 2,\n",
    "\n",
    "1. 12 - 2\n",
    "2. 21 - 1\n",
    "\n",
    "for $3/2!$.\n",
    "\n",
    "With 3,\n",
    "\n",
    "1. 123 - 3\n",
    "2. 132 - 2\n",
    "3. 213 - 2\n",
    "4. 231 - 2\n",
    "5. 312 - 2\n",
    "6. 321 - 1\n",
    "\n",
    "for $12/3!$.\n",
    "\n",
    "From 12 - 2, we can make a12, 1a2, 12a, where a is 0.5, 1.5, 2.5, so a12 can be 123 - 3, 213 - 2, 312 - 2,\n",
    "1a2 can be 213 - 2, 123 - 3, 132 - 2, and 12a can be 231 - 2, 132 - 2, 123 - 3.  There must be some\n",
    "way to combine the overlaps.  Abandoning this line of thought...\n",
    "\n",
    "Looking up 1,3,12,58 in [OEIS](https://oeis.org), yields\n",
    "[A003316, sum of lengths of longest increasing subsequences of all permutations of n elements](https://oeis.org/A003316),\n",
    "which is pretty much what we're looking for.\n",
    "\n",
    "And the answer is $15730705/10! = 3146141/725760 \\approx 4.33$."
   ]
  },
  {
   "cell_type": "code",
   "execution_count": 1,
   "id": "f72aa8ef-81ef-4b92-b955-b0cea25159f9",
   "metadata": {},
   "outputs": [
    {
     "data": {
      "text/plain": [
       "(3146141/725760, 4.33496059303351)"
      ]
     },
     "execution_count": 1,
     "metadata": {},
     "output_type": "execute_result"
    }
   ],
   "source": [
    "15730705/factorial(10), numerical_approx(15730705/factorial(10))"
   ]
  },
  {
   "cell_type": "markdown",
   "id": "12d55380-8f6c-4d33-a644-9925338f27ab",
   "metadata": {},
   "source": [
    "### Numerical simulation\n",
    "[Numerical simulations](20250919.go) agree\n",
    "\n",
    "    $ go run 20250919.go\n",
    "    19330511/8000000=2.416314\n",
    "    34683443/8000000=4.335430"
   ]
  }
 ],
 "metadata": {
  "kernelspec": {
   "display_name": "SageMath 10.3",
   "language": "sage",
   "name": "sagemath-10.3"
  },
  "language_info": {
   "codemirror_mode": {
    "name": "ipython",
    "version": 3
   },
   "file_extension": ".py",
   "mimetype": "text/x-python",
   "name": "python",
   "nbconvert_exporter": "python",
   "pygments_lexer": "ipython3",
   "version": "3.11.8"
  }
 },
 "nbformat": 4,
 "nbformat_minor": 5
}
