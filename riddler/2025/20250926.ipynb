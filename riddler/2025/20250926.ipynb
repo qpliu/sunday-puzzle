{
 "cells": [
  {
   "cell_type": "markdown",
   "id": "373e13f4-2c91-4b22-b567-c480347981c0",
   "metadata": {},
   "source": [
    "[2025-09-26 Fiddler](https://thefiddler.substack.com/p/can-you-take-a-risk)\n",
    "===================="
   ]
  },
  {
   "cell_type": "markdown",
   "id": "e8d84820-d6ee-46ae-97fa-33b897bbd2f2",
   "metadata": {},
   "source": [
    "Fiddler\n",
    "-------\n",
    "The second card has 28/41 probability of being different from the first card\n",
    "and 13/41 probability of being the same as the first card.\n",
    "\n",
    "When the second card is different, the third card has 14/40 probability that\n",
    "the cards can be exchanged.\n",
    "\n",
    "When the second card is the same, the third card has 12/40 probability that\n",
    "the cards can be exchanged.\n",
    "\n",
    "Adding the probabilities up, $28/41\\cdot14/40 + 13/41\\cdot12/40 = 137/410 \\approx 0.334$."
   ]
  },
  {
   "cell_type": "markdown",
   "id": "5b7580e4-f83d-40f3-8be3-88539aba1be5",
   "metadata": {},
   "source": [
    "Extra credit\n",
    "------------\n",
    "If any of the first three cards is wild, the first three can be exchanged.\n",
    "\n",
    "Looking at the tree of possibilities,\n",
    "\n",
    "* First card is wild: can exchange after third card: $3\\cdot2/44$\n",
    "* First card is not wild: $42/44$\n",
    "  * Second card is wild: can exchange after third card: $3\\cdot42/44\\cdot2/43$\n",
    "  * Second card is same as first: $42/44\\cdot13/43$\n",
    "    * Third card is wild: can exchange: $3\\cdot42/44\\cdot13/43\\cdot2/42$\n",
    "    * Third card is same as first: can exchange: $3\\cdot42/44\\cdot13/43\\cdot12/42$\n",
    "    * Third card is different than first: $42/44\\cdot13/43\\cdot28/42$\n",
    "      * Fourth card is wild: can exchange $4\\cdot42/44\\cdot13/43\\cdot28/42\\cdot2/41$\n",
    "      * Fourth card is same as first: can exchange: $4\\cdot42/44\\cdot13/43\\cdot28/42\\cdot12/41$\n",
    "      * Fourth card is same as third: can exchange after fifth card: $5\\cdot42/44\\cdot13/43\\cdot28/42\\cdot13/41$\n",
    "      * Fourth card is different than third: can exchange $4\\cdot42/44\\cdot13/43\\cdot14/42\\cdot14/41$\n",
    "  * Second card is different than first: $42/44\\cdot28/43$\n",
    "    * Third card is wild: can exchange: $3\\cdot42/44\\cdot28/43\\cdot2/42$\n",
    "    * Third card is same as first or second: $42/44\\cdot28/43\\cdot26/42$\n",
    "      * Fourth card is wild or different: can exchange: $4\\cdot42/44\\cdot28/43\\cdot26/42\\cdot16/41$\n",
    "      * Fourth card makes 3 of a kind: can exchange: $4\\cdot42/44\\cdot28/43\\cdot26/42\\cdot12/41$\n",
    "      * Fourth card makes 2 pair: can exchange after fifth card: $5\\cdot42/44\\cdot28/43\\cdot26/42\\cdot13/41$\n",
    "    * Third card is different: can exchange: $3\\cdot42/44\\cdot28/43\\cdot14/42$\n",
    "\n",
    "Adding up gives $72921/19393 \\approx 3.760$."
   ]
  },
  {
   "cell_type": "code",
   "execution_count": 1,
   "id": "7ba1a1aa-c8cc-4b3d-ada1-8bc8c588bcc8",
   "metadata": {},
   "outputs": [
    {
     "data": {
      "text/plain": [
       "(72921/19393, 3.76017119579230)"
      ]
     },
     "execution_count": 1,
     "metadata": {},
     "output_type": "execute_result"
    }
   ],
   "source": [
    "hw_3 = 3*2/44\n",
    "h1 = 42/44\n",
    "h1w_3 = 3*h1*2/43\n",
    "h11 = h1*13/43\n",
    "h12 = h1*28/43\n",
    "h11w_3 = 3*h11*2/42\n",
    "h111_3 = 3*h11*12/42\n",
    "h112 = h11*28/42\n",
    "h12w_3 = 3*h12*2/42\n",
    "h121 = h12*13/42\n",
    "h122 = h12*13/42\n",
    "h123_3 = 3*h12*14/42\n",
    "h112w_4 = 4*h112*2/41\n",
    "h1121_4 = 4*h112*12/41\n",
    "h1122_5 = 5*h112*13/41\n",
    "h1123_4 = 4*h112*14/41\n",
    "h121w_4 = 4*h121*2/41\n",
    "h1211_4 = 4*h121*12/41\n",
    "h1212_5 = 5*h121*13/41\n",
    "h1213_4 = 4*h121*14/41\n",
    "h122w_4 = 4*h122*2/41\n",
    "h1221_5 = 5*h122*13/41\n",
    "h1222_4 = 4*h122*12/41\n",
    "h1223_4 = 4*h122*14/41\n",
    "\n",
    "a = hw_3 + h1w_3 + h11w_3 + h111_3 + h12w_3 + h123_3 + h112w_4 + h1121_4 + h1122_5 + h1123_4 + \\\n",
    "    h121w_4 + h1211_4 + h1212_5 + h1213_4 + h122w_4 + h1221_5 + h1222_4 + h1223_4\n",
    "a, numerical_approx(a)"
   ]
  },
  {
   "cell_type": "markdown",
   "id": "ab3121fa-62e7-4524-8ad9-7c500ae5310f",
   "metadata": {},
   "source": [
    "Numerical simulations\n",
    "---------------------\n",
    "[Numerical simulations](20250926.go) agree:\n",
    "\n",
    "    $ go run 20250926.go\n",
    "    0.334031\n",
    "    3.760103"
   ]
  }
 ],
 "metadata": {
  "kernelspec": {
   "display_name": "SageMath 10.3",
   "language": "sage",
   "name": "sagemath-10.3"
  },
  "language_info": {
   "codemirror_mode": {
    "name": "ipython",
    "version": 3
   },
   "file_extension": ".py",
   "mimetype": "text/x-python",
   "name": "python",
   "nbconvert_exporter": "python",
   "pygments_lexer": "ipython3",
   "version": "3.11.8"
  }
 },
 "nbformat": 4,
 "nbformat_minor": 5
}
